{
 "cells": [
  {
   "cell_type": "code",
   "execution_count": 1,
   "id": "675324d4",
   "metadata": {},
   "outputs": [
    {
     "name": "stdout",
     "output_type": "stream",
     "text": [
      "Academic license - for non-commercial use only - expires 2022-09-11\n"
     ]
    },
    {
     "data": {
      "text/plain": [
       "Gurobi.Env(Ptr{Nothing} @0x00007fedf50cca00, false, 0)"
      ]
     },
     "execution_count": 1,
     "metadata": {},
     "output_type": "execute_result"
    }
   ],
   "source": [
    "using CSV, DataFrames, Statistics, StatsBase, Distributions, JuMP, Gurobi, LinearAlgebra\n",
    "\n",
    "\n",
    "#include(\"eval2.jl\")\n",
    "const GRB_ENV = Gurobi.Env()"
   ]
  },
  {
   "cell_type": "code",
   "execution_count": 13,
   "id": "7b8c4f25",
   "metadata": {},
   "outputs": [
    {
     "data": {
      "text/plain": [
       "prepare_data_from_X (generic function with 1 method)"
      ]
     },
     "execution_count": 13,
     "metadata": {},
     "output_type": "execute_result"
    }
   ],
   "source": [
    "import Pkg\n",
    "\n",
    "include(\"src/algos/multi_armed_bandits.jl\")\n",
    "include(\"src/algos/passive_agressive.jl\")\n",
    "include(\"src/algos\")\n",
    "include(\"src/algos/OLS.jl\")\n",
    "include(\"src/algos/adaptive_linear_decision_rule.jl\")\n",
    "include(\"src/metrics.jl\")\n",
    "include(\"src/utils.jl\")"
   ]
  },
  {
   "cell_type": "code",
   "execution_count": 295,
   "id": "dd35ff9d",
   "metadata": {},
   "outputs": [
    {
     "data": {
      "text/plain": [
       "18×23 Matrix{Float64}:\n",
       "  0.0  4230.0  4402.82  4627.23  …  4271.47  4266.0   4191.13  4430.88\n",
       "  1.0  4230.0  4402.82  4633.89     4244.55  4187.79  4182.57  4430.88\n",
       "  2.0  4230.0  4402.82  4640.55     4738.77  4798.35  4659.37  4430.88\n",
       "  3.0  4230.0  4402.82  4647.21     4863.17  4837.15  4685.62  4430.88\n",
       "  4.0  4230.0  4402.82  4653.87     4373.34  4235.88  4149.13  4430.88\n",
       "  5.0  4230.0  4402.82  4660.53  …  4359.48  4551.98  4408.62  4430.88\n",
       "  6.0  4230.0  4402.82  4667.19     4381.41  4390.0   4416.69  4430.88\n",
       "  7.0  4230.0  4402.82  4673.85     4527.84  4533.21  4427.88  4430.88\n",
       "  8.0  4230.0  4402.82  4680.51     5066.01  4811.54  4952.58  4430.88\n",
       "  9.0  4230.0  4402.82  4687.17     5097.58  5297.14  5001.3   4430.88\n",
       " 10.0  4230.0  4402.82  4693.83  …  4219.33  4112.09  4172.12  4430.88\n",
       " 11.0  4230.0  4402.82  4700.49     4469.4   4539.43  4424.49  4430.88\n",
       " 12.0  4230.0  4402.82  4707.15     4271.41  4299.88  4235.28  4430.88\n",
       " 13.0  4230.0  4402.82  4713.81     4244.54  4220.88  4226.56  4430.88\n",
       " 14.0  4230.0  4402.82  4720.47     4738.77  4836.07  4708.2   4430.88\n",
       " 15.0  4230.0  4402.82  4727.13  …  4863.17  4874.98  4734.45  4430.88\n",
       " 16.0  4230.0  4402.82  4733.79     4373.34  4268.84  4192.04  4430.88\n",
       " 17.0  4230.0  4402.82  4740.45     4359.48  4587.23  4453.79  4430.88"
      ]
     },
     "execution_count": 295,
     "metadata": {},
     "output_type": "execute_result"
    }
   ],
   "source": [
    "id = \"1494\"\n",
    "X_test_adaptive = CSV.read(\"data/data_M3F/data/M3F_data_\"*id*\".csv\", DataFrame)\n",
    "y_test = CSV.read(\"data/data_M3F/M3F_targets/M3F_target_\"*id*\".csv\", DataFrame)\n",
    "y_test = y_test[!, \"target\"]\n",
    "X = Matrix(X_test_adaptive)"
   ]
  },
  {
   "cell_type": "code",
   "execution_count": 296,
   "id": "e2308877",
   "metadata": {},
   "outputs": [
    {
     "name": "stdout",
     "output_type": "stream",
     "text": [
      "Mean target: 6402.222222222223 Std target: 323.9512994949155\n"
     ]
    }
   ],
   "source": [
    "n, p = size(X)\n",
    "\n",
    "#y_safi = (y .- mean(y[1:floor(Int, n/2),:], dims =1))./ std(y[1:floor(Int, n/2),:], dims=1);\n",
    "split_index = floor(Int,n*0.5)\n",
    "\n",
    "#X = (X .- mean(X[1:floor(Int, split_index),:], dims =1))./ std(X[1:floor(Int, split_index),:], dims=1)#[!,1]\n",
    "y = y_test[:, 1];\n",
    "mean_y = mean(y[1:floor(Int, split_index),:])\n",
    "std_y = std(y[1:floor(Int, split_index),:])\n",
    "\n",
    "X = (X .- mean_y)./std_y;\n",
    "y = (y .- mean_y)./std_y;\n",
    "println(\"Mean target: \", mean_y, \" Std target: \", std_y)"
   ]
  },
  {
   "cell_type": "markdown",
   "id": "3d773517",
   "metadata": {},
   "source": [
    "## Testing Linear Adaptive Rule"
   ]
  },
  {
   "cell_type": "code",
   "execution_count": 297,
   "id": "75ea80dc",
   "metadata": {},
   "outputs": [
    {
     "data": {
      "text/html": [
       "<table class=\"data-frame\"><thead><tr><th></th><th>Column1</th><th>NAIVE2</th><th>SINGLE</th><th>HOLT</th><th>DAMPEN</th><th>WINTER</th><th>COMB S-H-D</th><th>B-J auto</th><th>AutoBox1</th></tr><tr><th></th><th>Int64</th><th>Float64</th><th>Float64</th><th>Float64</th><th>Float64</th><th>Float64</th><th>Float64</th><th>Float64</th><th>Float64</th></tr></thead><tbody><p>18 rows × 23 columns (omitted printing of 14 columns)</p><tr><th>1</th><td>0</td><td>4230.0</td><td>4402.82</td><td>4627.23</td><td>4517.2</td><td>4627.23</td><td>4515.75</td><td>4245.5</td><td>4317.84</td></tr><tr><th>2</th><td>1</td><td>4230.0</td><td>4402.82</td><td>4633.89</td><td>4516.58</td><td>4633.89</td><td>4517.76</td><td>4193.19</td><td>4317.84</td></tr><tr><th>3</th><td>2</td><td>4230.0</td><td>4402.82</td><td>4640.55</td><td>4516.48</td><td>4640.55</td><td>4519.95</td><td>4623.33</td><td>4860.0</td></tr><tr><th>4</th><td>3</td><td>4230.0</td><td>4402.82</td><td>4647.21</td><td>4516.46</td><td>4647.21</td><td>4522.16</td><td>4402.45</td><td>4317.84</td></tr><tr><th>5</th><td>4</td><td>4230.0</td><td>4402.82</td><td>4653.87</td><td>4516.46</td><td>4653.87</td><td>4524.38</td><td>4146.69</td><td>4317.84</td></tr><tr><th>6</th><td>5</td><td>4230.0</td><td>4402.82</td><td>4660.53</td><td>4516.46</td><td>4660.53</td><td>4526.6</td><td>4547.77</td><td>4317.84</td></tr><tr><th>7</th><td>6</td><td>4230.0</td><td>4402.82</td><td>4667.19</td><td>4516.46</td><td>4667.19</td><td>4528.82</td><td>4536.14</td><td>4317.84</td></tr><tr><th>8</th><td>7</td><td>4230.0</td><td>4402.82</td><td>4673.85</td><td>4516.46</td><td>4673.85</td><td>4531.04</td><td>4274.57</td><td>4317.84</td></tr><tr><th>9</th><td>8</td><td>4230.0</td><td>4402.82</td><td>4680.51</td><td>4516.46</td><td>4680.51</td><td>4533.26</td><td>4797.71</td><td>5330.0</td></tr><tr><th>10</th><td>9</td><td>4230.0</td><td>4402.82</td><td>4687.17</td><td>4516.46</td><td>4687.17</td><td>4535.48</td><td>5274.35</td><td>5186.67</td></tr><tr><th>11</th><td>10</td><td>4230.0</td><td>4402.82</td><td>4693.83</td><td>4516.46</td><td>4693.83</td><td>4537.7</td><td>4332.7</td><td>4317.84</td></tr><tr><th>12</th><td>11</td><td>4230.0</td><td>4402.82</td><td>4700.49</td><td>4516.46</td><td>4700.49</td><td>4539.92</td><td>4326.88</td><td>4317.84</td></tr><tr><th>13</th><td>12</td><td>4230.0</td><td>4402.82</td><td>4707.15</td><td>4516.46</td><td>4707.15</td><td>4542.14</td><td>4335.89</td><td>4317.84</td></tr><tr><th>14</th><td>13</td><td>4230.0</td><td>4402.82</td><td>4713.81</td><td>4516.46</td><td>4713.81</td><td>4544.36</td><td>4305.49</td><td>4317.84</td></tr><tr><th>15</th><td>14</td><td>4230.0</td><td>4402.82</td><td>4720.47</td><td>4516.46</td><td>4720.47</td><td>4546.58</td><td>4555.51</td><td>4860.0</td></tr><tr><th>16</th><td>15</td><td>4230.0</td><td>4402.82</td><td>4727.13</td><td>4516.46</td><td>4727.13</td><td>4548.8</td><td>4427.12</td><td>4317.84</td></tr><tr><th>17</th><td>16</td><td>4230.0</td><td>4402.82</td><td>4733.79</td><td>4516.46</td><td>4733.79</td><td>4551.02</td><td>4278.46</td><td>4317.84</td></tr><tr><th>18</th><td>17</td><td>4230.0</td><td>4402.82</td><td>4740.45</td><td>4516.46</td><td>4740.45</td><td>4553.24</td><td>4511.59</td><td>4317.84</td></tr></tbody></table>"
      ],
      "text/latex": [
       "\\begin{tabular}{r|cccccccccc}\n",
       "\t& Column1 & NAIVE2 & SINGLE & HOLT & DAMPEN & WINTER & COMB S-H-D & B-J auto & AutoBox1 & \\\\\n",
       "\t\\hline\n",
       "\t& Int64 & Float64 & Float64 & Float64 & Float64 & Float64 & Float64 & Float64 & Float64 & \\\\\n",
       "\t\\hline\n",
       "\t1 & 0 & 4230.0 & 4402.82 & 4627.23 & 4517.2 & 4627.23 & 4515.75 & 4245.5 & 4317.84 & $\\dots$ \\\\\n",
       "\t2 & 1 & 4230.0 & 4402.82 & 4633.89 & 4516.58 & 4633.89 & 4517.76 & 4193.19 & 4317.84 & $\\dots$ \\\\\n",
       "\t3 & 2 & 4230.0 & 4402.82 & 4640.55 & 4516.48 & 4640.55 & 4519.95 & 4623.33 & 4860.0 & $\\dots$ \\\\\n",
       "\t4 & 3 & 4230.0 & 4402.82 & 4647.21 & 4516.46 & 4647.21 & 4522.16 & 4402.45 & 4317.84 & $\\dots$ \\\\\n",
       "\t5 & 4 & 4230.0 & 4402.82 & 4653.87 & 4516.46 & 4653.87 & 4524.38 & 4146.69 & 4317.84 & $\\dots$ \\\\\n",
       "\t6 & 5 & 4230.0 & 4402.82 & 4660.53 & 4516.46 & 4660.53 & 4526.6 & 4547.77 & 4317.84 & $\\dots$ \\\\\n",
       "\t7 & 6 & 4230.0 & 4402.82 & 4667.19 & 4516.46 & 4667.19 & 4528.82 & 4536.14 & 4317.84 & $\\dots$ \\\\\n",
       "\t8 & 7 & 4230.0 & 4402.82 & 4673.85 & 4516.46 & 4673.85 & 4531.04 & 4274.57 & 4317.84 & $\\dots$ \\\\\n",
       "\t9 & 8 & 4230.0 & 4402.82 & 4680.51 & 4516.46 & 4680.51 & 4533.26 & 4797.71 & 5330.0 & $\\dots$ \\\\\n",
       "\t10 & 9 & 4230.0 & 4402.82 & 4687.17 & 4516.46 & 4687.17 & 4535.48 & 5274.35 & 5186.67 & $\\dots$ \\\\\n",
       "\t11 & 10 & 4230.0 & 4402.82 & 4693.83 & 4516.46 & 4693.83 & 4537.7 & 4332.7 & 4317.84 & $\\dots$ \\\\\n",
       "\t12 & 11 & 4230.0 & 4402.82 & 4700.49 & 4516.46 & 4700.49 & 4539.92 & 4326.88 & 4317.84 & $\\dots$ \\\\\n",
       "\t13 & 12 & 4230.0 & 4402.82 & 4707.15 & 4516.46 & 4707.15 & 4542.14 & 4335.89 & 4317.84 & $\\dots$ \\\\\n",
       "\t14 & 13 & 4230.0 & 4402.82 & 4713.81 & 4516.46 & 4713.81 & 4544.36 & 4305.49 & 4317.84 & $\\dots$ \\\\\n",
       "\t15 & 14 & 4230.0 & 4402.82 & 4720.47 & 4516.46 & 4720.47 & 4546.58 & 4555.51 & 4860.0 & $\\dots$ \\\\\n",
       "\t16 & 15 & 4230.0 & 4402.82 & 4727.13 & 4516.46 & 4727.13 & 4548.8 & 4427.12 & 4317.84 & $\\dots$ \\\\\n",
       "\t17 & 16 & 4230.0 & 4402.82 & 4733.79 & 4516.46 & 4733.79 & 4551.02 & 4278.46 & 4317.84 & $\\dots$ \\\\\n",
       "\t18 & 17 & 4230.0 & 4402.82 & 4740.45 & 4516.46 & 4740.45 & 4553.24 & 4511.59 & 4317.84 & $\\dots$ \\\\\n",
       "\\end{tabular}\n"
      ],
      "text/plain": [
       "\u001b[1m18×23 DataFrame\u001b[0m\n",
       "\u001b[1m Row \u001b[0m│\u001b[1m Column1 \u001b[0m\u001b[1m NAIVE2  \u001b[0m\u001b[1m SINGLE  \u001b[0m\u001b[1m HOLT    \u001b[0m\u001b[1m DAMPEN  \u001b[0m\u001b[1m WINTER  \u001b[0m\u001b[1m COMB S-H-D \u001b[0m\u001b[1m B-J a\u001b[0m ⋯\n",
       "\u001b[1m     \u001b[0m│\u001b[90m Int64   \u001b[0m\u001b[90m Float64 \u001b[0m\u001b[90m Float64 \u001b[0m\u001b[90m Float64 \u001b[0m\u001b[90m Float64 \u001b[0m\u001b[90m Float64 \u001b[0m\u001b[90m Float64    \u001b[0m\u001b[90m Float\u001b[0m ⋯\n",
       "─────┼──────────────────────────────────────────────────────────────────────────\n",
       "   1 │       0   4230.0  4402.82  4627.23  4517.2   4627.23     4515.75   4245 ⋯\n",
       "   2 │       1   4230.0  4402.82  4633.89  4516.58  4633.89     4517.76   4193\n",
       "   3 │       2   4230.0  4402.82  4640.55  4516.48  4640.55     4519.95   4623\n",
       "   4 │       3   4230.0  4402.82  4647.21  4516.46  4647.21     4522.16   4402\n",
       "   5 │       4   4230.0  4402.82  4653.87  4516.46  4653.87     4524.38   4146 ⋯\n",
       "   6 │       5   4230.0  4402.82  4660.53  4516.46  4660.53     4526.6    4547\n",
       "   7 │       6   4230.0  4402.82  4667.19  4516.46  4667.19     4528.82   4536\n",
       "   8 │       7   4230.0  4402.82  4673.85  4516.46  4673.85     4531.04   4274\n",
       "   9 │       8   4230.0  4402.82  4680.51  4516.46  4680.51     4533.26   4797 ⋯\n",
       "  10 │       9   4230.0  4402.82  4687.17  4516.46  4687.17     4535.48   5274\n",
       "  11 │      10   4230.0  4402.82  4693.83  4516.46  4693.83     4537.7    4332\n",
       "  12 │      11   4230.0  4402.82  4700.49  4516.46  4700.49     4539.92   4326\n",
       "  13 │      12   4230.0  4402.82  4707.15  4516.46  4707.15     4542.14   4335 ⋯\n",
       "  14 │      13   4230.0  4402.82  4713.81  4516.46  4713.81     4544.36   4305\n",
       "  15 │      14   4230.0  4402.82  4720.47  4516.46  4720.47     4546.58   4555\n",
       "  16 │      15   4230.0  4402.82  4727.13  4516.46  4727.13     4548.8    4427\n",
       "  17 │      16   4230.0  4402.82  4733.79  4516.46  4733.79     4551.02   4278 ⋯\n",
       "  18 │      17   4230.0  4402.82  4740.45  4516.46  4740.45     4553.24   4511\n",
       "\u001b[36m                                                              16 columns omitted\u001b[0m"
      ]
     },
     "execution_count": 297,
     "metadata": {},
     "output_type": "execute_result"
    }
   ],
   "source": [
    "X_test_adaptive"
   ]
  },
  {
   "cell_type": "code",
   "execution_count": 298,
   "id": "24c12035",
   "metadata": {},
   "outputs": [
    {
     "data": {
      "text/plain": [
       "18-element Vector{Float64}:\n",
       " 6400.0\n",
       " 6580.0\n",
       " 6120.0\n",
       " 6580.0\n",
       " 6040.0\n",
       " 6480.0\n",
       " 5880.0\n",
       " 6860.0\n",
       " 6680.0\n",
       " 7380.0\n",
       " 6380.0\n",
       " 6540.0\n",
       " 5440.0\n",
       " 6400.0\n",
       " 5880.0\n",
       " 6380.0\n",
       " 6320.0\n",
       " 6140.0"
      ]
     },
     "execution_count": 298,
     "metadata": {},
     "output_type": "execute_result"
    }
   ],
   "source": [
    "y_test"
   ]
  },
  {
   "cell_type": "code",
   "execution_count": 299,
   "id": "2249953f",
   "metadata": {},
   "outputs": [
    {
     "data": {
      "text/plain": [
       "true"
      ]
     },
     "execution_count": 299,
     "metadata": {},
     "output_type": "execute_result"
    }
   ],
   "source": [
    "split_ = 0.5\n",
    "past = 3\n",
    "num_past = 3\n",
    "\n",
    "last_yT = false\n",
    "max_cuts = 10\n",
    "verbose = false\n",
    "\n",
    "uncertainty = 0.#1\n",
    "δ_inf = 0.02\n",
    "ϵ_inf = 0.02\n",
    "\n",
    "ϵ_l2 = 0.05\n",
    "δ_l2 = 0.05\n",
    "\n",
    "reg = 1/(past*num_past)\n",
    "ρ = 100\n",
    "val = 8; #n-split_index;\n",
    "\n",
    "fix_β0 = false\n",
    "more_data_for_β0 = false\n",
    "benders = false\n",
    "ridge = true"
   ]
  },
  {
   "cell_type": "code",
   "execution_count": 300,
   "id": "30f3c535",
   "metadata": {},
   "outputs": [],
   "source": [
    "X0, y0, Xt, yt, yt_true, D_min, D_max = prepare_data_from_y(X, y, max(split_index-num_past*past+1, 1), num_past*past, val, uncertainty, last_yT);"
   ]
  },
  {
   "cell_type": "code",
   "execution_count": 301,
   "id": "fa960b5a",
   "metadata": {},
   "outputs": [
    {
     "data": {
      "text/plain": [
       "10-element Vector{Float64}:\n",
       " -0.006859741651561132\n",
       "  0.5487793321247895\n",
       " -0.8711871897481066\n",
       "  0.5487793321247895\n",
       " -1.1181378892042624\n",
       "  0.24009095780459472\n",
       " -1.6120392881165742\n",
       "  1.4131067802213348\n",
       "  0.8574677064449843\n",
       "  3.018286326686348"
      ]
     },
     "execution_count": 301,
     "metadata": {},
     "output_type": "execute_result"
    }
   ],
   "source": [
    "y0"
   ]
  },
  {
   "cell_type": "code",
   "execution_count": 302,
   "id": "173d5d70",
   "metadata": {},
   "outputs": [
    {
     "data": {
      "text/plain": [
       "10×23 Matrix{Float64}:\n",
       " 1.0  -6.7054  -6.17192  -5.47919  -5.81884  …  -6.59427  -6.82538  -6.0853\n",
       " 1.0  -6.7054  -6.17192  -5.45864  -5.82076     -6.83569  -6.85181  -6.0853\n",
       " 1.0  -6.7054  -6.17192  -5.43808  -5.82107     -4.95097  -5.37998  -6.0853\n",
       " 1.0  -6.7054  -6.17192  -5.41752  -5.82113     -4.8312   -5.29895  -6.0853\n",
       " 1.0  -6.7054  -6.17192  -5.39696  -5.82113     -6.68725  -6.95503  -6.0853\n",
       " 1.0  -6.7054  -6.17192  -5.3764   -5.82113  …  -5.71148  -6.15402  -6.0853\n",
       " 1.0  -6.7054  -6.17192  -5.35584  -5.82113     -6.2115   -6.12911  -6.0853\n",
       " 1.0  -6.7054  -6.17192  -5.33528  -5.82113     -5.76942  -6.09456  -6.0853\n",
       " 1.0  -6.7054  -6.17192  -5.31473  -5.82113     -4.91025  -4.47488  -6.0853\n",
       " 1.0  -6.7054  -6.17192  -5.29417  -5.82113     -3.41126  -4.32448  -6.0853"
      ]
     },
     "execution_count": 302,
     "metadata": {},
     "output_type": "execute_result"
    }
   ],
   "source": [
    "X0"
   ]
  },
  {
   "cell_type": "code",
   "execution_count": 314,
   "id": "3411f5c4",
   "metadata": {},
   "outputs": [],
   "source": [
    "β_list_linear_adaptive_trained_one = zeros(val, p)\n",
    "#obj, β0_0, V0_0, β_list = adaptive_ridge_regression_exact_no_stable(X0, y0, ρ, ρ, past)\n",
    "obj, β0_0, V0_0 = adaptive_ridge_regression_standard(X0, y0, 0.1, 10, past)\n",
    "\n",
    "β_l2_init = l2_regression(X0,y0,0.1);"
   ]
  },
  {
   "cell_type": "code",
   "execution_count": 304,
   "id": "078890fa",
   "metadata": {},
   "outputs": [],
   "source": [
    "# X_ = vcat(X0,Xt)\n",
    "# y_true = vcat(y0,yt)\n",
    "# err_baseline = [abs(y_true[s]-dot(X_[s,:],β_l2_init)) for s=past+1:size(y_true)[1]]\n",
    "# err_ARO = [abs(y_true[s]-dot(X_[s,:],β_list[s-past,:])) for s=past+1:size(y_true)[1]]\n",
    "\n",
    "# get_metrics(err_baseline, y_true[past+1:end])\n",
    "\n",
    "# println()\n",
    "# get_metrics(err_ARO, y_true[past+1:end])"
   ]
  },
  {
   "cell_type": "code",
   "execution_count": 315,
   "id": "1cf8cab7",
   "metadata": {},
   "outputs": [],
   "source": [
    "for s=1:val\n",
    "\n",
    "        #TODO check split_index with max(split inex, 1)\n",
    "        if more_data_for_β0\n",
    "            X0, y0, Xt, yt, yt_true, D_min, D_max = prepare_data_from_y(X, y, max(split_index-num_past*past+1, 1), s+(num_past-1)*past, past-1, uncertainty, last_yT)\n",
    "        else\n",
    "            X0, y0, Xt, yt, yt_true, D_min, D_max = prepare_data_from_y(X, y, max(s+split_index-num_past*past+1, 1), (num_past-1)*past, past-1, uncertainty, last_yT)\n",
    "        end\n",
    "\n",
    "        #TODO: evaluate also if we change Vt regularly\n",
    "        #obj, β_linear_adaptive_pure_0_Vt, Vt_adaptive_pure, _ = adaptive_ridge_regression_exact_Vt(vcat(X0,Xt), vcat(y0,yt), ρ, ρ, past, 1)\n",
    "\n",
    "\n",
    "        #Line to get Z_{t+1}\n",
    "        X_for_Z = X[split_index-past+s+1:split_index+s+1,:]\n",
    "        X_for_Z[:,1] .= 1\n",
    "        y_for_Z = y[split_index-past+s+1:split_index+s+1,:]\n",
    "        X_, Z_test, y_ = get_X_Z_y(X_for_Z, y_for_Z, past)\n",
    "\n",
    "        β_list_linear_adaptive_trained_one[s,:] = β0_0 + V0_0 * Z_test[1,:]\n",
    "    end"
   ]
  },
  {
   "cell_type": "code",
   "execution_count": 316,
   "id": "c7b00bcc",
   "metadata": {},
   "outputs": [],
   "source": [
    "X0, y0, Xt, yt, yt_true, D_min, D_max = prepare_data_from_y(X, y, 1, split_index, val, uncertainty, last_yT);\n",
    "yt_true = yt_true.*std_y.+mean_y\n",
    "err_linear_adaptive_trained_one = [abs(yt_true[s]-(dot(Xt[s,:],β_list_linear_adaptive_trained_one[s,:]).*std_y.+mean_y)) for s=1:val]\n",
    "err_baseline_test = [abs(yt_true[s]-(dot(Xt[s,:],β_l2_init).*std_y.+mean_y)) for s=1:val];\n"
   ]
  },
  {
   "cell_type": "code",
   "execution_count": 317,
   "id": "dbe2f53c",
   "metadata": {},
   "outputs": [
    {
     "data": {
      "text/plain": [
       "23-element Vector{Float64}:\n",
       "  0.0004953125958341266\n",
       " -0.003321267824075291\n",
       " -0.0030570308141640956\n",
       " -0.0013254587011632614\n",
       " -0.002883278389949345\n",
       " -0.0013254587011632614\n",
       " -0.0024219277318445107\n",
       "  0.004161033227110593\n",
       "  0.006584601491783848\n",
       "  0.002542350885905425\n",
       "  0.006116275303457392\n",
       "  0.013878491957142011\n",
       " -0.0029675094805448055\n",
       " -0.009827123961388703\n",
       "  0.009243632935233217\n",
       "  0.009243632935233217\n",
       "  0.006811936873750082\n",
       "  0.002805746007153138\n",
       "  0.0022986018205433103\n",
       "  0.004052053569515718\n",
       "  0.009936291400200473\n",
       "  0.004763365116484622\n",
       " -0.0030141278484840522"
      ]
     },
     "execution_count": 317,
     "metadata": {},
     "output_type": "execute_result"
    }
   ],
   "source": [
    "β0_0"
   ]
  },
  {
   "cell_type": "code",
   "execution_count": 318,
   "id": "57be0a3e",
   "metadata": {},
   "outputs": [
    {
     "name": "stdout",
     "output_type": "stream",
     "text": [
      "MAE : 426.361165179312\n",
      "MAPE : 7.102897225788196\n",
      "RMSE : 504.77814059811254\n",
      "R2 : -1.2238793037371845\n",
      "\n",
      "MAE : 378.3884104339335\n",
      "MAPE : 6.130978042081027\n",
      "RMSE : 464.1517196799744\n",
      "R2 : -0.8803126238872141\n"
     ]
    }
   ],
   "source": [
    "get_metrics(err_baseline_test, yt_true)\n",
    "\n",
    "println()\n",
    "get_metrics(err_linear_adaptive_trained_one, yt_true)"
   ]
  },
  {
   "cell_type": "markdown",
   "id": "2c571270",
   "metadata": {},
   "source": [
    "## Synthetic"
   ]
  },
  {
   "cell_type": "code",
   "execution_count": 9,
   "id": "bc758d2b",
   "metadata": {},
   "outputs": [],
   "source": [
    "N0 = 900\n",
    "Nt = 100\n",
    "p = 10\n",
    "\n",
    "δ = 0.5\n",
    "δ_pert = 0.5\n",
    "σ_pert = 1\n",
    "#y = randn(N0+Nt)\n",
    "n0 = floor(Int, size(y_safi)[1]/2)\n",
    "y_true = y_safi[n0-N0:n0+Nt-1]\n",
    "y = copy(y_true)\n",
    "d = Uniform(-δ, δ)\n",
    "biases = rand(d, p)\n",
    "variances = rand(p)\n",
    "gradual_after = false\n",
    "gradual_before = true\n",
    "\n",
    "#Create the features X by taking y and adding noise.\n",
    "X = zeros(N0+Nt, p)\n",
    "\n",
    "for i=1:p\n",
    "    d = Normal(biases[i], variances[i])\n",
    "    X[:,i] = y.+ rand(d, N0+Nt)\n",
    "end\n",
    "\n",
    "#### Perturbations on base learners because of data drift\n",
    "d = Normal(0, δ_pert)\n",
    "biases_perturb = rand(d, p)\n",
    "d = Uniform(0, σ_pert)\n",
    "variances_perturb = rand(d, p)\n",
    "\n",
    "if gradual_after\n",
    "    for i=1:p\n",
    "        d = Normal(biases_perturb[i], variances_perturb[i])\n",
    "        #We add the perturbation for each model \n",
    "        #We make the perturbations more and more intense across time\n",
    "        X[N0+1:N0+Nt,i] = X[N0+1:N0+Nt,i].+rand(d, Nt).*[t/Nt for t=1:Nt]\n",
    "    end\n",
    "end\n",
    "\n",
    "if gradual_before\n",
    "    for i=1:p\n",
    "        for t=1:Nt\n",
    "            #We compute the perturbation for each model \n",
    "            #We make the perturbations more and more intense across time\n",
    "            d = Normal(t/Nt*δ_pert, t/Nt*σ_pert)\n",
    "            X[N0+t,i] = X[N0+t,i]+rand(d)\n",
    "        end\n",
    "    end\n",
    "else\n",
    "    for i=1:p\n",
    "        d = Normal(biases_perturb[i], variances_perturb[i])\n",
    "        #We add the perturbation for each model \n",
    "        #We make the perturbations more and more intense across time\n",
    "        X[N0+1:N0+Nt,i] = X[N0+1:N0+Nt,i].+rand(d, Nt)\n",
    "    end\n",
    "end"
   ]
  },
  {
   "cell_type": "code",
   "execution_count": 10,
   "id": "2f90335e",
   "metadata": {},
   "outputs": [],
   "source": [
    "#### Perturbations on y\n",
    "perturb_y = true\n",
    "perturb_y_norm = true\n",
    "y_bias = -0.1\n",
    "y_var = 0.5\n",
    "\n",
    "if perturb_y\n",
    "    if perturb_y_norm\n",
    "        d = Normal(y_bias, y_var)\n",
    "        y[N0+1:N0+Nt] = y[N0+1:N0+Nt] .+ rand(d, Nt)\n",
    "    else\n",
    "        d = Uniform(-y_bias, y_bias)\n",
    "        y[N0+1:N0+Nt] = y[N0+1:N0+Nt] .+ rand(d, Nt)\n",
    "    end\n",
    "end\n",
    ";"
   ]
  },
  {
   "cell_type": "code",
   "execution_count": 29,
   "id": "a685535d",
   "metadata": {},
   "outputs": [
    {
     "name": "stdout",
     "output_type": "stream",
     "text": [
      "\n",
      "### Mean Baseline ###\n",
      "MAE : 0.42345111861420726\n",
      "MAPE : 187.57814003246975\n",
      "RMSE : 0.5017148222829678\n",
      "R2 : 0.2684574206577698\n",
      "CVAR 0.05 :1.1315406489739686\n",
      "CVAR 0.15 :0.8671868300356882\n",
      "\n",
      "### Bandits Full Baseline ###\n",
      "MAE : 0.35048051123948665\n",
      "MAPE : 163.8983188941456\n",
      "RMSE : 0.5198624052014562\n",
      "R2 : 0.21457889059766233\n",
      "CVAR 0.05 :1.4609555545070267\n",
      "CVAR 0.15 :1.1120710262538487\n",
      "\n",
      "### Bandits Only Last T Baseline ###\n",
      "MAE : 0.3664926282734096\n",
      "MAPE : 176.46620187337854\n",
      "RMSE : 0.5475155488397699\n",
      "R2 : 0.1287984082660898\n",
      "CVAR 0.05 :1.4955622544668161\n",
      "CVAR 0.15 :1.1764829878349519\n",
      "\n",
      "### Passive-Aggressive Baseline ###\n",
      "MAE : 0.5103165968166972\n",
      "MAPE : 193.79379347546438\n",
      "RMSE : 0.6738334814289204\n",
      "R2 : -0.3195653975318984\n",
      "CVAR 0.05 :1.644262319552229\n",
      "CVAR 0.15 :1.2777854831230044\n",
      "\n",
      "### β0 Baseline ###\n",
      "MAE : 0.21725233606432692\n",
      "MAPE : 74.74218826820477\n",
      "RMSE : 0.3017689156644273\n",
      "R2 : 0.7353482619067152\n",
      "CVAR 0.05 :0.8529027877143107\n",
      "CVAR 0.15 :0.6180074087399314\n",
      "\n",
      "### βt Linear Decision Rule Adaptive with NO Stable Part and Trained ONCE ###\n",
      "MAE : 1.8111636616722409\n",
      "MAPE : 682.9035043013196\n",
      "RMSE : 2.389154520312024\n",
      "R2 : -15.588771453074362\n",
      "CVAR 0.05 :6.581033756821218\n",
      "CVAR 0.15 :4.807748866834426\n",
      "\n",
      "### βt Linear Decision Rule Adaptive with NO Stable Part and Trained ONCE STANDARD ###\n",
      "MAE : 0.48724029953870074\n",
      "MAPE : 169.14749839412153\n",
      "RMSE : 0.6114563892175527\n",
      "R2 : -0.08656752451941463\n",
      "CVAR 0.05 :1.3649688571881249\n",
      "CVAR 0.15 :1.1635942221604891\n"
     ]
    }
   ],
   "source": [
    "split_ = N0/(N0+Nt)\n",
    "past = 20\n",
    "num_past = floor(Int, Nt/past)\n",
    "\n",
    "last_yT = false\n",
    "max_cuts = 10\n",
    "verbose = false\n",
    "\n",
    "uncertainty = 0.#1\n",
    "δ_inf = 0.02\n",
    "ϵ_inf = 0.02\n",
    "\n",
    "ϵ_l2 = 0.05\n",
    "δ_l2 = 0.05\n",
    "\n",
    "reg = 1/(past*num_past)\n",
    "ρ = 0.1\n",
    "val = Nt-1; #n-split_index;\n",
    "\n",
    "fix_β0 = false\n",
    "more_data_for_β0 = false\n",
    "benders = false\n",
    "ridge = true\n",
    "\n",
    "eval_method(X, y, y_true, split_, past, num_past, val, uncertainty, ϵ_inf, δ_inf, last_yT, \n",
    "        ϵ_l2, δ_l2, ρ, reg, max_cuts, verbose, \n",
    "        fix_β0, more_data_for_β0, benders, ridge)"
   ]
  },
  {
   "cell_type": "markdown",
   "id": "e87ecae3",
   "metadata": {},
   "source": [
    "# Linear rule"
   ]
  },
  {
   "cell_type": "code",
   "execution_count": 24,
   "id": "69b65ed8",
   "metadata": {},
   "outputs": [
    {
     "data": {
      "text/plain": [
       "adaptive_ridge_regression_standard (generic function with 1 method)"
      ]
     },
     "execution_count": 24,
     "metadata": {},
     "output_type": "execute_result"
    }
   ],
   "source": [
    "function adaptive_ridge_regression_standard(X, y, ρ_β0, ρ_V0, T)\n",
    "    \n",
    "#     Adaptive ridge: does not run fast\n",
    "    \n",
    "\n",
    "    # Create model\n",
    "    model = Model(with_optimizer(Gurobi.Optimizer, GRB_ENV))\n",
    "    set_optimizer_attribute(model, \"OutputFlag\", 0)\n",
    "    X, Z, y = get_X_Z_y(X, y, T)\n",
    "\n",
    "    N, P = size(X)\n",
    "    # Add variables\n",
    "\n",
    "    @variable(model, β0[j=1:P])\n",
    "    @variable(model, V0[j=1:P, k=1:T*P+T])\n",
    "    @variable(model, t>=0)\n",
    "\n",
    "    # Add objective\n",
    "    @objective(model, Min, t + ρ_β0 * sum(β0[j]^2 for j=1:P)\n",
    "                            + ρ_V0 * sum(V0[j,k]^2 for j=1:P for k=1:T*P+T)\n",
    "    )\n",
    "\n",
    "    @constraint(model, t >= 1 / N * sum((y[i] - sum(X[i, j] * (β0[j]\n",
    "                 + sum(V0[j, l] * Z[i, l] for l=1:(T * P + T))\n",
    "                 )\n",
    "                for j=1:P))^2\n",
    "        for i=1:N))\n",
    "\n",
    "    optimize!(model);\n",
    "    return objective_value(model), getvalue.(β0), getvalue.(V0), Z\n",
    "end"
   ]
  },
  {
   "cell_type": "code",
   "execution_count": 174,
   "id": "71f6b698",
   "metadata": {},
   "outputs": [
    {
     "data": {
      "text/plain": [
       "adaptive_ridge_regression_before_exact (generic function with 1 method)"
      ]
     },
     "execution_count": 174,
     "metadata": {},
     "output_type": "execute_result"
    }
   ],
   "source": [
    "function adaptive_ridge_regression_before_exact(X, y, ρ_β0, ρ_V0, T)\n",
    "    \n",
    "    #Version with actual robust equivalence\n",
    "    #We use beta t\n",
    "    \n",
    "    # Create model\n",
    "    model = Model(with_optimizer(Gurobi.Optimizer, GRB_ENV))\n",
    "    set_optimizer_attribute(model, \"OutputFlag\", 1)\n",
    "    X, Z, y = get_X_Z_y(X, y, T)\n",
    "\n",
    "    N, P = size(X)\n",
    "    # Add variables\n",
    "\n",
    "    @variable(model, β0[j=1:P])\n",
    "    @variable(model, V0[j=1:P, k=1:T*P+T])\n",
    "    @variable(model, t>=0)\n",
    "    @variable(model, β[t=1:N,j=1:P])\n",
    "\n",
    "    # Add objective\n",
    "    @objective(model, Min, t + ρ_β0 * sum(β0[j]^2 for j=1:P)\n",
    "                            + ρ_V0 * sum(V0[j,k]^2 for j=1:P for k=1:T*P+T)\n",
    "    )\n",
    "\n",
    "    @constraint(model, t >= 1 / N * sum((y[i] - sum(transpose(X[i, :])*β[i,:]))^2 for i=1:N))\n",
    "        \n",
    "    @constraint(model, [i=1:N], β[i,:] .== β0+V0*Z[i,:])\n",
    "\n",
    "    optimize!(model);\n",
    "    return objective_value(model), getvalue.(β0), getvalue.(V0), getvalue.(β)\n",
    "end"
   ]
  },
  {
   "cell_type": "code",
   "execution_count": 188,
   "id": "772fd01d",
   "metadata": {},
   "outputs": [
    {
     "data": {
      "text/plain": [
       "adaptive_ridge_regression_exact (generic function with 2 methods)"
      ]
     },
     "execution_count": 188,
     "metadata": {},
     "output_type": "execute_result"
    }
   ],
   "source": [
    "function adaptive_ridge_regression_exact(X, y, ρ_β0, ρ_V0, T, N0)\n",
    "    \n",
    "    #Version with actual robust equivalence\n",
    "    #The formula for the regularization is different\n",
    "    \n",
    "    # Create model\n",
    "    model = Model(with_optimizer(Gurobi.Optimizer, GRB_ENV))\n",
    "    set_optimizer_attribute(model, \"OutputFlag\", 0)\n",
    "    X, Z, y = get_X_Z_y(X, y, T)\n",
    "\n",
    "    N, P = size(X)\n",
    "    # Add variables\n",
    "\n",
    "    @variable(model, β0[j=1:P])\n",
    "    @variable(model, V0[j=1:P, k=1:T*P+T])\n",
    "    @variable(model, t>=0)\n",
    "    @variable(model, β[t=1:N,j=1:P])\n",
    "\n",
    "    # If no stable part, then no reg\n",
    "    if N0 == 1\n",
    "        ρ_β0 = 0\n",
    "    end\n",
    "    \n",
    "    # Add objective\n",
    "    @objective(model, Min, t + 1/N0*ρ_β0 * sum(β0[j]^2 for j=1:P)\n",
    "                            + 1/(N-N0)*ρ_V0 * sum(β[t,k]^2 for t=1:N for k=1:P)\n",
    "    )\n",
    "\n",
    "    @constraint(model, t >= 1 / N * sum((y[i] - sum(transpose(X[i, :])*β[i,:]))^2 for i=1:N))\n",
    "    \n",
    "    #stable and adaptive part\n",
    "    @constraint(model, [i=N0:N], β[i,:] .== β0+V0*Z[i,:])\n",
    "    @constraint(model, [i=1:N0-1], β[i,:] .== β0)\n",
    "\n",
    "    optimize!(model);\n",
    "    return objective_value(model), getvalue.(β0), getvalue.(V0), getvalue.(β)\n",
    "end"
   ]
  },
  {
   "cell_type": "code",
   "execution_count": 12,
   "id": "cb71aa00",
   "metadata": {},
   "outputs": [
    {
     "data": {
      "text/plain": [
       "get_X_Z_y (generic function with 1 method)"
      ]
     },
     "execution_count": 12,
     "metadata": {},
     "output_type": "execute_result"
    }
   ],
   "source": [
    "function get_X_Z_y(X, y, T)\n",
    "    \"\"\"\n",
    "    Input: training data X and corresponding labels y ; T: how many time-steps from the past to be used\n",
    "    Output: the past features X with past targets y as a Z training data (no present features)\n",
    "    \"\"\"\n",
    "    n, p = size(X)\n",
    "    #T past time steps * p features + T targets\n",
    "    Z = ones(n-T, T*p+T)\n",
    "    for i=T+1:n\n",
    "        for t=1:T\n",
    "            Z[i-T,1+p*(t-1):p*t] = X[i-t,:]\n",
    "        end\n",
    "        Z[i-T, (p*T+1):end] = y[i-T:i-1]\n",
    "    end\n",
    "    return X[T+1:end,:], Z, y[T+1:end]\n",
    "end"
   ]
  },
  {
   "cell_type": "code",
   "execution_count": 13,
   "id": "6c2e09a2",
   "metadata": {},
   "outputs": [
    {
     "data": {
      "text/plain": [
       "([0.953041262548516 0.4782870249686575; 1.0535457742742587 0.334867774903859], [0.6507019593290054 0.4323663266396612 … -0.24864108988725883 0.4349146279684725; 0.953041262548516 0.4782870249686575 … 0.4349146279684725 0.7909332310183326], [0.7909332310183326, 0.7909332310183326])"
      ]
     },
     "execution_count": 13,
     "metadata": {},
     "output_type": "execute_result"
    }
   ],
   "source": [
    "e, Z, f = get_X_Z_y(X[1:5,1:2], y[1:5], 3)"
   ]
  },
  {
   "cell_type": "code",
   "execution_count": 164,
   "id": "3b08d166",
   "metadata": {},
   "outputs": [
    {
     "name": "stdout",
     "output_type": "stream",
     "text": [
      "0.019454798289416986\n"
     ]
    }
   ],
   "source": [
    "obj, β0, V0, Z = adaptive_ridge_regression_standard(X[1:100,1:3], y[1:100], 0.1, 0.1, 3)\n",
    "println(obj)"
   ]
  },
  {
   "cell_type": "code",
   "execution_count": 165,
   "id": "14aca550",
   "metadata": {},
   "outputs": [
    {
     "data": {
      "text/plain": [
       "3-element Vector{Float64}:\n",
       " 0.1504249753800681\n",
       " 0.4548341433068424\n",
       " 0.14489314118672222"
      ]
     },
     "execution_count": 165,
     "metadata": {},
     "output_type": "execute_result"
    }
   ],
   "source": [
    "β0+V0*Z[1,:]"
   ]
  },
  {
   "cell_type": "code",
   "execution_count": 191,
   "id": "01ea2fda",
   "metadata": {},
   "outputs": [
    {
     "name": "stdout",
     "output_type": "stream",
     "text": [
      "0.5860827402650841\n"
     ]
    }
   ],
   "source": [
    "obj, β0, V0, β = adaptive_ridge_regression_exact(X[1:100,1:3], y[1:100], 0, 0.1, 3, 16)\n",
    "println(obj)"
   ]
  },
  {
   "cell_type": "code",
   "execution_count": 187,
   "id": "2f73bc90",
   "metadata": {},
   "outputs": [
    {
     "name": "stdout",
     "output_type": "stream",
     "text": [
      "0.5852809828471135\n"
     ]
    }
   ],
   "source": [
    "obj, β0, V0, β = adaptive_ridge_regression_exact(X[1:100,1:3], y[1:100], 0, 0.1, 3, 0)\n",
    "println(obj)"
   ]
  },
  {
   "cell_type": "code",
   "execution_count": 177,
   "id": "55ad112e",
   "metadata": {},
   "outputs": [
    {
     "name": "stdout",
     "output_type": "stream",
     "text": [
      "Gurobi Optimizer version 9.1.2 build v9.1.2rc0 (mac64)\n",
      "Thread count: 8 physical cores, 8 logical processors, using up to 8 threads\n",
      "Optimize a model with 291 rows, 331 columns and 4074 nonzeros\n",
      "Model fingerprint: 0x6c09b65a\n",
      "Model has 39 quadratic objective terms\n",
      "Model has 1 quadratic constraint\n",
      "Coefficient statistics:\n",
      "  Matrix range     [1e-02, 3e+00]\n",
      "  QMatrix range    [1e-06, 8e-02]\n",
      "  QLMatrix range   [6e-05, 1e+00]\n",
      "  Objective range  [1e+00, 1e+00]\n",
      "  QObjective range [2e-01, 2e-01]\n",
      "  Bounds range     [0e+00, 0e+00]\n",
      "  RHS range        [0e+00, 0e+00]\n",
      "  QRHS range       [8e-01, 8e-01]\n",
      "Presolve time: 0.00s\n",
      "Presolved: 391 rows, 432 columns, 4759 nonzeros\n",
      "Presolved model has 2 second-order cone constraints\n",
      "Ordering time: 0.00s\n",
      "\n",
      "Barrier statistics:\n",
      " Dense cols : 41\n",
      " Free vars  : 291\n",
      " AA' NZ     : 4.854e+03\n",
      " Factor NZ  : 1.827e+04\n",
      " Factor Ops : 8.039e+05 (less than 1 second per iteration)\n",
      " Threads    : 1\n",
      "\n",
      "                  Objective                Residual\n",
      "Iter       Primal          Dual         Primal    Dual     Compl     Time\n",
      "   0   3.11421765e+00  5.36029178e-01  1.07e+00 2.06e-01  1.66e-02     0s\n",
      "   1   1.24866824e+00 -1.49454176e-01  1.71e-06 3.65e-07  9.92e-03     0s\n",
      "   2   8.61394373e-02  2.04473484e-03  5.59e-08 8.84e-08  5.96e-04     0s\n",
      "   3   3.58614220e-02  4.45432877e-03  1.72e-08 9.75e-14  2.23e-04     0s\n",
      "   4   2.59765144e-02  1.04984114e-02  4.71e-09 5.29e-14  1.10e-04     0s\n",
      "   5   2.04917687e-02  1.25069818e-02  1.27e-09 3.85e-15  5.66e-05     0s\n",
      "   6   2.02737134e-02  1.76733783e-02  8.11e-10 5.52e-15  1.84e-05     0s\n",
      "   7   1.97504484e-02  1.93025152e-02  2.43e-14 7.55e-15  3.18e-06     0s\n",
      "   8   1.94566600e-02  1.94498483e-02  2.57e-09 2.24e-09  4.84e-08     0s\n",
      "   9   1.94547804e-02  1.94546020e-02  2.00e-09 5.52e-11  1.27e-09     0s\n",
      "\n",
      "Barrier solved model in 9 iterations and 0.11 seconds\n",
      "Optimal objective 1.94547804e-02\n",
      "\n",
      "\n",
      "User-callback calls 62, time in user-callback 0.00 sec\n",
      "0.019454780357772428\n",
      "[0.1504354548405991, 0.45487816131635345, 0.14490341051823682]\n",
      "[0.15043545467982017, 0.4548781608300493, 0.14490341036312396]\n"
     ]
    }
   ],
   "source": [
    "obj, β0, V0, β = adaptive_ridge_regression_before_exact(X[1:100,1:3], y[1:100], 0.1, 0.1, 3)\n",
    "println(obj)\n",
    "println(β0+V0*Z[1,:])\n",
    "println(β[1,:])"
   ]
  },
  {
   "cell_type": "code",
   "execution_count": 170,
   "id": "002f9b10",
   "metadata": {},
   "outputs": [
    {
     "name": "stdout",
     "output_type": "stream",
     "text": [
      "Gurobi Optimizer version 9.1.2 build v9.1.2rc0 (mac64)\n",
      "Thread count: 8 physical cores, 8 logical processors, using up to 8 threads\n",
      "Optimize a model with 291 rows, 331 columns and 4074 nonzeros\n",
      "Model fingerprint: 0xac638d92\n",
      "Model has 39 quadratic objective terms\n",
      "Model has 1 quadratic constraint\n",
      "Coefficient statistics:\n",
      "  Matrix range     [1e-02, 3e+00]\n",
      "  QMatrix range    [2e-01, 1e+01]\n",
      "  QLMatrix range   [6e-01, 4e+00]\n",
      "  Objective range  [1e+00, 1e+00]\n",
      "  QObjective range [2e-01, 2e-01]\n",
      "  Bounds range     [0e+00, 0e+00]\n",
      "  RHS range        [0e+00, 0e+00]\n",
      "  QRHS range       [8e-01, 8e-01]\n",
      "Presolve removed 291 rows and 291 columns\n",
      "Presolve time: 0.00s\n",
      "Presolved: 42 rows, 83 columns, 864 nonzeros\n",
      "Presolved model has 2 second-order cone constraints\n",
      "Ordering time: 0.00s\n",
      "\n",
      "Barrier statistics:\n",
      " AA' NZ     : 8.600e+02\n",
      " Factor NZ  : 9.030e+02\n",
      " Factor Ops : 2.558e+04 (less than 1 second per iteration)\n",
      " Threads    : 1\n",
      "\n",
      "                  Objective                Residual\n",
      "Iter       Primal          Dual         Primal    Dual     Compl     Time\n",
      "   0   3.61515699e+00  7.44923934e-01  3.25e-01 3.18e+00  7.19e-02     0s\n",
      "   1   6.42215881e-01  3.85814230e-01  3.57e-07 5.34e-01  1.06e-02     0s\n",
      "   2   5.73290854e-02 -4.33568773e-02  1.09e-08 7.66e-03  1.33e-03     0s\n",
      "   3   2.49646918e-02  1.65629209e-02  3.98e-13 4.86e-04  1.09e-04     0s\n",
      "   4   2.00952502e-02  1.91575779e-02  1.61e-13 5.35e-10  1.13e-05     0s\n",
      "   5   1.94626577e-02  1.94368039e-02  2.76e-12 1.48e-11  3.11e-07     0s\n",
      "   6   1.94554365e-02  1.94518164e-02  3.70e-12 1.78e-12  4.36e-08     0s\n",
      "   7   1.94547983e-02  1.94547552e-02  7.29e-10 9.21e-13  5.15e-10     0s\n",
      "\n",
      "Barrier solved model in 7 iterations and 0.02 seconds\n",
      "Optimal objective 1.94547983e-02\n",
      "\n",
      "\n",
      "User-callback calls 56, time in user-callback 0.00 sec\n"
     ]
    },
    {
     "data": {
      "text/plain": [
       "3-element Vector{Float64}:\n",
       " 0.1504249753800681\n",
       " 0.45483414330684235\n",
       " 0.14489314118672222"
      ]
     },
     "execution_count": 170,
     "metadata": {},
     "output_type": "execute_result"
    }
   ],
   "source": [
    "_, β0, V0, β, X1, Z1 = adaptive_ridge_regression_exact_test(X[1:100,1:3], y[1:100], 0.1, 0.1, 3)\n",
    "β[1,:]"
   ]
  },
  {
   "cell_type": "code",
   "execution_count": 157,
   "id": "2e470d86",
   "metadata": {},
   "outputs": [
    {
     "data": {
      "text/plain": [
       "0.533767797757831"
      ]
     },
     "execution_count": 157,
     "metadata": {},
     "output_type": "execute_result"
    }
   ],
   "source": [
    "N, P = size(X1)\n",
    "i = 1\n",
    "T = 3\n",
    "sum(X1[i, j] * (β0[j]+ sum(V0[j, l] * Z1[i, l] for l=1:(T * P + T))) for j=1:P)"
   ]
  },
  {
   "cell_type": "code",
   "execution_count": 151,
   "id": "87684819",
   "metadata": {},
   "outputs": [
    {
     "data": {
      "text/plain": [
       "0.533767797757831"
      ]
     },
     "execution_count": 151,
     "metadata": {},
     "output_type": "execute_result"
    }
   ],
   "source": [
    "transpose(X1[i,:])*β[i,:]"
   ]
  },
  {
   "cell_type": "code",
   "execution_count": 156,
   "id": "25386963",
   "metadata": {},
   "outputs": [
    {
     "name": "stdout",
     "output_type": "stream",
     "text": [
      "0.1504249753800681\n",
      "[0.1504249753800681, 0.4548341433068424, 0.14489314118672222]\n"
     ]
    }
   ],
   "source": [
    "j = 1\n",
    "println(β0[j]+sum(V0[j, l] * Z[i, l] for l=1:(T * P + T)))\n",
    "println(β0+V0*Z[i,:])\n",
    "println()"
   ]
  },
  {
   "cell_type": "code",
   "execution_count": 16,
   "id": "a313920b",
   "metadata": {},
   "outputs": [
    {
     "data": {
      "text/plain": [
       "evaluate_adaptive (generic function with 1 method)"
      ]
     },
     "execution_count": 16,
     "metadata": {},
     "output_type": "execute_result"
    }
   ],
   "source": [
    "function evaluate_adaptive(X, y, y_true, β0, V0, T)\n",
    "    X, Z, y = get_X_Z_y(X, y, T)\n",
    "    \n",
    "    N, P = size(X)\n",
    "\n",
    "    pred = [sum(X[i, j] * (β0[j] + sum(V0[j, :] .* Z[i, :])) for j=1:P) for i=1:N]\n",
    "    if size(y_true) == size(pred)\n",
    "        err = [abs(y_true[i]-pred[i]) for i=1:N]\n",
    "    else\n",
    "        y_true = y_true[T+1:end]\n",
    "        err = [abs(y_true[i]-pred[i]) for i=1:N]\n",
    "    end\n",
    "    return err\n",
    "end"
   ]
  },
  {
   "cell_type": "code",
   "execution_count": 195,
   "id": "bbb311d4",
   "metadata": {},
   "outputs": [
    {
     "data": {
      "text/plain": [
       "evaluate_adaptive_retrained (generic function with 1 method)"
      ]
     },
     "execution_count": 195,
     "metadata": {},
     "output_type": "execute_result"
    }
   ],
   "source": [
    "function evaluate_adaptive_retrained(X, y, y_true, β0_list, V0_list, T)\n",
    "    X, Z, y = get_X_Z_y(X, y, T)\n",
    "    \n",
    "    N, P = size(X)\n",
    "\n",
    "    pred = [sum(X[i, j] * (β0_list[i,j] + sum(V0_list[i, j, :] .* Z[i, :])) for j=1:P) for i=1:N]\n",
    "    if size(y_true) == size(pred)\n",
    "        err = [abs(y_true[i]-pred[i]) for i=1:N]\n",
    "    else\n",
    "        y_true = y_true[T+1:end]\n",
    "        err = [abs(y_true[i]-pred[i]) for i=1:N]\n",
    "    end\n",
    "    return err\n",
    "end"
   ]
  },
  {
   "cell_type": "code",
   "execution_count": 435,
   "id": "1a0ebb83",
   "metadata": {},
   "outputs": [
    {
     "data": {
      "text/plain": [
       "([0.2772791481270517, -0.22139104249186187, 0.25353125721465, 0.13052228762534424, 0.16184232903639695, 0.02133275894336177, -0.23829147212091226, 0.14926772611852196, 0.28826028113700647, 0.7460128800839689  …  0.6974694989745849, 0.4334507651952026, 0.4535167025297599, 0.4228111533412082, -0.9470370564072363, -0.004111494312688896, 0.12274140243903106, 0.08108513878897414, -1.4025705199739362, 0.08251350395763898], [0.7111257347162706, 0.768332857553357, 0.1994216466416816, 0.6812973681052467, 0.08794262534614797, 0.24054297764516547, 0.02174221306394139, 0.4729100683816176, 0.04127284032870793, 0.5794229469798875  …  0.29188476681020137, 0.3992553152476475, 0.02696830662909544, 0.5024620796474668, 0.7050416471102421, 0.23408638321844036, 0.4254973199898675, 0.7075806393798176, 0.9146849288371715, 0.6178682421677187])"
      ]
     },
     "execution_count": 435,
     "metadata": {},
     "output_type": "execute_result"
    }
   ],
   "source": [
    "pred, err = evaluate_adaptive(X[1:100,1:3], y[1:100], y[4:100], β0, V0, 3)"
   ]
  },
  {
   "cell_type": "code",
   "execution_count": 196,
   "id": "8059e02b",
   "metadata": {},
   "outputs": [
    {
     "data": {
      "text/plain": [
       "eval_method (generic function with 2 methods)"
      ]
     },
     "execution_count": 196,
     "metadata": {},
     "output_type": "execute_result"
    }
   ],
   "source": [
    "function eval_method(X, y, y_true, split_, past, num_past, val, uncertainty, ϵ_inf, δ_inf, last_yT,\n",
    "        ϵ_l2, δ_l2, ρ, reg, max_cuts, verbose,\n",
    "        fix_β0, more_data_for_β0, benders, ridge, linear_adapt)\n",
    "\n",
    "    threshold_benders = 0.01\n",
    "    n, p = size(X)\n",
    "    split_index = floor(Int,n*split_)\n",
    "    #TODO change spli_index with max(split inex, 1)\n",
    "    X0, y0, Xt, yt, yt_true, D_min, D_max = prepare_data_from_y(X, y, split_index-num_past*past+1, num_past*past, val, uncertainty, last_yT)\n",
    "\n",
    "    β_list0 = zeros(val, p)\n",
    "    β_listt = zeros(val, p)\n",
    "    β_listl2 = zeros(val, p)\n",
    "    β_l2_init = l2_regression(X0,y0,ρ);\n",
    "    β0_list_linear_adapt = zeros(val, p)\n",
    "    V0_list_linear_adapt = zeros(val, p, (past-1)*p+past-1)\n",
    "    err = ones(val)\n",
    "    \n",
    "    ###Linear decision rule\n",
    "    _, β0_0, V0_0 = adaptive_ridge_regression_standard(X0, y0, ρ, ρ, past-1)\n",
    "    print(size(V0))\n",
    "    \n",
    "    for s=1:val\n",
    "        #TODO Check how much I use from the past\n",
    "        if more_data_for_β0\n",
    "            X0, y0, Xt, yt, yt_true, D_min, D_max = prepare_data_from_y(X, y, split_index-num_past*past+1, s+(num_past-1)*past, past-1, uncertainty, last_yT)\n",
    "        else\n",
    "            X0, y0, Xt, yt, yt_true, D_min, D_max = prepare_data_from_y(X, y, s+split_index-num_past*past+1, (num_past-1)*past, past-1, uncertainty, last_yT)\n",
    "        end\n",
    "\n",
    "        if benders\n",
    "            ##TODO handle fix_beta0\n",
    "            obj, β0_val, α, y_val = master_problem(X0, Xt, y0, D_min, D_max, threshold_benders, ϵ_inf, δ_inf, reg, ρ, max_cuts, verbose)\n",
    "            _, βt_val = S_primal(Xt, y_val, β0_val, ϵ_inf, δ_inf);\n",
    "        else\n",
    "            if ridge\n",
    "                obj, βt_val, β0_val = master_primal_l2_ridge(X0, Xt, y0, D_min, D_max, ϵ_inf, δ_inf, reg, ρ, ϵ_l2, δ_l2, fix_β0, β_l2_init)\n",
    "            else\n",
    "                obj, βt_val, β0_val = master_primal_l2(X0, Xt, y0, D_min, D_max, ϵ_inf, δ_inf, reg, ρ, ϵ_l2, δ_l2, fix_β0, β_l2_init)\n",
    "            end\n",
    "        end\n",
    "        \n",
    "        if linear_adapt\n",
    "            #err[s] = evaluate_adaptive(vcat(X0[end-past+2:end,:],Xt), vcat(y0[end-past+2:end,:],yt), yt_true, β0, V0, past)\n",
    "            _, β0, V0 = adaptive_ridge_regression_standard(vcat(X0,Xt), vcat(y0,yt), ρ, ρ, past-1)\n",
    "            β0_list_linear_adapt[s,:] = β0\n",
    "            V0_list_linear_adapt[s,:,:] = V0\n",
    "            N = size(X0)[1]\n",
    "        end\n",
    "        \n",
    "        β_listt[s,:] = βt_val[past-1,:]\n",
    "        β_list0[s,:] = β0_val\n",
    "        β_l2 = l2_regression(vcat(X0,Xt),vcat(y0,yt),ρ);\n",
    "        β_listl2[s,:] = β_l2\n",
    "\n",
    "    end\n",
    "\n",
    "    X0, y0, Xt, yt, _, D_min, D_max = prepare_data_from_y(X, y, 1, split_index, val, uncertainty, last_yT)\n",
    "    _, _, _, _, yt_true, _, _ = prepare_data_from_y(X, y_true, 1, split_index, val, uncertainty, last_yT)\n",
    "\n",
    "    N = size(X0)[1]\n",
    "    err_linear_rule = evaluate_adaptive(vcat(X0[N-past+2:end,:],Xt), vcat(y0[N-past+2:end,:],yt), yt_true, β0_0, V0_0, past-1)\n",
    "    err_linear_rule_retrained = evaluate_adaptive_retrained(vcat(X0[N-past+2:end,:],Xt), vcat(y0[N-past+2:end,:],yt), \n",
    "        yt_true, β0_list_linear_adapt, V0_list_linear_adapt, past-1)\n",
    "    \n",
    "    err_0 = [abs(yt_true[s]-dot(Xt[s,:],β_list0[s,:])) for s=1:val]\n",
    "    err_t = [abs(yt_true[s]-dot(Xt[s,:],β_listt[s,:])) for s=1:val]\n",
    "    err_baseline = [abs(yt_true[s]-dot(Xt[s,:],β_l2_init)) for s=1:val]\n",
    "    err_l2 = [abs(yt_true[s]-dot(Xt[s,:],β_listl2[s,:])) for s=1:val]\n",
    "\n",
    "    println(\"\\n### β0 Baseline ###\")\n",
    "    println(\"MAE Baseline: \", mean(err_baseline))\n",
    "    println(\"CVAR 0.05 :\", compute_CVaR(err_baseline, 0.05))\n",
    "    println(\"CVAR 0.15 :\", compute_CVaR(err_baseline, 0.15))\n",
    "    println(\"R2 : \", R2_err(err_baseline, yt_true))\n",
    "\n",
    "    println(\"\\n### β0 Baseline Retrained ###\")\n",
    "    println(\"MAE Baseline: \", mean(err_l2))\n",
    "    println(\"CVAR 0.05 :\", compute_CVaR(err_l2, 0.05))\n",
    "    println(\"CVAR 0.15 :\", compute_CVaR(err_l2, 0.15))\n",
    "    println(\"R2 : \", R2_err(err_l2, yt_true))\n",
    "    \n",
    "    println(\"\\n### β0 V0 Linear rule Adaptive ###\")\n",
    "    println(\"MAE Baseline: \", mean(err_linear_rule))\n",
    "    println(\"CVAR 0.05 :\", compute_CVaR(err_linear_rule, 0.05))\n",
    "    println(\"CVAR 0.15 :\", compute_CVaR(err_linear_rule, 0.15))\n",
    "    println(\"R2 : \", R2_err(err_linear_rule, yt_true))\n",
    "    \n",
    "    println(\"\\n### β0 V0 Linear rule Adaptive Retrained ###\")\n",
    "    println(\"MAE Baseline: \", mean(err_linear_rule_retrained))\n",
    "    println(\"CVAR 0.05 :\", compute_CVaR(err_linear_rule_retrained, 0.05))\n",
    "    println(\"CVAR 0.15 :\", compute_CVaR(err_linear_rule_retrained, 0.15))\n",
    "    println(\"R2 : \", R2_err(err_linear_rule_retrained, yt_true))\n",
    "\n",
    "    println(\"\\n### β0 Adaptive ###\")\n",
    "    println(\"MAE 0: \", mean(err_0))\n",
    "    println(\"CVAR 0.05 :\", compute_CVaR(err_0, 0.05))\n",
    "    println(\"CVAR 0.15 :\", compute_CVaR(err_0, 0.15))\n",
    "    println(\"R2 : \", R2_err(err_0, yt_true))\n",
    "\n",
    "    println(\"\\n### βt Adaptive ###\")\n",
    "    println(\"MAE t: \", mean(err_t))\n",
    "    println(\"CVAR 0.05 :\", compute_CVaR(err_t, 0.05))\n",
    "    println(\"CVAR 0.15 :\", compute_CVaR(err_t, 0.15))\n",
    "    println(\"R2 : \", R2_err(err_t, yt_true))\n",
    "end"
   ]
  },
  {
   "cell_type": "code",
   "execution_count": 198,
   "id": "f1f231c3",
   "metadata": {},
   "outputs": [
    {
     "name": "stdout",
     "output_type": "stream",
     "text": [
      "(3, 12)"
     ]
    },
    {
     "ename": "LoadError",
     "evalue": "Gurobi Error 10020: Constraint Q not PSD (diagonal adjustment of 1.1e-05 would be required). Set NonConvex parameter to 2 to solve model.",
     "output_type": "error",
     "traceback": [
      "Gurobi Error 10020: Constraint Q not PSD (diagonal adjustment of 1.1e-05 would be required). Set NonConvex parameter to 2 to solve model.",
      "",
      "Stacktrace:",
      "  [1] _check_ret",
      "    @ ~/.julia/packages/Gurobi/BAtIN/src/MOI_wrapper/MOI_wrapper.jl:326 [inlined]",
      "  [2] _check_ret_GRBoptimize(model::Gurobi.Optimizer)",
      "    @ Gurobi ~/.julia/packages/Gurobi/BAtIN/src/MOI_wrapper/MOI_wrapper.jl:343",
      "  [3] optimize!(model::Gurobi.Optimizer)",
      "    @ Gurobi ~/.julia/packages/Gurobi/BAtIN/src/MOI_wrapper/MOI_wrapper.jl:2672",
      "  [4] optimize!(b::MathOptInterface.Bridges.LazyBridgeOptimizer{Gurobi.Optimizer})",
      "    @ MathOptInterface.Bridges /Users/iai/builds/InterpretableAI/SystemImage/SysImgBuilder/.julia/packages/MathOptInterface/YDdD3/src/Bridges/bridge_optimizer.jl:319",
      "  [5] optimize!(m::MathOptInterface.Utilities.CachingOptimizer{MathOptInterface.AbstractOptimizer, MathOptInterface.Utilities.UniversalFallback{MathOptInterface.Utilities.GenericModel{Float64, MathOptInterface.Utilities.ModelFunctionConstraints{Float64}}}})",
      "    @ MathOptInterface.Utilities /Applications/Julia-1.6.app/Contents/Resources/julia/lib/julia/sys.dylib:-1",
      "  [6] optimize!(model::Model, optimizer_factory::Nothing; bridge_constraints::Bool, ignore_optimize_hook::Bool, kwargs::Base.Iterators.Pairs{Union{}, Union{}, Tuple{}, NamedTuple{(), Tuple{}}})",
      "    @ JuMP /Applications/Julia-1.6.app/Contents/Resources/julia/lib/julia/sys.dylib:-1",
      "  [7] optimize! (repeats 2 times)",
      "    @ /Users/iai/builds/InterpretableAI/SystemImage/SysImgBuilder/.julia/packages/JuMP/qhoVb/src/optimizer_interface.jl:106 [inlined]",
      "  [8] adaptive_ridge_regression_standard(X::Matrix{Float64}, y::Vector{Float64}, ρ_β0::Float64, ρ_V0::Float64, T::Int64)",
      "    @ Main ./In[24]:29",
      "  [9] eval_method(X::DataFrame, y::Vector{Float64}, y_true::Vector{Float64}, split_::Float64, past::Int64, num_past::Int64, val::Int64, uncertainty::Float64, ϵ_inf::Float64, δ_inf::Float64, last_yT::Bool, ϵ_l2::Float64, δ_l2::Float64, ρ::Float64, reg::Float64, max_cuts::Int64, verbose::Bool, fix_β0::Bool, more_data_for_β0::Bool, benders::Bool, ridge::Bool, linear_adapt::Bool)",
      "    @ Main ./In[196]:45",
      " [10] top-level scope",
      "    @ In[198]:26",
      " [11] eval",
      "    @ ./boot.jl:360 [inlined]",
      " [12] include_string(mapexpr::typeof(REPL.softscope), mod::Module, code::String, filename::String)",
      "    @ Base ./loading.jl:1116"
     ]
    }
   ],
   "source": [
    "linear_adapt = true\n",
    "split_ = N0/(N0+Nt)\n",
    "past = 5\n",
    "num_past = 20#floor(Int, Nt/past)\n",
    "\n",
    "last_yT = false\n",
    "max_cuts = 10\n",
    "verbose = false\n",
    "\n",
    "uncertainty = 0.#1\n",
    "δ_inf = 0.02\n",
    "ϵ_inf = 0.02\n",
    "\n",
    "ϵ_l2 = 0.05\n",
    "δ_l2 = 0.05\n",
    "\n",
    "reg = 1/(past*num_past)\n",
    "ρ = 0.1\n",
    "val = Nt-1; #n-split_index;\n",
    "\n",
    "fix_β0 = false\n",
    "more_data_for_β0 = false\n",
    "benders = false\n",
    "ridge = true\n",
    "\n",
    "eval_method(X, y, y_true, split_, past, num_past, val, uncertainty, ϵ_inf, δ_inf, last_yT, \n",
    "        ϵ_l2, δ_l2, ρ, reg, max_cuts, verbose, \n",
    "        fix_β0, more_data_for_β0, benders, ridge, linear_adapt)"
   ]
  },
  {
   "cell_type": "code",
   "execution_count": null,
   "id": "d3a8f815",
   "metadata": {},
   "outputs": [],
   "source": []
  }
 ],
 "metadata": {
  "kernelspec": {
   "display_name": "Julia 1.6.2",
   "language": "julia",
   "name": "julia-1.6"
  },
  "language_info": {
   "file_extension": ".jl",
   "mimetype": "application/julia",
   "name": "julia",
   "version": "1.6.2"
  }
 },
 "nbformat": 4,
 "nbformat_minor": 5
}
