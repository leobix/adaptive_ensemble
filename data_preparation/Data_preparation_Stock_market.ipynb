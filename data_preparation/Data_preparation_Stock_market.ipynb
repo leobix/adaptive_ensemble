{
 "cells": [
  {
   "cell_type": "code",
   "execution_count": 71,
   "metadata": {},
   "outputs": [],
   "source": [
    "import pandas as pd\n",
    "from datetime import datetime\n",
    "import matplotlib.pyplot as plt\n",
    "\n",
    "###\n",
    "\n",
    "from lazypredict.Supervised import LazyRegressor\n",
    "import lazypredict.Supervised\n",
    "\n",
    "import sklearn\n",
    "import xgboost\n",
    "import lightgbm\n",
    "\n",
    "from sklearn.preprocessing import StandardScaler\n",
    "\n",
    "from sklearn.metrics import mean_absolute_error\n",
    "\n"
   ]
  },
  {
   "cell_type": "code",
   "execution_count": 75,
   "metadata": {},
   "outputs": [],
   "source": [
    "df = pd.read_csv('UCI_datasets/CNNpred/Processed_NYSE.csv')"
   ]
  },
  {
   "cell_type": "code",
   "execution_count": 45,
   "metadata": {},
   "outputs": [
    {
     "data": {
      "text/plain": [
       "(1984, 84)"
      ]
     },
     "execution_count": 45,
     "metadata": {},
     "output_type": "execute_result"
    }
   ],
   "source": [
    "#drop rows with nan\n",
    "#drop cols with nan\n",
    "#encode dates in cos/sin\n",
    "#encode hour in cos sin\n",
    "df.shape"
   ]
  },
  {
   "cell_type": "code",
   "execution_count": 37,
   "metadata": {},
   "outputs": [
    {
     "data": {
      "text/plain": [
       "WFC               False\n",
       "XOM               False\n",
       "FCHI              False\n",
       "FTSE               True\n",
       "GDAXI              True\n",
       "DJI               False\n",
       "HSI                True\n",
       "IXIC              False\n",
       "SSEC               True\n",
       "S&P               False\n",
       "RUT               False\n",
       "TE1               False\n",
       "TE2               False\n",
       "TE3               False\n",
       "TE5               False\n",
       "TE6               False\n",
       "DE1               False\n",
       "DE2               False\n",
       "DE4               False\n",
       "DE5               False\n",
       "DE6               False\n",
       "CTB3M             False\n",
       "CTB6M             False\n",
       "CTB1Y             False\n",
       "Name              False\n",
       "AUD               False\n",
       "Brent             False\n",
       "CAC-F             False\n",
       "copper-F          False\n",
       "WIT-oil           False\n",
       "DAX-F             False\n",
       "DJI-F             False\n",
       "EUR               False\n",
       "FTSE-F            False\n",
       "gold-F            False\n",
       "HSI-F              True\n",
       "KOSPI-F            True\n",
       "NASDAQ-F          False\n",
       "GAS-F             False\n",
       "Nikkei-F          False\n",
       "NZD               False\n",
       "silver-F          False\n",
       "RUSSELL-F         False\n",
       "S&P-F             False\n",
       "CHF               False\n",
       "Dollar index-F    False\n",
       "Dollar index      False\n",
       "wheat-F           False\n",
       "XAG               False\n",
       "XAU               False\n",
       "dtype: bool"
      ]
     },
     "execution_count": 37,
     "metadata": {},
     "output_type": "execute_result"
    }
   ],
   "source": [
    "df.isna().sum().tail(50) > 50"
   ]
  },
  {
   "cell_type": "code",
   "execution_count": 76,
   "metadata": {},
   "outputs": [],
   "source": [
    "#prepare cos sin of day\n",
    "dates = [datetime.strptime(df['Date'][i], '%Y-%m-%d') for i in range(df.shape[0])]\n",
    "days = [d.day for d in dates]\n",
    "months = [d.month for d in dates]\n",
    "day_of_year = [d.timetuple().tm_yday for d in dates]\n",
    "day_of_year_cos = [np.cos(2 * np.pi * day_of_year[i]/365) for i in range(len(day_of_year))]\n",
    "day_of_year_sin = [np.sin(2 * np.pi * day_of_year[i]/365) for i in range(len(day_of_year))]\n",
    "\n",
    "\n",
    "df['day_sin'] = [np.sin(2 * np.pi * day_of_year[i]/365) for i in range(len(day_of_year))]\n",
    "df['day_cos'] = [np.cos(2 * np.pi * day_of_year[i]/365) for i in range(len(day_of_year))]"
   ]
  },
  {
   "cell_type": "code",
   "execution_count": 77,
   "metadata": {},
   "outputs": [],
   "source": [
    "returns = np.zeros(len(df))\n",
    "returns[1:] = (np.array(df['Close'][1:]) - np.array(df['Close'][:-1]))/np.array(df['Close'][:-1])\n",
    "df['Returns'] = returns\n",
    "\n",
    "closes_diff = np.zeros(len(df))\n",
    "closes_diff[1:] = np.array(df['Close'][1:]) - np.array(df['Close'][:-1])\n",
    "df['Closes_Diff'] = closes_diff"
   ]
  },
  {
   "cell_type": "code",
   "execution_count": 78,
   "metadata": {},
   "outputs": [],
   "source": [
    "#drop rows 1-50\n",
    "df = df.drop(index = [i for i in range(50)])\n",
    "\n",
    "#drop columns with too many NaNs\n",
    "perc = 5.0 # Like N %\n",
    "min_count =  int(((100-perc)/100)*df.shape[0] + 1)\n",
    "df = df.dropna( axis=1, \n",
    "                thresh=min_count)\n",
    "\n",
    "#interpolate missing values\n",
    "df = df.interpolate()"
   ]
  },
  {
   "cell_type": "code",
   "execution_count": 79,
   "metadata": {},
   "outputs": [],
   "source": [
    "#drop useless columns\n",
    "df = df.drop(columns = ['Date', 'Name'])"
   ]
  },
  {
   "cell_type": "code",
   "execution_count": 85,
   "metadata": {},
   "outputs": [
    {
     "data": {
      "text/html": [
       "<div>\n",
       "<style scoped>\n",
       "    .dataframe tbody tr th:only-of-type {\n",
       "        vertical-align: middle;\n",
       "    }\n",
       "\n",
       "    .dataframe tbody tr th {\n",
       "        vertical-align: top;\n",
       "    }\n",
       "\n",
       "    .dataframe thead th {\n",
       "        text-align: right;\n",
       "    }\n",
       "</style>\n",
       "<table border=\"1\" class=\"dataframe\">\n",
       "  <thead>\n",
       "    <tr style=\"text-align: right;\">\n",
       "      <th></th>\n",
       "      <th>Close</th>\n",
       "      <th>Volume</th>\n",
       "      <th>mom</th>\n",
       "      <th>mom1</th>\n",
       "      <th>mom2</th>\n",
       "      <th>mom3</th>\n",
       "      <th>ROC_5</th>\n",
       "      <th>ROC_10</th>\n",
       "      <th>ROC_15</th>\n",
       "      <th>ROC_20</th>\n",
       "      <th>...</th>\n",
       "      <th>S&amp;P-F</th>\n",
       "      <th>CHF</th>\n",
       "      <th>Dollar index-F</th>\n",
       "      <th>Dollar index</th>\n",
       "      <th>wheat-F</th>\n",
       "      <th>XAG</th>\n",
       "      <th>XAU</th>\n",
       "      <th>day_sin</th>\n",
       "      <th>day_cos</th>\n",
       "      <th>Returns</th>\n",
       "    </tr>\n",
       "  </thead>\n",
       "  <tbody>\n",
       "    <tr>\n",
       "      <th>50</th>\n",
       "      <td>7426.700195</td>\n",
       "      <td>0.049389</td>\n",
       "      <td>0.010303</td>\n",
       "      <td>-0.001615</td>\n",
       "      <td>0.001307</td>\n",
       "      <td>0.003490</td>\n",
       "      <td>1.819027</td>\n",
       "      <td>4.074148</td>\n",
       "      <td>6.482093</td>\n",
       "      <td>5.893761</td>\n",
       "      <td>...</td>\n",
       "      <td>0.80</td>\n",
       "      <td>-0.62</td>\n",
       "      <td>-0.21</td>\n",
       "      <td>-0.62</td>\n",
       "      <td>1.83</td>\n",
       "      <td>2.11</td>\n",
       "      <td>1.50</td>\n",
       "      <td>0.961130</td>\n",
       "      <td>0.276097</td>\n",
       "      <td>0.010303</td>\n",
       "    </tr>\n",
       "    <tr>\n",
       "      <th>51</th>\n",
       "      <td>7474.129883</td>\n",
       "      <td>0.135803</td>\n",
       "      <td>0.006386</td>\n",
       "      <td>0.010303</td>\n",
       "      <td>-0.001615</td>\n",
       "      <td>0.001307</td>\n",
       "      <td>1.998725</td>\n",
       "      <td>4.319392</td>\n",
       "      <td>6.307506</td>\n",
       "      <td>6.239050</td>\n",
       "      <td>...</td>\n",
       "      <td>0.54</td>\n",
       "      <td>-0.09</td>\n",
       "      <td>-0.19</td>\n",
       "      <td>-0.14</td>\n",
       "      <td>1.74</td>\n",
       "      <td>0.40</td>\n",
       "      <td>-0.06</td>\n",
       "      <td>0.965740</td>\n",
       "      <td>0.259512</td>\n",
       "      <td>0.006386</td>\n",
       "    </tr>\n",
       "    <tr>\n",
       "      <th>52</th>\n",
       "      <td>7443.569824</td>\n",
       "      <td>-0.146819</td>\n",
       "      <td>-0.004089</td>\n",
       "      <td>0.006386</td>\n",
       "      <td>0.010303</td>\n",
       "      <td>-0.001615</td>\n",
       "      <td>1.228432</td>\n",
       "      <td>3.771049</td>\n",
       "      <td>6.132782</td>\n",
       "      <td>5.129526</td>\n",
       "      <td>...</td>\n",
       "      <td>0.02</td>\n",
       "      <td>0.30</td>\n",
       "      <td>0.74</td>\n",
       "      <td>0.73</td>\n",
       "      <td>-1.31</td>\n",
       "      <td>-0.69</td>\n",
       "      <td>0.08</td>\n",
       "      <td>0.970064</td>\n",
       "      <td>0.242850</td>\n",
       "      <td>-0.004089</td>\n",
       "    </tr>\n",
       "    <tr>\n",
       "      <th>53</th>\n",
       "      <td>7386.850098</td>\n",
       "      <td>0.230936</td>\n",
       "      <td>-0.007620</td>\n",
       "      <td>-0.004089</td>\n",
       "      <td>0.006386</td>\n",
       "      <td>0.010303</td>\n",
       "      <td>0.325961</td>\n",
       "      <td>1.310327</td>\n",
       "      <td>5.000825</td>\n",
       "      <td>4.286169</td>\n",
       "      <td>...</td>\n",
       "      <td>0.60</td>\n",
       "      <td>0.38</td>\n",
       "      <td>0.66</td>\n",
       "      <td>0.62</td>\n",
       "      <td>-0.95</td>\n",
       "      <td>-2.36</td>\n",
       "      <td>-1.63</td>\n",
       "      <td>0.974100</td>\n",
       "      <td>0.226116</td>\n",
       "      <td>-0.007620</td>\n",
       "    </tr>\n",
       "    <tr>\n",
       "      <th>54</th>\n",
       "      <td>7419.020020</td>\n",
       "      <td>-0.182397</td>\n",
       "      <td>0.004355</td>\n",
       "      <td>-0.007620</td>\n",
       "      <td>-0.004089</td>\n",
       "      <td>0.006386</td>\n",
       "      <td>0.925866</td>\n",
       "      <td>1.734518</td>\n",
       "      <td>4.482203</td>\n",
       "      <td>4.810183</td>\n",
       "      <td>...</td>\n",
       "      <td>-0.93</td>\n",
       "      <td>-0.37</td>\n",
       "      <td>-0.11</td>\n",
       "      <td>-0.09</td>\n",
       "      <td>0.49</td>\n",
       "      <td>-0.12</td>\n",
       "      <td>-0.47</td>\n",
       "      <td>0.984474</td>\n",
       "      <td>0.175531</td>\n",
       "      <td>0.004355</td>\n",
       "    </tr>\n",
       "    <tr>\n",
       "      <th>...</th>\n",
       "      <td>...</td>\n",
       "      <td>...</td>\n",
       "      <td>...</td>\n",
       "      <td>...</td>\n",
       "      <td>...</td>\n",
       "      <td>...</td>\n",
       "      <td>...</td>\n",
       "      <td>...</td>\n",
       "      <td>...</td>\n",
       "      <td>...</td>\n",
       "      <td>...</td>\n",
       "      <td>...</td>\n",
       "      <td>...</td>\n",
       "      <td>...</td>\n",
       "      <td>...</td>\n",
       "      <td>...</td>\n",
       "      <td>...</td>\n",
       "      <td>...</td>\n",
       "      <td>...</td>\n",
       "      <td>...</td>\n",
       "      <td>...</td>\n",
       "    </tr>\n",
       "    <tr>\n",
       "      <th>1979</th>\n",
       "      <td>12339.660156</td>\n",
       "      <td>-0.017375</td>\n",
       "      <td>-0.003638</td>\n",
       "      <td>0.001089</td>\n",
       "      <td>-0.002393</td>\n",
       "      <td>0.002252</td>\n",
       "      <td>-0.269134</td>\n",
       "      <td>-0.103377</td>\n",
       "      <td>-0.328426</td>\n",
       "      <td>0.007456</td>\n",
       "      <td>...</td>\n",
       "      <td>-0.27</td>\n",
       "      <td>-0.61</td>\n",
       "      <td>-0.44</td>\n",
       "      <td>-0.45</td>\n",
       "      <td>0.53</td>\n",
       "      <td>-0.26</td>\n",
       "      <td>0.32</td>\n",
       "      <td>-0.780296</td>\n",
       "      <td>0.625411</td>\n",
       "      <td>-0.003638</td>\n",
       "    </tr>\n",
       "    <tr>\n",
       "      <th>1980</th>\n",
       "      <td>12322.599609</td>\n",
       "      <td>-0.089962</td>\n",
       "      <td>-0.001383</td>\n",
       "      <td>-0.003638</td>\n",
       "      <td>0.001089</td>\n",
       "      <td>-0.002393</td>\n",
       "      <td>-0.407821</td>\n",
       "      <td>-0.354428</td>\n",
       "      <td>-0.868185</td>\n",
       "      <td>-0.238021</td>\n",
       "      <td>...</td>\n",
       "      <td>-0.17</td>\n",
       "      <td>0.18</td>\n",
       "      <td>-0.07</td>\n",
       "      <td>-0.05</td>\n",
       "      <td>0.70</td>\n",
       "      <td>-0.71</td>\n",
       "      <td>-0.80</td>\n",
       "      <td>-0.769415</td>\n",
       "      <td>0.638749</td>\n",
       "      <td>-0.001383</td>\n",
       "    </tr>\n",
       "    <tr>\n",
       "      <th>1981</th>\n",
       "      <td>12316.820313</td>\n",
       "      <td>-0.024084</td>\n",
       "      <td>-0.000469</td>\n",
       "      <td>-0.001383</td>\n",
       "      <td>-0.003638</td>\n",
       "      <td>0.001089</td>\n",
       "      <td>-0.678251</td>\n",
       "      <td>-0.021506</td>\n",
       "      <td>-0.545844</td>\n",
       "      <td>-0.345476</td>\n",
       "      <td>...</td>\n",
       "      <td>0.10</td>\n",
       "      <td>0.06</td>\n",
       "      <td>0.12</td>\n",
       "      <td>0.11</td>\n",
       "      <td>-1.85</td>\n",
       "      <td>0.83</td>\n",
       "      <td>0.16</td>\n",
       "      <td>-0.735417</td>\n",
       "      <td>0.677615</td>\n",
       "      <td>-0.000469</td>\n",
       "    </tr>\n",
       "    <tr>\n",
       "      <th>1982</th>\n",
       "      <td>12280.110352</td>\n",
       "      <td>0.070184</td>\n",
       "      <td>-0.002980</td>\n",
       "      <td>-0.000469</td>\n",
       "      <td>-0.001383</td>\n",
       "      <td>-0.003638</td>\n",
       "      <td>-0.736705</td>\n",
       "      <td>-0.493472</td>\n",
       "      <td>-1.006691</td>\n",
       "      <td>-0.565664</td>\n",
       "      <td>...</td>\n",
       "      <td>-0.15</td>\n",
       "      <td>-0.70</td>\n",
       "      <td>-0.71</td>\n",
       "      <td>-0.70</td>\n",
       "      <td>1.00</td>\n",
       "      <td>0.01</td>\n",
       "      <td>0.24</td>\n",
       "      <td>-0.723644</td>\n",
       "      <td>0.690173</td>\n",
       "      <td>-0.002980</td>\n",
       "    </tr>\n",
       "    <tr>\n",
       "      <th>1983</th>\n",
       "      <td>12220.339844</td>\n",
       "      <td>-0.022755</td>\n",
       "      <td>-0.004867</td>\n",
       "      <td>-0.002980</td>\n",
       "      <td>-0.000469</td>\n",
       "      <td>-0.001383</td>\n",
       "      <td>-1.327280</td>\n",
       "      <td>-1.152968</td>\n",
       "      <td>-0.942240</td>\n",
       "      <td>-1.218005</td>\n",
       "      <td>...</td>\n",
       "      <td>-0.50</td>\n",
       "      <td>-0.11</td>\n",
       "      <td>0.01</td>\n",
       "      <td>-0.02</td>\n",
       "      <td>-2.04</td>\n",
       "      <td>-0.22</td>\n",
       "      <td>-0.11</td>\n",
       "      <td>-0.711657</td>\n",
       "      <td>0.702527</td>\n",
       "      <td>-0.004867</td>\n",
       "    </tr>\n",
       "  </tbody>\n",
       "</table>\n",
       "<p>1934 rows × 79 columns</p>\n",
       "</div>"
      ],
      "text/plain": [
       "             Close    Volume       mom      mom1      mom2      mom3  \\\n",
       "50     7426.700195  0.049389  0.010303 -0.001615  0.001307  0.003490   \n",
       "51     7474.129883  0.135803  0.006386  0.010303 -0.001615  0.001307   \n",
       "52     7443.569824 -0.146819 -0.004089  0.006386  0.010303 -0.001615   \n",
       "53     7386.850098  0.230936 -0.007620 -0.004089  0.006386  0.010303   \n",
       "54     7419.020020 -0.182397  0.004355 -0.007620 -0.004089  0.006386   \n",
       "...            ...       ...       ...       ...       ...       ...   \n",
       "1979  12339.660156 -0.017375 -0.003638  0.001089 -0.002393  0.002252   \n",
       "1980  12322.599609 -0.089962 -0.001383 -0.003638  0.001089 -0.002393   \n",
       "1981  12316.820313 -0.024084 -0.000469 -0.001383 -0.003638  0.001089   \n",
       "1982  12280.110352  0.070184 -0.002980 -0.000469 -0.001383 -0.003638   \n",
       "1983  12220.339844 -0.022755 -0.004867 -0.002980 -0.000469 -0.001383   \n",
       "\n",
       "         ROC_5    ROC_10    ROC_15    ROC_20  ...  S&P-F   CHF  \\\n",
       "50    1.819027  4.074148  6.482093  5.893761  ...   0.80 -0.62   \n",
       "51    1.998725  4.319392  6.307506  6.239050  ...   0.54 -0.09   \n",
       "52    1.228432  3.771049  6.132782  5.129526  ...   0.02  0.30   \n",
       "53    0.325961  1.310327  5.000825  4.286169  ...   0.60  0.38   \n",
       "54    0.925866  1.734518  4.482203  4.810183  ...  -0.93 -0.37   \n",
       "...        ...       ...       ...       ...  ...    ...   ...   \n",
       "1979 -0.269134 -0.103377 -0.328426  0.007456  ...  -0.27 -0.61   \n",
       "1980 -0.407821 -0.354428 -0.868185 -0.238021  ...  -0.17  0.18   \n",
       "1981 -0.678251 -0.021506 -0.545844 -0.345476  ...   0.10  0.06   \n",
       "1982 -0.736705 -0.493472 -1.006691 -0.565664  ...  -0.15 -0.70   \n",
       "1983 -1.327280 -1.152968 -0.942240 -1.218005  ...  -0.50 -0.11   \n",
       "\n",
       "      Dollar index-F  Dollar index  wheat-F   XAG   XAU   day_sin   day_cos  \\\n",
       "50             -0.21         -0.62     1.83  2.11  1.50  0.961130  0.276097   \n",
       "51             -0.19         -0.14     1.74  0.40 -0.06  0.965740  0.259512   \n",
       "52              0.74          0.73    -1.31 -0.69  0.08  0.970064  0.242850   \n",
       "53              0.66          0.62    -0.95 -2.36 -1.63  0.974100  0.226116   \n",
       "54             -0.11         -0.09     0.49 -0.12 -0.47  0.984474  0.175531   \n",
       "...              ...           ...      ...   ...   ...       ...       ...   \n",
       "1979           -0.44         -0.45     0.53 -0.26  0.32 -0.780296  0.625411   \n",
       "1980           -0.07         -0.05     0.70 -0.71 -0.80 -0.769415  0.638749   \n",
       "1981            0.12          0.11    -1.85  0.83  0.16 -0.735417  0.677615   \n",
       "1982           -0.71         -0.70     1.00  0.01  0.24 -0.723644  0.690173   \n",
       "1983            0.01         -0.02    -2.04 -0.22 -0.11 -0.711657  0.702527   \n",
       "\n",
       "       Returns  \n",
       "50    0.010303  \n",
       "51    0.006386  \n",
       "52   -0.004089  \n",
       "53   -0.007620  \n",
       "54    0.004355  \n",
       "...        ...  \n",
       "1979 -0.003638  \n",
       "1980 -0.001383  \n",
       "1981 -0.000469  \n",
       "1982 -0.002980  \n",
       "1983 -0.004867  \n",
       "\n",
       "[1934 rows x 79 columns]"
      ]
     },
     "execution_count": 85,
     "metadata": {},
     "output_type": "execute_result"
    }
   ],
   "source": [
    "df"
   ]
  },
  {
   "cell_type": "code",
   "execution_count": 80,
   "metadata": {},
   "outputs": [],
   "source": [
    "def prepare_x_y(df, T_past, T_future, target_name):\n",
    "    n, p = df.shape\n",
    "    X = np.zeros((n-T_past-T_future+1, T_past*p))\n",
    "    y = df[target_name][T_past+T_future-1:]\n",
    "    print(\"Data shape:\", X.shape)\n",
    "    for t in range(T_past):\n",
    "        X[:,t*p:(t+1)*p] = np.array(df[T_past-t-1:-T_future-t])\n",
    "    return X,y"
   ]
  },
  {
   "cell_type": "code",
   "execution_count": 81,
   "metadata": {},
   "outputs": [
    {
     "name": "stdout",
     "output_type": "stream",
     "text": [
      "Data shape: (1931, 237)\n"
     ]
    }
   ],
   "source": [
    "X, y = prepare_x_y(df, 3, 1, 'Closes_Diff')"
   ]
  },
  {
   "cell_type": "code",
   "execution_count": 18,
   "metadata": {},
   "outputs": [],
   "source": [
    "from sklearn.model_selection import train_test_split"
   ]
  },
  {
   "cell_type": "code",
   "execution_count": 82,
   "metadata": {},
   "outputs": [],
   "source": [
    "X_train, X_test, y_train, y_test = train_test_split(X, y, test_size=0.25, shuffle=False)\n",
    "X_train, X_val, y_train, y_val = train_test_split(X_train, y_train, test_size=0.33, random_state=42)"
   ]
  },
  {
   "cell_type": "code",
   "execution_count": 112,
   "metadata": {},
   "outputs": [
    {
     "name": "stdout",
     "output_type": "stream",
     "text": [
      "0\n"
     ]
    }
   ],
   "source": [
    "T_past = 1\n",
    "for t in range(T_past):\n",
    "    print(t)"
   ]
  },
  {
   "cell_type": "code",
   "execution_count": null,
   "metadata": {},
   "outputs": [],
   "source": [
    "data['hour_sin'] = np.sin(2 * np.pi * data['hour']/23.0)\n",
    "data['hour_cos'] = np.cos(2 * np.pi * data['hour']/23.0)"
   ]
  },
  {
   "cell_type": "markdown",
   "metadata": {},
   "source": [
    "# Lazy ensembles"
   ]
  },
  {
   "cell_type": "code",
   "execution_count": 62,
   "metadata": {},
   "outputs": [],
   "source": [
    "l = [('AdaBoostRegressor', sklearn.ensemble._weight_boosting.AdaBoostRegressor),\n",
    " ('BaggingRegressor', sklearn.ensemble._bagging.BaggingRegressor),\n",
    " ('BayesianRidge', sklearn.linear_model._bayes.BayesianRidge),\n",
    " ('DecisionTreeRegressor', sklearn.tree._classes.DecisionTreeRegressor),\n",
    " ('DummyRegressor', sklearn.dummy.DummyRegressor),\n",
    " ('ElasticNet', sklearn.linear_model._coordinate_descent.ElasticNet),\n",
    " ('ElasticNetCV', sklearn.linear_model._coordinate_descent.ElasticNetCV),\n",
    " ('ExtraTreeRegressor', sklearn.tree._classes.ExtraTreeRegressor),\n",
    " ('ExtraTreesRegressor', sklearn.ensemble._forest.ExtraTreesRegressor),\n",
    " ('GammaRegressor', sklearn.linear_model._glm.glm.GammaRegressor),\n",
    " ('GeneralizedLinearRegressor',\n",
    "  sklearn.linear_model._glm.glm.GeneralizedLinearRegressor),\n",
    " ('GradientBoostingRegressor', sklearn.ensemble._gb.GradientBoostingRegressor),\n",
    " ('HistGradientBoostingRegressor',\n",
    "  sklearn.ensemble._hist_gradient_boosting.gradient_boosting.HistGradientBoostingRegressor),\n",
    " ('HuberRegressor', sklearn.linear_model._huber.HuberRegressor),\n",
    " ('KernelRidge', sklearn.kernel_ridge.KernelRidge),\n",
    " #('Lars', sklearn.linear_model._least_angle.Lars),\n",
    " ('LarsCV', sklearn.linear_model._least_angle.LarsCV),\n",
    " ('Lasso', sklearn.linear_model._coordinate_descent.Lasso),\n",
    " ('LassoCV', sklearn.linear_model._coordinate_descent.LassoCV),\n",
    " ('LassoLars', sklearn.linear_model._least_angle.LassoLars),\n",
    " ('LassoLarsCV', sklearn.linear_model._least_angle.LassoLarsCV),\n",
    " ('LassoLarsIC', sklearn.linear_model._least_angle.LassoLarsIC),\n",
    " ('LinearRegression', sklearn.linear_model._base.LinearRegression),\n",
    " ('LinearSVR', sklearn.svm._classes.LinearSVR),\n",
    " ('MLPRegressor', sklearn.neural_network._multilayer_perceptron.MLPRegressor),\n",
    " ('OrthogonalMatchingPursuit',\n",
    "  sklearn.linear_model._omp.OrthogonalMatchingPursuit),\n",
    " ('OrthogonalMatchingPursuitCV',\n",
    "  sklearn.linear_model._omp.OrthogonalMatchingPursuitCV),\n",
    " ('PassiveAggressiveRegressor',\n",
    "  sklearn.linear_model._passive_aggressive.PassiveAggressiveRegressor),\n",
    " ('PoissonRegressor', sklearn.linear_model._glm.glm.PoissonRegressor),\n",
    " #('RANSACRegressor', sklearn.linear_model._ransac.RANSACRegressor),\n",
    " ('Ridge', sklearn.linear_model._ridge.Ridge),\n",
    " ('RidgeCV', sklearn.linear_model._ridge.RidgeCV),\n",
    " ('SGDRegressor', sklearn.linear_model._stochastic_gradient.SGDRegressor),\n",
    " ('TransformedTargetRegressor',\n",
    "  sklearn.compose._target.TransformedTargetRegressor),\n",
    " ('TweedieRegressor', sklearn.linear_model._glm.glm.TweedieRegressor),\n",
    " ('XGBRegressor', xgboost.sklearn.XGBRegressor),\n",
    " ('LGBMRegressor', lightgbm.sklearn.LGBMRegressor)]"
   ]
  },
  {
   "cell_type": "code",
   "execution_count": 63,
   "metadata": {},
   "outputs": [],
   "source": [
    "lazypredict.Supervised.REGRESSORS = l"
   ]
  },
  {
   "cell_type": "code",
   "execution_count": 83,
   "metadata": {},
   "outputs": [],
   "source": [
    "scaler = StandardScaler()\n",
    "scaler.fit(X_train)\n",
    "X_train_scaled = scaler.transform(X_train)\n",
    "X_val_scaled = scaler.transform(X_val)\n",
    "X_test_scaled = scaler.transform(X_test)\n",
    "\n",
    "\n",
    "scaler_y = StandardScaler()\n",
    "scaler_y.fit(np.array(y_train).reshape(-1,1))\n",
    "y_train_scaled = scaler_y.transform(np.array(y_train).reshape(-1,1)).reshape(-1)\n",
    "y_val_scaled = scaler_y.transform(np.array(y_val).reshape(-1,1)).reshape(-1)\n",
    "y_test_scaled = scaler_y.transform(np.array(y_test).reshape(-1,1)).reshape(-1)"
   ]
  },
  {
   "cell_type": "code",
   "execution_count": 84,
   "metadata": {},
   "outputs": [
    {
     "data": {
      "text/plain": [
       "(array([  2.,   2.,  16.,  44., 172., 428., 222.,  72.,   9.,   3.]),\n",
       " array([-5.0921777 , -4.17929799, -3.26641829, -2.35353859, -1.44065889,\n",
       "        -0.52777919,  0.38510051,  1.29798021,  2.21085991,  3.12373961,\n",
       "         4.03661932]),\n",
       " <BarContainer object of 10 artists>)"
      ]
     },
     "execution_count": 84,
     "metadata": {},
     "output_type": "execute_result"
    },
    {
     "data": {
      "image/png": "[encoded data removed]",
      "text/plain": [
       "<Figure size 432x288 with 1 Axes>"
      ]
     },
     "metadata": {
      "needs_background": "light"
     },
     "output_type": "display_data"
    }
   ],
   "source": [
    "plt.hist(y_train_scaled)"
   ]
  },
  {
   "cell_type": "code",
   "execution_count": 85,
   "metadata": {},
   "outputs": [
    {
     "name": "stderr",
     "output_type": "stream",
     "text": [
      "100%|██████████| 35/35 [02:25<00:00,  4.16s/it]"
     ]
    },
    {
     "name": "stdout",
     "output_type": "stream",
     "text": [
      "                               Adjusted R-Squared  R-Squared  RMSE  Time Taken\n",
      "Model                                                                         \n",
      "LassoLarsIC                                 -0.98       0.00  1.11        0.06\n",
      "LarsCV                                      -0.99       0.00  1.11        0.83\n",
      "LassoCV                                     -0.99      -0.00  1.11       10.66\n",
      "DummyRegressor                              -0.99      -0.00  1.11        0.02\n",
      "ElasticNet                                  -0.99      -0.00  1.11        0.28\n",
      "ElasticNetCV                                -0.99      -0.00  1.11        9.28\n",
      "LassoLarsCV                                 -0.99      -0.00  1.11        0.28\n",
      "LassoLars                                   -0.99      -0.00  1.11        0.08\n",
      "Lasso                                       -0.99      -0.00  1.11        0.09\n",
      "BayesianRidge                               -0.99      -0.00  1.11        0.69\n",
      "OrthogonalMatchingPursuitCV                 -1.00      -0.01  1.12        0.06\n",
      "TweedieRegressor                            -1.03      -0.02  1.12        0.09\n",
      "GeneralizedLinearRegressor                  -1.03      -0.02  1.12        0.07\n",
      "AdaBoostRegressor                           -1.09      -0.05  1.14        1.49\n",
      "OrthogonalMatchingPursuit                   -1.09      -0.05  1.14        0.03\n",
      "BaggingRegressor                            -1.19      -0.10  1.17        1.73\n",
      "ExtraTreesRegressor                         -1.20      -0.10  1.17        4.53\n",
      "RidgeCV                                     -1.27      -0.14  1.19        0.41\n",
      "SGDRegressor                                -1.33      -0.17  1.21        0.10\n",
      "HistGradientBoostingRegressor               -1.34      -0.18  1.21       91.28\n",
      "GradientBoostingRegressor                   -1.35      -0.18  1.21        4.51\n",
      "XGBRegressor                                -1.38      -0.20  1.22        5.01\n",
      "Ridge                                       -1.39      -0.20  1.22        0.08\n",
      "KernelRidge                                 -1.39      -0.20  1.22        0.17\n",
      "LGBMRegressor                               -1.40      -0.21  1.22        8.46\n",
      "HuberRegressor                              -1.42      -0.22  1.23        1.30\n",
      "TransformedTargetRegressor                  -1.51      -0.26  1.25        0.20\n",
      "LinearRegression                            -1.51      -0.26  1.25        0.49\n",
      "LinearSVR                                   -1.60      -0.31  1.27        0.48\n",
      "MLPRegressor                                -2.01      -0.52  1.37        2.01\n",
      "PassiveAggressiveRegressor                  -2.06      -0.54  1.38        0.04\n",
      "DecisionTreeRegressor                       -2.82      -0.92  1.54        0.41\n",
      "ExtraTreeRegressor                          -3.19      -1.11  1.62        0.13\n"
     ]
    },
    {
     "name": "stderr",
     "output_type": "stream",
     "text": [
      "\n"
     ]
    }
   ],
   "source": [
    "clf = LazyRegressor(predictions=True)\n",
    "models, predictions = clf.fit(X_train_scaled, X_val_scaled, y_train_scaled, y_val_scaled)\n",
    "print(models)"
   ]
  },
  {
   "cell_type": "code",
   "execution_count": 87,
   "metadata": {},
   "outputs": [
    {
     "name": "stdout",
     "output_type": "stream",
     "text": [
      "0.8398146651817663\n",
      "0.8510482339495791\n",
      "0.8122732470486513\n",
      "1.1093973485526167\n",
      "0.8118612291332223\n",
      "0.8118612291332223\n",
      "0.8118612291332223\n",
      "1.1648868996190256\n",
      "0.8323547761250705\n",
      "0.8220046471684617\n",
      "0.8534212261535241\n",
      "0.8743240605676795\n",
      "0.8812774326126891\n",
      "0.8761548755426937\n",
      "0.812020408379015\n",
      "0.8118612291332223\n",
      "0.8118612291332226\n",
      "0.8118612291332223\n",
      "0.8118612291332223\n",
      "0.8104673589005774\n",
      "0.9080910824643753\n",
      "0.9211573266317337\n",
      "1.007138499530551\n",
      "0.8383298780100021\n",
      "0.8156545934983607\n",
      "1.0214445275948263\n",
      "0.8761548755425577\n",
      "0.8628725812959259\n",
      "0.8843869093558315\n",
      "0.9080910824643753\n",
      "0.8220046471684617\n",
      "0.8527121834724305\n",
      "0.880536402318158\n"
     ]
    }
   ],
   "source": [
    "for i in range(predictions.shape[1]):\n",
    "    print(mean_absolute_error(y_val_scaled, np.array(predictions)[:,i]))"
   ]
  },
  {
   "cell_type": "code",
   "execution_count": 86,
   "metadata": {},
   "outputs": [
    {
     "name": "stdout",
     "output_type": "stream",
     "text": [
      "0.8527121834724305\n"
     ]
    }
   ],
   "source": [
    "xgb = xgboost.XGBRegressor()\n",
    "xgb.fit(X_train_scaled, y_train_scaled)\n",
    "preds = xgb.predict(X_val_scaled)\n",
    "print(mean_absolute_error(y_val_scaled, preds))"
   ]
  },
  {
   "cell_type": "code",
   "execution_count": null,
   "metadata": {},
   "outputs": [],
   "source": [
    "predictions.to_csv(\"predictions_test_sin.csv\")"
   ]
  }
 ],
 "metadata": {
  "kernelspec": {
   "display_name": "Python 3",
   "language": "python",
   "name": "python3"
  },
  "language_info": {
   "codemirror_mode": {
    "name": "ipython",
    "version": 3
   },
   "file_extension": ".py",
   "mimetype": "text/x-python",
   "name": "python",
   "nbconvert_exporter": "python",
   "pygments_lexer": "ipython3",
   "version": "3.8.5"
  },
  "latex_envs": {
   "LaTeX_envs_menu_present": true,
   "autoclose": false,
   "autocomplete": true,
   "bibliofile": "biblio.bib",
   "cite_by": "apalike",
   "current_citInitial": 1,
   "eqLabelWithNumbers": true,
   "eqNumInitial": 1,
   "hotkeys": {
    "equation": "Ctrl-E",
    "itemize": "Ctrl-I"
   },
   "labels_anchors": false,
   "latex_user_defs": false,
   "report_style_numbering": false,
   "user_envs_cfg": false
  },
  "toc": {
   "base_numbering": 1,
   "nav_menu": {},
   "number_sections": true,
   "sideBar": true,
   "skip_h1_title": false,
   "title_cell": "Table of Contents",
   "title_sidebar": "Contents",
   "toc_cell": false,
   "toc_position": {},
   "toc_section_display": true,
   "toc_window_display": false
  },
  "varInspector": {
   "cols": {
    "lenName": 16,
    "lenType": 16,
    "lenVar": 40
   },
   "kernels_config": {
    "python": {
     "delete_cmd_postfix": "",
     "delete_cmd_prefix": "del ",
     "library": "var_list.py",
     "varRefreshCmd": "print(var_dic_list())"
    },
    "r": {
     "delete_cmd_postfix": ") ",
     "delete_cmd_prefix": "rm(",
     "library": "var_list.r",
     "varRefreshCmd": "cat(var_dic_list()) "
    }
   },
   "types_to_exclude": [
    "module",
    "function",
    "builtin_function_or_method",
    "instance",
    "_Feature"
   ],
   "window_display": false
  }
 },
 "nbformat": 4,
 "nbformat_minor": 5
}
