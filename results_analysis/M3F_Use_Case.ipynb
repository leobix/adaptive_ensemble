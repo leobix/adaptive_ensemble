{
 "cells": [
  {
   "cell_type": "code",
   "execution_count": 1,
   "id": "f39a7e92",
   "metadata": {},
   "outputs": [],
   "source": [
    "using CSV, DataFrames"
   ]
  },
  {
   "cell_type": "code",
   "execution_count": 12,
   "id": "e4143f65",
   "metadata": {},
   "outputs": [
    {
     "data": {
      "text/plain": [
       "6-element Vector{Float64}:\n",
       " 5379.75\n",
       " 6158.68\n",
       " 6876.58\n",
       " 7851.91\n",
       " 8407.84\n",
       " 9156.01"
      ]
     },
     "execution_count": 12,
     "metadata": {},
     "output_type": "execute_result"
    }
   ],
   "source": [
    "arg = \"M3F1\"\n",
    "if arg[1:3] == \"M3F\"\n",
    "        id = arg[4:end]\n",
    "        X_test_adaptive = CSV.read(\"data/M3F_data_\"*id*\".csv\", DataFrame)\n",
    "        y_test = CSV.read(\"data/M3F_target_\"*id*\".csv\", DataFrame)\n",
    "        y_test = y_test[!, \"target\"]\n",
    "end"
   ]
  },
  {
   "cell_type": "code",
   "execution_count": 13,
   "id": "9898e962",
   "metadata": {},
   "outputs": [
    {
     "data": {
      "text/plain": [
       "6-element Vector{Float64}:\n",
       " 5379.75\n",
       " 6158.68\n",
       " 6876.58\n",
       " 7851.91\n",
       " 8407.84\n",
       " 9156.01"
      ]
     },
     "execution_count": 13,
     "metadata": {},
     "output_type": "execute_result"
    }
   ],
   "source": [
    "y_test"
   ]
  }
 ],
 "metadata": {
  "kernelspec": {
   "display_name": "Julia 1.6.2",
   "language": "julia",
   "name": "julia-1.6"
  },
  "language_info": {
   "file_extension": ".jl",
   "mimetype": "application/julia",
   "name": "julia",
   "version": "1.6.2"
  }
 },
 "nbformat": 4,
 "nbformat_minor": 5
}
