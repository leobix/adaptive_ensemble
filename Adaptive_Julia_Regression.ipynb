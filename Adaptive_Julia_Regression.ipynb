{
 "cells": [
  {
   "cell_type": "code",
   "execution_count": 2,
   "id": "21537db7",
   "metadata": {},
   "outputs": [],
   "source": [
    "using JuMP, Gurobi, Random"
   ]
  },
  {
   "cell_type": "code",
   "execution_count": 3,
   "id": "834c930b",
   "metadata": {},
   "outputs": [
    {
     "name": "stdout",
     "output_type": "stream",
     "text": [
      "Academic license - for non-commercial use only - expires 2022-07-20\n"
     ]
    },
    {
     "data": {
      "text/plain": [
       "Gurobi.Env(Ptr{Nothing} @0x00007f90fa750600, false, 0)"
      ]
     },
     "execution_count": 3,
     "metadata": {},
     "output_type": "execute_result"
    }
   ],
   "source": [
    "using JuMP, Gurobi, StatsBase, DataFrames, CSV, LinearAlgebra, Distributions, Random\n",
    "const GRB_ENV = Gurobi.Env()"
   ]
  },
  {
   "cell_type": "code",
   "execution_count": 57,
   "id": "525aefff",
   "metadata": {},
   "outputs": [
    {
     "name": "stderr",
     "output_type": "stream",
     "text": [
      "┌ Info: Precompiling Dualization [191a621a-6537-11e9-281d-650236a99e60]\n",
      "└ @ Base loading.jl:1278\n"
     ]
    }
   ],
   "source": [
    "#using Dualization"
   ]
  },
  {
   "cell_type": "code",
   "execution_count": 4,
   "id": "sized-purse",
   "metadata": {},
   "outputs": [
    {
     "data": {
      "text/plain": [
       "solve_model (generic function with 1 method)"
      ]
     },
     "execution_count": 4,
     "metadata": {},
     "output_type": "execute_result"
    }
   ],
   "source": [
    "function solve_model(m)\n",
    "    optimize!(m)\n",
    "    U_OA = objective_value(m)\n",
    "    println(\"U_OA from solve \", U_OA)\n",
    "    return value.(m[:y]), U_OA\n",
    "end"
   ]
  },
  {
   "cell_type": "code",
   "execution_count": 213,
   "id": "formal-thong",
   "metadata": {},
   "outputs": [
    {
     "data": {
      "text/plain": [
       "solve_model_benders (generic function with 1 method)"
      ]
     },
     "execution_count": 213,
     "metadata": {},
     "output_type": "execute_result"
    }
   ],
   "source": [
    "function solve_model_benders(m)\n",
    "    \"Solve the Benders master problem\n",
    "    \"\n",
    "    optimize!(m)\n",
    "    U_OA = objective_value(m)\n",
    "    #println(\"U_OA from solve \", U_OA)\n",
    "    return value.(m[:β]), value.(m[:α]), U_OA\n",
    "end"
   ]
  },
  {
   "cell_type": "code",
   "execution_count": 214,
   "id": "52e0e146",
   "metadata": {},
   "outputs": [
    {
     "data": {
      "text/plain": [
       "get_A (generic function with 1 method)"
      ]
     },
     "execution_count": 214,
     "metadata": {},
     "output_type": "execute_result"
    }
   ],
   "source": [
    "function get_Y(X, t)\n",
    "    \"\n",
    "    Create the vector of data for the dual problem\n",
    "    \"\n",
    "    T, p = size(X)\n",
    "    Y = zeros(1,T*p)\n",
    "    Y[(t-1)*p+1:t*p] = X[t,:]\n",
    "    return Y\n",
    "end\n",
    "\n",
    "function get_Z(X)\n",
    "    T, p = size(X)\n",
    "    Z = zeros(T, T*p)\n",
    "    for t=1:T\n",
    "        Z[t,:] = get_Y(X,t)\n",
    "    end\n",
    "    return Z\n",
    "end\n",
    "\n",
    "function get_A(X, t)\n",
    "    T, p = size(X)\n",
    "    A = zeros(p,T*p)\n",
    "    A[:,(t-1)*p+1:t*p] = 1 * Matrix(I, p, p)\n",
    "    return A\n",
    "end"
   ]
  },
  {
   "cell_type": "code",
   "execution_count": 168,
   "id": "eb16adff",
   "metadata": {},
   "outputs": [
    {
     "data": {
      "text/plain": [
       "S_dual (generic function with 1 method)"
      ]
     },
     "execution_count": 168,
     "metadata": {},
     "output_type": "execute_result"
    }
   ],
   "source": [
    "function S_dual(X, y, β0, epsilon, delta)\n",
    "    \n",
    "    #Dual problem\n",
    "    \n",
    "    T, p = size(X)\n",
    "    Z = get_Z(X)\n",
    "    \n",
    "    # Create model\n",
    "    model = Model(with_optimizer(Gurobi.Optimizer))\n",
    "    set_optimizer_attribute(model, \"OutputFlag\", 0)\n",
    "    \n",
    "    # Add variables\n",
    "    @variable(model, λ[i=1:2, j=1:T] >= 0) \n",
    "    @variable(model, ν[i=1:2, j=1:T-1, k=1:p]>=0) \n",
    "    @variable(model, μ[i=1:2, j=1:T, k=1:p]>=0)\n",
    "\n",
    "    # Add objective\n",
    "    @objective(model, Max, dot(λ[1,:],y) - dot(λ[2,:],y) \n",
    "                            - delta * sum(sum(ν[1,t,i]+ν[2,t,i] for i=1:p) for t=1:T-1)\n",
    "                            - sum(dot(epsilon .+ β0, μ[1,t,:]) for t = 1:T)\n",
    "                            - sum(dot(epsilon .- β0, μ[2,t,:]) for t = 1:T))\n",
    "    \n",
    "    @constraint(model,[t=1:T], λ[1,:] .+ λ[2,:] .== 1)\n",
    "        \n",
    "        \n",
    "    @constraint(model, transpose(λ[2,:])*Z-transpose(λ[1,:])*Z \n",
    "                        + sum(transpose(ν[1,t,:])*(get_A(X, t+1).-get_A(X, t)) for t=1:T-1)\n",
    "                        + sum(transpose(ν[2,t,:])*(-get_A(X, t+1).+get_A(X, t)) for t=1:T-1)\n",
    "                        + sum(transpose(μ[1,t,:])*get_A(X,t) for t=1:T)\n",
    "                        - sum(transpose(μ[2,t,:])*get_A(X,t) for t=1:T) .== 0)\n",
    "    \n",
    "    \n",
    "    optimize!(model);\n",
    "    \n",
    "    return objective_value(model), getvalue.(λ), getvalue.(ν), getvalue.(μ)\n",
    "end"
   ]
  },
  {
   "cell_type": "code",
   "execution_count": 169,
   "id": "becoming-stability",
   "metadata": {},
   "outputs": [
    {
     "data": {
      "text/plain": [
       "R (generic function with 1 method)"
      ]
     },
     "execution_count": 169,
     "metadata": {},
     "output_type": "execute_result"
    }
   ],
   "source": [
    "function R(X, D_min, D_max, β0, epsilon, delta) \n",
    "    \"\n",
    "    Full dual problem\n",
    "    \"\n",
    "    T, p = size(X)\n",
    "    Z = get_Z(X)\n",
    "    \n",
    "    # Create model\n",
    "    model = Model(() -> Gurobi.Optimizer(GRB_ENV))#Model(with_optimizer(Gurobi.Optimizer))\n",
    "    set_optimizer_attribute(model, \"OutputFlag\", 0)\n",
    "    set_optimizer_attribute(model, \"NonConvex\", 2)\n",
    "    \n",
    "    # Add variables\n",
    "    @variable(model, λ[i=1:2, j=1:T] >= 0) \n",
    "    @variable(model, ν[i=1:2, j=1:T-1, k=1:p]>=0) \n",
    "    @variable(model, μ[i=1:2, j=1:T, k=1:p]>=0)\n",
    "    \n",
    "    @variable(model, y[j=1:T])\n",
    "\n",
    "    \n",
    "    @constraint(model,[t=1:T], λ[1,:] .+ λ[2,:] .== 1)\n",
    "        \n",
    "        \n",
    "    @constraint(model, transpose(λ[2,:])*Z-transpose(λ[1,:])*Z \n",
    "                        + sum(transpose(ν[1,t,:])*(get_A(X, t+1).-get_A(X, t)) for t=1:T-1)\n",
    "                        + sum(transpose(ν[2,t,:])*(-get_A(X, t+1).+get_A(X, t)) for t=1:T-1)\n",
    "                        + sum(transpose(μ[1,t,:])*get_A(X,t) for t=1:T)\n",
    "                        - sum(transpose(μ[2,t,:])*get_A(X,t) for t=1:T) .== 0)\n",
    "\n",
    "    #y in uncertainty set\n",
    "    @constraint(model, [1:T], D_min .<= y)\n",
    "    @constraint(model, [1:T], y .<= D_max)\n",
    "       \n",
    "    # Add objective\n",
    "    @objective(model, Max, 2*dot(λ[1,:],y) - sum(y)\n",
    "                            - delta * sum(sum(ν[1,t,i]+ν[2,t,i] for i=1:p) for t=1:T-1)\n",
    "                            - sum(dot(epsilon .+ β0, μ[1,t,:]) for t = 1:T)\n",
    "                            - sum(dot(epsilon .- β0, μ[2,t,:]) for t = 1:T)) #\n",
    "    optimize!(model)\n",
    "    return objective_value(model), getvalue.(y), getvalue.(λ), getvalue.(ν), getvalue.(μ)\n",
    "end"
   ]
  },
  {
   "cell_type": "code",
   "execution_count": 229,
   "id": "outer-hardware",
   "metadata": {},
   "outputs": [
    {
     "data": {
      "text/plain": [
       "master_problem (generic function with 8 methods)"
      ]
     },
     "execution_count": 229,
     "metadata": {},
     "output_type": "execute_result"
    }
   ],
   "source": [
    "function master_problem(X0, Xt, y0, D_min, D_max, threshold = 0.1, epsilon = 0.1, delta = 0.1, reg = 1, ρ = 1, max_cuts = 10, verbose=0)\n",
    "    n, p = size(X0)\n",
    "    T, p = size(Xt)\n",
    "    #Z = get_Z(X0)\n",
    "    L_BD = -10000\n",
    "    U_BD = 10000\n",
    "    cuts = 0\n",
    "    \n",
    "    # Create model\n",
    "    model = Model(() -> Gurobi.Optimizer(GRB_ENV))#Model(with_optimizer(Gurobi.Optimizer))\n",
    "    set_optimizer_attribute(model, \"OutputFlag\", 0)\n",
    "    \n",
    "    # Add variables\n",
    "    @variable(model, α)\n",
    "    @variable(model, β[j=1:p])\n",
    "    \n",
    "    #Warm start for β\n",
    "    β_val0 = l2_regression(X0, y0, ρ)#Random.rand(p)#\n",
    "    \n",
    "    #Initialization\n",
    "    _, y_val0, λ_val0, ν_val0, μ_val0 = R(Xt, D_min, D_max, β_val0, epsilon, delta)\n",
    "    \n",
    "    #First constraint\n",
    "    @constraint(model, α >= 2*dot(λ_val0[1,:],y_val0) - sum(y_val0)\n",
    "                            - delta * sum(sum(ν_val0[1,t,i]+ν_val0[2,t,i] for i=1:p) for t=1:T-1)\n",
    "                            - sum(dot(epsilon .+ β, μ_val0[1,t,:]) for t = 1:T)\n",
    "                            - sum(dot(epsilon .- β, μ_val0[2,t,:]) for t = 1:T))\n",
    "       \n",
    "    # Add objective\n",
    "    @objective(model, Min, 1/n*sum((y0[i]-sum(X0[i,j]*β[j] for j=1:p))^2 for i=1:n) + reg*α + ρ*sum(β[j]^2 for j=1:p))\n",
    "    \n",
    "    while cuts < max_cuts && U_BD - L_BD > threshold\n",
    "        if verbose\n",
    "            println(\"Lower: \", L_BD, \" Upper: \", U_BD)\n",
    "        end\n",
    "        cuts += 1\n",
    "        \n",
    "        #Solve current Master Problem\n",
    "        β_val, α_val, L_BD = solve_model_benders(model)\n",
    "        U_OA, y_val, λ_val, ν_val, μ_val = R(Xt, D_min, D_max, β_val, epsilon, delta)\n",
    "        \n",
    "        U_BD = 1/n*sum((y0[i]-sum(X0[i,j]*β_val[j] for j=1:p))^2 for i=1:n) + reg*U_OA + ρ*sum(β_val[j]^2 for j=1:p)\n",
    "        \n",
    "        if U_BD - L_BD > threshold\n",
    "            @constraint(model, α >= 2*dot(λ_val[1,:],y_val) - sum(y_val)\n",
    "                            - delta * sum(sum(ν_val[1,t,i]+ν_val[2,t,i] for i=1:p) for t=1:T-1)\n",
    "                            - sum(dot(epsilon .+ β, μ_val[1,t,:]) for t = 1:T)\n",
    "                            - sum(dot(epsilon .- β, μ_val[2,t,:]) for t = 1:T))\n",
    "            if verbose                    \n",
    "                println(\"Cut added\")\n",
    "            end\n",
    "        end\n",
    "    end\n",
    "    optimize!(model)\n",
    "    println(\"Final model Obj value: \", objective_value(model))\n",
    "    println(\"Lower: \", L_BD, \" Upper: \", U_BD)\n",
    "    return objective_value(model), getvalue.(β)#, getvalue.(λ), getvalue.(ν), getvalue.(μ)\n",
    "end    "
   ]
  },
  {
   "cell_type": "code",
   "execution_count": 261,
   "id": "copyrighted-latino",
   "metadata": {},
   "outputs": [],
   "source": [
    "X_test_adaptive = CSV.read(\"traffic_predictions_test_val.csv\", DataFrame)\n",
    "select!(X_test_adaptive, Not([:DummyRegressor,:Lasso, :LassoLars]))#, index = 'Unnamed: 0')\n",
    "y_test = CSV.read(\"traffic_test_val_scaled.csv\", DataFrame)#, index = 'Unnamed: 0')\n",
    "n0 = 1000\n",
    "n = 100\n",
    "m = 1\n",
    "X = X_test_adaptive[!,1:25]\n",
    "y = y_test[!, \"target\"];\n",
    "X0 = Matrix(X[n0:n0+n,:])\n",
    "X0[:,1] = ones(n+1)\n",
    "y0 = y[n0:n0+n,:][:]\n",
    "\n",
    "yt_true = y[n0+n+1:n0+n+m,:][:]\n",
    "Xt = Matrix(X[n0+n+1:n0+n+m,:])\n",
    "Xt[:,1] = ones(m)\n",
    "yt = mean(Xt, dims = 2)#y[n0+n+1:n0+n+m,:][:]\n",
    "epsilon = 0.02\n",
    "delta = 0.02\n",
    "threshold = 1e-8\n",
    "reg = 1;\n",
    "\n",
    "#X_test_adaptive = X_test_adaptive.drop(columns = ['DummyRegressor', 'Lasso', 'LassoLars'])"
   ]
  },
  {
   "cell_type": "code",
   "execution_count": 248,
   "id": "243cdb6d",
   "metadata": {},
   "outputs": [
    {
     "data": {
      "text/plain": [
       "prepare_data (generic function with 1 method)"
      ]
     },
     "execution_count": 248,
     "metadata": {},
     "output_type": "execute_result"
    }
   ],
   "source": [
    "function prepare_data(X, y, n0, n, m, std_factor)\n",
    "    \n",
    "    X0 = Matrix(X[n0:n0+n,:])\n",
    "    X0[:,1] = ones(n+1)\n",
    "    y0 = y[n0:n0+n,:][:]\n",
    "\n",
    "    yt_true = y[n0+n+1:n0+n+m,:][:]\n",
    "    Xt = Matrix(X[n0+n+1:n0+n+m,:])\n",
    "    Xt[:,1] = ones(m)\n",
    "    yt = mean(Xt, dims = 2)\n",
    "    \n",
    "    D_min = yt .- std_factor*std(Xt, dims = 2)\n",
    "    D_max = yt .+ std_factor*std(Xt, dims = 2)\n",
    "    \n",
    "    return X0, y0, Xt, yt, D_min, D_max\n",
    "end"
   ]
  },
  {
   "cell_type": "code",
   "execution_count": 250,
   "id": "528b1d98",
   "metadata": {},
   "outputs": [
    {
     "name": "stdout",
     "output_type": "stream",
     "text": [
      "Academic license - for non-commercial use only - expires 2022-07-20\n",
      "Obj 0.07759754048386233\n",
      "Final model Obj value: 0.07759735933952205\n",
      "Lower: 0.07759735933952205 Upper: 0.07759735933952507\n"
     ]
    },
    {
     "data": {
      "text/plain": [
       "(0.07759735933952205, [0.013871854943931805, 0.031293871271905194, 0.07106006532010122, 0.03647952011654193, 0.06931602877864938, 0.0072246867680013154, 0.03520176495824233, 0.07527454339033478, 0.07151400185881655, 0.020118222304224494  …  0.0355365911933577, 0.03527296619937535, 0.03401624322047278, 0.029531018390049967, 0.036128995009860575, 0.035957707916955996, 0.03708007693672764, 0.036679083125609094, 0.020118222304212, 0.07053376854010016])"
      ]
     },
     "execution_count": 250,
     "metadata": {},
     "output_type": "execute_result"
    }
   ],
   "source": [
    "X0, y0, Xt, yt, D_min, D_max = prepare_data(X, y, 100, 48, 1, 1)\n",
    "master_problem(X0, Xt, y0, D_min, D_max, threshold, epsilon, delta, reg, 1, 20, false)"
   ]
  },
  {
   "cell_type": "code",
   "execution_count": 251,
   "id": "34bccc0f",
   "metadata": {},
   "outputs": [
    {
     "name": "stdout",
     "output_type": "stream",
     "text": [
      "Academic license - for non-commercial use only - expires 2022-07-20\n",
      "Obj 0.07777306173873602\n",
      "Final model Obj value: 0.07777277079080891\n",
      "Lower: 0.07777277079080891 Upper: 0.0777727707907998\n"
     ]
    },
    {
     "data": {
      "text/plain": [
       "(0.07777277079080891, [0.014677044466902094, 0.030971147582727277, 0.07115352892512324, 0.03653975823512827, 0.06949316420576948, 0.007249288284493722, 0.03525075992106974, 0.07530738631806436, 0.07151946287004485, 0.020686319200357666  …  0.03558191039342365, 0.03531346016119178, 0.034034068193248446, 0.02943112134633463, 0.036178342997065266, 0.036013486222267466, 0.03713772307778912, 0.03673822246001721, 0.020686319200355338, 0.07069790977571708])"
      ]
     },
     "execution_count": 251,
     "metadata": {},
     "output_type": "execute_result"
    }
   ],
   "source": [
    "X0, y0, Xt, yt, D_min, D_max = prepare_data(X, y, 101, 48, 1, 1)\n",
    "master_problem(X0, Xt, y0, D_min, D_max, threshold, epsilon, delta, reg, 1, 20, false)"
   ]
  },
  {
   "cell_type": "code",
   "execution_count": 252,
   "id": "81db49bc",
   "metadata": {},
   "outputs": [
    {
     "name": "stdout",
     "output_type": "stream",
     "text": [
      "Academic license - for non-commercial use only - expires 2022-07-20\n",
      "Obj 0.07846264898117644\n",
      "Final model Obj value: 0.07846262737415821\n",
      "Lower: 0.07846262737415821 Upper: 0.0784626273741527\n"
     ]
    },
    {
     "data": {
      "text/plain": [
       "(0.07846262737415821, [0.013598957661381826, 0.03171747216186609, 0.07131776865039711, 0.036170861524129634, 0.06918937906362566, 0.007240136462765787, 0.03490185740751056, 0.07557240854168013, 0.07173735508413721, 0.020215293605156167  …  0.035230377675337515, 0.03497629266256038, 0.03378163067580022, 0.029365904562165226, 0.03580243994594172, 0.03562974906506159, 0.03676897675548446, 0.03636828447345122, 0.020215293605152566, 0.07102018581646732])"
      ]
     },
     "execution_count": 252,
     "metadata": {},
     "output_type": "execute_result"
    }
   ],
   "source": [
    "X0, y0, Xt, yt, D_min, D_max = prepare_data(X, y, 102, 48, 1, 1)\n",
    "master_problem(X0, Xt, y0, D_min, D_max, threshold, epsilon, delta, reg, 1, 20, false)"
   ]
  },
  {
   "cell_type": "code",
   "execution_count": 259,
   "id": "5b6772ce",
   "metadata": {},
   "outputs": [
    {
     "data": {
      "text/plain": [
       "build_beta (generic function with 1 method)"
      ]
     },
     "execution_count": 259,
     "metadata": {},
     "output_type": "execute_result"
    }
   ],
   "source": [
    "function build_beta(X, y, n0, n, m, std_factor, steps)\n",
    "    p = size(X)[2]\n",
    "    β_list = zeros(steps, p)\n",
    "    for s=1:steps\n",
    "        X0, y0, Xt, yt, D_min, D_max = prepare_data(X, y, n0+s, n, m, std_factor)\n",
    "        obj, β = master_problem(X0, Xt, y0, D_min, D_max, threshold, epsilon, delta, reg, 1, 20, false)\n",
    "        β_list[s,:] = β\n",
    "    end\n",
    "    return β_list\n",
    "end"
   ]
  },
  {
   "cell_type": "code",
   "execution_count": 282,
   "id": "2946993b",
   "metadata": {},
   "outputs": [
    {
     "name": "stdout",
     "output_type": "stream",
     "text": [
      "Academic license - for non-commercial use only - expires 2022-07-20\n",
      "Obj 0.17678775118403384\n",
      "Final model Obj value: 0.1767872974899367\n",
      "Lower: 0.1767872974899367 Upper: 0.17678729748993643\n",
      "Academic license - for non-commercial use only - expires 2022-07-20\n",
      "Obj 0.13075599007301014\n",
      "Final model Obj value: 0.13075585689199842\n",
      "Lower: 0.13075585689199842 Upper: 0.13075585689199343\n",
      "Academic license - for non-commercial use only - expires 2022-07-20\n",
      "Obj 0.12714497284627793\n",
      "Final model Obj value: 0.1271446049595617\n",
      "Lower: 0.1271446049595617 Upper: 0.1271446049595239\n",
      "Academic license - for non-commercial use only - expires 2022-07-20\n",
      "Obj 0.09130690729345065\n",
      "Final model Obj value: 0.0913067873698079\n",
      "Lower: 0.0913067873698079 Upper: 0.09130678736980788\n",
      "Academic license - for non-commercial use only - expires 2022-07-20\n",
      "Obj 0.10258651992052309\n",
      "Final model Obj value: 0.10258627333319659\n",
      "Lower: 0.10258627333319659 Upper: 0.10258627333319008\n",
      "Academic license - for non-commercial use only - expires 2022-07-20\n",
      "Obj 0.10411285106057698\n",
      "Final model Obj value: 0.10411283683468942\n",
      "Lower: 0.10411283683468942 Upper: 0.10411283683468776\n",
      "Academic license - for non-commercial use only - expires 2022-07-20\n",
      "Obj 0.03064807987931934\n",
      "Final model Obj value: 0.03064800155381403\n",
      "Lower: 0.03064800155381403 Upper: 0.030648001553822427\n",
      "Academic license - for non-commercial use only - expires 2022-07-20\n",
      "Obj 0.023545534412534937\n",
      "Final model Obj value: 0.02354549202052475\n",
      "Lower: 0.02354549202052475 Upper: 0.023545492020524597\n",
      "Academic license - for non-commercial use only - expires 2022-07-20\n",
      "Obj 0.026774850295509328\n",
      "Final model Obj value: 0.02677438547221017\n",
      "Lower: 0.02677438547221017 Upper: 0.02677438547220836\n",
      "Academic license - for non-commercial use only - expires 2022-07-20\n",
      "Obj 0.03202755675221289\n",
      "Final model Obj value: 0.03202746560425607\n",
      "Lower: 0.03202746560425607 Upper: 0.032027465604268585\n",
      "Academic license - for non-commercial use only - expires 2022-07-20\n",
      "Obj 0.04834434452807472\n",
      "Final model Obj value: 0.04834427949402054\n",
      "Lower: 0.04834427949402054 Upper: 0.04834427949401687\n",
      "Academic license - for non-commercial use only - expires 2022-07-20\n",
      "Obj 0.06920443680800556\n",
      "Final model Obj value: 0.06920433597256093\n",
      "Lower: 0.06920433597256093 Upper: 0.06920433597254924\n",
      "Academic license - for non-commercial use only - expires 2022-07-20\n",
      "Obj 0.06561918080498023\n",
      "Final model Obj value: 0.06561917646416227\n",
      "Lower: 0.06561917646416227 Upper: 0.06561917646416418\n",
      "Academic license - for non-commercial use only - expires 2022-07-20\n",
      "Obj 0.07796721694654088\n",
      "Final model Obj value: 0.13384026953744232\n",
      "Lower: 0.13384026953744232 Upper: 0.13384026740185528\n",
      "Academic license - for non-commercial use only - expires 2022-07-20\n",
      "Obj 0.08077993499844838\n",
      "Final model Obj value: 0.08229898632736421\n",
      "Lower: 0.08229898632736421 Upper: 0.08229898632387359\n",
      "Academic license - for non-commercial use only - expires 2022-07-20\n",
      "Obj 0.05156654443763949\n",
      "Final model Obj value: 0.0515659320262164\n",
      "Lower: 0.0515659320262164 Upper: 0.05156593202621873\n",
      "Academic license - for non-commercial use only - expires 2022-07-20\n",
      "Obj 0.021627134562761264\n",
      "Final model Obj value: 0.02179501096728982\n",
      "Lower: 0.02179501096728982 Upper: 0.021795010966543862\n",
      "Academic license - for non-commercial use only - expires 2022-07-20\n",
      "Obj 0.0359785829095894\n",
      "Final model Obj value: 0.035978416494219984\n",
      "Lower: 0.035978416494219984 Upper: 0.03597841649421966\n",
      "Academic license - for non-commercial use only - expires 2022-07-20\n",
      "Obj 0.05794473663330791\n",
      "Final model Obj value: 0.05794432898414997\n",
      "Lower: 0.05794432898414997 Upper: 0.057944328984148724\n",
      "Academic license - for non-commercial use only - expires 2022-07-20\n",
      "Obj 0.05989965854006677\n",
      "Final model Obj value: 0.05989954321197766\n",
      "Lower: 0.05989954321197766 Upper: 0.05989954321196431\n",
      "Academic license - for non-commercial use only - expires 2022-07-20\n",
      "Obj 0.057881082263023666\n",
      "Final model Obj value: 0.05788102717879595\n",
      "Lower: 0.05788102717879595 Upper: 0.057881027178775094\n",
      "Academic license - for non-commercial use only - expires 2022-07-20\n",
      "Obj 0.05907045809000369\n",
      "Final model Obj value: 0.05907036046657854\n",
      "Lower: 0.05907036046657854 Upper: 0.05907036046654563\n",
      "Academic license - for non-commercial use only - expires 2022-07-20\n",
      "Obj 0.05200439664673055\n",
      "Final model Obj value: 0.05200434040351687\n",
      "Lower: 0.05200434040351687 Upper: 0.05200434040357516\n",
      "Academic license - for non-commercial use only - expires 2022-07-20\n",
      "Obj 0.05115658412275707\n",
      "Final model Obj value: 0.05115653386570229\n",
      "Lower: 0.05115653386570229 Upper: 0.051156533865682224\n",
      "Academic license - for non-commercial use only - expires 2022-07-20\n",
      "Obj 0.050510653927232585\n",
      "Final model Obj value: 0.05051058644146389\n",
      "Lower: 0.05051058644146389 Upper: 0.050510586441361256\n",
      "Academic license - for non-commercial use only - expires 2022-07-20\n",
      "Obj 0.04991116948547443\n",
      "Final model Obj value: 0.049911167387879374\n",
      "Lower: 0.049911167387879374 Upper: 0.04991116738785619\n",
      "Academic license - for non-commercial use only - expires 2022-07-20\n",
      "Obj 0.05108738673159843\n",
      "Final model Obj value: 0.051137532897381766\n",
      "Lower: 0.051137532897381766 Upper: 0.05113753289659046\n",
      "Academic license - for non-commercial use only - expires 2022-07-20\n",
      "Obj 0.07653205518324357\n",
      "Final model Obj value: 0.08889301067711641\n",
      "Lower: 0.08889301067711641 Upper: 0.08889301067126607\n",
      "Academic license - for non-commercial use only - expires 2022-07-20\n",
      "Obj 0.11918680656175812\n",
      "Final model Obj value: 0.16554949107931827\n",
      "Lower: 0.16554949107931827 Upper: 0.16554949106709563\n",
      "Academic license - for non-commercial use only - expires 2022-07-20\n",
      "Obj 0.12496954764765539\n",
      "Final model Obj value: 0.1840219574970806\n",
      "Lower: 0.1840219574970806 Upper: 0.1840219534293295\n",
      "Academic license - for non-commercial use only - expires 2022-07-20\n",
      "Obj 0.16588690802601122\n",
      "Final model Obj value: 0.16588678988769912\n",
      "Lower: 0.16588678988769912 Upper: 0.16588678988770122\n",
      "Academic license - for non-commercial use only - expires 2022-07-20\n",
      "Obj 0.08990550278899875\n",
      "Final model Obj value: 0.08990546032175856\n",
      "Lower: 0.08990546032175856 Upper: 0.08990546032175925\n",
      "Academic license - for non-commercial use only - expires 2022-07-20\n",
      "Obj 0.1327419677906375\n",
      "Final model Obj value: 0.13274192739569546\n",
      "Lower: 0.13274192739569546 Upper: 0.1327419273957034\n",
      "Academic license - for non-commercial use only - expires 2022-07-20\n",
      "Obj 0.13249769075031403\n",
      "Final model Obj value: 0.13249760976337055\n",
      "Lower: 0.13249760976337055 Upper: 0.13249760976337596\n",
      "Academic license - for non-commercial use only - expires 2022-07-20\n",
      "Obj 0.12236868303287067\n",
      "Final model Obj value: 0.12317362549156663\n",
      "Lower: 0.12317362549156663 Upper: 0.1231736254533696\n",
      "Academic license - for non-commercial use only - expires 2022-07-20\n",
      "Obj 0.12417545631275842\n",
      "Final model Obj value: 0.12417519715873276\n",
      "Lower: 0.12417519715873276 Upper: 0.12417519715873127\n",
      "Academic license - for non-commercial use only - expires 2022-07-20\n",
      "Obj 0.02070287437443888\n",
      "Final model Obj value: 0.020702771512547596\n",
      "Lower: 0.020702771512547596 Upper: 0.02070277151254897\n",
      "Academic license - for non-commercial use only - expires 2022-07-20\n",
      "Obj 0.021995946589836612\n",
      "Final model Obj value: 0.02199537476026664\n",
      "Lower: 0.02199537476026664 Upper: 0.021995374760265047\n",
      "Academic license - for non-commercial use only - expires 2022-07-20\n",
      "Obj 0.021087787676684844\n",
      "Final model Obj value: 0.021087707227266356\n",
      "Lower: 0.021087707227266356 Upper: 0.021087707227266418\n",
      "Academic license - for non-commercial use only - expires 2022-07-20\n",
      "Obj 0.03127749872634146\n",
      "Final model Obj value: 0.03127729688694997\n",
      "Lower: 0.03127729688694997 Upper: 0.03127729688694876\n",
      "Academic license - for non-commercial use only - expires 2022-07-20\n",
      "Obj 0.06618173363593223\n",
      "Final model Obj value: 0.06618169233799531\n",
      "Lower: 0.06618169233799531 Upper: 0.06618169233799256\n",
      "Academic license - for non-commercial use only - expires 2022-07-20\n",
      "Obj 0.06367296570953485\n",
      "Final model Obj value: 0.06367281033954875\n",
      "Lower: 0.06367281033954875 Upper: 0.06367281033954741\n",
      "Academic license - for non-commercial use only - expires 2022-07-20\n",
      "Obj 0.05546725363393629\n",
      "Final model Obj value: 0.055467151521738534\n",
      "Lower: 0.055467151521738534 Upper: 0.05546715152174092\n",
      "Academic license - for non-commercial use only - expires 2022-07-20\n",
      "Obj 0.0557881241930975\n",
      "Final model Obj value: 0.09826110390829979\n",
      "Lower: 0.09826110390829979 Upper: 0.09826110189458856\n",
      "Academic license - for non-commercial use only - expires 2022-07-20\n",
      "Obj 0.03626864562703076\n"
     ]
    },
    {
     "name": "stdout",
     "output_type": "stream",
     "text": [
      "Final model Obj value: 0.045709195636543326\n",
      "Lower: 0.045709195636543326 Upper: 0.04570919361239724\n",
      "Academic license - for non-commercial use only - expires 2022-07-20\n",
      "Obj 0.07072991757021195\n",
      "Final model Obj value: 0.07072977952027368\n",
      "Lower: 0.07072977952027368 Upper: 0.07072977952027332\n",
      "Academic license - for non-commercial use only - expires 2022-07-20\n",
      "Obj 0.07928299438894329\n",
      "Final model Obj value: 0.07928250496656125\n",
      "Lower: 0.07928250496656125 Upper: 0.07928250496656201\n",
      "Academic license - for non-commercial use only - expires 2022-07-20\n",
      "Obj 0.10371535507340668\n",
      "Final model Obj value: 0.10992928131061708\n",
      "Lower: 0.10992928131061708 Upper: 0.10992928126598103\n",
      "Academic license - for non-commercial use only - expires 2022-07-20\n",
      "Obj 0.10390384503189015\n",
      "Final model Obj value: 0.12230938418656057\n",
      "Lower: 0.12230938418656057 Upper: 0.12230938418479935\n",
      "Academic license - for non-commercial use only - expires 2022-07-20\n",
      "Obj 0.08930481771051452\n",
      "Final model Obj value: 0.10234808097984738\n",
      "Lower: 0.10234808097984738 Upper: 0.10234808097590814\n"
     ]
    },
    {
     "data": {
      "text/plain": [
       "50×25 Array{Float64,2}:\n",
       " -0.00901722   0.0128371   0.0725933  …  0.00439653  0.0283151    0.0917659\n",
       "  0.0388874    0.0182138   0.0860287     0.00690201  0.009431     0.0829059\n",
       "  0.0956687    0.0367704   0.101198      0.00957185  0.03065      0.103795\n",
       "  0.0522433    0.0238422   0.0656542     0.0326161   0.0360279    0.0544601\n",
       "  0.0429721    0.0359026   0.0663926     0.0304805   0.013401     0.0529684\n",
       "  0.0353997    0.0351328   0.0680139  …  0.0305594   0.00622853   0.0536762\n",
       "  0.030162     0.0342177   0.0337154     0.0344374   0.0236998    0.0331107\n",
       "  0.0436805    0.0181207   0.0292767     0.0285317   0.0365182    0.0281481\n",
       "  0.0442888    0.0184294   0.0300628     0.0316146   0.0387196    0.0284406\n",
       "  0.0431871    0.0185898   0.0352254     0.0334934   0.0384213    0.0331581\n",
       "  0.0430052    0.0205949   0.0415171  …  0.0362833   0.0354887    0.0448324\n",
       "  0.0388159    0.0208901   0.0578486     0.0405223   0.0263171    0.0583788\n",
       "  0.0443612    0.02239     0.0558603     0.0430831   0.0332264    0.0553488\n",
       "  ⋮                                   ⋱                          \n",
       "  0.0504329    0.0137258   0.0211161     0.0261014   0.0370067    0.0235857\n",
       "  0.0494113    0.0109756   0.0250698     0.0289942   0.0377775    0.0248295\n",
       "  0.0493075    0.0147144   0.0298931  …  0.0363692   0.034526     0.0364756\n",
       "  0.0494318    0.0200222   0.0339665     0.0394944   0.034206     0.041458\n",
       "  0.0568733    0.0184886   0.0313974     0.0424462   0.0437433    0.0377479\n",
       "  0.0442665    0.0186845   0.0307491     0.0420994   0.0389134    0.0388756\n",
       "  0.0234423    0.0169082   0.037679      0.0359375   0.0259263    0.043822\n",
       " -0.0568587   -0.00469258  0.0395831  …  0.0437681   0.0289089    0.0354042\n",
       " -0.0894926   -0.00852463  0.0390665     0.0523126   0.029475     0.0361154\n",
       " -0.101622     0.00157308  0.0817646     0.0479536   0.0322759    0.0593258\n",
       " -0.097883     0.00595164  0.0609273     0.0588789   0.0230234   -0.0150132\n",
       " -0.0717549   -0.00863462  0.0807483     0.0570872   0.0321523    0.00222628"
      ]
     },
     "execution_count": 282,
     "metadata": {},
     "output_type": "execute_result"
    }
   ],
   "source": [
    "β_list = build_beta(X,y,1000,3,1,0.5,50)"
   ]
  },
  {
   "cell_type": "code",
   "execution_count": 283,
   "id": "72cc6085",
   "metadata": {},
   "outputs": [
    {
     "data": {
      "image/svg+xml": [
       "<?xml version=\"1.0\" encoding=\"utf-8\"?>\n",
       "<svg xmlns=\"http://www.w3.org/2000/svg\" xmlns:xlink=\"http://www.w3.org/1999/xlink\" width=\"750\" height=\"750\" viewBox=\"0 0 3000 3000\">\n",
       "<defs>\n",
       "  <clipPath id=\"clip780\">\n",
       "    <rect x=\"0\" y=\"0\" width=\"3000\" height=\"3000\"/>\n",
       "  </clipPath>\n",
       "</defs>\n",
       "<path clip-path=\"url(#clip780)\" d=\"\n",
       "M0 3000 L3000 3000 L3000 0 L0 0  Z\n",
       "  \" fill=\"#ffffff\" fill-rule=\"evenodd\" fill-opacity=\"1\"/>\n",
       "<defs>\n",
       "  <clipPath id=\"clip781\">\n",
       "    <rect x=\"600\" y=\"300\" width=\"2101\" height=\"2101\"/>\n",
       "  </clipPath>\n",
       "</defs>\n",
       "<path clip-path=\"url(#clip780)\" d=\"\n",
       "M75.6669 2941.29 L2988.19 2941.29 L2988.19 11.811 L75.6669 11.811  Z\n",
       "  \" fill=\"#ffffff\" fill-rule=\"evenodd\" fill-opacity=\"1\"/>\n",
       "<defs>\n",
       "  <clipPath id=\"clip782\">\n",
       "    <rect x=\"75\" y=\"11\" width=\"2914\" height=\"2930\"/>\n",
       "  </clipPath>\n",
       "</defs>\n",
       "<polyline clip-path=\"url(#clip782)\" style=\"stroke:#000000; stroke-width:0.5; stroke-opacity:0.1; fill:none\" points=\"\n",
       "  102.022,2941.29 102.022,11.811 \n",
       "  \"/>\n",
       "<polyline clip-path=\"url(#clip782)\" style=\"stroke:#000000; stroke-width:0.5; stroke-opacity:0.1; fill:none\" points=\"\n",
       "  662.769,2941.29 662.769,11.811 \n",
       "  \"/>\n",
       "<polyline clip-path=\"url(#clip782)\" style=\"stroke:#000000; stroke-width:0.5; stroke-opacity:0.1; fill:none\" points=\"\n",
       "  1223.52,2941.29 1223.52,11.811 \n",
       "  \"/>\n",
       "<polyline clip-path=\"url(#clip782)\" style=\"stroke:#000000; stroke-width:0.5; stroke-opacity:0.1; fill:none\" points=\"\n",
       "  1784.26,2941.29 1784.26,11.811 \n",
       "  \"/>\n",
       "<polyline clip-path=\"url(#clip782)\" style=\"stroke:#000000; stroke-width:0.5; stroke-opacity:0.1; fill:none\" points=\"\n",
       "  2345.01,2941.29 2345.01,11.811 \n",
       "  \"/>\n",
       "<polyline clip-path=\"url(#clip782)\" style=\"stroke:#000000; stroke-width:0.5; stroke-opacity:0.1; fill:none\" points=\"\n",
       "  2905.76,2941.29 2905.76,11.811 \n",
       "  \"/>\n",
       "<polyline clip-path=\"url(#clip780)\" style=\"stroke:#000000; stroke-width:1; stroke-opacity:1; fill:none\" points=\"\n",
       "  75.6669,2941.29 2988.19,2941.29 \n",
       "  \"/>\n",
       "<polyline clip-path=\"url(#clip780)\" style=\"stroke:#000000; stroke-width:1; stroke-opacity:1; fill:none\" points=\"\n",
       "  102.022,2941.29 102.022,2906.14 \n",
       "  \"/>\n",
       "<polyline clip-path=\"url(#clip780)\" style=\"stroke:#000000; stroke-width:1; stroke-opacity:1; fill:none\" points=\"\n",
       "  662.769,2941.29 662.769,2906.14 \n",
       "  \"/>\n",
       "<polyline clip-path=\"url(#clip780)\" style=\"stroke:#000000; stroke-width:1; stroke-opacity:1; fill:none\" points=\"\n",
       "  1223.52,2941.29 1223.52,2906.14 \n",
       "  \"/>\n",
       "<polyline clip-path=\"url(#clip780)\" style=\"stroke:#000000; stroke-width:1; stroke-opacity:1; fill:none\" points=\"\n",
       "  1784.26,2941.29 1784.26,2906.14 \n",
       "  \"/>\n",
       "<polyline clip-path=\"url(#clip780)\" style=\"stroke:#000000; stroke-width:1; stroke-opacity:1; fill:none\" points=\"\n",
       "  2345.01,2941.29 2345.01,2906.14 \n",
       "  \"/>\n",
       "<polyline clip-path=\"url(#clip780)\" style=\"stroke:#000000; stroke-width:1; stroke-opacity:1; fill:none\" points=\"\n",
       "  2905.76,2941.29 2905.76,2906.14 \n",
       "  \"/>\n",
       "<path clip-path=\"url(#clip780)\" d=\"M 0 0 M102.022 2967.79 Q101.119 2967.79 100.662 2968.68 Q100.211 2969.57 100.211 2971.35 Q100.211 2973.13 100.662 2974.02 Q101.119 2974.9 102.022 2974.9 Q102.931 2974.9 103.382 2974.02 Q103.839 2973.13 103.839 2971.35 Q103.839 2969.57 103.382 2968.68 Q102.931 2967.79 102.022 2967.79 M102.022 2966.86 Q103.475 2966.86 104.238 2968.02 Q105.008 2969.16 105.008 2971.35 Q105.008 2973.53 104.238 2974.68 Q103.475 2975.83 102.022 2975.83 Q100.569 2975.83 99.7998 2974.68 Q99.0359 2973.53 99.0359 2971.35 Q99.0359 2969.16 99.7998 2968.02 Q100.569 2966.86 102.022 2966.86 Z\" fill=\"#000000\" fill-rule=\"evenodd\" fill-opacity=\"1\" /><path clip-path=\"url(#clip780)\" d=\"M 0 0 M656.988 2974.68 L658.898 2974.68 L658.898 2968.08 L656.82 2968.5 L656.82 2967.44 L658.886 2967.02 L660.055 2967.02 L660.055 2974.68 L661.965 2974.68 L661.965 2975.66 L656.988 2975.66 L656.988 2974.68 Z\" fill=\"#000000\" fill-rule=\"evenodd\" fill-opacity=\"1\" /><path clip-path=\"url(#clip780)\" d=\"M 0 0 M665.732 2967.79 Q664.83 2967.79 664.372 2968.68 Q663.921 2969.57 663.921 2971.35 Q663.921 2973.13 664.372 2974.02 Q664.83 2974.9 665.732 2974.9 Q666.641 2974.9 667.092 2974.02 Q667.549 2973.13 667.549 2971.35 Q667.549 2969.57 667.092 2968.68 Q666.641 2967.79 665.732 2967.79 M665.732 2966.86 Q667.185 2966.86 667.949 2968.02 Q668.718 2969.16 668.718 2971.35 Q668.718 2973.53 667.949 2974.68 Q667.185 2975.83 665.732 2975.83 Q664.28 2975.83 663.51 2974.68 Q662.746 2973.53 662.746 2971.35 Q662.746 2969.16 663.51 2968.02 Q664.28 2966.86 665.732 2966.86 Z\" fill=\"#000000\" fill-rule=\"evenodd\" fill-opacity=\"1\" /><path clip-path=\"url(#clip780)\" d=\"M 0 0 M1218.8 2974.68 L1222.88 2974.68 L1222.88 2975.66 L1217.4 2975.66 L1217.4 2974.68 Q1218.06 2973.99 1219.21 2972.83 Q1220.36 2971.67 1220.66 2971.33 Q1221.22 2970.7 1221.44 2970.27 Q1221.66 2969.83 1221.66 2969.4 Q1221.66 2968.72 1221.18 2968.28 Q1220.7 2967.85 1219.92 2967.85 Q1219.37 2967.85 1218.76 2968.04 Q1218.15 2968.23 1217.45 2968.62 L1217.45 2967.44 Q1218.16 2967.15 1218.77 2967.01 Q1219.39 2966.86 1219.9 2966.86 Q1221.24 2966.86 1222.04 2967.54 Q1222.84 2968.21 1222.84 2969.33 Q1222.84 2969.86 1222.63 2970.34 Q1222.44 2970.82 1221.91 2971.46 Q1221.77 2971.63 1220.99 2972.44 Q1220.22 2973.24 1218.8 2974.68 Z\" fill=\"#000000\" fill-rule=\"evenodd\" fill-opacity=\"1\" /><path clip-path=\"url(#clip780)\" d=\"M 0 0 M1226.65 2967.79 Q1225.75 2967.79 1225.29 2968.68 Q1224.84 2969.57 1224.84 2971.35 Q1224.84 2973.13 1225.29 2974.02 Q1225.75 2974.9 1226.65 2974.9 Q1227.56 2974.9 1228.01 2974.02 Q1228.47 2973.13 1228.47 2971.35 Q1228.47 2969.57 1228.01 2968.68 Q1227.56 2967.79 1226.65 2967.79 M1226.65 2966.86 Q1228.1 2966.86 1228.87 2968.02 Q1229.64 2969.16 1229.64 2971.35 Q1229.64 2973.53 1228.87 2974.68 Q1228.1 2975.83 1226.65 2975.83 Q1225.2 2975.83 1224.43 2974.68 Q1223.66 2973.53 1223.66 2971.35 Q1223.66 2969.16 1224.43 2968.02 Q1225.2 2966.86 1226.65 2966.86 Z\" fill=\"#000000\" fill-rule=\"evenodd\" fill-opacity=\"1\" /><path clip-path=\"url(#clip780)\" d=\"M 0 0 M1781.95 2971 Q1782.79 2971.18 1783.26 2971.75 Q1783.73 2972.32 1783.73 2973.15 Q1783.73 2974.43 1782.85 2975.13 Q1781.97 2975.83 1780.35 2975.83 Q1779.81 2975.83 1779.23 2975.72 Q1778.66 2975.61 1778.04 2975.4 L1778.04 2974.27 Q1778.53 2974.55 1779.11 2974.7 Q1779.69 2974.84 1780.32 2974.84 Q1781.42 2974.84 1781.99 2974.41 Q1782.57 2973.98 1782.57 2973.15 Q1782.57 2972.38 1782.03 2971.96 Q1781.5 2971.52 1780.54 2971.52 L1779.54 2971.52 L1779.54 2970.56 L1780.59 2970.56 Q1781.45 2970.56 1781.91 2970.22 Q1782.37 2969.87 1782.37 2969.22 Q1782.37 2968.56 1781.89 2968.21 Q1781.42 2967.85 1780.54 2967.85 Q1780.06 2967.85 1779.51 2967.95 Q1778.96 2968.06 1778.3 2968.28 L1778.3 2967.23 Q1778.97 2967.05 1779.55 2966.96 Q1780.13 2966.86 1780.65 2966.86 Q1781.98 2966.86 1782.75 2967.47 Q1783.53 2968.07 1783.53 2969.1 Q1783.53 2969.82 1783.12 2970.32 Q1782.71 2970.81 1781.95 2971 Z\" fill=\"#000000\" fill-rule=\"evenodd\" fill-opacity=\"1\" /><path clip-path=\"url(#clip780)\" d=\"M 0 0 M1787.5 2967.79 Q1786.6 2967.79 1786.14 2968.68 Q1785.69 2969.57 1785.69 2971.35 Q1785.69 2973.13 1786.14 2974.02 Q1786.6 2974.9 1787.5 2974.9 Q1788.41 2974.9 1788.86 2974.02 Q1789.32 2973.13 1789.32 2971.35 Q1789.32 2969.57 1788.86 2968.68 Q1788.41 2967.79 1787.5 2967.79 M1787.5 2966.86 Q1788.95 2966.86 1789.72 2968.02 Q1790.49 2969.16 1790.49 2971.35 Q1790.49 2973.53 1789.72 2974.68 Q1788.95 2975.83 1787.5 2975.83 Q1786.05 2975.83 1785.28 2974.68 Q1784.51 2973.53 1784.51 2971.35 Q1784.51 2969.16 1785.28 2968.02 Q1786.05 2966.86 1787.5 2966.86 Z\" fill=\"#000000\" fill-rule=\"evenodd\" fill-opacity=\"1\" /><path clip-path=\"url(#clip780)\" d=\"M 0 0 M2342.39 2968.04 L2339.44 2972.65 L2342.39 2972.65 L2342.39 2968.04 M2342.08 2967.02 L2343.55 2967.02 L2343.55 2972.65 L2344.78 2972.65 L2344.78 2973.62 L2343.55 2973.62 L2343.55 2975.66 L2342.39 2975.66 L2342.39 2973.62 L2338.49 2973.62 L2338.49 2972.49 L2342.08 2967.02 Z\" fill=\"#000000\" fill-rule=\"evenodd\" fill-opacity=\"1\" /><path clip-path=\"url(#clip780)\" d=\"M 0 0 M2348.55 2967.79 Q2347.65 2967.79 2347.19 2968.68 Q2346.74 2969.57 2346.74 2971.35 Q2346.74 2973.13 2347.19 2974.02 Q2347.65 2974.9 2348.55 2974.9 Q2349.46 2974.9 2349.91 2974.02 Q2350.37 2973.13 2350.37 2971.35 Q2350.37 2969.57 2349.91 2968.68 Q2349.46 2967.79 2348.55 2967.79 M2348.55 2966.86 Q2350 2966.86 2350.77 2968.02 Q2351.54 2969.16 2351.54 2971.35 Q2351.54 2973.53 2350.77 2974.68 Q2350 2975.83 2348.55 2975.83 Q2347.1 2975.83 2346.33 2974.68 Q2345.56 2973.53 2345.56 2971.35 Q2345.56 2969.16 2346.33 2968.02 Q2347.1 2966.86 2348.55 2966.86 Z\" fill=\"#000000\" fill-rule=\"evenodd\" fill-opacity=\"1\" /><path clip-path=\"url(#clip780)\" d=\"M 0 0 M2899.95 2967.02 L2904.54 2967.02 L2904.54 2968 L2901.02 2968 L2901.02 2970.12 Q2901.28 2970.03 2901.53 2969.99 Q2901.79 2969.95 2902.04 2969.95 Q2903.49 2969.95 2904.33 2970.74 Q2905.18 2971.53 2905.18 2972.89 Q2905.18 2974.28 2904.31 2975.06 Q2903.44 2975.83 2901.86 2975.83 Q2901.32 2975.83 2900.75 2975.74 Q2900.19 2975.64 2899.59 2975.46 L2899.59 2974.28 Q2900.11 2974.57 2900.66 2974.71 Q2901.22 2974.84 2901.84 2974.84 Q2902.84 2974.84 2903.42 2974.32 Q2904.01 2973.79 2904.01 2972.89 Q2904.01 2971.99 2903.42 2971.46 Q2902.84 2970.93 2901.84 2970.93 Q2901.37 2970.93 2900.9 2971.04 Q2900.44 2971.14 2899.95 2971.36 L2899.95 2967.02 Z\" fill=\"#000000\" fill-rule=\"evenodd\" fill-opacity=\"1\" /><path clip-path=\"url(#clip780)\" d=\"M 0 0 M2908.94 2967.79 Q2908.04 2967.79 2907.58 2968.68 Q2907.13 2969.57 2907.13 2971.35 Q2907.13 2973.13 2907.58 2974.02 Q2908.04 2974.9 2908.94 2974.9 Q2909.85 2974.9 2910.3 2974.02 Q2910.76 2973.13 2910.76 2971.35 Q2910.76 2969.57 2910.3 2968.68 Q2909.85 2967.79 2908.94 2967.79 M2908.94 2966.86 Q2910.4 2966.86 2911.16 2968.02 Q2911.93 2969.16 2911.93 2971.35 Q2911.93 2973.53 2911.16 2974.68 Q2910.4 2975.83 2908.94 2975.83 Q2907.49 2975.83 2906.72 2974.68 Q2905.96 2973.53 2905.96 2971.35 Q2905.96 2969.16 2906.72 2968.02 Q2907.49 2966.86 2908.94 2966.86 Z\" fill=\"#000000\" fill-rule=\"evenodd\" fill-opacity=\"1\" /><polyline clip-path=\"url(#clip782)\" style=\"stroke:#000000; stroke-width:0.5; stroke-opacity:0.1; fill:none\" points=\"\n",
       "  75.6669,2840.03 2988.19,2840.03 \n",
       "  \"/>\n",
       "<polyline clip-path=\"url(#clip782)\" style=\"stroke:#000000; stroke-width:0.5; stroke-opacity:0.1; fill:none\" points=\"\n",
       "  75.6669,2274.47 2988.19,2274.47 \n",
       "  \"/>\n",
       "<polyline clip-path=\"url(#clip782)\" style=\"stroke:#000000; stroke-width:0.5; stroke-opacity:0.1; fill:none\" points=\"\n",
       "  75.6669,1708.91 2988.19,1708.91 \n",
       "  \"/>\n",
       "<polyline clip-path=\"url(#clip782)\" style=\"stroke:#000000; stroke-width:0.5; stroke-opacity:0.1; fill:none\" points=\"\n",
       "  75.6669,1143.35 2988.19,1143.35 \n",
       "  \"/>\n",
       "<polyline clip-path=\"url(#clip782)\" style=\"stroke:#000000; stroke-width:0.5; stroke-opacity:0.1; fill:none\" points=\"\n",
       "  75.6669,577.796 2988.19,577.796 \n",
       "  \"/>\n",
       "<polyline clip-path=\"url(#clip782)\" style=\"stroke:#000000; stroke-width:0.5; stroke-opacity:0.1; fill:none\" points=\"\n",
       "  75.6669,12.237 2988.19,12.237 \n",
       "  \"/>\n",
       "<polyline clip-path=\"url(#clip780)\" style=\"stroke:#000000; stroke-width:1; stroke-opacity:1; fill:none\" points=\"\n",
       "  75.6669,2941.29 75.6669,11.811 \n",
       "  \"/>\n",
       "<polyline clip-path=\"url(#clip780)\" style=\"stroke:#000000; stroke-width:1; stroke-opacity:1; fill:none\" points=\"\n",
       "  75.6669,2840.03 110.617,2840.03 \n",
       "  \"/>\n",
       "<polyline clip-path=\"url(#clip780)\" style=\"stroke:#000000; stroke-width:1; stroke-opacity:1; fill:none\" points=\"\n",
       "  75.6669,2274.47 110.617,2274.47 \n",
       "  \"/>\n",
       "<polyline clip-path=\"url(#clip780)\" style=\"stroke:#000000; stroke-width:1; stroke-opacity:1; fill:none\" points=\"\n",
       "  75.6669,1708.91 110.617,1708.91 \n",
       "  \"/>\n",
       "<polyline clip-path=\"url(#clip780)\" style=\"stroke:#000000; stroke-width:1; stroke-opacity:1; fill:none\" points=\"\n",
       "  75.6669,1143.35 110.617,1143.35 \n",
       "  \"/>\n",
       "<polyline clip-path=\"url(#clip780)\" style=\"stroke:#000000; stroke-width:1; stroke-opacity:1; fill:none\" points=\"\n",
       "  75.6669,577.796 110.617,577.796 \n",
       "  \"/>\n",
       "<polyline clip-path=\"url(#clip780)\" style=\"stroke:#000000; stroke-width:1; stroke-opacity:1; fill:none\" points=\"\n",
       "  75.6669,12.237 110.617,12.237 \n",
       "  \"/>\n",
       "<path clip-path=\"url(#clip780)\" d=\"M 0 0 M0.805902 2840.14 L8.22484 2840.14 L8.22484 2841.13 L0.805902 2841.13 L0.805902 2840.14 Z\" fill=\"#000000\" fill-rule=\"evenodd\" fill-opacity=\"1\" /><path clip-path=\"url(#clip780)\" d=\"M 0 0 M11.9922 2836.48 Q11.0894 2836.48 10.6322 2837.37 Q10.1809 2838.26 10.1809 2840.04 Q10.1809 2841.82 10.6322 2842.71 Q11.0894 2843.59 11.9922 2843.59 Q12.9007 2843.59 13.3521 2842.71 Q13.8093 2841.82 13.8093 2840.04 Q13.8093 2838.26 13.3521 2837.37 Q12.9007 2836.48 11.9922 2836.48 M11.9922 2835.56 Q13.4447 2835.56 14.2086 2836.71 Q14.9783 2837.85 14.9783 2840.04 Q14.9783 2842.22 14.2086 2843.37 Q13.4447 2844.52 11.9922 2844.52 Q10.5396 2844.52 9.76997 2843.37 Q9.00609 2842.22 9.00609 2840.04 Q9.00609 2837.85 9.76997 2836.71 Q10.5396 2835.56 11.9922 2835.56 Z\" fill=\"#000000\" fill-rule=\"evenodd\" fill-opacity=\"1\" /><path clip-path=\"url(#clip780)\" d=\"M 0 0 M16.2456 2842.88 L17.4667 2842.88 L17.4667 2844.35 L16.2456 2844.35 L16.2456 2842.88 Z\" fill=\"#000000\" fill-rule=\"evenodd\" fill-opacity=\"1\" /><path clip-path=\"url(#clip780)\" d=\"M 0 0 M18.9366 2843.37 L20.8463 2843.37 L20.8463 2836.78 L18.7688 2837.19 L18.7688 2836.13 L20.8347 2835.71 L22.0037 2835.71 L22.0037 2843.37 L23.9134 2843.37 L23.9134 2844.35 L18.9366 2844.35 L18.9366 2843.37 Z\" fill=\"#000000\" fill-rule=\"evenodd\" fill-opacity=\"1\" /><path clip-path=\"url(#clip780)\" d=\"M 0 0 M27.6808 2836.48 Q26.778 2836.48 26.3208 2837.37 Q25.8694 2838.26 25.8694 2840.04 Q25.8694 2841.82 26.3208 2842.71 Q26.778 2843.59 27.6808 2843.59 Q28.5893 2843.59 29.0407 2842.71 Q29.4979 2841.82 29.4979 2840.04 Q29.4979 2838.26 29.0407 2837.37 Q28.5893 2836.48 27.6808 2836.48 M27.6808 2835.56 Q29.1333 2835.56 29.8972 2836.71 Q30.6669 2837.85 30.6669 2840.04 Q30.6669 2842.22 29.8972 2843.37 Q29.1333 2844.52 27.6808 2844.52 Q26.2282 2844.52 25.4585 2843.37 Q24.6947 2842.22 24.6947 2840.04 Q24.6947 2837.85 25.4585 2836.71 Q26.2282 2835.56 27.6808 2835.56 Z\" fill=\"#000000\" fill-rule=\"evenodd\" fill-opacity=\"1\" /><path clip-path=\"url(#clip780)\" d=\"M 0 0 M0.748031 2274.59 L8.16697 2274.59 L8.16697 2275.57 L0.748031 2275.57 L0.748031 2274.59 Z\" fill=\"#000000\" fill-rule=\"evenodd\" fill-opacity=\"1\" /><path clip-path=\"url(#clip780)\" d=\"M 0 0 M11.9343 2270.92 Q11.0315 2270.92 10.5744 2271.81 Q10.123 2272.7 10.123 2274.48 Q10.123 2276.26 10.5744 2277.15 Q11.0315 2278.03 11.9343 2278.03 Q12.8429 2278.03 13.2943 2277.15 Q13.7514 2276.26 13.7514 2274.48 Q13.7514 2272.7 13.2943 2271.81 Q12.8429 2270.92 11.9343 2270.92 M11.9343 2270 Q13.3869 2270 14.1507 2271.15 Q14.9204 2272.29 14.9204 2274.48 Q14.9204 2276.66 14.1507 2277.81 Q13.3869 2278.96 11.9343 2278.96 Q10.4818 2278.96 9.7121 2277.81 Q8.94822 2276.66 8.94822 2274.48 Q8.94822 2272.29 9.7121 2271.15 Q10.4818 2270 11.9343 2270 Z\" fill=\"#000000\" fill-rule=\"evenodd\" fill-opacity=\"1\" /><path clip-path=\"url(#clip780)\" d=\"M 0 0 M16.1878 2277.32 L17.4088 2277.32 L17.4088 2278.79 L16.1878 2278.79 L16.1878 2277.32 Z\" fill=\"#000000\" fill-rule=\"evenodd\" fill-opacity=\"1\" /><path clip-path=\"url(#clip780)\" d=\"M 0 0 M21.1762 2270.92 Q20.2734 2270.92 19.8162 2271.81 Q19.3648 2272.7 19.3648 2274.48 Q19.3648 2276.26 19.8162 2277.15 Q20.2734 2278.03 21.1762 2278.03 Q22.0847 2278.03 22.5361 2277.15 Q22.9933 2276.26 22.9933 2274.48 Q22.9933 2272.7 22.5361 2271.81 Q22.0847 2270.92 21.1762 2270.92 M21.1762 2270 Q22.6287 2270 23.3926 2271.15 Q24.1623 2272.29 24.1623 2274.48 Q24.1623 2276.66 23.3926 2277.81 Q22.6287 2278.96 21.1762 2278.96 Q19.7236 2278.96 18.954 2277.81 Q18.1901 2276.66 18.1901 2274.48 Q18.1901 2272.29 18.954 2271.15 Q19.7236 2270 21.1762 2270 Z\" fill=\"#000000\" fill-rule=\"evenodd\" fill-opacity=\"1\" /><path clip-path=\"url(#clip780)\" d=\"M 0 0 M25.4412 2270.15 L30.0303 2270.15 L30.0303 2271.14 L26.5118 2271.14 L26.5118 2273.25 Q26.7664 2273.17 27.021 2273.13 Q27.2757 2273.08 27.5303 2273.08 Q28.977 2273.08 29.8219 2273.87 Q30.6669 2274.67 30.6669 2276.02 Q30.6669 2277.42 29.7988 2278.19 Q28.9308 2278.96 27.3509 2278.96 Q26.8069 2278.96 26.2398 2278.87 Q25.6785 2278.78 25.0766 2278.59 L25.0766 2277.42 Q25.5974 2277.7 26.153 2277.84 Q26.7085 2277.98 27.3278 2277.98 Q28.3289 2277.98 28.9134 2277.45 Q29.4979 2276.92 29.4979 2276.02 Q29.4979 2275.12 28.9134 2274.59 Q28.3289 2274.06 27.3278 2274.06 Q26.859 2274.06 26.3903 2274.17 Q25.9273 2274.27 25.4412 2274.49 L25.4412 2270.15 Z\" fill=\"#000000\" fill-rule=\"evenodd\" fill-opacity=\"1\" /><path clip-path=\"url(#clip780)\" d=\"M 0 0 M11.6855 1705.36 Q10.7827 1705.36 10.3255 1706.25 Q9.87414 1707.14 9.87414 1708.92 Q9.87414 1710.7 10.3255 1711.59 Q10.7827 1712.48 11.6855 1712.48 Q12.594 1712.48 13.0454 1711.59 Q13.5026 1710.7 13.5026 1708.92 Q13.5026 1707.14 13.0454 1706.25 Q12.594 1705.36 11.6855 1705.36 M11.6855 1704.44 Q13.138 1704.44 13.9019 1705.59 Q14.6716 1706.73 14.6716 1708.92 Q14.6716 1711.1 13.9019 1712.26 Q13.138 1713.4 11.6855 1713.4 Q10.2329 1713.4 9.46326 1712.26 Q8.69938 1711.1 8.69938 1708.92 Q8.69938 1706.73 9.46326 1705.59 Q10.2329 1704.44 11.6855 1704.44 Z\" fill=\"#000000\" fill-rule=\"evenodd\" fill-opacity=\"1\" /><path clip-path=\"url(#clip780)\" d=\"M 0 0 M15.9389 1711.76 L17.16 1711.76 L17.16 1713.23 L15.9389 1713.23 L15.9389 1711.76 Z\" fill=\"#000000\" fill-rule=\"evenodd\" fill-opacity=\"1\" /><path clip-path=\"url(#clip780)\" d=\"M 0 0 M20.9273 1705.36 Q20.0245 1705.36 19.5674 1706.25 Q19.116 1707.14 19.116 1708.92 Q19.116 1710.7 19.5674 1711.59 Q20.0245 1712.48 20.9273 1712.48 Q21.8359 1712.48 22.2873 1711.59 Q22.7444 1710.7 22.7444 1708.92 Q22.7444 1707.14 22.2873 1706.25 Q21.8359 1705.36 20.9273 1705.36 M20.9273 1704.44 Q22.3799 1704.44 23.1437 1705.59 Q23.9134 1706.73 23.9134 1708.92 Q23.9134 1711.1 23.1437 1712.26 Q22.3799 1713.4 20.9273 1713.4 Q19.4748 1713.4 18.7051 1712.26 Q17.9412 1711.1 17.9412 1708.92 Q17.9412 1706.73 18.7051 1705.59 Q19.4748 1704.44 20.9273 1704.44 Z\" fill=\"#000000\" fill-rule=\"evenodd\" fill-opacity=\"1\" /><path clip-path=\"url(#clip780)\" d=\"M 0 0 M27.6808 1705.36 Q26.778 1705.36 26.3208 1706.25 Q25.8694 1707.14 25.8694 1708.92 Q25.8694 1710.7 26.3208 1711.59 Q26.778 1712.48 27.6808 1712.48 Q28.5893 1712.48 29.0407 1711.59 Q29.4979 1710.7 29.4979 1708.92 Q29.4979 1707.14 29.0407 1706.25 Q28.5893 1705.36 27.6808 1705.36 M27.6808 1704.44 Q29.1333 1704.44 29.8972 1705.59 Q30.6669 1706.73 30.6669 1708.92 Q30.6669 1711.1 29.8972 1712.26 Q29.1333 1713.4 27.6808 1713.4 Q26.2282 1713.4 25.4585 1712.26 Q24.6947 1711.1 24.6947 1708.92 Q24.6947 1706.73 25.4585 1705.59 Q26.2282 1704.44 27.6808 1704.44 Z\" fill=\"#000000\" fill-rule=\"evenodd\" fill-opacity=\"1\" /><path clip-path=\"url(#clip780)\" d=\"M 0 0 M11.9343 1139.8 Q11.0315 1139.8 10.5744 1140.7 Q10.123 1141.58 10.123 1143.36 Q10.123 1145.14 10.5744 1146.03 Q11.0315 1146.92 11.9343 1146.92 Q12.8429 1146.92 13.2943 1146.03 Q13.7514 1145.14 13.7514 1143.36 Q13.7514 1141.58 13.2943 1140.7 Q12.8429 1139.8 11.9343 1139.8 M11.9343 1138.88 Q13.3869 1138.88 14.1507 1140.03 Q14.9204 1141.18 14.9204 1143.36 Q14.9204 1145.55 14.1507 1146.7 Q13.3869 1147.84 11.9343 1147.84 Q10.4818 1147.84 9.7121 1146.7 Q8.94822 1145.55 8.94822 1143.36 Q8.94822 1141.18 9.7121 1140.03 Q10.4818 1138.88 11.9343 1138.88 Z\" fill=\"#000000\" fill-rule=\"evenodd\" fill-opacity=\"1\" /><path clip-path=\"url(#clip780)\" d=\"M 0 0 M16.1878 1146.2 L17.4088 1146.2 L17.4088 1147.67 L16.1878 1147.67 L16.1878 1146.2 Z\" fill=\"#000000\" fill-rule=\"evenodd\" fill-opacity=\"1\" /><path clip-path=\"url(#clip780)\" d=\"M 0 0 M21.1762 1139.8 Q20.2734 1139.8 19.8162 1140.7 Q19.3648 1141.58 19.3648 1143.36 Q19.3648 1145.14 19.8162 1146.03 Q20.2734 1146.92 21.1762 1146.92 Q22.0847 1146.92 22.5361 1146.03 Q22.9933 1145.14 22.9933 1143.36 Q22.9933 1141.58 22.5361 1140.7 Q22.0847 1139.8 21.1762 1139.8 M21.1762 1138.88 Q22.6287 1138.88 23.3926 1140.03 Q24.1623 1141.18 24.1623 1143.36 Q24.1623 1145.55 23.3926 1146.7 Q22.6287 1147.84 21.1762 1147.84 Q19.7236 1147.84 18.954 1146.7 Q18.1901 1145.55 18.1901 1143.36 Q18.1901 1141.18 18.954 1140.03 Q19.7236 1138.88 21.1762 1138.88 Z\" fill=\"#000000\" fill-rule=\"evenodd\" fill-opacity=\"1\" /><path clip-path=\"url(#clip780)\" d=\"M 0 0 M25.4412 1139.03 L30.0303 1139.03 L30.0303 1140.02 L26.5118 1140.02 L26.5118 1142.14 Q26.7664 1142.05 27.021 1142.01 Q27.2757 1141.96 27.5303 1141.96 Q28.977 1141.96 29.8219 1142.76 Q30.6669 1143.55 30.6669 1144.9 Q30.6669 1146.3 29.7988 1147.07 Q28.9308 1147.84 27.3509 1147.84 Q26.8069 1147.84 26.2398 1147.75 Q25.6785 1147.66 25.0766 1147.47 L25.0766 1146.3 Q25.5974 1146.58 26.153 1146.72 Q26.7085 1146.86 27.3278 1146.86 Q28.3289 1146.86 28.9134 1146.33 Q29.4979 1145.81 29.4979 1144.9 Q29.4979 1144 28.9134 1143.47 Q28.3289 1142.95 27.3278 1142.95 Q26.859 1142.95 26.3903 1143.05 Q25.9273 1143.16 25.4412 1143.37 L25.4412 1139.03 Z\" fill=\"#000000\" fill-rule=\"evenodd\" fill-opacity=\"1\" /><path clip-path=\"url(#clip780)\" d=\"M 0 0 M11.9922 574.246 Q11.0894 574.246 10.6322 575.137 Q10.1809 576.022 10.1809 577.805 Q10.1809 579.581 10.6322 580.472 Q11.0894 581.358 11.9922 581.358 Q12.9007 581.358 13.3521 580.472 Q13.8093 579.581 13.8093 577.805 Q13.8093 576.022 13.3521 575.137 Q12.9007 574.246 11.9922 574.246 M11.9922 573.32 Q13.4447 573.32 14.2086 574.471 Q14.9783 575.617 14.9783 577.805 Q14.9783 579.986 14.2086 581.138 Q13.4447 582.284 11.9922 582.284 Q10.5396 582.284 9.76997 581.138 Q9.00609 579.986 9.00609 577.805 Q9.00609 575.617 9.76997 574.471 Q10.5396 573.32 11.9922 573.32 Z\" fill=\"#000000\" fill-rule=\"evenodd\" fill-opacity=\"1\" /><path clip-path=\"url(#clip780)\" d=\"M 0 0 M16.2456 580.646 L17.4667 580.646 L17.4667 582.116 L16.2456 582.116 L16.2456 580.646 Z\" fill=\"#000000\" fill-rule=\"evenodd\" fill-opacity=\"1\" /><path clip-path=\"url(#clip780)\" d=\"M 0 0 M18.9366 581.132 L20.8463 581.132 L20.8463 574.541 L18.7688 574.957 L18.7688 573.893 L20.8347 573.476 L22.0037 573.476 L22.0037 581.132 L23.9134 581.132 L23.9134 582.116 L18.9366 582.116 L18.9366 581.132 Z\" fill=\"#000000\" fill-rule=\"evenodd\" fill-opacity=\"1\" /><path clip-path=\"url(#clip780)\" d=\"M 0 0 M27.6808 574.246 Q26.778 574.246 26.3208 575.137 Q25.8694 576.022 25.8694 577.805 Q25.8694 579.581 26.3208 580.472 Q26.778 581.358 27.6808 581.358 Q28.5893 581.358 29.0407 580.472 Q29.4979 579.581 29.4979 577.805 Q29.4979 576.022 29.0407 575.137 Q28.5893 574.246 27.6808 574.246 M27.6808 573.32 Q29.1333 573.32 29.8972 574.471 Q30.6669 575.617 30.6669 577.805 Q30.6669 579.986 29.8972 581.138 Q29.1333 582.284 27.6808 582.284 Q26.2282 582.284 25.4585 581.138 Q24.6947 579.986 24.6947 577.805 Q24.6947 575.617 25.4585 574.471 Q26.2282 573.32 27.6808 573.32 Z\" fill=\"#000000\" fill-rule=\"evenodd\" fill-opacity=\"1\" /><path clip-path=\"url(#clip780)\" d=\"M 0 0 M12.241 8.68672 Q11.3383 8.68672 10.8811 9.57792 Q10.4297 10.4633 10.4297 12.2457 Q10.4297 14.0223 10.8811 14.9135 Q11.3383 15.7989 12.241 15.7989 Q13.1496 15.7989 13.601 14.9135 Q14.0581 14.0223 14.0581 12.2457 Q14.0581 10.4633 13.601 9.57792 Q13.1496 8.68672 12.241 8.68672 M12.241 7.7608 Q13.6936 7.7608 14.4574 8.91241 Q15.2271 10.0582 15.2271 12.2457 Q15.2271 14.4274 14.4574 15.579 Q13.6936 16.7249 12.241 16.7249 Q10.7885 16.7249 10.0188 15.579 Q9.25493 14.4274 9.25493 12.2457 Q9.25493 10.0582 10.0188 8.91241 Q10.7885 7.7608 12.241 7.7608 Z\" fill=\"#000000\" fill-rule=\"evenodd\" fill-opacity=\"1\" /><path clip-path=\"url(#clip780)\" d=\"M 0 0 M16.4945 15.0871 L17.7155 15.0871 L17.7155 16.557 L16.4945 16.557 L16.4945 15.0871 Z\" fill=\"#000000\" fill-rule=\"evenodd\" fill-opacity=\"1\" /><path clip-path=\"url(#clip780)\" d=\"M 0 0 M19.1854 15.5733 L21.0951 15.5733 L21.0951 8.98186 L19.0176 9.39852 L19.0176 8.33371 L21.0836 7.91705 L22.2525 7.91705 L22.2525 15.5733 L24.1623 15.5733 L24.1623 16.557 L19.1854 16.557 L19.1854 15.5733 Z\" fill=\"#000000\" fill-rule=\"evenodd\" fill-opacity=\"1\" /><path clip-path=\"url(#clip780)\" d=\"M 0 0 M25.4412 7.91705 L30.0303 7.91705 L30.0303 8.90084 L26.5118 8.90084 L26.5118 11.0189 Q26.7664 10.9321 27.021 10.8916 Q27.2757 10.8453 27.5303 10.8453 Q28.977 10.8453 29.8219 11.6381 Q30.6669 12.4309 30.6669 13.7851 Q30.6669 15.1797 29.7988 15.9552 Q28.9308 16.7249 27.3509 16.7249 Q26.8069 16.7249 26.2398 16.6323 Q25.6785 16.5397 25.0766 16.3545 L25.0766 15.1797 Q25.5974 15.4633 26.153 15.6022 Q26.7085 15.7411 27.3278 15.7411 Q28.3289 15.7411 28.9134 15.2145 Q29.4979 14.6878 29.4979 13.7851 Q29.4979 12.8823 28.9134 12.3557 Q28.3289 11.8291 27.3278 11.8291 Q26.859 11.8291 26.3903 11.9332 Q25.9273 12.0374 25.4412 12.2573 L25.4412 7.91705 Z\" fill=\"#000000\" fill-rule=\"evenodd\" fill-opacity=\"1\" /><polyline clip-path=\"url(#clip782)\" style=\"stroke:#009af9; stroke-width:1; stroke-opacity:1; fill:none\" points=\"\n",
       "  158.097,1810.91 214.171,1269.05 270.246,626.787 326.321,1117.98 382.396,1222.85 438.47,1308.5 494.545,1367.75 550.62,1214.84 606.695,1207.95 662.769,1220.42 \n",
       "  718.844,1222.47 774.919,1269.86 830.994,1207.14 887.068,1143.66 943.143,1384.29 999.218,1746.9 1055.29,2096.91 1111.37,2514.77 1167.44,2207.4 1223.52,2178.48 \n",
       "  1279.59,2415.82 1335.67,2308.52 1391.74,2137.61 1447.82,2101.24 1503.89,2115.32 1559.97,2111.11 1616.04,2070.15 1672.11,2117.7 1728.19,1512.54 1784.26,2534.97 \n",
       "  1840.34,2056.98 1896.41,1518.31 1952.49,1361.24 2008.56,566.351 2064.64,952.542 2120.71,977.607 2176.79,1204.34 2232.86,1162.98 2288.94,1138.46 2345.01,1150.01 \n",
       "  2401.09,1151.19 2457.16,1149.78 2513.24,1065.61 2569.31,1208.21 2625.39,1443.75 2681.46,2352.05 2737.53,2721.18 2793.61,2858.38 2849.68,2816.09 2905.76,2520.55 \n",
       "  \n",
       "  \"/>\n",
       "<polyline clip-path=\"url(#clip782)\" style=\"stroke:#e26f46; stroke-width:1; stroke-opacity:1; fill:none\" points=\"\n",
       "  158.097,1563.71 214.171,1502.89 270.246,1293 326.321,1439.23 382.396,1302.81 438.47,1311.52 494.545,1321.87 550.62,1503.95 606.695,1500.46 662.769,1498.64 \n",
       "  718.844,1475.96 774.919,1472.62 830.994,1455.66 887.068,1426.76 943.143,1427.64 999.218,1568.42 1055.29,1669.13 1111.37,1648.88 1167.44,1474.79 1223.52,1474.46 \n",
       "  1279.59,1588.93 1335.67,1530.98 1391.74,1482.75 1447.82,1420.11 1503.89,1472.91 1559.97,1539.77 1616.04,1502.79 1672.11,1613.31 1728.19,1412.76 1784.26,1774.47 \n",
       "  1840.34,1638.18 1896.41,1594.86 1952.49,1537.76 2008.56,1747.73 2064.64,1851.96 2120.71,1823.62 2176.79,1536.09 2232.86,1573.46 2288.94,1553.66 2345.01,1584.77 \n",
       "  2401.09,1542.48 2457.16,1482.44 2513.24,1499.79 2569.31,1497.57 2625.39,1517.66 2681.46,1761.99 2737.53,1805.34 2793.61,1691.12 2849.68,1641.59 2905.76,1806.58 \n",
       "  \n",
       "  \"/>\n",
       "<polyline clip-path=\"url(#clip782)\" style=\"stroke:#3da44d; stroke-width:1; stroke-opacity:1; fill:none\" points=\"\n",
       "  158.097,887.798 214.171,735.827 270.246,564.25 326.321,966.288 382.396,957.935 438.47,939.596 494.545,1327.55 550.62,1377.76 606.695,1368.87 662.769,1310.47 \n",
       "  718.844,1239.31 774.919,1054.58 830.994,1077.07 887.068,982.625 943.143,939.599 999.218,1180.31 1055.29,1439.6 1111.37,1295.06 1167.44,1395.67 1223.52,1296.84 \n",
       "  1279.59,1352.92 1335.67,1331.38 1391.74,1152.2 1447.82,1136.4 1503.89,1135.92 1559.97,1159.16 1616.04,1145.92 1672.11,1187.87 1728.19,1294.18 1784.26,1146.34 \n",
       "  1840.34,726.351 1896.41,758.372 1952.49,567.607 2008.56,938.332 2064.64,1250.31 2120.71,1236.16 2176.79,1482.77 2232.86,1511.56 2288.94,1470.07 2345.01,1425.34 \n",
       "  2401.09,1370.79 2457.16,1324.71 2513.24,1353.77 2569.31,1361.1 2625.39,1282.72 2681.46,1261.18 2737.53,1267.03 2793.61,784.059 2849.68,1019.75 2905.76,795.556 \n",
       "  \n",
       "  \"/>\n",
       "<polyline clip-path=\"url(#clip782)\" style=\"stroke:#c271d2; stroke-width:1; stroke-opacity:1; fill:none\" points=\"\n",
       "  158.097,1659.68 214.171,1632.93 270.246,1603.19 326.321,1343.3 382.396,1370.43 438.47,1369.61 494.545,1319.78 550.62,1386 606.695,1350.88 662.769,1329.66 \n",
       "  718.844,1298.26 774.919,1251.65 830.994,1222.16 887.068,1297.33 943.143,1306.46 999.218,1273.92 1055.29,1368.98 1111.37,1389.46 1167.44,1267.3 1223.52,1214.74 \n",
       "  1279.59,1233.34 1335.67,1228.96 1391.74,1236.39 1447.82,1237.61 1503.89,1200.11 1559.97,1195.63 1616.04,1204.28 1672.11,1274.24 1728.19,1244.27 1784.26,1394.2 \n",
       "  1840.34,1479.68 1896.41,1603.4 1952.49,1528.13 2008.56,1592.98 2064.64,1369.85 2120.71,1389.92 2176.79,1429 2232.86,1414.03 2288.94,1413.72 2345.01,1380.29 \n",
       "  2401.09,1298.39 2457.16,1263.18 2513.24,1229.34 2569.31,1233.6 2625.39,1302.87 2681.46,1213.8 2737.53,1117.99 2793.61,1165.75 2849.68,1046.18 2905.76,1061.64 \n",
       "  \n",
       "  \"/>\n",
       "<polyline clip-path=\"url(#clip782)\" style=\"stroke:#ac8d18; stroke-width:1; stroke-opacity:1; fill:none\" points=\"\n",
       "  158.097,1087.21 214.171,169.532 270.246,607.892 326.321,806.847 382.396,845.836 438.47,795.948 494.545,1424.01 550.62,1360.33 606.695,1344.88 662.769,1223.48 \n",
       "  718.844,1145.77 774.919,828.341 830.994,878.017 887.068,644.563 943.143,606.237 999.218,1314.83 1055.29,1521.93 1111.37,1476.88 1167.44,1105.43 1223.52,1048.73 \n",
       "  1279.59,1135.44 1335.67,1068.61 1391.74,1127.07 1447.82,1120.29 1503.89,1119.94 1559.97,1124.13 1616.04,1108.99 1672.11,1289.01 1728.19,1534.36 1784.26,1144.28 \n",
       "  1840.34,546.914 1896.41,418.003 1952.49,354.625 2008.56,879.575 2064.64,1474.27 2120.71,1458.63 2176.79,1553.39 2232.86,1558.81 2288.94,1493.15 2345.01,1353.21 \n",
       "  2401.09,1414.97 2457.16,1356.54 2513.24,1373.61 2569.31,1304.43 2625.39,1249.96 2681.46,1283.19 2737.53,1247.67 2793.61,167.464 2849.68,94.7209 2905.76,1514.13 \n",
       "  \n",
       "  \"/>\n",
       "<path clip-path=\"url(#clip780)\" d=\"\n",
       "M2554.31 200.18 L2891.1 200.18 L2891.1 109.46 L2554.31 109.46  Z\n",
       "  \" fill=\"#ffffff\" fill-rule=\"evenodd\" fill-opacity=\"1\"/>\n",
       "<polyline clip-path=\"url(#clip780)\" style=\"stroke:#000000; stroke-width:1; stroke-opacity:1; fill:none\" points=\"\n",
       "  2554.31,200.18 2891.1,200.18 2891.1,109.46 2554.31,109.46 2554.31,200.18 \n",
       "  \"/>\n",
       "<polyline clip-path=\"url(#clip780)\" style=\"stroke:#009af9; stroke-width:1; stroke-opacity:1; fill:none\" points=\"\n",
       "  2586.67,124.58 2780.84,124.58 \n",
       "  \"/>\n",
       "<path clip-path=\"url(#clip780)\" d=\"M 0 0 M2816.66 129.502 Q2816.21 130.66 2815.78 131.013 Q2815.35 131.366 2814.63 131.366 L2813.78 131.366 L2813.78 130.474 L2814.41 130.474 Q2814.85 130.474 2815.09 130.266 Q2815.33 130.058 2815.63 129.282 L2815.82 128.796 L2813.2 122.419 L2814.33 122.419 L2816.35 127.488 L2818.38 122.419 L2819.51 122.419 L2816.66 129.502 Z\" fill=\"#000000\" fill-rule=\"evenodd\" fill-opacity=\"1\" /><path clip-path=\"url(#clip780)\" d=\"M 0 0 M2820.98 127.917 L2822.89 127.917 L2822.89 121.325 L2820.81 121.742 L2820.81 120.677 L2822.88 120.26 L2824.04 120.26 L2824.04 127.917 L2825.95 127.917 L2825.95 128.9 L2820.98 128.9 L2820.98 127.917 Z\" fill=\"#000000\" fill-rule=\"evenodd\" fill-opacity=\"1\" /><polyline clip-path=\"url(#clip780)\" style=\"stroke:#e26f46; stroke-width:1; stroke-opacity:1; fill:none\" points=\"\n",
       "  2586.67,139.7 2780.84,139.7 \n",
       "  \"/>\n",
       "<path clip-path=\"url(#clip780)\" d=\"M 0 0 M2816.66 144.622 Q2816.21 145.78 2815.78 146.133 Q2815.35 146.486 2814.63 146.486 L2813.78 146.486 L2813.78 145.594 L2814.41 145.594 Q2814.85 145.594 2815.09 145.386 Q2815.33 145.178 2815.63 144.402 L2815.82 143.916 L2813.2 137.539 L2814.33 137.539 L2816.35 142.608 L2818.38 137.539 L2819.51 137.539 L2816.66 144.622 Z\" fill=\"#000000\" fill-rule=\"evenodd\" fill-opacity=\"1\" /><path clip-path=\"url(#clip780)\" d=\"M 0 0 M2821.78 143.037 L2825.86 143.037 L2825.86 144.02 L2820.38 144.02 L2820.38 143.037 Q2821.04 142.348 2822.19 141.191 Q2823.34 140.027 2823.63 139.692 Q2824.19 139.061 2824.41 138.627 Q2824.64 138.187 2824.64 137.765 Q2824.64 137.076 2824.15 136.642 Q2823.67 136.208 2822.9 136.208 Q2822.35 136.208 2821.74 136.399 Q2821.13 136.59 2820.43 136.978 L2820.43 135.797 Q2821.14 135.513 2821.75 135.369 Q2822.37 135.224 2822.88 135.224 Q2824.22 135.224 2825.02 135.895 Q2825.82 136.567 2825.82 137.689 Q2825.82 138.222 2825.61 138.702 Q2825.42 139.177 2824.89 139.825 Q2824.74 139.993 2823.97 140.797 Q2823.19 141.596 2821.78 143.037 Z\" fill=\"#000000\" fill-rule=\"evenodd\" fill-opacity=\"1\" /><polyline clip-path=\"url(#clip780)\" style=\"stroke:#3da44d; stroke-width:1; stroke-opacity:1; fill:none\" points=\"\n",
       "  2586.67,154.82 2780.84,154.82 \n",
       "  \"/>\n",
       "<path clip-path=\"url(#clip780)\" d=\"M 0 0 M2816.66 159.742 Q2816.21 160.9 2815.78 161.253 Q2815.35 161.606 2814.63 161.606 L2813.78 161.606 L2813.78 160.714 L2814.41 160.714 Q2814.85 160.714 2815.09 160.506 Q2815.33 160.298 2815.63 159.522 L2815.82 159.036 L2813.2 152.659 L2814.33 152.659 L2816.35 157.728 L2818.38 152.659 L2819.51 152.659 L2816.66 159.742 Z\" fill=\"#000000\" fill-rule=\"evenodd\" fill-opacity=\"1\" /><path clip-path=\"url(#clip780)\" d=\"M 0 0 M2824.32 154.482 Q2825.16 154.661 2825.62 155.228 Q2826.1 155.795 2826.1 156.629 Q2826.1 157.908 2825.22 158.608 Q2824.34 159.308 2822.72 159.308 Q2822.18 159.308 2821.6 159.198 Q2821.02 159.094 2820.41 158.88 L2820.41 157.752 Q2820.9 158.035 2821.47 158.18 Q2822.05 158.324 2822.68 158.324 Q2823.78 158.324 2824.36 157.89 Q2824.94 157.456 2824.94 156.629 Q2824.94 155.865 2824.4 155.437 Q2823.86 155.003 2822.91 155.003 L2821.9 155.003 L2821.9 154.042 L2822.96 154.042 Q2823.82 154.042 2824.28 153.701 Q2824.73 153.353 2824.73 152.705 Q2824.73 152.04 2824.26 151.687 Q2823.79 151.328 2822.91 151.328 Q2822.43 151.328 2821.88 151.432 Q2821.33 151.536 2820.67 151.756 L2820.67 150.715 Q2821.34 150.529 2821.91 150.437 Q2822.5 150.344 2823.01 150.344 Q2824.35 150.344 2825.12 150.952 Q2825.9 151.554 2825.9 152.584 Q2825.9 153.301 2825.49 153.799 Q2825.07 154.291 2824.32 154.482 Z\" fill=\"#000000\" fill-rule=\"evenodd\" fill-opacity=\"1\" /><polyline clip-path=\"url(#clip780)\" style=\"stroke:#c271d2; stroke-width:1; stroke-opacity:1; fill:none\" points=\"\n",
       "  2586.67,169.94 2780.84,169.94 \n",
       "  \"/>\n",
       "<path clip-path=\"url(#clip780)\" d=\"M 0 0 M2816.66 174.862 Q2816.21 176.02 2815.78 176.373 Q2815.35 176.726 2814.63 176.726 L2813.78 176.726 L2813.78 175.834 L2814.41 175.834 Q2814.85 175.834 2815.09 175.626 Q2815.33 175.418 2815.63 174.642 L2815.82 174.156 L2813.2 167.779 L2814.33 167.779 L2816.35 172.848 L2818.38 167.779 L2819.51 167.779 L2816.66 174.862 Z\" fill=\"#000000\" fill-rule=\"evenodd\" fill-opacity=\"1\" /><path clip-path=\"url(#clip780)\" d=\"M 0 0 M2823.99 166.639 L2821.03 171.251 L2823.99 171.251 L2823.99 166.639 M2823.68 165.62 L2825.15 165.62 L2825.15 171.251 L2826.38 171.251 L2826.38 172.223 L2825.15 172.223 L2825.15 174.26 L2823.99 174.26 L2823.99 172.223 L2820.09 172.223 L2820.09 171.095 L2823.68 165.62 Z\" fill=\"#000000\" fill-rule=\"evenodd\" fill-opacity=\"1\" /><polyline clip-path=\"url(#clip780)\" style=\"stroke:#ac8d18; stroke-width:1; stroke-opacity:1; fill:none\" points=\"\n",
       "  2586.67,185.06 2780.84,185.06 \n",
       "  \"/>\n",
       "<path clip-path=\"url(#clip780)\" d=\"M 0 0 M2816.66 189.982 Q2816.21 191.14 2815.78 191.493 Q2815.35 191.846 2814.63 191.846 L2813.78 191.846 L2813.78 190.954 L2814.41 190.954 Q2814.85 190.954 2815.09 190.746 Q2815.33 190.538 2815.63 189.762 L2815.82 189.276 L2813.2 182.899 L2814.33 182.899 L2816.35 187.968 L2818.38 182.899 L2819.51 182.899 L2816.66 189.982 Z\" fill=\"#000000\" fill-rule=\"evenodd\" fill-opacity=\"1\" /><path clip-path=\"url(#clip780)\" d=\"M 0 0 M2820.79 180.74 L2825.38 180.74 L2825.38 181.724 L2821.86 181.724 L2821.86 183.842 Q2822.11 183.755 2822.37 183.715 Q2822.62 183.669 2822.88 183.669 Q2824.32 183.669 2825.17 184.461 Q2826.01 185.254 2826.01 186.608 Q2826.01 188.003 2825.14 188.779 Q2824.28 189.548 2822.7 189.548 Q2822.15 189.548 2821.58 189.456 Q2821.02 189.363 2820.42 189.178 L2820.42 188.003 Q2820.94 188.287 2821.5 188.426 Q2822.05 188.564 2822.67 188.564 Q2823.67 188.564 2824.26 188.038 Q2824.84 187.511 2824.84 186.608 Q2824.84 185.706 2824.26 185.179 Q2823.67 184.652 2822.67 184.652 Q2822.2 184.652 2821.74 184.757 Q2821.27 184.861 2820.79 185.081 L2820.79 180.74 Z\" fill=\"#000000\" fill-rule=\"evenodd\" fill-opacity=\"1\" /></svg>\n"
      ]
     },
     "execution_count": 283,
     "metadata": {},
     "output_type": "execute_result"
    }
   ],
   "source": [
    "using Plots\n",
    "plot(β_list[:,1:5])\n",
    "plot!(size=(3000,3000))"
   ]
  },
  {
   "cell_type": "code",
   "execution_count": 247,
   "id": "ff3cfc9b",
   "metadata": {},
   "outputs": [
    {
     "name": "stdout",
     "output_type": "stream",
     "text": [
      "Academic license - for non-commercial use only - expires 2022-07-20\n",
      "Obj 0.18399418080711155\n"
     ]
    },
    {
     "data": {
      "text/plain": [
       "25-element Array{Float64,1}:\n",
       " -0.09283845126159099\n",
       "  0.015895901472356765\n",
       "  0.05606764858457942\n",
       "  0.04745812208357671\n",
       "  0.062078742203801114\n",
       "  0.012506540976888011\n",
       "  0.049148017408009614\n",
       "  0.06335348106834261\n",
       "  0.06043453377714183\n",
       "  0.0008716707504832354\n",
       "  0.05071250601555667\n",
       "  0.09016311752471651\n",
       "  0.06200236484039327\n",
       "  0.047793781297676655\n",
       "  0.06057484242771264\n",
       "  0.049264369636408595\n",
       "  0.05010659602757768\n",
       "  0.05098262934784549\n",
       "  0.054615943878114165\n",
       "  0.047094450509387195\n",
       "  0.0474131104149189\n",
       "  0.04779378129740781\n",
       "  0.047601201520920844\n",
       "  0.0008716707504830129\n",
       "  0.05706550297049887"
      ]
     },
     "execution_count": 247,
     "metadata": {},
     "output_type": "execute_result"
    }
   ],
   "source": [
    "l2_regression(X0, y0, 1)"
   ]
  },
  {
   "cell_type": "code",
   "execution_count": 243,
   "id": "da327b38",
   "metadata": {},
   "outputs": [
    {
     "name": "stdout",
     "output_type": "stream",
     "text": [
      "Academic license - for non-commercial use only - expires 2022-07-20\n",
      "Obj 0.18399418080711155\n",
      "Final model Obj value: 0.18399409230277075\n",
      "Lower: 0.18399409230277075 Upper: 0.1839940923027802\n"
     ]
    },
    {
     "data": {
      "text/plain": [
       "(0.18399409230277075, [-0.09285356359882664, 0.015895317253804265, 0.05607450837493331, 0.04746500972307322, 0.062092944551477895, 0.012509790363913377, 0.04915507015322633, 0.06335670173823967, 0.06044136796636821, 0.0008768227554072206  …  0.04927137215464978, 0.05011363553835622, 0.05098989846149187, 0.054624994136901084, 0.047101245261787425, 0.04741993053116138, 0.047800615459012645, 0.04760806781536683, 0.0008768227554002326, 0.057076728901269635])"
      ]
     },
     "execution_count": 243,
     "metadata": {},
     "output_type": "execute_result"
    }
   ],
   "source": [
    "D_min = yt .- 0.5*std(Xt, dims = 2)\n",
    "D_max = yt .+ 0.5*std(Xt, dims = 2)\n",
    "master_problem(X0, Xt, y0, D_min, D_max, threshold, epsilon, delta, reg, 1, 20, false)"
   ]
  },
  {
   "cell_type": "code",
   "execution_count": 241,
   "id": "82c86ae4",
   "metadata": {},
   "outputs": [
    {
     "name": "stdout",
     "output_type": "stream",
     "text": [
      "Academic license - for non-commercial use only - expires 2022-07-20\n",
      "Obj 0.18399418080711155\n",
      "Final model Obj value: 0.18399409230277075\n",
      "Lower: 0.18399409230277075 Upper: 0.1839940923027802\n"
     ]
    },
    {
     "data": {
      "text/plain": [
       "(0.18399409230277075, [-0.09285356359882664, 0.015895317253804265, 0.05607450837493331, 0.04746500972307322, 0.062092944551477895, 0.012509790363913377, 0.04915507015322633, 0.06335670173823967, 0.06044136796636821, 0.0008768227554072206  …  0.04927137215464978, 0.05011363553835622, 0.05098989846149187, 0.054624994136901084, 0.047101245261787425, 0.04741993053116138, 0.047800615459012645, 0.04760806781536683, 0.0008768227554002326, 0.057076728901269635])"
      ]
     },
     "execution_count": 241,
     "metadata": {},
     "output_type": "execute_result"
    }
   ],
   "source": [
    "D_min = yt .- std(Xt, dims = 2)\n",
    "D_max = yt .+ std(Xt, dims = 2)\n",
    "master_problem(X0, Xt, y0, D_min, D_max, threshold, epsilon, delta, reg, 1, 20, false)"
   ]
  },
  {
   "cell_type": "code",
   "execution_count": 242,
   "id": "8e1624b3",
   "metadata": {},
   "outputs": [
    {
     "name": "stdout",
     "output_type": "stream",
     "text": [
      "Academic license - for non-commercial use only - expires 2022-07-20\n",
      "Obj 0.18399418080711155\n",
      "Final model Obj value: 0.22818761001495758\n",
      "Lower: 0.22818761001495758 Upper: 0.22818760357384368\n"
     ]
    },
    {
     "data": {
      "text/plain": [
       "(0.22818761001495758, [-0.06919826820286266, -0.013052254968335534, 0.03225440293143466, 0.03149065075320326, 0.09800993558257123, 0.017956956895179243, 0.034905002031440244, 0.09011455885303575, 0.060859644651736836, 0.08238500587189423  …  0.03304780298327493, 0.03431657870051667, 0.03895969633785862, 0.020800365423623634, 0.02688624665802083, 0.027652899285526018, 0.029906419250566963, 0.030714633550219188, 0.08238500587189496, 0.0432882140728421])"
      ]
     },
     "execution_count": 242,
     "metadata": {},
     "output_type": "execute_result"
    }
   ],
   "source": [
    "D_min = yt .- 2*std(Xt, dims = 2)\n",
    "D_max = yt .+ 2*std(Xt, dims = 2)\n",
    "master_problem(X0, Xt, y0, D_min, D_max, threshold, epsilon, delta, reg, 1, 20, false)"
   ]
  },
  {
   "cell_type": "code",
   "execution_count": 607,
   "id": "animal-african",
   "metadata": {},
   "outputs": [
    {
     "name": "stdout",
     "output_type": "stream",
     "text": [
      "[0.10766507853351705; -0.13668422095743302; -0.3006446204596253]\n",
      "[0.03421517055276293, -0.2780628119042752, -0.36395166876447804]\n",
      "[0.08064001686133855; 0.11168116074774385; 0.12998088602595428]\n"
     ]
    }
   ],
   "source": [
    "println(mean(Xt, dims = 2))\n",
    "println(yt_true)\n",
    "println(std(Xt, dims = 2))"
   ]
  },
  {
   "cell_type": "code",
   "execution_count": 222,
   "id": "shaped-vietnamese",
   "metadata": {},
   "outputs": [
    {
     "name": "stdout",
     "output_type": "stream",
     "text": [
      "Academic license - for non-commercial use only - expires 2022-07-20\n",
      "Obj 0.18399418080711155\n"
     ]
    },
    {
     "data": {
      "text/plain": [
       "25-element Array{Float64,1}:\n",
       " -0.09283845126159099\n",
       "  0.015895901472356765\n",
       "  0.05606764858457942\n",
       "  0.04745812208357671\n",
       "  0.062078742203801114\n",
       "  0.012506540976888011\n",
       "  0.049148017408009614\n",
       "  0.06335348106834261\n",
       "  0.06043453377714183\n",
       "  0.0008716707504832354\n",
       "  0.05071250601555667\n",
       "  0.09016311752471651\n",
       "  0.06200236484039327\n",
       "  0.047793781297676655\n",
       "  0.06057484242771264\n",
       "  0.049264369636408595\n",
       "  0.05010659602757768\n",
       "  0.05098262934784549\n",
       "  0.054615943878114165\n",
       "  0.047094450509387195\n",
       "  0.0474131104149189\n",
       "  0.04779378129740781\n",
       "  0.047601201520920844\n",
       "  0.0008716707504830129\n",
       "  0.05706550297049887"
      ]
     },
     "execution_count": 222,
     "metadata": {},
     "output_type": "execute_result"
    }
   ],
   "source": [
    "l2_regression(X0, y0, 1)"
   ]
  },
  {
   "cell_type": "code",
   "execution_count": 207,
   "id": "cognitive-speaker",
   "metadata": {},
   "outputs": [
    {
     "data": {
      "text/plain": [
       "l2_regression (generic function with 1 method)"
      ]
     },
     "execution_count": 207,
     "metadata": {},
     "output_type": "execute_result"
    }
   ],
   "source": [
    "function l2_regression(X, y, rho; solver_output=0)\n",
    "    n,p = size(X)\n",
    "    \n",
    "    model = Model(Gurobi.Optimizer)\n",
    "    set_optimizer_attribute(model, \"OutputFlag\", solver_output) \n",
    "    \n",
    "    @variable(model,beta[j=1:p])\n",
    "    @variable(model, sse>=0)\n",
    "    @variable(model, reg>=0)\n",
    "    @constraint(model, sum((y[i]-sum(X[i,j]*beta[j] for j=1:p))^2 for i=1:n) <= sse)\n",
    "    @constraint(model, sum(beta[j]^2 for j=1:p)<=reg)\n",
    "    @objective(model,Min, 1/n*sse + rho*reg)\n",
    "    \n",
    "    optimize!(model)\n",
    "    println(\"Obj \", objective_value(model))\n",
    "    return (value.(beta))\n",
    "end"
   ]
  },
  {
   "cell_type": "code",
   "execution_count": 358,
   "id": "convinced-compression",
   "metadata": {},
   "outputs": [
    {
     "name": "stdout",
     "output_type": "stream",
     "text": [
      "Lower: -10000 Upper: 10000\n",
      "U_OA from solve 1198.2766764537887\n",
      "Cut added\n",
      "Lower: 1198.2766764537887 Upper: 1198.5123856699468\n",
      "U_OA from solve 1198.8754197421135\n"
     ]
    },
    {
     "data": {
      "text/plain": [
       "(1198.8754197421135, [0.42564886048603606, 0.4264470845984377])"
      ]
     },
     "execution_count": 358,
     "metadata": {},
     "output_type": "execute_result"
    }
   ],
   "source": [
    "n0 = 10000\n",
    "nt = 6\n",
    "p = 2\n",
    "X0 = Random.rand(n0,p)\n",
    "Xt = Random.rand(nt,p)\n",
    "#X[:,-1] = np.ones(n)\n",
    "y0 = Random.rand(n0)\n",
    "epsilon = 0.05\n",
    "delta = 0.05\n",
    "\n",
    "D_min = Random.rand(nt)\n",
    "D_max = D_min .+ 0.5 \n",
    "threshold = 0.1\n",
    "\n",
    "master_problem(X0, Xt, y0, D_min, D_max)"
   ]
  },
  {
   "cell_type": "markdown",
   "id": "inclusive-clerk",
   "metadata": {},
   "source": [
    "# Old"
   ]
  },
  {
   "cell_type": "code",
   "execution_count": null,
   "id": "split-protest",
   "metadata": {},
   "outputs": [],
   "source": [
    "if true   \n",
    "    T, p = size(X)\n",
    "    Z = get_Z(X)\n",
    "    max_cuts = 5\n",
    "    cuts = 0\n",
    "    L_OA = -10000\n",
    "    U_OA = 10000\n",
    "    \n",
    "    # Create model\n",
    "    model = Model(() -> Gurobi.Optimizer(GRB_ENV))#Model(with_optimizer(Gurobi.Optimizer))\n",
    "    set_optimizer_attribute(model, \"OutputFlag\", 0)\n",
    "    \n",
    "    # Add variables\n",
    "    @variable(model, λ[i=1:2, j=1:T] >= 0) \n",
    "    @variable(model, ν[i=1:2, j=1:T-1, k=1:p]>=0) \n",
    "    @variable(model, μ[i=1:2, j=1:T, k=1:p]>=0)\n",
    "    \n",
    "    @variable(model, α) \n",
    "    #@variable(model, γ)\n",
    "    @variable(model, y[j=1:T])\n",
    "\n",
    "    \n",
    "    @constraint(model,[t=1:T], λ[1,:] .+ λ[2,:] .== 1)\n",
    "        \n",
    "        \n",
    "    @constraint(model, transpose(λ[2,:])*Z-transpose(λ[1,:])*Z \n",
    "                        + sum(transpose(ν[1,t,:])*(get_A(X, t+1).-get_A(X, t)) for t=1:T-1)\n",
    "                        + sum(transpose(ν[2,t,:])*(-get_A(X, t+1).+get_A(X, t)) for t=1:T-1)\n",
    "                        + sum(transpose(μ[1,t,:])*get_A(X,t) for t=1:T)\n",
    "                        - sum(transpose(μ[2,t,:])*get_A(X,t) for t=1:T) .== 0)\n",
    "\n",
    "    #y in uncertainty set\n",
    "    @constraint(model, [1:T], D_min .<= y)\n",
    "    @constraint(model, [1:T], y .<= D_max)\n",
    "    \n",
    "    y_val0 = (D_min .+ D_max)./2\n",
    "    L_OA, λ_val0, _, _ = S_dual(X, y_val0, β0, epsilon, delta)\n",
    "    @constraint(model, α <=   dot(λ_val0[1,:],y_val0) \n",
    "                            + dot(λ[1,:].-λ_val0[1,:], y_val0) \n",
    "                            + dot(y.-y_val0,λ_val0[1,:])\n",
    "                            - dot(λ_val0[2,:],y_val0) \n",
    "                            - dot(λ[2,:].-λ_val0[2,:], y_val0) \n",
    "                            - dot(y.-y_val0,λ_val0[2,:]))\n",
    "#     @constraint(model, γ >=   dot(λ_val0[2,:],y_val0) \n",
    "#                             + dot(λ[2,:].-λ_val0[2,:], y_val0) \n",
    "#                             + dot(y.-y_val0,λ_val0[2,:]))\n",
    "    \n",
    "    # Add objective\n",
    "    @objective(model, Max, α #- γ\n",
    "                            - delta * sum(sum(ν[1,t,i]+ν[2,t,i] for i=1:p) for t=1:T-1)\n",
    "                            - sum(dot(epsilon .+ β0, μ[1,t,:]) for t = 1:T)\n",
    "                            + sum(dot(epsilon .- β0, μ[2,t,:]) for t = 1:T))\n",
    "    \n",
    "    ###\n",
    "    # Step 3: Define the outer approximation function\n",
    "    ###\n",
    "    #m2 = copy(model)\n",
    "    #optimize!(model)\n",
    "    while cuts < max_cuts\n",
    "        println(\"Lower: \", L_OA, \" Upper: \", U_OA)\n",
    "        cuts += 1\n",
    "        y_val, U_OA = solve_model(model)\n",
    "\n",
    "        L_OA, λ_val, ν_val, μ_val = S_dual(X, y_val, β0, epsilon, delta)\n",
    "\n",
    "        if true#U_OA - L_OA > threshold\n",
    "            @constraint(model, α <= dot(λ_val[1,:],y_val) \n",
    "                                + dot(λ[1,:].-λ_val[1,:], y_val) \n",
    "                                + dot(y.-y_val,λ_val[1,:])\n",
    "                                - dot(λ_val[2,:],y_val) \n",
    "                                - dot(λ[2,:].-λ_val[2,:], y_val) \n",
    "                                - dot(y.-y_val,λ_val[2,:]))\n",
    "#             @constraint(model, γ >= dot(λ_val[2,:],y_val) \n",
    "#                             + dot(λ[2,:].-λ_val[2,:], y_val) \n",
    "#                             + dot(y.-y_val,λ_val[2,:]))\n",
    "            println(\"Cut added\")\n",
    "        end\n",
    "    end    \n",
    "end"
   ]
  },
  {
   "cell_type": "code",
   "execution_count": 269,
   "id": "absent-belarus",
   "metadata": {},
   "outputs": [
    {
     "name": "stdout",
     "output_type": "stream",
     "text": [
      "Academic license - for non-commercial use only - expires 2022-07-20\n",
      "Lower: 6.89489784982016 Upper: 10000\n",
      "U_OA from solve 9.50676896820302\n",
      "Academic license - for non-commercial use only - expires 2022-07-20\n",
      "Cut added\n",
      "[0.44910485812064715, 1.1859076466511875, 0.5476733628913486, 0.2109752836052723, 1.378041767950016, 0.374536996965517, 0.7251971752451791, 1.3691365132789919, 0.9392487930236328, 0.4227048487390981, 0.7371619945268744, 0.012081208078308148, 1.0276201350204741, 1.2833686214418156, 0.5861331896665185, 1.0650113029593455, 0.232469029952036, 1.3379676792557893, 1.4596243879928867, 1.2411937998506408]\n",
      "Lower: 9.695786571685225 Upper: 9.50676896820302\n",
      "U_OA from solve 9.50676896820302\n",
      "Academic license - for non-commercial use only - expires 2022-07-20\n",
      "Cut added\n",
      "[0.44910485812064715, 1.1859076466511875, 0.5476733628913486, 0.2109752836052723, 1.378041767950016, 0.374536996965517, 0.7251971752451791, 1.3691365132789919, 0.9392487930236328, 0.4227048487390981, 0.7371619945268744, 0.012081208078308148, 1.0276201350204741, 1.2833686214418156, 0.5861331896665185, 1.0650113029593455, 0.232469029952036, 1.3379676792557893, 1.4596243879928867, 1.2411937998506408]\n",
      "Lower: 9.695786571685225 Upper: 9.50676896820302\n",
      "U_OA from solve 9.50676896820302\n",
      "Academic license - for non-commercial use only - expires 2022-07-20\n",
      "Cut added\n",
      "[0.44910485812064715, 1.1859076466511875, 0.5476733628913486, 0.2109752836052723, 1.378041767950016, 0.374536996965517, 0.7251971752451791, 1.3691365132789919, 0.9392487930236328, 0.4227048487390981, 0.7371619945268744, 0.012081208078308148, 1.0276201350204741, 1.2833686214418156, 0.5861331896665185, 1.0650113029593455, 0.232469029952036, 1.3379676792557893, 1.4596243879928867, 1.2411937998506408]\n",
      "Lower: 9.695786571685225 Upper: 9.50676896820302\n",
      "U_OA from solve 9.50676896820302\n",
      "Academic license - for non-commercial use only - expires 2022-07-20\n",
      "Cut added\n",
      "[0.44910485812064715, 1.1859076466511875, 0.5476733628913486, 0.2109752836052723, 1.378041767950016, 0.374536996965517, 0.7251971752451791, 1.3691365132789919, 0.9392487930236328, 0.4227048487390981, 0.7371619945268744, 0.012081208078308148, 1.0276201350204741, 1.2833686214418156, 0.5861331896665185, 1.0650113029593455, 0.232469029952036, 1.3379676792557893, 1.4596243879928867, 1.2411937998506408]\n",
      "Lower: 9.695786571685225 Upper: 9.50676896820302\n",
      "U_OA from solve 9.50676896820302\n",
      "Academic license - for non-commercial use only - expires 2022-07-20\n",
      "Cut added\n",
      "[0.44910485812064715, 1.1859076466511875, 0.5476733628913486, 0.2109752836052723, 1.378041767950016, 0.374536996965517, 0.7251971752451791, 1.3691365132789919, 0.9392487930236328, 0.4227048487390981, 0.7371619945268744, 0.012081208078308148, 1.0276201350204741, 1.2833686214418156, 0.5861331896665185, 1.0650113029593455, 0.232469029952036, 1.3379676792557893, 1.4596243879928867, 1.2411937998506408]\n"
     ]
    }
   ],
   "source": [
    "if true   \n",
    "    T, p = size(X)\n",
    "    Z = get_Z(X)\n",
    "    max_cuts = 5\n",
    "    cuts = 0\n",
    "    L_OA = -10000\n",
    "    U_OA = 10000\n",
    "    \n",
    "    # Create model\n",
    "    model = Model(() -> Gurobi.Optimizer(GRB_ENV))#Model(with_optimizer(Gurobi.Optimizer))\n",
    "    set_optimizer_attribute(model, \"OutputFlag\", 0)\n",
    "    set_optimizer_attribute(model, \"NonConvex\", 2)\n",
    "    \n",
    "    # Add variables\n",
    "    @variable(model, λ[i=1:2, j=1:T] >= 0) \n",
    "    @variable(model, ν[i=1:2, j=1:T-1, k=1:p]>=0) \n",
    "    @variable(model, μ[i=1:2, j=1:T, k=1:p]>=0)\n",
    "    \n",
    "    @variable(model, α) \n",
    "    #@variable(model, γ)\n",
    "    @variable(model, y[j=1:T])\n",
    "\n",
    "    \n",
    "    @constraint(model,[t=1:T], λ[1,:] .+ λ[2,:] .== 1)\n",
    "        \n",
    "        \n",
    "    @constraint(model, transpose(λ[2,:])*Z-transpose(λ[1,:])*Z \n",
    "                        + sum(transpose(ν[1,t,:])*(get_A(X, t+1).-get_A(X, t)) for t=1:T-1)\n",
    "                        + sum(transpose(ν[2,t,:])*(-get_A(X, t+1).+get_A(X, t)) for t=1:T-1)\n",
    "                        + sum(transpose(μ[1,t,:])*get_A(X,t) for t=1:T)\n",
    "                        - sum(transpose(μ[2,t,:])*get_A(X,t) for t=1:T) .== 0)\n",
    "\n",
    "    #y in uncertainty set\n",
    "    @constraint(model, [1:T], D_min .<= y)\n",
    "    @constraint(model, [1:T], y .<= D_max)\n",
    "    \n",
    "    y_val0 = D_max #(D_min .+ D_max)./2\n",
    "    L_OA, λ_val0, ν_val0, μ_val0 = S_dual(X, y_val0, β0, epsilon, delta)\n",
    "    @constraint(model, α <= dot(λ_val0[1,:],y_val0) + dot(λ[1,:].-λ_val0[1,:], y_val0) + dot(y.-y_val0,λ_val0[1,:]))\n",
    "    \n",
    "    # Add objective\n",
    "    @objective(model, Max, 2*α - sum(y)\n",
    "                            - delta * sum(sum(ν[1,t,i]+ν[2,t,i] for i=1:p) for t=1:T-1)\n",
    "                            - sum(dot(epsilon .+ β0, μ[1,t,:]) for t = 1:T)\n",
    "                            + sum(dot(epsilon .- β0, μ[2,t,:]) for t = 1:T))\n",
    "    \n",
    "    ###\n",
    "    # Step 3: Define the outer approximation function\n",
    "    ###\n",
    "    #m2 = copy(model)\n",
    "    #optimize!(model)\n",
    "    while cuts < max_cuts\n",
    "        println(\"Lower: \", L_OA, \" Upper: \", U_OA)\n",
    "        cuts += 1\n",
    "        \n",
    "        y_val, U_OA = solve_model(model)\n",
    "\n",
    "        L_OA, λ_val, ν_val, μ_val = S_dual(X, y_val, β0, epsilon, delta)\n",
    "\n",
    "        if true#U_OA - L_OA > threshold\n",
    "            @constraint(model, α <= dot(λ_val[1,:],y_val) \n",
    "                                + dot(λ[1,:].-λ_val[1,:], y_val) \n",
    "                                + dot(y.-y_val,λ_val[1,:]))\n",
    "                                \n",
    "            println(\"Cut added\")\n",
    "            println(y_val)\n",
    "        end\n",
    "    end    \n",
    "end"
   ]
  },
  {
   "cell_type": "code",
   "execution_count": 273,
   "id": "electronic-hindu",
   "metadata": {},
   "outputs": [
    {
     "name": "stdout",
     "output_type": "stream",
     "text": [
      "Academic license - for non-commercial use only - expires 2022-07-20\n",
      "Lower: 6.139199513343522 Upper: 10000\n",
      "Gurobi Optimizer version 9.1.1 build v9.1.1rc0 (mac64)\n",
      "Thread count: 6 physical cores, 12 logical processors, using up to 12 threads\n",
      "Optimize a model with 2850 rows, 680 columns and 4780 nonzeros\n",
      "Model fingerprint: 0x505479be\n",
      "Model has 30 quadratic objective terms\n",
      "Coefficient statistics:\n",
      "  Matrix range     [7e-04, 1e+00]\n",
      "  Objective range  [5e-02, 1e+00]\n",
      "  QObjective range [4e+00, 4e+00]\n",
      "  Bounds range     [0e+00, 0e+00]\n",
      "  RHS range        [5e-02, 1e+00]\n",
      "Presolve removed 2700 rows and 30 columns\n",
      "\n",
      "Continuous model is non-convex -- solving as a MIP.\n",
      "\n",
      "Presolve removed 2700 rows and 180 columns\n",
      "Presolve time: 0.00s\n",
      "Presolved: 180 rows, 530 columns, 970 nonzeros\n",
      "Variable types: 500 continuous, 30 integer (30 binary)\n",
      "\n",
      "Root relaxation: objective 1.246047e+01, 284 iterations, 0.00 seconds\n",
      "\n",
      "    Nodes    |    Current Node    |     Objective Bounds      |     Work\n",
      " Expl Unexpl |  Obj  Depth IntInf | Incumbent    BestBd   Gap | It/Node Time\n",
      "\n",
      "     0     0   12.46047    0   11          -   12.46047      -     -    0s\n",
      "H    0     0                      10.5585946   12.46047  18.0%     -    0s\n",
      "H    0     0                      11.6520061   12.46047  6.94%     -    0s\n",
      "     0     0   12.10669    0   10   11.65201   12.10669  3.90%     -    0s\n",
      "     0     0   12.10247    0    9   11.65201   12.10247  3.87%     -    0s\n",
      "     0     0   11.97763    0   13   11.65201   11.97763  2.79%     -    0s\n",
      "     0     0   11.97763    0   13   11.65201   11.97763  2.79%     -    0s\n",
      "H    0     0                      11.6718363   11.97763  2.62%     -    0s\n",
      "     0     2   11.97763    0   13   11.67184   11.97763  2.62%     -    0s\n",
      "H   23    15                      11.7417347   11.83088  0.76%  17.7    0s\n",
      "\n",
      "Cutting planes:\n",
      "  Gomory: 5\n",
      "  MIR: 53\n",
      "  RLT: 2\n",
      "\n",
      "Explored 47 nodes (1049 simplex iterations) in 0.08 seconds\n",
      "Thread count was 12 (of 12 available processors)\n",
      "\n",
      "Solution count 3: 11.7417 11.652 10.5586 \n",
      "\n",
      "Optimal solution found (tolerance 1.00e-04)\n",
      "Best objective 1.174173473674e+01, best bound 1.174173473674e+01, gap 0.0000%\n",
      "\n",
      "User-callback calls 221, time in user-callback 0.00 sec\n",
      "U_OA from solve 11.74173473673961\n",
      "Academic license - for non-commercial use only - expires 2022-07-20\n",
      "Lower: 11.741734736739598 Upper: 11.74173473673961\n",
      "Gurobi Optimizer version 9.1.1 build v9.1.1rc0 (mac64)\n",
      "Thread count: 6 physical cores, 12 logical processors, using up to 12 threads\n",
      "Optimize a model with 2850 rows, 680 columns and 4780 nonzeros\n",
      "Model fingerprint: 0x505479be\n",
      "Model has 30 quadratic objective terms\n",
      "Variable types: 680 continuous, 0 integer (0 binary)\n",
      "Coefficient statistics:\n",
      "  Matrix range     [7e-04, 1e+00]\n",
      "  Objective range  [5e-02, 1e+00]\n",
      "  QObjective range [4e+00, 4e+00]\n",
      "  Bounds range     [0e+00, 0e+00]\n",
      "  RHS range        [5e-02, 1e+00]\n",
      "Presolved: 180 rows, 530 columns, 970 nonzeros\n",
      "\n",
      "Continuing optimization...\n",
      "\n",
      "\n",
      "Cutting planes:\n",
      "  Gomory: 5\n",
      "  MIR: 53\n",
      "  RLT: 2\n",
      "\n",
      "Explored 47 nodes (1049 simplex iterations) in 0.00 seconds\n",
      "Thread count was 12 (of 12 available processors)\n",
      "\n",
      "Solution count 3: 11.7417 11.652 10.5586 \n",
      "\n",
      "Optimal solution found (tolerance 1.00e-04)\n",
      "Best objective 1.174173473674e+01, best bound 1.174173473674e+01, gap 0.0000%\n",
      "\n",
      "User-callback calls 252, time in user-callback 0.00 sec\n",
      "U_OA from solve 11.74173473673961\n",
      "Academic license - for non-commercial use only - expires 2022-07-20\n",
      "Lower: 11.741734736739598 Upper: 11.74173473673961\n",
      "Gurobi Optimizer version 9.1.1 build v9.1.1rc0 (mac64)\n",
      "Thread count: 6 physical cores, 12 logical processors, using up to 12 threads\n",
      "Optimize a model with 2850 rows, 680 columns and 4780 nonzeros\n",
      "Model fingerprint: 0x505479be\n",
      "Model has 30 quadratic objective terms\n",
      "Variable types: 680 continuous, 0 integer (0 binary)\n",
      "Coefficient statistics:\n",
      "  Matrix range     [7e-04, 1e+00]\n",
      "  Objective range  [5e-02, 1e+00]\n",
      "  QObjective range [4e+00, 4e+00]\n",
      "  Bounds range     [0e+00, 0e+00]\n",
      "  RHS range        [5e-02, 1e+00]\n",
      "Presolved: 180 rows, 530 columns, 970 nonzeros\n",
      "\n",
      "Continuing optimization...\n",
      "\n",
      "\n",
      "Cutting planes:\n",
      "  Gomory: 5\n",
      "  MIR: 53\n",
      "  RLT: 2\n",
      "\n",
      "Explored 47 nodes (1049 simplex iterations) in 0.00 seconds\n",
      "Thread count was 12 (of 12 available processors)\n",
      "\n",
      "Solution count 3: 11.7417 11.652 10.5586 \n",
      "\n",
      "Optimal solution found (tolerance 1.00e-04)\n",
      "Best objective 1.174173473674e+01, best bound 1.174173473674e+01, gap 0.0000%\n",
      "\n",
      "User-callback calls 283, time in user-callback 0.00 sec\n",
      "U_OA from solve 11.74173473673961\n",
      "Academic license - for non-commercial use only - expires 2022-07-20\n",
      "Lower: 11.741734736739598 Upper: 11.74173473673961\n",
      "Gurobi Optimizer version 9.1.1 build v9.1.1rc0 (mac64)\n",
      "Thread count: 6 physical cores, 12 logical processors, using up to 12 threads\n",
      "Optimize a model with 2850 rows, 680 columns and 4780 nonzeros\n",
      "Model fingerprint: 0x505479be\n",
      "Model has 30 quadratic objective terms\n",
      "Variable types: 680 continuous, 0 integer (0 binary)\n",
      "Coefficient statistics:\n",
      "  Matrix range     [7e-04, 1e+00]\n",
      "  Objective range  [5e-02, 1e+00]\n",
      "  QObjective range [4e+00, 4e+00]\n",
      "  Bounds range     [0e+00, 0e+00]\n",
      "  RHS range        [5e-02, 1e+00]\n",
      "Presolved: 180 rows, 530 columns, 970 nonzeros\n",
      "\n",
      "Continuing optimization...\n",
      "\n",
      "\n",
      "Cutting planes:\n",
      "  Gomory: 5\n",
      "  MIR: 53\n",
      "  RLT: 2\n",
      "\n",
      "Explored 47 nodes (1049 simplex iterations) in 0.00 seconds\n",
      "Thread count was 12 (of 12 available processors)\n",
      "\n",
      "Solution count 3: 11.7417 11.652 10.5586 \n",
      "\n",
      "Optimal solution found (tolerance 1.00e-04)\n",
      "Best objective 1.174173473674e+01, best bound 1.174173473674e+01, gap 0.0000%\n",
      "\n",
      "User-callback calls 314, time in user-callback 0.00 sec\n",
      "U_OA from solve 11.74173473673961\n",
      "Academic license - for non-commercial use only - expires 2022-07-20\n",
      "Lower: 11.741734736739598 Upper: 11.74173473673961\n",
      "Gurobi Optimizer version 9.1.1 build v9.1.1rc0 (mac64)\n",
      "Thread count: 6 physical cores, 12 logical processors, using up to 12 threads\n",
      "Optimize a model with 2850 rows, 680 columns and 4780 nonzeros\n",
      "Model fingerprint: 0x505479be\n",
      "Model has 30 quadratic objective terms\n",
      "Variable types: 680 continuous, 0 integer (0 binary)\n",
      "Coefficient statistics:\n",
      "  Matrix range     [7e-04, 1e+00]\n",
      "  Objective range  [5e-02, 1e+00]\n",
      "  QObjective range [4e+00, 4e+00]\n",
      "  Bounds range     [0e+00, 0e+00]\n",
      "  RHS range        [5e-02, 1e+00]\n",
      "Presolved: 180 rows, 530 columns, 970 nonzeros\n",
      "\n",
      "Continuing optimization...\n",
      "\n",
      "\n",
      "Cutting planes:\n",
      "  Gomory: 5\n",
      "  MIR: 53\n",
      "  RLT: 2\n",
      "\n",
      "Explored 47 nodes (1049 simplex iterations) in 0.00 seconds\n",
      "Thread count was 12 (of 12 available processors)\n",
      "\n",
      "Solution count 3: 11.7417 11.652 10.5586 \n",
      "\n",
      "Optimal solution found (tolerance 1.00e-04)\n",
      "Best objective 1.174173473674e+01, best bound 1.174173473674e+01, gap 0.0000%\n",
      "\n",
      "User-callback calls 345, time in user-callback 0.00 sec\n",
      "U_OA from solve 11.74173473673961\n",
      "Academic license - for non-commercial use only - expires 2022-07-20\n"
     ]
    }
   ],
   "source": [
    "if true   \n",
    "    T, p = size(X)\n",
    "    Z = get_Z(X)\n",
    "    max_cuts = 5\n",
    "    cuts = 0\n",
    "    L_OA = -10000\n",
    "    U_OA = 10000\n",
    "    \n",
    "    # Create model\n",
    "    model = Model(() -> Gurobi.Optimizer(GRB_ENV))#Model(with_optimizer(Gurobi.Optimizer))\n",
    "    #set_optimizer_attribute(model, \"OutputFlag\", 0)\n",
    "    set_optimizer_attribute(model, \"NonConvex\", 2)\n",
    "    \n",
    "    # Add variables\n",
    "    @variable(model, λ[i=1:2, j=1:T] >= 0) \n",
    "    @variable(model, ν[i=1:2, j=1:T-1, k=1:p]>=0) \n",
    "    @variable(model, μ[i=1:2, j=1:T, k=1:p]>=0)\n",
    "    \n",
    "    @variable(model, y[j=1:T])\n",
    "\n",
    "    \n",
    "    @constraint(model,[t=1:T], λ[1,:] .+ λ[2,:] .== 1)\n",
    "        \n",
    "        \n",
    "    @constraint(model, transpose(λ[2,:])*Z-transpose(λ[1,:])*Z \n",
    "                        + sum(transpose(ν[1,t,:])*(get_A(X, t+1).-get_A(X, t)) for t=1:T-1)\n",
    "                        + sum(transpose(ν[2,t,:])*(-get_A(X, t+1).+get_A(X, t)) for t=1:T-1)\n",
    "                        + sum(transpose(μ[1,t,:])*get_A(X,t) for t=1:T)\n",
    "                        - sum(transpose(μ[2,t,:])*get_A(X,t) for t=1:T) .== 0)\n",
    "\n",
    "    #y in uncertainty set\n",
    "    @constraint(model, [1:T], D_min .<= y)\n",
    "    @constraint(model, [1:T], y .<= D_max)\n",
    "    \n",
    "    y_val0 = D_max #(D_min .+ D_max)./2\n",
    "    L_OA, λ_val0, ν_val0, μ_val0 = S_dual(X, y_val0, β0, epsilon, delta)\n",
    "    \n",
    "    # Add objective\n",
    "    @objective(model, Max, 2*transpose(λ[1,:])*y - sum(y)\n",
    "                            - delta * sum(sum(ν[1,t,i]+ν[2,t,i] for i=1:p) for t=1:T-1)\n",
    "                            - sum(dot(epsilon .+ β0, μ[1,t,:]) for t = 1:T)\n",
    "                            + sum(dot(epsilon .- β0, μ[2,t,:]) for t = 1:T))\n",
    "    \n",
    "    ###\n",
    "    # Step 3: Define the outer approximation function\n",
    "    ###\n",
    "    #m2 = copy(model)\n",
    "    #optimize!(model)\n",
    "    while cuts < max_cuts\n",
    "        println(\"Lower: \", L_OA, \" Upper: \", U_OA)\n",
    "        cuts += 1\n",
    "        \n",
    "        y_val, U_OA = solve_model(model)\n",
    "\n",
    "        L_OA, λ_val, ν_val, μ_val = S_dual(X, y_val, β0, epsilon, delta)\n",
    "    end    \n",
    "end"
   ]
  },
  {
   "cell_type": "code",
   "execution_count": 271,
   "id": "attempted-avenue",
   "metadata": {},
   "outputs": [
    {
     "name": "stdout",
     "output_type": "stream",
     "text": [
      "Academic license - for non-commercial use only - expires 2022-07-20\n",
      "Gurobi Optimizer version 9.1.1 build v9.1.1rc0 (mac64)\n",
      "Thread count: 6 physical cores, 12 logical processors, using up to 12 threads\n",
      "Optimize a model with 2852 rows, 682 columns and 4883 nonzeros\n",
      "Model fingerprint: 0x6bebc612\n",
      "Coefficient statistics:\n",
      "  Matrix range     [7e-04, 1e+00]\n",
      "  Objective range  [5e-02, 1e+00]\n",
      "  Bounds range     [0e+00, 0e+00]\n",
      "  RHS range        [5e-02, 2e+01]\n",
      "Presolve removed 2702 rows and 64 columns\n",
      "Presolve time: 0.00s\n",
      "Presolved: 150 rows, 618 columns, 1020 nonzeros\n",
      "\n",
      "Iteration    Objective       Primal Inf.    Dual Inf.      Time\n",
      "       0    2.8856406e+01   7.312947e+01   0.000000e+00      0s\n",
      "     298    1.0856114e+01   0.000000e+00   0.000000e+00      0s\n",
      "\n",
      "Solved in 298 iterations and 0.01 seconds\n",
      "Optimal objective  1.085611376e+01\n",
      "\n",
      "User-callback calls 335, time in user-callback 0.00 sec\n",
      "10000\n",
      "4.960473282817949\n"
     ]
    },
    {
     "data": {
      "text/plain": [
       "30-element Array{Float64,1}:\n",
       " 0.5191025477750704\n",
       " 1.0050811033004208\n",
       " 1.2099690485313632\n",
       " 0.36189749029161034\n",
       " 0.49893452500354263\n",
       " 1.434251960631498\n",
       " 1.3668963479536342\n",
       " 1.2192586265507033\n",
       " 0.22981764003633476\n",
       " 1.3456953427792637\n",
       " 1.1108493801344979\n",
       " 0.33660946997334595\n",
       " 0.05328918028719687\n",
       " ⋮\n",
       " 0.16907880592122382\n",
       " 0.1746445234450209\n",
       " 0.7694805310968174\n",
       " 0.8904179931067624\n",
       " 1.1270924027059324\n",
       " 1.3122967540717276\n",
       " 1.489353226313489\n",
       " 0.431520488325551\n",
       " 0.19245588276446846\n",
       " 1.41857722740096\n",
       " 0.6543399906901304\n",
       " 0.1498326677365096"
      ]
     },
     "execution_count": 271,
     "metadata": {},
     "output_type": "execute_result"
    }
   ],
   "source": [
    "n = 30\n",
    "p = 5\n",
    "X = Random.rand(n,p)\n",
    "#X[:,-1] = np.ones(n)\n",
    "y = Random.rand(n)\n",
    "epsilon = 0.05\n",
    "delta = 0.05\n",
    "\n",
    "D_min = Random.rand(n)\n",
    "D_max = D_min .+ 0.5 \n",
    "threshold = 0.5\n",
    "β0 = Random.rand(p)\n",
    "model, y, L_OA, U_OA, α, γ = U(X, D_min, D_max, β0, epsilon, delta, threshold)\n",
    "println(U_OA)\n",
    "println(L_OA)\n",
    "y"
   ]
  },
  {
   "cell_type": "code",
   "execution_count": 173,
   "id": "lyric-smile",
   "metadata": {},
   "outputs": [
    {
     "data": {
      "text/plain": [
       "-2.1744458297540286"
      ]
     },
     "execution_count": 173,
     "metadata": {},
     "output_type": "execute_result"
    }
   ],
   "source": [
    "sub_OA = U_OA - getvalue.(α)"
   ]
  },
  {
   "cell_type": "code",
   "execution_count": 174,
   "id": "complex-stewart",
   "metadata": {},
   "outputs": [
    {
     "data": {
      "text/plain": [
       "-1.7376516923119785"
      ]
     },
     "execution_count": 174,
     "metadata": {},
     "output_type": "execute_result"
    }
   ],
   "source": [
    "sub_LA = L_OA - dot(λ_val[1,:],y_val) + dot(λ_val[2,:],y_val) "
   ]
  },
  {
   "cell_type": "code",
   "execution_count": null,
   "id": "noted-nudist",
   "metadata": {},
   "outputs": [],
   "source": [
    "2*α - sum(y[t] for t=1:T)\n",
    "                            - delta * sum(sum(ν[1,t,i]+ν[2,t,i] for i=1:p) for t=1:T-1)\n",
    "                            - sum(dot(epsilon .+ β0, μ[1,t,:]) for t = 1:T)\n",
    "                            + sum(dot(epsilon .- β0, μ[2,t,:]) for t = 1:T)"
   ]
  },
  {
   "cell_type": "code",
   "execution_count": 176,
   "id": "natural-editor",
   "metadata": {},
   "outputs": [
    {
     "data": {
      "text/plain": [
       "4.763530849986924"
      ]
     },
     "execution_count": 176,
     "metadata": {},
     "output_type": "execute_result"
    }
   ],
   "source": [
    "dot(λ_val[1,:],y_val) - dot(λ_val[2,:],y_val)"
   ]
  },
  {
   "cell_type": "code",
   "execution_count": 175,
   "id": "moved-antibody",
   "metadata": {},
   "outputs": [
    {
     "data": {
      "text/plain": [
       "4.622827386255075"
      ]
     },
     "execution_count": 175,
     "metadata": {},
     "output_type": "execute_result"
    }
   ],
   "source": [
    "2*getvalue.(α)-sum(getvalue.(y))"
   ]
  },
  {
   "cell_type": "code",
   "execution_count": 185,
   "id": "waiting-authorization",
   "metadata": {},
   "outputs": [
    {
     "data": {
      "text/plain": [
       "2×8 Array{Float64,2}:\n",
       " 0.237489  1.0  1.0  1.0  1.0  1.0  0.0  0.5\n",
       " 0.762511  0.0  0.0  0.0  0.0  0.0  1.0  0.5"
      ]
     },
     "execution_count": 185,
     "metadata": {},
     "output_type": "execute_result"
    }
   ],
   "source": [
    "λ_val = getvalue.(λ)"
   ]
  },
  {
   "cell_type": "code",
   "execution_count": 240,
   "id": "elegant-longer",
   "metadata": {},
   "outputs": [
    {
     "data": {
      "text/plain": [
       "10-element Array{Float64,1}:\n",
       " 1.246619713529564\n",
       " 0.2357621500647733\n",
       " 0.8031199904871795\n",
       " 0.8234069949557103\n",
       " 0.6149510694043452\n",
       " 0.02696144751072249\n",
       " 0.01934453317589746\n",
       " 0.6189572592935506\n",
       " 1.4168534654101108\n",
       " 0.027498555784792655"
      ]
     },
     "execution_count": 240,
     "metadata": {},
     "output_type": "execute_result"
    }
   ],
   "source": [
    "y_val = getvalue.(y)"
   ]
  },
  {
   "cell_type": "code",
   "execution_count": null,
   "id": "clinical-roommate",
   "metadata": {},
   "outputs": [],
   "source": [
    "dot(λ_val[1,:],y_val) \n",
    "                                + dot(λ[1,:].-λ_val[1,:], y_val) \n",
    "                                + dot(y.-y_val,λ_val[1,:])"
   ]
  },
  {
   "cell_type": "code",
   "execution_count": 234,
   "id": "involved-specialist",
   "metadata": {},
   "outputs": [
    {
     "data": {
      "text/plain": [
       "5.322916405478342"
      ]
     },
     "execution_count": 234,
     "metadata": {},
     "output_type": "execute_result"
    }
   ],
   "source": [
    "dot(λ_val0[1,:],y_val0) + dot(λ_valu[1,:].-λ_val0[1,:], y_val0) + dot(y_val.-y_val0,λ_val0[1,:])"
   ]
  },
  {
   "cell_type": "code",
   "execution_count": 235,
   "id": "marine-techno",
   "metadata": {},
   "outputs": [
    {
     "data": {
      "text/plain": [
       "5.322916405478343"
      ]
     },
     "execution_count": 235,
     "metadata": {},
     "output_type": "execute_result"
    }
   ],
   "source": [
    "dot(λ_valu[1,:],y_val) #+ dot(λ_valu[1,:].-λ_val0[1,:], y_val0) + dot(y_val.-y_val0,λ_val0[1,:])"
   ]
  },
  {
   "cell_type": "code",
   "execution_count": 243,
   "id": "absent-sheep",
   "metadata": {},
   "outputs": [
    {
     "data": {
      "text/plain": [
       "5.555131855391839"
      ]
     },
     "execution_count": 243,
     "metadata": {},
     "output_type": "execute_result"
    }
   ],
   "source": [
    "#First term S\n",
    "s1 = dot(λ_val[1,:],y_val)\n",
    "s1"
   ]
  },
  {
   "cell_type": "code",
   "execution_count": 244,
   "id": "nuclear-duplicate",
   "metadata": {},
   "outputs": [
    {
     "data": {
      "text/plain": [
       "0.2783433242248072"
      ]
     },
     "execution_count": 244,
     "metadata": {},
     "output_type": "execute_result"
    }
   ],
   "source": [
    "#Second term S\n",
    "s2 = dot(λ_val[2,:],y_val)\n",
    "s2"
   ]
  },
  {
   "cell_type": "code",
   "execution_count": 242,
   "id": "configured-columbus",
   "metadata": {},
   "outputs": [
    {
     "name": "stdout",
     "output_type": "stream",
     "text": [
      "Academic license - for non-commercial use only - expires 2022-07-20\n",
      "4.1280649993127065"
     ]
    }
   ],
   "source": [
    "#Total S\n",
    "L_OA, λ_val, ν_val, μ_val = S_dual(X, y_val, β0, epsilon, delta);\n",
    "print(L_OA)"
   ]
  },
  {
   "cell_type": "code",
   "execution_count": 245,
   "id": "delayed-strap",
   "metadata": {},
   "outputs": [
    {
     "data": {
      "text/plain": [
       "-1.148723531854324"
      ]
     },
     "execution_count": 245,
     "metadata": {},
     "output_type": "execute_result"
    }
   ],
   "source": [
    "#Second part S\n",
    "s3 = - delta * sum(sum(ν_val[1,t,i]+ν_val[2,t,i] for i=1:p) for t=1:T-1) - sum(dot(epsilon .+ β0, μ_val[1,t,:]) for t = 1:T)+ sum(dot(epsilon .- β0, μ_val[2,t,:]) for t = 1:T)\n",
    "s3"
   ]
  },
  {
   "cell_type": "code",
   "execution_count": 246,
   "id": "biblical-workplace",
   "metadata": {},
   "outputs": [
    {
     "data": {
      "text/plain": [
       "4.128064999312707"
      ]
     },
     "execution_count": 246,
     "metadata": {},
     "output_type": "execute_result"
    }
   ],
   "source": [
    "s1-s2+s3"
   ]
  },
  {
   "cell_type": "code",
   "execution_count": 247,
   "id": "accepting-brunswick",
   "metadata": {},
   "outputs": [
    {
     "data": {
      "text/plain": [
       "5.347249631285829"
      ]
     },
     "execution_count": 247,
     "metadata": {},
     "output_type": "execute_result"
    }
   ],
   "source": [
    "getvalue.(α)"
   ]
  },
  {
   "cell_type": "code",
   "execution_count": 251,
   "id": "arbitrary-gospel",
   "metadata": {},
   "outputs": [
    {
     "data": {
      "text/plain": [
       "4.86102408295501"
      ]
     },
     "execution_count": 251,
     "metadata": {},
     "output_type": "execute_result"
    }
   ],
   "source": [
    "#First term U\n",
    "u1 = 2*getvalue.(α) - sum(y_val);\n",
    "u1"
   ]
  },
  {
   "cell_type": "code",
   "execution_count": 249,
   "id": "positive-choir",
   "metadata": {},
   "outputs": [
    {
     "data": {
      "text/plain": [
       "5.276788531167032"
      ]
     },
     "execution_count": 249,
     "metadata": {},
     "output_type": "execute_result"
    }
   ],
   "source": [
    "s1-s2"
   ]
  },
  {
   "cell_type": "code",
   "execution_count": 252,
   "id": "alternative-african",
   "metadata": {},
   "outputs": [
    {
     "data": {
      "text/plain": [
       "-0.947176766955676"
      ]
     },
     "execution_count": 252,
     "metadata": {},
     "output_type": "execute_result"
    }
   ],
   "source": [
    "#Second term U\n",
    "λ_valu, ν_valu, μ_valu = getvalue.(λ), getvalue.(ν),getvalue.(μ)\n",
    "u3 = - delta * sum(sum(ν_valu[1,t,i]+ν_valu[2,t,i] for i=1:p) for t=1:T-1) - sum(dot(epsilon .+ β0, μ_valu[1,t,:]) for t = 1:T)+ sum(dot(epsilon .- β0, μ_valu[2,t,:]) for t = 1:T)\n",
    "u3"
   ]
  },
  {
   "cell_type": "markdown",
   "id": "amazing-stockholm",
   "metadata": {},
   "source": [
    "# Work in progress"
   ]
  },
  {
   "cell_type": "code",
   "execution_count": 5,
   "id": "945cc1b5",
   "metadata": {},
   "outputs": [
    {
     "data": {
      "text/plain": [
       "U (generic function with 1 method)"
      ]
     },
     "execution_count": 5,
     "metadata": {},
     "output_type": "execute_result"
    }
   ],
   "source": [
    "function U(X, D_min, D_max, β0, epsilon, delta, threshold)\n",
    "    \n",
    "    T, p = size(X)\n",
    "    Z = get_Z(X)\n",
    "    \n",
    "    L_OA = -10000\n",
    "    U_OA = 10000\n",
    "    \n",
    "    # Create model\n",
    "    model = Model(() -> Gurobi.Optimizer(GRB_ENV))#Model(with_optimizer(Gurobi.Optimizer))\n",
    "    #set_optimizer_attribute(model, \"OutputFlag\", 0)\n",
    "    \n",
    "    # Add variables\n",
    "    @variable(model, λ[i=1:2, j=1:T] >= 0) \n",
    "    @variable(model, ν[i=1:2, j=1:T-1, k=1:p]>=0) \n",
    "    @variable(model, μ[i=1:2, j=1:T, k=1:p]>=0)\n",
    "    \n",
    "    @variable(model, α) \n",
    "    @variable(model, γ)\n",
    "    @variable(model, y[j=1:T])\n",
    "\n",
    "    \n",
    "    @constraint(model,[t=1:T], λ[1,:] .+ λ[2,:] .== 1)\n",
    "        \n",
    "        \n",
    "    @constraint(model, transpose(λ[2,:])*Z-transpose(λ[1,:])*Z \n",
    "                        + sum(transpose(ν[1,t,:])*(get_A(X, t+1).-get_A(X, t)) for t=1:T-1)\n",
    "                        + sum(transpose(ν[2,t,:])*(-get_A(X, t+1).+get_A(X, t)) for t=1:T-1)\n",
    "                        + sum(transpose(μ[1,t,:])*get_A(X,t) for t=1:T)\n",
    "                        - sum(transpose(μ[2,t,:])*get_A(X,t) for t=1:T) .== 0)\n",
    "    \n",
    "    #y in uncertainty set\n",
    "    @constraint(model, [1:T], D_min .<= y)\n",
    "    @constraint(model, [1:T], y .<= D_max)\n",
    "    \n",
    "    y_val0 = (D_min .+ D_max)./2\n",
    "    L_OA, λ_val0, _, _ = S_dual(X, y_val0, β0, epsilon, delta)\n",
    "    @constraint(model, α <= dot(λ_val0[1,:],y_val0) \n",
    "                            + dot(λ[1,:].-λ_val0[1,:], y_val0) \n",
    "                            + dot(y.-y_val0,λ_val0[1,:]))\n",
    "    \n",
    "    @constraint(model, γ >= dot(λ_val0[2,:],y_val0) \n",
    "                            + dot(λ[2,:].-λ_val0[2,:], y_val0) \n",
    "                            + dot(y.-y_val0,λ_val0[2,:]))\n",
    "    \n",
    "    # Add objective\n",
    "    @objective(model, Max, α - γ\n",
    "                            - delta * sum(sum(ν[1,t,i]+ν[2,t,i] for i=1:p) for t=1:T-1)\n",
    "                            - sum(dot(epsilon .+ β0, μ[1,t,:]) for t = 1:T)\n",
    "                            + sum(dot(epsilon .- β0, μ[2,t,:]) for t = 1:T))\n",
    "    \n",
    "    ###\n",
    "    # Step 3: Define the outer approximation function\n",
    "    ###\n",
    "    \n",
    "    function outer_approximation(cb_data)\n",
    "        print(\"Callback\")\n",
    "        #U_OA = objective_value(model)\n",
    "        y_val = []\n",
    "        for t = 1:T\n",
    "            y_val = [y_val;callback_value(cb_data, y[t])]\n",
    "        end\n",
    "        #new lowerbound\n",
    "        L_OA, λ_val, ν_val, μ_val = S_dual(X, y_val, β0, epsilon, delta)\n",
    "        α_val, γ_val = callback_value(cb_data, α), callback_value(cb_data, γ)\n",
    "        U_OA = α_val - γ_val - delta * sum(sum(ν_val[1,t,i]+ν_val[2,t,i] for i=1:p) for t=1:T-1)\n",
    "                            - sum(dot(epsilon .+ β0, μ_val[1,t,:]) for t = 1:T)\n",
    "                            + sum(dot(epsilon .- β0, μ_val[2,t,:]) for t = 1:T)\n",
    "#         λ1_val = []\n",
    "#         λ2_val = []\n",
    "        \n",
    "#         for t = 1:T\n",
    "#             λ1_val = [λ1_val;callback_value(cb_data, λ[1,t])]\n",
    "#             λ2_val = [λ2_val;callback_value(cb_data, λ[2,t])]\n",
    "#         end\n",
    "        \n",
    "#         #linearization of the bilinear term\n",
    "#         con1 = @build_constraint(α <= dot(λ1_val,y_val) \n",
    "#                                 + dot(λ[1,:].-λ1_val, y_val) \n",
    "#                                 + dot(y.-y_val,λ1_val))\n",
    "#         con2 = @build_constraint(γ <= dot(λ2_val,y_val) \n",
    "#                             + dot(λ[2,:].-λ2_val, y_val) \n",
    "#                             + dot(y.-y_val,λ2_val))\n",
    "        #linearization of the bilinear term\n",
    "        con1 = @build_constraint(α <= dot(λ_val[1,:],y_val) \n",
    "                                + dot(λ[1,:].-λ_val[1,:], y_val) \n",
    "                                + dot(y.-y_val,λ_val[1,:]))\n",
    "        con2 = @build_constraint(γ >= dot(λ_val[2,:],y_val) \n",
    "                            + dot(λ[2,:].-λ_val[2,:], y_val) \n",
    "                            + dot(y.-y_val,λ_val[2,:]))\n",
    "        if U_OA - L_OA > threshold\n",
    "            MOI.submit(model, MOI.LazyConstraint(cb_data), con1)\n",
    "            MOI.submit(model, MOI.LazyConstraint(cb_data), con2)\n",
    "            print(\"Cut added\")\n",
    "        end\n",
    "    end\n",
    "    #MOI.set(model, MOI.RawParameter(\"LazyConstraints\"), 1)\n",
    "    #MOI.set(model, MOI.LazyConstraintCallback(), outer_approximation)\n",
    "    MOI.set(model, MOI.UserCutCallback(), outer_approximation)\n",
    "    \n",
    "    optimize!(model)\n",
    "    \n",
    "    return model, getvalue.(y), L_OA, U_OA, getvalue.(α), getvalue.(γ)#get_objective_value(model)\n",
    "end"
   ]
  },
  {
   "cell_type": "code",
   "execution_count": 455,
   "id": "ea5c8c47",
   "metadata": {},
   "outputs": [
    {
     "name": "stdout",
     "output_type": "stream",
     "text": [
      "Academic license - for non-commercial use only - expires 2022-07-20\n",
      "Gurobi Optimizer version 9.1.1 build v9.1.1rc0 (mac64)\n",
      "Thread count: 6 physical cores, 12 logical processors, using up to 12 threads\n",
      "Optimize a model with 332 rows, 146 columns and 663 nonzeros\n",
      "Model fingerprint: 0xe232e15b\n",
      "Coefficient statistics:\n",
      "  Matrix range     [1e-02, 1e+00]\n",
      "  Objective range  [1e-01, 1e+00]\n",
      "  Bounds range     [0e+00, 0e+00]\n",
      "  RHS range        [1e-01, 6e+00]\n",
      "Presolve removed 300 rows and 10 columns\n",
      "Presolve time: 0.00s\n",
      "Presolved: 32 rows, 136 columns, 233 nonzeros\n",
      "\n",
      "Iteration    Objective       Primal Inf.    Dual Inf.      Time\n",
      "       0      handle free variables                          0s\n",
      "      53    4.3074467e+00   0.000000e+00   0.000000e+00      0s\n",
      "\n",
      "Solved in 53 iterations and 0.00 seconds\n",
      "Optimal objective  4.307446677e+00\n",
      "\n",
      "User-callback calls 90, time in user-callback 0.00 sec\n"
     ]
    }
   ],
   "source": [
    "if true   \n",
    "    T, p = size(X)\n",
    "    Z = get_Z(X)\n",
    "    \n",
    "    L_OA = -10000\n",
    "    U_OA = 10000\n",
    "    \n",
    "    # Create model\n",
    "    model = Model(() -> Gurobi.Optimizer(GRB_ENV))#Model(with_optimizer(Gurobi.Optimizer))\n",
    "    #set_optimizer_attribute(model, \"OutputFlag\", 0)\n",
    "    \n",
    "    # Add variables\n",
    "    @variable(model, λ[i=1:2, j=1:T] >= 0) \n",
    "    @variable(model, ν[i=1:2, j=1:T-1, k=1:p]>=0) \n",
    "    @variable(model, μ[i=1:2, j=1:T, k=1:p]>=0)\n",
    "    \n",
    "    @variable(model, α) \n",
    "    @variable(model, γ)\n",
    "    @variable(model, y[j=1:T])\n",
    "\n",
    "    \n",
    "    @constraint(model,[t=1:T], λ[1,:] .+ λ[2,:] .== 1)\n",
    "        \n",
    "        \n",
    "    @constraint(model, transpose(λ[2,:])*Z-transpose(λ[1,:])*Z \n",
    "                        + sum(transpose(ν[1,t,:])*(get_A(X, t+1).-get_A(X, t)) for t=1:T-1)\n",
    "                        + sum(transpose(ν[2,t,:])*(-get_A(X, t+1).+get_A(X, t)) for t=1:T-1)\n",
    "                        + sum(transpose(μ[1,t,:])*get_A(X,t) for t=1:T)\n",
    "                        - sum(transpose(μ[2,t,:])*get_A(X,t) for t=1:T) .== 0)\n",
    "    \n",
    "    #y in uncertainty set\n",
    "    @constraint(model, [1:T], D_min .<= y)\n",
    "    @constraint(model, [1:T], y .<= D_max)\n",
    "    \n",
    "    y_val0 = (D_min .+ D_max)./2\n",
    "    L_OA, λ_val0, _, _ = S_dual(X, y_val0, β0, epsilon, delta)\n",
    "    @constraint(model, α <= dot(λ_val0[1,:],y_val0) \n",
    "                            + dot(λ[1,:].-λ_val0[1,:], y_val0) \n",
    "                            + dot(y.-y_val0,λ_val0[1,:]))\n",
    "    \n",
    "    @constraint(model, γ >= dot(λ_val0[2,:],y_val0) \n",
    "                            + dot(λ[2,:].-λ_val0[2,:], y_val0) \n",
    "                            + dot(y.-y_val0,λ_val0[2,:]))\n",
    "    \n",
    "    # Add objective\n",
    "    @objective(model, Max, α - γ\n",
    "                            - delta * sum(sum(ν[1,t,i]+ν[2,t,i] for i=1:p) for t=1:T-1)\n",
    "                            - sum(dot(epsilon .+ β0, μ[1,t,:]) for t = 1:T)\n",
    "                            + sum(dot(epsilon .- β0, μ[2,t,:]) for t = 1:T))\n",
    "    \n",
    "    ###\n",
    "    # Step 3: Define the outer approximation function\n",
    "    ###\n",
    "    \n",
    "    function outer_approximation(cb_data)\n",
    "        print(\"Callback\")\n",
    "        #U_OA = objective_value(model)\n",
    "        y_val = []\n",
    "        for t = 1:T\n",
    "            y_val = [y_val;callback_value(cb_data, y[t])]\n",
    "        end\n",
    "        #new lowerbound\n",
    "        L_OA, λ_val, ν_val, μ_val = S_dual(X, y_val, β0, epsilon, delta)\n",
    "        α_val, γ_val = callback_value(cb_data, α), callback_value(cb_data, γ)\n",
    "        U_OA = α_val - γ_val - delta * sum(sum(ν_val[1,t,i]+ν_val[2,t,i] for i=1:p) for t=1:T-1)\n",
    "                            - sum(dot(epsilon .+ β0, μ_val[1,t,:]) for t = 1:T)\n",
    "                            + sum(dot(epsilon .- β0, μ_val[2,t,:]) for t = 1:T)\n",
    "#         λ1_val = []\n",
    "#         λ2_val = []\n",
    "        \n",
    "#         for t = 1:T\n",
    "#             λ1_val = [λ1_val;callback_value(cb_data, λ[1,t])]\n",
    "#             λ2_val = [λ2_val;callback_value(cb_data, λ[2,t])]\n",
    "#         end\n",
    "        \n",
    "#         #linearization of the bilinear term\n",
    "#         con1 = @build_constraint(α <= dot(λ1_val,y_val) \n",
    "#                                 + dot(λ[1,:].-λ1_val, y_val) \n",
    "#                                 + dot(y.-y_val,λ1_val))\n",
    "#         con2 = @build_constraint(γ <= dot(λ2_val,y_val) \n",
    "#                             + dot(λ[2,:].-λ2_val, y_val) \n",
    "#                             + dot(y.-y_val,λ2_val))\n",
    "        #linearization of the bilinear term\n",
    "        con1 = @build_constraint(α <= dot(λ_val[1,:],y_val) \n",
    "                                + dot(λ[1,:].-λ_val[1,:], y_val) \n",
    "                                + dot(y.-y_val,λ_val[1,:]))\n",
    "        con2 = @build_constraint(γ >= dot(λ_val[2,:],y_val) \n",
    "                            + dot(λ[2,:].-λ_val[2,:], y_val) \n",
    "                            + dot(y.-y_val,λ_val[2,:]))\n",
    "        if U_OA - L_OA > threshold\n",
    "            MOI.submit(model, MOI.LazyConstraint(cb_data), con1)\n",
    "            MOI.submit(model, MOI.LazyConstraint(cb_data), con2)\n",
    "            print(\"Cut added\")\n",
    "        end\n",
    "    end\n",
    "    MOI.set(model, MOI.RawParameter(\"LazyConstraints\"), 1)\n",
    "    MOI.set(model, MOI.LazyConstraintCallback(), outer_approximation)\n",
    "    #MOI.set(model, MOI.UserCutCallback(), outer_approximation)\n",
    "    optimize!(model)\n",
    "end"
   ]
  },
  {
   "cell_type": "code",
   "execution_count": null,
   "id": "edaf98b1",
   "metadata": {},
   "outputs": [],
   "source": [
    "if true   \n",
    "    T, p = size(X)\n",
    "    Z = get_Z(X)\n",
    "    \n",
    "    L_OA = -10000\n",
    "    U_OA = 10000\n",
    "    \n",
    "    # Create model\n",
    "    model = Model(() -> Gurobi.Optimizer(GRB_ENV))#Model(with_optimizer(Gurobi.Optimizer))\n",
    "    #set_optimizer_attribute(model, \"OutputFlag\", 0)\n",
    "    \n",
    "    # Add variables\n",
    "    @variable(model, λ[i=1:2, j=1:T] >= 0) \n",
    "    @variable(model, ν[i=1:2, j=1:T-1, k=1:p]>=0) \n",
    "    @variable(model, μ[i=1:2, j=1:T, k=1:p]>=0)\n",
    "    \n",
    "    @variable(model, α) \n",
    "    @variable(model, γ)\n",
    "    @variable(model, y[j=1:T])\n",
    "\n",
    "    \n",
    "    @constraint(model,[t=1:T], λ[1,:] .+ λ[2,:] .== 1)\n",
    "        \n",
    "        \n",
    "    @constraint(model, transpose(λ[2,:])*Z-transpose(λ[1,:])*Z \n",
    "                        + sum(transpose(ν[1,t,:])*(get_A(X, t+1).-get_A(X, t)) for t=1:T-1)\n",
    "                        + sum(transpose(ν[2,t,:])*(-get_A(X, t+1).+get_A(X, t)) for t=1:T-1)\n",
    "                        + sum(transpose(μ[1,t,:])*get_A(X,t) for t=1:T)\n",
    "                        - sum(transpose(μ[2,t,:])*get_A(X,t) for t=1:T) .== 0)\n",
    "    \n",
    "    #y in uncertainty set\n",
    "    @constraint(model, [1:T], D_min .<= y)\n",
    "    @constraint(model, [1:T], y .<= D_max)\n",
    "    \n",
    "    y_val0 = (D_min .+ D_max)./2\n",
    "    L_OA, λ_val0, _, _ = S_dual(X, y_val0, β0, epsilon, delta)\n",
    "    @constraint(model, α <= dot(λ_val0[1,:],y_val0) \n",
    "                            + dot(λ[1,:].-λ_val0[1,:], y_val0) \n",
    "                            + dot(y.-y_val0,λ_val0[1,:]))\n",
    "    \n",
    "    @constraint(model, γ >= dot(λ_val0[2,:],y_val0) \n",
    "                            + dot(λ[2,:].-λ_val0[2,:], y_val0) \n",
    "                            + dot(y.-y_val0,λ_val0[2,:]))\n",
    "    \n",
    "    # Add objective\n",
    "    @objective(model, Max, α - γ\n",
    "                            - delta * sum(sum(ν[1,t,i]+ν[2,t,i] for i=1:p) for t=1:T-1)\n",
    "                            - sum(dot(epsilon .+ β0, μ[1,t,:]) for t = 1:T)\n",
    "                            + sum(dot(epsilon .- β0, μ[2,t,:]) for t = 1:T))\n",
    "    \n",
    "    ###\n",
    "    # Step 3: Define the outer approximation function\n",
    "    ###\n",
    "    \n",
    "    function outer_approximation(cb_data)\n",
    "        print(\"Callback\")\n",
    "        #U_OA = objective_value(model)\n",
    "        y_val = []\n",
    "        for t = 1:T\n",
    "            y_val = [y_val;callback_value(cb_data, y[t])]\n",
    "        end\n",
    "        #new lowerbound\n",
    "        L_OA, λ_val, ν_val, μ_val = S_dual(X, y_val, β0, epsilon, delta)\n",
    "        α_val, γ_val = callback_value(cb_data, α), callback_value(cb_data, γ)\n",
    "        U_OA = α_val - γ_val - delta * sum(sum(ν_val[1,t,i]+ν_val[2,t,i] for i=1:p) for t=1:T-1)\n",
    "                            - sum(dot(epsilon .+ β0, μ_val[1,t,:]) for t = 1:T)\n",
    "                            + sum(dot(epsilon .- β0, μ_val[2,t,:]) for t = 1:T)\n",
    "        #linearization of the bilinear term\n",
    "        con1 = @build_constraint(α <= dot(λ_val[1,:],y_val) \n",
    "                                + dot(λ[1,:].-λ_val[1,:], y_val) \n",
    "                                + dot(y.-y_val,λ_val[1,:]))\n",
    "        con2 = @build_constraint(γ >= dot(λ_val[2,:],y_val) \n",
    "                            + dot(λ[2,:].-λ_val[2,:], y_val) \n",
    "                            + dot(y.-y_val,λ_val[2,:]))\n",
    "        if U_OA - L_OA > threshold\n",
    "            MOI.submit(model, MOI.LazyConstraint(cb_data), con1)\n",
    "            MOI.submit(model, MOI.LazyConstraint(cb_data), con2)\n",
    "            print(\"Cut added\")\n",
    "        end\n",
    "    end\n",
    "    MOI.set(model, MOI.RawParameter(\"LazyConstraints\"), 1)\n",
    "    MOI.set(model, MOI.LazyConstraintCallback(), outer_approximation)\n",
    "    #MOI.set(model, MOI.UserCutCallback(), outer_approximation)\n",
    "    optimize!(model)\n",
    "end"
   ]
  },
  {
   "cell_type": "code",
   "execution_count": 70,
   "id": "general-armor",
   "metadata": {},
   "outputs": [
    {
     "name": "stdout",
     "output_type": "stream",
     "text": [
      "Academic license - for non-commercial use only - expires 2022-07-20\n",
      "Lower: 1.656032211193675Upper: 10000\n",
      "Academic license - for non-commercial use only - expires 2022-07-20\n",
      "5.668960605208838\n",
      "Cut addedLower: 2.9423204539327297Upper: 2.906032211193675\n",
      "Academic license - for non-commercial use only - expires 2022-07-20\n",
      "6.149171329715432\n",
      "Cut addedLower: 2.9423204539327297Upper: 1.8408987123197835\n",
      "Academic license - for non-commercial use only - expires 2022-07-20\n",
      "6.149171329715432\n",
      "Cut addedLower: 2.9423204539327297Upper: 1.8408987123197835\n",
      "Academic license - for non-commercial use only - expires 2022-07-20\n",
      "6.149171329715432\n",
      "Cut addedLower: 2.9423204539327297Upper: 1.8408987123197835\n",
      "Academic license - for non-commercial use only - expires 2022-07-20\n",
      "6.149171329715432\n",
      "Cut added"
     ]
    }
   ],
   "source": [
    "if true   \n",
    "    T, p = size(X)\n",
    "    Z = get_Z(X)\n",
    "    max_cuts = 5\n",
    "    cuts = 0\n",
    "    L_OA = -10000\n",
    "    U_OA = 10000\n",
    "    \n",
    "    # Create model\n",
    "    model = Model(() -> Gurobi.Optimizer(GRB_ENV))#Model(with_optimizer(Gurobi.Optimizer))\n",
    "    set_optimizer_attribute(model, \"OutputFlag\", 0)\n",
    "    \n",
    "    # Add variables\n",
    "    @variable(model, λ[i=1:2, j=1:T] >= 0) \n",
    "    @variable(model, ν[i=1:2, j=1:T-1, k=1:p]>=0) \n",
    "    @variable(model, μ[i=1:2, j=1:T, k=1:p]>=0)\n",
    "    \n",
    "    @variable(model, α) \n",
    "    @variable(model, γ)\n",
    "    @variable(model, y[j=1:T])\n",
    "\n",
    "    \n",
    "    @constraint(model,[t=1:T], λ[1,:] .+ λ[2,:] .== 1)\n",
    "        \n",
    "        \n",
    "    @constraint(model, transpose(λ[2,:])*Z-transpose(λ[1,:])*Z \n",
    "                        + sum(transpose(ν[1,t,:])*(get_A(X, t+1).-get_A(X, t)) for t=1:T-1)\n",
    "                        + sum(transpose(ν[2,t,:])*(-get_A(X, t+1).+get_A(X, t)) for t=1:T-1)\n",
    "                        + sum(transpose(μ[1,t,:])*get_A(X,t) for t=1:T)\n",
    "                        - sum(transpose(μ[2,t,:])*get_A(X,t) for t=1:T) .== 0)\n",
    "    \n",
    "    #y in uncertainty set\n",
    "    @constraint(model, [1:T], D_min .<= y)\n",
    "    @constraint(model, [1:T], y .<= D_max)\n",
    "    \n",
    "    y_val0 = (D_min .+ D_max)./2\n",
    "    L_OA, λ_val0, _, _ = S_dual(X, y_val0, β0, epsilon, delta)\n",
    "    @constraint(model, α <=   dot(λ_val0[1,:],y_val0) \n",
    "                            + dot(λ[1,:].-λ_val0[1,:], y_val0) \n",
    "                            + dot(y.-y_val0,λ_val0[1,:]))\n",
    "    \n",
    "    @constraint(model, - γ >=   dot(λ_val0[2,:],y_val0) \n",
    "                            + dot(λ[2,:].-λ_val0[2,:], y_val0) \n",
    "                            + dot(y.-y_val0,λ_val0[2,:]))\n",
    "    \n",
    "    # Add objective\n",
    "    @objective(model, Max, α + γ\n",
    "                            - delta * sum(sum(ν[1,t,i]+ν[2,t,i] for i=1:p) for t=1:T-1)\n",
    "                            - sum(dot(epsilon .+ β0, μ[1,t,:]) for t = 1:T)\n",
    "                            + sum(dot(epsilon .- β0, μ[2,t,:]) for t = 1:T))\n",
    "    \n",
    "    ###\n",
    "    # Step 3: Define the outer approximation function\n",
    "    ###\n",
    "    #m2 = copy(model)\n",
    "    optimize!(model)\n",
    "    while cuts < max_cuts\n",
    "        println(\"Lower: \", L_OA, \"Upper: \", U_OA)\n",
    "        cuts += 1\n",
    "        U_OA = objective_value(model)\n",
    "        y_val = getvalue.(y)\n",
    "        #new lowerbound\n",
    "        L_OA, λ_val, ν_val, μ_val = S_dual(X, y_val, β0, epsilon, delta)\n",
    "        println(getvalue.(α))        \n",
    "        if true#U_OA - L_OA > threshold\n",
    "            con_α = @constraint(model, α <= dot(λ_val[1,:],y_val) \n",
    "                                + dot(λ[1,:].-λ_val[1,:], y_val) \n",
    "                                + dot(y.-y_val,λ_val[1,:]))\n",
    "            con_γ = @constraint(model, γ >= dot(λ_val[2,:],y_val) \n",
    "                            + dot(λ[2,:].-λ_val[2,:], y_val) \n",
    "                            + dot(y.-y_val,λ_val[2,:]))\n",
    "            #MOI.submit(model, con_α)\n",
    "            #MOI.submit(model, con_γ)\n",
    "            #model.AddConstr(con_α)\n",
    "            optimize!(model)\n",
    "            print(\"Cut added\")\n",
    "        end\n",
    "    end    \n",
    "end"
   ]
  },
  {
   "cell_type": "code",
   "execution_count": 71,
   "id": "grateful-moscow",
   "metadata": {},
   "outputs": [
    {
     "data": {
      "text/plain": [
       "6-element Array{Float64,1}:\n",
       " 1.4095112245622\n",
       " 1.395134791009657\n",
       " 1.2809258382983861\n",
       " 0.4408212846874644\n",
       " 1.3979214012044536\n",
       " 0.3709347002682817"
      ]
     },
     "execution_count": 71,
     "metadata": {},
     "output_type": "execute_result"
    }
   ],
   "source": [
    "value.(model[:y])"
   ]
  },
  {
   "cell_type": "code",
   "execution_count": 160,
   "id": "valuable-commission",
   "metadata": {},
   "outputs": [
    {
     "name": "stdout",
     "output_type": "stream",
     "text": [
      "Academic license - for non-commercial use only - expires 2022-07-20\n",
      "Lower: 1.2905030686633057 Upper: 10000\n",
      "U_OA from solve 2.9217585540309985\n",
      "Academic license - for non-commercial use only - expires 2022-07-20\n",
      "Cut added\n",
      "Lower: 3.0258791576749458 Upper: 2.9217585540309985\n",
      "U_OA from solve 2.9217585540309985\n",
      "Academic license - for non-commercial use only - expires 2022-07-20\n",
      "Cut added\n",
      "Lower: 3.0258791576749458 Upper: 2.9217585540309985\n",
      "U_OA from solve 2.9217585540309985\n",
      "Academic license - for non-commercial use only - expires 2022-07-20\n",
      "Cut added\n",
      "Lower: 3.0258791576749458 Upper: 2.9217585540309985\n",
      "U_OA from solve 2.9217585540309985\n",
      "Academic license - for non-commercial use only - expires 2022-07-20\n",
      "Cut added\n",
      "Lower: 3.0258791576749458 Upper: 2.9217585540309985\n",
      "U_OA from solve 2.9217585540309985\n",
      "Academic license - for non-commercial use only - expires 2022-07-20\n",
      "Cut added\n"
     ]
    }
   ],
   "source": [
    "if true   \n",
    "    T, p = size(X)\n",
    "    Z = get_Z(X)\n",
    "    max_cuts = 5\n",
    "    cuts = 0\n",
    "    L_OA = -10000\n",
    "    U_OA = 10000\n",
    "    \n",
    "    # Create model\n",
    "    model = Model(() -> Gurobi.Optimizer(GRB_ENV))#Model(with_optimizer(Gurobi.Optimizer))\n",
    "    set_optimizer_attribute(model, \"OutputFlag\", 0)\n",
    "    \n",
    "    # Add variables\n",
    "    @variable(model, λ[i=1:2, j=1:T] >= 0) \n",
    "    @variable(model, ν[i=1:2, j=1:T-1, k=1:p]>=0) \n",
    "    @variable(model, μ[i=1:2, j=1:T, k=1:p]>=0)\n",
    "    \n",
    "    @variable(model, α) \n",
    "    #@variable(model, γ)\n",
    "    @variable(model, y[j=1:T])\n",
    "\n",
    "    \n",
    "    @constraint(model,[t=1:T], λ[1,:] .+ λ[2,:] .== 1)\n",
    "        \n",
    "        \n",
    "    @constraint(model, transpose(λ[2,:])*Z-transpose(λ[1,:])*Z \n",
    "                        + sum(transpose(ν[1,t,:])*(get_A(X, t+1).-get_A(X, t)) for t=1:T-1)\n",
    "                        + sum(transpose(ν[2,t,:])*(-get_A(X, t+1).+get_A(X, t)) for t=1:T-1)\n",
    "                        + sum(transpose(μ[1,t,:])*get_A(X,t) for t=1:T)\n",
    "                        - sum(transpose(μ[2,t,:])*get_A(X,t) for t=1:T) .== 0)\n",
    "\n",
    "    #y in uncertainty set\n",
    "    @constraint(model, [1:T], D_min .<= y)\n",
    "    @constraint(model, [1:T], y .<= D_max)\n",
    "    \n",
    "    y_val0 = (D_min .+ D_max)./2\n",
    "    L_OA, λ_val0, _, _ = S_dual(X, y_val0, β0, epsilon, delta)\n",
    "    @constraint(model, α <=   dot(λ_val0[1,:],y_val0) \n",
    "                            + dot(λ[1,:].-λ_val0[1,:], y_val0) \n",
    "                            + dot(y.-y_val0,λ_val0[1,:])\n",
    "                            - dot(λ_val0[2,:],y_val0) \n",
    "                            - dot(λ[2,:].-λ_val0[2,:], y_val0) \n",
    "                            - dot(y.-y_val0,λ_val0[2,:]))\n",
    "#     @constraint(model, γ >=   dot(λ_val0[2,:],y_val0) \n",
    "#                             + dot(λ[2,:].-λ_val0[2,:], y_val0) \n",
    "#                             + dot(y.-y_val0,λ_val0[2,:]))\n",
    "    \n",
    "    # Add objective\n",
    "    @objective(model, Max, α #- γ\n",
    "                            - delta * sum(sum(ν[1,t,i]+ν[2,t,i] for i=1:p) for t=1:T-1)\n",
    "                            - sum(dot(epsilon .+ β0, μ[1,t,:]) for t = 1:T)\n",
    "                            + sum(dot(epsilon .- β0, μ[2,t,:]) for t = 1:T))\n",
    "    \n",
    "    ###\n",
    "    # Step 3: Define the outer approximation function\n",
    "    ###\n",
    "    #m2 = copy(model)\n",
    "    #optimize!(model)\n",
    "    while cuts < max_cuts\n",
    "        println(\"Lower: \", L_OA, \" Upper: \", U_OA)\n",
    "        cuts += 1\n",
    "        y_val, U_OA = solve_model(model)\n",
    "\n",
    "        L_OA, λ_val, ν_val, μ_val = S_dual(X, y_val, β0, epsilon, delta)\n",
    "\n",
    "        if true#U_OA - L_OA > threshold\n",
    "            @constraint(model, α <= dot(λ_val[1,:],y_val) \n",
    "                                + dot(λ[1,:].-λ_val[1,:], y_val) \n",
    "                                + dot(y.-y_val,λ_val[1,:])\n",
    "                                - dot(λ_val[2,:],y_val) \n",
    "                                - dot(λ[2,:].-λ_val[2,:], y_val) \n",
    "                                - dot(y.-y_val,λ_val[2,:]))\n",
    "#             @constraint(model, γ >= dot(λ_val[2,:],y_val) \n",
    "#                             + dot(λ[2,:].-λ_val[2,:], y_val) \n",
    "#                             + dot(y.-y_val,λ_val[2,:]))\n",
    "            println(\"Cut added\")\n",
    "        end\n",
    "    end    \n",
    "end"
   ]
  },
  {
   "cell_type": "code",
   "execution_count": 125,
   "id": "breeding-grove",
   "metadata": {},
   "outputs": [
    {
     "name": "stdout",
     "output_type": "stream",
     "text": [
      "25.492387674355754\n"
     ]
    },
    {
     "data": {
      "text/plain": [
       "0.7306773571456898"
      ]
     },
     "execution_count": 125,
     "metadata": {},
     "output_type": "execute_result"
    }
   ],
   "source": [
    "println(getvalue.(α)) ; getvalue(γ)"
   ]
  },
  {
   "cell_type": "code",
   "execution_count": 164,
   "id": "capable-modern",
   "metadata": {},
   "outputs": [
    {
     "data": {
      "text/plain": [
       "8-element Array{Float64,1}:\n",
       " 0.5370083401843655\n",
       " 1.2222521761339815\n",
       " 1.339211649779766\n",
       " 0.9142199248949394\n",
       " 0.6387110336100499\n",
       " 0.813759189123922\n",
       " 0.0233854259379922\n",
       " 0.08103364164996285"
      ]
     },
     "execution_count": 164,
     "metadata": {},
     "output_type": "execute_result"
    }
   ],
   "source": [
    "y_val = getvalue.(y)"
   ]
  },
  {
   "cell_type": "code",
   "execution_count": 165,
   "id": "joined-membrane",
   "metadata": {},
   "outputs": [
    {
     "name": "stdout",
     "output_type": "stream",
     "text": [
      "Academic license - for non-commercial use only - expires 2022-07-20\n"
     ]
    },
    {
     "data": {
      "text/plain": [
       "(3.0258791576749458, [0.4439449525615276 1.0 … 0.0 0.0; 0.5560550474384724 0.0 … 1.0 1.0], [0.10704170581798711 0.0 … 0.0 0.0; 0.0 0.0 … 0.3461152048895899 0.20928184760755908]\n",
       "\n",
       "[0.09499670528033732 0.0 … 0.0 0.0; 0.0 0.0774763673396135 … 1.198173288998391 0.3498816501822435]\n",
       "\n",
       "[0.030590214594401297 0.0 … 0.0 0.0; 0.0 0.0 … 0.6745245750243316 0.5476464646076851]\n",
       "\n",
       "[0.024632607895257577 0.0 … 0.0 0.0; 0.0 0.0 … 0.02136431484675283 0.0], [0.0 0.6421681673183743 … 0.0 0.0; 0.0 0.0 … 0.0 0.0]\n",
       "\n",
       "[0.0 0.0 … 0.0 0.0; 0.0 0.0 … 0.0 0.0]\n",
       "\n",
       "[0.0 0.6640722345242436 … 0.0 0.0; 0.0 0.0 … 0.0 0.0]\n",
       "\n",
       "[0.0 0.2539117436462669 … 0.0 0.0; 0.0 0.0 … 0.0 0.5668058722576801])"
      ]
     },
     "execution_count": 165,
     "metadata": {},
     "output_type": "execute_result"
    }
   ],
   "source": [
    "L_OA, λ_val, ν_val, μ_val = S_dual(X, y_val, β0, epsilon, delta)"
   ]
  },
  {
   "cell_type": "code",
   "execution_count": 166,
   "id": "abandoned-fountain",
   "metadata": {},
   "outputs": [
    {
     "data": {
      "text/plain": [
       "3.0258791576749458"
      ]
     },
     "execution_count": 166,
     "metadata": {},
     "output_type": "execute_result"
    }
   ],
   "source": [
    "L_OA"
   ]
  },
  {
   "cell_type": "code",
   "execution_count": 84,
   "id": "pleasant-homework",
   "metadata": {},
   "outputs": [
    {
     "data": {
      "text/plain": [
       "solve_model (generic function with 1 method)"
      ]
     },
     "execution_count": 84,
     "metadata": {},
     "output_type": "execute_result"
    }
   ],
   "source": [
    "function solve_model(m)\n",
    "    optimize!(m)\n",
    "    U_OA = objective_value(m)\n",
    "    println(\"U_OA from solve \", U_OA)\n",
    "    return value.(m[:y]), U_OA\n",
    "end"
   ]
  },
  {
   "cell_type": "code",
   "execution_count": 153,
   "id": "worse-equation",
   "metadata": {},
   "outputs": [
    {
     "data": {
      "text/latex": [
       "$$ \\begin{alignat*}{1}\\max\\quad & α - 0.05 ν_{1,1,1} - 0.05 ν_{2,1,1} - 0.05 ν_{1,1,2} - 0.05 ν_{2,1,2} - 0.05 ν_{1,1,3} - 0.05 ν_{2,1,3} - 0.05 ν_{1,1,4} - 0.05 ν_{2,1,4} - 0.05 ν_{1,2,1} - 0.05 ν_{2,2,1} - 0.05 ν_{1,2,2} - 0.05 ν_{2,2,2} - 0.05 ν_{1,2,3} - 0.05 ν_{2,2,3} - 0.05 ν_{1,2,4} - 0.05 ν_{2,2,4} - 0.05 ν_{1,3,1} - 0.05 ν_{2,3,1} - 0.05 ν_{1,3,2} - 0.05 ν_{2,3,2} - 0.05 ν_{1,3,3} - 0.05 ν_{2,3,3} - 0.05 ν_{1,3,4} - 0.05 ν_{2,3,4} - 0.05 ν_{1,4,1} - 0.05 ν_{2,4,1} - 0.05 ν_{1,4,2} - 0.05 ν_{2,4,2} - 0.05 ν_{1,4,3} - 0.05 ν_{2,4,3} - 0.05 ν_{1,4,4} - 0.05 ν_{2,4,4} - 0.05 ν_{1,5,1} - 0.05 ν_{2,5,1} - 0.05 ν_{1,5,2} - 0.05 ν_{2,5,2} - 0.05 ν_{1,5,3} - 0.05 ν_{2,5,3} - 0.05 ν_{1,5,4} - 0.05 ν_{2,5,4} - 0.05 ν_{1,6,1} - 0.05 ν_{2,6,1} - 0.05 ν_{1,6,2} - 0.05 ν_{2,6,2} - 0.05 ν_{1,6,3} - 0.05 ν_{2,6,3} - 0.05 ν_{1,6,4} - 0.05 ν_{2,6,4} - 0.05 ν_{1,7,1} - 0.05 ν_{2,7,1} - 0.05 ν_{1,7,2} - 0.05 ν_{2,7,2} - 0.05 ν_{1,7,3} - 0.05 ν_{2,7,3} - 0.05 ν_{1,7,4} - 0.05 ν_{2,7,4} - 0.2480978602957939 μ_{1,1,1} - 1.0180354622337293 μ_{1,1,2} - 0.265656738187479 μ_{1,1,3} - 0.08651922716620737 μ_{1,1,4} - 0.2480978602957939 μ_{1,2,1} - 1.0180354622337293 μ_{1,2,2} - 0.265656738187479 μ_{1,2,3} - 0.08651922716620737 μ_{1,2,4} - 0.2480978602957939 μ_{1,3,1} - 1.0180354622337293 μ_{1,3,2} - 0.265656738187479 μ_{1,3,3} - 0.08651922716620737 μ_{1,3,4} - 0.2480978602957939 μ_{1,4,1} - 1.0180354622337293 μ_{1,4,2} - 0.265656738187479 μ_{1,4,3} - 0.08651922716620737 μ_{1,4,4} - 0.2480978602957939 μ_{1,5,1} - 1.0180354622337293 μ_{1,5,2} - 0.265656738187479 μ_{1,5,3} - 0.08651922716620737 μ_{1,5,4} - 0.2480978602957939 μ_{1,6,1} - 1.0180354622337293 μ_{1,6,2} - 0.265656738187479 μ_{1,6,3} - 0.08651922716620737 μ_{1,6,4} - 0.2480978602957939 μ_{1,7,1} - 1.0180354622337293 μ_{1,7,2} - 0.265656738187479 μ_{1,7,3} - 0.08651922716620737 μ_{1,7,4} - 0.2480978602957939 μ_{1,8,1} - 1.0180354622337293 μ_{1,8,2} - 0.265656738187479 μ_{1,8,3} - 0.08651922716620737 μ_{1,8,4} - 0.14809786029579391 μ_{2,1,1} - 0.9180354622337292 μ_{2,1,2} - 0.165656738187479 μ_{2,1,3} + 0.013480772833792634 μ_{2,1,4} - 0.14809786029579391 μ_{2,2,1} - 0.9180354622337292 μ_{2,2,2} - 0.165656738187479 μ_{2,2,3} + 0.013480772833792634 μ_{2,2,4} - 0.14809786029579391 μ_{2,3,1} - 0.9180354622337292 μ_{2,3,2} - 0.165656738187479 μ_{2,3,3} + 0.013480772833792634 μ_{2,3,4} - 0.14809786029579391 μ_{2,4,1} - 0.9180354622337292 μ_{2,4,2} - 0.165656738187479 μ_{2,4,3} + 0.013480772833792634 μ_{2,4,4} - 0.14809786029579391 μ_{2,5,1} - 0.9180354622337292 μ_{2,5,2} - 0.165656738187479 μ_{2,5,3} + 0.013480772833792634 μ_{2,5,4} - 0.14809786029579391 μ_{2,6,1} - 0.9180354622337292 μ_{2,6,2} - 0.165656738187479 μ_{2,6,3} + 0.013480772833792634 μ_{2,6,4} - 0.14809786029579391 μ_{2,7,1} - 0.9180354622337292 μ_{2,7,2} - 0.165656738187479 μ_{2,7,3} + 0.013480772833792634 μ_{2,7,4} - 0.14809786029579391 μ_{2,8,1} - 0.9180354622337292 μ_{2,8,2} - 0.165656738187479 μ_{2,8,3} + 0.013480772833792634 μ_{2,8,4}\\\\\n",
       "\\text{Subject to} \\quad & λ_{1,1} + λ_{2,1} = 1.0\\\\\n",
       " & λ_{1,2} + λ_{2,2} = 1.0\\\\\n",
       " & λ_{1,3} + λ_{2,3} = 1.0\\\\\n",
       " & λ_{1,4} + λ_{2,4} = 1.0\\\\\n",
       " & λ_{1,5} + λ_{2,5} = 1.0\\\\\n",
       " & λ_{1,6} + λ_{2,6} = 1.0\\\\\n",
       " & λ_{1,7} + λ_{2,7} = 1.0\\\\\n",
       " & λ_{1,8} + λ_{2,8} = 1.0\\\\\n",
       " & λ_{1,1} + λ_{2,1} = 1.0\\\\\n",
       " & λ_{1,2} + λ_{2,2} = 1.0\\\\\n",
       " & λ_{1,3} + λ_{2,3} = 1.0\\\\\n",
       " & λ_{1,4} + λ_{2,4} = 1.0\\\\\n",
       " & λ_{1,5} + λ_{2,5} = 1.0\\\\\n",
       " & λ_{1,6} + λ_{2,6} = 1.0\\\\\n",
       " & λ_{1,7} + λ_{2,7} = 1.0\\\\\n",
       " & λ_{1,8} + λ_{2,8} = 1.0\\\\\n",
       " & λ_{1,1} + λ_{2,1} = 1.0\\\\\n",
       " & λ_{1,2} + λ_{2,2} = 1.0\\\\\n",
       " & λ_{1,3} + λ_{2,3} = 1.0\\\\\n",
       " & λ_{1,4} + λ_{2,4} = 1.0\\\\\n",
       " & λ_{1,5} + λ_{2,5} = 1.0\\\\\n",
       " & λ_{1,6} + λ_{2,6} = 1.0\\\\\n",
       " & λ_{1,7} + λ_{2,7} = 1.0\\\\\n",
       " & λ_{1,8} + λ_{2,8} = 1.0\\\\\n",
       " & λ_{1,1} + λ_{2,1} = 1.0\\\\\n",
       " & λ_{1,2} + λ_{2,2} = 1.0\\\\\n",
       " & λ_{1,3} + λ_{2,3} = 1.0\\\\\n",
       " & λ_{1,4} + λ_{2,4} = 1.0\\\\\n",
       " & λ_{1,5} + λ_{2,5} = 1.0\\\\\n",
       " & λ_{1,6} + λ_{2,6} = 1.0\\\\\n",
       " & λ_{1,7} + λ_{2,7} = 1.0\\\\\n",
       " & λ_{1,8} + λ_{2,8} = 1.0\\\\\n",
       " & λ_{1,1} + λ_{2,1} = 1.0\\\\\n",
       " & λ_{1,2} + λ_{2,2} = 1.0\\\\\n",
       " & λ_{1,3} + λ_{2,3} = 1.0\\\\\n",
       " & λ_{1,4} + λ_{2,4} = 1.0\\\\\n",
       " & λ_{1,5} + λ_{2,5} = 1.0\\\\\n",
       " & λ_{1,6} + λ_{2,6} = 1.0\\\\\n",
       " & λ_{1,7} + λ_{2,7} = 1.0\\\\\n",
       " & λ_{1,8} + λ_{2,8} = 1.0\\\\\n",
       " & λ_{1,1} + λ_{2,1} = 1.0\\\\\n",
       " & λ_{1,2} + λ_{2,2} = 1.0\\\\\n",
       " & λ_{1,3} + λ_{2,3} = 1.0\\\\\n",
       " & λ_{1,4} + λ_{2,4} = 1.0\\\\\n",
       " & λ_{1,5} + λ_{2,5} = 1.0\\\\\n",
       " & λ_{1,6} + λ_{2,6} = 1.0\\\\\n",
       " & λ_{1,7} + λ_{2,7} = 1.0\\\\\n",
       " & λ_{1,8} + λ_{2,8} = 1.0\\\\\n",
       " & λ_{1,1} + λ_{2,1} = 1.0\\\\\n",
       " & λ_{1,2} + λ_{2,2} = 1.0\\\\\n",
       " & λ_{1,3} + λ_{2,3} = 1.0\\\\\n",
       " & λ_{1,4} + λ_{2,4} = 1.0\\\\\n",
       " & λ_{1,5} + λ_{2,5} = 1.0\\\\\n",
       " & λ_{1,6} + λ_{2,6} = 1.0\\\\\n",
       " & λ_{1,7} + λ_{2,7} = 1.0\\\\\n",
       " & λ_{1,8} + λ_{2,8} = 1.0\\\\\n",
       " & λ_{1,1} + λ_{2,1} = 1.0\\\\\n",
       " & λ_{1,2} + λ_{2,2} = 1.0\\\\\n",
       " & λ_{1,3} + λ_{2,3} = 1.0\\\\\n",
       " & λ_{1,4} + λ_{2,4} = 1.0\\\\\n",
       " & λ_{1,5} + λ_{2,5} = 1.0\\\\\n",
       " & λ_{1,6} + λ_{2,6} = 1.0\\\\\n",
       " & λ_{1,7} + λ_{2,7} = 1.0\\\\\n",
       " & λ_{1,8} + λ_{2,8} = 1.0\\\\\n",
       " & -0.9547909662861231 λ_{1,1} + 0.9547909662861231 λ_{2,1} - ν_{1,1,1} + ν_{2,1,1} + μ_{1,1,1} - μ_{2,1,1} = 0.0\\\\\n",
       " & -0.8473519301237624 λ_{1,1} + 0.8473519301237624 λ_{2,1} - ν_{1,1,2} + ν_{2,1,2} + μ_{1,1,2} - μ_{2,1,2} = 0.0\\\\\n",
       " & -0.27285869865669077 λ_{1,1} + 0.27285869865669077 λ_{2,1} - ν_{1,1,3} + ν_{2,1,3} + μ_{1,1,3} - μ_{2,1,3} = 0.0\\\\\n",
       " & -0.2197180184558314 λ_{1,1} + 0.2197180184558314 λ_{2,1} - ν_{1,1,4} + ν_{2,1,4} + μ_{1,1,4} - μ_{2,1,4} = 0.0\\\\\n",
       " & -0.7492098731363614 λ_{1,2} + 0.7492098731363614 λ_{2,2} + ν_{1,1,1} - ν_{2,1,1} - ν_{1,2,1} + ν_{2,2,1} + μ_{1,2,1} - μ_{2,2,1} = 0.0\\\\\n",
       " & -0.17247307261995082 λ_{1,2} + 0.17247307261995082 λ_{2,2} + ν_{1,1,2} - ν_{2,1,2} - ν_{1,2,2} + ν_{2,2,2} + μ_{1,2,2} - μ_{2,2,2} = 0.0\\\\\n",
       " & -0.6946624491186448 λ_{1,2} + 0.6946624491186448 λ_{2,2} + ν_{1,1,3} - ν_{2,1,3} - ν_{1,2,3} + ν_{2,2,3} + μ_{1,2,3} - μ_{2,2,3} = 0.0\\\\\n",
       " & -0.27854435154152446 λ_{1,2} + 0.27854435154152446 λ_{2,2} + ν_{1,1,4} - ν_{2,1,4} - ν_{1,2,4} + ν_{2,2,4} + μ_{1,2,4} - μ_{2,2,4} = 0.0\\\\\n",
       " & -0.8543462708084071 λ_{1,3} + 0.8543462708084071 λ_{2,3} + ν_{1,2,1} - ν_{2,2,1} - ν_{1,3,1} + ν_{2,3,1} + μ_{1,3,1} - μ_{2,3,1} = 0.0\\\\\n",
       " & -0.7033458600299587 λ_{1,3} + 0.7033458600299587 λ_{2,3} + ν_{1,2,2} - ν_{2,2,2} - ν_{1,3,2} + ν_{2,3,2} + μ_{1,3,2} - μ_{2,3,2} = 0.0\\\\\n",
       " & -0.4110721457953086 λ_{1,3} + 0.4110721457953086 λ_{2,3} + ν_{1,2,3} - ν_{2,2,3} - ν_{1,3,3} + ν_{2,3,3} + μ_{1,3,3} - μ_{2,3,3} = 0.0\\\\\n",
       " & -0.36006676457998243 λ_{1,3} + 0.36006676457998243 λ_{2,3} + ν_{1,2,4} - ν_{2,2,4} - ν_{1,3,4} + ν_{2,3,4} + μ_{1,3,4} - μ_{2,3,4} = 0.0\\\\\n",
       " & -0.16254077470464634 λ_{1,4} + 0.16254077470464634 λ_{2,4} + ν_{1,3,1} - ν_{2,3,1} - ν_{1,4,1} + ν_{2,4,1} + μ_{1,4,1} - μ_{2,4,1} = 0.0\\\\\n",
       " & -0.1910692056510115 λ_{1,4} + 0.1910692056510115 λ_{2,4} + ν_{1,3,2} - ν_{2,3,2} - ν_{1,4,2} + ν_{2,4,2} + μ_{1,4,2} - μ_{2,4,2} = 0.0\\\\\n",
       " & -0.7889372719778045 λ_{1,4} + 0.7889372719778045 λ_{2,4} + ν_{1,3,3} - ν_{2,3,3} - ν_{1,4,3} + ν_{2,4,3} + μ_{1,4,3} - μ_{2,4,3} = 0.0\\\\\n",
       " & -0.13582913279743414 λ_{1,4} + 0.13582913279743414 λ_{2,4} + ν_{1,3,4} - ν_{2,3,4} - ν_{1,4,4} + ν_{2,4,4} + μ_{1,4,4} - μ_{2,4,4} = 0.0\\\\\n",
       " & -0.21101189138275434 λ_{1,5} + 0.21101189138275434 λ_{2,5} + ν_{1,4,1} - ν_{2,4,1} - ν_{1,5,1} + ν_{2,5,1} + μ_{1,5,1} - μ_{2,5,1} = 0.0\\\\\n",
       " & -0.038074802449233 λ_{1,5} + 0.038074802449233 λ_{2,5} + ν_{1,4,2} - ν_{2,4,2} - ν_{1,5,2} + ν_{2,5,2} + μ_{1,5,2} - μ_{2,5,2} = 0.0\\\\\n",
       " & -0.6783648412178604 λ_{1,5} + 0.6783648412178604 λ_{2,5} + ν_{1,4,3} - ν_{2,4,3} - ν_{1,5,3} + ν_{2,5,3} + μ_{1,5,3} - μ_{2,5,3} = 0.0\\\\\n",
       " & -0.40906030404434146 λ_{1,5} + 0.40906030404434146 λ_{2,5} + ν_{1,4,4} - ν_{2,4,4} - ν_{1,5,4} + ν_{2,5,4} + μ_{1,5,4} - μ_{2,5,4} = 0.0\\\\\n",
       " & -0.763478050143015 λ_{1,6} + 0.763478050143015 λ_{2,6} + ν_{1,5,1} - ν_{2,5,1} - ν_{1,6,1} + ν_{2,6,1} + μ_{1,6,1} - μ_{2,6,1} = 0.0\\\\\n",
       " & -0.18820705352857425 λ_{1,6} + 0.18820705352857425 λ_{2,6} + ν_{1,5,2} - ν_{2,5,2} - ν_{1,6,2} + ν_{2,6,2} + μ_{1,6,2} - μ_{2,6,2} = 0.0\\\\\n",
       " & -0.9343691413617443 λ_{1,6} + 0.9343691413617443 λ_{2,6} + ν_{1,5,3} - ν_{2,5,3} - ν_{1,6,3} + ν_{2,6,3} + μ_{1,6,3} - μ_{2,6,3} = 0.0\\\\\n",
       " & -0.14681728383707204 λ_{1,6} + 0.14681728383707204 λ_{2,6} + ν_{1,5,4} - ν_{2,5,4} - ν_{1,6,4} + ν_{2,6,4} + μ_{1,6,4} - μ_{2,6,4} = 0.0\\\\\n",
       " & -0.13683335728203083 λ_{1,7} + 0.13683335728203083 λ_{2,7} + ν_{1,6,1} - ν_{2,6,1} - ν_{1,7,1} + ν_{2,7,1} + μ_{1,7,1} - μ_{2,7,1} = 0.0\\\\\n",
       " & -0.8482916388161474 λ_{1,7} + 0.8482916388161474 λ_{2,7} + ν_{1,6,2} - ν_{2,6,2} - ν_{1,7,2} + ν_{2,7,2} + μ_{1,7,2} - μ_{2,7,2} = 0.0\\\\\n",
       " & -0.12687811041664654 λ_{1,7} + 0.12687811041664654 λ_{2,7} + ν_{1,6,3} - ν_{2,6,3} - ν_{1,7,3} + ν_{2,7,3} + μ_{1,7,3} - μ_{2,7,3} = 0.0\\\\\n",
       " & -0.02136431484675283 λ_{1,7} + 0.02136431484675283 λ_{2,7} + ν_{1,6,4} - ν_{2,6,4} - ν_{1,7,4} + ν_{2,7,4} + μ_{1,7,4} - μ_{2,7,4} = 0.0\\\\\n",
       " & -0.20928184760755908 λ_{1,8} + 0.20928184760755908 λ_{2,8} + ν_{1,7,1} - ν_{2,7,1} + μ_{1,8,1} - μ_{2,8,1} = 0.0\\\\\n",
       " & -0.3498816501822435 λ_{1,8} + 0.3498816501822435 λ_{2,8} + ν_{1,7,2} - ν_{2,7,2} + μ_{1,8,2} - μ_{2,8,2} = 0.0\\\\\n",
       " & -0.5476464646076851 λ_{1,8} + 0.5476464646076851 λ_{2,8} + ν_{1,7,3} - ν_{2,7,3} + μ_{1,8,3} - μ_{2,8,3} = 0.0\\\\\n",
       " & -0.5668058722576801 λ_{1,8} + 0.5668058722576801 λ_{2,8} + ν_{1,7,4} - ν_{2,7,4} + μ_{1,8,4} - μ_{2,8,4} = 0.0\\\\\n",
       " & -y_{1} \\leq -0.5370083401843655\\\\\n",
       " & -y_{2} \\leq -0.7222521761339815\\\\\n",
       " & -y_{3} \\leq -0.8392116497797659\\\\\n",
       " & -y_{4} \\leq -0.4142199248949394\\\\\n",
       " & -y_{5} \\leq -0.13871103361004988\\\\\n",
       " & -y_{6} \\leq -0.313759189123922\\\\\n",
       " & -y_{7} \\leq -0.0233854259379922\\\\\n",
       " & -y_{8} \\leq -0.08103364164996285\\\\\n",
       " & -y_{1} \\leq -0.5370083401843655\\\\\n",
       " & -y_{2} \\leq -0.7222521761339815\\\\\n",
       " & -y_{3} \\leq -0.8392116497797659\\\\\n",
       " & -y_{4} \\leq -0.4142199248949394\\\\\n",
       " & -y_{5} \\leq -0.13871103361004988\\\\\n",
       " & -y_{6} \\leq -0.313759189123922\\\\\n",
       " & -y_{7} \\leq -0.0233854259379922\\\\\n",
       " & -y_{8} \\leq -0.08103364164996285\\\\\n",
       " & -y_{1} \\leq -0.5370083401843655\\\\\n",
       " & -y_{2} \\leq -0.7222521761339815\\\\\n",
       " & -y_{3} \\leq -0.8392116497797659\\\\\n",
       " & -y_{4} \\leq -0.4142199248949394\\\\\n",
       " & -y_{5} \\leq -0.13871103361004988\\\\\n",
       " & -y_{6} \\leq -0.313759189123922\\\\\n",
       " & -y_{7} \\leq -0.0233854259379922\\\\\n",
       " & -y_{8} \\leq -0.08103364164996285\\\\\n",
       " & -y_{1} \\leq -0.5370083401843655\\\\\n",
       " & -y_{2} \\leq -0.7222521761339815\\\\\n",
       " & -y_{3} \\leq -0.8392116497797659\\\\\n",
       " & -y_{4} \\leq -0.4142199248949394\\\\\n",
       " & -y_{5} \\leq -0.13871103361004988\\\\\n",
       " & -y_{6} \\leq -0.313759189123922\\\\\n",
       " & -y_{7} \\leq -0.0233854259379922\\\\\n",
       " & -y_{8} \\leq -0.08103364164996285\\\\\n",
       " & -y_{1} \\leq -0.5370083401843655\\\\\n",
       " & -y_{2} \\leq -0.7222521761339815\\\\\n",
       " & -y_{3} \\leq -0.8392116497797659\\\\\n",
       " & -y_{4} \\leq -0.4142199248949394\\\\\n",
       " & -y_{5} \\leq -0.13871103361004988\\\\\n",
       " & -y_{6} \\leq -0.313759189123922\\\\\n",
       " & -y_{7} \\leq -0.0233854259379922\\\\\n",
       " & -y_{8} \\leq -0.08103364164996285\\\\\n",
       " & -y_{1} \\leq -0.5370083401843655\\\\\n",
       " & -y_{2} \\leq -0.7222521761339815\\\\\n",
       " & -y_{3} \\leq -0.8392116497797659\\\\\n",
       " & -y_{4} \\leq -0.4142199248949394\\\\\n",
       " & -y_{5} \\leq -0.13871103361004988\\\\\n",
       " & -y_{6} \\leq -0.313759189123922\\\\\n",
       " & -y_{7} \\leq -0.0233854259379922\\\\\n",
       " & -y_{8} \\leq -0.08103364164996285\\\\\n",
       " & -y_{1} \\leq -0.5370083401843655\\\\\n",
       " & -y_{2} \\leq -0.7222521761339815\\\\\n",
       " & -y_{3} \\leq -0.8392116497797659\\\\\n",
       " & -y_{4} \\leq -0.4142199248949394\\\\\n",
       " & -y_{5} \\leq -0.13871103361004988\\\\\n",
       " & -y_{6} \\leq -0.313759189123922\\\\\n",
       " & -y_{7} \\leq -0.0233854259379922\\\\\n",
       " & -y_{8} \\leq -0.08103364164996285\\\\\n",
       " & -y_{1} \\leq -0.5370083401843655\\\\\n",
       " & -y_{2} \\leq -0.7222521761339815\\\\\n",
       " & -y_{3} \\leq -0.8392116497797659\\\\\n",
       " & -y_{4} \\leq -0.4142199248949394\\\\\n",
       " & -y_{5} \\leq -0.13871103361004988\\\\\n",
       " & -y_{6} \\leq -0.313759189123922\\\\\n",
       " & -y_{7} \\leq -0.0233854259379922\\\\\n",
       " & -y_{8} \\leq -0.08103364164996285\\\\\n",
       " & y_{1} \\leq 1.0370083401843655\\\\\n",
       " & y_{2} \\leq 1.2222521761339815\\\\\n",
       " & y_{3} \\leq 1.339211649779766\\\\\n",
       " & y_{4} \\leq 0.9142199248949394\\\\\n",
       " & y_{5} \\leq 0.6387110336100499\\\\\n",
       " & y_{6} \\leq 0.813759189123922\\\\\n",
       " & y_{7} \\leq 0.5233854259379922\\\\\n",
       " & y_{8} \\leq 0.5810336416499629\\\\\n",
       " & y_{1} \\leq 1.0370083401843655\\\\\n",
       " & y_{2} \\leq 1.2222521761339815\\\\\n",
       " & y_{3} \\leq 1.339211649779766\\\\\n",
       " & y_{4} \\leq 0.9142199248949394\\\\\n",
       " & y_{5} \\leq 0.6387110336100499\\\\\n",
       " & y_{6} \\leq 0.813759189123922\\\\\n",
       " & y_{7} \\leq 0.5233854259379922\\\\\n",
       " & y_{8} \\leq 0.5810336416499629\\\\\n",
       " & y_{1} \\leq 1.0370083401843655\\\\\n",
       " & y_{2} \\leq 1.2222521761339815\\\\\n",
       " & y_{3} \\leq 1.339211649779766\\\\\n",
       " & y_{4} \\leq 0.9142199248949394\\\\\n",
       " & y_{5} \\leq 0.6387110336100499\\\\\n",
       " & y_{6} \\leq 0.813759189123922\\\\\n",
       " & y_{7} \\leq 0.5233854259379922\\\\\n",
       " & y_{8} \\leq 0.5810336416499629\\\\\n",
       " & y_{1} \\leq 1.0370083401843655\\\\\n",
       " & y_{2} \\leq 1.2222521761339815\\\\\n",
       " & y_{3} \\leq 1.339211649779766\\\\\n",
       " & y_{4} \\leq 0.9142199248949394\\\\\n",
       " & y_{5} \\leq 0.6387110336100499\\\\\n",
       " & y_{6} \\leq 0.813759189123922\\\\\n",
       " & y_{7} \\leq 0.5233854259379922\\\\\n",
       " & y_{8} \\leq 0.5810336416499629\\\\\n",
       " & y_{1} \\leq 1.0370083401843655\\\\\n",
       " & y_{2} \\leq 1.2222521761339815\\\\\n",
       " & y_{3} \\leq 1.339211649779766\\\\\n",
       " & y_{4} \\leq 0.9142199248949394\\\\\n",
       " & y_{5} \\leq 0.6387110336100499\\\\\n",
       " & y_{6} \\leq 0.813759189123922\\\\\n",
       " & y_{7} \\leq 0.5233854259379922\\\\\n",
       " & y_{8} \\leq 0.5810336416499629\\\\\n",
       " & y_{1} \\leq 1.0370083401843655\\\\\n",
       " & y_{2} \\leq 1.2222521761339815\\\\\n",
       " & y_{3} \\leq 1.339211649779766\\\\\n",
       " & y_{4} \\leq 0.9142199248949394\\\\\n",
       " & y_{5} \\leq 0.6387110336100499\\\\\n",
       " & y_{6} \\leq 0.813759189123922\\\\\n",
       " & y_{7} \\leq 0.5233854259379922\\\\\n",
       " & y_{8} \\leq 0.5810336416499629\\\\\n",
       " & y_{1} \\leq 1.0370083401843655\\\\\n",
       " & y_{2} \\leq 1.2222521761339815\\\\\n",
       " & y_{3} \\leq 1.339211649779766\\\\\n",
       " & y_{4} \\leq 0.9142199248949394\\\\\n",
       " & y_{5} \\leq 0.6387110336100499\\\\\n",
       " & y_{6} \\leq 0.813759189123922\\\\\n",
       " & y_{7} \\leq 0.5233854259379922\\\\\n",
       " & y_{8} \\leq 0.5810336416499629\\\\\n",
       " & y_{1} \\leq 1.0370083401843655\\\\\n",
       " & y_{2} \\leq 1.2222521761339815\\\\\n",
       " & y_{3} \\leq 1.339211649779766\\\\\n",
       " & y_{4} \\leq 0.9142199248949394\\\\\n",
       " & y_{5} \\leq 0.6387110336100499\\\\\n",
       " & y_{6} \\leq 0.813759189123922\\\\\n",
       " & y_{7} \\leq 0.5233854259379922\\\\\n",
       " & y_{8} \\leq 0.5810336416499629\\\\\n",
       " & -0.7870083401843655 λ_{1,1} + 0.7870083401843655 λ_{2,1} - 0.9722521761339815 λ_{1,2} + 0.9722521761339815 λ_{2,2} - 1.089211649779766 λ_{1,3} + 1.089211649779766 λ_{2,3} - 0.6642199248949394 λ_{1,4} + 0.6642199248949394 λ_{2,4} - 0.3887110336100499 λ_{1,5} + 0.3887110336100499 λ_{2,5} - 0.563759189123922 λ_{1,6} + 0.563759189123922 λ_{2,6} - 0.2733854259379922 λ_{1,7} + 0.2733854259379922 λ_{2,7} - 0.33103364164996285 λ_{1,8} + 0.33103364164996285 λ_{2,8} + α + 0.5250219414707686 y_{1} - y_{2} - y_{3} - y_{4} - y_{5} - y_{6} + y_{7} \\leq -2.9915719008873833\\\\\n",
       " & -0.5370083401843655 λ_{1,1} + 0.5370083401843655 λ_{2,1} - 1.2222521761339815 λ_{1,2} + 1.2222521761339815 λ_{2,2} - 1.339211649779766 λ_{1,3} + 1.339211649779766 λ_{2,3} - 0.9142199248949394 λ_{1,4} + 0.9142199248949394 λ_{2,4} - 0.6387110336100499 λ_{1,5} + 0.6387110336100499 λ_{2,5} - 0.813759189123922 λ_{1,6} + 0.813759189123922 λ_{2,6} - 0.0233854259379922 λ_{1,7} + 0.0233854259379922 λ_{2,7} - 0.08103364164996285 λ_{1,8} + 0.08103364164996285 λ_{2,8} + α + 0.11211009487694484 y_{1} - y_{2} - y_{3} - y_{4} - y_{5} - y_{6} + y_{7} + y_{8} \\leq -4.763530849986924\\\\\n",
       " & -0.5370083401843655 λ_{1,1} + 0.5370083401843655 λ_{2,1} - 1.2222521761339815 λ_{1,2} + 1.2222521761339815 λ_{2,2} - 1.339211649779766 λ_{1,3} + 1.339211649779766 λ_{2,3} - 0.9142199248949394 λ_{1,4} + 0.9142199248949394 λ_{2,4} - 0.6387110336100499 λ_{1,5} + 0.6387110336100499 λ_{2,5} - 0.813759189123922 λ_{1,6} + 0.813759189123922 λ_{2,6} - 0.0233854259379922 λ_{1,7} + 0.0233854259379922 λ_{2,7} - 0.08103364164996285 λ_{1,8} + 0.08103364164996285 λ_{2,8} + α + 0.11211009487694484 y_{1} - y_{2} - y_{3} - y_{4} - y_{5} - y_{6} + y_{7} + y_{8} \\leq -4.763530849986924\\\\\n",
       " & -0.5370083401843655 λ_{1,1} + 0.5370083401843655 λ_{2,1} - 1.2222521761339815 λ_{1,2} + 1.2222521761339815 λ_{2,2} - 1.339211649779766 λ_{1,3} + 1.339211649779766 λ_{2,3} - 0.9142199248949394 λ_{1,4} + 0.9142199248949394 λ_{2,4} - 0.6387110336100499 λ_{1,5} + 0.6387110336100499 λ_{2,5} - 0.813759189123922 λ_{1,6} + 0.813759189123922 λ_{2,6} - 0.0233854259379922 λ_{1,7} + 0.0233854259379922 λ_{2,7} - 0.08103364164996285 λ_{1,8} + 0.08103364164996285 λ_{2,8} + α + 0.11211009487694484 y_{1} - y_{2} - y_{3} - y_{4} - y_{5} - y_{6} + y_{7} + y_{8} \\leq -4.763530849986924\\\\\n",
       " & -0.5370083401843655 λ_{1,1} + 0.5370083401843655 λ_{2,1} - 1.2222521761339815 λ_{1,2} + 1.2222521761339815 λ_{2,2} - 1.339211649779766 λ_{1,3} + 1.339211649779766 λ_{2,3} - 0.9142199248949394 λ_{1,4} + 0.9142199248949394 λ_{2,4} - 0.6387110336100499 λ_{1,5} + 0.6387110336100499 λ_{2,5} - 0.813759189123922 λ_{1,6} + 0.813759189123922 λ_{2,6} - 0.0233854259379922 λ_{1,7} + 0.0233854259379922 λ_{2,7} - 0.08103364164996285 λ_{1,8} + 0.08103364164996285 λ_{2,8} + α + 0.11211009487694484 y_{1} - y_{2} - y_{3} - y_{4} - y_{5} - y_{6} + y_{7} + y_{8} \\leq -4.763530849986924\\\\\n",
       " & -0.5370083401843655 λ_{1,1} + 0.5370083401843655 λ_{2,1} - 1.2222521761339815 λ_{1,2} + 1.2222521761339815 λ_{2,2} - 1.339211649779766 λ_{1,3} + 1.339211649779766 λ_{2,3} - 0.9142199248949394 λ_{1,4} + 0.9142199248949394 λ_{2,4} - 0.6387110336100499 λ_{1,5} + 0.6387110336100499 λ_{2,5} - 0.813759189123922 λ_{1,6} + 0.813759189123922 λ_{2,6} - 0.0233854259379922 λ_{1,7} + 0.0233854259379922 λ_{2,7} - 0.08103364164996285 λ_{1,8} + 0.08103364164996285 λ_{2,8} + α + 0.11211009487694484 y_{1} - y_{2} - y_{3} - y_{4} - y_{5} - y_{6} + y_{7} + y_{8} \\leq -4.763530849986924\\\\\n",
       " & λ_{1,1} \\geq 0.0\\\\\n",
       " & λ_{2,1} \\geq 0.0\\\\\n",
       " & λ_{1,2} \\geq 0.0\\\\\n",
       " & λ_{2,2} \\geq 0.0\\\\\n",
       " & λ_{1,3} \\geq 0.0\\\\\n",
       " & λ_{2,3} \\geq 0.0\\\\\n",
       " & λ_{1,4} \\geq 0.0\\\\\n",
       " & λ_{2,4} \\geq 0.0\\\\\n",
       " & λ_{1,5} \\geq 0.0\\\\\n",
       " & λ_{2,5} \\geq 0.0\\\\\n",
       " & λ_{1,6} \\geq 0.0\\\\\n",
       " & λ_{2,6} \\geq 0.0\\\\\n",
       " & λ_{1,7} \\geq 0.0\\\\\n",
       " & λ_{2,7} \\geq 0.0\\\\\n",
       " & λ_{1,8} \\geq 0.0\\\\\n",
       " & λ_{2,8} \\geq 0.0\\\\\n",
       " & ν_{1,1,1} \\geq 0.0\\\\\n",
       " & ν_{2,1,1} \\geq 0.0\\\\\n",
       " & ν_{1,2,1} \\geq 0.0\\\\\n",
       " & ν_{2,2,1} \\geq 0.0\\\\\n",
       " & ν_{1,3,1} \\geq 0.0\\\\\n",
       " & ν_{2,3,1} \\geq 0.0\\\\\n",
       " & ν_{1,4,1} \\geq 0.0\\\\\n",
       " & ν_{2,4,1} \\geq 0.0\\\\\n",
       " & ν_{1,5,1} \\geq 0.0\\\\\n",
       " & ν_{2,5,1} \\geq 0.0\\\\\n",
       " & ν_{1,6,1} \\geq 0.0\\\\\n",
       " & ν_{2,6,1} \\geq 0.0\\\\\n",
       " & ν_{1,7,1} \\geq 0.0\\\\\n",
       " & ν_{2,7,1} \\geq 0.0\\\\\n",
       " & ν_{1,1,2} \\geq 0.0\\\\\n",
       " & ν_{2,1,2} \\geq 0.0\\\\\n",
       " & ν_{1,2,2} \\geq 0.0\\\\\n",
       " & ν_{2,2,2} \\geq 0.0\\\\\n",
       " & ν_{1,3,2} \\geq 0.0\\\\\n",
       " & ν_{2,3,2} \\geq 0.0\\\\\n",
       " & ν_{1,4,2} \\geq 0.0\\\\\n",
       " & ν_{2,4,2} \\geq 0.0\\\\\n",
       " & ν_{1,5,2} \\geq 0.0\\\\\n",
       " & ν_{2,5,2} \\geq 0.0\\\\\n",
       " & ν_{1,6,2} \\geq 0.0\\\\\n",
       " & ν_{2,6,2} \\geq 0.0\\\\\n",
       " & ν_{1,7,2} \\geq 0.0\\\\\n",
       " & ν_{2,7,2} \\geq 0.0\\\\\n",
       " & ν_{1,1,3} \\geq 0.0\\\\\n",
       " & ν_{2,1,3} \\geq 0.0\\\\\n",
       " & ν_{1,2,3} \\geq 0.0\\\\\n",
       " & ν_{2,2,3} \\geq 0.0\\\\\n",
       " & ν_{1,3,3} \\geq 0.0\\\\\n",
       " & ν_{2,3,3} \\geq 0.0\\\\\n",
       " & ν_{1,4,3} \\geq 0.0\\\\\n",
       " & ν_{2,4,3} \\geq 0.0\\\\\n",
       " & ν_{1,5,3} \\geq 0.0\\\\\n",
       " & ν_{2,5,3} \\geq 0.0\\\\\n",
       " & ν_{1,6,3} \\geq 0.0\\\\\n",
       " & ν_{2,6,3} \\geq 0.0\\\\\n",
       " & ν_{1,7,3} \\geq 0.0\\\\\n",
       " & ν_{2,7,3} \\geq 0.0\\\\\n",
       " & ν_{1,1,4} \\geq 0.0\\\\\n",
       " & ν_{2,1,4} \\geq 0.0\\\\\n",
       " & ν_{1,2,4} \\geq 0.0\\\\\n",
       " & ν_{2,2,4} \\geq 0.0\\\\\n",
       " & ν_{1,3,4} \\geq 0.0\\\\\n",
       " & ν_{2,3,4} \\geq 0.0\\\\\n",
       " & ν_{1,4,4} \\geq 0.0\\\\\n",
       " & ν_{2,4,4} \\geq 0.0\\\\\n",
       " & ν_{1,5,4} \\geq 0.0\\\\\n",
       " & ν_{2,5,4} \\geq 0.0\\\\\n",
       " & ν_{1,6,4} \\geq 0.0\\\\\n",
       " & ν_{2,6,4} \\geq 0.0\\\\\n",
       " & ν_{1,7,4} \\geq 0.0\\\\\n",
       " & ν_{2,7,4} \\geq 0.0\\\\\n",
       " & μ_{1,1,1} \\geq 0.0\\\\\n",
       " & μ_{2,1,1} \\geq 0.0\\\\\n",
       " & μ_{1,2,1} \\geq 0.0\\\\\n",
       " & μ_{2,2,1} \\geq 0.0\\\\\n",
       " & μ_{1,3,1} \\geq 0.0\\\\\n",
       " & μ_{2,3,1} \\geq 0.0\\\\\n",
       " & μ_{1,4,1} \\geq 0.0\\\\\n",
       " & μ_{2,4,1} \\geq 0.0\\\\\n",
       " & μ_{1,5,1} \\geq 0.0\\\\\n",
       " & μ_{2,5,1} \\geq 0.0\\\\\n",
       " & μ_{1,6,1} \\geq 0.0\\\\\n",
       " & μ_{2,6,1} \\geq 0.0\\\\\n",
       " & μ_{1,7,1} \\geq 0.0\\\\\n",
       " & μ_{2,7,1} \\geq 0.0\\\\\n",
       " & μ_{1,8,1} \\geq 0.0\\\\\n",
       " & μ_{2,8,1} \\geq 0.0\\\\\n",
       " & μ_{1,1,2} \\geq 0.0\\\\\n",
       " & μ_{2,1,2} \\geq 0.0\\\\\n",
       " & μ_{1,2,2} \\geq 0.0\\\\\n",
       " & μ_{2,2,2} \\geq 0.0\\\\\n",
       " & μ_{1,3,2} \\geq 0.0\\\\\n",
       " & μ_{2,3,2} \\geq 0.0\\\\\n",
       " & μ_{1,4,2} \\geq 0.0\\\\\n",
       " & μ_{2,4,2} \\geq 0.0\\\\\n",
       " & μ_{1,5,2} \\geq 0.0\\\\\n",
       " & μ_{2,5,2} \\geq 0.0\\\\\n",
       " & μ_{1,6,2} \\geq 0.0\\\\\n",
       " & μ_{2,6,2} \\geq 0.0\\\\\n",
       " & μ_{1,7,2} \\geq 0.0\\\\\n",
       " & μ_{2,7,2} \\geq 0.0\\\\\n",
       " & μ_{1,8,2} \\geq 0.0\\\\\n",
       " & μ_{2,8,2} \\geq 0.0\\\\\n",
       " & μ_{1,1,3} \\geq 0.0\\\\\n",
       " & μ_{2,1,3} \\geq 0.0\\\\\n",
       " & μ_{1,2,3} \\geq 0.0\\\\\n",
       " & μ_{2,2,3} \\geq 0.0\\\\\n",
       " & μ_{1,3,3} \\geq 0.0\\\\\n",
       " & μ_{2,3,3} \\geq 0.0\\\\\n",
       " & μ_{1,4,3} \\geq 0.0\\\\\n",
       " & μ_{2,4,3} \\geq 0.0\\\\\n",
       " & μ_{1,5,3} \\geq 0.0\\\\\n",
       " & μ_{2,5,3} \\geq 0.0\\\\\n",
       " & μ_{1,6,3} \\geq 0.0\\\\\n",
       " & μ_{2,6,3} \\geq 0.0\\\\\n",
       " & μ_{1,7,3} \\geq 0.0\\\\\n",
       " & μ_{2,7,3} \\geq 0.0\\\\\n",
       " & μ_{1,8,3} \\geq 0.0\\\\\n",
       " & μ_{2,8,3} \\geq 0.0\\\\\n",
       " & μ_{1,1,4} \\geq 0.0\\\\\n",
       " & μ_{2,1,4} \\geq 0.0\\\\\n",
       " & μ_{1,2,4} \\geq 0.0\\\\\n",
       " & μ_{2,2,4} \\geq 0.0\\\\\n",
       " & μ_{1,3,4} \\geq 0.0\\\\\n",
       " & μ_{2,3,4} \\geq 0.0\\\\\n",
       " & μ_{1,4,4} \\geq 0.0\\\\\n",
       " & μ_{2,4,4} \\geq 0.0\\\\\n",
       " & μ_{1,5,4} \\geq 0.0\\\\\n",
       " & μ_{2,5,4} \\geq 0.0\\\\\n",
       " & μ_{1,6,4} \\geq 0.0\\\\\n",
       " & μ_{2,6,4} \\geq 0.0\\\\\n",
       " & μ_{1,7,4} \\geq 0.0\\\\\n",
       " & μ_{2,7,4} \\geq 0.0\\\\\n",
       " & μ_{1,8,4} \\geq 0.0\\\\\n",
       " & μ_{2,8,4} \\geq 0.0\\\\\n",
       "\\end{alignat*}\n",
       " $$"
      ],
      "text/plain": [
       "A JuMP Model\n",
       "Maximization problem with:\n",
       "Variables: 145\n",
       "Objective function type: GenericAffExpr{Float64,VariableRef}\n",
       "`GenericAffExpr{Float64,VariableRef}`-in-`MathOptInterface.EqualTo{Float64}`: 96 constraints\n",
       "`GenericAffExpr{Float64,VariableRef}`-in-`MathOptInterface.LessThan{Float64}`: 134 constraints\n",
       "`VariableRef`-in-`MathOptInterface.GreaterThan{Float64}`: 136 constraints\n",
       "Model mode: AUTOMATIC\n",
       "CachingOptimizer state: ATTACHED_OPTIMIZER\n",
       "Solver name: Gurobi\n",
       "Names registered in the model: y, α, λ, μ, ν"
      ]
     },
     "execution_count": 153,
     "metadata": {},
     "output_type": "execute_result"
    }
   ],
   "source": [
    "model"
   ]
  },
  {
   "cell_type": "code",
   "execution_count": 57,
   "id": "e4fe49b7",
   "metadata": {},
   "outputs": [
    {
     "data": {
      "text/plain": [
       "0.6262886348216052"
      ]
     },
     "execution_count": 57,
     "metadata": {},
     "output_type": "execute_result"
    }
   ],
   "source": [
    "getvalue.(γ)"
   ]
  },
  {
   "cell_type": "code",
   "execution_count": 156,
   "id": "identical-dodge",
   "metadata": {},
   "outputs": [],
   "source": [
    "optimize!(model)"
   ]
  },
  {
   "cell_type": "code",
   "execution_count": 157,
   "id": "caroline-polyester",
   "metadata": {},
   "outputs": [
    {
     "data": {
      "text/plain": [
       "2.9217585540309985"
      ]
     },
     "execution_count": 157,
     "metadata": {},
     "output_type": "execute_result"
    }
   ],
   "source": [
    "objective_value(model)"
   ]
  },
  {
   "cell_type": "code",
   "execution_count": 151,
   "id": "26ba4e67",
   "metadata": {},
   "outputs": [
    {
     "name": "stdout",
     "output_type": "stream",
     "text": [
      "Academic license - for non-commercial use only - expires 2022-07-20\n",
      "Gurobi Optimizer version 9.1.1 build v9.1.1rc0 (mac64)\n",
      "Thread count: 6 physical cores, 12 logical processors, using up to 12 threads\n",
      "Optimize a model with 226 rows, 146 columns and 524 nonzeros\n",
      "Model fingerprint: 0x76c0d6a2\n",
      "Coefficient statistics:\n",
      "  Matrix range     [2e-02, 1e+00]\n",
      "  Objective range  [1e-02, 1e+00]\n",
      "  Bounds range     [0e+00, 0e+00]\n",
      "  RHS range        [2e-02, 4e+00]\n",
      "Presolve removed 194 rows and 22 columns\n",
      "Presolve time: 0.00s\n",
      "Presolved: 32 rows, 124 columns, 192 nonzeros\n",
      "\n",
      "Iteration    Objective       Primal Inf.    Dual Inf.      Time\n",
      "       0    1.0784618e+29   8.000000e+30   1.078462e-01      0s\n",
      "      72    2.9217586e+00   0.000000e+00   0.000000e+00      0s\n",
      "\n",
      "Solved in 72 iterations and 0.00 seconds\n",
      "Optimal objective  2.921758554e+00\n",
      "\n",
      "User-callback calls 113, time in user-callback 0.00 sec\n",
      "10000\n",
      "1.2905030686633057\n"
     ]
    },
    {
     "data": {
      "text/plain": [
       "8-element Array{Float64,1}:\n",
       " 0.5370083401843655\n",
       " 1.2222521761339815\n",
       " 1.339211649779766\n",
       " 0.9142199248949394\n",
       " 0.6387110336100499\n",
       " 0.813759189123922\n",
       " 0.0233854259379922\n",
       " 0.08103364164996285"
      ]
     },
     "execution_count": 151,
     "metadata": {},
     "output_type": "execute_result"
    }
   ],
   "source": [
    "n = 8\n",
    "p = 4\n",
    "X = Random.rand(n,p)\n",
    "#X[:,-1] = np.ones(n)\n",
    "y = Random.rand(n)\n",
    "epsilon = 0.05\n",
    "delta = 0.05\n",
    "\n",
    "D_min = Random.rand(n)\n",
    "D_max = D_min .+ 0.5 \n",
    "threshold = 0.5\n",
    "β0 = Random.rand(p)\n",
    "model, y, L_OA, U_OA, α, γ = U(X, D_min, D_max, β0, epsilon, delta, threshold)\n",
    "println(U_OA)\n",
    "println(L_OA)\n",
    "y"
   ]
  },
  {
   "cell_type": "code",
   "execution_count": 437,
   "id": "e8c72b90",
   "metadata": {},
   "outputs": [
    {
     "data": {
      "text/plain": [
       "1.2970139240154244"
      ]
     },
     "execution_count": 437,
     "metadata": {},
     "output_type": "execute_result"
    }
   ],
   "source": [
    "γ"
   ]
  },
  {
   "cell_type": "markdown",
   "id": "f021840c",
   "metadata": {},
   "source": [
    "# Old"
   ]
  },
  {
   "cell_type": "code",
   "execution_count": 69,
   "id": "136bfe65",
   "metadata": {},
   "outputs": [
    {
     "data": {
      "text/plain": [
       "inner_primal_infinity (generic function with 1 method)"
      ]
     },
     "execution_count": 69,
     "metadata": {},
     "output_type": "execute_result"
    }
   ],
   "source": [
    "function inner_primal_infinity(X, y, β0, epsilon, delta)\n",
    "    \n",
    "    n, p = size(X)\n",
    "\n",
    "    # Create model\n",
    "    model = Model(with_optimizer(Gurobi.Optimizer))\n",
    "    set_optimizer_attribute(model, \"OutputFlag\", 0)\n",
    "\n",
    "    # Add variables\n",
    "    @variable(model, β[i=1:n,j=1:p]) \n",
    "    @variable(model, b[i=1:n]>=0) \n",
    "\n",
    "    # Add objective\n",
    "    @objective(model, Min, sum(b[i] for i=1:n))\n",
    "    \n",
    "    #@constraint(model,[i=1:n], y .- dot(X,β) .<= b)\n",
    "    #@constraint(model,[i=1:n],-y .+ dot(X,β) .<= b)\n",
    "    \n",
    "    \n",
    "    @constraint(model, res_plus[i=1:n],  - y[i] + dot(X[i,:],β[i,:]) <= b[i])\n",
    "    @constraint(model, res_minus[i=1:n],  y[i] - dot(X[i,:],β[i,:]) <= b[i])\n",
    "\n",
    "    @constraint(model, diff_plus[i=2:n],   β[i,:] .- β[i-1,:] .<= delta)\n",
    "    @constraint(model, diff_minus[i=2:n], - β[i,:] .+ β[i-1,:] .<= delta)\n",
    "    \n",
    "    @constraint(model, diff_0_plus[i=1:n],   β[i,:] .- β0 .<= epsilon)\n",
    "    @constraint(model, diff_0_minus[i=1:n], - β[i,:] .+ β0 .<= epsilon)\n",
    "    \n",
    "    optimize!(model);\n",
    "    \n",
    "    return model, getvalue.(β)\n",
    "end"
   ]
  },
  {
   "cell_type": "code",
   "execution_count": 108,
   "id": "7848625e",
   "metadata": {},
   "outputs": [
    {
     "data": {
      "text/plain": [
       "inner_primal_infinity2 (generic function with 1 method)"
      ]
     },
     "execution_count": 108,
     "metadata": {},
     "output_type": "execute_result"
    }
   ],
   "source": [
    "function inner_primal_infinity2(X, y, β0, epsilon, delta)\n",
    "    \n",
    "    n, p = size(X)\n",
    "\n",
    "    # Create model\n",
    "    model = Model(with_optimizer(Gurobi.Optimizer))\n",
    "    set_optimizer_attribute(model, \"OutputFlag\", 0)\n",
    "\n",
    "    # Add variables\n",
    "    @variable(model, β[i=1:n,j=1:p]) \n",
    "    @variable(model, b[i=1:n]>=0) \n",
    "\n",
    "    # Add objective\n",
    "    @objective(model, Min, sum(b[i] for i=1:n))\n",
    "    \n",
    "    #@constraint(model,[i=1:n], y .- dot(X,β) .<= b)\n",
    "    #@constraint(model,[i=1:n],-y .+ dot(X,β) .<= b)\n",
    "    \n",
    "    \n",
    "    @constraint(model, res_plus[i=1:n],  - y[i] + dot(X[i,:],β[i,:]) <= b[i])\n",
    "    @constraint(model, res_minus[i=1:n],  y[i] - dot(X[i,:],β[i,:]) <= b[i])\n",
    "\n",
    "    @constraint(model, diff_plus[i=2:n],   β[i,:] .- β[i-1,:] .<= delta)\n",
    "    @constraint(model, diff_minus[i=2:n], - β[i,:] .+ β[i-1,:] .<= delta)\n",
    "    \n",
    "    @constraint(model, diff_0_plus[i=1:n],   β[i,:] .- β0 .<= epsilon)\n",
    "    @constraint(model, diff_0_minus[i=1:n], - β[i,:] .+ β0 .<= epsilon)\n",
    "    \n",
    "    optimize!(model);\n",
    "    \n",
    "    return model, getvalue.(β)\n",
    "end"
   ]
  },
  {
   "cell_type": "code",
   "execution_count": 81,
   "id": "412ab0a9",
   "metadata": {},
   "outputs": [
    {
     "data": {
      "text/plain": [
       "inner_dual_infinity_shuvo (generic function with 1 method)"
      ]
     },
     "execution_count": 81,
     "metadata": {},
     "output_type": "execute_result"
    }
   ],
   "source": [
    "function inner_dual_infinity_shuvo(X, y, β0, epsilon, delta)\n",
    "    \n",
    "    #Non-adaptive version, that optimizes wrt CVaR, with OLS, and lasso penalty\n",
    "    #alpha: Risk value\n",
    "    \n",
    "    T, p = size(X)\n",
    "    Z = get_Z(X)\n",
    "    \n",
    "    # Create model\n",
    "    model = Model(with_optimizer(Gurobi.Optimizer))\n",
    "    set_optimizer_attribute(model, \"OutputFlag\", 0)\n",
    "    \n",
    "    # Add variables\n",
    "    @variable(model, λ[i=1:2, j=1:T] >= 0) \n",
    "    @variable(model, ν[i=1:2, j=1:T-1, k=1:p]>=0) \n",
    "    @variable(model, μ[i=1:2, j=1:T, k=1:p]>=0)\n",
    "\n",
    "    # Add objective\n",
    "    @objective(model, Max, dot(λ[1,:],y) - dot(λ[2,:],y) \n",
    "                            - delta * sum(sum(ν[1,t,i]+ν[2,t,i] for i=1:p) for t=1:T-1)\n",
    "                            - sum(dot(epsilon .+ β0, μ[1,t,:]) for t = 1:T)\n",
    "                            + sum(dot(epsilon .- β0, μ[2,t,:]) for t = 1:T))\n",
    "    \n",
    "    @constraint(model,[t=1:T], λ[1,:] .+ λ[2,:] .<= 1)\n",
    "        \n",
    "        \n",
    "    @constraint(model, transpose(λ[2,:])*Z-transpose(λ[1,:])*Z \n",
    "                        + sum(transpose(ν[1,t,:])*(get_A(X, t+1).-get_A(X, t)) for t=1:T-1)\n",
    "                        + sum(transpose(ν[2,t,:])*(-get_A(X, t+1).+get_A(X, t)) for t=1:T-1)\n",
    "                        + sum(transpose(μ[1,t,:])*get_A(X,t) for t=1:T)\n",
    "                        - sum(transpose(μ[2,t,:])*get_A(X,t) for t=1:T) .== 0)\n",
    "    \n",
    "    \n",
    "    optimize!(model);\n",
    "    \n",
    "    return model\n",
    "end"
   ]
  },
  {
   "cell_type": "code",
   "execution_count": 109,
   "id": "73c0ecb2",
   "metadata": {},
   "outputs": [
    {
     "data": {
      "text/plain": [
       "inner_dual_infinity_shuvo2 (generic function with 1 method)"
      ]
     },
     "execution_count": 109,
     "metadata": {},
     "output_type": "execute_result"
    }
   ],
   "source": [
    "function inner_dual_infinity_shuvo2(X, y, β0, epsilon, delta)\n",
    "    \n",
    "    #Non-adaptive version, that optimizes wrt CVaR, with OLS, and lasso penalty\n",
    "    #alpha: Risk value\n",
    "    \n",
    "    T, p = size(X)\n",
    "    Z = get_Z(X)\n",
    "    \n",
    "    # Create model\n",
    "    model = Model(with_optimizer(Gurobi.Optimizer))\n",
    "    set_optimizer_attribute(model, \"OutputFlag\", 0)\n",
    "    \n",
    "    # Add variables\n",
    "    @variable(model, λ[i=1:2, j=1:T] >= 0) \n",
    "    @variable(model, ν[i=1:2, j=1:T-1, k=1:p]>=0) \n",
    "    @variable(model, μ[i=1:2, j=1:T, k=1:p]>=0)\n",
    "\n",
    "    # Add objective\n",
    "    @objective(model, Max, dot(λ[1,:],y) - dot(λ[2,:],y) \n",
    "                            - delta * sum(sum(ν[1,t,i]+ν[2,t,i] for i=1:p) for t=1:T-1)\n",
    "                            - sum(dot(epsilon .+ β0, μ[1,t,:]) for t = 1:T)\n",
    "                            - sum(dot(epsilon .- β0, μ[2,t,:]) for t = 1:T))\n",
    "    \n",
    "    @constraint(model,[t=1:T], λ[1,:] .+ λ[2,:] .<= 1)\n",
    "        \n",
    "        \n",
    "    @constraint(model, transpose(λ[2,:])*Z-transpose(λ[1,:])*Z \n",
    "                        + sum(transpose(ν[1,t,:])*(get_A(X, t+1).-get_A(X, t)) for t=1:T-1)\n",
    "                        + sum(transpose(ν[2,t,:])*(-get_A(X, t+1).+get_A(X, t)) for t=1:T-1)\n",
    "                        + sum(transpose(μ[1,t,:])*get_A(X,t) for t=1:T)\n",
    "                        - sum(transpose(μ[2,t,:])*get_A(X,t) for t=1:T) .== 0)\n",
    "    \n",
    "    \n",
    "    optimize!(model);\n",
    "    \n",
    "    return model\n",
    "end"
   ]
  },
  {
   "cell_type": "code",
   "execution_count": null,
   "id": "c9cb02f4",
   "metadata": {},
   "outputs": [],
   "source": []
  },
  {
   "cell_type": "code",
   "execution_count": 113,
   "id": "18900cb6",
   "metadata": {},
   "outputs": [
    {
     "name": "stdout",
     "output_type": "stream",
     "text": [
      "Academic license - for non-commercial use only - expires 2022-07-20\n",
      "Obj value Primal:19.458375109198425Academic license - for non-commercial use only - expires 2022-07-20\n",
      "Obj value Primal:19.458375109198425Academic license - for non-commercial use only - expires 2022-07-20\n",
      "Obj value Dual:19.45837510919842"
     ]
    }
   ],
   "source": [
    "m, beta = inner_primal_infinity2(X,y,beta_0,epsilon,delta)\n",
    "print(\"Obj value Primal:\", objective_value(m))\n",
    "\n",
    "m, beta = inner_primal_infinity_2(X,y,beta_0,epsilon,delta)\n",
    "print(\"Obj value Primal:\", objective_value(m))\n",
    "\n",
    "model = inner_dual_infinity_shuvo2(X,y,beta_0,epsilon,delta)\n",
    "print(\"Obj value Dual:\", objective_value(model))"
   ]
  },
  {
   "cell_type": "code",
   "execution_count": 114,
   "id": "a21ae916",
   "metadata": {},
   "outputs": [
    {
     "data": {
      "text/plain": [
       "0.1"
      ]
     },
     "execution_count": 114,
     "metadata": {},
     "output_type": "execute_result"
    }
   ],
   "source": [
    "n = 30\n",
    "p = 6\n",
    "X = Random.rand(n,p)\n",
    "#X[:,-1] = np.ones(n)\n",
    "y = Random.rand(n)\n",
    "beta_0 = Random.rand(p)\n",
    "beta_0[1] = - 0.3\n",
    "epsilon = 0.1\n",
    "delta = 0.1\n",
    "#beta = inner_dual_infinity_leo_original_signs(X,y,beta_0,epsilon,delta)\n",
    "#beta = inner_dual_infinity_leo(X,y,beta_0,epsilon,delta)\n",
    "\n",
    "\n",
    "\n",
    "#model = inner_dual_infinity_leo(X,y,beta_0,epsilon,delta)\n",
    "#print(\"Obj value Dual Leo:\", objective_value(model))\n",
    "\n",
    "\n",
    "\n",
    "#print(\"Primal 1\", value(m.obj))"
   ]
  },
  {
   "cell_type": "code",
   "execution_count": 17,
   "id": "d99695ea",
   "metadata": {},
   "outputs": [
    {
     "ename": "LoadError",
     "evalue": "\u001b[91mArgumentError: indexed assignment with a single value to many locations is not supported; perhaps use broadcasting `.=` instead?\u001b[39m",
     "output_type": "error",
     "traceback": [
      "\u001b[91mArgumentError: indexed assignment with a single value to many locations is not supported; perhaps use broadcasting `.=` instead?\u001b[39m",
      "",
      "Stacktrace:",
      " [1] setindex_shape_check(::DataFrameRow{DataFrame,DataFrames.Index}, ::Int64) at ./indices.jl:258",
      " [2] macro expansion at ./multidimensional.jl:795 [inlined]",
      " [3] _unsafe_setindex!(::IndexLinear, ::Array{Float64,2}, ::DataFrameRow{DataFrame,DataFrames.Index}, ::UnitRange{Int64}) at ./multidimensional.jl:789",
      " [4] _setindex! at ./multidimensional.jl:785 [inlined]",
      " [5] setindex! at ./abstractarray.jl:1153 [inlined]",
      " [6] get_Y(::DataFrame, ::Int64) at ./In[6]:4",
      " [7] get_Z(::DataFrame) at ./In[6]:12",
      " [8] top-level scope at In[17]:1",
      " [9] include_string(::Function, ::Module, ::String, ::String) at /Applications/Julia-1.5.app/Contents/Resources/julia/lib/julia/sys.dylib:?"
     ]
    }
   ],
   "source": [
    "Z = get_Z(X)\n",
    "λ = Random.rand(n)"
   ]
  },
  {
   "cell_type": "code",
   "execution_count": 313,
   "id": "03df4f9d",
   "metadata": {},
   "outputs": [
    {
     "data": {
      "text/plain": [
       "inner_dual_infinity_leo (generic function with 1 method)"
      ]
     },
     "execution_count": 313,
     "metadata": {},
     "output_type": "execute_result"
    }
   ],
   "source": [
    "function inner_dual_infinity_leo(X, y, β0, epsilon, delta)\n",
    "    \n",
    "    #Non-adaptive version, that optimizes wrt CVaR, with OLS, and lasso penalty\n",
    "    #alpha: Risk value\n",
    "    \n",
    "    T, p = size(X)\n",
    "\n",
    "    # Create model\n",
    "    model = Model(with_optimizer(Gurobi.Optimizer))\n",
    "    set_optimizer_attribute(model, \"OutputFlag\", 0)\n",
    "    \n",
    "    # Add variables\n",
    "    @variable(model, λ[i=1:2,j=1:T]>=0) \n",
    "    @variable(model, ν[i=1:2, j=1:T,k=1:p]>=0) \n",
    "    @variable(model, μ[i=1:2, j=1:T,k=1:p]>=0)\n",
    "\n",
    "    # Add objective\n",
    "    @objective(model, Max, dot(λ[1,:],y) - dot(λ[2,:],y) \n",
    "                            - delta * sum(sum(ν[1,t,i]+ν[2,t,i] for i=1:p) for t=1:T)\n",
    "                            - sum(dot(epsilon .+ β0, μ[1,t,:]) for t=1:T)\n",
    "                            + sum(dot(epsilon .- β0, μ[2,t,:]) for t=1:T)\n",
    "        )\n",
    "    \n",
    "    @constraint(model,[t=1:T], λ[1,:] .+ λ[2,:] .== 1)\n",
    "    @constraint(model,[t=1:T-1], X[t,:]*(λ[1,t]-λ[2,t]) .+ μ[2,t,:]-μ[1,t,:]\n",
    "                                            .+ ν[2,t,:]-ν[1,t,:]\n",
    "                                            .+ ν[2,t+1,:]-ν[1,t+1,:] .== 0)\n",
    "    @constraint(model, X[T,:]*(λ[1,T]-λ[2,T]) .+ μ[2,T,:]-μ[1,T,:]\n",
    "                                            .+ ν[2,T,:]-ν[1,T,:] .== 0)\n",
    "\n",
    "    @constraint(model, [i=1:p], ν[1,1,i] == 0)\n",
    "    @constraint(model, [i=1:p], ν[2,1,i] == 0)\n",
    "    \n",
    "    optimize!(model);\n",
    "    \n",
    "    return getvalue.(λ)\n",
    "end"
   ]
  },
  {
   "cell_type": "code",
   "execution_count": 199,
   "id": "9589479c",
   "metadata": {},
   "outputs": [
    {
     "data": {
      "text/plain": [
       "inner_dual_infinity_leo_original_signs (generic function with 1 method)"
      ]
     },
     "execution_count": 199,
     "metadata": {},
     "output_type": "execute_result"
    }
   ],
   "source": [
    "function inner_dual_infinity_leo_original_signs(X, y, β0, epsilon, delta)\n",
    "    \n",
    "    #Non-adaptive version, that optimizes wrt CVaR, with OLS, and lasso penalty\n",
    "    #alpha: Risk value\n",
    "    \n",
    "    T, p = size(X)\n",
    "\n",
    "    # Create model\n",
    "    model = Model(with_optimizer(Gurobi.Optimizer))\n",
    "    #set_optimizer_attribute(model, \"OutputFlag\", 0)\n",
    "    \n",
    "    # Add variables\n",
    "    @variable(model, λ[i=1:2,j=1:T]<=0) \n",
    "    @variable(model, ν[i=1:2, j=1:T,k=1:p]<=0) \n",
    "    @variable(model, μ[i=1:2, j=1:T,k=1:p]<=0)\n",
    "\n",
    "    # Add objective\n",
    "    @objective(model, Max, dot(λ[2,:],y) - dot(λ[1,:],y) \n",
    "                            + delta * sum(sum(ν[1,t,i]+ν[2,t,i] for i=1:p) for t=1:T)\n",
    "                            + sum(dot(epsilon .+ β0, μ[1,t,:]) for t=1:T)\n",
    "                            + sum(dot(epsilon .- β0, μ[2,t,:]) for t=1:T)\n",
    "        )\n",
    "    \n",
    "    @constraint(model,[t=1:T], -λ[1,:] .- λ[2,:] .== 1)\n",
    "    @constraint(model,[t=1:T-1], X[t,:]*(λ[2,t]-λ[1,t]) .+ μ[1,t,:]-μ[2,t,:]\n",
    "                                            .+ ν[1,t,:]-ν[2,t,:]\n",
    "                                            .+ ν[1,t+1,:]-ν[2,t+1,:] .== 0)\n",
    "    @constraint(model, X[T,:]*(λ[2,T]-λ[1,T]) .+ μ[1,T,:]-μ[2,T,:]\n",
    "                                            .+ ν[1,T,:]-ν[2,T,:] .== 0)\n",
    "\n",
    "    @constraint(model, [i=1:p], ν[1,1,i] == 0)\n",
    "    @constraint(model, [i=1:p], ν[2,1,i] == 0)\n",
    "    \n",
    "    optimize!(model);\n",
    "    \n",
    "    return getvalue.(λ)\n",
    "end"
   ]
  },
  {
   "cell_type": "code",
   "execution_count": 97,
   "id": "e11e8169",
   "metadata": {},
   "outputs": [
    {
     "name": "stdout",
     "output_type": "stream",
     "text": [
      "Academic license - for non-commercial use only - expires 2022-07-20\n",
      "Gurobi Optimizer version 9.1.1 build v9.1.1rc0 (mac64)\n",
      "Thread count: 6 physical cores, 12 logical processors, using up to 12 threads\n",
      "Optimize a model with 4 rows, 2 columns and 6 nonzeros\n",
      "Model fingerprint: 0xf1865ffb\n",
      "Coefficient statistics:\n",
      "  Matrix range     [6e-02, 1e+00]\n",
      "  Objective range  [1e+00, 1e+00]\n",
      "  Bounds range     [0e+00, 0e+00]\n",
      "  RHS range        [2e-01, 6e-01]\n",
      "Presolve removed 4 rows and 2 columns\n",
      "Presolve time: 0.00s\n",
      "Presolve: All rows and columns removed\n",
      "Iteration    Objective       Primal Inf.    Dual Inf.      Time\n",
      "       0    6.0374523e-01   0.000000e+00   0.000000e+00      0s\n",
      "\n",
      "Solved in 0 iterations and 0.00 seconds\n",
      "Optimal objective  6.037452260e-01\n",
      "\n",
      "User-callback calls 25, time in user-callback 0.00 sec\n"
     ]
    },
    {
     "data": {
      "text/plain": [
       "(A JuMP Model\n",
       "Minimization problem with:\n",
       "Variables: 2\n",
       "Objective function type: VariableRef\n",
       "`GenericAffExpr{Float64,VariableRef}`-in-`MathOptInterface.LessThan{Float64}`: 4 constraints\n",
       "`VariableRef`-in-`MathOptInterface.GreaterThan{Float64}`: 1 constraint\n",
       "Model mode: AUTOMATIC\n",
       "CachingOptimizer state: ATTACHED_OPTIMIZER\n",
       "Solver name: Gurobi\n",
       "Names registered in the model: b, diff_0_minus, diff_0_plus, diff_minus, diff_plus, res_minus, res_plus, β, [0.3519194308823449])"
      ]
     },
     "execution_count": 97,
     "metadata": {},
     "output_type": "execute_result"
    }
   ],
   "source": [
    "n = 1\n",
    "p = 1\n",
    "X = Random.rand(n,p)\n",
    "#X[:,-1] = np.ones(n)\n",
    "y = Random.rand(n)\n",
    "beta_0 = Random.rand(p)\n",
    "epsilon = 0.1\n",
    "delta = 0.01\n",
    "m, beta = inner_primal_infinity(X,y,beta_0,epsilon,delta)\n",
    "#print(\"Primal 1\", value(m.obj))"
   ]
  },
  {
   "cell_type": "code",
   "execution_count": 98,
   "id": "c91ac7ec",
   "metadata": {},
   "outputs": [
    {
     "data": {
      "text/latex": [
       "$$ \\begin{alignat*}{1}\\min\\quad & b_{1}\\\\\n",
       "\\text{Subject to} \\quad & 0.060896553795155794 β_{1,1} - b_{1} \\leq 0.6251759065090305\\\\\n",
       " & -0.060896553795155794 β_{1,1} - b_{1} \\leq -0.6251759065090305\\\\\n",
       " & β_{1,1} \\leq 0.3519194308823449\\\\\n",
       " & -β_{1,1} \\leq -0.1519194308823449\\\\\n",
       " & b_{1} \\geq 0.0\\\\\n",
       "\\end{alignat*}\n",
       " $$"
      ],
      "text/plain": [
       "A JuMP Model\n",
       "Minimization problem with:\n",
       "Variables: 2\n",
       "Objective function type: VariableRef\n",
       "`GenericAffExpr{Float64,VariableRef}`-in-`MathOptInterface.LessThan{Float64}`: 4 constraints\n",
       "`VariableRef`-in-`MathOptInterface.GreaterThan{Float64}`: 1 constraint\n",
       "Model mode: AUTOMATIC\n",
       "CachingOptimizer state: ATTACHED_OPTIMIZER\n",
       "Solver name: Gurobi\n",
       "Names registered in the model: b, diff_0_minus, diff_0_plus, diff_minus, diff_plus, res_minus, res_plus, β"
      ]
     },
     "execution_count": 98,
     "metadata": {},
     "output_type": "execute_result"
    }
   ],
   "source": [
    "m"
   ]
  },
  {
   "cell_type": "code",
   "execution_count": 83,
   "id": "c716530c",
   "metadata": {},
   "outputs": [
    {
     "data": {
      "text/plain": [
       "inner_primal_infinity (generic function with 1 method)"
      ]
     },
     "execution_count": 83,
     "metadata": {},
     "output_type": "execute_result"
    }
   ],
   "source": [
    "function inner_primal_infinity(X, y, β0, epsilon, delta)\n",
    "    \n",
    "    #Non-adaptive version, that optimizes wrt CVaR, with OLS, and lasso penalty\n",
    "    #alpha: Risk value\n",
    "    \n",
    "    n, p = size(X)\n",
    "\n",
    "    # Create model\n",
    "    model = Model(with_optimizer(Gurobi.Optimizer))\n",
    "\n",
    "    # Add variables\n",
    "    @variable(model, a[i=1:n,j=1:p]) \n",
    "    @variable(model, b[i=1:n]>=0) \n",
    "\n",
    "    # Add objective\n",
    "    @objective(model, Min, sum(b[i] for i=1:n))\n",
    "    \n",
    "    #@constraint(model,[i=1:n], y .- dot(X,β) .<= b)\n",
    "    #@constraint(model,[i=1:n],-y .+ dot(X,β) .<= b)\n",
    "    @constraint(model,[i=1:n],- y[i] + dot(X[i,:],a[i,:]) <= b[i])\n",
    "    @constraint(model,[i=1:n],  y[i] - dot(X[i,:],a[i,:]) <= b[i])\n",
    "\n",
    "    @constraint(model,[i=2:n],   a[i,:] .- a[i-1,:] .<= delta)\n",
    "    @constraint(model,[i=2:n], - a[i,:] .+ a[i-1,:] .<= delta)\n",
    "    \n",
    "    @constraint(model,[i=1:n],   a[i,:] .- β0 .<= epsilon)\n",
    "    @constraint(model,[i=1:n], - a[i,:] .+ β0 .<= epsilon)\n",
    "    \n",
    "    optimize!(model);\n",
    "    \n",
    "    return model, getvalue.(a)\n",
    "end"
   ]
  },
  {
   "cell_type": "code",
   "execution_count": 125,
   "id": "5a95f3ba",
   "metadata": {},
   "outputs": [
    {
     "data": {
      "text/plain": [
       "2-element Array{Float64,1}:\n",
       " 13.0\n",
       " 14.0"
      ]
     },
     "execution_count": 125,
     "metadata": {},
     "output_type": "execute_result"
    }
   ],
   "source": [
    "beta_0"
   ]
  },
  {
   "cell_type": "code",
   "execution_count": 133,
   "id": "398358df",
   "metadata": {},
   "outputs": [
    {
     "data": {
      "text/plain": [
       "3×2 Array{Float64,2}:\n",
       " 0.0863508  0.288636\n",
       " 0.766061   0.586348\n",
       " 0.871986   0.936701"
      ]
     },
     "execution_count": 133,
     "metadata": {},
     "output_type": "execute_result"
    }
   ],
   "source": [
    "Random.rand(n,p)"
   ]
  },
  {
   "cell_type": "code",
   "execution_count": 146,
   "id": "d423e76c",
   "metadata": {},
   "outputs": [
    {
     "data": {
      "text/plain": [
       "3×2 Array{Float64,2}:\n",
       " 1.0  4.0\n",
       " 2.0  5.0\n",
       " 3.0  6.0"
      ]
     },
     "execution_count": 146,
     "metadata": {},
     "output_type": "execute_result"
    }
   ],
   "source": [
    "X"
   ]
  },
  {
   "cell_type": "code",
   "execution_count": 145,
   "id": "85754856",
   "metadata": {},
   "outputs": [
    {
     "name": "stdout",
     "output_type": "stream",
     "text": [
      "Academic license - for non-commercial use only - expires 2022-07-20\n",
      "Gurobi Optimizer version 9.1.1 build v9.1.1rc0 (mac64)\n",
      "Thread count: 6 physical cores, 12 logical processors, using up to 12 threads\n",
      "Optimize a model with 26 rows, 9 columns and 46 nonzeros\n",
      "Model fingerprint: 0xac5b704b\n",
      "Coefficient statistics:\n",
      "  Matrix range     [1e+00, 6e+00]\n",
      "  Objective range  [1e+00, 1e+00]\n",
      "  Bounds range     [0e+00, 0e+00]\n",
      "  RHS range        [1e-02, 1e+01]\n",
      "Presolve removed 26 rows and 9 columns\n",
      "Presolve time: 0.00s\n",
      "Presolve: All rows and columns removed\n",
      "Iteration    Objective       Primal Inf.    Dual Inf.      Time\n",
      "       0    2.5290000e+02   0.000000e+00   0.000000e+00      0s\n",
      "\n",
      "Solved in 0 iterations and 0.00 seconds\n",
      "Optimal objective  2.529000000e+02\n",
      "\n",
      "User-callback calls 28, time in user-callback 0.00 sec\n"
     ]
    },
    {
     "data": {
      "text/plain": [
       "(A JuMP Model\n",
       "Minimization problem with:\n",
       "Variables: 9\n",
       "Objective function type: GenericAffExpr{Float64,VariableRef}\n",
       "`GenericAffExpr{Float64,VariableRef}`-in-`MathOptInterface.LessThan{Float64}`: 26 constraints\n",
       "`VariableRef`-in-`MathOptInterface.GreaterThan{Float64}`: 3 constraints\n",
       "Model mode: AUTOMATIC\n",
       "CachingOptimizer state: ATTACHED_OPTIMIZER\n",
       "Solver name: Gurobi\n",
       "Names registered in the model: b, diff_0_minus, diff_0_plus, diff_minus, diff_plus, res_minus, res_plus, β, [12.9 13.9; 12.9 13.9; 12.9 13.9])"
      ]
     },
     "execution_count": 145,
     "metadata": {},
     "output_type": "execute_result"
    }
   ],
   "source": [
    "n = 3\n",
    "p = 2\n",
    "X = Array([[1., 2., 3.] [4., 5., 6.]])#Random.rand(n,p)\n",
    "#X[:,-1] = np.ones(n)\n",
    "y = Array([10.,11.,12.])#Random.rand(n)\n",
    "beta_0 = Array([13.,14.])#Random.rand(p)\n",
    "epsilon = 0.1\n",
    "delta = 0.01\n",
    "m, beta = inner_primal_infinity(X,y,beta_0,epsilon,delta)\n",
    "#print(\"Primal 1\", value(m.obj))"
   ]
  },
  {
   "cell_type": "code",
   "execution_count": 147,
   "id": "1a1af9da",
   "metadata": {},
   "outputs": [
    {
     "data": {
      "text/latex": [
       "$$ \\begin{alignat*}{1}\\max\\quad & 14.1 noname + 11 noname + 14.1 noname + 0.01 noname - 12.9 noname + 0.01 noname + 0.01 noname - 12.9 noname + 0.01 noname - 13.9 noname + 13.1 noname + 13.1 noname + 0.01 noname - 13.9 noname - 12 noname - 13.9 noname - 10 noname + 12 noname - 11 noname + 14.1 noname - 12.9 noname + 0.01 noname + 0.01 noname + 13.1 noname + 0.01 noname + 10 noname\\\\\n",
       "\\text{Subject to} \\quad & noname - noname - noname + noname + noname - noname = 0.0\\\\\n",
       " & 2 noname - 2 noname + noname - noname - noname + noname + noname - noname = 0.0\\\\\n",
       " & 3 noname - 3 noname + noname - noname + noname - noname = 0.0\\\\\n",
       " & 4 noname - 4 noname - noname + noname + noname - noname = 0.0\\\\\n",
       " & 5 noname - 5 noname + noname - noname - noname + noname + noname - noname = 0.0\\\\\n",
       " & 6 noname - 6 noname + noname - noname + noname - noname = 0.0\\\\\n",
       " & -noname - noname + noname = 1.0\\\\\n",
       " & -noname - noname + noname = 1.0\\\\\n",
       " & -noname - noname + noname = 1.0\\\\\n",
       " & noname \\geq 0.0\\\\\n",
       " & noname \\geq 0.0\\\\\n",
       " & noname \\geq 0.0\\\\\n",
       " & noname \\leq 0.0\\\\\n",
       " & noname \\leq 0.0\\\\\n",
       " & noname \\leq 0.0\\\\\n",
       " & noname \\leq 0.0\\\\\n",
       " & noname \\leq 0.0\\\\\n",
       " & noname \\leq 0.0\\\\\n",
       " & noname \\leq 0.0\\\\\n",
       " & noname \\leq 0.0\\\\\n",
       " & noname \\leq 0.0\\\\\n",
       " & noname \\leq 0.0\\\\\n",
       " & noname \\leq 0.0\\\\\n",
       " & noname \\leq 0.0\\\\\n",
       " & noname \\leq 0.0\\\\\n",
       " & noname \\leq 0.0\\\\\n",
       " & noname \\leq 0.0\\\\\n",
       " & noname \\leq 0.0\\\\\n",
       " & noname \\leq 0.0\\\\\n",
       " & noname \\leq 0.0\\\\\n",
       " & noname \\leq 0.0\\\\\n",
       " & noname \\leq 0.0\\\\\n",
       " & noname \\leq 0.0\\\\\n",
       " & noname \\leq 0.0\\\\\n",
       " & noname \\leq 0.0\\\\\n",
       " & noname \\leq 0.0\\\\\n",
       " & noname \\leq 0.0\\\\\n",
       " & noname \\leq 0.0\\\\\n",
       "\\end{alignat*}\n",
       " $$"
      ],
      "text/plain": [
       "A JuMP Model\n",
       "Maximization problem with:\n",
       "Variables: 29\n",
       "Objective function type: GenericAffExpr{Float64,VariableRef}\n",
       "`GenericAffExpr{Float64,VariableRef}`-in-`MathOptInterface.EqualTo{Float64}`: 9 constraints\n",
       "`VariableRef`-in-`MathOptInterface.GreaterThan{Float64}`: 3 constraints\n",
       "`VariableRef`-in-`MathOptInterface.LessThan{Float64}`: 26 constraints\n",
       "Model mode: AUTOMATIC\n",
       "CachingOptimizer state: NO_OPTIMIZER\n",
       "Solver name: No optimizer attached."
      ]
     },
     "execution_count": 147,
     "metadata": {},
     "output_type": "execute_result"
    }
   ],
   "source": [
    "dual_model = dualize(m)"
   ]
  },
  {
   "cell_type": "code",
   "execution_count": 32,
   "id": "c37a14f5",
   "metadata": {},
   "outputs": [
    {
     "name": "stdout",
     "output_type": "stream",
     "text": [
      "Academic license - for non-commercial use only - expires 2022-07-20\n",
      "Gurobi Optimizer version 9.1.1 build v9.1.1rc0 (mac64)\n",
      "Thread count: 6 physical cores, 12 logical processors, using up to 12 threads\n",
      "Optimize a model with 210 rows, 60 columns and 400 nonzeros\n",
      "Model fingerprint: 0xc48ab349\n",
      "Coefficient statistics:\n",
      "  Matrix range     [2e-03, 1e+00]\n",
      "  Objective range  [1e+00, 1e+00]\n",
      "  Bounds range     [0e+00, 0e+00]\n",
      "  RHS range        [1e-02, 8e-01]\n",
      "Presolve removed 210 rows and 60 columns\n",
      "Presolve time: 0.00s\n",
      "Presolve: All rows and columns removed\n",
      "Iteration    Objective       Primal Inf.    Dual Inf.      Time\n",
      "       0    5.2475641e+00   0.000000e+00   0.000000e+00      0s\n",
      "\n",
      "Solved in 0 iterations and 0.00 seconds\n",
      "Optimal objective  5.247564085e+00\n",
      "\n",
      "User-callback calls 31, time in user-callback 0.00 sec\n"
     ]
    },
    {
     "data": {
      "text/plain": [
       "10×5 Array{Float64,2}:\n",
       " 0.0525981  0.584418  0.534952  0.231315  0.466786\n",
       " 0.0525981  0.584418  0.534952  0.231315  0.466786\n",
       " 0.0525981  0.584418  0.534952  0.231315  0.466786\n",
       " 0.0525981  0.584418  0.534952  0.231315  0.466786\n",
       " 0.0525981  0.584418  0.534952  0.231315  0.466786\n",
       " 0.0525981  0.584418  0.534952  0.231315  0.466786\n",
       " 0.0525981  0.584418  0.534952  0.231315  0.466786\n",
       " 0.0525981  0.584418  0.534952  0.231315  0.466786\n",
       " 0.0525981  0.584418  0.534952  0.231315  0.466786\n",
       " 0.0525981  0.584418  0.534952  0.231315  0.466786"
      ]
     },
     "execution_count": 32,
     "metadata": {},
     "output_type": "execute_result"
    }
   ],
   "source": [
    "beta = inner_primal_infinity(X,y,beta_0,epsilon,delta)"
   ]
  },
  {
   "cell_type": "code",
   "execution_count": null,
   "id": "4a67196c",
   "metadata": {},
   "outputs": [],
   "source": [
    "function l1_regression(X, y, rho)\n",
    "    # number of observations\n",
    "    n = nrow(X)\n",
    "    # number of estimators\n",
    "    m = ncol(X)\n",
    "    \n",
    "    # big M constant. Note big M should be small for l0 to work properly\n",
    "    M = 25\n",
    "    \n",
    "    # convert input data frames to matrix/vector\n",
    "    y_vector = convert(Matrix, y[:,:])\n",
    "    X_matrix = convert(Matrix, X[:,:])\n",
    "    \n",
    "    # build model\n",
    "    model = Model(with_optimizer(Gurobi.Optimizer))\n",
    "    ##### Load Packagesset_optimizer_attribute(model, \"OutputFlag\", 0)\n",
    "    # insert variables and constraints\n",
    "    @variable(model,beta[i=1:m])\n",
    "    @variable(model,z[i=1:m]>=0)\n",
    "    @variable(model,u[i=1:n]>=0)\n",
    "    @variable(model, sse>=0)\n",
    "    @constraint(model,[i=1:m], beta[i]<=z[i])\n",
    "    @constraint(model,[i=1:m], beta[i]>=-z[i])\n",
    "    @constraint(model,[i=1:n],y_vector[i]-dot(X_matrix[i,:],beta)<=u[i])\n",
    "    @constraint(model,[i=1:n],-y_vector[i]+dot(X_matrix[i,:],beta)<=u[i])\n",
    "    @constraint(model, sum(u) <= sse)\n",
    "    @objective(model,Min, sse + rho*sum(z[i] for i=1:m))\n",
    "    \n",
    "    # optimize\n",
    "    optimize!(model);\n",
    "    \n",
    "    z_here = getvalue.(z)\n",
    "    b_here = getvalue.(beta)\n",
    "    # return estimated betas\n",
    "    return (getvalue.(beta))\n",
    "end"
   ]
  }
 ],
 "metadata": {
  "kernelspec": {
   "display_name": "Julia 1.5.3",
   "language": "julia",
   "name": "julia-1.5"
  },
  "language_info": {
   "file_extension": ".jl",
   "mimetype": "application/julia",
   "name": "julia",
   "version": "1.5.3"
  }
 },
 "nbformat": 4,
 "nbformat_minor": 5
}
