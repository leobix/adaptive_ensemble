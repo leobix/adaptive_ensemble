{
 "cells": [
  {
   "cell_type": "code",
   "execution_count": 1,
   "id": "21537db7",
   "metadata": {},
   "outputs": [],
   "source": [
    "using JuMP, Gurobi, Random"
   ]
  },
  {
   "cell_type": "code",
   "execution_count": 2,
   "id": "834c930b",
   "metadata": {},
   "outputs": [
    {
     "name": "stdout",
     "output_type": "stream",
     "text": [
      "Academic license - for non-commercial use only - expires 2022-07-20\n"
     ]
    },
    {
     "data": {
      "text/plain": [
       "Gurobi.Env(Ptr{Nothing} @0x00007fb4ee1b9600, false, 0)"
      ]
     },
     "execution_count": 2,
     "metadata": {},
     "output_type": "execute_result"
    }
   ],
   "source": [
    "using JuMP, Gurobi, StatsBase, DataFrames, CSV, LinearAlgebra, Distributions, Random\n",
    "const GRB_ENV = Gurobi.Env()"
   ]
  },
  {
   "cell_type": "code",
   "execution_count": 57,
   "id": "525aefff",
   "metadata": {},
   "outputs": [
    {
     "name": "stderr",
     "output_type": "stream",
     "text": [
      "┌ Info: Precompiling Dualization [191a621a-6537-11e9-281d-650236a99e60]\n",
      "└ @ Base loading.jl:1278\n"
     ]
    }
   ],
   "source": [
    "#using Dualization"
   ]
  },
  {
   "cell_type": "code",
   "execution_count": 12,
   "id": "cognitive-speaker",
   "metadata": {},
   "outputs": [
    {
     "data": {
      "text/plain": [
       "l2_regression (generic function with 1 method)"
      ]
     },
     "execution_count": 12,
     "metadata": {},
     "output_type": "execute_result"
    }
   ],
   "source": [
    "function l2_regression(X, y, rho; solver_output=0)\n",
    "    n,p = size(X)\n",
    "    \n",
    "    model = Model(Gurobi.Optimizer)\n",
    "    set_optimizer_attribute(model, \"OutputFlag\", solver_output) \n",
    "    \n",
    "    @variable(model,beta[j=1:p])\n",
    "    @variable(model, sse>=0)\n",
    "    @variable(model, reg>=0)\n",
    "    @constraint(model, sum((y[i]-sum(X[i,j]*beta[j] for j=1:p))^2 for i=1:n) <= sse)\n",
    "    @constraint(model, sum(beta[j]^2 for j=1:p)<=reg)\n",
    "    @objective(model,Min, 1/n*sse + rho*reg)\n",
    "    \n",
    "    optimize!(model)\n",
    "    println(\"Obj \", objective_value(model))\n",
    "    return (value.(beta))\n",
    "end"
   ]
  },
  {
   "cell_type": "code",
   "execution_count": 3,
   "id": "sized-purse",
   "metadata": {},
   "outputs": [
    {
     "data": {
      "text/plain": [
       "solve_model (generic function with 1 method)"
      ]
     },
     "execution_count": 3,
     "metadata": {},
     "output_type": "execute_result"
    }
   ],
   "source": [
    "function solve_model(m)\n",
    "    optimize!(m)\n",
    "    U_OA = objective_value(m)\n",
    "    println(\"U_OA from solve \", U_OA)\n",
    "    return value.(m[:y]), U_OA\n",
    "end"
   ]
  },
  {
   "cell_type": "code",
   "execution_count": 4,
   "id": "formal-thong",
   "metadata": {},
   "outputs": [
    {
     "data": {
      "text/plain": [
       "solve_model_benders (generic function with 1 method)"
      ]
     },
     "execution_count": 4,
     "metadata": {},
     "output_type": "execute_result"
    }
   ],
   "source": [
    "function solve_model_benders(m)\n",
    "    \"Solve the Benders master problem\n",
    "    \"\n",
    "    optimize!(m)\n",
    "    U_OA = objective_value(m)\n",
    "    #println(\"U_OA from solve \", U_OA)\n",
    "    return value.(m[:β]), value.(m[:α]), U_OA\n",
    "end"
   ]
  },
  {
   "cell_type": "code",
   "execution_count": 5,
   "id": "52e0e146",
   "metadata": {},
   "outputs": [
    {
     "data": {
      "text/plain": [
       "get_A (generic function with 1 method)"
      ]
     },
     "execution_count": 5,
     "metadata": {},
     "output_type": "execute_result"
    }
   ],
   "source": [
    "function get_Y(X, t)\n",
    "    \"\n",
    "    Create the vector of data for the dual problem\n",
    "    \"\n",
    "    T, p = size(X)\n",
    "    Y = zeros(1,T*p)\n",
    "    Y[(t-1)*p+1:t*p] = X[t,:]\n",
    "    return Y\n",
    "end\n",
    "\n",
    "function get_Z(X)\n",
    "    T, p = size(X)\n",
    "    Z = zeros(T, T*p)\n",
    "    for t=1:T\n",
    "        Z[t,:] = get_Y(X,t)\n",
    "    end\n",
    "    return Z\n",
    "end\n",
    "\n",
    "function get_A(X, t)\n",
    "    T, p = size(X)\n",
    "    A = zeros(p,T*p)\n",
    "    A[:,(t-1)*p+1:t*p] = 1 * Matrix(I, p, p)\n",
    "    return A\n",
    "end"
   ]
  },
  {
   "cell_type": "code",
   "execution_count": 84,
   "id": "coordinate-washer",
   "metadata": {},
   "outputs": [
    {
     "data": {
      "text/plain": [
       "S_primal (generic function with 1 method)"
      ]
     },
     "execution_count": 84,
     "metadata": {},
     "output_type": "execute_result"
    }
   ],
   "source": [
    "function S_primal(X, y, β0, epsilon, delta)\n",
    "    \n",
    "    n, p = size(X)\n",
    "\n",
    "    # Create model\n",
    "    model = Model(with_optimizer(Gurobi.Optimizer))\n",
    "    set_optimizer_attribute(model, \"OutputFlag\", 0)\n",
    "\n",
    "    # Add variables\n",
    "    @variable(model, β[i=1:n,j=1:p]) \n",
    "    @variable(model, b[i=1:n]>=0) \n",
    "\n",
    "    # Add objective\n",
    "    @objective(model, Min, sum(b[i] for i=1:n))\n",
    "    \n",
    "    #@constraint(model,[i=1:n], y .- dot(X,β) .<= b)\n",
    "    #@constraint(model,[i=1:n],-y .+ dot(X,β) .<= b)\n",
    "    \n",
    "    \n",
    "    @constraint(model, res_plus[i=1:n],  - y[i] + dot(X[i,:],β[i,:]) <= b[i])\n",
    "    @constraint(model, res_minus[i=1:n],  y[i] - dot(X[i,:],β[i,:]) <= b[i])\n",
    "\n",
    "    @constraint(model, diff_plus[i=2:n],   β[i,:] .- β[i-1,:] .<= delta)\n",
    "    @constraint(model, diff_minus[i=2:n], - β[i,:] .+ β[i-1,:] .<= delta)\n",
    "    \n",
    "    @constraint(model, diff_0_plus[i=1:n],   β[i,:] .- β0 .<= epsilon)\n",
    "    @constraint(model, diff_0_minus[i=1:n], - β[i,:] .+ β0 .<= epsilon)\n",
    "    \n",
    "    optimize!(model);\n",
    "    \n",
    "    return objective_value(model), getvalue.(β)\n",
    "end"
   ]
  },
  {
   "cell_type": "code",
   "execution_count": 115,
   "id": "modular-worst",
   "metadata": {},
   "outputs": [
    {
     "data": {
      "text/plain": [
       "master_primal (generic function with 2 methods)"
      ]
     },
     "execution_count": 115,
     "metadata": {},
     "output_type": "execute_result"
    }
   ],
   "source": [
    "function master_primal(X0, Xt, y0, Dmin, Dmax, epsilon, delta, reg, ρ)\n",
    "    \n",
    "    n0, p = size(X0)\n",
    "    n, _ = size(Xt)\n",
    "\n",
    "    # Create model\n",
    "    model = Model(with_optimizer(Gurobi.Optimizer))\n",
    "    set_optimizer_attribute(model, \"OutputFlag\", 0)\n",
    "\n",
    "    # Add variables\n",
    "    @variable(model, β[i=1:n,j=1:p]) \n",
    "    @variable(model, b[i=1:n]>=0) \n",
    "    @variable(model, β0[j=1:p])\n",
    "    # Add objective\n",
    "    @objective(model, Min, 1/n0*sum((y0[i]-sum(X0[i,j]*β0[j] for j=1:p))^2 for i=1:n0) \n",
    "        + reg*sum(b[i] for i=1:n) + ρ*sum(β0[j]^2 for j=1:p))\n",
    "    \n",
    "    #@constraint(model,[i=1:n], y .- dot(X,β) .<= b)\n",
    "    #@constraint(model,[i=1:n],-y .+ dot(X,β) .<= b)\n",
    "    \n",
    "    \n",
    "    @constraint(model, res_plus_min[i=1:n],  - Dmin[i] + dot(X[i,:],β[i,:]) <= b[i])\n",
    "    @constraint(model, res_minus_min[i=1:n],  Dmin[i] - dot(X[i,:],β[i,:]) <= b[i])\n",
    "    \n",
    "    @constraint(model, res_plus_max[i=1:n],  - Dmax[i] + dot(X[i,:],β[i,:]) <= b[i])\n",
    "    @constraint(model, res_minus_max[i=1:n],  Dmax[i] - dot(X[i,:],β[i,:]) <= b[i])\n",
    "\n",
    "    @constraint(model, diff_plus[i=2:n],   β[i,:] .- β[i-1,:] .<= delta)\n",
    "    @constraint(model, diff_minus[i=2:n], - β[i,:] .+ β[i-1,:] .<= delta)\n",
    "    \n",
    "    @constraint(model, diff_0_plus[i=1:n],   β[i,:] .- β0 .<= epsilon)\n",
    "    @constraint(model, diff_0_minus[i=1:n], - β[i,:] .+ β0 .<= epsilon)\n",
    "    \n",
    "    optimize!(model);\n",
    "    \n",
    "    return objective_value(model), getvalue.(β), getvalue.(β0)\n",
    "end"
   ]
  },
  {
   "cell_type": "code",
   "execution_count": 6,
   "id": "eb16adff",
   "metadata": {},
   "outputs": [
    {
     "data": {
      "text/plain": [
       "S_dual (generic function with 1 method)"
      ]
     },
     "execution_count": 6,
     "metadata": {},
     "output_type": "execute_result"
    }
   ],
   "source": [
    "function S_dual(X, y, β0, epsilon, delta)\n",
    "    \n",
    "    #Dual problem\n",
    "    \n",
    "    T, p = size(X)\n",
    "    Z = get_Z(X)\n",
    "    \n",
    "    # Create model\n",
    "    model = Model(with_optimizer(Gurobi.Optimizer))\n",
    "    set_optimizer_attribute(model, \"OutputFlag\", 0)\n",
    "    \n",
    "    # Add variables\n",
    "    @variable(model, λ[i=1:2, j=1:T] >= 0) \n",
    "    @variable(model, ν[i=1:2, j=1:T-1, k=1:p]>=0) \n",
    "    @variable(model, μ[i=1:2, j=1:T, k=1:p]>=0)\n",
    "\n",
    "    # Add objective\n",
    "    @objective(model, Max, dot(λ[1,:],y) - dot(λ[2,:],y) \n",
    "                            - delta * sum(sum(ν[1,t,i]+ν[2,t,i] for i=1:p) for t=1:T-1)\n",
    "                            - sum(dot(epsilon .+ β0, μ[1,t,:]) for t = 1:T)\n",
    "                            - sum(dot(epsilon .- β0, μ[2,t,:]) for t = 1:T))\n",
    "    \n",
    "    @constraint(model,[t=1:T], λ[1,:] .+ λ[2,:] .== 1)\n",
    "        \n",
    "        \n",
    "    @constraint(model, transpose(λ[2,:])*Z-transpose(λ[1,:])*Z \n",
    "                        + sum(transpose(ν[1,t,:])*(get_A(X, t+1).-get_A(X, t)) for t=1:T-1)\n",
    "                        + sum(transpose(ν[2,t,:])*(-get_A(X, t+1).+get_A(X, t)) for t=1:T-1)\n",
    "                        + sum(transpose(μ[1,t,:])*get_A(X,t) for t=1:T)\n",
    "                        - sum(transpose(μ[2,t,:])*get_A(X,t) for t=1:T) .== 0)\n",
    "    \n",
    "    \n",
    "    optimize!(model);\n",
    "    \n",
    "    return objective_value(model), getvalue.(λ), getvalue.(ν), getvalue.(μ)\n",
    "end"
   ]
  },
  {
   "cell_type": "code",
   "execution_count": 7,
   "id": "becoming-stability",
   "metadata": {},
   "outputs": [
    {
     "data": {
      "text/plain": [
       "R (generic function with 1 method)"
      ]
     },
     "execution_count": 7,
     "metadata": {},
     "output_type": "execute_result"
    }
   ],
   "source": [
    "function R(X, D_min, D_max, β0, epsilon, delta) \n",
    "    \"\n",
    "    Full dual problem\n",
    "    \"\n",
    "    T, p = size(X)\n",
    "    Z = get_Z(X)\n",
    "    \n",
    "    # Create model\n",
    "    model = Model(() -> Gurobi.Optimizer(GRB_ENV))#Model(with_optimizer(Gurobi.Optimizer))\n",
    "    set_optimizer_attribute(model, \"OutputFlag\", 0)\n",
    "    set_optimizer_attribute(model, \"NonConvex\", 2)\n",
    "    \n",
    "    # Add variables\n",
    "    @variable(model, λ[i=1:2, j=1:T] >= 0) \n",
    "    @variable(model, ν[i=1:2, j=1:T-1, k=1:p]>=0) \n",
    "    @variable(model, μ[i=1:2, j=1:T, k=1:p]>=0)\n",
    "    \n",
    "    @variable(model, y[j=1:T])\n",
    "\n",
    "    \n",
    "    @constraint(model,[t=1:T], λ[1,:] .+ λ[2,:] .== 1)\n",
    "        \n",
    "        \n",
    "    @constraint(model, transpose(λ[2,:])*Z-transpose(λ[1,:])*Z \n",
    "                        + sum(transpose(ν[1,t,:])*(get_A(X, t+1).-get_A(X, t)) for t=1:T-1)\n",
    "                        + sum(transpose(ν[2,t,:])*(-get_A(X, t+1).+get_A(X, t)) for t=1:T-1)\n",
    "                        + sum(transpose(μ[1,t,:])*get_A(X,t) for t=1:T)\n",
    "                        - sum(transpose(μ[2,t,:])*get_A(X,t) for t=1:T) .== 0)\n",
    "\n",
    "    #y in uncertainty set\n",
    "    @constraint(model, [1:T], D_min .<= y)\n",
    "    @constraint(model, [1:T], y .<= D_max)\n",
    "       \n",
    "    # Add objective\n",
    "    @objective(model, Max, 2*dot(λ[1,:],y) - sum(y)\n",
    "                            - delta * sum(sum(ν[1,t,i]+ν[2,t,i] for i=1:p) for t=1:T-1)\n",
    "                            - sum(dot(epsilon .+ β0, μ[1,t,:]) for t = 1:T)\n",
    "                            - sum(dot(epsilon .- β0, μ[2,t,:]) for t = 1:T)) #\n",
    "    optimize!(model)\n",
    "    return objective_value(model), getvalue.(y), getvalue.(λ), getvalue.(ν), getvalue.(μ)\n",
    "end"
   ]
  },
  {
   "cell_type": "code",
   "execution_count": 201,
   "id": "outer-hardware",
   "metadata": {},
   "outputs": [
    {
     "data": {
      "text/plain": [
       "master_problem (generic function with 8 methods)"
      ]
     },
     "execution_count": 201,
     "metadata": {},
     "output_type": "execute_result"
    }
   ],
   "source": [
    "function master_problem(X0, Xt, y0, D_min, D_max, threshold = 0.1, epsilon = 0.1, delta = 0.1, reg = 1, ρ = 1, max_cuts = 10, verbose=0)\n",
    "    n, p = size(X0)\n",
    "    T, p = size(Xt)\n",
    "    #Z = get_Z(X0)\n",
    "    L_BD = -10000\n",
    "    U_BD = 10000\n",
    "    cuts = 0\n",
    "    \n",
    "    # Create model\n",
    "    model = Model(() -> Gurobi.Optimizer(GRB_ENV))#Model(with_optimizer(Gurobi.Optimizer))\n",
    "    set_optimizer_attribute(model, \"OutputFlag\", 0)\n",
    "    \n",
    "    # Add variables\n",
    "    @variable(model, α)\n",
    "    @variable(model, β[j=1:p])\n",
    "    \n",
    "    #Warm start for β\n",
    "    β_val0 = l2_regression(X0, y0, ρ)#Random.rand(p)#\n",
    "    \n",
    "    #Initialization\n",
    "    _, y_val0, λ_val0, ν_val0, μ_val0 = R(Xt, D_min, D_max, β_val0, epsilon, delta)\n",
    "    \n",
    "    #First constraint\n",
    "    @constraint(model, α >= 2*dot(λ_val0[1,:],y_val0) - sum(y_val0)\n",
    "                            - delta * sum(sum(ν_val0[1,t,i]+ν_val0[2,t,i] for i=1:p) for t=1:T-1)\n",
    "                            - sum(dot(epsilon .+ β, μ_val0[1,t,:]) for t = 1:T)\n",
    "                            - sum(dot(epsilon .- β, μ_val0[2,t,:]) for t = 1:T))\n",
    "       \n",
    "    # Add objective\n",
    "    @objective(model, Min, 1/n*sum((y0[i]-sum(X0[i,j]*β[j] for j=1:p))^2 for i=1:n) + reg*α + ρ*sum(β[j]^2 for j=1:p))\n",
    "    \n",
    "    while cuts < max_cuts && U_BD - L_BD > threshold\n",
    "        if verbose\n",
    "            println(\"Lower: \", L_BD, \" Upper: \", U_BD)\n",
    "        end\n",
    "        cuts += 1\n",
    "        \n",
    "        #Solve current Master Problem\n",
    "        β_val, α_val, L_BD = solve_model_benders(model)\n",
    "        U_OA, y_val, λ_val, ν_val, μ_val = R(Xt, D_min, D_max, β_val, epsilon, delta)\n",
    "        \n",
    "        U_BD = 1/n*sum((y0[i]-sum(X0[i,j]*β_val[j] for j=1:p))^2 for i=1:n) + reg*U_OA + ρ*sum(β_val[j]^2 for j=1:p)\n",
    "        \n",
    "        if U_BD - L_BD > threshold\n",
    "            @constraint(model, α >= 2*dot(λ_val[1,:],y_val) - sum(y_val)\n",
    "                            - delta * sum(sum(ν_val[1,t,i]+ν_val[2,t,i] for i=1:p) for t=1:T-1)\n",
    "                            - sum(dot(epsilon .+ β, μ_val[1,t,:]) for t = 1:T)\n",
    "                            - sum(dot(epsilon .- β, μ_val[2,t,:]) for t = 1:T))\n",
    "            if verbose                    \n",
    "                println(\"Cut added\")\n",
    "                println(\"y_val: \", y_val)\n",
    "            end\n",
    "        end\n",
    "    end\n",
    "    optimize!(model)\n",
    "    β_val, α_val, L_BD = solve_model_benders(model)\n",
    "    U_OA, y_val, λ_val, ν_val, μ_val = R(Xt, D_min, D_max, β_val, epsilon, delta)\n",
    "    if verbose\n",
    "        println(\"Final model Obj value: \", objective_value(model))\n",
    "        println(\"Lower: \", L_BD, \" Upper: \", U_BD)\n",
    "        println(\"Final y: \", y_val)\n",
    "    end\n",
    "    return objective_value(model), getvalue.(β), getvalue.(α), y_val#, getvalue.(ν), getvalue.(μ)\n",
    "end    "
   ]
  },
  {
   "cell_type": "code",
   "execution_count": 120,
   "id": "copyrighted-latino",
   "metadata": {},
   "outputs": [],
   "source": [
    "X_test_adaptive = CSV.read(\"traffic_predictions_test_val.csv\", DataFrame)\n",
    "select!(X_test_adaptive, Not([:DummyRegressor,:Lasso, :LassoLars]))#, index = 'Unnamed: 0')\n",
    "y_test = CSV.read(\"traffic_test_val_scaled.csv\", DataFrame)#, index = 'Unnamed: 0')\n",
    "n0 = 1000\n",
    "n = 100\n",
    "m = 1\n",
    "X = X_test_adaptive[!,1:25]\n",
    "y = y_test[!, \"target\"];\n",
    "X0 = Matrix(X[n0:n0+n,:])\n",
    "X0[:,1] = ones(n+1)\n",
    "y0 = y[n0:n0+n,:][:]\n",
    "\n",
    "yt_true = y[n0+n+1:n0+n+m,:][:]\n",
    "Xt = Matrix(X[n0+n+1:n0+n+m,:])\n",
    "Xt[:,1] = ones(m)\n",
    "yt = mean(Xt, dims = 2)#y[n0+n+1:n0+n+m,:][:]\n",
    "epsilon = 0.01\n",
    "delta = 0.01\n",
    "threshold = 1e-8\n",
    "reg = 1;\n",
    "\n",
    "#X_test_adaptive = X_test_adaptive.drop(columns = ['DummyRegressor', 'Lasso', 'LassoLars'])"
   ]
  },
  {
   "cell_type": "code",
   "execution_count": 145,
   "id": "243cdb6d",
   "metadata": {},
   "outputs": [
    {
     "data": {
      "text/plain": [
       "prepare_data_from_X (generic function with 1 method)"
      ]
     },
     "execution_count": 145,
     "metadata": {},
     "output_type": "execute_result"
    }
   ],
   "source": [
    "function prepare_data_from_X(X, y, n0, n, m, std_factor)\n",
    "    \n",
    "    X0 = Matrix(X[n0:n0+n,:])\n",
    "    X0[:,1] = ones(n+1)\n",
    "    y0 = y[n0:n0+n,:][:]\n",
    "\n",
    "    yt_true = y[n0+n+1:n0+n+m,:][:]\n",
    "    Xt = Matrix(X[n0+n+1:n0+n+m,:])\n",
    "    Xt[:,1] = ones(m)\n",
    "    yt = mean(Xt, dims = 2)\n",
    "    \n",
    "    D_min = yt .- std_factor*std(Xt, dims = 2)\n",
    "    D_max = yt .+ std_factor*std(Xt, dims = 2)\n",
    "    \n",
    "    return X0, y0, Xt, yt, yt_true, D_min, D_max\n",
    "end"
   ]
  },
  {
   "cell_type": "code",
   "execution_count": 168,
   "id": "referenced-composition",
   "metadata": {},
   "outputs": [
    {
     "data": {
      "text/plain": [
       "prepare_data_from_y (generic function with 2 methods)"
      ]
     },
     "execution_count": 168,
     "metadata": {},
     "output_type": "execute_result"
    }
   ],
   "source": [
    "function prepare_data_from_y(X, y, n0, n, m, uncertainty, last_yT = false)\n",
    "    \n",
    "    X0 = Matrix(X[n0:n0+n,:])\n",
    "    X0[:,1] = ones(n+1)\n",
    "    y0 = y[n0:n0+n,:][:]\n",
    "\n",
    "    yt_true = y[n0+n+1:n0+n+m,:][:]\n",
    "    Xt = Matrix(X[n0+n+1:n0+n+m,:])\n",
    "    Xt[:,1] = ones(m)\n",
    "    yt = yt_true\n",
    "    if last_yT\n",
    "        yt_true[m] = mean(Xt[m])\n",
    "    end\n",
    "    \n",
    "    D_min = yt .- uncertainty.*abs.(yt)\n",
    "    D_max = yt .+ uncertainty.*abs.(yt)\n",
    "    \n",
    "    return X0, y0, Xt, yt, yt_true, D_min, D_max\n",
    "end"
   ]
  },
  {
   "cell_type": "code",
   "execution_count": 97,
   "id": "5b6772ce",
   "metadata": {},
   "outputs": [
    {
     "data": {
      "text/plain": [
       "build_beta (generic function with 1 method)"
      ]
     },
     "execution_count": 97,
     "metadata": {},
     "output_type": "execute_result"
    }
   ],
   "source": [
    "function build_beta(X, y, n0, n, m, std_factor, steps)\n",
    "    p = size(X)[2]\n",
    "    β_list = zeros(steps, p)\n",
    "    for s=1:steps\n",
    "        X0, y0, Xt, yt, yt_true, D_min, D_max = prepare_data(X, y, n0+s, n, m, std_factor)\n",
    "        obj, β, α, y_val = master_problem(X0, Xt, y0, D_min, D_max, threshold, epsilon, delta, reg, 1, 20, false)\n",
    "        β_list[s,:] = β\n",
    "    end\n",
    "    return β_list\n",
    "end"
   ]
  },
  {
   "cell_type": "code",
   "execution_count": 214,
   "id": "applied-resort",
   "metadata": {},
   "outputs": [
    {
     "data": {
      "text/plain": [
       "eval (generic function with 7 methods)"
      ]
     },
     "execution_count": 214,
     "metadata": {},
     "output_type": "execute_result"
    }
   ],
   "source": [
    "function eval(X, y, split, epsilon, delta, past, reg = 1, max_cuts = 10, verbose = false, last_yT = true)\n",
    "    n, p = size(X)\n",
    "    split_index = floor(Int,n*split)\n",
    "    val = 3#n-split_index\n",
    "    β_list = zeros(val, p)\n",
    "    for s=1:10 #n-split_index #s+split_index-past\n",
    "        X0, y0, Xt, yt, yt_true, D_min, D_max = prepare_data_from_y(X, y, s+split_index-4*past, 3*past, past-1, 0.001, last_yT)\n",
    "        obj, β0_val, α, y_val = master_problem(X0, Xt, y0, D_min, D_max, threshold, epsilon, delta, reg, 1, max_cuts, verbose)\n",
    "        _, βt_val = S_primal(Xt, y_val, β0_val, epsilon, delta);\n",
    "        #println(\"Beta.     \", size(Xt))\n",
    "        β_list[s,:] = βt_val[past-1,:]\n",
    "    end\n",
    "    X0, y0, Xt, yt, yt_true, D_min, D_max = prepare_data_from_y(X, y, 1, split_index, val, 0.001, last_yT)\n",
    "    println(\"MAE :\", mean(abs(yt_true[s]-dot(Xt[s,:],β_list[s,:])) for s=1:val))\n",
    "    return β_list\n",
    "end"
   ]
  },
  {
   "cell_type": "code",
   "execution_count": 215,
   "id": "national-local",
   "metadata": {},
   "outputs": [
    {
     "name": "stdout",
     "output_type": "stream",
     "text": [
      "Academic license - for non-commercial use only - expires 2022-07-20\n",
      "Obj 0.09082537931156584\n",
      "Academic license - for non-commercial use only - expires 2022-07-20\n",
      "Academic license - for non-commercial use only - expires 2022-07-20\n",
      "Obj 0.08724668554178527\n",
      "Academic license - for non-commercial use only - expires 2022-07-20\n",
      "Academic license - for non-commercial use only - expires 2022-07-20\n",
      "Obj 0.08488452647581426\n",
      "Academic license - for non-commercial use only - expires 2022-07-20\n",
      "Academic license - for non-commercial use only - expires 2022-07-20\n",
      "Obj 0.08997122187633676\n",
      "Academic license - for non-commercial use only - expires 2022-07-20\n"
     ]
    },
    {
     "ename": "LoadError",
     "evalue": "\u001b[91mBoundsError: attempt to access 3×25 Array{Float64,2} at index [4, 1:25]\u001b[39m",
     "output_type": "error",
     "traceback": [
      "\u001b[91mBoundsError: attempt to access 3×25 Array{Float64,2} at index [4, 1:25]\u001b[39m",
      "",
      "Stacktrace:",
      " [1] throw_boundserror(::Array{Float64,2}, ::Tuple{Int64,Base.Slice{Base.OneTo{Int64}}}) at /Applications/Julia-1.5.app/Contents/Resources/julia/lib/julia/sys.dylib:?",
      " [2] checkbounds at ./abstractarray.jl:506 [inlined]",
      " [3] _setindex! at ./multidimensional.jl:784 [inlined]",
      " [4] setindex! at ./abstractarray.jl:1153 [inlined]",
      " [5] eval(::DataFrame, ::Array{Float64,1}, ::Float64, ::Float64, ::Float64, ::Int64, ::Int64, ::Int64, ::Bool, ::Bool) at ./In[214]:11",
      " [6] top-level scope at In[215]:1",
      " [7] include_string(::Function, ::Module, ::String, ::String) at /Applications/Julia-1.5.app/Contents/Resources/julia/lib/julia/sys.dylib:?"
     ]
    }
   ],
   "source": [
    "β_list = eval(X, y, 0.8, 0.05, 0.05, 3, 1, 10, false, false)"
   ]
  },
  {
   "cell_type": "code",
   "execution_count": 212,
   "id": "retained-administrator",
   "metadata": {},
   "outputs": [
    {
     "name": "stdout",
     "output_type": "stream",
     "text": [
      "MAE :0.9323186307897555\n"
     ]
    }
   ],
   "source": [
    "n,p=size(X)\n",
    "val = 3\n",
    "X0, y0, Xt, yt, yt_true, D_min, D_max = prepare_data_from_y(X, y, 1, floor(Int,n*0.8), val, 0.01, true)\n",
    "println(\"MAE :\", mean(abs(yt_true[s]-dot(Xt[s,:],β_list[s,:])) for s=1:val))"
   ]
  },
  {
   "cell_type": "code",
   "execution_count": null,
   "id": "amber-identity",
   "metadata": {},
   "outputs": [],
   "source": []
  },
  {
   "cell_type": "code",
   "execution_count": 213,
   "id": "personalized-trailer",
   "metadata": {},
   "outputs": [
    {
     "name": "stdout",
     "output_type": "stream",
     "text": [
      "Academic license - for non-commercial use only - expires 2022-07-20\n",
      "Obj 0.11111526860147564\n",
      "MAE :0.15964074834050396\n"
     ]
    }
   ],
   "source": [
    "β_l2 = l2_regression(X0,y0,1);\n",
    "println(\"MAE :\", mean(abs(yt_true[s]-dot(Xt[s,:],β_l2)) for s=1:val))"
   ]
  },
  {
   "cell_type": "code",
   "execution_count": 142,
   "id": "528b1d98",
   "metadata": {},
   "outputs": [
    {
     "name": "stdout",
     "output_type": "stream",
     "text": [
      "Academic license - for non-commercial use only - expires 2022-07-20\n",
      "Obj 0.08787389193966332\n",
      "Lower: -10000 Upper: 10000\n",
      "Cut added\n",
      "y_val: [-0.4438634407028389, -0.2669528500875359]\n",
      "Lower: 0.08760871477928456 Upper: 0.09072526137029006\n",
      "Final model Obj value: 0.08846030179307285\n",
      "Lower: 0.08846030179307285 Upper: 0.08846030163598706\n",
      "Final y: [-0.4438634407028389, -0.2669528500875359]\n"
     ]
    },
    {
     "data": {
      "text/plain": [
       "(0.08846030179307285, [-0.010555923435534482, 0.02357447928307372, 0.06419459584974435, 0.03681621534625416, 0.052105526397892545, 0.010547208295995852, 0.0373715649914342, 0.04918739369128185, 0.06139584506532227, 0.024117591077050138  …  0.03755464350439953, 0.03774217544111385, 0.03796950165073218, 0.04138670022060396, 0.037278475748636936, 0.03731017474469322, 0.03704146928307171, 0.0368889792709088, 0.024117591077092625, 0.05948026684979625], 6.352980433388389e-10, [-0.4438634407028389, -0.2669528500875359])"
      ]
     },
     "execution_count": 142,
     "metadata": {},
     "output_type": "execute_result"
    }
   ],
   "source": [
    "X0, y0, Xt, yt, yt_true, D_min, D_max = prepare_data(X, y, 300, 400, 2, 0.)\n",
    "obj, β0_val, _, y_val = master_problem(X0, Xt, y0, D_min, D_max, threshold, epsilon, delta, 0.1, 1, 20, true)"
   ]
  },
  {
   "cell_type": "code",
   "execution_count": 126,
   "id": "thousand-richards",
   "metadata": {},
   "outputs": [
    {
     "data": {
      "text/plain": [
       "-0.5391849574368471"
      ]
     },
     "execution_count": 126,
     "metadata": {},
     "output_type": "execute_result"
    }
   ],
   "source": [
    "dot(Xt, β0_val)"
   ]
  },
  {
   "cell_type": "code",
   "execution_count": 128,
   "id": "lesser-cross",
   "metadata": {},
   "outputs": [
    {
     "data": {
      "text/plain": [
       "1×1 Array{Float64,2}:\n",
       " -0.480331955523085"
      ]
     },
     "execution_count": 128,
     "metadata": {},
     "output_type": "execute_result"
    }
   ],
   "source": [
    "D_max"
   ]
  },
  {
   "cell_type": "code",
   "execution_count": 141,
   "id": "regional-timothy",
   "metadata": {},
   "outputs": [
    {
     "name": "stdout",
     "output_type": "stream",
     "text": [
      "Academic license - for non-commercial use only - expires 2022-07-20\n"
     ]
    },
    {
     "data": {
      "text/plain": [
       "(0.0914606697632886, [-0.01605447853055833 0.048839964337049756 … 0.019304816250879667 0.04047133031571596], [-0.02605447853055833, 0.038840003747559526, 0.05046802964917312, 0.03951901122493026, 0.051472762910782004, 0.007897039311877045, 0.038434643892448876, 0.05076479206901466, 0.0523842061322568, 0.029304816250884356  …  0.038481593528194934, 0.03808749329225117, 0.036636309341023444, 0.025842802267554997, 0.03876248897304282, 0.03873338794850366, 0.039896930879418674, 0.039612406486677056, 0.029304816250879665, 0.05047133031571596])"
      ]
     },
     "execution_count": 141,
     "metadata": {},
     "output_type": "execute_result"
    }
   ],
   "source": [
    "X0, y0, Xt, yt, yt_true, D_min, D_max = prepare_data_from_X(X, y, 300, 400, 1, 0.)\n",
    "obj, βt_val, β0_val = master_primal(X0, Xt, y0, D_min, D_max, epsilon, delta, reg, 1)"
   ]
  },
  {
   "cell_type": "code",
   "execution_count": 139,
   "id": "multiple-analysis",
   "metadata": {},
   "outputs": [
    {
     "name": "stdout",
     "output_type": "stream",
     "text": [
      "Academic license - for non-commercial use only - expires 2022-07-20\n"
     ]
    },
    {
     "data": {
      "text/plain": [
       "1×25 Array{Float64,2}:\n",
       " -0.0160545  0.02884  0.040468  0.029519  …  0.0296124  0.0291801  0.0404713"
      ]
     },
     "execution_count": 139,
     "metadata": {},
     "output_type": "execute_result"
    }
   ],
   "source": [
    "obj, βt_val = S_primal(Xt, y_val, β0_val, epsilon, delta);\n",
    "βt_val"
   ]
  },
  {
   "cell_type": "code",
   "execution_count": 140,
   "id": "infinite-individual",
   "metadata": {},
   "outputs": [
    {
     "ename": "LoadError",
     "evalue": "\u001b[91mBoundsError: attempt to access 1×25 Array{Float64,2} at index [2, 1:25]\u001b[39m",
     "output_type": "error",
     "traceback": [
      "\u001b[91mBoundsError: attempt to access 1×25 Array{Float64,2} at index [2, 1:25]\u001b[39m",
      "",
      "Stacktrace:",
      " [1] throw_boundserror(::Array{Float64,2}, ::Tuple{Int64,Base.Slice{Base.OneTo{Int64}}}) at /Applications/Julia-1.5.app/Contents/Resources/julia/lib/julia/sys.dylib:?",
      " [2] checkbounds at ./abstractarray.jl:506 [inlined]",
      " [3] _getindex at ./multidimensional.jl:742 [inlined]",
      " [4] getindex(::Array{Float64,2}, ::Int64, ::Function) at ./abstractarray.jl:1060",
      " [5] top-level scope at In[140]:2",
      " [6] include_string(::Function, ::Module, ::String, ::String) at /Applications/Julia-1.5.app/Contents/Resources/julia/lib/julia/sys.dylib:?"
     ]
    }
   ],
   "source": [
    "i = 2\n",
    "println(dot(βt_val[i,:],Xt[i,:]))\n",
    "println(dot(β0_val,Xt[i,:]))\n",
    "println(D_min[i])\n",
    "println(D_max[i])\n",
    "println(yt_true[i])"
   ]
  },
  {
   "cell_type": "code",
   "execution_count": 143,
   "id": "seasonal-classic",
   "metadata": {},
   "outputs": [
    {
     "data": {
      "text/plain": [
       "2-element Array{Float64,1}:\n",
       " -0.6861589988354124\n",
       " -0.43445003682314165"
      ]
     },
     "execution_count": 143,
     "metadata": {},
     "output_type": "execute_result"
    }
   ],
   "source": [
    "yt_true"
   ]
  },
  {
   "cell_type": "code",
   "execution_count": 78,
   "id": "violent-caribbean",
   "metadata": {},
   "outputs": [
    {
     "data": {
      "text/plain": [
       "5-element Array{Float64,1}:\n",
       " 0.11319981345745399\n",
       " 0.1467830496468457\n",
       " 0.1352065913756849\n",
       " 0.16110033703301518\n",
       " 0.16100067847060895"
      ]
     },
     "execution_count": 78,
     "metadata": {},
     "output_type": "execute_result"
    }
   ],
   "source": [
    "β0_val"
   ]
  },
  {
   "cell_type": "code",
   "execution_count": 49,
   "id": "2946993b",
   "metadata": {},
   "outputs": [
    {
     "name": "stdout",
     "output_type": "stream",
     "text": [
      "Academic license - for non-commercial use only - expires 2022-07-20\n",
      "Obj 0.17678775118403384\n",
      "Final model Obj value: 0.1767872974899367\n",
      "Lower: 0.1767872974899367 Upper: 0.17678729748993643\n",
      "Final y: [0.6826032305417639]\n",
      "Academic license - for non-commercial use only - expires 2022-07-20\n",
      "Obj 0.13075599007301014\n",
      "Final model Obj value: 0.13075585689199842\n",
      "Lower: 0.13075585689199842 Upper: 0.13075585689199343\n",
      "Final y: [0.744526188263374]\n",
      "Academic license - for non-commercial use only - expires 2022-07-20\n",
      "Obj 0.12714497284627793\n",
      "Final model Obj value: 0.1271446049595617\n",
      "Lower: 0.1271446049595617 Upper: 0.1271446049595239\n",
      "Final y: [1.0578491679073934]\n",
      "Academic license - for non-commercial use only - expires 2022-07-20\n",
      "Obj 0.09130690729345065\n",
      "Final model Obj value: 0.0913067873698079\n",
      "Lower: 0.0913067873698079 Upper: 0.09130678736980788\n",
      "Final y: [0.7547057491308419]\n",
      "Academic license - for non-commercial use only - expires 2022-07-20\n",
      "Obj 0.10258651992052309\n",
      "Final model Obj value: 0.10258627333319659\n",
      "Lower: 0.10258627333319659 Upper: 0.10258627333319008\n",
      "Final y: [0.4842926253325174]\n",
      "Academic license - for non-commercial use only - expires 2022-07-20\n",
      "Obj 0.10411285106057698\n",
      "Final model Obj value: 0.10411283683468942\n",
      "Lower: 0.10411283683468942 Upper: 0.10411283683468776\n",
      "Final y: [0.5461703484036644]\n",
      "Academic license - for non-commercial use only - expires 2022-07-20\n",
      "Obj 0.03064807987931934\n",
      "Final model Obj value: 0.03064800155381403\n",
      "Lower: 0.03064800155381403 Upper: 0.030648001553822427\n",
      "Final y: [0.6431820833236211]\n",
      "Academic license - for non-commercial use only - expires 2022-07-20\n",
      "Obj 0.023545534412534937\n",
      "Final model Obj value: 0.02354549202052475\n",
      "Lower: 0.02354549202052475 Upper: 0.023545492020524597\n",
      "Final y: [0.6495803852997806]\n",
      "Academic license - for non-commercial use only - expires 2022-07-20\n",
      "Obj 0.026774850295509328\n",
      "Final model Obj value: 0.02677438547221017\n",
      "Lower: 0.02677438547221017 Upper: 0.02677438547220836\n",
      "Final y: [0.6966857125312169]\n",
      "Academic license - for non-commercial use only - expires 2022-07-20\n",
      "Obj 0.03202755675221289\n",
      "Final model Obj value: 0.03202746560425607\n",
      "Lower: 0.03202746560425607 Upper: 0.032027465604268585\n",
      "Final y: [0.7245582672517843]\n",
      "Academic license - for non-commercial use only - expires 2022-07-20\n",
      "Obj 0.04834434452807472\n",
      "Final model Obj value: 0.04834427949402054\n",
      "Lower: 0.04834427949402054 Upper: 0.04834427949401687\n",
      "Final y: [0.8242343081027763]\n",
      "Academic license - for non-commercial use only - expires 2022-07-20\n",
      "Obj 0.06920443680800556\n",
      "Final model Obj value: 0.06920433597256093\n",
      "Lower: 0.06920433597256093 Upper: 0.06920433597254924\n",
      "Final y: [0.9128138793459487]\n",
      "Academic license - for non-commercial use only - expires 2022-07-20\n",
      "Obj 0.06561918080498023\n",
      "Final model Obj value: 0.06561917646416227\n",
      "Lower: 0.06561917646416227 Upper: 0.06561917646416418\n",
      "Final y: [0.5791765207528337]\n",
      "Academic license - for non-commercial use only - expires 2022-07-20\n",
      "Obj 0.07796721694654088\n",
      "Final model Obj value: 0.07796711907143283\n",
      "Lower: 0.07796711907143283 Upper: 0.0779671190714376\n",
      "Final y: [-0.020598413672517843]\n",
      "Academic license - for non-commercial use only - expires 2022-07-20\n",
      "Obj 0.08077993499844838\n",
      "Final model Obj value: 0.08077964547991467\n",
      "Lower: 0.08077964547991467 Upper: 0.08077964547991509\n",
      "Final y: [-0.38978038914815466]\n",
      "Academic license - for non-commercial use only - expires 2022-07-20\n",
      "Obj 0.05156654443763949\n",
      "Final model Obj value: 0.0515659320262164\n",
      "Lower: 0.0515659320262164 Upper: 0.05156593202621873\n",
      "Final y: [-0.46954135480204306]\n",
      "Academic license - for non-commercial use only - expires 2022-07-20\n",
      "Obj 0.021627134562761264\n",
      "Final model Obj value: 0.021627052048510398\n",
      "Lower: 0.021627052048510398 Upper: 0.02162705204851032\n",
      "Final y: [-0.5842744949607078]\n",
      "Academic license - for non-commercial use only - expires 2022-07-20\n",
      "Obj 0.0359785829095894\n",
      "Final model Obj value: 0.035978416494219984\n",
      "Lower: 0.035978416494219984 Upper: 0.03597841649421966\n",
      "Final y: [-0.8555759844183572]\n",
      "Academic license - for non-commercial use only - expires 2022-07-20\n",
      "Obj 0.05794473663330791\n",
      "Final model Obj value: 0.05794432898414997\n",
      "Lower: 0.05794432898414997 Upper: 0.057944328984148724\n",
      "Final y: [-1.219982315572521]\n",
      "Academic license - for non-commercial use only - expires 2022-07-20\n",
      "Obj 0.05989965854006677\n",
      "Final model Obj value: 0.05989954321197766\n",
      "Lower: 0.05989954321197766 Upper: 0.05989954321196431\n",
      "Final y: [-1.4010029670692632]\n",
      "Academic license - for non-commercial use only - expires 2022-07-20\n",
      "Obj 0.057881082263023666\n",
      "Final model Obj value: 0.05788102717879595\n",
      "Lower: 0.05788102717879595 Upper: 0.057881027178775094\n",
      "Final y: [-1.3624073942173125]\n",
      "Academic license - for non-commercial use only - expires 2022-07-20\n",
      "Obj 0.05907045809000369\n",
      "Final model Obj value: 0.05907036046657854\n",
      "Lower: 0.05907036046657854 Upper: 0.05907036046654563\n",
      "Final y: [-1.4387183113024973]\n",
      "Academic license - for non-commercial use only - expires 2022-07-20\n",
      "Obj 0.05200439664673055\n",
      "Final model Obj value: 0.05200434040351687\n",
      "Lower: 0.05200434040351687 Upper: 0.05200434040357516\n",
      "Final y: [-1.3962197045383806]\n",
      "Academic license - for non-commercial use only - expires 2022-07-20\n",
      "Obj 0.05115658412275707\n",
      "Final model Obj value: 0.05115653386570229\n",
      "Lower: 0.05115653386570229 Upper: 0.051156533865682224\n",
      "Final y: [-1.3854014312211174]\n",
      "Academic license - for non-commercial use only - expires 2022-07-20\n",
      "Obj 0.050510653927232585\n",
      "Final model Obj value: 0.05051058644146389\n",
      "Lower: 0.05051058644146389 Upper: 0.050510586441361256\n",
      "Final y: [-1.3751347277006372]\n",
      "Academic license - for non-commercial use only - expires 2022-07-20\n",
      "Obj 0.04991116948547443\n",
      "Final model Obj value: 0.049911167387879374\n",
      "Lower: 0.049911167387879374 Upper: 0.04991116738785619\n",
      "Final y: [-1.2896468710685323]\n",
      "Academic license - for non-commercial use only - expires 2022-07-20\n",
      "Obj 0.05108738673159843\n",
      "Final model Obj value: 0.05108737747306402\n",
      "Lower: 0.05108737747306402 Upper: 0.05108737747315021\n",
      "Final y: [-0.8592942663617993]\n",
      "Academic license - for non-commercial use only - expires 2022-07-20\n",
      "Obj 0.07653205518324357\n",
      "Final model Obj value: 0.07653177575352443\n",
      "Lower: 0.07653177575352443 Upper: 0.07653177575349467\n",
      "Final y: [-0.7833636581702954]\n",
      "Academic license - for non-commercial use only - expires 2022-07-20\n",
      "Obj 0.11918680656175812\n",
      "Final model Obj value: 0.11918679159019385\n",
      "Lower: 0.11918679159019385 Upper: 0.11918679159024735\n",
      "Final y: [-0.06579044735656048]\n",
      "Academic license - for non-commercial use only - expires 2022-07-20\n",
      "Obj 0.12496954764765539\n",
      "Final model Obj value: 0.12496951369262055\n",
      "Lower: 0.12496951369262055 Upper: 0.12496951369262453\n",
      "Final y: [-0.0428336449008862]\n",
      "Academic license - for non-commercial use only - expires 2022-07-20\n",
      "Obj 0.16588690802601122\n",
      "Final model Obj value: 0.16588678988769912\n",
      "Lower: 0.16588678988769912 Upper: 0.16588678988770122\n",
      "Final y: [0.719086336349042]\n",
      "Academic license - for non-commercial use only - expires 2022-07-20\n",
      "Obj 0.08990550278899875\n",
      "Final model Obj value: 0.08990546032175856\n",
      "Lower: 0.08990546032175856 Upper: 0.08990546032175925\n",
      "Final y: [0.6242659590910853]\n",
      "Academic license - for non-commercial use only - expires 2022-07-20\n",
      "Obj 0.1327419677906375\n",
      "Final model Obj value: 0.13274192739569546\n",
      "Lower: 0.13274192739569546 Upper: 0.1327419273957034\n",
      "Final y: [0.9624400748818795]\n",
      "Academic license - for non-commercial use only - expires 2022-07-20\n",
      "Obj 0.13249769075031403\n",
      "Final model Obj value: 0.13249760976337055\n",
      "Lower: 0.13249760976337055 Upper: 0.13249760976337596\n",
      "Final y: [0.4796417944003848]\n",
      "Academic license - for non-commercial use only - expires 2022-07-20\n",
      "Obj 0.12236868303287067\n",
      "Final model Obj value: 0.12236816914328885\n",
      "Lower: 0.12236816914328885 Upper: 0.12236816914329068\n",
      "Final y: [0.26694019180378553]\n",
      "Academic license - for non-commercial use only - expires 2022-07-20\n",
      "Obj 0.12417545631275842\n",
      "Final model Obj value: 0.12417519715873276\n",
      "Lower: 0.12417519715873276 Upper: 0.12417519715873127\n",
      "Final y: [0.49216851229701264]\n",
      "Academic license - for non-commercial use only - expires 2022-07-20\n",
      "Obj 0.02070287437443888\n",
      "Final model Obj value: 0.020702771512547596\n",
      "Lower: 0.020702771512547596 Upper: 0.02070277151254897\n",
      "Final y: [0.5797195630176082]\n",
      "Academic license - for non-commercial use only - expires 2022-07-20\n",
      "Obj 0.021995946589836612\n",
      "Final model Obj value: 0.02199537476026664\n",
      "Lower: 0.02199537476026664 Upper: 0.021995374760265047\n",
      "Final y: [0.5636689300484978]\n",
      "Academic license - for non-commercial use only - expires 2022-07-20\n",
      "Obj 0.021087787676684844\n",
      "Final model Obj value: 0.021087707227266356\n",
      "Lower: 0.021087707227266356 Upper: 0.021087707227266418\n",
      "Final y: [0.49919197011217253]\n",
      "Academic license - for non-commercial use only - expires 2022-07-20\n",
      "Obj 0.03127749872634146\n",
      "Final model Obj value: 0.03127729688694997\n",
      "Lower: 0.03127729688694997 Upper: 0.03127729688694876\n",
      "Final y: [0.6250206174898091]\n",
      "Academic license - for non-commercial use only - expires 2022-07-20\n",
      "Obj 0.06618173363593223\n",
      "Final model Obj value: 0.06618169233799531\n",
      "Lower: 0.06618169233799531 Upper: 0.06618169233799256\n",
      "Final y: [0.8308962863478817]\n"
     ]
    },
    {
     "name": "stdout",
     "output_type": "stream",
     "text": [
      "Academic license - for non-commercial use only - expires 2022-07-20\n",
      "Obj 0.06367296570953485\n",
      "Final model Obj value: 0.06367281033954875\n",
      "Lower: 0.06367281033954875 Upper: 0.06367281033954741\n",
      "Final y: [0.6584428363579891]\n",
      "Academic license - for non-commercial use only - expires 2022-07-20\n",
      "Obj 0.05546725363393629\n",
      "Final model Obj value: 0.055467151521738534\n",
      "Lower: 0.055467151521738534 Upper: 0.05546715152174092\n",
      "Final y: [0.30424920788426074]\n",
      "Academic license - for non-commercial use only - expires 2022-07-20\n",
      "Obj 0.0557881241930975\n",
      "Final model Obj value: 0.05578768227391562\n",
      "Lower: 0.05578768227391562 Upper: 0.05578768227392586\n",
      "Final y: [0.0062057990179668066]\n",
      "Academic license - for non-commercial use only - expires 2022-07-20\n",
      "Obj 0.03626864562703076\n",
      "Final model Obj value: 0.03626844464203405\n",
      "Lower: 0.03626844464203405 Upper: 0.03626844464203817\n",
      "Final y: [-0.27977499947713313]\n",
      "Academic license - for non-commercial use only - expires 2022-07-20\n",
      "Obj 0.07072991757021195\n",
      "Final model Obj value: 0.07072977952027368\n",
      "Lower: 0.07072977952027368 Upper: 0.07072977952027332\n",
      "Final y: [-0.7953551957613951]\n",
      "Academic license - for non-commercial use only - expires 2022-07-20\n",
      "Obj 0.07928299438894329\n",
      "Final model Obj value: 0.07928250496656125\n",
      "Lower: 0.07928250496656125 Upper: 0.07928250496656201\n",
      "Final y: [-1.116743966690007]\n",
      "Academic license - for non-commercial use only - expires 2022-07-20\n",
      "Obj 0.10371535507340668\n",
      "Final model Obj value: 0.10371524392072262\n",
      "Lower: 0.10371524392072262 Upper: 0.10371524392071677\n",
      "Final y: [-1.4713133280865245]\n",
      "Academic license - for non-commercial use only - expires 2022-07-20\n",
      "Obj 0.10390384503189015\n",
      "Final model Obj value: 0.10390338097459795\n",
      "Lower: 0.10390338097459795 Upper: 0.10390338097452821\n",
      "Final y: [-1.4353812687688894]\n",
      "Academic license - for non-commercial use only - expires 2022-07-20\n",
      "Obj 0.08930481771051452\n",
      "Final model Obj value: 0.08930473017318619\n",
      "Lower: 0.08930473017318619 Upper: 0.08930473017323498\n",
      "Final y: [-1.5170171409381277]\n"
     ]
    },
    {
     "data": {
      "text/plain": [
       "50×25 Array{Float64,2}:\n",
       " -0.00901722   0.0128371   0.0725933  …  0.00439653  0.0283151   0.0917659\n",
       "  0.0388874    0.0182138   0.0860287     0.00690201  0.009431    0.0829059\n",
       "  0.0956687    0.0367704   0.101198      0.00957185  0.03065     0.103795\n",
       "  0.0522433    0.0238422   0.0656542     0.0326161   0.0360279   0.0544601\n",
       "  0.0429721    0.0359026   0.0663926     0.0304805   0.013401    0.0529684\n",
       "  0.0353997    0.0351328   0.0680139  …  0.0305594   0.00622853  0.0536762\n",
       "  0.030162     0.0342177   0.0337154     0.0344374   0.0236998   0.0331107\n",
       "  0.0436805    0.0181207   0.0292767     0.0285317   0.0365182   0.0281481\n",
       "  0.0442888    0.0184294   0.0300628     0.0316146   0.0387196   0.0284406\n",
       "  0.0431871    0.0185898   0.0352254     0.0334934   0.0384213   0.0331581\n",
       "  0.0430052    0.0205949   0.0415171  …  0.0362833   0.0354887   0.0448324\n",
       "  0.0388159    0.0208901   0.0578486     0.0405223   0.0263171   0.0583788\n",
       "  0.0443612    0.02239     0.0558603     0.0430831   0.0332264   0.0553488\n",
       "  ⋮                                   ⋱                          \n",
       "  0.0504329    0.0137258   0.0211161     0.0261014   0.0370067   0.0235857\n",
       "  0.0494113    0.0109756   0.0250698     0.0289942   0.0377775   0.0248295\n",
       "  0.0493075    0.0147144   0.0298931  …  0.0363692   0.034526    0.0364756\n",
       "  0.0494318    0.0200222   0.0339665     0.0394944   0.034206    0.041458\n",
       "  0.0568733    0.0184886   0.0313974     0.0424462   0.0437433   0.0377479\n",
       "  0.0459342    0.0187351   0.0307346     0.0419873   0.0390024   0.0386354\n",
       "  0.0201053    0.0161655   0.0378729     0.0364165   0.026084    0.0436927\n",
       " -0.0568587   -0.00469258  0.0395831  …  0.0437681   0.0289089   0.0354042\n",
       " -0.0894926   -0.00852463  0.0390665     0.0523126   0.029475    0.0361154\n",
       " -0.0967969    0.00500423  0.0712089     0.0577666   0.0385415   0.0370508\n",
       " -0.0957011    0.00554356  0.0696075     0.0592954   0.0395584   0.0336157\n",
       " -0.0537624    0.0156458   0.0723941     0.058387    0.0441063   0.0402933"
      ]
     },
     "execution_count": 49,
     "metadata": {},
     "output_type": "execute_result"
    }
   ],
   "source": [
    "β_list = build_beta(X,y,1000,3,1,0.5,50)"
   ]
  },
  {
   "cell_type": "code",
   "execution_count": 50,
   "id": "72cc6085",
   "metadata": {},
   "outputs": [
    {
     "data": {
      "image/svg+xml": [
       "<?xml version=\"1.0\" encoding=\"utf-8\"?>\n",
       "<svg xmlns=\"http://www.w3.org/2000/svg\" xmlns:xlink=\"http://www.w3.org/1999/xlink\" width=\"750\" height=\"750\" viewBox=\"0 0 3000 3000\">\n",
       "<defs>\n",
       "  <clipPath id=\"clip010\">\n",
       "    <rect x=\"0\" y=\"0\" width=\"3000\" height=\"3000\"/>\n",
       "  </clipPath>\n",
       "</defs>\n",
       "<path clip-path=\"url(#clip010)\" d=\"\n",
       "M0 3000 L3000 3000 L3000 0 L0 0  Z\n",
       "  \" fill=\"#ffffff\" fill-rule=\"evenodd\" fill-opacity=\"1\"/>\n",
       "<defs>\n",
       "  <clipPath id=\"clip011\">\n",
       "    <rect x=\"600\" y=\"300\" width=\"2101\" height=\"2101\"/>\n",
       "  </clipPath>\n",
       "</defs>\n",
       "<path clip-path=\"url(#clip010)\" d=\"\n",
       "M75.6669 2941.29 L2988.19 2941.29 L2988.19 11.811 L75.6669 11.811  Z\n",
       "  \" fill=\"#ffffff\" fill-rule=\"evenodd\" fill-opacity=\"1\"/>\n",
       "<defs>\n",
       "  <clipPath id=\"clip012\">\n",
       "    <rect x=\"75\" y=\"11\" width=\"2914\" height=\"2930\"/>\n",
       "  </clipPath>\n",
       "</defs>\n",
       "<polyline clip-path=\"url(#clip012)\" style=\"stroke:#000000; stroke-width:0.5; stroke-opacity:0.1; fill:none\" points=\"\n",
       "  102.022,2941.29 102.022,11.811 \n",
       "  \"/>\n",
       "<polyline clip-path=\"url(#clip012)\" style=\"stroke:#000000; stroke-width:0.5; stroke-opacity:0.1; fill:none\" points=\"\n",
       "  662.769,2941.29 662.769,11.811 \n",
       "  \"/>\n",
       "<polyline clip-path=\"url(#clip012)\" style=\"stroke:#000000; stroke-width:0.5; stroke-opacity:0.1; fill:none\" points=\"\n",
       "  1223.52,2941.29 1223.52,11.811 \n",
       "  \"/>\n",
       "<polyline clip-path=\"url(#clip012)\" style=\"stroke:#000000; stroke-width:0.5; stroke-opacity:0.1; fill:none\" points=\"\n",
       "  1784.26,2941.29 1784.26,11.811 \n",
       "  \"/>\n",
       "<polyline clip-path=\"url(#clip012)\" style=\"stroke:#000000; stroke-width:0.5; stroke-opacity:0.1; fill:none\" points=\"\n",
       "  2345.01,2941.29 2345.01,11.811 \n",
       "  \"/>\n",
       "<polyline clip-path=\"url(#clip012)\" style=\"stroke:#000000; stroke-width:0.5; stroke-opacity:0.1; fill:none\" points=\"\n",
       "  2905.76,2941.29 2905.76,11.811 \n",
       "  \"/>\n",
       "<polyline clip-path=\"url(#clip010)\" style=\"stroke:#000000; stroke-width:1; stroke-opacity:1; fill:none\" points=\"\n",
       "  75.6669,2941.29 2988.19,2941.29 \n",
       "  \"/>\n",
       "<polyline clip-path=\"url(#clip010)\" style=\"stroke:#000000; stroke-width:1; stroke-opacity:1; fill:none\" points=\"\n",
       "  102.022,2941.29 102.022,2906.14 \n",
       "  \"/>\n",
       "<polyline clip-path=\"url(#clip010)\" style=\"stroke:#000000; stroke-width:1; stroke-opacity:1; fill:none\" points=\"\n",
       "  662.769,2941.29 662.769,2906.14 \n",
       "  \"/>\n",
       "<polyline clip-path=\"url(#clip010)\" style=\"stroke:#000000; stroke-width:1; stroke-opacity:1; fill:none\" points=\"\n",
       "  1223.52,2941.29 1223.52,2906.14 \n",
       "  \"/>\n",
       "<polyline clip-path=\"url(#clip010)\" style=\"stroke:#000000; stroke-width:1; stroke-opacity:1; fill:none\" points=\"\n",
       "  1784.26,2941.29 1784.26,2906.14 \n",
       "  \"/>\n",
       "<polyline clip-path=\"url(#clip010)\" style=\"stroke:#000000; stroke-width:1; stroke-opacity:1; fill:none\" points=\"\n",
       "  2345.01,2941.29 2345.01,2906.14 \n",
       "  \"/>\n",
       "<polyline clip-path=\"url(#clip010)\" style=\"stroke:#000000; stroke-width:1; stroke-opacity:1; fill:none\" points=\"\n",
       "  2905.76,2941.29 2905.76,2906.14 \n",
       "  \"/>\n",
       "<path clip-path=\"url(#clip010)\" d=\"M 0 0 M102.022 2967.79 Q101.119 2967.79 100.662 2968.68 Q100.211 2969.57 100.211 2971.35 Q100.211 2973.13 100.662 2974.02 Q101.119 2974.9 102.022 2974.9 Q102.931 2974.9 103.382 2974.02 Q103.839 2973.13 103.839 2971.35 Q103.839 2969.57 103.382 2968.68 Q102.931 2967.79 102.022 2967.79 M102.022 2966.86 Q103.475 2966.86 104.238 2968.02 Q105.008 2969.16 105.008 2971.35 Q105.008 2973.53 104.238 2974.68 Q103.475 2975.83 102.022 2975.83 Q100.569 2975.83 99.7998 2974.68 Q99.0359 2973.53 99.0359 2971.35 Q99.0359 2969.16 99.7998 2968.02 Q100.569 2966.86 102.022 2966.86 Z\" fill=\"#000000\" fill-rule=\"evenodd\" fill-opacity=\"1\" /><path clip-path=\"url(#clip010)\" d=\"M 0 0 M656.988 2974.68 L658.898 2974.68 L658.898 2968.08 L656.82 2968.5 L656.82 2967.44 L658.886 2967.02 L660.055 2967.02 L660.055 2974.68 L661.965 2974.68 L661.965 2975.66 L656.988 2975.66 L656.988 2974.68 Z\" fill=\"#000000\" fill-rule=\"evenodd\" fill-opacity=\"1\" /><path clip-path=\"url(#clip010)\" d=\"M 0 0 M665.732 2967.79 Q664.83 2967.79 664.372 2968.68 Q663.921 2969.57 663.921 2971.35 Q663.921 2973.13 664.372 2974.02 Q664.83 2974.9 665.732 2974.9 Q666.641 2974.9 667.092 2974.02 Q667.549 2973.13 667.549 2971.35 Q667.549 2969.57 667.092 2968.68 Q666.641 2967.79 665.732 2967.79 M665.732 2966.86 Q667.185 2966.86 667.949 2968.02 Q668.718 2969.16 668.718 2971.35 Q668.718 2973.53 667.949 2974.68 Q667.185 2975.83 665.732 2975.83 Q664.28 2975.83 663.51 2974.68 Q662.746 2973.53 662.746 2971.35 Q662.746 2969.16 663.51 2968.02 Q664.28 2966.86 665.732 2966.86 Z\" fill=\"#000000\" fill-rule=\"evenodd\" fill-opacity=\"1\" /><path clip-path=\"url(#clip010)\" d=\"M 0 0 M1218.8 2974.68 L1222.88 2974.68 L1222.88 2975.66 L1217.4 2975.66 L1217.4 2974.68 Q1218.06 2973.99 1219.21 2972.83 Q1220.36 2971.67 1220.66 2971.33 Q1221.22 2970.7 1221.44 2970.27 Q1221.66 2969.83 1221.66 2969.4 Q1221.66 2968.72 1221.18 2968.28 Q1220.7 2967.85 1219.92 2967.85 Q1219.37 2967.85 1218.76 2968.04 Q1218.15 2968.23 1217.45 2968.62 L1217.45 2967.44 Q1218.16 2967.15 1218.77 2967.01 Q1219.39 2966.86 1219.9 2966.86 Q1221.24 2966.86 1222.04 2967.54 Q1222.84 2968.21 1222.84 2969.33 Q1222.84 2969.86 1222.63 2970.34 Q1222.44 2970.82 1221.91 2971.46 Q1221.77 2971.63 1220.99 2972.44 Q1220.22 2973.24 1218.8 2974.68 Z\" fill=\"#000000\" fill-rule=\"evenodd\" fill-opacity=\"1\" /><path clip-path=\"url(#clip010)\" d=\"M 0 0 M1226.65 2967.79 Q1225.75 2967.79 1225.29 2968.68 Q1224.84 2969.57 1224.84 2971.35 Q1224.84 2973.13 1225.29 2974.02 Q1225.75 2974.9 1226.65 2974.9 Q1227.56 2974.9 1228.01 2974.02 Q1228.47 2973.13 1228.47 2971.35 Q1228.47 2969.57 1228.01 2968.68 Q1227.56 2967.79 1226.65 2967.79 M1226.65 2966.86 Q1228.1 2966.86 1228.87 2968.02 Q1229.64 2969.16 1229.64 2971.35 Q1229.64 2973.53 1228.87 2974.68 Q1228.1 2975.83 1226.65 2975.83 Q1225.2 2975.83 1224.43 2974.68 Q1223.66 2973.53 1223.66 2971.35 Q1223.66 2969.16 1224.43 2968.02 Q1225.2 2966.86 1226.65 2966.86 Z\" fill=\"#000000\" fill-rule=\"evenodd\" fill-opacity=\"1\" /><path clip-path=\"url(#clip010)\" d=\"M 0 0 M1781.95 2971 Q1782.79 2971.18 1783.26 2971.75 Q1783.73 2972.32 1783.73 2973.15 Q1783.73 2974.43 1782.85 2975.13 Q1781.97 2975.83 1780.35 2975.83 Q1779.81 2975.83 1779.23 2975.72 Q1778.66 2975.61 1778.04 2975.4 L1778.04 2974.27 Q1778.53 2974.55 1779.11 2974.7 Q1779.69 2974.84 1780.32 2974.84 Q1781.42 2974.84 1781.99 2974.41 Q1782.57 2973.98 1782.57 2973.15 Q1782.57 2972.38 1782.03 2971.96 Q1781.5 2971.52 1780.54 2971.52 L1779.54 2971.52 L1779.54 2970.56 L1780.59 2970.56 Q1781.45 2970.56 1781.91 2970.22 Q1782.37 2969.87 1782.37 2969.22 Q1782.37 2968.56 1781.89 2968.21 Q1781.42 2967.85 1780.54 2967.85 Q1780.06 2967.85 1779.51 2967.95 Q1778.96 2968.06 1778.3 2968.28 L1778.3 2967.23 Q1778.97 2967.05 1779.55 2966.96 Q1780.13 2966.86 1780.65 2966.86 Q1781.98 2966.86 1782.75 2967.47 Q1783.53 2968.07 1783.53 2969.1 Q1783.53 2969.82 1783.12 2970.32 Q1782.71 2970.81 1781.95 2971 Z\" fill=\"#000000\" fill-rule=\"evenodd\" fill-opacity=\"1\" /><path clip-path=\"url(#clip010)\" d=\"M 0 0 M1787.5 2967.79 Q1786.6 2967.79 1786.14 2968.68 Q1785.69 2969.57 1785.69 2971.35 Q1785.69 2973.13 1786.14 2974.02 Q1786.6 2974.9 1787.5 2974.9 Q1788.41 2974.9 1788.86 2974.02 Q1789.32 2973.13 1789.32 2971.35 Q1789.32 2969.57 1788.86 2968.68 Q1788.41 2967.79 1787.5 2967.79 M1787.5 2966.86 Q1788.95 2966.86 1789.72 2968.02 Q1790.49 2969.16 1790.49 2971.35 Q1790.49 2973.53 1789.72 2974.68 Q1788.95 2975.83 1787.5 2975.83 Q1786.05 2975.83 1785.28 2974.68 Q1784.51 2973.53 1784.51 2971.35 Q1784.51 2969.16 1785.28 2968.02 Q1786.05 2966.86 1787.5 2966.86 Z\" fill=\"#000000\" fill-rule=\"evenodd\" fill-opacity=\"1\" /><path clip-path=\"url(#clip010)\" d=\"M 0 0 M2342.39 2968.04 L2339.44 2972.65 L2342.39 2972.65 L2342.39 2968.04 M2342.08 2967.02 L2343.55 2967.02 L2343.55 2972.65 L2344.78 2972.65 L2344.78 2973.62 L2343.55 2973.62 L2343.55 2975.66 L2342.39 2975.66 L2342.39 2973.62 L2338.49 2973.62 L2338.49 2972.49 L2342.08 2967.02 Z\" fill=\"#000000\" fill-rule=\"evenodd\" fill-opacity=\"1\" /><path clip-path=\"url(#clip010)\" d=\"M 0 0 M2348.55 2967.79 Q2347.65 2967.79 2347.19 2968.68 Q2346.74 2969.57 2346.74 2971.35 Q2346.74 2973.13 2347.19 2974.02 Q2347.65 2974.9 2348.55 2974.9 Q2349.46 2974.9 2349.91 2974.02 Q2350.37 2973.13 2350.37 2971.35 Q2350.37 2969.57 2349.91 2968.68 Q2349.46 2967.79 2348.55 2967.79 M2348.55 2966.86 Q2350 2966.86 2350.77 2968.02 Q2351.54 2969.16 2351.54 2971.35 Q2351.54 2973.53 2350.77 2974.68 Q2350 2975.83 2348.55 2975.83 Q2347.1 2975.83 2346.33 2974.68 Q2345.56 2973.53 2345.56 2971.35 Q2345.56 2969.16 2346.33 2968.02 Q2347.1 2966.86 2348.55 2966.86 Z\" fill=\"#000000\" fill-rule=\"evenodd\" fill-opacity=\"1\" /><path clip-path=\"url(#clip010)\" d=\"M 0 0 M2899.95 2967.02 L2904.54 2967.02 L2904.54 2968 L2901.02 2968 L2901.02 2970.12 Q2901.28 2970.03 2901.53 2969.99 Q2901.79 2969.95 2902.04 2969.95 Q2903.49 2969.95 2904.33 2970.74 Q2905.18 2971.53 2905.18 2972.89 Q2905.18 2974.28 2904.31 2975.06 Q2903.44 2975.83 2901.86 2975.83 Q2901.32 2975.83 2900.75 2975.74 Q2900.19 2975.64 2899.59 2975.46 L2899.59 2974.28 Q2900.11 2974.57 2900.66 2974.71 Q2901.22 2974.84 2901.84 2974.84 Q2902.84 2974.84 2903.42 2974.32 Q2904.01 2973.79 2904.01 2972.89 Q2904.01 2971.99 2903.42 2971.46 Q2902.84 2970.93 2901.84 2970.93 Q2901.37 2970.93 2900.9 2971.04 Q2900.44 2971.14 2899.95 2971.36 L2899.95 2967.02 Z\" fill=\"#000000\" fill-rule=\"evenodd\" fill-opacity=\"1\" /><path clip-path=\"url(#clip010)\" d=\"M 0 0 M2908.94 2967.79 Q2908.04 2967.79 2907.58 2968.68 Q2907.13 2969.57 2907.13 2971.35 Q2907.13 2973.13 2907.58 2974.02 Q2908.04 2974.9 2908.94 2974.9 Q2909.85 2974.9 2910.3 2974.02 Q2910.76 2973.13 2910.76 2971.35 Q2910.76 2969.57 2910.3 2968.68 Q2909.85 2967.79 2908.94 2967.79 M2908.94 2966.86 Q2910.4 2966.86 2911.16 2968.02 Q2911.93 2969.16 2911.93 2971.35 Q2911.93 2973.53 2911.16 2974.68 Q2910.4 2975.83 2908.94 2975.83 Q2907.49 2975.83 2906.72 2974.68 Q2905.96 2973.53 2905.96 2971.35 Q2905.96 2969.16 2906.72 2968.02 Q2907.49 2966.86 2908.94 2966.86 Z\" fill=\"#000000\" fill-rule=\"evenodd\" fill-opacity=\"1\" /><polyline clip-path=\"url(#clip012)\" style=\"stroke:#000000; stroke-width:0.5; stroke-opacity:0.1; fill:none\" points=\"\n",
       "  75.6669,2896.39 2988.19,2896.39 \n",
       "  \"/>\n",
       "<polyline clip-path=\"url(#clip012)\" style=\"stroke:#000000; stroke-width:0.5; stroke-opacity:0.1; fill:none\" points=\"\n",
       "  75.6669,2303.05 2988.19,2303.05 \n",
       "  \"/>\n",
       "<polyline clip-path=\"url(#clip012)\" style=\"stroke:#000000; stroke-width:0.5; stroke-opacity:0.1; fill:none\" points=\"\n",
       "  75.6669,1709.72 2988.19,1709.72 \n",
       "  \"/>\n",
       "<polyline clip-path=\"url(#clip012)\" style=\"stroke:#000000; stroke-width:0.5; stroke-opacity:0.1; fill:none\" points=\"\n",
       "  75.6669,1116.38 2988.19,1116.38 \n",
       "  \"/>\n",
       "<polyline clip-path=\"url(#clip012)\" style=\"stroke:#000000; stroke-width:0.5; stroke-opacity:0.1; fill:none\" points=\"\n",
       "  75.6669,523.038 2988.19,523.038 \n",
       "  \"/>\n",
       "<polyline clip-path=\"url(#clip010)\" style=\"stroke:#000000; stroke-width:1; stroke-opacity:1; fill:none\" points=\"\n",
       "  75.6669,2941.29 75.6669,11.811 \n",
       "  \"/>\n",
       "<polyline clip-path=\"url(#clip010)\" style=\"stroke:#000000; stroke-width:1; stroke-opacity:1; fill:none\" points=\"\n",
       "  75.6669,2896.39 110.617,2896.39 \n",
       "  \"/>\n",
       "<polyline clip-path=\"url(#clip010)\" style=\"stroke:#000000; stroke-width:1; stroke-opacity:1; fill:none\" points=\"\n",
       "  75.6669,2303.05 110.617,2303.05 \n",
       "  \"/>\n",
       "<polyline clip-path=\"url(#clip010)\" style=\"stroke:#000000; stroke-width:1; stroke-opacity:1; fill:none\" points=\"\n",
       "  75.6669,1709.72 110.617,1709.72 \n",
       "  \"/>\n",
       "<polyline clip-path=\"url(#clip010)\" style=\"stroke:#000000; stroke-width:1; stroke-opacity:1; fill:none\" points=\"\n",
       "  75.6669,1116.38 110.617,1116.38 \n",
       "  \"/>\n",
       "<polyline clip-path=\"url(#clip010)\" style=\"stroke:#000000; stroke-width:1; stroke-opacity:1; fill:none\" points=\"\n",
       "  75.6669,523.038 110.617,523.038 \n",
       "  \"/>\n",
       "<path clip-path=\"url(#clip010)\" d=\"M 0 0 M0.805902 2896.51 L8.22484 2896.51 L8.22484 2897.49 L0.805902 2897.49 L0.805902 2896.51 Z\" fill=\"#000000\" fill-rule=\"evenodd\" fill-opacity=\"1\" /><path clip-path=\"url(#clip010)\" d=\"M 0 0 M11.9922 2892.84 Q11.0894 2892.84 10.6322 2893.73 Q10.1809 2894.62 10.1809 2896.4 Q10.1809 2898.18 10.6322 2899.07 Q11.0894 2899.95 11.9922 2899.95 Q12.9007 2899.95 13.3521 2899.07 Q13.8093 2898.18 13.8093 2896.4 Q13.8093 2894.62 13.3521 2893.73 Q12.9007 2892.84 11.9922 2892.84 M11.9922 2891.92 Q13.4447 2891.92 14.2086 2893.07 Q14.9783 2894.21 14.9783 2896.4 Q14.9783 2898.58 14.2086 2899.73 Q13.4447 2900.88 11.9922 2900.88 Q10.5396 2900.88 9.76997 2899.73 Q9.00609 2898.58 9.00609 2896.4 Q9.00609 2894.21 9.76997 2893.07 Q10.5396 2891.92 11.9922 2891.92 Z\" fill=\"#000000\" fill-rule=\"evenodd\" fill-opacity=\"1\" /><path clip-path=\"url(#clip010)\" d=\"M 0 0 M16.2456 2899.24 L17.4667 2899.24 L17.4667 2900.71 L16.2456 2900.71 L16.2456 2899.24 Z\" fill=\"#000000\" fill-rule=\"evenodd\" fill-opacity=\"1\" /><path clip-path=\"url(#clip010)\" d=\"M 0 0 M18.9366 2899.73 L20.8463 2899.73 L20.8463 2893.14 L18.7688 2893.55 L18.7688 2892.49 L20.8347 2892.07 L22.0037 2892.07 L22.0037 2899.73 L23.9134 2899.73 L23.9134 2900.71 L18.9366 2900.71 L18.9366 2899.73 Z\" fill=\"#000000\" fill-rule=\"evenodd\" fill-opacity=\"1\" /><path clip-path=\"url(#clip010)\" d=\"M 0 0 M27.6808 2892.84 Q26.778 2892.84 26.3208 2893.73 Q25.8694 2894.62 25.8694 2896.4 Q25.8694 2898.18 26.3208 2899.07 Q26.778 2899.95 27.6808 2899.95 Q28.5893 2899.95 29.0407 2899.07 Q29.4979 2898.18 29.4979 2896.4 Q29.4979 2894.62 29.0407 2893.73 Q28.5893 2892.84 27.6808 2892.84 M27.6808 2891.92 Q29.1333 2891.92 29.8972 2893.07 Q30.6669 2894.21 30.6669 2896.4 Q30.6669 2898.58 29.8972 2899.73 Q29.1333 2900.88 27.6808 2900.88 Q26.2282 2900.88 25.4585 2899.73 Q24.6947 2898.58 24.6947 2896.4 Q24.6947 2894.21 25.4585 2893.07 Q26.2282 2891.92 27.6808 2891.92 Z\" fill=\"#000000\" fill-rule=\"evenodd\" fill-opacity=\"1\" /><path clip-path=\"url(#clip010)\" d=\"M 0 0 M0.748031 2303.17 L8.16697 2303.17 L8.16697 2304.15 L0.748031 2304.15 L0.748031 2303.17 Z\" fill=\"#000000\" fill-rule=\"evenodd\" fill-opacity=\"1\" /><path clip-path=\"url(#clip010)\" d=\"M 0 0 M11.9343 2299.5 Q11.0315 2299.5 10.5744 2300.39 Q10.123 2301.28 10.123 2303.06 Q10.123 2304.84 10.5744 2305.73 Q11.0315 2306.62 11.9343 2306.62 Q12.8429 2306.62 13.2943 2305.73 Q13.7514 2304.84 13.7514 2303.06 Q13.7514 2301.28 13.2943 2300.39 Q12.8429 2299.5 11.9343 2299.5 M11.9343 2298.58 Q13.3869 2298.58 14.1507 2299.73 Q14.9204 2300.87 14.9204 2303.06 Q14.9204 2305.24 14.1507 2306.4 Q13.3869 2307.54 11.9343 2307.54 Q10.4818 2307.54 9.7121 2306.4 Q8.94822 2305.24 8.94822 2303.06 Q8.94822 2300.87 9.7121 2299.73 Q10.4818 2298.58 11.9343 2298.58 Z\" fill=\"#000000\" fill-rule=\"evenodd\" fill-opacity=\"1\" /><path clip-path=\"url(#clip010)\" d=\"M 0 0 M16.1878 2305.9 L17.4088 2305.9 L17.4088 2307.37 L16.1878 2307.37 L16.1878 2305.9 Z\" fill=\"#000000\" fill-rule=\"evenodd\" fill-opacity=\"1\" /><path clip-path=\"url(#clip010)\" d=\"M 0 0 M21.1762 2299.5 Q20.2734 2299.5 19.8162 2300.39 Q19.3648 2301.28 19.3648 2303.06 Q19.3648 2304.84 19.8162 2305.73 Q20.2734 2306.62 21.1762 2306.62 Q22.0847 2306.62 22.5361 2305.73 Q22.9933 2304.84 22.9933 2303.06 Q22.9933 2301.28 22.5361 2300.39 Q22.0847 2299.5 21.1762 2299.5 M21.1762 2298.58 Q22.6287 2298.58 23.3926 2299.73 Q24.1623 2300.87 24.1623 2303.06 Q24.1623 2305.24 23.3926 2306.4 Q22.6287 2307.54 21.1762 2307.54 Q19.7236 2307.54 18.954 2306.4 Q18.1901 2305.24 18.1901 2303.06 Q18.1901 2300.87 18.954 2299.73 Q19.7236 2298.58 21.1762 2298.58 Z\" fill=\"#000000\" fill-rule=\"evenodd\" fill-opacity=\"1\" /><path clip-path=\"url(#clip010)\" d=\"M 0 0 M25.4412 2298.73 L30.0303 2298.73 L30.0303 2299.72 L26.5118 2299.72 L26.5118 2301.84 Q26.7664 2301.75 27.021 2301.71 Q27.2757 2301.66 27.5303 2301.66 Q28.977 2301.66 29.8219 2302.45 Q30.6669 2303.25 30.6669 2304.6 Q30.6669 2306 29.7988 2306.77 Q28.9308 2307.54 27.3509 2307.54 Q26.8069 2307.54 26.2398 2307.45 Q25.6785 2307.36 25.0766 2307.17 L25.0766 2306 Q25.5974 2306.28 26.153 2306.42 Q26.7085 2306.56 27.3278 2306.56 Q28.3289 2306.56 28.9134 2306.03 Q29.4979 2305.5 29.4979 2304.6 Q29.4979 2303.7 28.9134 2303.17 Q28.3289 2302.65 27.3278 2302.65 Q26.859 2302.65 26.3903 2302.75 Q25.9273 2302.85 25.4412 2303.07 L25.4412 2298.73 Z\" fill=\"#000000\" fill-rule=\"evenodd\" fill-opacity=\"1\" /><path clip-path=\"url(#clip010)\" d=\"M 0 0 M11.6855 1706.16 Q10.7827 1706.16 10.3255 1707.06 Q9.87414 1707.94 9.87414 1709.72 Q9.87414 1711.5 10.3255 1712.39 Q10.7827 1713.28 11.6855 1713.28 Q12.594 1713.28 13.0454 1712.39 Q13.5026 1711.5 13.5026 1709.72 Q13.5026 1707.94 13.0454 1707.06 Q12.594 1706.16 11.6855 1706.16 M11.6855 1705.24 Q13.138 1705.24 13.9019 1706.39 Q14.6716 1707.54 14.6716 1709.72 Q14.6716 1711.91 13.9019 1713.06 Q13.138 1714.2 11.6855 1714.2 Q10.2329 1714.2 9.46326 1713.06 Q8.69938 1711.91 8.69938 1709.72 Q8.69938 1707.54 9.46326 1706.39 Q10.2329 1705.24 11.6855 1705.24 Z\" fill=\"#000000\" fill-rule=\"evenodd\" fill-opacity=\"1\" /><path clip-path=\"url(#clip010)\" d=\"M 0 0 M15.9389 1712.57 L17.16 1712.57 L17.16 1714.04 L15.9389 1714.04 L15.9389 1712.57 Z\" fill=\"#000000\" fill-rule=\"evenodd\" fill-opacity=\"1\" /><path clip-path=\"url(#clip010)\" d=\"M 0 0 M20.9273 1706.16 Q20.0245 1706.16 19.5674 1707.06 Q19.116 1707.94 19.116 1709.72 Q19.116 1711.5 19.5674 1712.39 Q20.0245 1713.28 20.9273 1713.28 Q21.8359 1713.28 22.2873 1712.39 Q22.7444 1711.5 22.7444 1709.72 Q22.7444 1707.94 22.2873 1707.06 Q21.8359 1706.16 20.9273 1706.16 M20.9273 1705.24 Q22.3799 1705.24 23.1437 1706.39 Q23.9134 1707.54 23.9134 1709.72 Q23.9134 1711.91 23.1437 1713.06 Q22.3799 1714.2 20.9273 1714.2 Q19.4748 1714.2 18.7051 1713.06 Q17.9412 1711.91 17.9412 1709.72 Q17.9412 1707.54 18.7051 1706.39 Q19.4748 1705.24 20.9273 1705.24 Z\" fill=\"#000000\" fill-rule=\"evenodd\" fill-opacity=\"1\" /><path clip-path=\"url(#clip010)\" d=\"M 0 0 M27.6808 1706.16 Q26.778 1706.16 26.3208 1707.06 Q25.8694 1707.94 25.8694 1709.72 Q25.8694 1711.5 26.3208 1712.39 Q26.778 1713.28 27.6808 1713.28 Q28.5893 1713.28 29.0407 1712.39 Q29.4979 1711.5 29.4979 1709.72 Q29.4979 1707.94 29.0407 1707.06 Q28.5893 1706.16 27.6808 1706.16 M27.6808 1705.24 Q29.1333 1705.24 29.8972 1706.39 Q30.6669 1707.54 30.6669 1709.72 Q30.6669 1711.91 29.8972 1713.06 Q29.1333 1714.2 27.6808 1714.2 Q26.2282 1714.2 25.4585 1713.06 Q24.6947 1711.91 24.6947 1709.72 Q24.6947 1707.54 25.4585 1706.39 Q26.2282 1705.24 27.6808 1705.24 Z\" fill=\"#000000\" fill-rule=\"evenodd\" fill-opacity=\"1\" /><path clip-path=\"url(#clip010)\" d=\"M 0 0 M11.9343 1112.83 Q11.0315 1112.83 10.5744 1113.72 Q10.123 1114.6 10.123 1116.39 Q10.123 1118.16 10.5744 1119.05 Q11.0315 1119.94 11.9343 1119.94 Q12.8429 1119.94 13.2943 1119.05 Q13.7514 1118.16 13.7514 1116.39 Q13.7514 1114.6 13.2943 1113.72 Q12.8429 1112.83 11.9343 1112.83 M11.9343 1111.9 Q13.3869 1111.9 14.1507 1113.05 Q14.9204 1114.2 14.9204 1116.39 Q14.9204 1118.57 14.1507 1119.72 Q13.3869 1120.86 11.9343 1120.86 Q10.4818 1120.86 9.7121 1119.72 Q8.94822 1118.57 8.94822 1116.39 Q8.94822 1114.2 9.7121 1113.05 Q10.4818 1111.9 11.9343 1111.9 Z\" fill=\"#000000\" fill-rule=\"evenodd\" fill-opacity=\"1\" /><path clip-path=\"url(#clip010)\" d=\"M 0 0 M16.1878 1119.23 L17.4088 1119.23 L17.4088 1120.7 L16.1878 1120.7 L16.1878 1119.23 Z\" fill=\"#000000\" fill-rule=\"evenodd\" fill-opacity=\"1\" /><path clip-path=\"url(#clip010)\" d=\"M 0 0 M21.1762 1112.83 Q20.2734 1112.83 19.8162 1113.72 Q19.3648 1114.6 19.3648 1116.39 Q19.3648 1118.16 19.8162 1119.05 Q20.2734 1119.94 21.1762 1119.94 Q22.0847 1119.94 22.5361 1119.05 Q22.9933 1118.16 22.9933 1116.39 Q22.9933 1114.6 22.5361 1113.72 Q22.0847 1112.83 21.1762 1112.83 M21.1762 1111.9 Q22.6287 1111.9 23.3926 1113.05 Q24.1623 1114.2 24.1623 1116.39 Q24.1623 1118.57 23.3926 1119.72 Q22.6287 1120.86 21.1762 1120.86 Q19.7236 1120.86 18.954 1119.72 Q18.1901 1118.57 18.1901 1116.39 Q18.1901 1114.2 18.954 1113.05 Q19.7236 1111.9 21.1762 1111.9 Z\" fill=\"#000000\" fill-rule=\"evenodd\" fill-opacity=\"1\" /><path clip-path=\"url(#clip010)\" d=\"M 0 0 M25.4412 1112.06 L30.0303 1112.06 L30.0303 1113.04 L26.5118 1113.04 L26.5118 1115.16 Q26.7664 1115.07 27.021 1115.03 Q27.2757 1114.98 27.5303 1114.98 Q28.977 1114.98 29.8219 1115.78 Q30.6669 1116.57 30.6669 1117.92 Q30.6669 1119.32 29.7988 1120.09 Q28.9308 1120.86 27.3509 1120.86 Q26.8069 1120.86 26.2398 1120.77 Q25.6785 1120.68 25.0766 1120.49 L25.0766 1119.32 Q25.5974 1119.6 26.153 1119.74 Q26.7085 1119.88 27.3278 1119.88 Q28.3289 1119.88 28.9134 1119.35 Q29.4979 1118.83 29.4979 1117.92 Q29.4979 1117.02 28.9134 1116.5 Q28.3289 1115.97 27.3278 1115.97 Q26.859 1115.97 26.3903 1116.07 Q25.9273 1116.18 25.4412 1116.4 L25.4412 1112.06 Z\" fill=\"#000000\" fill-rule=\"evenodd\" fill-opacity=\"1\" /><path clip-path=\"url(#clip010)\" d=\"M 0 0 M11.9922 519.488 Q11.0894 519.488 10.6322 520.379 Q10.1809 521.264 10.1809 523.047 Q10.1809 524.823 10.6322 525.714 Q11.0894 526.6 11.9922 526.6 Q12.9007 526.6 13.3521 525.714 Q13.8093 524.823 13.8093 523.047 Q13.8093 521.264 13.3521 520.379 Q12.9007 519.488 11.9922 519.488 M11.9922 518.562 Q13.4447 518.562 14.2086 519.713 Q14.9783 520.859 14.9783 523.047 Q14.9783 525.228 14.2086 526.38 Q13.4447 527.526 11.9922 527.526 Q10.5396 527.526 9.76997 526.38 Q9.00609 525.228 9.00609 523.047 Q9.00609 520.859 9.76997 519.713 Q10.5396 518.562 11.9922 518.562 Z\" fill=\"#000000\" fill-rule=\"evenodd\" fill-opacity=\"1\" /><path clip-path=\"url(#clip010)\" d=\"M 0 0 M16.2456 525.888 L17.4667 525.888 L17.4667 527.358 L16.2456 527.358 L16.2456 525.888 Z\" fill=\"#000000\" fill-rule=\"evenodd\" fill-opacity=\"1\" /><path clip-path=\"url(#clip010)\" d=\"M 0 0 M18.9366 526.374 L20.8463 526.374 L20.8463 519.783 L18.7688 520.199 L18.7688 519.135 L20.8347 518.718 L22.0037 518.718 L22.0037 526.374 L23.9134 526.374 L23.9134 527.358 L18.9366 527.358 L18.9366 526.374 Z\" fill=\"#000000\" fill-rule=\"evenodd\" fill-opacity=\"1\" /><path clip-path=\"url(#clip010)\" d=\"M 0 0 M27.6808 519.488 Q26.778 519.488 26.3208 520.379 Q25.8694 521.264 25.8694 523.047 Q25.8694 524.823 26.3208 525.714 Q26.778 526.6 27.6808 526.6 Q28.5893 526.6 29.0407 525.714 Q29.4979 524.823 29.4979 523.047 Q29.4979 521.264 29.0407 520.379 Q28.5893 519.488 27.6808 519.488 M27.6808 518.562 Q29.1333 518.562 29.8972 519.713 Q30.6669 520.859 30.6669 523.047 Q30.6669 525.228 29.8972 526.38 Q29.1333 527.526 27.6808 527.526 Q26.2282 527.526 25.4585 526.38 Q24.6947 525.228 24.6947 523.047 Q24.6947 520.859 25.4585 519.713 Q26.2282 518.562 27.6808 518.562 Z\" fill=\"#000000\" fill-rule=\"evenodd\" fill-opacity=\"1\" /><polyline clip-path=\"url(#clip012)\" style=\"stroke:#009af9; stroke-width:1; stroke-opacity:1; fill:none\" points=\"\n",
       "  158.097,1816.72 214.171,1248.25 270.246,574.436 326.321,1089.76 382.396,1199.77 438.47,1289.64 494.545,1351.79 550.62,1191.37 606.695,1184.15 662.769,1197.22 \n",
       "  718.844,1199.38 774.919,1249.1 830.994,1183.29 887.068,1336.73 943.143,1722.3 999.218,1749.57 1055.29,2059.04 1111.37,2555.16 1167.44,2232.68 1223.52,2202.34 \n",
       "  1279.59,2451.35 1335.67,2338.77 1391.74,2159.47 1447.82,2121.31 1503.89,2136.08 1559.97,2131.67 1616.04,2113.26 1672.11,2440.89 1728.19,2112.36 1784.26,2633.26 \n",
       "  1840.34,2074.88 1896.41,1509.75 1952.49,1344.97 2008.56,511.031 2064.64,1076.57 2120.71,942.487 2176.79,1180.36 2232.86,1136.96 2288.94,1111.24 2345.01,1123.36 \n",
       "  2401.09,1124.59 2457.16,1123.12 2513.24,1034.81 2569.31,1164.62 2625.39,1471.13 2681.46,2384.44 2737.53,2771.7 2793.61,2858.38 2849.68,2845.38 2905.76,2347.7 \n",
       "  \n",
       "  \"/>\n",
       "<polyline clip-path=\"url(#clip012)\" style=\"stroke:#e26f46; stroke-width:1; stroke-opacity:1; fill:none\" points=\"\n",
       "  158.097,1557.38 214.171,1493.58 270.246,1273.37 326.321,1426.79 382.396,1283.67 438.47,1292.8 494.545,1303.66 550.62,1494.68 606.695,1491.02 662.769,1489.11 \n",
       "  718.844,1465.32 774.919,1461.82 830.994,1444.02 887.068,1434.45 943.143,1496.28 999.218,1562.32 1055.29,1679.65 1111.37,1646.74 1167.44,1464.09 1223.52,1463.75 \n",
       "  1279.59,1583.84 1335.67,1523.05 1391.74,1472.44 1447.82,1406.73 1503.89,1462.12 1559.97,1532.26 1616.04,1506.68 1672.11,1724.56 1728.19,1602.78 1784.26,1790.29 \n",
       "  1840.34,1635.51 1896.41,1590.06 1952.49,1530.16 2008.56,1750.44 2064.64,1841.6 2120.71,1830.05 2176.79,1528.4 2232.86,1567.61 2288.94,1546.83 2345.01,1579.47 \n",
       "  2401.09,1535.1 2457.16,1472.12 2513.24,1490.32 2569.31,1487.39 2625.39,1517.88 2681.46,1765.4 2737.53,1810.87 2793.61,1650.33 2849.68,1643.93 2905.76,1524.05 \n",
       "  \n",
       "  \"/>\n",
       "<polyline clip-path=\"url(#clip012)\" style=\"stroke:#3da44d; stroke-width:1; stroke-opacity:1; fill:none\" points=\"\n",
       "  158.097,848.267 214.171,688.832 270.246,508.827 326.321,930.612 382.396,921.849 438.47,902.609 494.545,1309.62 550.62,1362.3 606.695,1352.97 662.769,1291.7 \n",
       "  718.844,1217.04 774.919,1023.24 830.994,1046.83 887.068,934.172 943.143,919.216 999.218,1155.15 1055.29,1464.4 1111.37,1275.53 1167.44,1381.08 1223.52,1277.4 \n",
       "  1279.59,1336.24 1335.67,1313.64 1391.74,1125.65 1447.82,1109.08 1503.89,1108.58 1559.97,1132.96 1616.04,1144.7 1672.11,1498.87 1728.19,1165.8 1784.26,1152.91 \n",
       "  1840.34,678.89 1896.41,712.484 1952.49,512.348 2008.56,901.283 2064.64,1200.81 2120.71,1213.74 2176.79,1472.46 2232.86,1502.66 2288.94,1459.13 2345.01,1412.22 \n",
       "  2401.09,1354.98 2457.16,1306.64 2513.24,1337.13 2569.31,1345 2625.39,1260.29 2681.46,1239.99 2737.53,1246.12 2793.61,864.696 2849.68,883.699 2905.76,850.631 \n",
       "  \n",
       "  \"/>\n",
       "<polyline clip-path=\"url(#clip012)\" style=\"stroke:#c271d2; stroke-width:1; stroke-opacity:1; fill:none\" points=\"\n",
       "  158.097,1658.06 214.171,1630 270.246,1598.8 326.321,1326.14 382.396,1354.61 438.47,1353.75 494.545,1301.47 550.62,1370.94 606.695,1334.1 662.769,1311.84 \n",
       "  718.844,1278.9 774.919,1229.99 830.994,1199.06 887.068,1257.51 943.143,1236.77 999.218,1253.35 1055.29,1358.08 1111.37,1374.57 1167.44,1246.41 1223.52,1191.26 \n",
       "  1279.59,1210.79 1335.67,1206.18 1391.74,1213.98 1447.82,1215.26 1503.89,1175.92 1559.97,1171.22 1616.04,1171.88 1672.11,1060.91 1728.19,1293.05 1784.26,1368.02 \n",
       "  1840.34,1469.23 1896.41,1599.01 1952.49,1520.05 2008.56,1588.08 2064.64,1361.23 2120.71,1375.05 2176.79,1416.05 2232.86,1400.35 2288.94,1400.03 2345.01,1364.95 \n",
       "  2401.09,1279.02 2457.16,1242.08 2513.24,1206.58 2569.31,1212.38 2625.39,1278.04 2681.46,1190.28 2737.53,1089.77 2793.61,1023.98 2849.68,1005.92 2905.76,1016.29 \n",
       "  \n",
       "  \"/>\n",
       "<polyline clip-path=\"url(#clip012)\" style=\"stroke:#ac8d18; stroke-width:1; stroke-opacity:1; fill:none\" points=\"\n",
       "  158.097,1057.48 214.171,94.7209 270.246,554.612 326.321,763.34 382.396,804.244 438.47,751.906 494.545,1410.82 550.62,1344.01 606.695,1327.8 662.769,1200.44 \n",
       "  718.844,1118.91 774.919,785.89 830.994,838.006 887.068,563.069 943.143,561.265 999.218,1296.27 1055.29,1527.31 1111.37,1466.28 1167.44,1076.59 1223.52,1017.1 \n",
       "  1279.59,1108.08 1335.67,1037.96 1391.74,1099.3 1447.82,1092.18 1503.89,1091.81 1559.97,1096.21 1616.04,1114.38 1672.11,1570.64 1728.19,1256.13 1784.26,1169.52 \n",
       "  1840.34,490.64 1896.41,355.396 1952.49,288.905 2008.56,839.64 2064.64,1393.07 2120.71,1447.14 2176.79,1546.55 2232.86,1552.24 2288.94,1483.35 2345.01,1336.54 \n",
       "  2401.09,1401.33 2457.16,1340.03 2513.24,1357.94 2569.31,1283.97 2625.39,1225.65 2681.46,1263.08 2737.53,1225.81 2793.61,723.923 2849.68,820.846 2905.76,988.327 \n",
       "  \n",
       "  \"/>\n",
       "<path clip-path=\"url(#clip010)\" d=\"\n",
       "M2554.31 200.18 L2891.1 200.18 L2891.1 109.46 L2554.31 109.46  Z\n",
       "  \" fill=\"#ffffff\" fill-rule=\"evenodd\" fill-opacity=\"1\"/>\n",
       "<polyline clip-path=\"url(#clip010)\" style=\"stroke:#000000; stroke-width:1; stroke-opacity:1; fill:none\" points=\"\n",
       "  2554.31,200.18 2891.1,200.18 2891.1,109.46 2554.31,109.46 2554.31,200.18 \n",
       "  \"/>\n",
       "<polyline clip-path=\"url(#clip010)\" style=\"stroke:#009af9; stroke-width:1; stroke-opacity:1; fill:none\" points=\"\n",
       "  2586.67,124.58 2780.84,124.58 \n",
       "  \"/>\n",
       "<path clip-path=\"url(#clip010)\" d=\"M 0 0 M2816.66 129.502 Q2816.21 130.66 2815.78 131.013 Q2815.35 131.366 2814.63 131.366 L2813.78 131.366 L2813.78 130.474 L2814.41 130.474 Q2814.85 130.474 2815.09 130.266 Q2815.33 130.058 2815.63 129.282 L2815.82 128.796 L2813.2 122.419 L2814.33 122.419 L2816.35 127.488 L2818.38 122.419 L2819.51 122.419 L2816.66 129.502 Z\" fill=\"#000000\" fill-rule=\"evenodd\" fill-opacity=\"1\" /><path clip-path=\"url(#clip010)\" d=\"M 0 0 M2820.98 127.917 L2822.89 127.917 L2822.89 121.325 L2820.81 121.742 L2820.81 120.677 L2822.88 120.26 L2824.04 120.26 L2824.04 127.917 L2825.95 127.917 L2825.95 128.9 L2820.98 128.9 L2820.98 127.917 Z\" fill=\"#000000\" fill-rule=\"evenodd\" fill-opacity=\"1\" /><polyline clip-path=\"url(#clip010)\" style=\"stroke:#e26f46; stroke-width:1; stroke-opacity:1; fill:none\" points=\"\n",
       "  2586.67,139.7 2780.84,139.7 \n",
       "  \"/>\n",
       "<path clip-path=\"url(#clip010)\" d=\"M 0 0 M2816.66 144.622 Q2816.21 145.78 2815.78 146.133 Q2815.35 146.486 2814.63 146.486 L2813.78 146.486 L2813.78 145.594 L2814.41 145.594 Q2814.85 145.594 2815.09 145.386 Q2815.33 145.178 2815.63 144.402 L2815.82 143.916 L2813.2 137.539 L2814.33 137.539 L2816.35 142.608 L2818.38 137.539 L2819.51 137.539 L2816.66 144.622 Z\" fill=\"#000000\" fill-rule=\"evenodd\" fill-opacity=\"1\" /><path clip-path=\"url(#clip010)\" d=\"M 0 0 M2821.78 143.037 L2825.86 143.037 L2825.86 144.02 L2820.38 144.02 L2820.38 143.037 Q2821.04 142.348 2822.19 141.191 Q2823.34 140.027 2823.63 139.692 Q2824.19 139.061 2824.41 138.627 Q2824.64 138.187 2824.64 137.765 Q2824.64 137.076 2824.15 136.642 Q2823.67 136.208 2822.9 136.208 Q2822.35 136.208 2821.74 136.399 Q2821.13 136.59 2820.43 136.978 L2820.43 135.797 Q2821.14 135.513 2821.75 135.369 Q2822.37 135.224 2822.88 135.224 Q2824.22 135.224 2825.02 135.895 Q2825.82 136.567 2825.82 137.689 Q2825.82 138.222 2825.61 138.702 Q2825.42 139.177 2824.89 139.825 Q2824.74 139.993 2823.97 140.797 Q2823.19 141.596 2821.78 143.037 Z\" fill=\"#000000\" fill-rule=\"evenodd\" fill-opacity=\"1\" /><polyline clip-path=\"url(#clip010)\" style=\"stroke:#3da44d; stroke-width:1; stroke-opacity:1; fill:none\" points=\"\n",
       "  2586.67,154.82 2780.84,154.82 \n",
       "  \"/>\n",
       "<path clip-path=\"url(#clip010)\" d=\"M 0 0 M2816.66 159.742 Q2816.21 160.9 2815.78 161.253 Q2815.35 161.606 2814.63 161.606 L2813.78 161.606 L2813.78 160.714 L2814.41 160.714 Q2814.85 160.714 2815.09 160.506 Q2815.33 160.298 2815.63 159.522 L2815.82 159.036 L2813.2 152.659 L2814.33 152.659 L2816.35 157.728 L2818.38 152.659 L2819.51 152.659 L2816.66 159.742 Z\" fill=\"#000000\" fill-rule=\"evenodd\" fill-opacity=\"1\" /><path clip-path=\"url(#clip010)\" d=\"M 0 0 M2824.32 154.482 Q2825.16 154.661 2825.62 155.228 Q2826.1 155.795 2826.1 156.629 Q2826.1 157.908 2825.22 158.608 Q2824.34 159.308 2822.72 159.308 Q2822.18 159.308 2821.6 159.198 Q2821.02 159.094 2820.41 158.88 L2820.41 157.752 Q2820.9 158.035 2821.47 158.18 Q2822.05 158.324 2822.68 158.324 Q2823.78 158.324 2824.36 157.89 Q2824.94 157.456 2824.94 156.629 Q2824.94 155.865 2824.4 155.437 Q2823.86 155.003 2822.91 155.003 L2821.9 155.003 L2821.9 154.042 L2822.96 154.042 Q2823.82 154.042 2824.28 153.701 Q2824.73 153.353 2824.73 152.705 Q2824.73 152.04 2824.26 151.687 Q2823.79 151.328 2822.91 151.328 Q2822.43 151.328 2821.88 151.432 Q2821.33 151.536 2820.67 151.756 L2820.67 150.715 Q2821.34 150.529 2821.91 150.437 Q2822.5 150.344 2823.01 150.344 Q2824.35 150.344 2825.12 150.952 Q2825.9 151.554 2825.9 152.584 Q2825.9 153.301 2825.49 153.799 Q2825.07 154.291 2824.32 154.482 Z\" fill=\"#000000\" fill-rule=\"evenodd\" fill-opacity=\"1\" /><polyline clip-path=\"url(#clip010)\" style=\"stroke:#c271d2; stroke-width:1; stroke-opacity:1; fill:none\" points=\"\n",
       "  2586.67,169.94 2780.84,169.94 \n",
       "  \"/>\n",
       "<path clip-path=\"url(#clip010)\" d=\"M 0 0 M2816.66 174.862 Q2816.21 176.02 2815.78 176.373 Q2815.35 176.726 2814.63 176.726 L2813.78 176.726 L2813.78 175.834 L2814.41 175.834 Q2814.85 175.834 2815.09 175.626 Q2815.33 175.418 2815.63 174.642 L2815.82 174.156 L2813.2 167.779 L2814.33 167.779 L2816.35 172.848 L2818.38 167.779 L2819.51 167.779 L2816.66 174.862 Z\" fill=\"#000000\" fill-rule=\"evenodd\" fill-opacity=\"1\" /><path clip-path=\"url(#clip010)\" d=\"M 0 0 M2823.99 166.639 L2821.03 171.251 L2823.99 171.251 L2823.99 166.639 M2823.68 165.62 L2825.15 165.62 L2825.15 171.251 L2826.38 171.251 L2826.38 172.223 L2825.15 172.223 L2825.15 174.26 L2823.99 174.26 L2823.99 172.223 L2820.09 172.223 L2820.09 171.095 L2823.68 165.62 Z\" fill=\"#000000\" fill-rule=\"evenodd\" fill-opacity=\"1\" /><polyline clip-path=\"url(#clip010)\" style=\"stroke:#ac8d18; stroke-width:1; stroke-opacity:1; fill:none\" points=\"\n",
       "  2586.67,185.06 2780.84,185.06 \n",
       "  \"/>\n",
       "<path clip-path=\"url(#clip010)\" d=\"M 0 0 M2816.66 189.982 Q2816.21 191.14 2815.78 191.493 Q2815.35 191.846 2814.63 191.846 L2813.78 191.846 L2813.78 190.954 L2814.41 190.954 Q2814.85 190.954 2815.09 190.746 Q2815.33 190.538 2815.63 189.762 L2815.82 189.276 L2813.2 182.899 L2814.33 182.899 L2816.35 187.968 L2818.38 182.899 L2819.51 182.899 L2816.66 189.982 Z\" fill=\"#000000\" fill-rule=\"evenodd\" fill-opacity=\"1\" /><path clip-path=\"url(#clip010)\" d=\"M 0 0 M2820.79 180.74 L2825.38 180.74 L2825.38 181.724 L2821.86 181.724 L2821.86 183.842 Q2822.11 183.755 2822.37 183.715 Q2822.62 183.669 2822.88 183.669 Q2824.32 183.669 2825.17 184.461 Q2826.01 185.254 2826.01 186.608 Q2826.01 188.003 2825.14 188.779 Q2824.28 189.548 2822.7 189.548 Q2822.15 189.548 2821.58 189.456 Q2821.02 189.363 2820.42 189.178 L2820.42 188.003 Q2820.94 188.287 2821.5 188.426 Q2822.05 188.564 2822.67 188.564 Q2823.67 188.564 2824.26 188.038 Q2824.84 187.511 2824.84 186.608 Q2824.84 185.706 2824.26 185.179 Q2823.67 184.652 2822.67 184.652 Q2822.2 184.652 2821.74 184.757 Q2821.27 184.861 2820.79 185.081 L2820.79 180.74 Z\" fill=\"#000000\" fill-rule=\"evenodd\" fill-opacity=\"1\" /></svg>\n"
      ]
     },
     "execution_count": 50,
     "metadata": {},
     "output_type": "execute_result"
    }
   ],
   "source": [
    "using Plots\n",
    "plot(β_list[:,1:5])\n",
    "plot!(size=(3000,3000))"
   ]
  },
  {
   "cell_type": "markdown",
   "id": "inclusive-clerk",
   "metadata": {},
   "source": [
    "# Old"
   ]
  },
  {
   "cell_type": "code",
   "execution_count": null,
   "id": "split-protest",
   "metadata": {},
   "outputs": [],
   "source": [
    "if true   \n",
    "    T, p = size(X)\n",
    "    Z = get_Z(X)\n",
    "    max_cuts = 5\n",
    "    cuts = 0\n",
    "    L_OA = -10000\n",
    "    U_OA = 10000\n",
    "    \n",
    "    # Create model\n",
    "    model = Model(() -> Gurobi.Optimizer(GRB_ENV))#Model(with_optimizer(Gurobi.Optimizer))\n",
    "    set_optimizer_attribute(model, \"OutputFlag\", 0)\n",
    "    \n",
    "    # Add variables\n",
    "    @variable(model, λ[i=1:2, j=1:T] >= 0) \n",
    "    @variable(model, ν[i=1:2, j=1:T-1, k=1:p]>=0) \n",
    "    @variable(model, μ[i=1:2, j=1:T, k=1:p]>=0)\n",
    "    \n",
    "    @variable(model, α) \n",
    "    #@variable(model, γ)\n",
    "    @variable(model, y[j=1:T])\n",
    "\n",
    "    \n",
    "    @constraint(model,[t=1:T], λ[1,:] .+ λ[2,:] .== 1)\n",
    "        \n",
    "        \n",
    "    @constraint(model, transpose(λ[2,:])*Z-transpose(λ[1,:])*Z \n",
    "                        + sum(transpose(ν[1,t,:])*(get_A(X, t+1).-get_A(X, t)) for t=1:T-1)\n",
    "                        + sum(transpose(ν[2,t,:])*(-get_A(X, t+1).+get_A(X, t)) for t=1:T-1)\n",
    "                        + sum(transpose(μ[1,t,:])*get_A(X,t) for t=1:T)\n",
    "                        - sum(transpose(μ[2,t,:])*get_A(X,t) for t=1:T) .== 0)\n",
    "\n",
    "    #y in uncertainty set\n",
    "    @constraint(model, [1:T], D_min .<= y)\n",
    "    @constraint(model, [1:T], y .<= D_max)\n",
    "    \n",
    "    y_val0 = (D_min .+ D_max)./2\n",
    "    L_OA, λ_val0, _, _ = S_dual(X, y_val0, β0, epsilon, delta)\n",
    "    @constraint(model, α <=   dot(λ_val0[1,:],y_val0) \n",
    "                            + dot(λ[1,:].-λ_val0[1,:], y_val0) \n",
    "                            + dot(y.-y_val0,λ_val0[1,:])\n",
    "                            - dot(λ_val0[2,:],y_val0) \n",
    "                            - dot(λ[2,:].-λ_val0[2,:], y_val0) \n",
    "                            - dot(y.-y_val0,λ_val0[2,:]))\n",
    "#     @constraint(model, γ >=   dot(λ_val0[2,:],y_val0) \n",
    "#                             + dot(λ[2,:].-λ_val0[2,:], y_val0) \n",
    "#                             + dot(y.-y_val0,λ_val0[2,:]))\n",
    "    \n",
    "    # Add objective\n",
    "    @objective(model, Max, α #- γ\n",
    "                            - delta * sum(sum(ν[1,t,i]+ν[2,t,i] for i=1:p) for t=1:T-1)\n",
    "                            - sum(dot(epsilon .+ β0, μ[1,t,:]) for t = 1:T)\n",
    "                            + sum(dot(epsilon .- β0, μ[2,t,:]) for t = 1:T))\n",
    "    \n",
    "    ###\n",
    "    # Step 3: Define the outer approximation function\n",
    "    ###\n",
    "    #m2 = copy(model)\n",
    "    #optimize!(model)\n",
    "    while cuts < max_cuts\n",
    "        println(\"Lower: \", L_OA, \" Upper: \", U_OA)\n",
    "        cuts += 1\n",
    "        y_val, U_OA = solve_model(model)\n",
    "\n",
    "        L_OA, λ_val, ν_val, μ_val = S_dual(X, y_val, β0, epsilon, delta)\n",
    "\n",
    "        if true#U_OA - L_OA > threshold\n",
    "            @constraint(model, α <= dot(λ_val[1,:],y_val) \n",
    "                                + dot(λ[1,:].-λ_val[1,:], y_val) \n",
    "                                + dot(y.-y_val,λ_val[1,:])\n",
    "                                - dot(λ_val[2,:],y_val) \n",
    "                                - dot(λ[2,:].-λ_val[2,:], y_val) \n",
    "                                - dot(y.-y_val,λ_val[2,:]))\n",
    "#             @constraint(model, γ >= dot(λ_val[2,:],y_val) \n",
    "#                             + dot(λ[2,:].-λ_val[2,:], y_val) \n",
    "#                             + dot(y.-y_val,λ_val[2,:]))\n",
    "            println(\"Cut added\")\n",
    "        end\n",
    "    end    \n",
    "end"
   ]
  },
  {
   "cell_type": "code",
   "execution_count": 269,
   "id": "absent-belarus",
   "metadata": {},
   "outputs": [
    {
     "name": "stdout",
     "output_type": "stream",
     "text": [
      "Academic license - for non-commercial use only - expires 2022-07-20\n",
      "Lower: 6.89489784982016 Upper: 10000\n",
      "U_OA from solve 9.50676896820302\n",
      "Academic license - for non-commercial use only - expires 2022-07-20\n",
      "Cut added\n",
      "[0.44910485812064715, 1.1859076466511875, 0.5476733628913486, 0.2109752836052723, 1.378041767950016, 0.374536996965517, 0.7251971752451791, 1.3691365132789919, 0.9392487930236328, 0.4227048487390981, 0.7371619945268744, 0.012081208078308148, 1.0276201350204741, 1.2833686214418156, 0.5861331896665185, 1.0650113029593455, 0.232469029952036, 1.3379676792557893, 1.4596243879928867, 1.2411937998506408]\n",
      "Lower: 9.695786571685225 Upper: 9.50676896820302\n",
      "U_OA from solve 9.50676896820302\n",
      "Academic license - for non-commercial use only - expires 2022-07-20\n",
      "Cut added\n",
      "[0.44910485812064715, 1.1859076466511875, 0.5476733628913486, 0.2109752836052723, 1.378041767950016, 0.374536996965517, 0.7251971752451791, 1.3691365132789919, 0.9392487930236328, 0.4227048487390981, 0.7371619945268744, 0.012081208078308148, 1.0276201350204741, 1.2833686214418156, 0.5861331896665185, 1.0650113029593455, 0.232469029952036, 1.3379676792557893, 1.4596243879928867, 1.2411937998506408]\n",
      "Lower: 9.695786571685225 Upper: 9.50676896820302\n",
      "U_OA from solve 9.50676896820302\n",
      "Academic license - for non-commercial use only - expires 2022-07-20\n",
      "Cut added\n",
      "[0.44910485812064715, 1.1859076466511875, 0.5476733628913486, 0.2109752836052723, 1.378041767950016, 0.374536996965517, 0.7251971752451791, 1.3691365132789919, 0.9392487930236328, 0.4227048487390981, 0.7371619945268744, 0.012081208078308148, 1.0276201350204741, 1.2833686214418156, 0.5861331896665185, 1.0650113029593455, 0.232469029952036, 1.3379676792557893, 1.4596243879928867, 1.2411937998506408]\n",
      "Lower: 9.695786571685225 Upper: 9.50676896820302\n",
      "U_OA from solve 9.50676896820302\n",
      "Academic license - for non-commercial use only - expires 2022-07-20\n",
      "Cut added\n",
      "[0.44910485812064715, 1.1859076466511875, 0.5476733628913486, 0.2109752836052723, 1.378041767950016, 0.374536996965517, 0.7251971752451791, 1.3691365132789919, 0.9392487930236328, 0.4227048487390981, 0.7371619945268744, 0.012081208078308148, 1.0276201350204741, 1.2833686214418156, 0.5861331896665185, 1.0650113029593455, 0.232469029952036, 1.3379676792557893, 1.4596243879928867, 1.2411937998506408]\n",
      "Lower: 9.695786571685225 Upper: 9.50676896820302\n",
      "U_OA from solve 9.50676896820302\n",
      "Academic license - for non-commercial use only - expires 2022-07-20\n",
      "Cut added\n",
      "[0.44910485812064715, 1.1859076466511875, 0.5476733628913486, 0.2109752836052723, 1.378041767950016, 0.374536996965517, 0.7251971752451791, 1.3691365132789919, 0.9392487930236328, 0.4227048487390981, 0.7371619945268744, 0.012081208078308148, 1.0276201350204741, 1.2833686214418156, 0.5861331896665185, 1.0650113029593455, 0.232469029952036, 1.3379676792557893, 1.4596243879928867, 1.2411937998506408]\n"
     ]
    }
   ],
   "source": [
    "if true   \n",
    "    T, p = size(X)\n",
    "    Z = get_Z(X)\n",
    "    max_cuts = 5\n",
    "    cuts = 0\n",
    "    L_OA = -10000\n",
    "    U_OA = 10000\n",
    "    \n",
    "    # Create model\n",
    "    model = Model(() -> Gurobi.Optimizer(GRB_ENV))#Model(with_optimizer(Gurobi.Optimizer))\n",
    "    set_optimizer_attribute(model, \"OutputFlag\", 0)\n",
    "    set_optimizer_attribute(model, \"NonConvex\", 2)\n",
    "    \n",
    "    # Add variables\n",
    "    @variable(model, λ[i=1:2, j=1:T] >= 0) \n",
    "    @variable(model, ν[i=1:2, j=1:T-1, k=1:p]>=0) \n",
    "    @variable(model, μ[i=1:2, j=1:T, k=1:p]>=0)\n",
    "    \n",
    "    @variable(model, α) \n",
    "    #@variable(model, γ)\n",
    "    @variable(model, y[j=1:T])\n",
    "\n",
    "    \n",
    "    @constraint(model,[t=1:T], λ[1,:] .+ λ[2,:] .== 1)\n",
    "        \n",
    "        \n",
    "    @constraint(model, transpose(λ[2,:])*Z-transpose(λ[1,:])*Z \n",
    "                        + sum(transpose(ν[1,t,:])*(get_A(X, t+1).-get_A(X, t)) for t=1:T-1)\n",
    "                        + sum(transpose(ν[2,t,:])*(-get_A(X, t+1).+get_A(X, t)) for t=1:T-1)\n",
    "                        + sum(transpose(μ[1,t,:])*get_A(X,t) for t=1:T)\n",
    "                        - sum(transpose(μ[2,t,:])*get_A(X,t) for t=1:T) .== 0)\n",
    "\n",
    "    #y in uncertainty set\n",
    "    @constraint(model, [1:T], D_min .<= y)\n",
    "    @constraint(model, [1:T], y .<= D_max)\n",
    "    \n",
    "    y_val0 = D_max #(D_min .+ D_max)./2\n",
    "    L_OA, λ_val0, ν_val0, μ_val0 = S_dual(X, y_val0, β0, epsilon, delta)\n",
    "    @constraint(model, α <= dot(λ_val0[1,:],y_val0) + dot(λ[1,:].-λ_val0[1,:], y_val0) + dot(y.-y_val0,λ_val0[1,:]))\n",
    "    \n",
    "    # Add objective\n",
    "    @objective(model, Max, 2*α - sum(y)\n",
    "                            - delta * sum(sum(ν[1,t,i]+ν[2,t,i] for i=1:p) for t=1:T-1)\n",
    "                            - sum(dot(epsilon .+ β0, μ[1,t,:]) for t = 1:T)\n",
    "                            + sum(dot(epsilon .- β0, μ[2,t,:]) for t = 1:T))\n",
    "    \n",
    "    ###\n",
    "    # Step 3: Define the outer approximation function\n",
    "    ###\n",
    "    #m2 = copy(model)\n",
    "    #optimize!(model)\n",
    "    while cuts < max_cuts\n",
    "        println(\"Lower: \", L_OA, \" Upper: \", U_OA)\n",
    "        cuts += 1\n",
    "        \n",
    "        y_val, U_OA = solve_model(model)\n",
    "\n",
    "        L_OA, λ_val, ν_val, μ_val = S_dual(X, y_val, β0, epsilon, delta)\n",
    "\n",
    "        if true#U_OA - L_OA > threshold\n",
    "            @constraint(model, α <= dot(λ_val[1,:],y_val) \n",
    "                                + dot(λ[1,:].-λ_val[1,:], y_val) \n",
    "                                + dot(y.-y_val,λ_val[1,:]))\n",
    "                                \n",
    "            println(\"Cut added\")\n",
    "            println(y_val)\n",
    "        end\n",
    "    end    \n",
    "end"
   ]
  },
  {
   "cell_type": "code",
   "execution_count": 273,
   "id": "electronic-hindu",
   "metadata": {},
   "outputs": [
    {
     "name": "stdout",
     "output_type": "stream",
     "text": [
      "Academic license - for non-commercial use only - expires 2022-07-20\n",
      "Lower: 6.139199513343522 Upper: 10000\n",
      "Gurobi Optimizer version 9.1.1 build v9.1.1rc0 (mac64)\n",
      "Thread count: 6 physical cores, 12 logical processors, using up to 12 threads\n",
      "Optimize a model with 2850 rows, 680 columns and 4780 nonzeros\n",
      "Model fingerprint: 0x505479be\n",
      "Model has 30 quadratic objective terms\n",
      "Coefficient statistics:\n",
      "  Matrix range     [7e-04, 1e+00]\n",
      "  Objective range  [5e-02, 1e+00]\n",
      "  QObjective range [4e+00, 4e+00]\n",
      "  Bounds range     [0e+00, 0e+00]\n",
      "  RHS range        [5e-02, 1e+00]\n",
      "Presolve removed 2700 rows and 30 columns\n",
      "\n",
      "Continuous model is non-convex -- solving as a MIP.\n",
      "\n",
      "Presolve removed 2700 rows and 180 columns\n",
      "Presolve time: 0.00s\n",
      "Presolved: 180 rows, 530 columns, 970 nonzeros\n",
      "Variable types: 500 continuous, 30 integer (30 binary)\n",
      "\n",
      "Root relaxation: objective 1.246047e+01, 284 iterations, 0.00 seconds\n",
      "\n",
      "    Nodes    |    Current Node    |     Objective Bounds      |     Work\n",
      " Expl Unexpl |  Obj  Depth IntInf | Incumbent    BestBd   Gap | It/Node Time\n",
      "\n",
      "     0     0   12.46047    0   11          -   12.46047      -     -    0s\n",
      "H    0     0                      10.5585946   12.46047  18.0%     -    0s\n",
      "H    0     0                      11.6520061   12.46047  6.94%     -    0s\n",
      "     0     0   12.10669    0   10   11.65201   12.10669  3.90%     -    0s\n",
      "     0     0   12.10247    0    9   11.65201   12.10247  3.87%     -    0s\n",
      "     0     0   11.97763    0   13   11.65201   11.97763  2.79%     -    0s\n",
      "     0     0   11.97763    0   13   11.65201   11.97763  2.79%     -    0s\n",
      "H    0     0                      11.6718363   11.97763  2.62%     -    0s\n",
      "     0     2   11.97763    0   13   11.67184   11.97763  2.62%     -    0s\n",
      "H   23    15                      11.7417347   11.83088  0.76%  17.7    0s\n",
      "\n",
      "Cutting planes:\n",
      "  Gomory: 5\n",
      "  MIR: 53\n",
      "  RLT: 2\n",
      "\n",
      "Explored 47 nodes (1049 simplex iterations) in 0.08 seconds\n",
      "Thread count was 12 (of 12 available processors)\n",
      "\n",
      "Solution count 3: 11.7417 11.652 10.5586 \n",
      "\n",
      "Optimal solution found (tolerance 1.00e-04)\n",
      "Best objective 1.174173473674e+01, best bound 1.174173473674e+01, gap 0.0000%\n",
      "\n",
      "User-callback calls 221, time in user-callback 0.00 sec\n",
      "U_OA from solve 11.74173473673961\n",
      "Academic license - for non-commercial use only - expires 2022-07-20\n",
      "Lower: 11.741734736739598 Upper: 11.74173473673961\n",
      "Gurobi Optimizer version 9.1.1 build v9.1.1rc0 (mac64)\n",
      "Thread count: 6 physical cores, 12 logical processors, using up to 12 threads\n",
      "Optimize a model with 2850 rows, 680 columns and 4780 nonzeros\n",
      "Model fingerprint: 0x505479be\n",
      "Model has 30 quadratic objective terms\n",
      "Variable types: 680 continuous, 0 integer (0 binary)\n",
      "Coefficient statistics:\n",
      "  Matrix range     [7e-04, 1e+00]\n",
      "  Objective range  [5e-02, 1e+00]\n",
      "  QObjective range [4e+00, 4e+00]\n",
      "  Bounds range     [0e+00, 0e+00]\n",
      "  RHS range        [5e-02, 1e+00]\n",
      "Presolved: 180 rows, 530 columns, 970 nonzeros\n",
      "\n",
      "Continuing optimization...\n",
      "\n",
      "\n",
      "Cutting planes:\n",
      "  Gomory: 5\n",
      "  MIR: 53\n",
      "  RLT: 2\n",
      "\n",
      "Explored 47 nodes (1049 simplex iterations) in 0.00 seconds\n",
      "Thread count was 12 (of 12 available processors)\n",
      "\n",
      "Solution count 3: 11.7417 11.652 10.5586 \n",
      "\n",
      "Optimal solution found (tolerance 1.00e-04)\n",
      "Best objective 1.174173473674e+01, best bound 1.174173473674e+01, gap 0.0000%\n",
      "\n",
      "User-callback calls 252, time in user-callback 0.00 sec\n",
      "U_OA from solve 11.74173473673961\n",
      "Academic license - for non-commercial use only - expires 2022-07-20\n",
      "Lower: 11.741734736739598 Upper: 11.74173473673961\n",
      "Gurobi Optimizer version 9.1.1 build v9.1.1rc0 (mac64)\n",
      "Thread count: 6 physical cores, 12 logical processors, using up to 12 threads\n",
      "Optimize a model with 2850 rows, 680 columns and 4780 nonzeros\n",
      "Model fingerprint: 0x505479be\n",
      "Model has 30 quadratic objective terms\n",
      "Variable types: 680 continuous, 0 integer (0 binary)\n",
      "Coefficient statistics:\n",
      "  Matrix range     [7e-04, 1e+00]\n",
      "  Objective range  [5e-02, 1e+00]\n",
      "  QObjective range [4e+00, 4e+00]\n",
      "  Bounds range     [0e+00, 0e+00]\n",
      "  RHS range        [5e-02, 1e+00]\n",
      "Presolved: 180 rows, 530 columns, 970 nonzeros\n",
      "\n",
      "Continuing optimization...\n",
      "\n",
      "\n",
      "Cutting planes:\n",
      "  Gomory: 5\n",
      "  MIR: 53\n",
      "  RLT: 2\n",
      "\n",
      "Explored 47 nodes (1049 simplex iterations) in 0.00 seconds\n",
      "Thread count was 12 (of 12 available processors)\n",
      "\n",
      "Solution count 3: 11.7417 11.652 10.5586 \n",
      "\n",
      "Optimal solution found (tolerance 1.00e-04)\n",
      "Best objective 1.174173473674e+01, best bound 1.174173473674e+01, gap 0.0000%\n",
      "\n",
      "User-callback calls 283, time in user-callback 0.00 sec\n",
      "U_OA from solve 11.74173473673961\n",
      "Academic license - for non-commercial use only - expires 2022-07-20\n",
      "Lower: 11.741734736739598 Upper: 11.74173473673961\n",
      "Gurobi Optimizer version 9.1.1 build v9.1.1rc0 (mac64)\n",
      "Thread count: 6 physical cores, 12 logical processors, using up to 12 threads\n",
      "Optimize a model with 2850 rows, 680 columns and 4780 nonzeros\n",
      "Model fingerprint: 0x505479be\n",
      "Model has 30 quadratic objective terms\n",
      "Variable types: 680 continuous, 0 integer (0 binary)\n",
      "Coefficient statistics:\n",
      "  Matrix range     [7e-04, 1e+00]\n",
      "  Objective range  [5e-02, 1e+00]\n",
      "  QObjective range [4e+00, 4e+00]\n",
      "  Bounds range     [0e+00, 0e+00]\n",
      "  RHS range        [5e-02, 1e+00]\n",
      "Presolved: 180 rows, 530 columns, 970 nonzeros\n",
      "\n",
      "Continuing optimization...\n",
      "\n",
      "\n",
      "Cutting planes:\n",
      "  Gomory: 5\n",
      "  MIR: 53\n",
      "  RLT: 2\n",
      "\n",
      "Explored 47 nodes (1049 simplex iterations) in 0.00 seconds\n",
      "Thread count was 12 (of 12 available processors)\n",
      "\n",
      "Solution count 3: 11.7417 11.652 10.5586 \n",
      "\n",
      "Optimal solution found (tolerance 1.00e-04)\n",
      "Best objective 1.174173473674e+01, best bound 1.174173473674e+01, gap 0.0000%\n",
      "\n",
      "User-callback calls 314, time in user-callback 0.00 sec\n",
      "U_OA from solve 11.74173473673961\n",
      "Academic license - for non-commercial use only - expires 2022-07-20\n",
      "Lower: 11.741734736739598 Upper: 11.74173473673961\n",
      "Gurobi Optimizer version 9.1.1 build v9.1.1rc0 (mac64)\n",
      "Thread count: 6 physical cores, 12 logical processors, using up to 12 threads\n",
      "Optimize a model with 2850 rows, 680 columns and 4780 nonzeros\n",
      "Model fingerprint: 0x505479be\n",
      "Model has 30 quadratic objective terms\n",
      "Variable types: 680 continuous, 0 integer (0 binary)\n",
      "Coefficient statistics:\n",
      "  Matrix range     [7e-04, 1e+00]\n",
      "  Objective range  [5e-02, 1e+00]\n",
      "  QObjective range [4e+00, 4e+00]\n",
      "  Bounds range     [0e+00, 0e+00]\n",
      "  RHS range        [5e-02, 1e+00]\n",
      "Presolved: 180 rows, 530 columns, 970 nonzeros\n",
      "\n",
      "Continuing optimization...\n",
      "\n",
      "\n",
      "Cutting planes:\n",
      "  Gomory: 5\n",
      "  MIR: 53\n",
      "  RLT: 2\n",
      "\n",
      "Explored 47 nodes (1049 simplex iterations) in 0.00 seconds\n",
      "Thread count was 12 (of 12 available processors)\n",
      "\n",
      "Solution count 3: 11.7417 11.652 10.5586 \n",
      "\n",
      "Optimal solution found (tolerance 1.00e-04)\n",
      "Best objective 1.174173473674e+01, best bound 1.174173473674e+01, gap 0.0000%\n",
      "\n",
      "User-callback calls 345, time in user-callback 0.00 sec\n",
      "U_OA from solve 11.74173473673961\n",
      "Academic license - for non-commercial use only - expires 2022-07-20\n"
     ]
    }
   ],
   "source": [
    "if true   \n",
    "    T, p = size(X)\n",
    "    Z = get_Z(X)\n",
    "    max_cuts = 5\n",
    "    cuts = 0\n",
    "    L_OA = -10000\n",
    "    U_OA = 10000\n",
    "    \n",
    "    # Create model\n",
    "    model = Model(() -> Gurobi.Optimizer(GRB_ENV))#Model(with_optimizer(Gurobi.Optimizer))\n",
    "    #set_optimizer_attribute(model, \"OutputFlag\", 0)\n",
    "    set_optimizer_attribute(model, \"NonConvex\", 2)\n",
    "    \n",
    "    # Add variables\n",
    "    @variable(model, λ[i=1:2, j=1:T] >= 0) \n",
    "    @variable(model, ν[i=1:2, j=1:T-1, k=1:p]>=0) \n",
    "    @variable(model, μ[i=1:2, j=1:T, k=1:p]>=0)\n",
    "    \n",
    "    @variable(model, y[j=1:T])\n",
    "\n",
    "    \n",
    "    @constraint(model,[t=1:T], λ[1,:] .+ λ[2,:] .== 1)\n",
    "        \n",
    "        \n",
    "    @constraint(model, transpose(λ[2,:])*Z-transpose(λ[1,:])*Z \n",
    "                        + sum(transpose(ν[1,t,:])*(get_A(X, t+1).-get_A(X, t)) for t=1:T-1)\n",
    "                        + sum(transpose(ν[2,t,:])*(-get_A(X, t+1).+get_A(X, t)) for t=1:T-1)\n",
    "                        + sum(transpose(μ[1,t,:])*get_A(X,t) for t=1:T)\n",
    "                        - sum(transpose(μ[2,t,:])*get_A(X,t) for t=1:T) .== 0)\n",
    "\n",
    "    #y in uncertainty set\n",
    "    @constraint(model, [1:T], D_min .<= y)\n",
    "    @constraint(model, [1:T], y .<= D_max)\n",
    "    \n",
    "    y_val0 = D_max #(D_min .+ D_max)./2\n",
    "    L_OA, λ_val0, ν_val0, μ_val0 = S_dual(X, y_val0, β0, epsilon, delta)\n",
    "    \n",
    "    # Add objective\n",
    "    @objective(model, Max, 2*transpose(λ[1,:])*y - sum(y)\n",
    "                            - delta * sum(sum(ν[1,t,i]+ν[2,t,i] for i=1:p) for t=1:T-1)\n",
    "                            - sum(dot(epsilon .+ β0, μ[1,t,:]) for t = 1:T)\n",
    "                            + sum(dot(epsilon .- β0, μ[2,t,:]) for t = 1:T))\n",
    "    \n",
    "    ###\n",
    "    # Step 3: Define the outer approximation function\n",
    "    ###\n",
    "    #m2 = copy(model)\n",
    "    #optimize!(model)\n",
    "    while cuts < max_cuts\n",
    "        println(\"Lower: \", L_OA, \" Upper: \", U_OA)\n",
    "        cuts += 1\n",
    "        \n",
    "        y_val, U_OA = solve_model(model)\n",
    "\n",
    "        L_OA, λ_val, ν_val, μ_val = S_dual(X, y_val, β0, epsilon, delta)\n",
    "    end    \n",
    "end"
   ]
  },
  {
   "cell_type": "code",
   "execution_count": 271,
   "id": "attempted-avenue",
   "metadata": {},
   "outputs": [
    {
     "name": "stdout",
     "output_type": "stream",
     "text": [
      "Academic license - for non-commercial use only - expires 2022-07-20\n",
      "Gurobi Optimizer version 9.1.1 build v9.1.1rc0 (mac64)\n",
      "Thread count: 6 physical cores, 12 logical processors, using up to 12 threads\n",
      "Optimize a model with 2852 rows, 682 columns and 4883 nonzeros\n",
      "Model fingerprint: 0x6bebc612\n",
      "Coefficient statistics:\n",
      "  Matrix range     [7e-04, 1e+00]\n",
      "  Objective range  [5e-02, 1e+00]\n",
      "  Bounds range     [0e+00, 0e+00]\n",
      "  RHS range        [5e-02, 2e+01]\n",
      "Presolve removed 2702 rows and 64 columns\n",
      "Presolve time: 0.00s\n",
      "Presolved: 150 rows, 618 columns, 1020 nonzeros\n",
      "\n",
      "Iteration    Objective       Primal Inf.    Dual Inf.      Time\n",
      "       0    2.8856406e+01   7.312947e+01   0.000000e+00      0s\n",
      "     298    1.0856114e+01   0.000000e+00   0.000000e+00      0s\n",
      "\n",
      "Solved in 298 iterations and 0.01 seconds\n",
      "Optimal objective  1.085611376e+01\n",
      "\n",
      "User-callback calls 335, time in user-callback 0.00 sec\n",
      "10000\n",
      "4.960473282817949\n"
     ]
    },
    {
     "data": {
      "text/plain": [
       "30-element Array{Float64,1}:\n",
       " 0.5191025477750704\n",
       " 1.0050811033004208\n",
       " 1.2099690485313632\n",
       " 0.36189749029161034\n",
       " 0.49893452500354263\n",
       " 1.434251960631498\n",
       " 1.3668963479536342\n",
       " 1.2192586265507033\n",
       " 0.22981764003633476\n",
       " 1.3456953427792637\n",
       " 1.1108493801344979\n",
       " 0.33660946997334595\n",
       " 0.05328918028719687\n",
       " ⋮\n",
       " 0.16907880592122382\n",
       " 0.1746445234450209\n",
       " 0.7694805310968174\n",
       " 0.8904179931067624\n",
       " 1.1270924027059324\n",
       " 1.3122967540717276\n",
       " 1.489353226313489\n",
       " 0.431520488325551\n",
       " 0.19245588276446846\n",
       " 1.41857722740096\n",
       " 0.6543399906901304\n",
       " 0.1498326677365096"
      ]
     },
     "execution_count": 271,
     "metadata": {},
     "output_type": "execute_result"
    }
   ],
   "source": [
    "n = 30\n",
    "p = 5\n",
    "X = Random.rand(n,p)\n",
    "#X[:,-1] = np.ones(n)\n",
    "y = Random.rand(n)\n",
    "epsilon = 0.05\n",
    "delta = 0.05\n",
    "\n",
    "D_min = Random.rand(n)\n",
    "D_max = D_min .+ 0.5 \n",
    "threshold = 0.5\n",
    "β0 = Random.rand(p)\n",
    "model, y, L_OA, U_OA, α, γ = U(X, D_min, D_max, β0, epsilon, delta, threshold)\n",
    "println(U_OA)\n",
    "println(L_OA)\n",
    "y"
   ]
  },
  {
   "cell_type": "code",
   "execution_count": 173,
   "id": "lyric-smile",
   "metadata": {},
   "outputs": [
    {
     "data": {
      "text/plain": [
       "-2.1744458297540286"
      ]
     },
     "execution_count": 173,
     "metadata": {},
     "output_type": "execute_result"
    }
   ],
   "source": [
    "sub_OA = U_OA - getvalue.(α)"
   ]
  },
  {
   "cell_type": "code",
   "execution_count": 174,
   "id": "complex-stewart",
   "metadata": {},
   "outputs": [
    {
     "data": {
      "text/plain": [
       "-1.7376516923119785"
      ]
     },
     "execution_count": 174,
     "metadata": {},
     "output_type": "execute_result"
    }
   ],
   "source": [
    "sub_LA = L_OA - dot(λ_val[1,:],y_val) + dot(λ_val[2,:],y_val) "
   ]
  },
  {
   "cell_type": "code",
   "execution_count": null,
   "id": "noted-nudist",
   "metadata": {},
   "outputs": [],
   "source": [
    "2*α - sum(y[t] for t=1:T)\n",
    "                            - delta * sum(sum(ν[1,t,i]+ν[2,t,i] for i=1:p) for t=1:T-1)\n",
    "                            - sum(dot(epsilon .+ β0, μ[1,t,:]) for t = 1:T)\n",
    "                            + sum(dot(epsilon .- β0, μ[2,t,:]) for t = 1:T)"
   ]
  },
  {
   "cell_type": "code",
   "execution_count": 176,
   "id": "natural-editor",
   "metadata": {},
   "outputs": [
    {
     "data": {
      "text/plain": [
       "4.763530849986924"
      ]
     },
     "execution_count": 176,
     "metadata": {},
     "output_type": "execute_result"
    }
   ],
   "source": [
    "dot(λ_val[1,:],y_val) - dot(λ_val[2,:],y_val)"
   ]
  },
  {
   "cell_type": "code",
   "execution_count": 175,
   "id": "moved-antibody",
   "metadata": {},
   "outputs": [
    {
     "data": {
      "text/plain": [
       "4.622827386255075"
      ]
     },
     "execution_count": 175,
     "metadata": {},
     "output_type": "execute_result"
    }
   ],
   "source": [
    "2*getvalue.(α)-sum(getvalue.(y))"
   ]
  },
  {
   "cell_type": "code",
   "execution_count": 185,
   "id": "waiting-authorization",
   "metadata": {},
   "outputs": [
    {
     "data": {
      "text/plain": [
       "2×8 Array{Float64,2}:\n",
       " 0.237489  1.0  1.0  1.0  1.0  1.0  0.0  0.5\n",
       " 0.762511  0.0  0.0  0.0  0.0  0.0  1.0  0.5"
      ]
     },
     "execution_count": 185,
     "metadata": {},
     "output_type": "execute_result"
    }
   ],
   "source": [
    "λ_val = getvalue.(λ)"
   ]
  },
  {
   "cell_type": "code",
   "execution_count": 240,
   "id": "elegant-longer",
   "metadata": {},
   "outputs": [
    {
     "data": {
      "text/plain": [
       "10-element Array{Float64,1}:\n",
       " 1.246619713529564\n",
       " 0.2357621500647733\n",
       " 0.8031199904871795\n",
       " 0.8234069949557103\n",
       " 0.6149510694043452\n",
       " 0.02696144751072249\n",
       " 0.01934453317589746\n",
       " 0.6189572592935506\n",
       " 1.4168534654101108\n",
       " 0.027498555784792655"
      ]
     },
     "execution_count": 240,
     "metadata": {},
     "output_type": "execute_result"
    }
   ],
   "source": [
    "y_val = getvalue.(y)"
   ]
  },
  {
   "cell_type": "code",
   "execution_count": null,
   "id": "clinical-roommate",
   "metadata": {},
   "outputs": [],
   "source": [
    "dot(λ_val[1,:],y_val) \n",
    "                                + dot(λ[1,:].-λ_val[1,:], y_val) \n",
    "                                + dot(y.-y_val,λ_val[1,:])"
   ]
  },
  {
   "cell_type": "code",
   "execution_count": 234,
   "id": "involved-specialist",
   "metadata": {},
   "outputs": [
    {
     "data": {
      "text/plain": [
       "5.322916405478342"
      ]
     },
     "execution_count": 234,
     "metadata": {},
     "output_type": "execute_result"
    }
   ],
   "source": [
    "dot(λ_val0[1,:],y_val0) + dot(λ_valu[1,:].-λ_val0[1,:], y_val0) + dot(y_val.-y_val0,λ_val0[1,:])"
   ]
  },
  {
   "cell_type": "code",
   "execution_count": 235,
   "id": "marine-techno",
   "metadata": {},
   "outputs": [
    {
     "data": {
      "text/plain": [
       "5.322916405478343"
      ]
     },
     "execution_count": 235,
     "metadata": {},
     "output_type": "execute_result"
    }
   ],
   "source": [
    "dot(λ_valu[1,:],y_val) #+ dot(λ_valu[1,:].-λ_val0[1,:], y_val0) + dot(y_val.-y_val0,λ_val0[1,:])"
   ]
  },
  {
   "cell_type": "code",
   "execution_count": 243,
   "id": "absent-sheep",
   "metadata": {},
   "outputs": [
    {
     "data": {
      "text/plain": [
       "5.555131855391839"
      ]
     },
     "execution_count": 243,
     "metadata": {},
     "output_type": "execute_result"
    }
   ],
   "source": [
    "#First term S\n",
    "s1 = dot(λ_val[1,:],y_val)\n",
    "s1"
   ]
  },
  {
   "cell_type": "code",
   "execution_count": 244,
   "id": "nuclear-duplicate",
   "metadata": {},
   "outputs": [
    {
     "data": {
      "text/plain": [
       "0.2783433242248072"
      ]
     },
     "execution_count": 244,
     "metadata": {},
     "output_type": "execute_result"
    }
   ],
   "source": [
    "#Second term S\n",
    "s2 = dot(λ_val[2,:],y_val)\n",
    "s2"
   ]
  },
  {
   "cell_type": "code",
   "execution_count": 242,
   "id": "configured-columbus",
   "metadata": {},
   "outputs": [
    {
     "name": "stdout",
     "output_type": "stream",
     "text": [
      "Academic license - for non-commercial use only - expires 2022-07-20\n",
      "4.1280649993127065"
     ]
    }
   ],
   "source": [
    "#Total S\n",
    "L_OA, λ_val, ν_val, μ_val = S_dual(X, y_val, β0, epsilon, delta);\n",
    "print(L_OA)"
   ]
  },
  {
   "cell_type": "code",
   "execution_count": 245,
   "id": "delayed-strap",
   "metadata": {},
   "outputs": [
    {
     "data": {
      "text/plain": [
       "-1.148723531854324"
      ]
     },
     "execution_count": 245,
     "metadata": {},
     "output_type": "execute_result"
    }
   ],
   "source": [
    "#Second part S\n",
    "s3 = - delta * sum(sum(ν_val[1,t,i]+ν_val[2,t,i] for i=1:p) for t=1:T-1) - sum(dot(epsilon .+ β0, μ_val[1,t,:]) for t = 1:T)+ sum(dot(epsilon .- β0, μ_val[2,t,:]) for t = 1:T)\n",
    "s3"
   ]
  },
  {
   "cell_type": "code",
   "execution_count": 246,
   "id": "biblical-workplace",
   "metadata": {},
   "outputs": [
    {
     "data": {
      "text/plain": [
       "4.128064999312707"
      ]
     },
     "execution_count": 246,
     "metadata": {},
     "output_type": "execute_result"
    }
   ],
   "source": [
    "s1-s2+s3"
   ]
  },
  {
   "cell_type": "code",
   "execution_count": 247,
   "id": "accepting-brunswick",
   "metadata": {},
   "outputs": [
    {
     "data": {
      "text/plain": [
       "5.347249631285829"
      ]
     },
     "execution_count": 247,
     "metadata": {},
     "output_type": "execute_result"
    }
   ],
   "source": [
    "getvalue.(α)"
   ]
  },
  {
   "cell_type": "code",
   "execution_count": 251,
   "id": "arbitrary-gospel",
   "metadata": {},
   "outputs": [
    {
     "data": {
      "text/plain": [
       "4.86102408295501"
      ]
     },
     "execution_count": 251,
     "metadata": {},
     "output_type": "execute_result"
    }
   ],
   "source": [
    "#First term U\n",
    "u1 = 2*getvalue.(α) - sum(y_val);\n",
    "u1"
   ]
  },
  {
   "cell_type": "code",
   "execution_count": 249,
   "id": "positive-choir",
   "metadata": {},
   "outputs": [
    {
     "data": {
      "text/plain": [
       "5.276788531167032"
      ]
     },
     "execution_count": 249,
     "metadata": {},
     "output_type": "execute_result"
    }
   ],
   "source": [
    "s1-s2"
   ]
  },
  {
   "cell_type": "code",
   "execution_count": 252,
   "id": "alternative-african",
   "metadata": {},
   "outputs": [
    {
     "data": {
      "text/plain": [
       "-0.947176766955676"
      ]
     },
     "execution_count": 252,
     "metadata": {},
     "output_type": "execute_result"
    }
   ],
   "source": [
    "#Second term U\n",
    "λ_valu, ν_valu, μ_valu = getvalue.(λ), getvalue.(ν),getvalue.(μ)\n",
    "u3 = - delta * sum(sum(ν_valu[1,t,i]+ν_valu[2,t,i] for i=1:p) for t=1:T-1) - sum(dot(epsilon .+ β0, μ_valu[1,t,:]) for t = 1:T)+ sum(dot(epsilon .- β0, μ_valu[2,t,:]) for t = 1:T)\n",
    "u3"
   ]
  },
  {
   "cell_type": "markdown",
   "id": "amazing-stockholm",
   "metadata": {},
   "source": [
    "# Work in progress"
   ]
  },
  {
   "cell_type": "code",
   "execution_count": 5,
   "id": "945cc1b5",
   "metadata": {},
   "outputs": [
    {
     "data": {
      "text/plain": [
       "U (generic function with 1 method)"
      ]
     },
     "execution_count": 5,
     "metadata": {},
     "output_type": "execute_result"
    }
   ],
   "source": [
    "function U(X, D_min, D_max, β0, epsilon, delta, threshold)\n",
    "    \n",
    "    T, p = size(X)\n",
    "    Z = get_Z(X)\n",
    "    \n",
    "    L_OA = -10000\n",
    "    U_OA = 10000\n",
    "    \n",
    "    # Create model\n",
    "    model = Model(() -> Gurobi.Optimizer(GRB_ENV))#Model(with_optimizer(Gurobi.Optimizer))\n",
    "    #set_optimizer_attribute(model, \"OutputFlag\", 0)\n",
    "    \n",
    "    # Add variables\n",
    "    @variable(model, λ[i=1:2, j=1:T] >= 0) \n",
    "    @variable(model, ν[i=1:2, j=1:T-1, k=1:p]>=0) \n",
    "    @variable(model, μ[i=1:2, j=1:T, k=1:p]>=0)\n",
    "    \n",
    "    @variable(model, α) \n",
    "    @variable(model, γ)\n",
    "    @variable(model, y[j=1:T])\n",
    "\n",
    "    \n",
    "    @constraint(model,[t=1:T], λ[1,:] .+ λ[2,:] .== 1)\n",
    "        \n",
    "        \n",
    "    @constraint(model, transpose(λ[2,:])*Z-transpose(λ[1,:])*Z \n",
    "                        + sum(transpose(ν[1,t,:])*(get_A(X, t+1).-get_A(X, t)) for t=1:T-1)\n",
    "                        + sum(transpose(ν[2,t,:])*(-get_A(X, t+1).+get_A(X, t)) for t=1:T-1)\n",
    "                        + sum(transpose(μ[1,t,:])*get_A(X,t) for t=1:T)\n",
    "                        - sum(transpose(μ[2,t,:])*get_A(X,t) for t=1:T) .== 0)\n",
    "    \n",
    "    #y in uncertainty set\n",
    "    @constraint(model, [1:T], D_min .<= y)\n",
    "    @constraint(model, [1:T], y .<= D_max)\n",
    "    \n",
    "    y_val0 = (D_min .+ D_max)./2\n",
    "    L_OA, λ_val0, _, _ = S_dual(X, y_val0, β0, epsilon, delta)\n",
    "    @constraint(model, α <= dot(λ_val0[1,:],y_val0) \n",
    "                            + dot(λ[1,:].-λ_val0[1,:], y_val0) \n",
    "                            + dot(y.-y_val0,λ_val0[1,:]))\n",
    "    \n",
    "    @constraint(model, γ >= dot(λ_val0[2,:],y_val0) \n",
    "                            + dot(λ[2,:].-λ_val0[2,:], y_val0) \n",
    "                            + dot(y.-y_val0,λ_val0[2,:]))\n",
    "    \n",
    "    # Add objective\n",
    "    @objective(model, Max, α - γ\n",
    "                            - delta * sum(sum(ν[1,t,i]+ν[2,t,i] for i=1:p) for t=1:T-1)\n",
    "                            - sum(dot(epsilon .+ β0, μ[1,t,:]) for t = 1:T)\n",
    "                            + sum(dot(epsilon .- β0, μ[2,t,:]) for t = 1:T))\n",
    "    \n",
    "    ###\n",
    "    # Step 3: Define the outer approximation function\n",
    "    ###\n",
    "    \n",
    "    function outer_approximation(cb_data)\n",
    "        print(\"Callback\")\n",
    "        #U_OA = objective_value(model)\n",
    "        y_val = []\n",
    "        for t = 1:T\n",
    "            y_val = [y_val;callback_value(cb_data, y[t])]\n",
    "        end\n",
    "        #new lowerbound\n",
    "        L_OA, λ_val, ν_val, μ_val = S_dual(X, y_val, β0, epsilon, delta)\n",
    "        α_val, γ_val = callback_value(cb_data, α), callback_value(cb_data, γ)\n",
    "        U_OA = α_val - γ_val - delta * sum(sum(ν_val[1,t,i]+ν_val[2,t,i] for i=1:p) for t=1:T-1)\n",
    "                            - sum(dot(epsilon .+ β0, μ_val[1,t,:]) for t = 1:T)\n",
    "                            + sum(dot(epsilon .- β0, μ_val[2,t,:]) for t = 1:T)\n",
    "#         λ1_val = []\n",
    "#         λ2_val = []\n",
    "        \n",
    "#         for t = 1:T\n",
    "#             λ1_val = [λ1_val;callback_value(cb_data, λ[1,t])]\n",
    "#             λ2_val = [λ2_val;callback_value(cb_data, λ[2,t])]\n",
    "#         end\n",
    "        \n",
    "#         #linearization of the bilinear term\n",
    "#         con1 = @build_constraint(α <= dot(λ1_val,y_val) \n",
    "#                                 + dot(λ[1,:].-λ1_val, y_val) \n",
    "#                                 + dot(y.-y_val,λ1_val))\n",
    "#         con2 = @build_constraint(γ <= dot(λ2_val,y_val) \n",
    "#                             + dot(λ[2,:].-λ2_val, y_val) \n",
    "#                             + dot(y.-y_val,λ2_val))\n",
    "        #linearization of the bilinear term\n",
    "        con1 = @build_constraint(α <= dot(λ_val[1,:],y_val) \n",
    "                                + dot(λ[1,:].-λ_val[1,:], y_val) \n",
    "                                + dot(y.-y_val,λ_val[1,:]))\n",
    "        con2 = @build_constraint(γ >= dot(λ_val[2,:],y_val) \n",
    "                            + dot(λ[2,:].-λ_val[2,:], y_val) \n",
    "                            + dot(y.-y_val,λ_val[2,:]))\n",
    "        if U_OA - L_OA > threshold\n",
    "            MOI.submit(model, MOI.LazyConstraint(cb_data), con1)\n",
    "            MOI.submit(model, MOI.LazyConstraint(cb_data), con2)\n",
    "            print(\"Cut added\")\n",
    "        end\n",
    "    end\n",
    "    #MOI.set(model, MOI.RawParameter(\"LazyConstraints\"), 1)\n",
    "    #MOI.set(model, MOI.LazyConstraintCallback(), outer_approximation)\n",
    "    MOI.set(model, MOI.UserCutCallback(), outer_approximation)\n",
    "    \n",
    "    optimize!(model)\n",
    "    \n",
    "    return model, getvalue.(y), L_OA, U_OA, getvalue.(α), getvalue.(γ)#get_objective_value(model)\n",
    "end"
   ]
  },
  {
   "cell_type": "code",
   "execution_count": 455,
   "id": "ea5c8c47",
   "metadata": {},
   "outputs": [
    {
     "name": "stdout",
     "output_type": "stream",
     "text": [
      "Academic license - for non-commercial use only - expires 2022-07-20\n",
      "Gurobi Optimizer version 9.1.1 build v9.1.1rc0 (mac64)\n",
      "Thread count: 6 physical cores, 12 logical processors, using up to 12 threads\n",
      "Optimize a model with 332 rows, 146 columns and 663 nonzeros\n",
      "Model fingerprint: 0xe232e15b\n",
      "Coefficient statistics:\n",
      "  Matrix range     [1e-02, 1e+00]\n",
      "  Objective range  [1e-01, 1e+00]\n",
      "  Bounds range     [0e+00, 0e+00]\n",
      "  RHS range        [1e-01, 6e+00]\n",
      "Presolve removed 300 rows and 10 columns\n",
      "Presolve time: 0.00s\n",
      "Presolved: 32 rows, 136 columns, 233 nonzeros\n",
      "\n",
      "Iteration    Objective       Primal Inf.    Dual Inf.      Time\n",
      "       0      handle free variables                          0s\n",
      "      53    4.3074467e+00   0.000000e+00   0.000000e+00      0s\n",
      "\n",
      "Solved in 53 iterations and 0.00 seconds\n",
      "Optimal objective  4.307446677e+00\n",
      "\n",
      "User-callback calls 90, time in user-callback 0.00 sec\n"
     ]
    }
   ],
   "source": [
    "if true   \n",
    "    T, p = size(X)\n",
    "    Z = get_Z(X)\n",
    "    \n",
    "    L_OA = -10000\n",
    "    U_OA = 10000\n",
    "    \n",
    "    # Create model\n",
    "    model = Model(() -> Gurobi.Optimizer(GRB_ENV))#Model(with_optimizer(Gurobi.Optimizer))\n",
    "    #set_optimizer_attribute(model, \"OutputFlag\", 0)\n",
    "    \n",
    "    # Add variables\n",
    "    @variable(model, λ[i=1:2, j=1:T] >= 0) \n",
    "    @variable(model, ν[i=1:2, j=1:T-1, k=1:p]>=0) \n",
    "    @variable(model, μ[i=1:2, j=1:T, k=1:p]>=0)\n",
    "    \n",
    "    @variable(model, α) \n",
    "    @variable(model, γ)\n",
    "    @variable(model, y[j=1:T])\n",
    "\n",
    "    \n",
    "    @constraint(model,[t=1:T], λ[1,:] .+ λ[2,:] .== 1)\n",
    "        \n",
    "        \n",
    "    @constraint(model, transpose(λ[2,:])*Z-transpose(λ[1,:])*Z \n",
    "                        + sum(transpose(ν[1,t,:])*(get_A(X, t+1).-get_A(X, t)) for t=1:T-1)\n",
    "                        + sum(transpose(ν[2,t,:])*(-get_A(X, t+1).+get_A(X, t)) for t=1:T-1)\n",
    "                        + sum(transpose(μ[1,t,:])*get_A(X,t) for t=1:T)\n",
    "                        - sum(transpose(μ[2,t,:])*get_A(X,t) for t=1:T) .== 0)\n",
    "    \n",
    "    #y in uncertainty set\n",
    "    @constraint(model, [1:T], D_min .<= y)\n",
    "    @constraint(model, [1:T], y .<= D_max)\n",
    "    \n",
    "    y_val0 = (D_min .+ D_max)./2\n",
    "    L_OA, λ_val0, _, _ = S_dual(X, y_val0, β0, epsilon, delta)\n",
    "    @constraint(model, α <= dot(λ_val0[1,:],y_val0) \n",
    "                            + dot(λ[1,:].-λ_val0[1,:], y_val0) \n",
    "                            + dot(y.-y_val0,λ_val0[1,:]))\n",
    "    \n",
    "    @constraint(model, γ >= dot(λ_val0[2,:],y_val0) \n",
    "                            + dot(λ[2,:].-λ_val0[2,:], y_val0) \n",
    "                            + dot(y.-y_val0,λ_val0[2,:]))\n",
    "    \n",
    "    # Add objective\n",
    "    @objective(model, Max, α - γ\n",
    "                            - delta * sum(sum(ν[1,t,i]+ν[2,t,i] for i=1:p) for t=1:T-1)\n",
    "                            - sum(dot(epsilon .+ β0, μ[1,t,:]) for t = 1:T)\n",
    "                            + sum(dot(epsilon .- β0, μ[2,t,:]) for t = 1:T))\n",
    "    \n",
    "    ###\n",
    "    # Step 3: Define the outer approximation function\n",
    "    ###\n",
    "    \n",
    "    function outer_approximation(cb_data)\n",
    "        print(\"Callback\")\n",
    "        #U_OA = objective_value(model)\n",
    "        y_val = []\n",
    "        for t = 1:T\n",
    "            y_val = [y_val;callback_value(cb_data, y[t])]\n",
    "        end\n",
    "        #new lowerbound\n",
    "        L_OA, λ_val, ν_val, μ_val = S_dual(X, y_val, β0, epsilon, delta)\n",
    "        α_val, γ_val = callback_value(cb_data, α), callback_value(cb_data, γ)\n",
    "        U_OA = α_val - γ_val - delta * sum(sum(ν_val[1,t,i]+ν_val[2,t,i] for i=1:p) for t=1:T-1)\n",
    "                            - sum(dot(epsilon .+ β0, μ_val[1,t,:]) for t = 1:T)\n",
    "                            + sum(dot(epsilon .- β0, μ_val[2,t,:]) for t = 1:T)\n",
    "#         λ1_val = []\n",
    "#         λ2_val = []\n",
    "        \n",
    "#         for t = 1:T\n",
    "#             λ1_val = [λ1_val;callback_value(cb_data, λ[1,t])]\n",
    "#             λ2_val = [λ2_val;callback_value(cb_data, λ[2,t])]\n",
    "#         end\n",
    "        \n",
    "#         #linearization of the bilinear term\n",
    "#         con1 = @build_constraint(α <= dot(λ1_val,y_val) \n",
    "#                                 + dot(λ[1,:].-λ1_val, y_val) \n",
    "#                                 + dot(y.-y_val,λ1_val))\n",
    "#         con2 = @build_constraint(γ <= dot(λ2_val,y_val) \n",
    "#                             + dot(λ[2,:].-λ2_val, y_val) \n",
    "#                             + dot(y.-y_val,λ2_val))\n",
    "        #linearization of the bilinear term\n",
    "        con1 = @build_constraint(α <= dot(λ_val[1,:],y_val) \n",
    "                                + dot(λ[1,:].-λ_val[1,:], y_val) \n",
    "                                + dot(y.-y_val,λ_val[1,:]))\n",
    "        con2 = @build_constraint(γ >= dot(λ_val[2,:],y_val) \n",
    "                            + dot(λ[2,:].-λ_val[2,:], y_val) \n",
    "                            + dot(y.-y_val,λ_val[2,:]))\n",
    "        if U_OA - L_OA > threshold\n",
    "            MOI.submit(model, MOI.LazyConstraint(cb_data), con1)\n",
    "            MOI.submit(model, MOI.LazyConstraint(cb_data), con2)\n",
    "            print(\"Cut added\")\n",
    "        end\n",
    "    end\n",
    "    MOI.set(model, MOI.RawParameter(\"LazyConstraints\"), 1)\n",
    "    MOI.set(model, MOI.LazyConstraintCallback(), outer_approximation)\n",
    "    #MOI.set(model, MOI.UserCutCallback(), outer_approximation)\n",
    "    optimize!(model)\n",
    "end"
   ]
  },
  {
   "cell_type": "code",
   "execution_count": null,
   "id": "edaf98b1",
   "metadata": {},
   "outputs": [],
   "source": [
    "if true   \n",
    "    T, p = size(X)\n",
    "    Z = get_Z(X)\n",
    "    \n",
    "    L_OA = -10000\n",
    "    U_OA = 10000\n",
    "    \n",
    "    # Create model\n",
    "    model = Model(() -> Gurobi.Optimizer(GRB_ENV))#Model(with_optimizer(Gurobi.Optimizer))\n",
    "    #set_optimizer_attribute(model, \"OutputFlag\", 0)\n",
    "    \n",
    "    # Add variables\n",
    "    @variable(model, λ[i=1:2, j=1:T] >= 0) \n",
    "    @variable(model, ν[i=1:2, j=1:T-1, k=1:p]>=0) \n",
    "    @variable(model, μ[i=1:2, j=1:T, k=1:p]>=0)\n",
    "    \n",
    "    @variable(model, α) \n",
    "    @variable(model, γ)\n",
    "    @variable(model, y[j=1:T])\n",
    "\n",
    "    \n",
    "    @constraint(model,[t=1:T], λ[1,:] .+ λ[2,:] .== 1)\n",
    "        \n",
    "        \n",
    "    @constraint(model, transpose(λ[2,:])*Z-transpose(λ[1,:])*Z \n",
    "                        + sum(transpose(ν[1,t,:])*(get_A(X, t+1).-get_A(X, t)) for t=1:T-1)\n",
    "                        + sum(transpose(ν[2,t,:])*(-get_A(X, t+1).+get_A(X, t)) for t=1:T-1)\n",
    "                        + sum(transpose(μ[1,t,:])*get_A(X,t) for t=1:T)\n",
    "                        - sum(transpose(μ[2,t,:])*get_A(X,t) for t=1:T) .== 0)\n",
    "    \n",
    "    #y in uncertainty set\n",
    "    @constraint(model, [1:T], D_min .<= y)\n",
    "    @constraint(model, [1:T], y .<= D_max)\n",
    "    \n",
    "    y_val0 = (D_min .+ D_max)./2\n",
    "    L_OA, λ_val0, _, _ = S_dual(X, y_val0, β0, epsilon, delta)\n",
    "    @constraint(model, α <= dot(λ_val0[1,:],y_val0) \n",
    "                            + dot(λ[1,:].-λ_val0[1,:], y_val0) \n",
    "                            + dot(y.-y_val0,λ_val0[1,:]))\n",
    "    \n",
    "    @constraint(model, γ >= dot(λ_val0[2,:],y_val0) \n",
    "                            + dot(λ[2,:].-λ_val0[2,:], y_val0) \n",
    "                            + dot(y.-y_val0,λ_val0[2,:]))\n",
    "    \n",
    "    # Add objective\n",
    "    @objective(model, Max, α - γ\n",
    "                            - delta * sum(sum(ν[1,t,i]+ν[2,t,i] for i=1:p) for t=1:T-1)\n",
    "                            - sum(dot(epsilon .+ β0, μ[1,t,:]) for t = 1:T)\n",
    "                            + sum(dot(epsilon .- β0, μ[2,t,:]) for t = 1:T))\n",
    "    \n",
    "    ###\n",
    "    # Step 3: Define the outer approximation function\n",
    "    ###\n",
    "    \n",
    "    function outer_approximation(cb_data)\n",
    "        print(\"Callback\")\n",
    "        #U_OA = objective_value(model)\n",
    "        y_val = []\n",
    "        for t = 1:T\n",
    "            y_val = [y_val;callback_value(cb_data, y[t])]\n",
    "        end\n",
    "        #new lowerbound\n",
    "        L_OA, λ_val, ν_val, μ_val = S_dual(X, y_val, β0, epsilon, delta)\n",
    "        α_val, γ_val = callback_value(cb_data, α), callback_value(cb_data, γ)\n",
    "        U_OA = α_val - γ_val - delta * sum(sum(ν_val[1,t,i]+ν_val[2,t,i] for i=1:p) for t=1:T-1)\n",
    "                            - sum(dot(epsilon .+ β0, μ_val[1,t,:]) for t = 1:T)\n",
    "                            + sum(dot(epsilon .- β0, μ_val[2,t,:]) for t = 1:T)\n",
    "        #linearization of the bilinear term\n",
    "        con1 = @build_constraint(α <= dot(λ_val[1,:],y_val) \n",
    "                                + dot(λ[1,:].-λ_val[1,:], y_val) \n",
    "                                + dot(y.-y_val,λ_val[1,:]))\n",
    "        con2 = @build_constraint(γ >= dot(λ_val[2,:],y_val) \n",
    "                            + dot(λ[2,:].-λ_val[2,:], y_val) \n",
    "                            + dot(y.-y_val,λ_val[2,:]))\n",
    "        if U_OA - L_OA > threshold\n",
    "            MOI.submit(model, MOI.LazyConstraint(cb_data), con1)\n",
    "            MOI.submit(model, MOI.LazyConstraint(cb_data), con2)\n",
    "            print(\"Cut added\")\n",
    "        end\n",
    "    end\n",
    "    MOI.set(model, MOI.RawParameter(\"LazyConstraints\"), 1)\n",
    "    MOI.set(model, MOI.LazyConstraintCallback(), outer_approximation)\n",
    "    #MOI.set(model, MOI.UserCutCallback(), outer_approximation)\n",
    "    optimize!(model)\n",
    "end"
   ]
  },
  {
   "cell_type": "code",
   "execution_count": 70,
   "id": "general-armor",
   "metadata": {},
   "outputs": [
    {
     "name": "stdout",
     "output_type": "stream",
     "text": [
      "Academic license - for non-commercial use only - expires 2022-07-20\n",
      "Lower: 1.656032211193675Upper: 10000\n",
      "Academic license - for non-commercial use only - expires 2022-07-20\n",
      "5.668960605208838\n",
      "Cut addedLower: 2.9423204539327297Upper: 2.906032211193675\n",
      "Academic license - for non-commercial use only - expires 2022-07-20\n",
      "6.149171329715432\n",
      "Cut addedLower: 2.9423204539327297Upper: 1.8408987123197835\n",
      "Academic license - for non-commercial use only - expires 2022-07-20\n",
      "6.149171329715432\n",
      "Cut addedLower: 2.9423204539327297Upper: 1.8408987123197835\n",
      "Academic license - for non-commercial use only - expires 2022-07-20\n",
      "6.149171329715432\n",
      "Cut addedLower: 2.9423204539327297Upper: 1.8408987123197835\n",
      "Academic license - for non-commercial use only - expires 2022-07-20\n",
      "6.149171329715432\n",
      "Cut added"
     ]
    }
   ],
   "source": [
    "if true   \n",
    "    T, p = size(X)\n",
    "    Z = get_Z(X)\n",
    "    max_cuts = 5\n",
    "    cuts = 0\n",
    "    L_OA = -10000\n",
    "    U_OA = 10000\n",
    "    \n",
    "    # Create model\n",
    "    model = Model(() -> Gurobi.Optimizer(GRB_ENV))#Model(with_optimizer(Gurobi.Optimizer))\n",
    "    set_optimizer_attribute(model, \"OutputFlag\", 0)\n",
    "    \n",
    "    # Add variables\n",
    "    @variable(model, λ[i=1:2, j=1:T] >= 0) \n",
    "    @variable(model, ν[i=1:2, j=1:T-1, k=1:p]>=0) \n",
    "    @variable(model, μ[i=1:2, j=1:T, k=1:p]>=0)\n",
    "    \n",
    "    @variable(model, α) \n",
    "    @variable(model, γ)\n",
    "    @variable(model, y[j=1:T])\n",
    "\n",
    "    \n",
    "    @constraint(model,[t=1:T], λ[1,:] .+ λ[2,:] .== 1)\n",
    "        \n",
    "        \n",
    "    @constraint(model, transpose(λ[2,:])*Z-transpose(λ[1,:])*Z \n",
    "                        + sum(transpose(ν[1,t,:])*(get_A(X, t+1).-get_A(X, t)) for t=1:T-1)\n",
    "                        + sum(transpose(ν[2,t,:])*(-get_A(X, t+1).+get_A(X, t)) for t=1:T-1)\n",
    "                        + sum(transpose(μ[1,t,:])*get_A(X,t) for t=1:T)\n",
    "                        - sum(transpose(μ[2,t,:])*get_A(X,t) for t=1:T) .== 0)\n",
    "    \n",
    "    #y in uncertainty set\n",
    "    @constraint(model, [1:T], D_min .<= y)\n",
    "    @constraint(model, [1:T], y .<= D_max)\n",
    "    \n",
    "    y_val0 = (D_min .+ D_max)./2\n",
    "    L_OA, λ_val0, _, _ = S_dual(X, y_val0, β0, epsilon, delta)\n",
    "    @constraint(model, α <=   dot(λ_val0[1,:],y_val0) \n",
    "                            + dot(λ[1,:].-λ_val0[1,:], y_val0) \n",
    "                            + dot(y.-y_val0,λ_val0[1,:]))\n",
    "    \n",
    "    @constraint(model, - γ >=   dot(λ_val0[2,:],y_val0) \n",
    "                            + dot(λ[2,:].-λ_val0[2,:], y_val0) \n",
    "                            + dot(y.-y_val0,λ_val0[2,:]))\n",
    "    \n",
    "    # Add objective\n",
    "    @objective(model, Max, α + γ\n",
    "                            - delta * sum(sum(ν[1,t,i]+ν[2,t,i] for i=1:p) for t=1:T-1)\n",
    "                            - sum(dot(epsilon .+ β0, μ[1,t,:]) for t = 1:T)\n",
    "                            + sum(dot(epsilon .- β0, μ[2,t,:]) for t = 1:T))\n",
    "    \n",
    "    ###\n",
    "    # Step 3: Define the outer approximation function\n",
    "    ###\n",
    "    #m2 = copy(model)\n",
    "    optimize!(model)\n",
    "    while cuts < max_cuts\n",
    "        println(\"Lower: \", L_OA, \"Upper: \", U_OA)\n",
    "        cuts += 1\n",
    "        U_OA = objective_value(model)\n",
    "        y_val = getvalue.(y)\n",
    "        #new lowerbound\n",
    "        L_OA, λ_val, ν_val, μ_val = S_dual(X, y_val, β0, epsilon, delta)\n",
    "        println(getvalue.(α))        \n",
    "        if true#U_OA - L_OA > threshold\n",
    "            con_α = @constraint(model, α <= dot(λ_val[1,:],y_val) \n",
    "                                + dot(λ[1,:].-λ_val[1,:], y_val) \n",
    "                                + dot(y.-y_val,λ_val[1,:]))\n",
    "            con_γ = @constraint(model, γ >= dot(λ_val[2,:],y_val) \n",
    "                            + dot(λ[2,:].-λ_val[2,:], y_val) \n",
    "                            + dot(y.-y_val,λ_val[2,:]))\n",
    "            #MOI.submit(model, con_α)\n",
    "            #MOI.submit(model, con_γ)\n",
    "            #model.AddConstr(con_α)\n",
    "            optimize!(model)\n",
    "            print(\"Cut added\")\n",
    "        end\n",
    "    end    \n",
    "end"
   ]
  },
  {
   "cell_type": "code",
   "execution_count": 71,
   "id": "grateful-moscow",
   "metadata": {},
   "outputs": [
    {
     "data": {
      "text/plain": [
       "6-element Array{Float64,1}:\n",
       " 1.4095112245622\n",
       " 1.395134791009657\n",
       " 1.2809258382983861\n",
       " 0.4408212846874644\n",
       " 1.3979214012044536\n",
       " 0.3709347002682817"
      ]
     },
     "execution_count": 71,
     "metadata": {},
     "output_type": "execute_result"
    }
   ],
   "source": [
    "value.(model[:y])"
   ]
  },
  {
   "cell_type": "code",
   "execution_count": 160,
   "id": "valuable-commission",
   "metadata": {},
   "outputs": [
    {
     "name": "stdout",
     "output_type": "stream",
     "text": [
      "Academic license - for non-commercial use only - expires 2022-07-20\n",
      "Lower: 1.2905030686633057 Upper: 10000\n",
      "U_OA from solve 2.9217585540309985\n",
      "Academic license - for non-commercial use only - expires 2022-07-20\n",
      "Cut added\n",
      "Lower: 3.0258791576749458 Upper: 2.9217585540309985\n",
      "U_OA from solve 2.9217585540309985\n",
      "Academic license - for non-commercial use only - expires 2022-07-20\n",
      "Cut added\n",
      "Lower: 3.0258791576749458 Upper: 2.9217585540309985\n",
      "U_OA from solve 2.9217585540309985\n",
      "Academic license - for non-commercial use only - expires 2022-07-20\n",
      "Cut added\n",
      "Lower: 3.0258791576749458 Upper: 2.9217585540309985\n",
      "U_OA from solve 2.9217585540309985\n",
      "Academic license - for non-commercial use only - expires 2022-07-20\n",
      "Cut added\n",
      "Lower: 3.0258791576749458 Upper: 2.9217585540309985\n",
      "U_OA from solve 2.9217585540309985\n",
      "Academic license - for non-commercial use only - expires 2022-07-20\n",
      "Cut added\n"
     ]
    }
   ],
   "source": [
    "if true   \n",
    "    T, p = size(X)\n",
    "    Z = get_Z(X)\n",
    "    max_cuts = 5\n",
    "    cuts = 0\n",
    "    L_OA = -10000\n",
    "    U_OA = 10000\n",
    "    \n",
    "    # Create model\n",
    "    model = Model(() -> Gurobi.Optimizer(GRB_ENV))#Model(with_optimizer(Gurobi.Optimizer))\n",
    "    set_optimizer_attribute(model, \"OutputFlag\", 0)\n",
    "    \n",
    "    # Add variables\n",
    "    @variable(model, λ[i=1:2, j=1:T] >= 0) \n",
    "    @variable(model, ν[i=1:2, j=1:T-1, k=1:p]>=0) \n",
    "    @variable(model, μ[i=1:2, j=1:T, k=1:p]>=0)\n",
    "    \n",
    "    @variable(model, α) \n",
    "    #@variable(model, γ)\n",
    "    @variable(model, y[j=1:T])\n",
    "\n",
    "    \n",
    "    @constraint(model,[t=1:T], λ[1,:] .+ λ[2,:] .== 1)\n",
    "        \n",
    "        \n",
    "    @constraint(model, transpose(λ[2,:])*Z-transpose(λ[1,:])*Z \n",
    "                        + sum(transpose(ν[1,t,:])*(get_A(X, t+1).-get_A(X, t)) for t=1:T-1)\n",
    "                        + sum(transpose(ν[2,t,:])*(-get_A(X, t+1).+get_A(X, t)) for t=1:T-1)\n",
    "                        + sum(transpose(μ[1,t,:])*get_A(X,t) for t=1:T)\n",
    "                        - sum(transpose(μ[2,t,:])*get_A(X,t) for t=1:T) .== 0)\n",
    "\n",
    "    #y in uncertainty set\n",
    "    @constraint(model, [1:T], D_min .<= y)\n",
    "    @constraint(model, [1:T], y .<= D_max)\n",
    "    \n",
    "    y_val0 = (D_min .+ D_max)./2\n",
    "    L_OA, λ_val0, _, _ = S_dual(X, y_val0, β0, epsilon, delta)\n",
    "    @constraint(model, α <=   dot(λ_val0[1,:],y_val0) \n",
    "                            + dot(λ[1,:].-λ_val0[1,:], y_val0) \n",
    "                            + dot(y.-y_val0,λ_val0[1,:])\n",
    "                            - dot(λ_val0[2,:],y_val0) \n",
    "                            - dot(λ[2,:].-λ_val0[2,:], y_val0) \n",
    "                            - dot(y.-y_val0,λ_val0[2,:]))\n",
    "#     @constraint(model, γ >=   dot(λ_val0[2,:],y_val0) \n",
    "#                             + dot(λ[2,:].-λ_val0[2,:], y_val0) \n",
    "#                             + dot(y.-y_val0,λ_val0[2,:]))\n",
    "    \n",
    "    # Add objective\n",
    "    @objective(model, Max, α #- γ\n",
    "                            - delta * sum(sum(ν[1,t,i]+ν[2,t,i] for i=1:p) for t=1:T-1)\n",
    "                            - sum(dot(epsilon .+ β0, μ[1,t,:]) for t = 1:T)\n",
    "                            + sum(dot(epsilon .- β0, μ[2,t,:]) for t = 1:T))\n",
    "    \n",
    "    ###\n",
    "    # Step 3: Define the outer approximation function\n",
    "    ###\n",
    "    #m2 = copy(model)\n",
    "    #optimize!(model)\n",
    "    while cuts < max_cuts\n",
    "        println(\"Lower: \", L_OA, \" Upper: \", U_OA)\n",
    "        cuts += 1\n",
    "        y_val, U_OA = solve_model(model)\n",
    "\n",
    "        L_OA, λ_val, ν_val, μ_val = S_dual(X, y_val, β0, epsilon, delta)\n",
    "\n",
    "        if true#U_OA - L_OA > threshold\n",
    "            @constraint(model, α <= dot(λ_val[1,:],y_val) \n",
    "                                + dot(λ[1,:].-λ_val[1,:], y_val) \n",
    "                                + dot(y.-y_val,λ_val[1,:])\n",
    "                                - dot(λ_val[2,:],y_val) \n",
    "                                - dot(λ[2,:].-λ_val[2,:], y_val) \n",
    "                                - dot(y.-y_val,λ_val[2,:]))\n",
    "#             @constraint(model, γ >= dot(λ_val[2,:],y_val) \n",
    "#                             + dot(λ[2,:].-λ_val[2,:], y_val) \n",
    "#                             + dot(y.-y_val,λ_val[2,:]))\n",
    "            println(\"Cut added\")\n",
    "        end\n",
    "    end    \n",
    "end"
   ]
  },
  {
   "cell_type": "code",
   "execution_count": 125,
   "id": "breeding-grove",
   "metadata": {},
   "outputs": [
    {
     "name": "stdout",
     "output_type": "stream",
     "text": [
      "25.492387674355754\n"
     ]
    },
    {
     "data": {
      "text/plain": [
       "0.7306773571456898"
      ]
     },
     "execution_count": 125,
     "metadata": {},
     "output_type": "execute_result"
    }
   ],
   "source": [
    "println(getvalue.(α)) ; getvalue(γ)"
   ]
  },
  {
   "cell_type": "code",
   "execution_count": 164,
   "id": "capable-modern",
   "metadata": {},
   "outputs": [
    {
     "data": {
      "text/plain": [
       "8-element Array{Float64,1}:\n",
       " 0.5370083401843655\n",
       " 1.2222521761339815\n",
       " 1.339211649779766\n",
       " 0.9142199248949394\n",
       " 0.6387110336100499\n",
       " 0.813759189123922\n",
       " 0.0233854259379922\n",
       " 0.08103364164996285"
      ]
     },
     "execution_count": 164,
     "metadata": {},
     "output_type": "execute_result"
    }
   ],
   "source": [
    "y_val = getvalue.(y)"
   ]
  },
  {
   "cell_type": "code",
   "execution_count": 165,
   "id": "joined-membrane",
   "metadata": {},
   "outputs": [
    {
     "name": "stdout",
     "output_type": "stream",
     "text": [
      "Academic license - for non-commercial use only - expires 2022-07-20\n"
     ]
    },
    {
     "data": {
      "text/plain": [
       "(3.0258791576749458, [0.4439449525615276 1.0 … 0.0 0.0; 0.5560550474384724 0.0 … 1.0 1.0], [0.10704170581798711 0.0 … 0.0 0.0; 0.0 0.0 … 0.3461152048895899 0.20928184760755908]\n",
       "\n",
       "[0.09499670528033732 0.0 … 0.0 0.0; 0.0 0.0774763673396135 … 1.198173288998391 0.3498816501822435]\n",
       "\n",
       "[0.030590214594401297 0.0 … 0.0 0.0; 0.0 0.0 … 0.6745245750243316 0.5476464646076851]\n",
       "\n",
       "[0.024632607895257577 0.0 … 0.0 0.0; 0.0 0.0 … 0.02136431484675283 0.0], [0.0 0.6421681673183743 … 0.0 0.0; 0.0 0.0 … 0.0 0.0]\n",
       "\n",
       "[0.0 0.0 … 0.0 0.0; 0.0 0.0 … 0.0 0.0]\n",
       "\n",
       "[0.0 0.6640722345242436 … 0.0 0.0; 0.0 0.0 … 0.0 0.0]\n",
       "\n",
       "[0.0 0.2539117436462669 … 0.0 0.0; 0.0 0.0 … 0.0 0.5668058722576801])"
      ]
     },
     "execution_count": 165,
     "metadata": {},
     "output_type": "execute_result"
    }
   ],
   "source": [
    "L_OA, λ_val, ν_val, μ_val = S_dual(X, y_val, β0, epsilon, delta)"
   ]
  },
  {
   "cell_type": "code",
   "execution_count": 166,
   "id": "abandoned-fountain",
   "metadata": {},
   "outputs": [
    {
     "data": {
      "text/plain": [
       "3.0258791576749458"
      ]
     },
     "execution_count": 166,
     "metadata": {},
     "output_type": "execute_result"
    }
   ],
   "source": [
    "L_OA"
   ]
  },
  {
   "cell_type": "code",
   "execution_count": 84,
   "id": "pleasant-homework",
   "metadata": {},
   "outputs": [
    {
     "data": {
      "text/plain": [
       "solve_model (generic function with 1 method)"
      ]
     },
     "execution_count": 84,
     "metadata": {},
     "output_type": "execute_result"
    }
   ],
   "source": [
    "function solve_model(m)\n",
    "    optimize!(m)\n",
    "    U_OA = objective_value(m)\n",
    "    println(\"U_OA from solve \", U_OA)\n",
    "    return value.(m[:y]), U_OA\n",
    "end"
   ]
  },
  {
   "cell_type": "code",
   "execution_count": 153,
   "id": "worse-equation",
   "metadata": {},
   "outputs": [
    {
     "data": {
      "text/latex": [
       "$$ \\begin{alignat*}{1}\\max\\quad & α - 0.05 ν_{1,1,1} - 0.05 ν_{2,1,1} - 0.05 ν_{1,1,2} - 0.05 ν_{2,1,2} - 0.05 ν_{1,1,3} - 0.05 ν_{2,1,3} - 0.05 ν_{1,1,4} - 0.05 ν_{2,1,4} - 0.05 ν_{1,2,1} - 0.05 ν_{2,2,1} - 0.05 ν_{1,2,2} - 0.05 ν_{2,2,2} - 0.05 ν_{1,2,3} - 0.05 ν_{2,2,3} - 0.05 ν_{1,2,4} - 0.05 ν_{2,2,4} - 0.05 ν_{1,3,1} - 0.05 ν_{2,3,1} - 0.05 ν_{1,3,2} - 0.05 ν_{2,3,2} - 0.05 ν_{1,3,3} - 0.05 ν_{2,3,3} - 0.05 ν_{1,3,4} - 0.05 ν_{2,3,4} - 0.05 ν_{1,4,1} - 0.05 ν_{2,4,1} - 0.05 ν_{1,4,2} - 0.05 ν_{2,4,2} - 0.05 ν_{1,4,3} - 0.05 ν_{2,4,3} - 0.05 ν_{1,4,4} - 0.05 ν_{2,4,4} - 0.05 ν_{1,5,1} - 0.05 ν_{2,5,1} - 0.05 ν_{1,5,2} - 0.05 ν_{2,5,2} - 0.05 ν_{1,5,3} - 0.05 ν_{2,5,3} - 0.05 ν_{1,5,4} - 0.05 ν_{2,5,4} - 0.05 ν_{1,6,1} - 0.05 ν_{2,6,1} - 0.05 ν_{1,6,2} - 0.05 ν_{2,6,2} - 0.05 ν_{1,6,3} - 0.05 ν_{2,6,3} - 0.05 ν_{1,6,4} - 0.05 ν_{2,6,4} - 0.05 ν_{1,7,1} - 0.05 ν_{2,7,1} - 0.05 ν_{1,7,2} - 0.05 ν_{2,7,2} - 0.05 ν_{1,7,3} - 0.05 ν_{2,7,3} - 0.05 ν_{1,7,4} - 0.05 ν_{2,7,4} - 0.2480978602957939 μ_{1,1,1} - 1.0180354622337293 μ_{1,1,2} - 0.265656738187479 μ_{1,1,3} - 0.08651922716620737 μ_{1,1,4} - 0.2480978602957939 μ_{1,2,1} - 1.0180354622337293 μ_{1,2,2} - 0.265656738187479 μ_{1,2,3} - 0.08651922716620737 μ_{1,2,4} - 0.2480978602957939 μ_{1,3,1} - 1.0180354622337293 μ_{1,3,2} - 0.265656738187479 μ_{1,3,3} - 0.08651922716620737 μ_{1,3,4} - 0.2480978602957939 μ_{1,4,1} - 1.0180354622337293 μ_{1,4,2} - 0.265656738187479 μ_{1,4,3} - 0.08651922716620737 μ_{1,4,4} - 0.2480978602957939 μ_{1,5,1} - 1.0180354622337293 μ_{1,5,2} - 0.265656738187479 μ_{1,5,3} - 0.08651922716620737 μ_{1,5,4} - 0.2480978602957939 μ_{1,6,1} - 1.0180354622337293 μ_{1,6,2} - 0.265656738187479 μ_{1,6,3} - 0.08651922716620737 μ_{1,6,4} - 0.2480978602957939 μ_{1,7,1} - 1.0180354622337293 μ_{1,7,2} - 0.265656738187479 μ_{1,7,3} - 0.08651922716620737 μ_{1,7,4} - 0.2480978602957939 μ_{1,8,1} - 1.0180354622337293 μ_{1,8,2} - 0.265656738187479 μ_{1,8,3} - 0.08651922716620737 μ_{1,8,4} - 0.14809786029579391 μ_{2,1,1} - 0.9180354622337292 μ_{2,1,2} - 0.165656738187479 μ_{2,1,3} + 0.013480772833792634 μ_{2,1,4} - 0.14809786029579391 μ_{2,2,1} - 0.9180354622337292 μ_{2,2,2} - 0.165656738187479 μ_{2,2,3} + 0.013480772833792634 μ_{2,2,4} - 0.14809786029579391 μ_{2,3,1} - 0.9180354622337292 μ_{2,3,2} - 0.165656738187479 μ_{2,3,3} + 0.013480772833792634 μ_{2,3,4} - 0.14809786029579391 μ_{2,4,1} - 0.9180354622337292 μ_{2,4,2} - 0.165656738187479 μ_{2,4,3} + 0.013480772833792634 μ_{2,4,4} - 0.14809786029579391 μ_{2,5,1} - 0.9180354622337292 μ_{2,5,2} - 0.165656738187479 μ_{2,5,3} + 0.013480772833792634 μ_{2,5,4} - 0.14809786029579391 μ_{2,6,1} - 0.9180354622337292 μ_{2,6,2} - 0.165656738187479 μ_{2,6,3} + 0.013480772833792634 μ_{2,6,4} - 0.14809786029579391 μ_{2,7,1} - 0.9180354622337292 μ_{2,7,2} - 0.165656738187479 μ_{2,7,3} + 0.013480772833792634 μ_{2,7,4} - 0.14809786029579391 μ_{2,8,1} - 0.9180354622337292 μ_{2,8,2} - 0.165656738187479 μ_{2,8,3} + 0.013480772833792634 μ_{2,8,4}\\\\\n",
       "\\text{Subject to} \\quad & λ_{1,1} + λ_{2,1} = 1.0\\\\\n",
       " & λ_{1,2} + λ_{2,2} = 1.0\\\\\n",
       " & λ_{1,3} + λ_{2,3} = 1.0\\\\\n",
       " & λ_{1,4} + λ_{2,4} = 1.0\\\\\n",
       " & λ_{1,5} + λ_{2,5} = 1.0\\\\\n",
       " & λ_{1,6} + λ_{2,6} = 1.0\\\\\n",
       " & λ_{1,7} + λ_{2,7} = 1.0\\\\\n",
       " & λ_{1,8} + λ_{2,8} = 1.0\\\\\n",
       " & λ_{1,1} + λ_{2,1} = 1.0\\\\\n",
       " & λ_{1,2} + λ_{2,2} = 1.0\\\\\n",
       " & λ_{1,3} + λ_{2,3} = 1.0\\\\\n",
       " & λ_{1,4} + λ_{2,4} = 1.0\\\\\n",
       " & λ_{1,5} + λ_{2,5} = 1.0\\\\\n",
       " & λ_{1,6} + λ_{2,6} = 1.0\\\\\n",
       " & λ_{1,7} + λ_{2,7} = 1.0\\\\\n",
       " & λ_{1,8} + λ_{2,8} = 1.0\\\\\n",
       " & λ_{1,1} + λ_{2,1} = 1.0\\\\\n",
       " & λ_{1,2} + λ_{2,2} = 1.0\\\\\n",
       " & λ_{1,3} + λ_{2,3} = 1.0\\\\\n",
       " & λ_{1,4} + λ_{2,4} = 1.0\\\\\n",
       " & λ_{1,5} + λ_{2,5} = 1.0\\\\\n",
       " & λ_{1,6} + λ_{2,6} = 1.0\\\\\n",
       " & λ_{1,7} + λ_{2,7} = 1.0\\\\\n",
       " & λ_{1,8} + λ_{2,8} = 1.0\\\\\n",
       " & λ_{1,1} + λ_{2,1} = 1.0\\\\\n",
       " & λ_{1,2} + λ_{2,2} = 1.0\\\\\n",
       " & λ_{1,3} + λ_{2,3} = 1.0\\\\\n",
       " & λ_{1,4} + λ_{2,4} = 1.0\\\\\n",
       " & λ_{1,5} + λ_{2,5} = 1.0\\\\\n",
       " & λ_{1,6} + λ_{2,6} = 1.0\\\\\n",
       " & λ_{1,7} + λ_{2,7} = 1.0\\\\\n",
       " & λ_{1,8} + λ_{2,8} = 1.0\\\\\n",
       " & λ_{1,1} + λ_{2,1} = 1.0\\\\\n",
       " & λ_{1,2} + λ_{2,2} = 1.0\\\\\n",
       " & λ_{1,3} + λ_{2,3} = 1.0\\\\\n",
       " & λ_{1,4} + λ_{2,4} = 1.0\\\\\n",
       " & λ_{1,5} + λ_{2,5} = 1.0\\\\\n",
       " & λ_{1,6} + λ_{2,6} = 1.0\\\\\n",
       " & λ_{1,7} + λ_{2,7} = 1.0\\\\\n",
       " & λ_{1,8} + λ_{2,8} = 1.0\\\\\n",
       " & λ_{1,1} + λ_{2,1} = 1.0\\\\\n",
       " & λ_{1,2} + λ_{2,2} = 1.0\\\\\n",
       " & λ_{1,3} + λ_{2,3} = 1.0\\\\\n",
       " & λ_{1,4} + λ_{2,4} = 1.0\\\\\n",
       " & λ_{1,5} + λ_{2,5} = 1.0\\\\\n",
       " & λ_{1,6} + λ_{2,6} = 1.0\\\\\n",
       " & λ_{1,7} + λ_{2,7} = 1.0\\\\\n",
       " & λ_{1,8} + λ_{2,8} = 1.0\\\\\n",
       " & λ_{1,1} + λ_{2,1} = 1.0\\\\\n",
       " & λ_{1,2} + λ_{2,2} = 1.0\\\\\n",
       " & λ_{1,3} + λ_{2,3} = 1.0\\\\\n",
       " & λ_{1,4} + λ_{2,4} = 1.0\\\\\n",
       " & λ_{1,5} + λ_{2,5} = 1.0\\\\\n",
       " & λ_{1,6} + λ_{2,6} = 1.0\\\\\n",
       " & λ_{1,7} + λ_{2,7} = 1.0\\\\\n",
       " & λ_{1,8} + λ_{2,8} = 1.0\\\\\n",
       " & λ_{1,1} + λ_{2,1} = 1.0\\\\\n",
       " & λ_{1,2} + λ_{2,2} = 1.0\\\\\n",
       " & λ_{1,3} + λ_{2,3} = 1.0\\\\\n",
       " & λ_{1,4} + λ_{2,4} = 1.0\\\\\n",
       " & λ_{1,5} + λ_{2,5} = 1.0\\\\\n",
       " & λ_{1,6} + λ_{2,6} = 1.0\\\\\n",
       " & λ_{1,7} + λ_{2,7} = 1.0\\\\\n",
       " & λ_{1,8} + λ_{2,8} = 1.0\\\\\n",
       " & -0.9547909662861231 λ_{1,1} + 0.9547909662861231 λ_{2,1} - ν_{1,1,1} + ν_{2,1,1} + μ_{1,1,1} - μ_{2,1,1} = 0.0\\\\\n",
       " & -0.8473519301237624 λ_{1,1} + 0.8473519301237624 λ_{2,1} - ν_{1,1,2} + ν_{2,1,2} + μ_{1,1,2} - μ_{2,1,2} = 0.0\\\\\n",
       " & -0.27285869865669077 λ_{1,1} + 0.27285869865669077 λ_{2,1} - ν_{1,1,3} + ν_{2,1,3} + μ_{1,1,3} - μ_{2,1,3} = 0.0\\\\\n",
       " & -0.2197180184558314 λ_{1,1} + 0.2197180184558314 λ_{2,1} - ν_{1,1,4} + ν_{2,1,4} + μ_{1,1,4} - μ_{2,1,4} = 0.0\\\\\n",
       " & -0.7492098731363614 λ_{1,2} + 0.7492098731363614 λ_{2,2} + ν_{1,1,1} - ν_{2,1,1} - ν_{1,2,1} + ν_{2,2,1} + μ_{1,2,1} - μ_{2,2,1} = 0.0\\\\\n",
       " & -0.17247307261995082 λ_{1,2} + 0.17247307261995082 λ_{2,2} + ν_{1,1,2} - ν_{2,1,2} - ν_{1,2,2} + ν_{2,2,2} + μ_{1,2,2} - μ_{2,2,2} = 0.0\\\\\n",
       " & -0.6946624491186448 λ_{1,2} + 0.6946624491186448 λ_{2,2} + ν_{1,1,3} - ν_{2,1,3} - ν_{1,2,3} + ν_{2,2,3} + μ_{1,2,3} - μ_{2,2,3} = 0.0\\\\\n",
       " & -0.27854435154152446 λ_{1,2} + 0.27854435154152446 λ_{2,2} + ν_{1,1,4} - ν_{2,1,4} - ν_{1,2,4} + ν_{2,2,4} + μ_{1,2,4} - μ_{2,2,4} = 0.0\\\\\n",
       " & -0.8543462708084071 λ_{1,3} + 0.8543462708084071 λ_{2,3} + ν_{1,2,1} - ν_{2,2,1} - ν_{1,3,1} + ν_{2,3,1} + μ_{1,3,1} - μ_{2,3,1} = 0.0\\\\\n",
       " & -0.7033458600299587 λ_{1,3} + 0.7033458600299587 λ_{2,3} + ν_{1,2,2} - ν_{2,2,2} - ν_{1,3,2} + ν_{2,3,2} + μ_{1,3,2} - μ_{2,3,2} = 0.0\\\\\n",
       " & -0.4110721457953086 λ_{1,3} + 0.4110721457953086 λ_{2,3} + ν_{1,2,3} - ν_{2,2,3} - ν_{1,3,3} + ν_{2,3,3} + μ_{1,3,3} - μ_{2,3,3} = 0.0\\\\\n",
       " & -0.36006676457998243 λ_{1,3} + 0.36006676457998243 λ_{2,3} + ν_{1,2,4} - ν_{2,2,4} - ν_{1,3,4} + ν_{2,3,4} + μ_{1,3,4} - μ_{2,3,4} = 0.0\\\\\n",
       " & -0.16254077470464634 λ_{1,4} + 0.16254077470464634 λ_{2,4} + ν_{1,3,1} - ν_{2,3,1} - ν_{1,4,1} + ν_{2,4,1} + μ_{1,4,1} - μ_{2,4,1} = 0.0\\\\\n",
       " & -0.1910692056510115 λ_{1,4} + 0.1910692056510115 λ_{2,4} + ν_{1,3,2} - ν_{2,3,2} - ν_{1,4,2} + ν_{2,4,2} + μ_{1,4,2} - μ_{2,4,2} = 0.0\\\\\n",
       " & -0.7889372719778045 λ_{1,4} + 0.7889372719778045 λ_{2,4} + ν_{1,3,3} - ν_{2,3,3} - ν_{1,4,3} + ν_{2,4,3} + μ_{1,4,3} - μ_{2,4,3} = 0.0\\\\\n",
       " & -0.13582913279743414 λ_{1,4} + 0.13582913279743414 λ_{2,4} + ν_{1,3,4} - ν_{2,3,4} - ν_{1,4,4} + ν_{2,4,4} + μ_{1,4,4} - μ_{2,4,4} = 0.0\\\\\n",
       " & -0.21101189138275434 λ_{1,5} + 0.21101189138275434 λ_{2,5} + ν_{1,4,1} - ν_{2,4,1} - ν_{1,5,1} + ν_{2,5,1} + μ_{1,5,1} - μ_{2,5,1} = 0.0\\\\\n",
       " & -0.038074802449233 λ_{1,5} + 0.038074802449233 λ_{2,5} + ν_{1,4,2} - ν_{2,4,2} - ν_{1,5,2} + ν_{2,5,2} + μ_{1,5,2} - μ_{2,5,2} = 0.0\\\\\n",
       " & -0.6783648412178604 λ_{1,5} + 0.6783648412178604 λ_{2,5} + ν_{1,4,3} - ν_{2,4,3} - ν_{1,5,3} + ν_{2,5,3} + μ_{1,5,3} - μ_{2,5,3} = 0.0\\\\\n",
       " & -0.40906030404434146 λ_{1,5} + 0.40906030404434146 λ_{2,5} + ν_{1,4,4} - ν_{2,4,4} - ν_{1,5,4} + ν_{2,5,4} + μ_{1,5,4} - μ_{2,5,4} = 0.0\\\\\n",
       " & -0.763478050143015 λ_{1,6} + 0.763478050143015 λ_{2,6} + ν_{1,5,1} - ν_{2,5,1} - ν_{1,6,1} + ν_{2,6,1} + μ_{1,6,1} - μ_{2,6,1} = 0.0\\\\\n",
       " & -0.18820705352857425 λ_{1,6} + 0.18820705352857425 λ_{2,6} + ν_{1,5,2} - ν_{2,5,2} - ν_{1,6,2} + ν_{2,6,2} + μ_{1,6,2} - μ_{2,6,2} = 0.0\\\\\n",
       " & -0.9343691413617443 λ_{1,6} + 0.9343691413617443 λ_{2,6} + ν_{1,5,3} - ν_{2,5,3} - ν_{1,6,3} + ν_{2,6,3} + μ_{1,6,3} - μ_{2,6,3} = 0.0\\\\\n",
       " & -0.14681728383707204 λ_{1,6} + 0.14681728383707204 λ_{2,6} + ν_{1,5,4} - ν_{2,5,4} - ν_{1,6,4} + ν_{2,6,4} + μ_{1,6,4} - μ_{2,6,4} = 0.0\\\\\n",
       " & -0.13683335728203083 λ_{1,7} + 0.13683335728203083 λ_{2,7} + ν_{1,6,1} - ν_{2,6,1} - ν_{1,7,1} + ν_{2,7,1} + μ_{1,7,1} - μ_{2,7,1} = 0.0\\\\\n",
       " & -0.8482916388161474 λ_{1,7} + 0.8482916388161474 λ_{2,7} + ν_{1,6,2} - ν_{2,6,2} - ν_{1,7,2} + ν_{2,7,2} + μ_{1,7,2} - μ_{2,7,2} = 0.0\\\\\n",
       " & -0.12687811041664654 λ_{1,7} + 0.12687811041664654 λ_{2,7} + ν_{1,6,3} - ν_{2,6,3} - ν_{1,7,3} + ν_{2,7,3} + μ_{1,7,3} - μ_{2,7,3} = 0.0\\\\\n",
       " & -0.02136431484675283 λ_{1,7} + 0.02136431484675283 λ_{2,7} + ν_{1,6,4} - ν_{2,6,4} - ν_{1,7,4} + ν_{2,7,4} + μ_{1,7,4} - μ_{2,7,4} = 0.0\\\\\n",
       " & -0.20928184760755908 λ_{1,8} + 0.20928184760755908 λ_{2,8} + ν_{1,7,1} - ν_{2,7,1} + μ_{1,8,1} - μ_{2,8,1} = 0.0\\\\\n",
       " & -0.3498816501822435 λ_{1,8} + 0.3498816501822435 λ_{2,8} + ν_{1,7,2} - ν_{2,7,2} + μ_{1,8,2} - μ_{2,8,2} = 0.0\\\\\n",
       " & -0.5476464646076851 λ_{1,8} + 0.5476464646076851 λ_{2,8} + ν_{1,7,3} - ν_{2,7,3} + μ_{1,8,3} - μ_{2,8,3} = 0.0\\\\\n",
       " & -0.5668058722576801 λ_{1,8} + 0.5668058722576801 λ_{2,8} + ν_{1,7,4} - ν_{2,7,4} + μ_{1,8,4} - μ_{2,8,4} = 0.0\\\\\n",
       " & -y_{1} \\leq -0.5370083401843655\\\\\n",
       " & -y_{2} \\leq -0.7222521761339815\\\\\n",
       " & -y_{3} \\leq -0.8392116497797659\\\\\n",
       " & -y_{4} \\leq -0.4142199248949394\\\\\n",
       " & -y_{5} \\leq -0.13871103361004988\\\\\n",
       " & -y_{6} \\leq -0.313759189123922\\\\\n",
       " & -y_{7} \\leq -0.0233854259379922\\\\\n",
       " & -y_{8} \\leq -0.08103364164996285\\\\\n",
       " & -y_{1} \\leq -0.5370083401843655\\\\\n",
       " & -y_{2} \\leq -0.7222521761339815\\\\\n",
       " & -y_{3} \\leq -0.8392116497797659\\\\\n",
       " & -y_{4} \\leq -0.4142199248949394\\\\\n",
       " & -y_{5} \\leq -0.13871103361004988\\\\\n",
       " & -y_{6} \\leq -0.313759189123922\\\\\n",
       " & -y_{7} \\leq -0.0233854259379922\\\\\n",
       " & -y_{8} \\leq -0.08103364164996285\\\\\n",
       " & -y_{1} \\leq -0.5370083401843655\\\\\n",
       " & -y_{2} \\leq -0.7222521761339815\\\\\n",
       " & -y_{3} \\leq -0.8392116497797659\\\\\n",
       " & -y_{4} \\leq -0.4142199248949394\\\\\n",
       " & -y_{5} \\leq -0.13871103361004988\\\\\n",
       " & -y_{6} \\leq -0.313759189123922\\\\\n",
       " & -y_{7} \\leq -0.0233854259379922\\\\\n",
       " & -y_{8} \\leq -0.08103364164996285\\\\\n",
       " & -y_{1} \\leq -0.5370083401843655\\\\\n",
       " & -y_{2} \\leq -0.7222521761339815\\\\\n",
       " & -y_{3} \\leq -0.8392116497797659\\\\\n",
       " & -y_{4} \\leq -0.4142199248949394\\\\\n",
       " & -y_{5} \\leq -0.13871103361004988\\\\\n",
       " & -y_{6} \\leq -0.313759189123922\\\\\n",
       " & -y_{7} \\leq -0.0233854259379922\\\\\n",
       " & -y_{8} \\leq -0.08103364164996285\\\\\n",
       " & -y_{1} \\leq -0.5370083401843655\\\\\n",
       " & -y_{2} \\leq -0.7222521761339815\\\\\n",
       " & -y_{3} \\leq -0.8392116497797659\\\\\n",
       " & -y_{4} \\leq -0.4142199248949394\\\\\n",
       " & -y_{5} \\leq -0.13871103361004988\\\\\n",
       " & -y_{6} \\leq -0.313759189123922\\\\\n",
       " & -y_{7} \\leq -0.0233854259379922\\\\\n",
       " & -y_{8} \\leq -0.08103364164996285\\\\\n",
       " & -y_{1} \\leq -0.5370083401843655\\\\\n",
       " & -y_{2} \\leq -0.7222521761339815\\\\\n",
       " & -y_{3} \\leq -0.8392116497797659\\\\\n",
       " & -y_{4} \\leq -0.4142199248949394\\\\\n",
       " & -y_{5} \\leq -0.13871103361004988\\\\\n",
       " & -y_{6} \\leq -0.313759189123922\\\\\n",
       " & -y_{7} \\leq -0.0233854259379922\\\\\n",
       " & -y_{8} \\leq -0.08103364164996285\\\\\n",
       " & -y_{1} \\leq -0.5370083401843655\\\\\n",
       " & -y_{2} \\leq -0.7222521761339815\\\\\n",
       " & -y_{3} \\leq -0.8392116497797659\\\\\n",
       " & -y_{4} \\leq -0.4142199248949394\\\\\n",
       " & -y_{5} \\leq -0.13871103361004988\\\\\n",
       " & -y_{6} \\leq -0.313759189123922\\\\\n",
       " & -y_{7} \\leq -0.0233854259379922\\\\\n",
       " & -y_{8} \\leq -0.08103364164996285\\\\\n",
       " & -y_{1} \\leq -0.5370083401843655\\\\\n",
       " & -y_{2} \\leq -0.7222521761339815\\\\\n",
       " & -y_{3} \\leq -0.8392116497797659\\\\\n",
       " & -y_{4} \\leq -0.4142199248949394\\\\\n",
       " & -y_{5} \\leq -0.13871103361004988\\\\\n",
       " & -y_{6} \\leq -0.313759189123922\\\\\n",
       " & -y_{7} \\leq -0.0233854259379922\\\\\n",
       " & -y_{8} \\leq -0.08103364164996285\\\\\n",
       " & y_{1} \\leq 1.0370083401843655\\\\\n",
       " & y_{2} \\leq 1.2222521761339815\\\\\n",
       " & y_{3} \\leq 1.339211649779766\\\\\n",
       " & y_{4} \\leq 0.9142199248949394\\\\\n",
       " & y_{5} \\leq 0.6387110336100499\\\\\n",
       " & y_{6} \\leq 0.813759189123922\\\\\n",
       " & y_{7} \\leq 0.5233854259379922\\\\\n",
       " & y_{8} \\leq 0.5810336416499629\\\\\n",
       " & y_{1} \\leq 1.0370083401843655\\\\\n",
       " & y_{2} \\leq 1.2222521761339815\\\\\n",
       " & y_{3} \\leq 1.339211649779766\\\\\n",
       " & y_{4} \\leq 0.9142199248949394\\\\\n",
       " & y_{5} \\leq 0.6387110336100499\\\\\n",
       " & y_{6} \\leq 0.813759189123922\\\\\n",
       " & y_{7} \\leq 0.5233854259379922\\\\\n",
       " & y_{8} \\leq 0.5810336416499629\\\\\n",
       " & y_{1} \\leq 1.0370083401843655\\\\\n",
       " & y_{2} \\leq 1.2222521761339815\\\\\n",
       " & y_{3} \\leq 1.339211649779766\\\\\n",
       " & y_{4} \\leq 0.9142199248949394\\\\\n",
       " & y_{5} \\leq 0.6387110336100499\\\\\n",
       " & y_{6} \\leq 0.813759189123922\\\\\n",
       " & y_{7} \\leq 0.5233854259379922\\\\\n",
       " & y_{8} \\leq 0.5810336416499629\\\\\n",
       " & y_{1} \\leq 1.0370083401843655\\\\\n",
       " & y_{2} \\leq 1.2222521761339815\\\\\n",
       " & y_{3} \\leq 1.339211649779766\\\\\n",
       " & y_{4} \\leq 0.9142199248949394\\\\\n",
       " & y_{5} \\leq 0.6387110336100499\\\\\n",
       " & y_{6} \\leq 0.813759189123922\\\\\n",
       " & y_{7} \\leq 0.5233854259379922\\\\\n",
       " & y_{8} \\leq 0.5810336416499629\\\\\n",
       " & y_{1} \\leq 1.0370083401843655\\\\\n",
       " & y_{2} \\leq 1.2222521761339815\\\\\n",
       " & y_{3} \\leq 1.339211649779766\\\\\n",
       " & y_{4} \\leq 0.9142199248949394\\\\\n",
       " & y_{5} \\leq 0.6387110336100499\\\\\n",
       " & y_{6} \\leq 0.813759189123922\\\\\n",
       " & y_{7} \\leq 0.5233854259379922\\\\\n",
       " & y_{8} \\leq 0.5810336416499629\\\\\n",
       " & y_{1} \\leq 1.0370083401843655\\\\\n",
       " & y_{2} \\leq 1.2222521761339815\\\\\n",
       " & y_{3} \\leq 1.339211649779766\\\\\n",
       " & y_{4} \\leq 0.9142199248949394\\\\\n",
       " & y_{5} \\leq 0.6387110336100499\\\\\n",
       " & y_{6} \\leq 0.813759189123922\\\\\n",
       " & y_{7} \\leq 0.5233854259379922\\\\\n",
       " & y_{8} \\leq 0.5810336416499629\\\\\n",
       " & y_{1} \\leq 1.0370083401843655\\\\\n",
       " & y_{2} \\leq 1.2222521761339815\\\\\n",
       " & y_{3} \\leq 1.339211649779766\\\\\n",
       " & y_{4} \\leq 0.9142199248949394\\\\\n",
       " & y_{5} \\leq 0.6387110336100499\\\\\n",
       " & y_{6} \\leq 0.813759189123922\\\\\n",
       " & y_{7} \\leq 0.5233854259379922\\\\\n",
       " & y_{8} \\leq 0.5810336416499629\\\\\n",
       " & y_{1} \\leq 1.0370083401843655\\\\\n",
       " & y_{2} \\leq 1.2222521761339815\\\\\n",
       " & y_{3} \\leq 1.339211649779766\\\\\n",
       " & y_{4} \\leq 0.9142199248949394\\\\\n",
       " & y_{5} \\leq 0.6387110336100499\\\\\n",
       " & y_{6} \\leq 0.813759189123922\\\\\n",
       " & y_{7} \\leq 0.5233854259379922\\\\\n",
       " & y_{8} \\leq 0.5810336416499629\\\\\n",
       " & -0.7870083401843655 λ_{1,1} + 0.7870083401843655 λ_{2,1} - 0.9722521761339815 λ_{1,2} + 0.9722521761339815 λ_{2,2} - 1.089211649779766 λ_{1,3} + 1.089211649779766 λ_{2,3} - 0.6642199248949394 λ_{1,4} + 0.6642199248949394 λ_{2,4} - 0.3887110336100499 λ_{1,5} + 0.3887110336100499 λ_{2,5} - 0.563759189123922 λ_{1,6} + 0.563759189123922 λ_{2,6} - 0.2733854259379922 λ_{1,7} + 0.2733854259379922 λ_{2,7} - 0.33103364164996285 λ_{1,8} + 0.33103364164996285 λ_{2,8} + α + 0.5250219414707686 y_{1} - y_{2} - y_{3} - y_{4} - y_{5} - y_{6} + y_{7} \\leq -2.9915719008873833\\\\\n",
       " & -0.5370083401843655 λ_{1,1} + 0.5370083401843655 λ_{2,1} - 1.2222521761339815 λ_{1,2} + 1.2222521761339815 λ_{2,2} - 1.339211649779766 λ_{1,3} + 1.339211649779766 λ_{2,3} - 0.9142199248949394 λ_{1,4} + 0.9142199248949394 λ_{2,4} - 0.6387110336100499 λ_{1,5} + 0.6387110336100499 λ_{2,5} - 0.813759189123922 λ_{1,6} + 0.813759189123922 λ_{2,6} - 0.0233854259379922 λ_{1,7} + 0.0233854259379922 λ_{2,7} - 0.08103364164996285 λ_{1,8} + 0.08103364164996285 λ_{2,8} + α + 0.11211009487694484 y_{1} - y_{2} - y_{3} - y_{4} - y_{5} - y_{6} + y_{7} + y_{8} \\leq -4.763530849986924\\\\\n",
       " & -0.5370083401843655 λ_{1,1} + 0.5370083401843655 λ_{2,1} - 1.2222521761339815 λ_{1,2} + 1.2222521761339815 λ_{2,2} - 1.339211649779766 λ_{1,3} + 1.339211649779766 λ_{2,3} - 0.9142199248949394 λ_{1,4} + 0.9142199248949394 λ_{2,4} - 0.6387110336100499 λ_{1,5} + 0.6387110336100499 λ_{2,5} - 0.813759189123922 λ_{1,6} + 0.813759189123922 λ_{2,6} - 0.0233854259379922 λ_{1,7} + 0.0233854259379922 λ_{2,7} - 0.08103364164996285 λ_{1,8} + 0.08103364164996285 λ_{2,8} + α + 0.11211009487694484 y_{1} - y_{2} - y_{3} - y_{4} - y_{5} - y_{6} + y_{7} + y_{8} \\leq -4.763530849986924\\\\\n",
       " & -0.5370083401843655 λ_{1,1} + 0.5370083401843655 λ_{2,1} - 1.2222521761339815 λ_{1,2} + 1.2222521761339815 λ_{2,2} - 1.339211649779766 λ_{1,3} + 1.339211649779766 λ_{2,3} - 0.9142199248949394 λ_{1,4} + 0.9142199248949394 λ_{2,4} - 0.6387110336100499 λ_{1,5} + 0.6387110336100499 λ_{2,5} - 0.813759189123922 λ_{1,6} + 0.813759189123922 λ_{2,6} - 0.0233854259379922 λ_{1,7} + 0.0233854259379922 λ_{2,7} - 0.08103364164996285 λ_{1,8} + 0.08103364164996285 λ_{2,8} + α + 0.11211009487694484 y_{1} - y_{2} - y_{3} - y_{4} - y_{5} - y_{6} + y_{7} + y_{8} \\leq -4.763530849986924\\\\\n",
       " & -0.5370083401843655 λ_{1,1} + 0.5370083401843655 λ_{2,1} - 1.2222521761339815 λ_{1,2} + 1.2222521761339815 λ_{2,2} - 1.339211649779766 λ_{1,3} + 1.339211649779766 λ_{2,3} - 0.9142199248949394 λ_{1,4} + 0.9142199248949394 λ_{2,4} - 0.6387110336100499 λ_{1,5} + 0.6387110336100499 λ_{2,5} - 0.813759189123922 λ_{1,6} + 0.813759189123922 λ_{2,6} - 0.0233854259379922 λ_{1,7} + 0.0233854259379922 λ_{2,7} - 0.08103364164996285 λ_{1,8} + 0.08103364164996285 λ_{2,8} + α + 0.11211009487694484 y_{1} - y_{2} - y_{3} - y_{4} - y_{5} - y_{6} + y_{7} + y_{8} \\leq -4.763530849986924\\\\\n",
       " & -0.5370083401843655 λ_{1,1} + 0.5370083401843655 λ_{2,1} - 1.2222521761339815 λ_{1,2} + 1.2222521761339815 λ_{2,2} - 1.339211649779766 λ_{1,3} + 1.339211649779766 λ_{2,3} - 0.9142199248949394 λ_{1,4} + 0.9142199248949394 λ_{2,4} - 0.6387110336100499 λ_{1,5} + 0.6387110336100499 λ_{2,5} - 0.813759189123922 λ_{1,6} + 0.813759189123922 λ_{2,6} - 0.0233854259379922 λ_{1,7} + 0.0233854259379922 λ_{2,7} - 0.08103364164996285 λ_{1,8} + 0.08103364164996285 λ_{2,8} + α + 0.11211009487694484 y_{1} - y_{2} - y_{3} - y_{4} - y_{5} - y_{6} + y_{7} + y_{8} \\leq -4.763530849986924\\\\\n",
       " & λ_{1,1} \\geq 0.0\\\\\n",
       " & λ_{2,1} \\geq 0.0\\\\\n",
       " & λ_{1,2} \\geq 0.0\\\\\n",
       " & λ_{2,2} \\geq 0.0\\\\\n",
       " & λ_{1,3} \\geq 0.0\\\\\n",
       " & λ_{2,3} \\geq 0.0\\\\\n",
       " & λ_{1,4} \\geq 0.0\\\\\n",
       " & λ_{2,4} \\geq 0.0\\\\\n",
       " & λ_{1,5} \\geq 0.0\\\\\n",
       " & λ_{2,5} \\geq 0.0\\\\\n",
       " & λ_{1,6} \\geq 0.0\\\\\n",
       " & λ_{2,6} \\geq 0.0\\\\\n",
       " & λ_{1,7} \\geq 0.0\\\\\n",
       " & λ_{2,7} \\geq 0.0\\\\\n",
       " & λ_{1,8} \\geq 0.0\\\\\n",
       " & λ_{2,8} \\geq 0.0\\\\\n",
       " & ν_{1,1,1} \\geq 0.0\\\\\n",
       " & ν_{2,1,1} \\geq 0.0\\\\\n",
       " & ν_{1,2,1} \\geq 0.0\\\\\n",
       " & ν_{2,2,1} \\geq 0.0\\\\\n",
       " & ν_{1,3,1} \\geq 0.0\\\\\n",
       " & ν_{2,3,1} \\geq 0.0\\\\\n",
       " & ν_{1,4,1} \\geq 0.0\\\\\n",
       " & ν_{2,4,1} \\geq 0.0\\\\\n",
       " & ν_{1,5,1} \\geq 0.0\\\\\n",
       " & ν_{2,5,1} \\geq 0.0\\\\\n",
       " & ν_{1,6,1} \\geq 0.0\\\\\n",
       " & ν_{2,6,1} \\geq 0.0\\\\\n",
       " & ν_{1,7,1} \\geq 0.0\\\\\n",
       " & ν_{2,7,1} \\geq 0.0\\\\\n",
       " & ν_{1,1,2} \\geq 0.0\\\\\n",
       " & ν_{2,1,2} \\geq 0.0\\\\\n",
       " & ν_{1,2,2} \\geq 0.0\\\\\n",
       " & ν_{2,2,2} \\geq 0.0\\\\\n",
       " & ν_{1,3,2} \\geq 0.0\\\\\n",
       " & ν_{2,3,2} \\geq 0.0\\\\\n",
       " & ν_{1,4,2} \\geq 0.0\\\\\n",
       " & ν_{2,4,2} \\geq 0.0\\\\\n",
       " & ν_{1,5,2} \\geq 0.0\\\\\n",
       " & ν_{2,5,2} \\geq 0.0\\\\\n",
       " & ν_{1,6,2} \\geq 0.0\\\\\n",
       " & ν_{2,6,2} \\geq 0.0\\\\\n",
       " & ν_{1,7,2} \\geq 0.0\\\\\n",
       " & ν_{2,7,2} \\geq 0.0\\\\\n",
       " & ν_{1,1,3} \\geq 0.0\\\\\n",
       " & ν_{2,1,3} \\geq 0.0\\\\\n",
       " & ν_{1,2,3} \\geq 0.0\\\\\n",
       " & ν_{2,2,3} \\geq 0.0\\\\\n",
       " & ν_{1,3,3} \\geq 0.0\\\\\n",
       " & ν_{2,3,3} \\geq 0.0\\\\\n",
       " & ν_{1,4,3} \\geq 0.0\\\\\n",
       " & ν_{2,4,3} \\geq 0.0\\\\\n",
       " & ν_{1,5,3} \\geq 0.0\\\\\n",
       " & ν_{2,5,3} \\geq 0.0\\\\\n",
       " & ν_{1,6,3} \\geq 0.0\\\\\n",
       " & ν_{2,6,3} \\geq 0.0\\\\\n",
       " & ν_{1,7,3} \\geq 0.0\\\\\n",
       " & ν_{2,7,3} \\geq 0.0\\\\\n",
       " & ν_{1,1,4} \\geq 0.0\\\\\n",
       " & ν_{2,1,4} \\geq 0.0\\\\\n",
       " & ν_{1,2,4} \\geq 0.0\\\\\n",
       " & ν_{2,2,4} \\geq 0.0\\\\\n",
       " & ν_{1,3,4} \\geq 0.0\\\\\n",
       " & ν_{2,3,4} \\geq 0.0\\\\\n",
       " & ν_{1,4,4} \\geq 0.0\\\\\n",
       " & ν_{2,4,4} \\geq 0.0\\\\\n",
       " & ν_{1,5,4} \\geq 0.0\\\\\n",
       " & ν_{2,5,4} \\geq 0.0\\\\\n",
       " & ν_{1,6,4} \\geq 0.0\\\\\n",
       " & ν_{2,6,4} \\geq 0.0\\\\\n",
       " & ν_{1,7,4} \\geq 0.0\\\\\n",
       " & ν_{2,7,4} \\geq 0.0\\\\\n",
       " & μ_{1,1,1} \\geq 0.0\\\\\n",
       " & μ_{2,1,1} \\geq 0.0\\\\\n",
       " & μ_{1,2,1} \\geq 0.0\\\\\n",
       " & μ_{2,2,1} \\geq 0.0\\\\\n",
       " & μ_{1,3,1} \\geq 0.0\\\\\n",
       " & μ_{2,3,1} \\geq 0.0\\\\\n",
       " & μ_{1,4,1} \\geq 0.0\\\\\n",
       " & μ_{2,4,1} \\geq 0.0\\\\\n",
       " & μ_{1,5,1} \\geq 0.0\\\\\n",
       " & μ_{2,5,1} \\geq 0.0\\\\\n",
       " & μ_{1,6,1} \\geq 0.0\\\\\n",
       " & μ_{2,6,1} \\geq 0.0\\\\\n",
       " & μ_{1,7,1} \\geq 0.0\\\\\n",
       " & μ_{2,7,1} \\geq 0.0\\\\\n",
       " & μ_{1,8,1} \\geq 0.0\\\\\n",
       " & μ_{2,8,1} \\geq 0.0\\\\\n",
       " & μ_{1,1,2} \\geq 0.0\\\\\n",
       " & μ_{2,1,2} \\geq 0.0\\\\\n",
       " & μ_{1,2,2} \\geq 0.0\\\\\n",
       " & μ_{2,2,2} \\geq 0.0\\\\\n",
       " & μ_{1,3,2} \\geq 0.0\\\\\n",
       " & μ_{2,3,2} \\geq 0.0\\\\\n",
       " & μ_{1,4,2} \\geq 0.0\\\\\n",
       " & μ_{2,4,2} \\geq 0.0\\\\\n",
       " & μ_{1,5,2} \\geq 0.0\\\\\n",
       " & μ_{2,5,2} \\geq 0.0\\\\\n",
       " & μ_{1,6,2} \\geq 0.0\\\\\n",
       " & μ_{2,6,2} \\geq 0.0\\\\\n",
       " & μ_{1,7,2} \\geq 0.0\\\\\n",
       " & μ_{2,7,2} \\geq 0.0\\\\\n",
       " & μ_{1,8,2} \\geq 0.0\\\\\n",
       " & μ_{2,8,2} \\geq 0.0\\\\\n",
       " & μ_{1,1,3} \\geq 0.0\\\\\n",
       " & μ_{2,1,3} \\geq 0.0\\\\\n",
       " & μ_{1,2,3} \\geq 0.0\\\\\n",
       " & μ_{2,2,3} \\geq 0.0\\\\\n",
       " & μ_{1,3,3} \\geq 0.0\\\\\n",
       " & μ_{2,3,3} \\geq 0.0\\\\\n",
       " & μ_{1,4,3} \\geq 0.0\\\\\n",
       " & μ_{2,4,3} \\geq 0.0\\\\\n",
       " & μ_{1,5,3} \\geq 0.0\\\\\n",
       " & μ_{2,5,3} \\geq 0.0\\\\\n",
       " & μ_{1,6,3} \\geq 0.0\\\\\n",
       " & μ_{2,6,3} \\geq 0.0\\\\\n",
       " & μ_{1,7,3} \\geq 0.0\\\\\n",
       " & μ_{2,7,3} \\geq 0.0\\\\\n",
       " & μ_{1,8,3} \\geq 0.0\\\\\n",
       " & μ_{2,8,3} \\geq 0.0\\\\\n",
       " & μ_{1,1,4} \\geq 0.0\\\\\n",
       " & μ_{2,1,4} \\geq 0.0\\\\\n",
       " & μ_{1,2,4} \\geq 0.0\\\\\n",
       " & μ_{2,2,4} \\geq 0.0\\\\\n",
       " & μ_{1,3,4} \\geq 0.0\\\\\n",
       " & μ_{2,3,4} \\geq 0.0\\\\\n",
       " & μ_{1,4,4} \\geq 0.0\\\\\n",
       " & μ_{2,4,4} \\geq 0.0\\\\\n",
       " & μ_{1,5,4} \\geq 0.0\\\\\n",
       " & μ_{2,5,4} \\geq 0.0\\\\\n",
       " & μ_{1,6,4} \\geq 0.0\\\\\n",
       " & μ_{2,6,4} \\geq 0.0\\\\\n",
       " & μ_{1,7,4} \\geq 0.0\\\\\n",
       " & μ_{2,7,4} \\geq 0.0\\\\\n",
       " & μ_{1,8,4} \\geq 0.0\\\\\n",
       " & μ_{2,8,4} \\geq 0.0\\\\\n",
       "\\end{alignat*}\n",
       " $$"
      ],
      "text/plain": [
       "A JuMP Model\n",
       "Maximization problem with:\n",
       "Variables: 145\n",
       "Objective function type: GenericAffExpr{Float64,VariableRef}\n",
       "`GenericAffExpr{Float64,VariableRef}`-in-`MathOptInterface.EqualTo{Float64}`: 96 constraints\n",
       "`GenericAffExpr{Float64,VariableRef}`-in-`MathOptInterface.LessThan{Float64}`: 134 constraints\n",
       "`VariableRef`-in-`MathOptInterface.GreaterThan{Float64}`: 136 constraints\n",
       "Model mode: AUTOMATIC\n",
       "CachingOptimizer state: ATTACHED_OPTIMIZER\n",
       "Solver name: Gurobi\n",
       "Names registered in the model: y, α, λ, μ, ν"
      ]
     },
     "execution_count": 153,
     "metadata": {},
     "output_type": "execute_result"
    }
   ],
   "source": [
    "model"
   ]
  },
  {
   "cell_type": "code",
   "execution_count": 57,
   "id": "e4fe49b7",
   "metadata": {},
   "outputs": [
    {
     "data": {
      "text/plain": [
       "0.6262886348216052"
      ]
     },
     "execution_count": 57,
     "metadata": {},
     "output_type": "execute_result"
    }
   ],
   "source": [
    "getvalue.(γ)"
   ]
  },
  {
   "cell_type": "code",
   "execution_count": 156,
   "id": "identical-dodge",
   "metadata": {},
   "outputs": [],
   "source": [
    "optimize!(model)"
   ]
  },
  {
   "cell_type": "code",
   "execution_count": 157,
   "id": "caroline-polyester",
   "metadata": {},
   "outputs": [
    {
     "data": {
      "text/plain": [
       "2.9217585540309985"
      ]
     },
     "execution_count": 157,
     "metadata": {},
     "output_type": "execute_result"
    }
   ],
   "source": [
    "objective_value(model)"
   ]
  },
  {
   "cell_type": "code",
   "execution_count": 151,
   "id": "26ba4e67",
   "metadata": {},
   "outputs": [
    {
     "name": "stdout",
     "output_type": "stream",
     "text": [
      "Academic license - for non-commercial use only - expires 2022-07-20\n",
      "Gurobi Optimizer version 9.1.1 build v9.1.1rc0 (mac64)\n",
      "Thread count: 6 physical cores, 12 logical processors, using up to 12 threads\n",
      "Optimize a model with 226 rows, 146 columns and 524 nonzeros\n",
      "Model fingerprint: 0x76c0d6a2\n",
      "Coefficient statistics:\n",
      "  Matrix range     [2e-02, 1e+00]\n",
      "  Objective range  [1e-02, 1e+00]\n",
      "  Bounds range     [0e+00, 0e+00]\n",
      "  RHS range        [2e-02, 4e+00]\n",
      "Presolve removed 194 rows and 22 columns\n",
      "Presolve time: 0.00s\n",
      "Presolved: 32 rows, 124 columns, 192 nonzeros\n",
      "\n",
      "Iteration    Objective       Primal Inf.    Dual Inf.      Time\n",
      "       0    1.0784618e+29   8.000000e+30   1.078462e-01      0s\n",
      "      72    2.9217586e+00   0.000000e+00   0.000000e+00      0s\n",
      "\n",
      "Solved in 72 iterations and 0.00 seconds\n",
      "Optimal objective  2.921758554e+00\n",
      "\n",
      "User-callback calls 113, time in user-callback 0.00 sec\n",
      "10000\n",
      "1.2905030686633057\n"
     ]
    },
    {
     "data": {
      "text/plain": [
       "8-element Array{Float64,1}:\n",
       " 0.5370083401843655\n",
       " 1.2222521761339815\n",
       " 1.339211649779766\n",
       " 0.9142199248949394\n",
       " 0.6387110336100499\n",
       " 0.813759189123922\n",
       " 0.0233854259379922\n",
       " 0.08103364164996285"
      ]
     },
     "execution_count": 151,
     "metadata": {},
     "output_type": "execute_result"
    }
   ],
   "source": [
    "n = 8\n",
    "p = 4\n",
    "X = Random.rand(n,p)\n",
    "#X[:,-1] = np.ones(n)\n",
    "y = Random.rand(n)\n",
    "epsilon = 0.05\n",
    "delta = 0.05\n",
    "\n",
    "D_min = Random.rand(n)\n",
    "D_max = D_min .+ 0.5 \n",
    "threshold = 0.5\n",
    "β0 = Random.rand(p)\n",
    "model, y, L_OA, U_OA, α, γ = U(X, D_min, D_max, β0, epsilon, delta, threshold)\n",
    "println(U_OA)\n",
    "println(L_OA)\n",
    "y"
   ]
  },
  {
   "cell_type": "code",
   "execution_count": 17,
   "id": "e8c72b90",
   "metadata": {},
   "outputs": [
    {
     "data": {
      "text/plain": [
       "inner_primal_infinity1 (generic function with 1 method)"
      ]
     },
     "execution_count": 17,
     "metadata": {},
     "output_type": "execute_result"
    }
   ],
   "source": [
    "function inner_primal_infinity1(X, y, β0, epsilon, delta)\n",
    "    \n",
    "    #Non-adaptive version, that optimizes wrt CVaR, with OLS, and lasso penalty\n",
    "    #alpha: Risk value\n",
    "    \n",
    "    n, p = size(X)\n",
    "\n",
    "    # Create model\n",
    "    model = Model(with_optimizer(Gurobi.Optimizer))\n",
    "\n",
    "    # Add variables\n",
    "    @variable(model, a[i=1:n,j=1:p]) \n",
    "    @variable(model, b[i=1:n]>=0) \n",
    "\n",
    "    # Add objective\n",
    "    @objective(model, Min, sum(b[i] for i=1:n))\n",
    "    \n",
    "    #@constraint(model,[i=1:n], y .- dot(X,β) .<= b)\n",
    "    #@constraint(model,[i=1:n],-y .+ dot(X,β) .<= b)\n",
    "    @constraint(model,[i=1:n],- y[i] + dot(X[i,:],a[i,:]) <= b[i])\n",
    "    @constraint(model,[i=1:n],  y[i] - dot(X[i,:],a[i,:]) <= b[i])\n",
    "\n",
    "    @constraint(model,[i=2:n],   a[i,:] .- a[i-1,:] .<= delta)\n",
    "    @constraint(model,[i=2:n], - a[i,:] .+ a[i-1,:] .<= delta)\n",
    "    \n",
    "    @constraint(model,[i=1:n],   a[i,:] .- β0 .<= epsilon)\n",
    "    @constraint(model,[i=1:n], - a[i,:] .+ β0 .<= epsilon)\n",
    "    \n",
    "    optimize!(model);\n",
    "    \n",
    "    return model, getvalue.(a)\n",
    "end"
   ]
  },
  {
   "cell_type": "markdown",
   "id": "f021840c",
   "metadata": {},
   "source": [
    "# Old"
   ]
  },
  {
   "cell_type": "code",
   "execution_count": 20,
   "id": "136bfe65",
   "metadata": {},
   "outputs": [
    {
     "data": {
      "text/plain": [
       "inner_primal_infinity2 (generic function with 1 method)"
      ]
     },
     "execution_count": 20,
     "metadata": {},
     "output_type": "execute_result"
    }
   ],
   "source": [
    "function inner_primal_infinity2(X, y, β0, epsilon, delta)\n",
    "    \n",
    "    n, p = size(X)\n",
    "\n",
    "    # Create model\n",
    "    model = Model(with_optimizer(Gurobi.Optimizer))\n",
    "    set_optimizer_attribute(model, \"OutputFlag\", 0)\n",
    "\n",
    "    # Add variables\n",
    "    @variable(model, β[i=1:n,j=1:p]) \n",
    "    @variable(model, b[i=1:n]>=0) \n",
    "\n",
    "    # Add objective\n",
    "    @objective(model, Min, sum(b[i] for i=1:n))\n",
    "    \n",
    "    #@constraint(model,[i=1:n], y .- dot(X,β) .<= b)\n",
    "    #@constraint(model,[i=1:n],-y .+ dot(X,β) .<= b)\n",
    "    \n",
    "    \n",
    "    @constraint(model, res_plus[i=1:n],  - y[i] + dot(X[i,:],β[i,:]) <= b[i])\n",
    "    @constraint(model, res_minus[i=1:n],  y[i] - dot(X[i,:],β[i,:]) <= b[i])\n",
    "\n",
    "    @constraint(model, diff_plus[i=2:n],   β[i,:] .- β[i-1,:] .<= delta)\n",
    "    @constraint(model, diff_minus[i=2:n], - β[i,:] .+ β[i-1,:] .<= delta)\n",
    "    \n",
    "    @constraint(model, diff_0_plus[i=1:n],   β[i,:] .- β0 .<= epsilon)\n",
    "    @constraint(model, diff_0_minus[i=1:n], - β[i,:] .+ β0 .<= epsilon)\n",
    "    \n",
    "    optimize!(model);\n",
    "    \n",
    "    return model, getvalue.(β)\n",
    "end"
   ]
  },
  {
   "cell_type": "code",
   "execution_count": 81,
   "id": "412ab0a9",
   "metadata": {},
   "outputs": [
    {
     "data": {
      "text/plain": [
       "inner_dual_infinity_shuvo (generic function with 1 method)"
      ]
     },
     "execution_count": 81,
     "metadata": {},
     "output_type": "execute_result"
    }
   ],
   "source": [
    "function inner_dual_infinity_shuvo(X, y, β0, epsilon, delta)\n",
    "    \n",
    "    #Non-adaptive version, that optimizes wrt CVaR, with OLS, and lasso penalty\n",
    "    #alpha: Risk value\n",
    "    \n",
    "    T, p = size(X)\n",
    "    Z = get_Z(X)\n",
    "    \n",
    "    # Create model\n",
    "    model = Model(with_optimizer(Gurobi.Optimizer))\n",
    "    set_optimizer_attribute(model, \"OutputFlag\", 0)\n",
    "    \n",
    "    # Add variables\n",
    "    @variable(model, λ[i=1:2, j=1:T] >= 0) \n",
    "    @variable(model, ν[i=1:2, j=1:T-1, k=1:p]>=0) \n",
    "    @variable(model, μ[i=1:2, j=1:T, k=1:p]>=0)\n",
    "\n",
    "    # Add objective\n",
    "    @objective(model, Max, dot(λ[1,:],y) - dot(λ[2,:],y) \n",
    "                            - delta * sum(sum(ν[1,t,i]+ν[2,t,i] for i=1:p) for t=1:T-1)\n",
    "                            - sum(dot(epsilon .+ β0, μ[1,t,:]) for t = 1:T)\n",
    "                            + sum(dot(epsilon .- β0, μ[2,t,:]) for t = 1:T))\n",
    "    \n",
    "    @constraint(model,[t=1:T], λ[1,:] .+ λ[2,:] .<= 1)\n",
    "        \n",
    "        \n",
    "    @constraint(model, transpose(λ[2,:])*Z-transpose(λ[1,:])*Z \n",
    "                        + sum(transpose(ν[1,t,:])*(get_A(X, t+1).-get_A(X, t)) for t=1:T-1)\n",
    "                        + sum(transpose(ν[2,t,:])*(-get_A(X, t+1).+get_A(X, t)) for t=1:T-1)\n",
    "                        + sum(transpose(μ[1,t,:])*get_A(X,t) for t=1:T)\n",
    "                        - sum(transpose(μ[2,t,:])*get_A(X,t) for t=1:T) .== 0)\n",
    "    \n",
    "    \n",
    "    optimize!(model);\n",
    "    \n",
    "    return model\n",
    "end"
   ]
  },
  {
   "cell_type": "code",
   "execution_count": 109,
   "id": "73c0ecb2",
   "metadata": {},
   "outputs": [
    {
     "data": {
      "text/plain": [
       "inner_dual_infinity_shuvo2 (generic function with 1 method)"
      ]
     },
     "execution_count": 109,
     "metadata": {},
     "output_type": "execute_result"
    }
   ],
   "source": [
    "function inner_dual_infinity_shuvo2(X, y, β0, epsilon, delta)\n",
    "    \n",
    "    #Non-adaptive version, that optimizes wrt CVaR, with OLS, and lasso penalty\n",
    "    #alpha: Risk value\n",
    "    \n",
    "    T, p = size(X)\n",
    "    Z = get_Z(X)\n",
    "    \n",
    "    # Create model\n",
    "    model = Model(with_optimizer(Gurobi.Optimizer))\n",
    "    set_optimizer_attribute(model, \"OutputFlag\", 0)\n",
    "    \n",
    "    # Add variables\n",
    "    @variable(model, λ[i=1:2, j=1:T] >= 0) \n",
    "    @variable(model, ν[i=1:2, j=1:T-1, k=1:p]>=0) \n",
    "    @variable(model, μ[i=1:2, j=1:T, k=1:p]>=0)\n",
    "\n",
    "    # Add objective\n",
    "    @objective(model, Max, dot(λ[1,:],y) - dot(λ[2,:],y) \n",
    "                            - delta * sum(sum(ν[1,t,i]+ν[2,t,i] for i=1:p) for t=1:T-1)\n",
    "                            - sum(dot(epsilon .+ β0, μ[1,t,:]) for t = 1:T)\n",
    "                            - sum(dot(epsilon .- β0, μ[2,t,:]) for t = 1:T))\n",
    "    \n",
    "    @constraint(model,[t=1:T], λ[1,:] .+ λ[2,:] .<= 1)\n",
    "        \n",
    "        \n",
    "    @constraint(model, transpose(λ[2,:])*Z-transpose(λ[1,:])*Z \n",
    "                        + sum(transpose(ν[1,t,:])*(get_A(X, t+1).-get_A(X, t)) for t=1:T-1)\n",
    "                        + sum(transpose(ν[2,t,:])*(-get_A(X, t+1).+get_A(X, t)) for t=1:T-1)\n",
    "                        + sum(transpose(μ[1,t,:])*get_A(X,t) for t=1:T)\n",
    "                        - sum(transpose(μ[2,t,:])*get_A(X,t) for t=1:T) .== 0)\n",
    "    \n",
    "    \n",
    "    optimize!(model);\n",
    "    \n",
    "    return model\n",
    "end"
   ]
  },
  {
   "cell_type": "code",
   "execution_count": null,
   "id": "c9cb02f4",
   "metadata": {},
   "outputs": [],
   "source": []
  },
  {
   "cell_type": "code",
   "execution_count": 21,
   "id": "18900cb6",
   "metadata": {},
   "outputs": [
    {
     "name": "stdout",
     "output_type": "stream",
     "text": [
      "Academic license - for non-commercial use only - expires 2022-07-20\n",
      "Obj value Primal:15.55504361195763"
     ]
    },
    {
     "ename": "LoadError",
     "evalue": "\u001b[91mUndefVarError: inner_primal_infinity_2 not defined\u001b[39m",
     "output_type": "error",
     "traceback": [
      "\u001b[91mUndefVarError: inner_primal_infinity_2 not defined\u001b[39m",
      "",
      "Stacktrace:",
      " [1] top-level scope at In[21]:4",
      " [2] include_string(::Function, ::Module, ::String, ::String) at /Applications/Julia-1.5.app/Contents/Resources/julia/lib/julia/sys.dylib:?"
     ]
    }
   ],
   "source": [
    "m, beta = inner_primal_infinity2(X,y,beta_0,epsilon,delta)\n",
    "print(\"Obj value Primal:\", objective_value(m))\n",
    "\n",
    "m, beta = inner_primal_infinity_2(X,y,beta_0,epsilon,delta)\n",
    "print(\"Obj value Primal:\", objective_value(m))\n",
    "\n",
    "model = inner_dual_infinity_shuvo2(X,y,beta_0,epsilon,delta)\n",
    "print(\"Obj value Dual:\", objective_value(model))"
   ]
  },
  {
   "cell_type": "code",
   "execution_count": 15,
   "id": "a21ae916",
   "metadata": {},
   "outputs": [
    {
     "data": {
      "text/plain": [
       "0.1"
      ]
     },
     "execution_count": 15,
     "metadata": {},
     "output_type": "execute_result"
    }
   ],
   "source": [
    "n = 30\n",
    "p = 6\n",
    "X = Random.rand(n,p)\n",
    "#X[:,-1] = np.ones(n)\n",
    "y = Random.rand(n)\n",
    "beta_0 = Random.rand(p)\n",
    "beta_0[1] = - 0.3\n",
    "epsilon = 0.1\n",
    "delta = 0.1\n",
    "#beta = inner_dual_infinity_leo_original_signs(X,y,beta_0,epsilon,delta)\n",
    "#beta = inner_dual_infinity_leo(X,y,beta_0,epsilon,delta)\n",
    "\n",
    "\n",
    "\n",
    "#model = inner_dual_infinity_leo(X,y,beta_0,epsilon,delta)\n",
    "#print(\"Obj value Dual Leo:\", objective_value(model))\n",
    "\n",
    "\n",
    "\n",
    "#print(\"Primal 1\", value(m.obj))"
   ]
  },
  {
   "cell_type": "code",
   "execution_count": 22,
   "id": "located-modern",
   "metadata": {},
   "outputs": [
    {
     "name": "stdout",
     "output_type": "stream",
     "text": [
      "Academic license - for non-commercial use only - expires 2022-07-20\n",
      "Gurobi Optimizer version 9.1.1 build v9.1.1rc0 (mac64)\n",
      "Thread count: 6 physical cores, 12 logical processors, using up to 12 threads\n",
      "Optimize a model with 768 rows, 210 columns and 1476 nonzeros\n",
      "Model fingerprint: 0x3477086f\n",
      "Coefficient statistics:\n",
      "  Matrix range     [1e-02, 1e+00]\n",
      "  Objective range  [1e+00, 1e+00]\n",
      "  Bounds range     [0e+00, 0e+00]\n",
      "  RHS range        [2e-03, 1e+00]\n",
      "Presolve removed 586 rows and 26 columns\n",
      "Presolve time: 0.00s\n",
      "Presolved: 182 rows, 358 columns, 578 nonzeros\n",
      "\n",
      "Iteration    Objective       Primal Inf.    Dual Inf.      Time\n",
      "       0    1.5099457e+01   4.523467e+00   0.000000e+00      0s\n",
      "      35    1.5555044e+01   0.000000e+00   0.000000e+00      0s\n",
      "\n",
      "Solved in 35 iterations and 0.00 seconds\n",
      "Optimal objective  1.555504361e+01\n",
      "\n",
      "User-callback calls 64, time in user-callback 0.00 sec\n",
      "Obj value Primal:15.55504361195763Academic license - for non-commercial use only - expires 2022-07-20\n",
      "Obj value Primal:15.55504361195763Academic license - for non-commercial use only - expires 2022-07-20\n",
      "Obj value Primal:15.55504361195763"
     ]
    }
   ],
   "source": [
    "m, beta = inner_primal_infinity1(X,y,beta_0,epsilon,delta)\n",
    "print(\"Obj value Primal:\", objective_value(m))\n",
    "\n",
    "m, beta = inner_primal_infinity2(X,y,beta_0,epsilon,delta)\n",
    "print(\"Obj value Primal:\", objective_value(m))\n",
    "\n",
    "m, beta = inner_primal_infinity3(X,y,beta_0,epsilon,delta)\n",
    "print(\"Obj value Primal:\", objective_value(m))"
   ]
  },
  {
   "cell_type": "code",
   "execution_count": 17,
   "id": "d99695ea",
   "metadata": {},
   "outputs": [
    {
     "ename": "LoadError",
     "evalue": "\u001b[91mArgumentError: indexed assignment with a single value to many locations is not supported; perhaps use broadcasting `.=` instead?\u001b[39m",
     "output_type": "error",
     "traceback": [
      "\u001b[91mArgumentError: indexed assignment with a single value to many locations is not supported; perhaps use broadcasting `.=` instead?\u001b[39m",
      "",
      "Stacktrace:",
      " [1] setindex_shape_check(::DataFrameRow{DataFrame,DataFrames.Index}, ::Int64) at ./indices.jl:258",
      " [2] macro expansion at ./multidimensional.jl:795 [inlined]",
      " [3] _unsafe_setindex!(::IndexLinear, ::Array{Float64,2}, ::DataFrameRow{DataFrame,DataFrames.Index}, ::UnitRange{Int64}) at ./multidimensional.jl:789",
      " [4] _setindex! at ./multidimensional.jl:785 [inlined]",
      " [5] setindex! at ./abstractarray.jl:1153 [inlined]",
      " [6] get_Y(::DataFrame, ::Int64) at ./In[6]:4",
      " [7] get_Z(::DataFrame) at ./In[6]:12",
      " [8] top-level scope at In[17]:1",
      " [9] include_string(::Function, ::Module, ::String, ::String) at /Applications/Julia-1.5.app/Contents/Resources/julia/lib/julia/sys.dylib:?"
     ]
    }
   ],
   "source": [
    "Z = get_Z(X)\n",
    "λ = Random.rand(n)"
   ]
  },
  {
   "cell_type": "code",
   "execution_count": 313,
   "id": "03df4f9d",
   "metadata": {},
   "outputs": [
    {
     "data": {
      "text/plain": [
       "inner_dual_infinity_leo (generic function with 1 method)"
      ]
     },
     "execution_count": 313,
     "metadata": {},
     "output_type": "execute_result"
    }
   ],
   "source": [
    "function inner_dual_infinity_leo(X, y, β0, epsilon, delta)\n",
    "    \n",
    "    #Non-adaptive version, that optimizes wrt CVaR, with OLS, and lasso penalty\n",
    "    #alpha: Risk value\n",
    "    \n",
    "    T, p = size(X)\n",
    "\n",
    "    # Create model\n",
    "    model = Model(with_optimizer(Gurobi.Optimizer))\n",
    "    set_optimizer_attribute(model, \"OutputFlag\", 0)\n",
    "    \n",
    "    # Add variables\n",
    "    @variable(model, λ[i=1:2,j=1:T]>=0) \n",
    "    @variable(model, ν[i=1:2, j=1:T,k=1:p]>=0) \n",
    "    @variable(model, μ[i=1:2, j=1:T,k=1:p]>=0)\n",
    "\n",
    "    # Add objective\n",
    "    @objective(model, Max, dot(λ[1,:],y) - dot(λ[2,:],y) \n",
    "                            - delta * sum(sum(ν[1,t,i]+ν[2,t,i] for i=1:p) for t=1:T)\n",
    "                            - sum(dot(epsilon .+ β0, μ[1,t,:]) for t=1:T)\n",
    "                            + sum(dot(epsilon .- β0, μ[2,t,:]) for t=1:T)\n",
    "        )\n",
    "    \n",
    "    @constraint(model,[t=1:T], λ[1,:] .+ λ[2,:] .== 1)\n",
    "    @constraint(model,[t=1:T-1], X[t,:]*(λ[1,t]-λ[2,t]) .+ μ[2,t,:]-μ[1,t,:]\n",
    "                                            .+ ν[2,t,:]-ν[1,t,:]\n",
    "                                            .+ ν[2,t+1,:]-ν[1,t+1,:] .== 0)\n",
    "    @constraint(model, X[T,:]*(λ[1,T]-λ[2,T]) .+ μ[2,T,:]-μ[1,T,:]\n",
    "                                            .+ ν[2,T,:]-ν[1,T,:] .== 0)\n",
    "\n",
    "    @constraint(model, [i=1:p], ν[1,1,i] == 0)\n",
    "    @constraint(model, [i=1:p], ν[2,1,i] == 0)\n",
    "    \n",
    "    optimize!(model);\n",
    "    \n",
    "    return getvalue.(λ)\n",
    "end"
   ]
  },
  {
   "cell_type": "code",
   "execution_count": 199,
   "id": "9589479c",
   "metadata": {},
   "outputs": [
    {
     "data": {
      "text/plain": [
       "inner_dual_infinity_leo_original_signs (generic function with 1 method)"
      ]
     },
     "execution_count": 199,
     "metadata": {},
     "output_type": "execute_result"
    }
   ],
   "source": [
    "function inner_dual_infinity_leo_original_signs(X, y, β0, epsilon, delta)\n",
    "    \n",
    "    #Non-adaptive version, that optimizes wrt CVaR, with OLS, and lasso penalty\n",
    "    #alpha: Risk value\n",
    "    \n",
    "    T, p = size(X)\n",
    "\n",
    "    # Create model\n",
    "    model = Model(with_optimizer(Gurobi.Optimizer))\n",
    "    #set_optimizer_attribute(model, \"OutputFlag\", 0)\n",
    "    \n",
    "    # Add variables\n",
    "    @variable(model, λ[i=1:2,j=1:T]<=0) \n",
    "    @variable(model, ν[i=1:2, j=1:T,k=1:p]<=0) \n",
    "    @variable(model, μ[i=1:2, j=1:T,k=1:p]<=0)\n",
    "\n",
    "    # Add objective\n",
    "    @objective(model, Max, dot(λ[2,:],y) - dot(λ[1,:],y) \n",
    "                            + delta * sum(sum(ν[1,t,i]+ν[2,t,i] for i=1:p) for t=1:T)\n",
    "                            + sum(dot(epsilon .+ β0, μ[1,t,:]) for t=1:T)\n",
    "                            + sum(dot(epsilon .- β0, μ[2,t,:]) for t=1:T)\n",
    "        )\n",
    "    \n",
    "    @constraint(model,[t=1:T], -λ[1,:] .- λ[2,:] .== 1)\n",
    "    @constraint(model,[t=1:T-1], X[t,:]*(λ[2,t]-λ[1,t]) .+ μ[1,t,:]-μ[2,t,:]\n",
    "                                            .+ ν[1,t,:]-ν[2,t,:]\n",
    "                                            .+ ν[1,t+1,:]-ν[2,t+1,:] .== 0)\n",
    "    @constraint(model, X[T,:]*(λ[2,T]-λ[1,T]) .+ μ[1,T,:]-μ[2,T,:]\n",
    "                                            .+ ν[1,T,:]-ν[2,T,:] .== 0)\n",
    "\n",
    "    @constraint(model, [i=1:p], ν[1,1,i] == 0)\n",
    "    @constraint(model, [i=1:p], ν[2,1,i] == 0)\n",
    "    \n",
    "    optimize!(model);\n",
    "    \n",
    "    return getvalue.(λ)\n",
    "end"
   ]
  },
  {
   "cell_type": "code",
   "execution_count": 97,
   "id": "e11e8169",
   "metadata": {},
   "outputs": [
    {
     "name": "stdout",
     "output_type": "stream",
     "text": [
      "Academic license - for non-commercial use only - expires 2022-07-20\n",
      "Gurobi Optimizer version 9.1.1 build v9.1.1rc0 (mac64)\n",
      "Thread count: 6 physical cores, 12 logical processors, using up to 12 threads\n",
      "Optimize a model with 4 rows, 2 columns and 6 nonzeros\n",
      "Model fingerprint: 0xf1865ffb\n",
      "Coefficient statistics:\n",
      "  Matrix range     [6e-02, 1e+00]\n",
      "  Objective range  [1e+00, 1e+00]\n",
      "  Bounds range     [0e+00, 0e+00]\n",
      "  RHS range        [2e-01, 6e-01]\n",
      "Presolve removed 4 rows and 2 columns\n",
      "Presolve time: 0.00s\n",
      "Presolve: All rows and columns removed\n",
      "Iteration    Objective       Primal Inf.    Dual Inf.      Time\n",
      "       0    6.0374523e-01   0.000000e+00   0.000000e+00      0s\n",
      "\n",
      "Solved in 0 iterations and 0.00 seconds\n",
      "Optimal objective  6.037452260e-01\n",
      "\n",
      "User-callback calls 25, time in user-callback 0.00 sec\n"
     ]
    },
    {
     "data": {
      "text/plain": [
       "(A JuMP Model\n",
       "Minimization problem with:\n",
       "Variables: 2\n",
       "Objective function type: VariableRef\n",
       "`GenericAffExpr{Float64,VariableRef}`-in-`MathOptInterface.LessThan{Float64}`: 4 constraints\n",
       "`VariableRef`-in-`MathOptInterface.GreaterThan{Float64}`: 1 constraint\n",
       "Model mode: AUTOMATIC\n",
       "CachingOptimizer state: ATTACHED_OPTIMIZER\n",
       "Solver name: Gurobi\n",
       "Names registered in the model: b, diff_0_minus, diff_0_plus, diff_minus, diff_plus, res_minus, res_plus, β, [0.3519194308823449])"
      ]
     },
     "execution_count": 97,
     "metadata": {},
     "output_type": "execute_result"
    }
   ],
   "source": [
    "n = 1\n",
    "p = 1\n",
    "X = Random.rand(n,p)\n",
    "#X[:,-1] = np.ones(n)\n",
    "y = Random.rand(n)\n",
    "beta_0 = Random.rand(p)\n",
    "epsilon = 0.1\n",
    "delta = 0.01\n",
    "m, beta = inner_primal_infinity(X,y,beta_0,epsilon,delta)\n",
    "#print(\"Primal 1\", value(m.obj))"
   ]
  },
  {
   "cell_type": "code",
   "execution_count": 83,
   "id": "c716530c",
   "metadata": {},
   "outputs": [
    {
     "data": {
      "text/plain": [
       "inner_primal_infinity (generic function with 1 method)"
      ]
     },
     "execution_count": 83,
     "metadata": {},
     "output_type": "execute_result"
    }
   ],
   "source": [
    "function inner_primal_infinity(X, y, β0, epsilon, delta)\n",
    "    \n",
    "    #Non-adaptive version, that optimizes wrt CVaR, with OLS, and lasso penalty\n",
    "    #alpha: Risk value\n",
    "    \n",
    "    n, p = size(X)\n",
    "\n",
    "    # Create model\n",
    "    model = Model(with_optimizer(Gurobi.Optimizer))\n",
    "\n",
    "    # Add variables\n",
    "    @variable(model, a[i=1:n,j=1:p]) \n",
    "    @variable(model, b[i=1:n]>=0) \n",
    "\n",
    "    # Add objective\n",
    "    @objective(model, Min, sum(b[i] for i=1:n))\n",
    "    \n",
    "    #@constraint(model,[i=1:n], y .- dot(X,β) .<= b)\n",
    "    #@constraint(model,[i=1:n],-y .+ dot(X,β) .<= b)\n",
    "    @constraint(model,[i=1:n],- y[i] + dot(X[i,:],a[i,:]) <= b[i])\n",
    "    @constraint(model,[i=1:n],  y[i] - dot(X[i,:],a[i,:]) <= b[i])\n",
    "\n",
    "    @constraint(model,[i=2:n],   a[i,:] .- a[i-1,:] .<= delta)\n",
    "    @constraint(model,[i=2:n], - a[i,:] .+ a[i-1,:] .<= delta)\n",
    "    \n",
    "    @constraint(model,[i=1:n],   a[i,:] .- β0 .<= epsilon)\n",
    "    @constraint(model,[i=1:n], - a[i,:] .+ β0 .<= epsilon)\n",
    "    \n",
    "    optimize!(model);\n",
    "    \n",
    "    return model, getvalue.(a)\n",
    "end"
   ]
  },
  {
   "cell_type": "code",
   "execution_count": 145,
   "id": "85754856",
   "metadata": {},
   "outputs": [
    {
     "name": "stdout",
     "output_type": "stream",
     "text": [
      "Academic license - for non-commercial use only - expires 2022-07-20\n",
      "Gurobi Optimizer version 9.1.1 build v9.1.1rc0 (mac64)\n",
      "Thread count: 6 physical cores, 12 logical processors, using up to 12 threads\n",
      "Optimize a model with 26 rows, 9 columns and 46 nonzeros\n",
      "Model fingerprint: 0xac5b704b\n",
      "Coefficient statistics:\n",
      "  Matrix range     [1e+00, 6e+00]\n",
      "  Objective range  [1e+00, 1e+00]\n",
      "  Bounds range     [0e+00, 0e+00]\n",
      "  RHS range        [1e-02, 1e+01]\n",
      "Presolve removed 26 rows and 9 columns\n",
      "Presolve time: 0.00s\n",
      "Presolve: All rows and columns removed\n",
      "Iteration    Objective       Primal Inf.    Dual Inf.      Time\n",
      "       0    2.5290000e+02   0.000000e+00   0.000000e+00      0s\n",
      "\n",
      "Solved in 0 iterations and 0.00 seconds\n",
      "Optimal objective  2.529000000e+02\n",
      "\n",
      "User-callback calls 28, time in user-callback 0.00 sec\n"
     ]
    },
    {
     "data": {
      "text/plain": [
       "(A JuMP Model\n",
       "Minimization problem with:\n",
       "Variables: 9\n",
       "Objective function type: GenericAffExpr{Float64,VariableRef}\n",
       "`GenericAffExpr{Float64,VariableRef}`-in-`MathOptInterface.LessThan{Float64}`: 26 constraints\n",
       "`VariableRef`-in-`MathOptInterface.GreaterThan{Float64}`: 3 constraints\n",
       "Model mode: AUTOMATIC\n",
       "CachingOptimizer state: ATTACHED_OPTIMIZER\n",
       "Solver name: Gurobi\n",
       "Names registered in the model: b, diff_0_minus, diff_0_plus, diff_minus, diff_plus, res_minus, res_plus, β, [12.9 13.9; 12.9 13.9; 12.9 13.9])"
      ]
     },
     "execution_count": 145,
     "metadata": {},
     "output_type": "execute_result"
    }
   ],
   "source": [
    "n = 3\n",
    "p = 2\n",
    "X = Array([[1., 2., 3.] [4., 5., 6.]])#Random.rand(n,p)\n",
    "#X[:,-1] = np.ones(n)\n",
    "y = Array([10.,11.,12.])#Random.rand(n)\n",
    "beta_0 = Array([13.,14.])#Random.rand(p)\n",
    "epsilon = 0.1\n",
    "delta = 0.01\n",
    "m, beta = inner_primal_infinity(X,y,beta_0,epsilon,delta)\n",
    "#print(\"Primal 1\", value(m.obj))"
   ]
  },
  {
   "cell_type": "code",
   "execution_count": 147,
   "id": "1a1af9da",
   "metadata": {},
   "outputs": [
    {
     "data": {
      "text/latex": [
       "$$ \\begin{alignat*}{1}\\max\\quad & 14.1 noname + 11 noname + 14.1 noname + 0.01 noname - 12.9 noname + 0.01 noname + 0.01 noname - 12.9 noname + 0.01 noname - 13.9 noname + 13.1 noname + 13.1 noname + 0.01 noname - 13.9 noname - 12 noname - 13.9 noname - 10 noname + 12 noname - 11 noname + 14.1 noname - 12.9 noname + 0.01 noname + 0.01 noname + 13.1 noname + 0.01 noname + 10 noname\\\\\n",
       "\\text{Subject to} \\quad & noname - noname - noname + noname + noname - noname = 0.0\\\\\n",
       " & 2 noname - 2 noname + noname - noname - noname + noname + noname - noname = 0.0\\\\\n",
       " & 3 noname - 3 noname + noname - noname + noname - noname = 0.0\\\\\n",
       " & 4 noname - 4 noname - noname + noname + noname - noname = 0.0\\\\\n",
       " & 5 noname - 5 noname + noname - noname - noname + noname + noname - noname = 0.0\\\\\n",
       " & 6 noname - 6 noname + noname - noname + noname - noname = 0.0\\\\\n",
       " & -noname - noname + noname = 1.0\\\\\n",
       " & -noname - noname + noname = 1.0\\\\\n",
       " & -noname - noname + noname = 1.0\\\\\n",
       " & noname \\geq 0.0\\\\\n",
       " & noname \\geq 0.0\\\\\n",
       " & noname \\geq 0.0\\\\\n",
       " & noname \\leq 0.0\\\\\n",
       " & noname \\leq 0.0\\\\\n",
       " & noname \\leq 0.0\\\\\n",
       " & noname \\leq 0.0\\\\\n",
       " & noname \\leq 0.0\\\\\n",
       " & noname \\leq 0.0\\\\\n",
       " & noname \\leq 0.0\\\\\n",
       " & noname \\leq 0.0\\\\\n",
       " & noname \\leq 0.0\\\\\n",
       " & noname \\leq 0.0\\\\\n",
       " & noname \\leq 0.0\\\\\n",
       " & noname \\leq 0.0\\\\\n",
       " & noname \\leq 0.0\\\\\n",
       " & noname \\leq 0.0\\\\\n",
       " & noname \\leq 0.0\\\\\n",
       " & noname \\leq 0.0\\\\\n",
       " & noname \\leq 0.0\\\\\n",
       " & noname \\leq 0.0\\\\\n",
       " & noname \\leq 0.0\\\\\n",
       " & noname \\leq 0.0\\\\\n",
       " & noname \\leq 0.0\\\\\n",
       " & noname \\leq 0.0\\\\\n",
       " & noname \\leq 0.0\\\\\n",
       " & noname \\leq 0.0\\\\\n",
       " & noname \\leq 0.0\\\\\n",
       " & noname \\leq 0.0\\\\\n",
       "\\end{alignat*}\n",
       " $$"
      ],
      "text/plain": [
       "A JuMP Model\n",
       "Maximization problem with:\n",
       "Variables: 29\n",
       "Objective function type: GenericAffExpr{Float64,VariableRef}\n",
       "`GenericAffExpr{Float64,VariableRef}`-in-`MathOptInterface.EqualTo{Float64}`: 9 constraints\n",
       "`VariableRef`-in-`MathOptInterface.GreaterThan{Float64}`: 3 constraints\n",
       "`VariableRef`-in-`MathOptInterface.LessThan{Float64}`: 26 constraints\n",
       "Model mode: AUTOMATIC\n",
       "CachingOptimizer state: NO_OPTIMIZER\n",
       "Solver name: No optimizer attached."
      ]
     },
     "execution_count": 147,
     "metadata": {},
     "output_type": "execute_result"
    }
   ],
   "source": [
    "dual_model = dualize(m)"
   ]
  },
  {
   "cell_type": "code",
   "execution_count": 32,
   "id": "c37a14f5",
   "metadata": {},
   "outputs": [
    {
     "name": "stdout",
     "output_type": "stream",
     "text": [
      "Academic license - for non-commercial use only - expires 2022-07-20\n",
      "Gurobi Optimizer version 9.1.1 build v9.1.1rc0 (mac64)\n",
      "Thread count: 6 physical cores, 12 logical processors, using up to 12 threads\n",
      "Optimize a model with 210 rows, 60 columns and 400 nonzeros\n",
      "Model fingerprint: 0xc48ab349\n",
      "Coefficient statistics:\n",
      "  Matrix range     [2e-03, 1e+00]\n",
      "  Objective range  [1e+00, 1e+00]\n",
      "  Bounds range     [0e+00, 0e+00]\n",
      "  RHS range        [1e-02, 8e-01]\n",
      "Presolve removed 210 rows and 60 columns\n",
      "Presolve time: 0.00s\n",
      "Presolve: All rows and columns removed\n",
      "Iteration    Objective       Primal Inf.    Dual Inf.      Time\n",
      "       0    5.2475641e+00   0.000000e+00   0.000000e+00      0s\n",
      "\n",
      "Solved in 0 iterations and 0.00 seconds\n",
      "Optimal objective  5.247564085e+00\n",
      "\n",
      "User-callback calls 31, time in user-callback 0.00 sec\n"
     ]
    },
    {
     "data": {
      "text/plain": [
       "10×5 Array{Float64,2}:\n",
       " 0.0525981  0.584418  0.534952  0.231315  0.466786\n",
       " 0.0525981  0.584418  0.534952  0.231315  0.466786\n",
       " 0.0525981  0.584418  0.534952  0.231315  0.466786\n",
       " 0.0525981  0.584418  0.534952  0.231315  0.466786\n",
       " 0.0525981  0.584418  0.534952  0.231315  0.466786\n",
       " 0.0525981  0.584418  0.534952  0.231315  0.466786\n",
       " 0.0525981  0.584418  0.534952  0.231315  0.466786\n",
       " 0.0525981  0.584418  0.534952  0.231315  0.466786\n",
       " 0.0525981  0.584418  0.534952  0.231315  0.466786\n",
       " 0.0525981  0.584418  0.534952  0.231315  0.466786"
      ]
     },
     "execution_count": 32,
     "metadata": {},
     "output_type": "execute_result"
    }
   ],
   "source": [
    "beta = inner_primal_infinity(X,y,beta_0,epsilon,delta)"
   ]
  },
  {
   "cell_type": "code",
   "execution_count": null,
   "id": "4a67196c",
   "metadata": {},
   "outputs": [],
   "source": [
    "function l1_regression(X, y, rho)\n",
    "    # number of observations\n",
    "    n = nrow(X)\n",
    "    # number of estimators\n",
    "    m = ncol(X)\n",
    "    \n",
    "    # big M constant. Note big M should be small for l0 to work properly\n",
    "    M = 25\n",
    "    \n",
    "    # convert input data frames to matrix/vector\n",
    "    y_vector = convert(Matrix, y[:,:])\n",
    "    X_matrix = convert(Matrix, X[:,:])\n",
    "    \n",
    "    # build model\n",
    "    model = Model(with_optimizer(Gurobi.Optimizer))\n",
    "    ##### Load Packagesset_optimizer_attribute(model, \"OutputFlag\", 0)\n",
    "    # insert variables and constraints\n",
    "    @variable(model,beta[i=1:m])\n",
    "    @variable(model,z[i=1:m]>=0)\n",
    "    @variable(model,u[i=1:n]>=0)\n",
    "    @variable(model, sse>=0)\n",
    "    @constraint(model,[i=1:m], beta[i]<=z[i])\n",
    "    @constraint(model,[i=1:m], beta[i]>=-z[i])\n",
    "    @constraint(model,[i=1:n],y_vector[i]-dot(X_matrix[i,:],beta)<=u[i])\n",
    "    @constraint(model,[i=1:n],-y_vector[i]+dot(X_matrix[i,:],beta)<=u[i])\n",
    "    @constraint(model, sum(u) <= sse)\n",
    "    @objective(model,Min, sse + rho*sum(z[i] for i=1:m))\n",
    "    \n",
    "    # optimize\n",
    "    optimize!(model);\n",
    "    \n",
    "    z_here = getvalue.(z)\n",
    "    b_here = getvalue.(beta)\n",
    "    # return estimated betas\n",
    "    return (getvalue.(beta))\n",
    "end"
   ]
  }
 ],
 "metadata": {
  "kernelspec": {
   "display_name": "Julia 1.5.3",
   "language": "julia",
   "name": "julia-1.5"
  },
  "language_info": {
   "file_extension": ".jl",
   "mimetype": "application/julia",
   "name": "julia",
   "version": "1.5.3"
  }
 },
 "nbformat": 4,
 "nbformat_minor": 5
}
