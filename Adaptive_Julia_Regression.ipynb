{
 "cells": [
  {
   "cell_type": "code",
   "execution_count": 1,
   "id": "21537db7",
   "metadata": {},
   "outputs": [],
   "source": [
    "using JuMP, Gurobi, Random"
   ]
  },
  {
   "cell_type": "code",
   "execution_count": 2,
   "id": "834c930b",
   "metadata": {},
   "outputs": [
    {
     "name": "stdout",
     "output_type": "stream",
     "text": [
      "Academic license - for non-commercial use only - expires 2022-07-20\n"
     ]
    },
    {
     "data": {
      "text/plain": [
       "Gurobi.Env(Ptr{Nothing} @0x00007feb048b7a00, false, 0)"
      ]
     },
     "execution_count": 2,
     "metadata": {},
     "output_type": "execute_result"
    }
   ],
   "source": [
    "using JuMP, Gurobi, StatsBase, DataFrames, CSV, LinearAlgebra, Distributions, Random\n",
    "const GRB_ENV = Gurobi.Env()"
   ]
  },
  {
   "cell_type": "code",
   "execution_count": 57,
   "id": "525aefff",
   "metadata": {},
   "outputs": [
    {
     "name": "stderr",
     "output_type": "stream",
     "text": [
      "┌ Info: Precompiling Dualization [191a621a-6537-11e9-281d-650236a99e60]\n",
      "└ @ Base loading.jl:1278\n"
     ]
    }
   ],
   "source": [
    "using Dualization"
   ]
  },
  {
   "cell_type": "code",
   "execution_count": 238,
   "id": "educational-broadway",
   "metadata": {},
   "outputs": [
    {
     "data": {
      "text/plain": [
       "solve_model (generic function with 1 method)"
      ]
     },
     "execution_count": 238,
     "metadata": {},
     "output_type": "execute_result"
    }
   ],
   "source": [
    "function solve_model(m)\n",
    "    optimize!(m)\n",
    "    U_OA = objective_value(m)\n",
    "    println(\"U_OA from solve \", U_OA)\n",
    "    return value.(m[:y]), U_OA\n",
    "end"
   ]
  },
  {
   "cell_type": "code",
   "execution_count": 3,
   "id": "52e0e146",
   "metadata": {},
   "outputs": [
    {
     "data": {
      "text/plain": [
       "get_A (generic function with 1 method)"
      ]
     },
     "execution_count": 3,
     "metadata": {},
     "output_type": "execute_result"
    }
   ],
   "source": [
    "function get_Y(X, t)\n",
    "    T, p = size(X)\n",
    "    Y = zeros(1,T*p)\n",
    "    Y[(t-1)*p+1:t*p] = X[t,:]\n",
    "    return Y\n",
    "end\n",
    "\n",
    "function get_Z(X)\n",
    "    T, p = size(X)\n",
    "    Z = zeros(T, T*p)\n",
    "    for t=1:T\n",
    "        Z[t,:] = get_Y(X,t)\n",
    "    end\n",
    "    return Z\n",
    "end\n",
    "\n",
    "function get_A(X, t)\n",
    "    T, p = size(X)\n",
    "    A = zeros(p,T*p)\n",
    "    A[:,(t-1)*p+1:t*p] = 1 * Matrix(I, p, p)\n",
    "    return A\n",
    "end"
   ]
  },
  {
   "cell_type": "code",
   "execution_count": 220,
   "id": "eb16adff",
   "metadata": {},
   "outputs": [
    {
     "data": {
      "text/plain": [
       "S_dual (generic function with 1 method)"
      ]
     },
     "execution_count": 220,
     "metadata": {},
     "output_type": "execute_result"
    }
   ],
   "source": [
    "function S_dual(X, y, β0, epsilon, delta)\n",
    "    \n",
    "    #Non-adaptive version, that optimizes wrt CVaR, with OLS, and lasso penalty\n",
    "    #alpha: Risk value\n",
    "    \n",
    "    T, p = size(X)\n",
    "    Z = get_Z(X)\n",
    "    \n",
    "    # Create model\n",
    "    model = Model(with_optimizer(Gurobi.Optimizer))\n",
    "    set_optimizer_attribute(model, \"OutputFlag\", 0)\n",
    "    \n",
    "    # Add variables\n",
    "    @variable(model, λ[i=1:2, j=1:T] >= 0) \n",
    "    @variable(model, ν[i=1:2, j=1:T-1, k=1:p]>=0) \n",
    "    @variable(model, μ[i=1:2, j=1:T, k=1:p]>=0)\n",
    "\n",
    "    # Add objective\n",
    "    @objective(model, Max, dot(λ[1,:],y) - dot(λ[2,:],y) \n",
    "                            - delta * sum(sum(ν[1,t,i]+ν[2,t,i] for i=1:p) for t=1:T-1)\n",
    "                            - sum(dot(epsilon .+ β0, μ[1,t,:]) for t = 1:T)\n",
    "                            + sum(dot(epsilon .- β0, μ[2,t,:]) for t = 1:T))\n",
    "    \n",
    "    @constraint(model,[t=1:T], λ[1,:] .+ λ[2,:] .== 1)\n",
    "        \n",
    "        \n",
    "    @constraint(model, transpose(λ[2,:])*Z-transpose(λ[1,:])*Z \n",
    "                        + sum(transpose(ν[1,t,:])*(get_A(X, t+1).-get_A(X, t)) for t=1:T-1)\n",
    "                        + sum(transpose(ν[2,t,:])*(-get_A(X, t+1).+get_A(X, t)) for t=1:T-1)\n",
    "                        + sum(transpose(μ[1,t,:])*get_A(X,t) for t=1:T)\n",
    "                        - sum(transpose(μ[2,t,:])*get_A(X,t) for t=1:T) .== 0)\n",
    "    \n",
    "    \n",
    "    optimize!(model);\n",
    "    \n",
    "    return objective_value(model), getvalue.(λ), getvalue.(ν), getvalue.(μ)\n",
    "end"
   ]
  },
  {
   "cell_type": "code",
   "execution_count": 275,
   "id": "smart-huntington",
   "metadata": {},
   "outputs": [
    {
     "data": {
      "text/plain": [
       "R (generic function with 1 method)"
      ]
     },
     "execution_count": 275,
     "metadata": {},
     "output_type": "execute_result"
    }
   ],
   "source": [
    "function R(X, D_min, D_max, β0, epsilon, delta)   \n",
    "    T, p = size(X)\n",
    "    Z = get_Z(X)\n",
    "    \n",
    "    # Create model\n",
    "    model = Model(() -> Gurobi.Optimizer(GRB_ENV))#Model(with_optimizer(Gurobi.Optimizer))\n",
    "    set_optimizer_attribute(model, \"OutputFlag\", 0)\n",
    "    set_optimizer_attribute(model, \"NonConvex\", 2)\n",
    "    \n",
    "    # Add variables\n",
    "    @variable(model, λ[i=1:2, j=1:T] >= 0) \n",
    "    @variable(model, ν[i=1:2, j=1:T-1, k=1:p]>=0) \n",
    "    @variable(model, μ[i=1:2, j=1:T, k=1:p]>=0)\n",
    "    \n",
    "    @variable(model, y[j=1:T])\n",
    "\n",
    "    \n",
    "    @constraint(model,[t=1:T], λ[1,:] .+ λ[2,:] .== 1)\n",
    "        \n",
    "        \n",
    "    @constraint(model, transpose(λ[2,:])*Z-transpose(λ[1,:])*Z \n",
    "                        + sum(transpose(ν[1,t,:])*(get_A(X, t+1).-get_A(X, t)) for t=1:T-1)\n",
    "                        + sum(transpose(ν[2,t,:])*(-get_A(X, t+1).+get_A(X, t)) for t=1:T-1)\n",
    "                        + sum(transpose(μ[1,t,:])*get_A(X,t) for t=1:T)\n",
    "                        - sum(transpose(μ[2,t,:])*get_A(X,t) for t=1:T) .== 0)\n",
    "\n",
    "    #y in uncertainty set\n",
    "    @constraint(model, [1:T], D_min .<= y)\n",
    "    @constraint(model, [1:T], y .<= D_max)\n",
    "       \n",
    "    # Add objective\n",
    "    @objective(model, Max, 2*transpose(λ[1,:])*y - sum(y)\n",
    "                            - delta * sum(sum(ν[1,t,i]+ν[2,t,i] for i=1:p) for t=1:T-1)\n",
    "                            - sum(dot(epsilon .+ β0, μ[1,t,:]) for t = 1:T)\n",
    "                            + sum(dot(epsilon .- β0, μ[2,t,:]) for t = 1:T))\n",
    "    optimize!(model)\n",
    "    return objective_value(model), getvalue.(y), getvalue.(λ), getvalue.(ν), getvalue.(μ)\n",
    "end"
   ]
  },
  {
   "cell_type": "code",
   "execution_count": null,
   "id": "forced-maria",
   "metadata": {},
   "outputs": [],
   "source": [
    "function master_problem(X)\n",
    "    T, p = size(X)\n",
    "    Z = get_Z(X)\n",
    "    \n",
    "    # Create model\n",
    "    model = Model(() -> Gurobi.Optimizer(GRB_ENV))#Model(with_optimizer(Gurobi.Optimizer))\n",
    "    set_optimizer_attribute(model, \"OutputFlag\", 0)\n",
    "    \n",
    "    # Add variables\n",
    "    @variable(model, α)\n",
    "    @variable(model, β[j=1:p])\n",
    "\n",
    "    \n",
    "    @constraint(model,[t=1:T], λ[1,:] .+ λ[2,:] .== 1)\n",
    "        \n",
    "        \n",
    "    @constraint(model, transpose(λ[2,:])*Z-transpose(λ[1,:])*Z \n",
    "                        + sum(transpose(ν[1,t,:])*(get_A(X, t+1).-get_A(X, t)) for t=1:T-1)\n",
    "                        + sum(transpose(ν[2,t,:])*(-get_A(X, t+1).+get_A(X, t)) for t=1:T-1)\n",
    "                        + sum(transpose(μ[1,t,:])*get_A(X,t) for t=1:T)\n",
    "                        - sum(transpose(μ[2,t,:])*get_A(X,t) for t=1:T) .== 0)\n",
    "\n",
    "    @constraint(model, Max, 2*transpose(λ[1,:])*y - sum(y)\n",
    "                            - delta * sum(sum(ν[1,t,i]+ν[2,t,i] for i=1:p) for t=1:T-1)\n",
    "                            - sum(dot(epsilon .+ β0, μ[1,t,:]) for t = 1:T)\n",
    "                            + sum(dot(epsilon .- β0, μ[2,t,:]) for t = 1:T))\n",
    "       \n",
    "    # Add objective\n",
    "    @objective(model, Max, 2*transpose(λ[1,:])*y - sum(y)\n",
    "                            - delta * sum(sum(ν[1,t,i]+ν[2,t,i] for i=1:p) for t=1:T-1)\n",
    "                            - sum(dot(epsilon .+ β0, μ[1,t,:]) for t = 1:T)\n",
    "                            + sum(dot(epsilon .- β0, μ[2,t,:]) for t = 1:T))\n",
    "    optimize!(model)\n",
    "    return objective_value(model), getvalue.(y), getvalue.(λ), getvalue.(ν), getvalue.(μ)\n",
    "end    "
   ]
  },
  {
   "cell_type": "code",
   "execution_count": null,
   "id": "reverse-ordinary",
   "metadata": {},
   "outputs": [],
   "source": [
    "if true   \n",
    "    T, p = size(X)\n",
    "    Z = get_Z(X)\n",
    "    max_cuts = 5\n",
    "    cuts = 0\n",
    "    L_OA = -10000\n",
    "    U_OA = 10000\n",
    "    \n",
    "    # Create model\n",
    "    model = Model(() -> Gurobi.Optimizer(GRB_ENV))#Model(with_optimizer(Gurobi.Optimizer))\n",
    "    set_optimizer_attribute(model, \"OutputFlag\", 0)\n",
    "    \n",
    "    # Add variables\n",
    "    @variable(model, λ[i=1:2, j=1:T] >= 0) \n",
    "    @variable(model, ν[i=1:2, j=1:T-1, k=1:p]>=0) \n",
    "    @variable(model, μ[i=1:2, j=1:T, k=1:p]>=0)\n",
    "    \n",
    "    @variable(model, α) \n",
    "    #@variable(model, γ)\n",
    "    @variable(model, y[j=1:T])\n",
    "\n",
    "    \n",
    "    @constraint(model,[t=1:T], λ[1,:] .+ λ[2,:] .== 1)\n",
    "        \n",
    "        \n",
    "    @constraint(model, transpose(λ[2,:])*Z-transpose(λ[1,:])*Z \n",
    "                        + sum(transpose(ν[1,t,:])*(get_A(X, t+1).-get_A(X, t)) for t=1:T-1)\n",
    "                        + sum(transpose(ν[2,t,:])*(-get_A(X, t+1).+get_A(X, t)) for t=1:T-1)\n",
    "                        + sum(transpose(μ[1,t,:])*get_A(X,t) for t=1:T)\n",
    "                        - sum(transpose(μ[2,t,:])*get_A(X,t) for t=1:T) .== 0)\n",
    "\n",
    "    #y in uncertainty set\n",
    "    @constraint(model, [1:T], D_min .<= y)\n",
    "    @constraint(model, [1:T], y .<= D_max)\n",
    "    \n",
    "    y_val0 = (D_min .+ D_max)./2\n",
    "    L_OA, λ_val0, _, _ = S_dual(X, y_val0, β0, epsilon, delta)\n",
    "    @constraint(model, α <=   dot(λ_val0[1,:],y_val0) \n",
    "                            + dot(λ[1,:].-λ_val0[1,:], y_val0) \n",
    "                            + dot(y.-y_val0,λ_val0[1,:])\n",
    "                            - dot(λ_val0[2,:],y_val0) \n",
    "                            - dot(λ[2,:].-λ_val0[2,:], y_val0) \n",
    "                            - dot(y.-y_val0,λ_val0[2,:]))\n",
    "#     @constraint(model, γ >=   dot(λ_val0[2,:],y_val0) \n",
    "#                             + dot(λ[2,:].-λ_val0[2,:], y_val0) \n",
    "#                             + dot(y.-y_val0,λ_val0[2,:]))\n",
    "    \n",
    "    # Add objective\n",
    "    @objective(model, Max, α #- γ\n",
    "                            - delta * sum(sum(ν[1,t,i]+ν[2,t,i] for i=1:p) for t=1:T-1)\n",
    "                            - sum(dot(epsilon .+ β0, μ[1,t,:]) for t = 1:T)\n",
    "                            + sum(dot(epsilon .- β0, μ[2,t,:]) for t = 1:T))\n",
    "    \n",
    "    ###\n",
    "    # Step 3: Define the outer approximation function\n",
    "    ###\n",
    "    #m2 = copy(model)\n",
    "    #optimize!(model)\n",
    "    while cuts < max_cuts\n",
    "        println(\"Lower: \", L_OA, \" Upper: \", U_OA)\n",
    "        cuts += 1\n",
    "        y_val, U_OA = solve_model(model)\n",
    "\n",
    "        L_OA, λ_val, ν_val, μ_val = S_dual(X, y_val, β0, epsilon, delta)\n",
    "\n",
    "        if true#U_OA - L_OA > threshold\n",
    "            @constraint(model, α <= dot(λ_val[1,:],y_val) \n",
    "                                + dot(λ[1,:].-λ_val[1,:], y_val) \n",
    "                                + dot(y.-y_val,λ_val[1,:])\n",
    "                                - dot(λ_val[2,:],y_val) \n",
    "                                - dot(λ[2,:].-λ_val[2,:], y_val) \n",
    "                                - dot(y.-y_val,λ_val[2,:]))\n",
    "#             @constraint(model, γ >= dot(λ_val[2,:],y_val) \n",
    "#                             + dot(λ[2,:].-λ_val[2,:], y_val) \n",
    "#                             + dot(y.-y_val,λ_val[2,:]))\n",
    "            println(\"Cut added\")\n",
    "        end\n",
    "    end    \n",
    "end"
   ]
  },
  {
   "cell_type": "code",
   "execution_count": 269,
   "id": "considerable-today",
   "metadata": {},
   "outputs": [
    {
     "name": "stdout",
     "output_type": "stream",
     "text": [
      "Academic license - for non-commercial use only - expires 2022-07-20\n",
      "Lower: 6.89489784982016 Upper: 10000\n",
      "U_OA from solve 9.50676896820302\n",
      "Academic license - for non-commercial use only - expires 2022-07-20\n",
      "Cut added\n",
      "[0.44910485812064715, 1.1859076466511875, 0.5476733628913486, 0.2109752836052723, 1.378041767950016, 0.374536996965517, 0.7251971752451791, 1.3691365132789919, 0.9392487930236328, 0.4227048487390981, 0.7371619945268744, 0.012081208078308148, 1.0276201350204741, 1.2833686214418156, 0.5861331896665185, 1.0650113029593455, 0.232469029952036, 1.3379676792557893, 1.4596243879928867, 1.2411937998506408]\n",
      "Lower: 9.695786571685225 Upper: 9.50676896820302\n",
      "U_OA from solve 9.50676896820302\n",
      "Academic license - for non-commercial use only - expires 2022-07-20\n",
      "Cut added\n",
      "[0.44910485812064715, 1.1859076466511875, 0.5476733628913486, 0.2109752836052723, 1.378041767950016, 0.374536996965517, 0.7251971752451791, 1.3691365132789919, 0.9392487930236328, 0.4227048487390981, 0.7371619945268744, 0.012081208078308148, 1.0276201350204741, 1.2833686214418156, 0.5861331896665185, 1.0650113029593455, 0.232469029952036, 1.3379676792557893, 1.4596243879928867, 1.2411937998506408]\n",
      "Lower: 9.695786571685225 Upper: 9.50676896820302\n",
      "U_OA from solve 9.50676896820302\n",
      "Academic license - for non-commercial use only - expires 2022-07-20\n",
      "Cut added\n",
      "[0.44910485812064715, 1.1859076466511875, 0.5476733628913486, 0.2109752836052723, 1.378041767950016, 0.374536996965517, 0.7251971752451791, 1.3691365132789919, 0.9392487930236328, 0.4227048487390981, 0.7371619945268744, 0.012081208078308148, 1.0276201350204741, 1.2833686214418156, 0.5861331896665185, 1.0650113029593455, 0.232469029952036, 1.3379676792557893, 1.4596243879928867, 1.2411937998506408]\n",
      "Lower: 9.695786571685225 Upper: 9.50676896820302\n",
      "U_OA from solve 9.50676896820302\n",
      "Academic license - for non-commercial use only - expires 2022-07-20\n",
      "Cut added\n",
      "[0.44910485812064715, 1.1859076466511875, 0.5476733628913486, 0.2109752836052723, 1.378041767950016, 0.374536996965517, 0.7251971752451791, 1.3691365132789919, 0.9392487930236328, 0.4227048487390981, 0.7371619945268744, 0.012081208078308148, 1.0276201350204741, 1.2833686214418156, 0.5861331896665185, 1.0650113029593455, 0.232469029952036, 1.3379676792557893, 1.4596243879928867, 1.2411937998506408]\n",
      "Lower: 9.695786571685225 Upper: 9.50676896820302\n",
      "U_OA from solve 9.50676896820302\n",
      "Academic license - for non-commercial use only - expires 2022-07-20\n",
      "Cut added\n",
      "[0.44910485812064715, 1.1859076466511875, 0.5476733628913486, 0.2109752836052723, 1.378041767950016, 0.374536996965517, 0.7251971752451791, 1.3691365132789919, 0.9392487930236328, 0.4227048487390981, 0.7371619945268744, 0.012081208078308148, 1.0276201350204741, 1.2833686214418156, 0.5861331896665185, 1.0650113029593455, 0.232469029952036, 1.3379676792557893, 1.4596243879928867, 1.2411937998506408]\n"
     ]
    }
   ],
   "source": [
    "if true   \n",
    "    T, p = size(X)\n",
    "    Z = get_Z(X)\n",
    "    max_cuts = 5\n",
    "    cuts = 0\n",
    "    L_OA = -10000\n",
    "    U_OA = 10000\n",
    "    \n",
    "    # Create model\n",
    "    model = Model(() -> Gurobi.Optimizer(GRB_ENV))#Model(with_optimizer(Gurobi.Optimizer))\n",
    "    set_optimizer_attribute(model, \"OutputFlag\", 0)\n",
    "    set_optimizer_attribute(model, \"NonConvex\", 2)\n",
    "    \n",
    "    # Add variables\n",
    "    @variable(model, λ[i=1:2, j=1:T] >= 0) \n",
    "    @variable(model, ν[i=1:2, j=1:T-1, k=1:p]>=0) \n",
    "    @variable(model, μ[i=1:2, j=1:T, k=1:p]>=0)\n",
    "    \n",
    "    @variable(model, α) \n",
    "    #@variable(model, γ)\n",
    "    @variable(model, y[j=1:T])\n",
    "\n",
    "    \n",
    "    @constraint(model,[t=1:T], λ[1,:] .+ λ[2,:] .== 1)\n",
    "        \n",
    "        \n",
    "    @constraint(model, transpose(λ[2,:])*Z-transpose(λ[1,:])*Z \n",
    "                        + sum(transpose(ν[1,t,:])*(get_A(X, t+1).-get_A(X, t)) for t=1:T-1)\n",
    "                        + sum(transpose(ν[2,t,:])*(-get_A(X, t+1).+get_A(X, t)) for t=1:T-1)\n",
    "                        + sum(transpose(μ[1,t,:])*get_A(X,t) for t=1:T)\n",
    "                        - sum(transpose(μ[2,t,:])*get_A(X,t) for t=1:T) .== 0)\n",
    "\n",
    "    #y in uncertainty set\n",
    "    @constraint(model, [1:T], D_min .<= y)\n",
    "    @constraint(model, [1:T], y .<= D_max)\n",
    "    \n",
    "    y_val0 = D_max #(D_min .+ D_max)./2\n",
    "    L_OA, λ_val0, ν_val0, μ_val0 = S_dual(X, y_val0, β0, epsilon, delta)\n",
    "    @constraint(model, α <= dot(λ_val0[1,:],y_val0) + dot(λ[1,:].-λ_val0[1,:], y_val0) + dot(y.-y_val0,λ_val0[1,:]))\n",
    "    \n",
    "    # Add objective\n",
    "    @objective(model, Max, 2*α - sum(y)\n",
    "                            - delta * sum(sum(ν[1,t,i]+ν[2,t,i] for i=1:p) for t=1:T-1)\n",
    "                            - sum(dot(epsilon .+ β0, μ[1,t,:]) for t = 1:T)\n",
    "                            + sum(dot(epsilon .- β0, μ[2,t,:]) for t = 1:T))\n",
    "    \n",
    "    ###\n",
    "    # Step 3: Define the outer approximation function\n",
    "    ###\n",
    "    #m2 = copy(model)\n",
    "    #optimize!(model)\n",
    "    while cuts < max_cuts\n",
    "        println(\"Lower: \", L_OA, \" Upper: \", U_OA)\n",
    "        cuts += 1\n",
    "        \n",
    "        y_val, U_OA = solve_model(model)\n",
    "\n",
    "        L_OA, λ_val, ν_val, μ_val = S_dual(X, y_val, β0, epsilon, delta)\n",
    "\n",
    "        if true#U_OA - L_OA > threshold\n",
    "            @constraint(model, α <= dot(λ_val[1,:],y_val) \n",
    "                                + dot(λ[1,:].-λ_val[1,:], y_val) \n",
    "                                + dot(y.-y_val,λ_val[1,:]))\n",
    "                                \n",
    "            println(\"Cut added\")\n",
    "            println(y_val)\n",
    "        end\n",
    "    end    \n",
    "end"
   ]
  },
  {
   "cell_type": "code",
   "execution_count": 273,
   "id": "solar-envelope",
   "metadata": {},
   "outputs": [
    {
     "name": "stdout",
     "output_type": "stream",
     "text": [
      "Academic license - for non-commercial use only - expires 2022-07-20\n",
      "Lower: 6.139199513343522 Upper: 10000\n",
      "Gurobi Optimizer version 9.1.1 build v9.1.1rc0 (mac64)\n",
      "Thread count: 6 physical cores, 12 logical processors, using up to 12 threads\n",
      "Optimize a model with 2850 rows, 680 columns and 4780 nonzeros\n",
      "Model fingerprint: 0x505479be\n",
      "Model has 30 quadratic objective terms\n",
      "Coefficient statistics:\n",
      "  Matrix range     [7e-04, 1e+00]\n",
      "  Objective range  [5e-02, 1e+00]\n",
      "  QObjective range [4e+00, 4e+00]\n",
      "  Bounds range     [0e+00, 0e+00]\n",
      "  RHS range        [5e-02, 1e+00]\n",
      "Presolve removed 2700 rows and 30 columns\n",
      "\n",
      "Continuous model is non-convex -- solving as a MIP.\n",
      "\n",
      "Presolve removed 2700 rows and 180 columns\n",
      "Presolve time: 0.00s\n",
      "Presolved: 180 rows, 530 columns, 970 nonzeros\n",
      "Variable types: 500 continuous, 30 integer (30 binary)\n",
      "\n",
      "Root relaxation: objective 1.246047e+01, 284 iterations, 0.00 seconds\n",
      "\n",
      "    Nodes    |    Current Node    |     Objective Bounds      |     Work\n",
      " Expl Unexpl |  Obj  Depth IntInf | Incumbent    BestBd   Gap | It/Node Time\n",
      "\n",
      "     0     0   12.46047    0   11          -   12.46047      -     -    0s\n",
      "H    0     0                      10.5585946   12.46047  18.0%     -    0s\n",
      "H    0     0                      11.6520061   12.46047  6.94%     -    0s\n",
      "     0     0   12.10669    0   10   11.65201   12.10669  3.90%     -    0s\n",
      "     0     0   12.10247    0    9   11.65201   12.10247  3.87%     -    0s\n",
      "     0     0   11.97763    0   13   11.65201   11.97763  2.79%     -    0s\n",
      "     0     0   11.97763    0   13   11.65201   11.97763  2.79%     -    0s\n",
      "H    0     0                      11.6718363   11.97763  2.62%     -    0s\n",
      "     0     2   11.97763    0   13   11.67184   11.97763  2.62%     -    0s\n",
      "H   23    15                      11.7417347   11.83088  0.76%  17.7    0s\n",
      "\n",
      "Cutting planes:\n",
      "  Gomory: 5\n",
      "  MIR: 53\n",
      "  RLT: 2\n",
      "\n",
      "Explored 47 nodes (1049 simplex iterations) in 0.08 seconds\n",
      "Thread count was 12 (of 12 available processors)\n",
      "\n",
      "Solution count 3: 11.7417 11.652 10.5586 \n",
      "\n",
      "Optimal solution found (tolerance 1.00e-04)\n",
      "Best objective 1.174173473674e+01, best bound 1.174173473674e+01, gap 0.0000%\n",
      "\n",
      "User-callback calls 221, time in user-callback 0.00 sec\n",
      "U_OA from solve 11.74173473673961\n",
      "Academic license - for non-commercial use only - expires 2022-07-20\n",
      "Lower: 11.741734736739598 Upper: 11.74173473673961\n",
      "Gurobi Optimizer version 9.1.1 build v9.1.1rc0 (mac64)\n",
      "Thread count: 6 physical cores, 12 logical processors, using up to 12 threads\n",
      "Optimize a model with 2850 rows, 680 columns and 4780 nonzeros\n",
      "Model fingerprint: 0x505479be\n",
      "Model has 30 quadratic objective terms\n",
      "Variable types: 680 continuous, 0 integer (0 binary)\n",
      "Coefficient statistics:\n",
      "  Matrix range     [7e-04, 1e+00]\n",
      "  Objective range  [5e-02, 1e+00]\n",
      "  QObjective range [4e+00, 4e+00]\n",
      "  Bounds range     [0e+00, 0e+00]\n",
      "  RHS range        [5e-02, 1e+00]\n",
      "Presolved: 180 rows, 530 columns, 970 nonzeros\n",
      "\n",
      "Continuing optimization...\n",
      "\n",
      "\n",
      "Cutting planes:\n",
      "  Gomory: 5\n",
      "  MIR: 53\n",
      "  RLT: 2\n",
      "\n",
      "Explored 47 nodes (1049 simplex iterations) in 0.00 seconds\n",
      "Thread count was 12 (of 12 available processors)\n",
      "\n",
      "Solution count 3: 11.7417 11.652 10.5586 \n",
      "\n",
      "Optimal solution found (tolerance 1.00e-04)\n",
      "Best objective 1.174173473674e+01, best bound 1.174173473674e+01, gap 0.0000%\n",
      "\n",
      "User-callback calls 252, time in user-callback 0.00 sec\n",
      "U_OA from solve 11.74173473673961\n",
      "Academic license - for non-commercial use only - expires 2022-07-20\n",
      "Lower: 11.741734736739598 Upper: 11.74173473673961\n",
      "Gurobi Optimizer version 9.1.1 build v9.1.1rc0 (mac64)\n",
      "Thread count: 6 physical cores, 12 logical processors, using up to 12 threads\n",
      "Optimize a model with 2850 rows, 680 columns and 4780 nonzeros\n",
      "Model fingerprint: 0x505479be\n",
      "Model has 30 quadratic objective terms\n",
      "Variable types: 680 continuous, 0 integer (0 binary)\n",
      "Coefficient statistics:\n",
      "  Matrix range     [7e-04, 1e+00]\n",
      "  Objective range  [5e-02, 1e+00]\n",
      "  QObjective range [4e+00, 4e+00]\n",
      "  Bounds range     [0e+00, 0e+00]\n",
      "  RHS range        [5e-02, 1e+00]\n",
      "Presolved: 180 rows, 530 columns, 970 nonzeros\n",
      "\n",
      "Continuing optimization...\n",
      "\n",
      "\n",
      "Cutting planes:\n",
      "  Gomory: 5\n",
      "  MIR: 53\n",
      "  RLT: 2\n",
      "\n",
      "Explored 47 nodes (1049 simplex iterations) in 0.00 seconds\n",
      "Thread count was 12 (of 12 available processors)\n",
      "\n",
      "Solution count 3: 11.7417 11.652 10.5586 \n",
      "\n",
      "Optimal solution found (tolerance 1.00e-04)\n",
      "Best objective 1.174173473674e+01, best bound 1.174173473674e+01, gap 0.0000%\n",
      "\n",
      "User-callback calls 283, time in user-callback 0.00 sec\n",
      "U_OA from solve 11.74173473673961\n",
      "Academic license - for non-commercial use only - expires 2022-07-20\n",
      "Lower: 11.741734736739598 Upper: 11.74173473673961\n",
      "Gurobi Optimizer version 9.1.1 build v9.1.1rc0 (mac64)\n",
      "Thread count: 6 physical cores, 12 logical processors, using up to 12 threads\n",
      "Optimize a model with 2850 rows, 680 columns and 4780 nonzeros\n",
      "Model fingerprint: 0x505479be\n",
      "Model has 30 quadratic objective terms\n",
      "Variable types: 680 continuous, 0 integer (0 binary)\n",
      "Coefficient statistics:\n",
      "  Matrix range     [7e-04, 1e+00]\n",
      "  Objective range  [5e-02, 1e+00]\n",
      "  QObjective range [4e+00, 4e+00]\n",
      "  Bounds range     [0e+00, 0e+00]\n",
      "  RHS range        [5e-02, 1e+00]\n",
      "Presolved: 180 rows, 530 columns, 970 nonzeros\n",
      "\n",
      "Continuing optimization...\n",
      "\n",
      "\n",
      "Cutting planes:\n",
      "  Gomory: 5\n",
      "  MIR: 53\n",
      "  RLT: 2\n",
      "\n",
      "Explored 47 nodes (1049 simplex iterations) in 0.00 seconds\n",
      "Thread count was 12 (of 12 available processors)\n",
      "\n",
      "Solution count 3: 11.7417 11.652 10.5586 \n",
      "\n",
      "Optimal solution found (tolerance 1.00e-04)\n",
      "Best objective 1.174173473674e+01, best bound 1.174173473674e+01, gap 0.0000%\n",
      "\n",
      "User-callback calls 314, time in user-callback 0.00 sec\n",
      "U_OA from solve 11.74173473673961\n",
      "Academic license - for non-commercial use only - expires 2022-07-20\n",
      "Lower: 11.741734736739598 Upper: 11.74173473673961\n",
      "Gurobi Optimizer version 9.1.1 build v9.1.1rc0 (mac64)\n",
      "Thread count: 6 physical cores, 12 logical processors, using up to 12 threads\n",
      "Optimize a model with 2850 rows, 680 columns and 4780 nonzeros\n",
      "Model fingerprint: 0x505479be\n",
      "Model has 30 quadratic objective terms\n",
      "Variable types: 680 continuous, 0 integer (0 binary)\n",
      "Coefficient statistics:\n",
      "  Matrix range     [7e-04, 1e+00]\n",
      "  Objective range  [5e-02, 1e+00]\n",
      "  QObjective range [4e+00, 4e+00]\n",
      "  Bounds range     [0e+00, 0e+00]\n",
      "  RHS range        [5e-02, 1e+00]\n",
      "Presolved: 180 rows, 530 columns, 970 nonzeros\n",
      "\n",
      "Continuing optimization...\n",
      "\n",
      "\n",
      "Cutting planes:\n",
      "  Gomory: 5\n",
      "  MIR: 53\n",
      "  RLT: 2\n",
      "\n",
      "Explored 47 nodes (1049 simplex iterations) in 0.00 seconds\n",
      "Thread count was 12 (of 12 available processors)\n",
      "\n",
      "Solution count 3: 11.7417 11.652 10.5586 \n",
      "\n",
      "Optimal solution found (tolerance 1.00e-04)\n",
      "Best objective 1.174173473674e+01, best bound 1.174173473674e+01, gap 0.0000%\n",
      "\n",
      "User-callback calls 345, time in user-callback 0.00 sec\n",
      "U_OA from solve 11.74173473673961\n",
      "Academic license - for non-commercial use only - expires 2022-07-20\n"
     ]
    }
   ],
   "source": [
    "if true   \n",
    "    T, p = size(X)\n",
    "    Z = get_Z(X)\n",
    "    max_cuts = 5\n",
    "    cuts = 0\n",
    "    L_OA = -10000\n",
    "    U_OA = 10000\n",
    "    \n",
    "    # Create model\n",
    "    model = Model(() -> Gurobi.Optimizer(GRB_ENV))#Model(with_optimizer(Gurobi.Optimizer))\n",
    "    #set_optimizer_attribute(model, \"OutputFlag\", 0)\n",
    "    set_optimizer_attribute(model, \"NonConvex\", 2)\n",
    "    \n",
    "    # Add variables\n",
    "    @variable(model, λ[i=1:2, j=1:T] >= 0) \n",
    "    @variable(model, ν[i=1:2, j=1:T-1, k=1:p]>=0) \n",
    "    @variable(model, μ[i=1:2, j=1:T, k=1:p]>=0)\n",
    "    \n",
    "    @variable(model, y[j=1:T])\n",
    "\n",
    "    \n",
    "    @constraint(model,[t=1:T], λ[1,:] .+ λ[2,:] .== 1)\n",
    "        \n",
    "        \n",
    "    @constraint(model, transpose(λ[2,:])*Z-transpose(λ[1,:])*Z \n",
    "                        + sum(transpose(ν[1,t,:])*(get_A(X, t+1).-get_A(X, t)) for t=1:T-1)\n",
    "                        + sum(transpose(ν[2,t,:])*(-get_A(X, t+1).+get_A(X, t)) for t=1:T-1)\n",
    "                        + sum(transpose(μ[1,t,:])*get_A(X,t) for t=1:T)\n",
    "                        - sum(transpose(μ[2,t,:])*get_A(X,t) for t=1:T) .== 0)\n",
    "\n",
    "    #y in uncertainty set\n",
    "    @constraint(model, [1:T], D_min .<= y)\n",
    "    @constraint(model, [1:T], y .<= D_max)\n",
    "    \n",
    "    y_val0 = D_max #(D_min .+ D_max)./2\n",
    "    L_OA, λ_val0, ν_val0, μ_val0 = S_dual(X, y_val0, β0, epsilon, delta)\n",
    "    \n",
    "    # Add objective\n",
    "    @objective(model, Max, 2*transpose(λ[1,:])*y - sum(y)\n",
    "                            - delta * sum(sum(ν[1,t,i]+ν[2,t,i] for i=1:p) for t=1:T-1)\n",
    "                            - sum(dot(epsilon .+ β0, μ[1,t,:]) for t = 1:T)\n",
    "                            + sum(dot(epsilon .- β0, μ[2,t,:]) for t = 1:T))\n",
    "    \n",
    "    ###\n",
    "    # Step 3: Define the outer approximation function\n",
    "    ###\n",
    "    #m2 = copy(model)\n",
    "    #optimize!(model)\n",
    "    while cuts < max_cuts\n",
    "        println(\"Lower: \", L_OA, \" Upper: \", U_OA)\n",
    "        cuts += 1\n",
    "        \n",
    "        y_val, U_OA = solve_model(model)\n",
    "\n",
    "        L_OA, λ_val, ν_val, μ_val = S_dual(X, y_val, β0, epsilon, delta)\n",
    "    end    \n",
    "end"
   ]
  },
  {
   "cell_type": "code",
   "execution_count": 271,
   "id": "mighty-bankruptcy",
   "metadata": {},
   "outputs": [
    {
     "name": "stdout",
     "output_type": "stream",
     "text": [
      "Academic license - for non-commercial use only - expires 2022-07-20\n",
      "Gurobi Optimizer version 9.1.1 build v9.1.1rc0 (mac64)\n",
      "Thread count: 6 physical cores, 12 logical processors, using up to 12 threads\n",
      "Optimize a model with 2852 rows, 682 columns and 4883 nonzeros\n",
      "Model fingerprint: 0x6bebc612\n",
      "Coefficient statistics:\n",
      "  Matrix range     [7e-04, 1e+00]\n",
      "  Objective range  [5e-02, 1e+00]\n",
      "  Bounds range     [0e+00, 0e+00]\n",
      "  RHS range        [5e-02, 2e+01]\n",
      "Presolve removed 2702 rows and 64 columns\n",
      "Presolve time: 0.00s\n",
      "Presolved: 150 rows, 618 columns, 1020 nonzeros\n",
      "\n",
      "Iteration    Objective       Primal Inf.    Dual Inf.      Time\n",
      "       0    2.8856406e+01   7.312947e+01   0.000000e+00      0s\n",
      "     298    1.0856114e+01   0.000000e+00   0.000000e+00      0s\n",
      "\n",
      "Solved in 298 iterations and 0.01 seconds\n",
      "Optimal objective  1.085611376e+01\n",
      "\n",
      "User-callback calls 335, time in user-callback 0.00 sec\n",
      "10000\n",
      "4.960473282817949\n"
     ]
    },
    {
     "data": {
      "text/plain": [
       "30-element Array{Float64,1}:\n",
       " 0.5191025477750704\n",
       " 1.0050811033004208\n",
       " 1.2099690485313632\n",
       " 0.36189749029161034\n",
       " 0.49893452500354263\n",
       " 1.434251960631498\n",
       " 1.3668963479536342\n",
       " 1.2192586265507033\n",
       " 0.22981764003633476\n",
       " 1.3456953427792637\n",
       " 1.1108493801344979\n",
       " 0.33660946997334595\n",
       " 0.05328918028719687\n",
       " ⋮\n",
       " 0.16907880592122382\n",
       " 0.1746445234450209\n",
       " 0.7694805310968174\n",
       " 0.8904179931067624\n",
       " 1.1270924027059324\n",
       " 1.3122967540717276\n",
       " 1.489353226313489\n",
       " 0.431520488325551\n",
       " 0.19245588276446846\n",
       " 1.41857722740096\n",
       " 0.6543399906901304\n",
       " 0.1498326677365096"
      ]
     },
     "execution_count": 271,
     "metadata": {},
     "output_type": "execute_result"
    }
   ],
   "source": [
    "n = 30\n",
    "p = 5\n",
    "X = Random.rand(n,p)\n",
    "#X[:,-1] = np.ones(n)\n",
    "y = Random.rand(n)\n",
    "epsilon = 0.05\n",
    "delta = 0.05\n",
    "\n",
    "D_min = Random.rand(n)\n",
    "D_max = D_min .+ 0.5 \n",
    "threshold = 0.5\n",
    "β0 = Random.rand(p)\n",
    "model, y, L_OA, U_OA, α, γ = U(X, D_min, D_max, β0, epsilon, delta, threshold)\n",
    "println(U_OA)\n",
    "println(L_OA)\n",
    "y"
   ]
  },
  {
   "cell_type": "code",
   "execution_count": 173,
   "id": "professional-council",
   "metadata": {},
   "outputs": [
    {
     "data": {
      "text/plain": [
       "-2.1744458297540286"
      ]
     },
     "execution_count": 173,
     "metadata": {},
     "output_type": "execute_result"
    }
   ],
   "source": [
    "sub_OA = U_OA - getvalue.(α)"
   ]
  },
  {
   "cell_type": "code",
   "execution_count": 174,
   "id": "chicken-nicholas",
   "metadata": {},
   "outputs": [
    {
     "data": {
      "text/plain": [
       "-1.7376516923119785"
      ]
     },
     "execution_count": 174,
     "metadata": {},
     "output_type": "execute_result"
    }
   ],
   "source": [
    "sub_LA = L_OA - dot(λ_val[1,:],y_val) + dot(λ_val[2,:],y_val) "
   ]
  },
  {
   "cell_type": "code",
   "execution_count": null,
   "id": "fifty-reference",
   "metadata": {},
   "outputs": [],
   "source": [
    "2*α - sum(y[t] for t=1:T)\n",
    "                            - delta * sum(sum(ν[1,t,i]+ν[2,t,i] for i=1:p) for t=1:T-1)\n",
    "                            - sum(dot(epsilon .+ β0, μ[1,t,:]) for t = 1:T)\n",
    "                            + sum(dot(epsilon .- β0, μ[2,t,:]) for t = 1:T)"
   ]
  },
  {
   "cell_type": "code",
   "execution_count": 176,
   "id": "palestinian-hungarian",
   "metadata": {},
   "outputs": [
    {
     "data": {
      "text/plain": [
       "4.763530849986924"
      ]
     },
     "execution_count": 176,
     "metadata": {},
     "output_type": "execute_result"
    }
   ],
   "source": [
    "dot(λ_val[1,:],y_val) - dot(λ_val[2,:],y_val)"
   ]
  },
  {
   "cell_type": "code",
   "execution_count": 175,
   "id": "foreign-duplicate",
   "metadata": {},
   "outputs": [
    {
     "data": {
      "text/plain": [
       "4.622827386255075"
      ]
     },
     "execution_count": 175,
     "metadata": {},
     "output_type": "execute_result"
    }
   ],
   "source": [
    "2*getvalue.(α)-sum(getvalue.(y))"
   ]
  },
  {
   "cell_type": "code",
   "execution_count": 185,
   "id": "canadian-celebration",
   "metadata": {},
   "outputs": [
    {
     "data": {
      "text/plain": [
       "2×8 Array{Float64,2}:\n",
       " 0.237489  1.0  1.0  1.0  1.0  1.0  0.0  0.5\n",
       " 0.762511  0.0  0.0  0.0  0.0  0.0  1.0  0.5"
      ]
     },
     "execution_count": 185,
     "metadata": {},
     "output_type": "execute_result"
    }
   ],
   "source": [
    "λ_val = getvalue.(λ)"
   ]
  },
  {
   "cell_type": "code",
   "execution_count": 240,
   "id": "thousand-ordinance",
   "metadata": {},
   "outputs": [
    {
     "data": {
      "text/plain": [
       "10-element Array{Float64,1}:\n",
       " 1.246619713529564\n",
       " 0.2357621500647733\n",
       " 0.8031199904871795\n",
       " 0.8234069949557103\n",
       " 0.6149510694043452\n",
       " 0.02696144751072249\n",
       " 0.01934453317589746\n",
       " 0.6189572592935506\n",
       " 1.4168534654101108\n",
       " 0.027498555784792655"
      ]
     },
     "execution_count": 240,
     "metadata": {},
     "output_type": "execute_result"
    }
   ],
   "source": [
    "y_val = getvalue.(y)"
   ]
  },
  {
   "cell_type": "code",
   "execution_count": null,
   "id": "junior-crash",
   "metadata": {},
   "outputs": [],
   "source": [
    "dot(λ_val[1,:],y_val) \n",
    "                                + dot(λ[1,:].-λ_val[1,:], y_val) \n",
    "                                + dot(y.-y_val,λ_val[1,:])"
   ]
  },
  {
   "cell_type": "code",
   "execution_count": 234,
   "id": "handy-multiple",
   "metadata": {},
   "outputs": [
    {
     "data": {
      "text/plain": [
       "5.322916405478342"
      ]
     },
     "execution_count": 234,
     "metadata": {},
     "output_type": "execute_result"
    }
   ],
   "source": [
    "dot(λ_val0[1,:],y_val0) + dot(λ_valu[1,:].-λ_val0[1,:], y_val0) + dot(y_val.-y_val0,λ_val0[1,:])"
   ]
  },
  {
   "cell_type": "code",
   "execution_count": 235,
   "id": "emerging-colleague",
   "metadata": {},
   "outputs": [
    {
     "data": {
      "text/plain": [
       "5.322916405478343"
      ]
     },
     "execution_count": 235,
     "metadata": {},
     "output_type": "execute_result"
    }
   ],
   "source": [
    "dot(λ_valu[1,:],y_val) #+ dot(λ_valu[1,:].-λ_val0[1,:], y_val0) + dot(y_val.-y_val0,λ_val0[1,:])"
   ]
  },
  {
   "cell_type": "code",
   "execution_count": 243,
   "id": "reliable-religious",
   "metadata": {},
   "outputs": [
    {
     "data": {
      "text/plain": [
       "5.555131855391839"
      ]
     },
     "execution_count": 243,
     "metadata": {},
     "output_type": "execute_result"
    }
   ],
   "source": [
    "#First term S\n",
    "s1 = dot(λ_val[1,:],y_val)\n",
    "s1"
   ]
  },
  {
   "cell_type": "code",
   "execution_count": 244,
   "id": "productive-cheat",
   "metadata": {},
   "outputs": [
    {
     "data": {
      "text/plain": [
       "0.2783433242248072"
      ]
     },
     "execution_count": 244,
     "metadata": {},
     "output_type": "execute_result"
    }
   ],
   "source": [
    "#Second term S\n",
    "s2 = dot(λ_val[2,:],y_val)\n",
    "s2"
   ]
  },
  {
   "cell_type": "code",
   "execution_count": 242,
   "id": "cubic-deficit",
   "metadata": {},
   "outputs": [
    {
     "name": "stdout",
     "output_type": "stream",
     "text": [
      "Academic license - for non-commercial use only - expires 2022-07-20\n",
      "4.1280649993127065"
     ]
    }
   ],
   "source": [
    "#Total S\n",
    "L_OA, λ_val, ν_val, μ_val = S_dual(X, y_val, β0, epsilon, delta);\n",
    "print(L_OA)"
   ]
  },
  {
   "cell_type": "code",
   "execution_count": 245,
   "id": "cloudy-insight",
   "metadata": {},
   "outputs": [
    {
     "data": {
      "text/plain": [
       "-1.148723531854324"
      ]
     },
     "execution_count": 245,
     "metadata": {},
     "output_type": "execute_result"
    }
   ],
   "source": [
    "#Second part S\n",
    "s3 = - delta * sum(sum(ν_val[1,t,i]+ν_val[2,t,i] for i=1:p) for t=1:T-1) - sum(dot(epsilon .+ β0, μ_val[1,t,:]) for t = 1:T)+ sum(dot(epsilon .- β0, μ_val[2,t,:]) for t = 1:T)\n",
    "s3"
   ]
  },
  {
   "cell_type": "code",
   "execution_count": 246,
   "id": "speaking-shoot",
   "metadata": {},
   "outputs": [
    {
     "data": {
      "text/plain": [
       "4.128064999312707"
      ]
     },
     "execution_count": 246,
     "metadata": {},
     "output_type": "execute_result"
    }
   ],
   "source": [
    "s1-s2+s3"
   ]
  },
  {
   "cell_type": "code",
   "execution_count": 247,
   "id": "burning-texas",
   "metadata": {},
   "outputs": [
    {
     "data": {
      "text/plain": [
       "5.347249631285829"
      ]
     },
     "execution_count": 247,
     "metadata": {},
     "output_type": "execute_result"
    }
   ],
   "source": [
    "getvalue.(α)"
   ]
  },
  {
   "cell_type": "code",
   "execution_count": 251,
   "id": "surgical-company",
   "metadata": {},
   "outputs": [
    {
     "data": {
      "text/plain": [
       "4.86102408295501"
      ]
     },
     "execution_count": 251,
     "metadata": {},
     "output_type": "execute_result"
    }
   ],
   "source": [
    "#First term U\n",
    "u1 = 2*getvalue.(α) - sum(y_val);\n",
    "u1"
   ]
  },
  {
   "cell_type": "code",
   "execution_count": 249,
   "id": "suspected-gallery",
   "metadata": {},
   "outputs": [
    {
     "data": {
      "text/plain": [
       "5.276788531167032"
      ]
     },
     "execution_count": 249,
     "metadata": {},
     "output_type": "execute_result"
    }
   ],
   "source": [
    "s1-s2"
   ]
  },
  {
   "cell_type": "code",
   "execution_count": 252,
   "id": "brilliant-recommendation",
   "metadata": {},
   "outputs": [
    {
     "data": {
      "text/plain": [
       "-0.947176766955676"
      ]
     },
     "execution_count": 252,
     "metadata": {},
     "output_type": "execute_result"
    }
   ],
   "source": [
    "#Second term U\n",
    "λ_valu, ν_valu, μ_valu = getvalue.(λ), getvalue.(ν),getvalue.(μ)\n",
    "u3 = - delta * sum(sum(ν_valu[1,t,i]+ν_valu[2,t,i] for i=1:p) for t=1:T-1) - sum(dot(epsilon .+ β0, μ_valu[1,t,:]) for t = 1:T)+ sum(dot(epsilon .- β0, μ_valu[2,t,:]) for t = 1:T)\n",
    "u3"
   ]
  },
  {
   "cell_type": "markdown",
   "id": "visible-battle",
   "metadata": {},
   "source": [
    "# Work in progress"
   ]
  },
  {
   "cell_type": "code",
   "execution_count": 5,
   "id": "945cc1b5",
   "metadata": {},
   "outputs": [
    {
     "data": {
      "text/plain": [
       "U (generic function with 1 method)"
      ]
     },
     "execution_count": 5,
     "metadata": {},
     "output_type": "execute_result"
    }
   ],
   "source": [
    "function U(X, D_min, D_max, β0, epsilon, delta, threshold)\n",
    "    \n",
    "    T, p = size(X)\n",
    "    Z = get_Z(X)\n",
    "    \n",
    "    L_OA = -10000\n",
    "    U_OA = 10000\n",
    "    \n",
    "    # Create model\n",
    "    model = Model(() -> Gurobi.Optimizer(GRB_ENV))#Model(with_optimizer(Gurobi.Optimizer))\n",
    "    #set_optimizer_attribute(model, \"OutputFlag\", 0)\n",
    "    \n",
    "    # Add variables\n",
    "    @variable(model, λ[i=1:2, j=1:T] >= 0) \n",
    "    @variable(model, ν[i=1:2, j=1:T-1, k=1:p]>=0) \n",
    "    @variable(model, μ[i=1:2, j=1:T, k=1:p]>=0)\n",
    "    \n",
    "    @variable(model, α) \n",
    "    @variable(model, γ)\n",
    "    @variable(model, y[j=1:T])\n",
    "\n",
    "    \n",
    "    @constraint(model,[t=1:T], λ[1,:] .+ λ[2,:] .== 1)\n",
    "        \n",
    "        \n",
    "    @constraint(model, transpose(λ[2,:])*Z-transpose(λ[1,:])*Z \n",
    "                        + sum(transpose(ν[1,t,:])*(get_A(X, t+1).-get_A(X, t)) for t=1:T-1)\n",
    "                        + sum(transpose(ν[2,t,:])*(-get_A(X, t+1).+get_A(X, t)) for t=1:T-1)\n",
    "                        + sum(transpose(μ[1,t,:])*get_A(X,t) for t=1:T)\n",
    "                        - sum(transpose(μ[2,t,:])*get_A(X,t) for t=1:T) .== 0)\n",
    "    \n",
    "    #y in uncertainty set\n",
    "    @constraint(model, [1:T], D_min .<= y)\n",
    "    @constraint(model, [1:T], y .<= D_max)\n",
    "    \n",
    "    y_val0 = (D_min .+ D_max)./2\n",
    "    L_OA, λ_val0, _, _ = S_dual(X, y_val0, β0, epsilon, delta)\n",
    "    @constraint(model, α <= dot(λ_val0[1,:],y_val0) \n",
    "                            + dot(λ[1,:].-λ_val0[1,:], y_val0) \n",
    "                            + dot(y.-y_val0,λ_val0[1,:]))\n",
    "    \n",
    "    @constraint(model, γ >= dot(λ_val0[2,:],y_val0) \n",
    "                            + dot(λ[2,:].-λ_val0[2,:], y_val0) \n",
    "                            + dot(y.-y_val0,λ_val0[2,:]))\n",
    "    \n",
    "    # Add objective\n",
    "    @objective(model, Max, α - γ\n",
    "                            - delta * sum(sum(ν[1,t,i]+ν[2,t,i] for i=1:p) for t=1:T-1)\n",
    "                            - sum(dot(epsilon .+ β0, μ[1,t,:]) for t = 1:T)\n",
    "                            + sum(dot(epsilon .- β0, μ[2,t,:]) for t = 1:T))\n",
    "    \n",
    "    ###\n",
    "    # Step 3: Define the outer approximation function\n",
    "    ###\n",
    "    \n",
    "    function outer_approximation(cb_data)\n",
    "        print(\"Callback\")\n",
    "        #U_OA = objective_value(model)\n",
    "        y_val = []\n",
    "        for t = 1:T\n",
    "            y_val = [y_val;callback_value(cb_data, y[t])]\n",
    "        end\n",
    "        #new lowerbound\n",
    "        L_OA, λ_val, ν_val, μ_val = S_dual(X, y_val, β0, epsilon, delta)\n",
    "        α_val, γ_val = callback_value(cb_data, α), callback_value(cb_data, γ)\n",
    "        U_OA = α_val - γ_val - delta * sum(sum(ν_val[1,t,i]+ν_val[2,t,i] for i=1:p) for t=1:T-1)\n",
    "                            - sum(dot(epsilon .+ β0, μ_val[1,t,:]) for t = 1:T)\n",
    "                            + sum(dot(epsilon .- β0, μ_val[2,t,:]) for t = 1:T)\n",
    "#         λ1_val = []\n",
    "#         λ2_val = []\n",
    "        \n",
    "#         for t = 1:T\n",
    "#             λ1_val = [λ1_val;callback_value(cb_data, λ[1,t])]\n",
    "#             λ2_val = [λ2_val;callback_value(cb_data, λ[2,t])]\n",
    "#         end\n",
    "        \n",
    "#         #linearization of the bilinear term\n",
    "#         con1 = @build_constraint(α <= dot(λ1_val,y_val) \n",
    "#                                 + dot(λ[1,:].-λ1_val, y_val) \n",
    "#                                 + dot(y.-y_val,λ1_val))\n",
    "#         con2 = @build_constraint(γ <= dot(λ2_val,y_val) \n",
    "#                             + dot(λ[2,:].-λ2_val, y_val) \n",
    "#                             + dot(y.-y_val,λ2_val))\n",
    "        #linearization of the bilinear term\n",
    "        con1 = @build_constraint(α <= dot(λ_val[1,:],y_val) \n",
    "                                + dot(λ[1,:].-λ_val[1,:], y_val) \n",
    "                                + dot(y.-y_val,λ_val[1,:]))\n",
    "        con2 = @build_constraint(γ >= dot(λ_val[2,:],y_val) \n",
    "                            + dot(λ[2,:].-λ_val[2,:], y_val) \n",
    "                            + dot(y.-y_val,λ_val[2,:]))\n",
    "        if U_OA - L_OA > threshold\n",
    "            MOI.submit(model, MOI.LazyConstraint(cb_data), con1)\n",
    "            MOI.submit(model, MOI.LazyConstraint(cb_data), con2)\n",
    "            print(\"Cut added\")\n",
    "        end\n",
    "    end\n",
    "    #MOI.set(model, MOI.RawParameter(\"LazyConstraints\"), 1)\n",
    "    #MOI.set(model, MOI.LazyConstraintCallback(), outer_approximation)\n",
    "    MOI.set(model, MOI.UserCutCallback(), outer_approximation)\n",
    "    \n",
    "    optimize!(model)\n",
    "    \n",
    "    return model, getvalue.(y), L_OA, U_OA, getvalue.(α), getvalue.(γ)#get_objective_value(model)\n",
    "end"
   ]
  },
  {
   "cell_type": "code",
   "execution_count": 455,
   "id": "ea5c8c47",
   "metadata": {},
   "outputs": [
    {
     "name": "stdout",
     "output_type": "stream",
     "text": [
      "Academic license - for non-commercial use only - expires 2022-07-20\n",
      "Gurobi Optimizer version 9.1.1 build v9.1.1rc0 (mac64)\n",
      "Thread count: 6 physical cores, 12 logical processors, using up to 12 threads\n",
      "Optimize a model with 332 rows, 146 columns and 663 nonzeros\n",
      "Model fingerprint: 0xe232e15b\n",
      "Coefficient statistics:\n",
      "  Matrix range     [1e-02, 1e+00]\n",
      "  Objective range  [1e-01, 1e+00]\n",
      "  Bounds range     [0e+00, 0e+00]\n",
      "  RHS range        [1e-01, 6e+00]\n",
      "Presolve removed 300 rows and 10 columns\n",
      "Presolve time: 0.00s\n",
      "Presolved: 32 rows, 136 columns, 233 nonzeros\n",
      "\n",
      "Iteration    Objective       Primal Inf.    Dual Inf.      Time\n",
      "       0      handle free variables                          0s\n",
      "      53    4.3074467e+00   0.000000e+00   0.000000e+00      0s\n",
      "\n",
      "Solved in 53 iterations and 0.00 seconds\n",
      "Optimal objective  4.307446677e+00\n",
      "\n",
      "User-callback calls 90, time in user-callback 0.00 sec\n"
     ]
    }
   ],
   "source": [
    "if true   \n",
    "    T, p = size(X)\n",
    "    Z = get_Z(X)\n",
    "    \n",
    "    L_OA = -10000\n",
    "    U_OA = 10000\n",
    "    \n",
    "    # Create model\n",
    "    model = Model(() -> Gurobi.Optimizer(GRB_ENV))#Model(with_optimizer(Gurobi.Optimizer))\n",
    "    #set_optimizer_attribute(model, \"OutputFlag\", 0)\n",
    "    \n",
    "    # Add variables\n",
    "    @variable(model, λ[i=1:2, j=1:T] >= 0) \n",
    "    @variable(model, ν[i=1:2, j=1:T-1, k=1:p]>=0) \n",
    "    @variable(model, μ[i=1:2, j=1:T, k=1:p]>=0)\n",
    "    \n",
    "    @variable(model, α) \n",
    "    @variable(model, γ)\n",
    "    @variable(model, y[j=1:T])\n",
    "\n",
    "    \n",
    "    @constraint(model,[t=1:T], λ[1,:] .+ λ[2,:] .== 1)\n",
    "        \n",
    "        \n",
    "    @constraint(model, transpose(λ[2,:])*Z-transpose(λ[1,:])*Z \n",
    "                        + sum(transpose(ν[1,t,:])*(get_A(X, t+1).-get_A(X, t)) for t=1:T-1)\n",
    "                        + sum(transpose(ν[2,t,:])*(-get_A(X, t+1).+get_A(X, t)) for t=1:T-1)\n",
    "                        + sum(transpose(μ[1,t,:])*get_A(X,t) for t=1:T)\n",
    "                        - sum(transpose(μ[2,t,:])*get_A(X,t) for t=1:T) .== 0)\n",
    "    \n",
    "    #y in uncertainty set\n",
    "    @constraint(model, [1:T], D_min .<= y)\n",
    "    @constraint(model, [1:T], y .<= D_max)\n",
    "    \n",
    "    y_val0 = (D_min .+ D_max)./2\n",
    "    L_OA, λ_val0, _, _ = S_dual(X, y_val0, β0, epsilon, delta)\n",
    "    @constraint(model, α <= dot(λ_val0[1,:],y_val0) \n",
    "                            + dot(λ[1,:].-λ_val0[1,:], y_val0) \n",
    "                            + dot(y.-y_val0,λ_val0[1,:]))\n",
    "    \n",
    "    @constraint(model, γ >= dot(λ_val0[2,:],y_val0) \n",
    "                            + dot(λ[2,:].-λ_val0[2,:], y_val0) \n",
    "                            + dot(y.-y_val0,λ_val0[2,:]))\n",
    "    \n",
    "    # Add objective\n",
    "    @objective(model, Max, α - γ\n",
    "                            - delta * sum(sum(ν[1,t,i]+ν[2,t,i] for i=1:p) for t=1:T-1)\n",
    "                            - sum(dot(epsilon .+ β0, μ[1,t,:]) for t = 1:T)\n",
    "                            + sum(dot(epsilon .- β0, μ[2,t,:]) for t = 1:T))\n",
    "    \n",
    "    ###\n",
    "    # Step 3: Define the outer approximation function\n",
    "    ###\n",
    "    \n",
    "    function outer_approximation(cb_data)\n",
    "        print(\"Callback\")\n",
    "        #U_OA = objective_value(model)\n",
    "        y_val = []\n",
    "        for t = 1:T\n",
    "            y_val = [y_val;callback_value(cb_data, y[t])]\n",
    "        end\n",
    "        #new lowerbound\n",
    "        L_OA, λ_val, ν_val, μ_val = S_dual(X, y_val, β0, epsilon, delta)\n",
    "        α_val, γ_val = callback_value(cb_data, α), callback_value(cb_data, γ)\n",
    "        U_OA = α_val - γ_val - delta * sum(sum(ν_val[1,t,i]+ν_val[2,t,i] for i=1:p) for t=1:T-1)\n",
    "                            - sum(dot(epsilon .+ β0, μ_val[1,t,:]) for t = 1:T)\n",
    "                            + sum(dot(epsilon .- β0, μ_val[2,t,:]) for t = 1:T)\n",
    "#         λ1_val = []\n",
    "#         λ2_val = []\n",
    "        \n",
    "#         for t = 1:T\n",
    "#             λ1_val = [λ1_val;callback_value(cb_data, λ[1,t])]\n",
    "#             λ2_val = [λ2_val;callback_value(cb_data, λ[2,t])]\n",
    "#         end\n",
    "        \n",
    "#         #linearization of the bilinear term\n",
    "#         con1 = @build_constraint(α <= dot(λ1_val,y_val) \n",
    "#                                 + dot(λ[1,:].-λ1_val, y_val) \n",
    "#                                 + dot(y.-y_val,λ1_val))\n",
    "#         con2 = @build_constraint(γ <= dot(λ2_val,y_val) \n",
    "#                             + dot(λ[2,:].-λ2_val, y_val) \n",
    "#                             + dot(y.-y_val,λ2_val))\n",
    "        #linearization of the bilinear term\n",
    "        con1 = @build_constraint(α <= dot(λ_val[1,:],y_val) \n",
    "                                + dot(λ[1,:].-λ_val[1,:], y_val) \n",
    "                                + dot(y.-y_val,λ_val[1,:]))\n",
    "        con2 = @build_constraint(γ >= dot(λ_val[2,:],y_val) \n",
    "                            + dot(λ[2,:].-λ_val[2,:], y_val) \n",
    "                            + dot(y.-y_val,λ_val[2,:]))\n",
    "        if U_OA - L_OA > threshold\n",
    "            MOI.submit(model, MOI.LazyConstraint(cb_data), con1)\n",
    "            MOI.submit(model, MOI.LazyConstraint(cb_data), con2)\n",
    "            print(\"Cut added\")\n",
    "        end\n",
    "    end\n",
    "    MOI.set(model, MOI.RawParameter(\"LazyConstraints\"), 1)\n",
    "    MOI.set(model, MOI.LazyConstraintCallback(), outer_approximation)\n",
    "    #MOI.set(model, MOI.UserCutCallback(), outer_approximation)\n",
    "    optimize!(model)\n",
    "end"
   ]
  },
  {
   "cell_type": "code",
   "execution_count": null,
   "id": "edaf98b1",
   "metadata": {},
   "outputs": [],
   "source": [
    "if true   \n",
    "    T, p = size(X)\n",
    "    Z = get_Z(X)\n",
    "    \n",
    "    L_OA = -10000\n",
    "    U_OA = 10000\n",
    "    \n",
    "    # Create model\n",
    "    model = Model(() -> Gurobi.Optimizer(GRB_ENV))#Model(with_optimizer(Gurobi.Optimizer))\n",
    "    #set_optimizer_attribute(model, \"OutputFlag\", 0)\n",
    "    \n",
    "    # Add variables\n",
    "    @variable(model, λ[i=1:2, j=1:T] >= 0) \n",
    "    @variable(model, ν[i=1:2, j=1:T-1, k=1:p]>=0) \n",
    "    @variable(model, μ[i=1:2, j=1:T, k=1:p]>=0)\n",
    "    \n",
    "    @variable(model, α) \n",
    "    @variable(model, γ)\n",
    "    @variable(model, y[j=1:T])\n",
    "\n",
    "    \n",
    "    @constraint(model,[t=1:T], λ[1,:] .+ λ[2,:] .== 1)\n",
    "        \n",
    "        \n",
    "    @constraint(model, transpose(λ[2,:])*Z-transpose(λ[1,:])*Z \n",
    "                        + sum(transpose(ν[1,t,:])*(get_A(X, t+1).-get_A(X, t)) for t=1:T-1)\n",
    "                        + sum(transpose(ν[2,t,:])*(-get_A(X, t+1).+get_A(X, t)) for t=1:T-1)\n",
    "                        + sum(transpose(μ[1,t,:])*get_A(X,t) for t=1:T)\n",
    "                        - sum(transpose(μ[2,t,:])*get_A(X,t) for t=1:T) .== 0)\n",
    "    \n",
    "    #y in uncertainty set\n",
    "    @constraint(model, [1:T], D_min .<= y)\n",
    "    @constraint(model, [1:T], y .<= D_max)\n",
    "    \n",
    "    y_val0 = (D_min .+ D_max)./2\n",
    "    L_OA, λ_val0, _, _ = S_dual(X, y_val0, β0, epsilon, delta)\n",
    "    @constraint(model, α <= dot(λ_val0[1,:],y_val0) \n",
    "                            + dot(λ[1,:].-λ_val0[1,:], y_val0) \n",
    "                            + dot(y.-y_val0,λ_val0[1,:]))\n",
    "    \n",
    "    @constraint(model, γ >= dot(λ_val0[2,:],y_val0) \n",
    "                            + dot(λ[2,:].-λ_val0[2,:], y_val0) \n",
    "                            + dot(y.-y_val0,λ_val0[2,:]))\n",
    "    \n",
    "    # Add objective\n",
    "    @objective(model, Max, α - γ\n",
    "                            - delta * sum(sum(ν[1,t,i]+ν[2,t,i] for i=1:p) for t=1:T-1)\n",
    "                            - sum(dot(epsilon .+ β0, μ[1,t,:]) for t = 1:T)\n",
    "                            + sum(dot(epsilon .- β0, μ[2,t,:]) for t = 1:T))\n",
    "    \n",
    "    ###\n",
    "    # Step 3: Define the outer approximation function\n",
    "    ###\n",
    "    \n",
    "    function outer_approximation(cb_data)\n",
    "        print(\"Callback\")\n",
    "        #U_OA = objective_value(model)\n",
    "        y_val = []\n",
    "        for t = 1:T\n",
    "            y_val = [y_val;callback_value(cb_data, y[t])]\n",
    "        end\n",
    "        #new lowerbound\n",
    "        L_OA, λ_val, ν_val, μ_val = S_dual(X, y_val, β0, epsilon, delta)\n",
    "        α_val, γ_val = callback_value(cb_data, α), callback_value(cb_data, γ)\n",
    "        U_OA = α_val - γ_val - delta * sum(sum(ν_val[1,t,i]+ν_val[2,t,i] for i=1:p) for t=1:T-1)\n",
    "                            - sum(dot(epsilon .+ β0, μ_val[1,t,:]) for t = 1:T)\n",
    "                            + sum(dot(epsilon .- β0, μ_val[2,t,:]) for t = 1:T)\n",
    "        #linearization of the bilinear term\n",
    "        con1 = @build_constraint(α <= dot(λ_val[1,:],y_val) \n",
    "                                + dot(λ[1,:].-λ_val[1,:], y_val) \n",
    "                                + dot(y.-y_val,λ_val[1,:]))\n",
    "        con2 = @build_constraint(γ >= dot(λ_val[2,:],y_val) \n",
    "                            + dot(λ[2,:].-λ_val[2,:], y_val) \n",
    "                            + dot(y.-y_val,λ_val[2,:]))\n",
    "        if U_OA - L_OA > threshold\n",
    "            MOI.submit(model, MOI.LazyConstraint(cb_data), con1)\n",
    "            MOI.submit(model, MOI.LazyConstraint(cb_data), con2)\n",
    "            print(\"Cut added\")\n",
    "        end\n",
    "    end\n",
    "    MOI.set(model, MOI.RawParameter(\"LazyConstraints\"), 1)\n",
    "    MOI.set(model, MOI.LazyConstraintCallback(), outer_approximation)\n",
    "    #MOI.set(model, MOI.UserCutCallback(), outer_approximation)\n",
    "    optimize!(model)\n",
    "end"
   ]
  },
  {
   "cell_type": "code",
   "execution_count": 70,
   "id": "imperial-boards",
   "metadata": {},
   "outputs": [
    {
     "name": "stdout",
     "output_type": "stream",
     "text": [
      "Academic license - for non-commercial use only - expires 2022-07-20\n",
      "Lower: 1.656032211193675Upper: 10000\n",
      "Academic license - for non-commercial use only - expires 2022-07-20\n",
      "5.668960605208838\n",
      "Cut addedLower: 2.9423204539327297Upper: 2.906032211193675\n",
      "Academic license - for non-commercial use only - expires 2022-07-20\n",
      "6.149171329715432\n",
      "Cut addedLower: 2.9423204539327297Upper: 1.8408987123197835\n",
      "Academic license - for non-commercial use only - expires 2022-07-20\n",
      "6.149171329715432\n",
      "Cut addedLower: 2.9423204539327297Upper: 1.8408987123197835\n",
      "Academic license - for non-commercial use only - expires 2022-07-20\n",
      "6.149171329715432\n",
      "Cut addedLower: 2.9423204539327297Upper: 1.8408987123197835\n",
      "Academic license - for non-commercial use only - expires 2022-07-20\n",
      "6.149171329715432\n",
      "Cut added"
     ]
    }
   ],
   "source": [
    "if true   \n",
    "    T, p = size(X)\n",
    "    Z = get_Z(X)\n",
    "    max_cuts = 5\n",
    "    cuts = 0\n",
    "    L_OA = -10000\n",
    "    U_OA = 10000\n",
    "    \n",
    "    # Create model\n",
    "    model = Model(() -> Gurobi.Optimizer(GRB_ENV))#Model(with_optimizer(Gurobi.Optimizer))\n",
    "    set_optimizer_attribute(model, \"OutputFlag\", 0)\n",
    "    \n",
    "    # Add variables\n",
    "    @variable(model, λ[i=1:2, j=1:T] >= 0) \n",
    "    @variable(model, ν[i=1:2, j=1:T-1, k=1:p]>=0) \n",
    "    @variable(model, μ[i=1:2, j=1:T, k=1:p]>=0)\n",
    "    \n",
    "    @variable(model, α) \n",
    "    @variable(model, γ)\n",
    "    @variable(model, y[j=1:T])\n",
    "\n",
    "    \n",
    "    @constraint(model,[t=1:T], λ[1,:] .+ λ[2,:] .== 1)\n",
    "        \n",
    "        \n",
    "    @constraint(model, transpose(λ[2,:])*Z-transpose(λ[1,:])*Z \n",
    "                        + sum(transpose(ν[1,t,:])*(get_A(X, t+1).-get_A(X, t)) for t=1:T-1)\n",
    "                        + sum(transpose(ν[2,t,:])*(-get_A(X, t+1).+get_A(X, t)) for t=1:T-1)\n",
    "                        + sum(transpose(μ[1,t,:])*get_A(X,t) for t=1:T)\n",
    "                        - sum(transpose(μ[2,t,:])*get_A(X,t) for t=1:T) .== 0)\n",
    "    \n",
    "    #y in uncertainty set\n",
    "    @constraint(model, [1:T], D_min .<= y)\n",
    "    @constraint(model, [1:T], y .<= D_max)\n",
    "    \n",
    "    y_val0 = (D_min .+ D_max)./2\n",
    "    L_OA, λ_val0, _, _ = S_dual(X, y_val0, β0, epsilon, delta)\n",
    "    @constraint(model, α <=   dot(λ_val0[1,:],y_val0) \n",
    "                            + dot(λ[1,:].-λ_val0[1,:], y_val0) \n",
    "                            + dot(y.-y_val0,λ_val0[1,:]))\n",
    "    \n",
    "    @constraint(model, - γ >=   dot(λ_val0[2,:],y_val0) \n",
    "                            + dot(λ[2,:].-λ_val0[2,:], y_val0) \n",
    "                            + dot(y.-y_val0,λ_val0[2,:]))\n",
    "    \n",
    "    # Add objective\n",
    "    @objective(model, Max, α + γ\n",
    "                            - delta * sum(sum(ν[1,t,i]+ν[2,t,i] for i=1:p) for t=1:T-1)\n",
    "                            - sum(dot(epsilon .+ β0, μ[1,t,:]) for t = 1:T)\n",
    "                            + sum(dot(epsilon .- β0, μ[2,t,:]) for t = 1:T))\n",
    "    \n",
    "    ###\n",
    "    # Step 3: Define the outer approximation function\n",
    "    ###\n",
    "    #m2 = copy(model)\n",
    "    optimize!(model)\n",
    "    while cuts < max_cuts\n",
    "        println(\"Lower: \", L_OA, \"Upper: \", U_OA)\n",
    "        cuts += 1\n",
    "        U_OA = objective_value(model)\n",
    "        y_val = getvalue.(y)\n",
    "        #new lowerbound\n",
    "        L_OA, λ_val, ν_val, μ_val = S_dual(X, y_val, β0, epsilon, delta)\n",
    "        println(getvalue.(α))        \n",
    "        if true#U_OA - L_OA > threshold\n",
    "            con_α = @constraint(model, α <= dot(λ_val[1,:],y_val) \n",
    "                                + dot(λ[1,:].-λ_val[1,:], y_val) \n",
    "                                + dot(y.-y_val,λ_val[1,:]))\n",
    "            con_γ = @constraint(model, γ >= dot(λ_val[2,:],y_val) \n",
    "                            + dot(λ[2,:].-λ_val[2,:], y_val) \n",
    "                            + dot(y.-y_val,λ_val[2,:]))\n",
    "            #MOI.submit(model, con_α)\n",
    "            #MOI.submit(model, con_γ)\n",
    "            #model.AddConstr(con_α)\n",
    "            optimize!(model)\n",
    "            print(\"Cut added\")\n",
    "        end\n",
    "    end    \n",
    "end"
   ]
  },
  {
   "cell_type": "code",
   "execution_count": 71,
   "id": "immune-radio",
   "metadata": {},
   "outputs": [
    {
     "data": {
      "text/plain": [
       "6-element Array{Float64,1}:\n",
       " 1.4095112245622\n",
       " 1.395134791009657\n",
       " 1.2809258382983861\n",
       " 0.4408212846874644\n",
       " 1.3979214012044536\n",
       " 0.3709347002682817"
      ]
     },
     "execution_count": 71,
     "metadata": {},
     "output_type": "execute_result"
    }
   ],
   "source": [
    "value.(model[:y])"
   ]
  },
  {
   "cell_type": "code",
   "execution_count": 160,
   "id": "overall-policy",
   "metadata": {},
   "outputs": [
    {
     "name": "stdout",
     "output_type": "stream",
     "text": [
      "Academic license - for non-commercial use only - expires 2022-07-20\n",
      "Lower: 1.2905030686633057 Upper: 10000\n",
      "U_OA from solve 2.9217585540309985\n",
      "Academic license - for non-commercial use only - expires 2022-07-20\n",
      "Cut added\n",
      "Lower: 3.0258791576749458 Upper: 2.9217585540309985\n",
      "U_OA from solve 2.9217585540309985\n",
      "Academic license - for non-commercial use only - expires 2022-07-20\n",
      "Cut added\n",
      "Lower: 3.0258791576749458 Upper: 2.9217585540309985\n",
      "U_OA from solve 2.9217585540309985\n",
      "Academic license - for non-commercial use only - expires 2022-07-20\n",
      "Cut added\n",
      "Lower: 3.0258791576749458 Upper: 2.9217585540309985\n",
      "U_OA from solve 2.9217585540309985\n",
      "Academic license - for non-commercial use only - expires 2022-07-20\n",
      "Cut added\n",
      "Lower: 3.0258791576749458 Upper: 2.9217585540309985\n",
      "U_OA from solve 2.9217585540309985\n",
      "Academic license - for non-commercial use only - expires 2022-07-20\n",
      "Cut added\n"
     ]
    }
   ],
   "source": [
    "if true   \n",
    "    T, p = size(X)\n",
    "    Z = get_Z(X)\n",
    "    max_cuts = 5\n",
    "    cuts = 0\n",
    "    L_OA = -10000\n",
    "    U_OA = 10000\n",
    "    \n",
    "    # Create model\n",
    "    model = Model(() -> Gurobi.Optimizer(GRB_ENV))#Model(with_optimizer(Gurobi.Optimizer))\n",
    "    set_optimizer_attribute(model, \"OutputFlag\", 0)\n",
    "    \n",
    "    # Add variables\n",
    "    @variable(model, λ[i=1:2, j=1:T] >= 0) \n",
    "    @variable(model, ν[i=1:2, j=1:T-1, k=1:p]>=0) \n",
    "    @variable(model, μ[i=1:2, j=1:T, k=1:p]>=0)\n",
    "    \n",
    "    @variable(model, α) \n",
    "    #@variable(model, γ)\n",
    "    @variable(model, y[j=1:T])\n",
    "\n",
    "    \n",
    "    @constraint(model,[t=1:T], λ[1,:] .+ λ[2,:] .== 1)\n",
    "        \n",
    "        \n",
    "    @constraint(model, transpose(λ[2,:])*Z-transpose(λ[1,:])*Z \n",
    "                        + sum(transpose(ν[1,t,:])*(get_A(X, t+1).-get_A(X, t)) for t=1:T-1)\n",
    "                        + sum(transpose(ν[2,t,:])*(-get_A(X, t+1).+get_A(X, t)) for t=1:T-1)\n",
    "                        + sum(transpose(μ[1,t,:])*get_A(X,t) for t=1:T)\n",
    "                        - sum(transpose(μ[2,t,:])*get_A(X,t) for t=1:T) .== 0)\n",
    "\n",
    "    #y in uncertainty set\n",
    "    @constraint(model, [1:T], D_min .<= y)\n",
    "    @constraint(model, [1:T], y .<= D_max)\n",
    "    \n",
    "    y_val0 = (D_min .+ D_max)./2\n",
    "    L_OA, λ_val0, _, _ = S_dual(X, y_val0, β0, epsilon, delta)\n",
    "    @constraint(model, α <=   dot(λ_val0[1,:],y_val0) \n",
    "                            + dot(λ[1,:].-λ_val0[1,:], y_val0) \n",
    "                            + dot(y.-y_val0,λ_val0[1,:])\n",
    "                            - dot(λ_val0[2,:],y_val0) \n",
    "                            - dot(λ[2,:].-λ_val0[2,:], y_val0) \n",
    "                            - dot(y.-y_val0,λ_val0[2,:]))\n",
    "#     @constraint(model, γ >=   dot(λ_val0[2,:],y_val0) \n",
    "#                             + dot(λ[2,:].-λ_val0[2,:], y_val0) \n",
    "#                             + dot(y.-y_val0,λ_val0[2,:]))\n",
    "    \n",
    "    # Add objective\n",
    "    @objective(model, Max, α #- γ\n",
    "                            - delta * sum(sum(ν[1,t,i]+ν[2,t,i] for i=1:p) for t=1:T-1)\n",
    "                            - sum(dot(epsilon .+ β0, μ[1,t,:]) for t = 1:T)\n",
    "                            + sum(dot(epsilon .- β0, μ[2,t,:]) for t = 1:T))\n",
    "    \n",
    "    ###\n",
    "    # Step 3: Define the outer approximation function\n",
    "    ###\n",
    "    #m2 = copy(model)\n",
    "    #optimize!(model)\n",
    "    while cuts < max_cuts\n",
    "        println(\"Lower: \", L_OA, \" Upper: \", U_OA)\n",
    "        cuts += 1\n",
    "        y_val, U_OA = solve_model(model)\n",
    "\n",
    "        L_OA, λ_val, ν_val, μ_val = S_dual(X, y_val, β0, epsilon, delta)\n",
    "\n",
    "        if true#U_OA - L_OA > threshold\n",
    "            @constraint(model, α <= dot(λ_val[1,:],y_val) \n",
    "                                + dot(λ[1,:].-λ_val[1,:], y_val) \n",
    "                                + dot(y.-y_val,λ_val[1,:])\n",
    "                                - dot(λ_val[2,:],y_val) \n",
    "                                - dot(λ[2,:].-λ_val[2,:], y_val) \n",
    "                                - dot(y.-y_val,λ_val[2,:]))\n",
    "#             @constraint(model, γ >= dot(λ_val[2,:],y_val) \n",
    "#                             + dot(λ[2,:].-λ_val[2,:], y_val) \n",
    "#                             + dot(y.-y_val,λ_val[2,:]))\n",
    "            println(\"Cut added\")\n",
    "        end\n",
    "    end    \n",
    "end"
   ]
  },
  {
   "cell_type": "code",
   "execution_count": 125,
   "id": "acute-billy",
   "metadata": {},
   "outputs": [
    {
     "name": "stdout",
     "output_type": "stream",
     "text": [
      "25.492387674355754\n"
     ]
    },
    {
     "data": {
      "text/plain": [
       "0.7306773571456898"
      ]
     },
     "execution_count": 125,
     "metadata": {},
     "output_type": "execute_result"
    }
   ],
   "source": [
    "println(getvalue.(α)) ; getvalue(γ)"
   ]
  },
  {
   "cell_type": "code",
   "execution_count": 164,
   "id": "accessory-canvas",
   "metadata": {},
   "outputs": [
    {
     "data": {
      "text/plain": [
       "8-element Array{Float64,1}:\n",
       " 0.5370083401843655\n",
       " 1.2222521761339815\n",
       " 1.339211649779766\n",
       " 0.9142199248949394\n",
       " 0.6387110336100499\n",
       " 0.813759189123922\n",
       " 0.0233854259379922\n",
       " 0.08103364164996285"
      ]
     },
     "execution_count": 164,
     "metadata": {},
     "output_type": "execute_result"
    }
   ],
   "source": [
    "y_val = getvalue.(y)"
   ]
  },
  {
   "cell_type": "code",
   "execution_count": 165,
   "id": "associate-container",
   "metadata": {},
   "outputs": [
    {
     "name": "stdout",
     "output_type": "stream",
     "text": [
      "Academic license - for non-commercial use only - expires 2022-07-20\n"
     ]
    },
    {
     "data": {
      "text/plain": [
       "(3.0258791576749458, [0.4439449525615276 1.0 … 0.0 0.0; 0.5560550474384724 0.0 … 1.0 1.0], [0.10704170581798711 0.0 … 0.0 0.0; 0.0 0.0 … 0.3461152048895899 0.20928184760755908]\n",
       "\n",
       "[0.09499670528033732 0.0 … 0.0 0.0; 0.0 0.0774763673396135 … 1.198173288998391 0.3498816501822435]\n",
       "\n",
       "[0.030590214594401297 0.0 … 0.0 0.0; 0.0 0.0 … 0.6745245750243316 0.5476464646076851]\n",
       "\n",
       "[0.024632607895257577 0.0 … 0.0 0.0; 0.0 0.0 … 0.02136431484675283 0.0], [0.0 0.6421681673183743 … 0.0 0.0; 0.0 0.0 … 0.0 0.0]\n",
       "\n",
       "[0.0 0.0 … 0.0 0.0; 0.0 0.0 … 0.0 0.0]\n",
       "\n",
       "[0.0 0.6640722345242436 … 0.0 0.0; 0.0 0.0 … 0.0 0.0]\n",
       "\n",
       "[0.0 0.2539117436462669 … 0.0 0.0; 0.0 0.0 … 0.0 0.5668058722576801])"
      ]
     },
     "execution_count": 165,
     "metadata": {},
     "output_type": "execute_result"
    }
   ],
   "source": [
    "L_OA, λ_val, ν_val, μ_val = S_dual(X, y_val, β0, epsilon, delta)"
   ]
  },
  {
   "cell_type": "code",
   "execution_count": 166,
   "id": "peaceful-husband",
   "metadata": {},
   "outputs": [
    {
     "data": {
      "text/plain": [
       "3.0258791576749458"
      ]
     },
     "execution_count": 166,
     "metadata": {},
     "output_type": "execute_result"
    }
   ],
   "source": [
    "L_OA"
   ]
  },
  {
   "cell_type": "code",
   "execution_count": 84,
   "id": "ignored-cooper",
   "metadata": {},
   "outputs": [
    {
     "data": {
      "text/plain": [
       "solve_model (generic function with 1 method)"
      ]
     },
     "execution_count": 84,
     "metadata": {},
     "output_type": "execute_result"
    }
   ],
   "source": [
    "function solve_model(m)\n",
    "    optimize!(m)\n",
    "    U_OA = objective_value(m)\n",
    "    println(\"U_OA from solve \", U_OA)\n",
    "    return value.(m[:y]), U_OA\n",
    "end"
   ]
  },
  {
   "cell_type": "code",
   "execution_count": 153,
   "id": "tight-extreme",
   "metadata": {},
   "outputs": [
    {
     "data": {
      "text/latex": [
       "$$ \\begin{alignat*}{1}\\max\\quad & α - 0.05 ν_{1,1,1} - 0.05 ν_{2,1,1} - 0.05 ν_{1,1,2} - 0.05 ν_{2,1,2} - 0.05 ν_{1,1,3} - 0.05 ν_{2,1,3} - 0.05 ν_{1,1,4} - 0.05 ν_{2,1,4} - 0.05 ν_{1,2,1} - 0.05 ν_{2,2,1} - 0.05 ν_{1,2,2} - 0.05 ν_{2,2,2} - 0.05 ν_{1,2,3} - 0.05 ν_{2,2,3} - 0.05 ν_{1,2,4} - 0.05 ν_{2,2,4} - 0.05 ν_{1,3,1} - 0.05 ν_{2,3,1} - 0.05 ν_{1,3,2} - 0.05 ν_{2,3,2} - 0.05 ν_{1,3,3} - 0.05 ν_{2,3,3} - 0.05 ν_{1,3,4} - 0.05 ν_{2,3,4} - 0.05 ν_{1,4,1} - 0.05 ν_{2,4,1} - 0.05 ν_{1,4,2} - 0.05 ν_{2,4,2} - 0.05 ν_{1,4,3} - 0.05 ν_{2,4,3} - 0.05 ν_{1,4,4} - 0.05 ν_{2,4,4} - 0.05 ν_{1,5,1} - 0.05 ν_{2,5,1} - 0.05 ν_{1,5,2} - 0.05 ν_{2,5,2} - 0.05 ν_{1,5,3} - 0.05 ν_{2,5,3} - 0.05 ν_{1,5,4} - 0.05 ν_{2,5,4} - 0.05 ν_{1,6,1} - 0.05 ν_{2,6,1} - 0.05 ν_{1,6,2} - 0.05 ν_{2,6,2} - 0.05 ν_{1,6,3} - 0.05 ν_{2,6,3} - 0.05 ν_{1,6,4} - 0.05 ν_{2,6,4} - 0.05 ν_{1,7,1} - 0.05 ν_{2,7,1} - 0.05 ν_{1,7,2} - 0.05 ν_{2,7,2} - 0.05 ν_{1,7,3} - 0.05 ν_{2,7,3} - 0.05 ν_{1,7,4} - 0.05 ν_{2,7,4} - 0.2480978602957939 μ_{1,1,1} - 1.0180354622337293 μ_{1,1,2} - 0.265656738187479 μ_{1,1,3} - 0.08651922716620737 μ_{1,1,4} - 0.2480978602957939 μ_{1,2,1} - 1.0180354622337293 μ_{1,2,2} - 0.265656738187479 μ_{1,2,3} - 0.08651922716620737 μ_{1,2,4} - 0.2480978602957939 μ_{1,3,1} - 1.0180354622337293 μ_{1,3,2} - 0.265656738187479 μ_{1,3,3} - 0.08651922716620737 μ_{1,3,4} - 0.2480978602957939 μ_{1,4,1} - 1.0180354622337293 μ_{1,4,2} - 0.265656738187479 μ_{1,4,3} - 0.08651922716620737 μ_{1,4,4} - 0.2480978602957939 μ_{1,5,1} - 1.0180354622337293 μ_{1,5,2} - 0.265656738187479 μ_{1,5,3} - 0.08651922716620737 μ_{1,5,4} - 0.2480978602957939 μ_{1,6,1} - 1.0180354622337293 μ_{1,6,2} - 0.265656738187479 μ_{1,6,3} - 0.08651922716620737 μ_{1,6,4} - 0.2480978602957939 μ_{1,7,1} - 1.0180354622337293 μ_{1,7,2} - 0.265656738187479 μ_{1,7,3} - 0.08651922716620737 μ_{1,7,4} - 0.2480978602957939 μ_{1,8,1} - 1.0180354622337293 μ_{1,8,2} - 0.265656738187479 μ_{1,8,3} - 0.08651922716620737 μ_{1,8,4} - 0.14809786029579391 μ_{2,1,1} - 0.9180354622337292 μ_{2,1,2} - 0.165656738187479 μ_{2,1,3} + 0.013480772833792634 μ_{2,1,4} - 0.14809786029579391 μ_{2,2,1} - 0.9180354622337292 μ_{2,2,2} - 0.165656738187479 μ_{2,2,3} + 0.013480772833792634 μ_{2,2,4} - 0.14809786029579391 μ_{2,3,1} - 0.9180354622337292 μ_{2,3,2} - 0.165656738187479 μ_{2,3,3} + 0.013480772833792634 μ_{2,3,4} - 0.14809786029579391 μ_{2,4,1} - 0.9180354622337292 μ_{2,4,2} - 0.165656738187479 μ_{2,4,3} + 0.013480772833792634 μ_{2,4,4} - 0.14809786029579391 μ_{2,5,1} - 0.9180354622337292 μ_{2,5,2} - 0.165656738187479 μ_{2,5,3} + 0.013480772833792634 μ_{2,5,4} - 0.14809786029579391 μ_{2,6,1} - 0.9180354622337292 μ_{2,6,2} - 0.165656738187479 μ_{2,6,3} + 0.013480772833792634 μ_{2,6,4} - 0.14809786029579391 μ_{2,7,1} - 0.9180354622337292 μ_{2,7,2} - 0.165656738187479 μ_{2,7,3} + 0.013480772833792634 μ_{2,7,4} - 0.14809786029579391 μ_{2,8,1} - 0.9180354622337292 μ_{2,8,2} - 0.165656738187479 μ_{2,8,3} + 0.013480772833792634 μ_{2,8,4}\\\\\n",
       "\\text{Subject to} \\quad & λ_{1,1} + λ_{2,1} = 1.0\\\\\n",
       " & λ_{1,2} + λ_{2,2} = 1.0\\\\\n",
       " & λ_{1,3} + λ_{2,3} = 1.0\\\\\n",
       " & λ_{1,4} + λ_{2,4} = 1.0\\\\\n",
       " & λ_{1,5} + λ_{2,5} = 1.0\\\\\n",
       " & λ_{1,6} + λ_{2,6} = 1.0\\\\\n",
       " & λ_{1,7} + λ_{2,7} = 1.0\\\\\n",
       " & λ_{1,8} + λ_{2,8} = 1.0\\\\\n",
       " & λ_{1,1} + λ_{2,1} = 1.0\\\\\n",
       " & λ_{1,2} + λ_{2,2} = 1.0\\\\\n",
       " & λ_{1,3} + λ_{2,3} = 1.0\\\\\n",
       " & λ_{1,4} + λ_{2,4} = 1.0\\\\\n",
       " & λ_{1,5} + λ_{2,5} = 1.0\\\\\n",
       " & λ_{1,6} + λ_{2,6} = 1.0\\\\\n",
       " & λ_{1,7} + λ_{2,7} = 1.0\\\\\n",
       " & λ_{1,8} + λ_{2,8} = 1.0\\\\\n",
       " & λ_{1,1} + λ_{2,1} = 1.0\\\\\n",
       " & λ_{1,2} + λ_{2,2} = 1.0\\\\\n",
       " & λ_{1,3} + λ_{2,3} = 1.0\\\\\n",
       " & λ_{1,4} + λ_{2,4} = 1.0\\\\\n",
       " & λ_{1,5} + λ_{2,5} = 1.0\\\\\n",
       " & λ_{1,6} + λ_{2,6} = 1.0\\\\\n",
       " & λ_{1,7} + λ_{2,7} = 1.0\\\\\n",
       " & λ_{1,8} + λ_{2,8} = 1.0\\\\\n",
       " & λ_{1,1} + λ_{2,1} = 1.0\\\\\n",
       " & λ_{1,2} + λ_{2,2} = 1.0\\\\\n",
       " & λ_{1,3} + λ_{2,3} = 1.0\\\\\n",
       " & λ_{1,4} + λ_{2,4} = 1.0\\\\\n",
       " & λ_{1,5} + λ_{2,5} = 1.0\\\\\n",
       " & λ_{1,6} + λ_{2,6} = 1.0\\\\\n",
       " & λ_{1,7} + λ_{2,7} = 1.0\\\\\n",
       " & λ_{1,8} + λ_{2,8} = 1.0\\\\\n",
       " & λ_{1,1} + λ_{2,1} = 1.0\\\\\n",
       " & λ_{1,2} + λ_{2,2} = 1.0\\\\\n",
       " & λ_{1,3} + λ_{2,3} = 1.0\\\\\n",
       " & λ_{1,4} + λ_{2,4} = 1.0\\\\\n",
       " & λ_{1,5} + λ_{2,5} = 1.0\\\\\n",
       " & λ_{1,6} + λ_{2,6} = 1.0\\\\\n",
       " & λ_{1,7} + λ_{2,7} = 1.0\\\\\n",
       " & λ_{1,8} + λ_{2,8} = 1.0\\\\\n",
       " & λ_{1,1} + λ_{2,1} = 1.0\\\\\n",
       " & λ_{1,2} + λ_{2,2} = 1.0\\\\\n",
       " & λ_{1,3} + λ_{2,3} = 1.0\\\\\n",
       " & λ_{1,4} + λ_{2,4} = 1.0\\\\\n",
       " & λ_{1,5} + λ_{2,5} = 1.0\\\\\n",
       " & λ_{1,6} + λ_{2,6} = 1.0\\\\\n",
       " & λ_{1,7} + λ_{2,7} = 1.0\\\\\n",
       " & λ_{1,8} + λ_{2,8} = 1.0\\\\\n",
       " & λ_{1,1} + λ_{2,1} = 1.0\\\\\n",
       " & λ_{1,2} + λ_{2,2} = 1.0\\\\\n",
       " & λ_{1,3} + λ_{2,3} = 1.0\\\\\n",
       " & λ_{1,4} + λ_{2,4} = 1.0\\\\\n",
       " & λ_{1,5} + λ_{2,5} = 1.0\\\\\n",
       " & λ_{1,6} + λ_{2,6} = 1.0\\\\\n",
       " & λ_{1,7} + λ_{2,7} = 1.0\\\\\n",
       " & λ_{1,8} + λ_{2,8} = 1.0\\\\\n",
       " & λ_{1,1} + λ_{2,1} = 1.0\\\\\n",
       " & λ_{1,2} + λ_{2,2} = 1.0\\\\\n",
       " & λ_{1,3} + λ_{2,3} = 1.0\\\\\n",
       " & λ_{1,4} + λ_{2,4} = 1.0\\\\\n",
       " & λ_{1,5} + λ_{2,5} = 1.0\\\\\n",
       " & λ_{1,6} + λ_{2,6} = 1.0\\\\\n",
       " & λ_{1,7} + λ_{2,7} = 1.0\\\\\n",
       " & λ_{1,8} + λ_{2,8} = 1.0\\\\\n",
       " & -0.9547909662861231 λ_{1,1} + 0.9547909662861231 λ_{2,1} - ν_{1,1,1} + ν_{2,1,1} + μ_{1,1,1} - μ_{2,1,1} = 0.0\\\\\n",
       " & -0.8473519301237624 λ_{1,1} + 0.8473519301237624 λ_{2,1} - ν_{1,1,2} + ν_{2,1,2} + μ_{1,1,2} - μ_{2,1,2} = 0.0\\\\\n",
       " & -0.27285869865669077 λ_{1,1} + 0.27285869865669077 λ_{2,1} - ν_{1,1,3} + ν_{2,1,3} + μ_{1,1,3} - μ_{2,1,3} = 0.0\\\\\n",
       " & -0.2197180184558314 λ_{1,1} + 0.2197180184558314 λ_{2,1} - ν_{1,1,4} + ν_{2,1,4} + μ_{1,1,4} - μ_{2,1,4} = 0.0\\\\\n",
       " & -0.7492098731363614 λ_{1,2} + 0.7492098731363614 λ_{2,2} + ν_{1,1,1} - ν_{2,1,1} - ν_{1,2,1} + ν_{2,2,1} + μ_{1,2,1} - μ_{2,2,1} = 0.0\\\\\n",
       " & -0.17247307261995082 λ_{1,2} + 0.17247307261995082 λ_{2,2} + ν_{1,1,2} - ν_{2,1,2} - ν_{1,2,2} + ν_{2,2,2} + μ_{1,2,2} - μ_{2,2,2} = 0.0\\\\\n",
       " & -0.6946624491186448 λ_{1,2} + 0.6946624491186448 λ_{2,2} + ν_{1,1,3} - ν_{2,1,3} - ν_{1,2,3} + ν_{2,2,3} + μ_{1,2,3} - μ_{2,2,3} = 0.0\\\\\n",
       " & -0.27854435154152446 λ_{1,2} + 0.27854435154152446 λ_{2,2} + ν_{1,1,4} - ν_{2,1,4} - ν_{1,2,4} + ν_{2,2,4} + μ_{1,2,4} - μ_{2,2,4} = 0.0\\\\\n",
       " & -0.8543462708084071 λ_{1,3} + 0.8543462708084071 λ_{2,3} + ν_{1,2,1} - ν_{2,2,1} - ν_{1,3,1} + ν_{2,3,1} + μ_{1,3,1} - μ_{2,3,1} = 0.0\\\\\n",
       " & -0.7033458600299587 λ_{1,3} + 0.7033458600299587 λ_{2,3} + ν_{1,2,2} - ν_{2,2,2} - ν_{1,3,2} + ν_{2,3,2} + μ_{1,3,2} - μ_{2,3,2} = 0.0\\\\\n",
       " & -0.4110721457953086 λ_{1,3} + 0.4110721457953086 λ_{2,3} + ν_{1,2,3} - ν_{2,2,3} - ν_{1,3,3} + ν_{2,3,3} + μ_{1,3,3} - μ_{2,3,3} = 0.0\\\\\n",
       " & -0.36006676457998243 λ_{1,3} + 0.36006676457998243 λ_{2,3} + ν_{1,2,4} - ν_{2,2,4} - ν_{1,3,4} + ν_{2,3,4} + μ_{1,3,4} - μ_{2,3,4} = 0.0\\\\\n",
       " & -0.16254077470464634 λ_{1,4} + 0.16254077470464634 λ_{2,4} + ν_{1,3,1} - ν_{2,3,1} - ν_{1,4,1} + ν_{2,4,1} + μ_{1,4,1} - μ_{2,4,1} = 0.0\\\\\n",
       " & -0.1910692056510115 λ_{1,4} + 0.1910692056510115 λ_{2,4} + ν_{1,3,2} - ν_{2,3,2} - ν_{1,4,2} + ν_{2,4,2} + μ_{1,4,2} - μ_{2,4,2} = 0.0\\\\\n",
       " & -0.7889372719778045 λ_{1,4} + 0.7889372719778045 λ_{2,4} + ν_{1,3,3} - ν_{2,3,3} - ν_{1,4,3} + ν_{2,4,3} + μ_{1,4,3} - μ_{2,4,3} = 0.0\\\\\n",
       " & -0.13582913279743414 λ_{1,4} + 0.13582913279743414 λ_{2,4} + ν_{1,3,4} - ν_{2,3,4} - ν_{1,4,4} + ν_{2,4,4} + μ_{1,4,4} - μ_{2,4,4} = 0.0\\\\\n",
       " & -0.21101189138275434 λ_{1,5} + 0.21101189138275434 λ_{2,5} + ν_{1,4,1} - ν_{2,4,1} - ν_{1,5,1} + ν_{2,5,1} + μ_{1,5,1} - μ_{2,5,1} = 0.0\\\\\n",
       " & -0.038074802449233 λ_{1,5} + 0.038074802449233 λ_{2,5} + ν_{1,4,2} - ν_{2,4,2} - ν_{1,5,2} + ν_{2,5,2} + μ_{1,5,2} - μ_{2,5,2} = 0.0\\\\\n",
       " & -0.6783648412178604 λ_{1,5} + 0.6783648412178604 λ_{2,5} + ν_{1,4,3} - ν_{2,4,3} - ν_{1,5,3} + ν_{2,5,3} + μ_{1,5,3} - μ_{2,5,3} = 0.0\\\\\n",
       " & -0.40906030404434146 λ_{1,5} + 0.40906030404434146 λ_{2,5} + ν_{1,4,4} - ν_{2,4,4} - ν_{1,5,4} + ν_{2,5,4} + μ_{1,5,4} - μ_{2,5,4} = 0.0\\\\\n",
       " & -0.763478050143015 λ_{1,6} + 0.763478050143015 λ_{2,6} + ν_{1,5,1} - ν_{2,5,1} - ν_{1,6,1} + ν_{2,6,1} + μ_{1,6,1} - μ_{2,6,1} = 0.0\\\\\n",
       " & -0.18820705352857425 λ_{1,6} + 0.18820705352857425 λ_{2,6} + ν_{1,5,2} - ν_{2,5,2} - ν_{1,6,2} + ν_{2,6,2} + μ_{1,6,2} - μ_{2,6,2} = 0.0\\\\\n",
       " & -0.9343691413617443 λ_{1,6} + 0.9343691413617443 λ_{2,6} + ν_{1,5,3} - ν_{2,5,3} - ν_{1,6,3} + ν_{2,6,3} + μ_{1,6,3} - μ_{2,6,3} = 0.0\\\\\n",
       " & -0.14681728383707204 λ_{1,6} + 0.14681728383707204 λ_{2,6} + ν_{1,5,4} - ν_{2,5,4} - ν_{1,6,4} + ν_{2,6,4} + μ_{1,6,4} - μ_{2,6,4} = 0.0\\\\\n",
       " & -0.13683335728203083 λ_{1,7} + 0.13683335728203083 λ_{2,7} + ν_{1,6,1} - ν_{2,6,1} - ν_{1,7,1} + ν_{2,7,1} + μ_{1,7,1} - μ_{2,7,1} = 0.0\\\\\n",
       " & -0.8482916388161474 λ_{1,7} + 0.8482916388161474 λ_{2,7} + ν_{1,6,2} - ν_{2,6,2} - ν_{1,7,2} + ν_{2,7,2} + μ_{1,7,2} - μ_{2,7,2} = 0.0\\\\\n",
       " & -0.12687811041664654 λ_{1,7} + 0.12687811041664654 λ_{2,7} + ν_{1,6,3} - ν_{2,6,3} - ν_{1,7,3} + ν_{2,7,3} + μ_{1,7,3} - μ_{2,7,3} = 0.0\\\\\n",
       " & -0.02136431484675283 λ_{1,7} + 0.02136431484675283 λ_{2,7} + ν_{1,6,4} - ν_{2,6,4} - ν_{1,7,4} + ν_{2,7,4} + μ_{1,7,4} - μ_{2,7,4} = 0.0\\\\\n",
       " & -0.20928184760755908 λ_{1,8} + 0.20928184760755908 λ_{2,8} + ν_{1,7,1} - ν_{2,7,1} + μ_{1,8,1} - μ_{2,8,1} = 0.0\\\\\n",
       " & -0.3498816501822435 λ_{1,8} + 0.3498816501822435 λ_{2,8} + ν_{1,7,2} - ν_{2,7,2} + μ_{1,8,2} - μ_{2,8,2} = 0.0\\\\\n",
       " & -0.5476464646076851 λ_{1,8} + 0.5476464646076851 λ_{2,8} + ν_{1,7,3} - ν_{2,7,3} + μ_{1,8,3} - μ_{2,8,3} = 0.0\\\\\n",
       " & -0.5668058722576801 λ_{1,8} + 0.5668058722576801 λ_{2,8} + ν_{1,7,4} - ν_{2,7,4} + μ_{1,8,4} - μ_{2,8,4} = 0.0\\\\\n",
       " & -y_{1} \\leq -0.5370083401843655\\\\\n",
       " & -y_{2} \\leq -0.7222521761339815\\\\\n",
       " & -y_{3} \\leq -0.8392116497797659\\\\\n",
       " & -y_{4} \\leq -0.4142199248949394\\\\\n",
       " & -y_{5} \\leq -0.13871103361004988\\\\\n",
       " & -y_{6} \\leq -0.313759189123922\\\\\n",
       " & -y_{7} \\leq -0.0233854259379922\\\\\n",
       " & -y_{8} \\leq -0.08103364164996285\\\\\n",
       " & -y_{1} \\leq -0.5370083401843655\\\\\n",
       " & -y_{2} \\leq -0.7222521761339815\\\\\n",
       " & -y_{3} \\leq -0.8392116497797659\\\\\n",
       " & -y_{4} \\leq -0.4142199248949394\\\\\n",
       " & -y_{5} \\leq -0.13871103361004988\\\\\n",
       " & -y_{6} \\leq -0.313759189123922\\\\\n",
       " & -y_{7} \\leq -0.0233854259379922\\\\\n",
       " & -y_{8} \\leq -0.08103364164996285\\\\\n",
       " & -y_{1} \\leq -0.5370083401843655\\\\\n",
       " & -y_{2} \\leq -0.7222521761339815\\\\\n",
       " & -y_{3} \\leq -0.8392116497797659\\\\\n",
       " & -y_{4} \\leq -0.4142199248949394\\\\\n",
       " & -y_{5} \\leq -0.13871103361004988\\\\\n",
       " & -y_{6} \\leq -0.313759189123922\\\\\n",
       " & -y_{7} \\leq -0.0233854259379922\\\\\n",
       " & -y_{8} \\leq -0.08103364164996285\\\\\n",
       " & -y_{1} \\leq -0.5370083401843655\\\\\n",
       " & -y_{2} \\leq -0.7222521761339815\\\\\n",
       " & -y_{3} \\leq -0.8392116497797659\\\\\n",
       " & -y_{4} \\leq -0.4142199248949394\\\\\n",
       " & -y_{5} \\leq -0.13871103361004988\\\\\n",
       " & -y_{6} \\leq -0.313759189123922\\\\\n",
       " & -y_{7} \\leq -0.0233854259379922\\\\\n",
       " & -y_{8} \\leq -0.08103364164996285\\\\\n",
       " & -y_{1} \\leq -0.5370083401843655\\\\\n",
       " & -y_{2} \\leq -0.7222521761339815\\\\\n",
       " & -y_{3} \\leq -0.8392116497797659\\\\\n",
       " & -y_{4} \\leq -0.4142199248949394\\\\\n",
       " & -y_{5} \\leq -0.13871103361004988\\\\\n",
       " & -y_{6} \\leq -0.313759189123922\\\\\n",
       " & -y_{7} \\leq -0.0233854259379922\\\\\n",
       " & -y_{8} \\leq -0.08103364164996285\\\\\n",
       " & -y_{1} \\leq -0.5370083401843655\\\\\n",
       " & -y_{2} \\leq -0.7222521761339815\\\\\n",
       " & -y_{3} \\leq -0.8392116497797659\\\\\n",
       " & -y_{4} \\leq -0.4142199248949394\\\\\n",
       " & -y_{5} \\leq -0.13871103361004988\\\\\n",
       " & -y_{6} \\leq -0.313759189123922\\\\\n",
       " & -y_{7} \\leq -0.0233854259379922\\\\\n",
       " & -y_{8} \\leq -0.08103364164996285\\\\\n",
       " & -y_{1} \\leq -0.5370083401843655\\\\\n",
       " & -y_{2} \\leq -0.7222521761339815\\\\\n",
       " & -y_{3} \\leq -0.8392116497797659\\\\\n",
       " & -y_{4} \\leq -0.4142199248949394\\\\\n",
       " & -y_{5} \\leq -0.13871103361004988\\\\\n",
       " & -y_{6} \\leq -0.313759189123922\\\\\n",
       " & -y_{7} \\leq -0.0233854259379922\\\\\n",
       " & -y_{8} \\leq -0.08103364164996285\\\\\n",
       " & -y_{1} \\leq -0.5370083401843655\\\\\n",
       " & -y_{2} \\leq -0.7222521761339815\\\\\n",
       " & -y_{3} \\leq -0.8392116497797659\\\\\n",
       " & -y_{4} \\leq -0.4142199248949394\\\\\n",
       " & -y_{5} \\leq -0.13871103361004988\\\\\n",
       " & -y_{6} \\leq -0.313759189123922\\\\\n",
       " & -y_{7} \\leq -0.0233854259379922\\\\\n",
       " & -y_{8} \\leq -0.08103364164996285\\\\\n",
       " & y_{1} \\leq 1.0370083401843655\\\\\n",
       " & y_{2} \\leq 1.2222521761339815\\\\\n",
       " & y_{3} \\leq 1.339211649779766\\\\\n",
       " & y_{4} \\leq 0.9142199248949394\\\\\n",
       " & y_{5} \\leq 0.6387110336100499\\\\\n",
       " & y_{6} \\leq 0.813759189123922\\\\\n",
       " & y_{7} \\leq 0.5233854259379922\\\\\n",
       " & y_{8} \\leq 0.5810336416499629\\\\\n",
       " & y_{1} \\leq 1.0370083401843655\\\\\n",
       " & y_{2} \\leq 1.2222521761339815\\\\\n",
       " & y_{3} \\leq 1.339211649779766\\\\\n",
       " & y_{4} \\leq 0.9142199248949394\\\\\n",
       " & y_{5} \\leq 0.6387110336100499\\\\\n",
       " & y_{6} \\leq 0.813759189123922\\\\\n",
       " & y_{7} \\leq 0.5233854259379922\\\\\n",
       " & y_{8} \\leq 0.5810336416499629\\\\\n",
       " & y_{1} \\leq 1.0370083401843655\\\\\n",
       " & y_{2} \\leq 1.2222521761339815\\\\\n",
       " & y_{3} \\leq 1.339211649779766\\\\\n",
       " & y_{4} \\leq 0.9142199248949394\\\\\n",
       " & y_{5} \\leq 0.6387110336100499\\\\\n",
       " & y_{6} \\leq 0.813759189123922\\\\\n",
       " & y_{7} \\leq 0.5233854259379922\\\\\n",
       " & y_{8} \\leq 0.5810336416499629\\\\\n",
       " & y_{1} \\leq 1.0370083401843655\\\\\n",
       " & y_{2} \\leq 1.2222521761339815\\\\\n",
       " & y_{3} \\leq 1.339211649779766\\\\\n",
       " & y_{4} \\leq 0.9142199248949394\\\\\n",
       " & y_{5} \\leq 0.6387110336100499\\\\\n",
       " & y_{6} \\leq 0.813759189123922\\\\\n",
       " & y_{7} \\leq 0.5233854259379922\\\\\n",
       " & y_{8} \\leq 0.5810336416499629\\\\\n",
       " & y_{1} \\leq 1.0370083401843655\\\\\n",
       " & y_{2} \\leq 1.2222521761339815\\\\\n",
       " & y_{3} \\leq 1.339211649779766\\\\\n",
       " & y_{4} \\leq 0.9142199248949394\\\\\n",
       " & y_{5} \\leq 0.6387110336100499\\\\\n",
       " & y_{6} \\leq 0.813759189123922\\\\\n",
       " & y_{7} \\leq 0.5233854259379922\\\\\n",
       " & y_{8} \\leq 0.5810336416499629\\\\\n",
       " & y_{1} \\leq 1.0370083401843655\\\\\n",
       " & y_{2} \\leq 1.2222521761339815\\\\\n",
       " & y_{3} \\leq 1.339211649779766\\\\\n",
       " & y_{4} \\leq 0.9142199248949394\\\\\n",
       " & y_{5} \\leq 0.6387110336100499\\\\\n",
       " & y_{6} \\leq 0.813759189123922\\\\\n",
       " & y_{7} \\leq 0.5233854259379922\\\\\n",
       " & y_{8} \\leq 0.5810336416499629\\\\\n",
       " & y_{1} \\leq 1.0370083401843655\\\\\n",
       " & y_{2} \\leq 1.2222521761339815\\\\\n",
       " & y_{3} \\leq 1.339211649779766\\\\\n",
       " & y_{4} \\leq 0.9142199248949394\\\\\n",
       " & y_{5} \\leq 0.6387110336100499\\\\\n",
       " & y_{6} \\leq 0.813759189123922\\\\\n",
       " & y_{7} \\leq 0.5233854259379922\\\\\n",
       " & y_{8} \\leq 0.5810336416499629\\\\\n",
       " & y_{1} \\leq 1.0370083401843655\\\\\n",
       " & y_{2} \\leq 1.2222521761339815\\\\\n",
       " & y_{3} \\leq 1.339211649779766\\\\\n",
       " & y_{4} \\leq 0.9142199248949394\\\\\n",
       " & y_{5} \\leq 0.6387110336100499\\\\\n",
       " & y_{6} \\leq 0.813759189123922\\\\\n",
       " & y_{7} \\leq 0.5233854259379922\\\\\n",
       " & y_{8} \\leq 0.5810336416499629\\\\\n",
       " & -0.7870083401843655 λ_{1,1} + 0.7870083401843655 λ_{2,1} - 0.9722521761339815 λ_{1,2} + 0.9722521761339815 λ_{2,2} - 1.089211649779766 λ_{1,3} + 1.089211649779766 λ_{2,3} - 0.6642199248949394 λ_{1,4} + 0.6642199248949394 λ_{2,4} - 0.3887110336100499 λ_{1,5} + 0.3887110336100499 λ_{2,5} - 0.563759189123922 λ_{1,6} + 0.563759189123922 λ_{2,6} - 0.2733854259379922 λ_{1,7} + 0.2733854259379922 λ_{2,7} - 0.33103364164996285 λ_{1,8} + 0.33103364164996285 λ_{2,8} + α + 0.5250219414707686 y_{1} - y_{2} - y_{3} - y_{4} - y_{5} - y_{6} + y_{7} \\leq -2.9915719008873833\\\\\n",
       " & -0.5370083401843655 λ_{1,1} + 0.5370083401843655 λ_{2,1} - 1.2222521761339815 λ_{1,2} + 1.2222521761339815 λ_{2,2} - 1.339211649779766 λ_{1,3} + 1.339211649779766 λ_{2,3} - 0.9142199248949394 λ_{1,4} + 0.9142199248949394 λ_{2,4} - 0.6387110336100499 λ_{1,5} + 0.6387110336100499 λ_{2,5} - 0.813759189123922 λ_{1,6} + 0.813759189123922 λ_{2,6} - 0.0233854259379922 λ_{1,7} + 0.0233854259379922 λ_{2,7} - 0.08103364164996285 λ_{1,8} + 0.08103364164996285 λ_{2,8} + α + 0.11211009487694484 y_{1} - y_{2} - y_{3} - y_{4} - y_{5} - y_{6} + y_{7} + y_{8} \\leq -4.763530849986924\\\\\n",
       " & -0.5370083401843655 λ_{1,1} + 0.5370083401843655 λ_{2,1} - 1.2222521761339815 λ_{1,2} + 1.2222521761339815 λ_{2,2} - 1.339211649779766 λ_{1,3} + 1.339211649779766 λ_{2,3} - 0.9142199248949394 λ_{1,4} + 0.9142199248949394 λ_{2,4} - 0.6387110336100499 λ_{1,5} + 0.6387110336100499 λ_{2,5} - 0.813759189123922 λ_{1,6} + 0.813759189123922 λ_{2,6} - 0.0233854259379922 λ_{1,7} + 0.0233854259379922 λ_{2,7} - 0.08103364164996285 λ_{1,8} + 0.08103364164996285 λ_{2,8} + α + 0.11211009487694484 y_{1} - y_{2} - y_{3} - y_{4} - y_{5} - y_{6} + y_{7} + y_{8} \\leq -4.763530849986924\\\\\n",
       " & -0.5370083401843655 λ_{1,1} + 0.5370083401843655 λ_{2,1} - 1.2222521761339815 λ_{1,2} + 1.2222521761339815 λ_{2,2} - 1.339211649779766 λ_{1,3} + 1.339211649779766 λ_{2,3} - 0.9142199248949394 λ_{1,4} + 0.9142199248949394 λ_{2,4} - 0.6387110336100499 λ_{1,5} + 0.6387110336100499 λ_{2,5} - 0.813759189123922 λ_{1,6} + 0.813759189123922 λ_{2,6} - 0.0233854259379922 λ_{1,7} + 0.0233854259379922 λ_{2,7} - 0.08103364164996285 λ_{1,8} + 0.08103364164996285 λ_{2,8} + α + 0.11211009487694484 y_{1} - y_{2} - y_{3} - y_{4} - y_{5} - y_{6} + y_{7} + y_{8} \\leq -4.763530849986924\\\\\n",
       " & -0.5370083401843655 λ_{1,1} + 0.5370083401843655 λ_{2,1} - 1.2222521761339815 λ_{1,2} + 1.2222521761339815 λ_{2,2} - 1.339211649779766 λ_{1,3} + 1.339211649779766 λ_{2,3} - 0.9142199248949394 λ_{1,4} + 0.9142199248949394 λ_{2,4} - 0.6387110336100499 λ_{1,5} + 0.6387110336100499 λ_{2,5} - 0.813759189123922 λ_{1,6} + 0.813759189123922 λ_{2,6} - 0.0233854259379922 λ_{1,7} + 0.0233854259379922 λ_{2,7} - 0.08103364164996285 λ_{1,8} + 0.08103364164996285 λ_{2,8} + α + 0.11211009487694484 y_{1} - y_{2} - y_{3} - y_{4} - y_{5} - y_{6} + y_{7} + y_{8} \\leq -4.763530849986924\\\\\n",
       " & -0.5370083401843655 λ_{1,1} + 0.5370083401843655 λ_{2,1} - 1.2222521761339815 λ_{1,2} + 1.2222521761339815 λ_{2,2} - 1.339211649779766 λ_{1,3} + 1.339211649779766 λ_{2,3} - 0.9142199248949394 λ_{1,4} + 0.9142199248949394 λ_{2,4} - 0.6387110336100499 λ_{1,5} + 0.6387110336100499 λ_{2,5} - 0.813759189123922 λ_{1,6} + 0.813759189123922 λ_{2,6} - 0.0233854259379922 λ_{1,7} + 0.0233854259379922 λ_{2,7} - 0.08103364164996285 λ_{1,8} + 0.08103364164996285 λ_{2,8} + α + 0.11211009487694484 y_{1} - y_{2} - y_{3} - y_{4} - y_{5} - y_{6} + y_{7} + y_{8} \\leq -4.763530849986924\\\\\n",
       " & λ_{1,1} \\geq 0.0\\\\\n",
       " & λ_{2,1} \\geq 0.0\\\\\n",
       " & λ_{1,2} \\geq 0.0\\\\\n",
       " & λ_{2,2} \\geq 0.0\\\\\n",
       " & λ_{1,3} \\geq 0.0\\\\\n",
       " & λ_{2,3} \\geq 0.0\\\\\n",
       " & λ_{1,4} \\geq 0.0\\\\\n",
       " & λ_{2,4} \\geq 0.0\\\\\n",
       " & λ_{1,5} \\geq 0.0\\\\\n",
       " & λ_{2,5} \\geq 0.0\\\\\n",
       " & λ_{1,6} \\geq 0.0\\\\\n",
       " & λ_{2,6} \\geq 0.0\\\\\n",
       " & λ_{1,7} \\geq 0.0\\\\\n",
       " & λ_{2,7} \\geq 0.0\\\\\n",
       " & λ_{1,8} \\geq 0.0\\\\\n",
       " & λ_{2,8} \\geq 0.0\\\\\n",
       " & ν_{1,1,1} \\geq 0.0\\\\\n",
       " & ν_{2,1,1} \\geq 0.0\\\\\n",
       " & ν_{1,2,1} \\geq 0.0\\\\\n",
       " & ν_{2,2,1} \\geq 0.0\\\\\n",
       " & ν_{1,3,1} \\geq 0.0\\\\\n",
       " & ν_{2,3,1} \\geq 0.0\\\\\n",
       " & ν_{1,4,1} \\geq 0.0\\\\\n",
       " & ν_{2,4,1} \\geq 0.0\\\\\n",
       " & ν_{1,5,1} \\geq 0.0\\\\\n",
       " & ν_{2,5,1} \\geq 0.0\\\\\n",
       " & ν_{1,6,1} \\geq 0.0\\\\\n",
       " & ν_{2,6,1} \\geq 0.0\\\\\n",
       " & ν_{1,7,1} \\geq 0.0\\\\\n",
       " & ν_{2,7,1} \\geq 0.0\\\\\n",
       " & ν_{1,1,2} \\geq 0.0\\\\\n",
       " & ν_{2,1,2} \\geq 0.0\\\\\n",
       " & ν_{1,2,2} \\geq 0.0\\\\\n",
       " & ν_{2,2,2} \\geq 0.0\\\\\n",
       " & ν_{1,3,2} \\geq 0.0\\\\\n",
       " & ν_{2,3,2} \\geq 0.0\\\\\n",
       " & ν_{1,4,2} \\geq 0.0\\\\\n",
       " & ν_{2,4,2} \\geq 0.0\\\\\n",
       " & ν_{1,5,2} \\geq 0.0\\\\\n",
       " & ν_{2,5,2} \\geq 0.0\\\\\n",
       " & ν_{1,6,2} \\geq 0.0\\\\\n",
       " & ν_{2,6,2} \\geq 0.0\\\\\n",
       " & ν_{1,7,2} \\geq 0.0\\\\\n",
       " & ν_{2,7,2} \\geq 0.0\\\\\n",
       " & ν_{1,1,3} \\geq 0.0\\\\\n",
       " & ν_{2,1,3} \\geq 0.0\\\\\n",
       " & ν_{1,2,3} \\geq 0.0\\\\\n",
       " & ν_{2,2,3} \\geq 0.0\\\\\n",
       " & ν_{1,3,3} \\geq 0.0\\\\\n",
       " & ν_{2,3,3} \\geq 0.0\\\\\n",
       " & ν_{1,4,3} \\geq 0.0\\\\\n",
       " & ν_{2,4,3} \\geq 0.0\\\\\n",
       " & ν_{1,5,3} \\geq 0.0\\\\\n",
       " & ν_{2,5,3} \\geq 0.0\\\\\n",
       " & ν_{1,6,3} \\geq 0.0\\\\\n",
       " & ν_{2,6,3} \\geq 0.0\\\\\n",
       " & ν_{1,7,3} \\geq 0.0\\\\\n",
       " & ν_{2,7,3} \\geq 0.0\\\\\n",
       " & ν_{1,1,4} \\geq 0.0\\\\\n",
       " & ν_{2,1,4} \\geq 0.0\\\\\n",
       " & ν_{1,2,4} \\geq 0.0\\\\\n",
       " & ν_{2,2,4} \\geq 0.0\\\\\n",
       " & ν_{1,3,4} \\geq 0.0\\\\\n",
       " & ν_{2,3,4} \\geq 0.0\\\\\n",
       " & ν_{1,4,4} \\geq 0.0\\\\\n",
       " & ν_{2,4,4} \\geq 0.0\\\\\n",
       " & ν_{1,5,4} \\geq 0.0\\\\\n",
       " & ν_{2,5,4} \\geq 0.0\\\\\n",
       " & ν_{1,6,4} \\geq 0.0\\\\\n",
       " & ν_{2,6,4} \\geq 0.0\\\\\n",
       " & ν_{1,7,4} \\geq 0.0\\\\\n",
       " & ν_{2,7,4} \\geq 0.0\\\\\n",
       " & μ_{1,1,1} \\geq 0.0\\\\\n",
       " & μ_{2,1,1} \\geq 0.0\\\\\n",
       " & μ_{1,2,1} \\geq 0.0\\\\\n",
       " & μ_{2,2,1} \\geq 0.0\\\\\n",
       " & μ_{1,3,1} \\geq 0.0\\\\\n",
       " & μ_{2,3,1} \\geq 0.0\\\\\n",
       " & μ_{1,4,1} \\geq 0.0\\\\\n",
       " & μ_{2,4,1} \\geq 0.0\\\\\n",
       " & μ_{1,5,1} \\geq 0.0\\\\\n",
       " & μ_{2,5,1} \\geq 0.0\\\\\n",
       " & μ_{1,6,1} \\geq 0.0\\\\\n",
       " & μ_{2,6,1} \\geq 0.0\\\\\n",
       " & μ_{1,7,1} \\geq 0.0\\\\\n",
       " & μ_{2,7,1} \\geq 0.0\\\\\n",
       " & μ_{1,8,1} \\geq 0.0\\\\\n",
       " & μ_{2,8,1} \\geq 0.0\\\\\n",
       " & μ_{1,1,2} \\geq 0.0\\\\\n",
       " & μ_{2,1,2} \\geq 0.0\\\\\n",
       " & μ_{1,2,2} \\geq 0.0\\\\\n",
       " & μ_{2,2,2} \\geq 0.0\\\\\n",
       " & μ_{1,3,2} \\geq 0.0\\\\\n",
       " & μ_{2,3,2} \\geq 0.0\\\\\n",
       " & μ_{1,4,2} \\geq 0.0\\\\\n",
       " & μ_{2,4,2} \\geq 0.0\\\\\n",
       " & μ_{1,5,2} \\geq 0.0\\\\\n",
       " & μ_{2,5,2} \\geq 0.0\\\\\n",
       " & μ_{1,6,2} \\geq 0.0\\\\\n",
       " & μ_{2,6,2} \\geq 0.0\\\\\n",
       " & μ_{1,7,2} \\geq 0.0\\\\\n",
       " & μ_{2,7,2} \\geq 0.0\\\\\n",
       " & μ_{1,8,2} \\geq 0.0\\\\\n",
       " & μ_{2,8,2} \\geq 0.0\\\\\n",
       " & μ_{1,1,3} \\geq 0.0\\\\\n",
       " & μ_{2,1,3} \\geq 0.0\\\\\n",
       " & μ_{1,2,3} \\geq 0.0\\\\\n",
       " & μ_{2,2,3} \\geq 0.0\\\\\n",
       " & μ_{1,3,3} \\geq 0.0\\\\\n",
       " & μ_{2,3,3} \\geq 0.0\\\\\n",
       " & μ_{1,4,3} \\geq 0.0\\\\\n",
       " & μ_{2,4,3} \\geq 0.0\\\\\n",
       " & μ_{1,5,3} \\geq 0.0\\\\\n",
       " & μ_{2,5,3} \\geq 0.0\\\\\n",
       " & μ_{1,6,3} \\geq 0.0\\\\\n",
       " & μ_{2,6,3} \\geq 0.0\\\\\n",
       " & μ_{1,7,3} \\geq 0.0\\\\\n",
       " & μ_{2,7,3} \\geq 0.0\\\\\n",
       " & μ_{1,8,3} \\geq 0.0\\\\\n",
       " & μ_{2,8,3} \\geq 0.0\\\\\n",
       " & μ_{1,1,4} \\geq 0.0\\\\\n",
       " & μ_{2,1,4} \\geq 0.0\\\\\n",
       " & μ_{1,2,4} \\geq 0.0\\\\\n",
       " & μ_{2,2,4} \\geq 0.0\\\\\n",
       " & μ_{1,3,4} \\geq 0.0\\\\\n",
       " & μ_{2,3,4} \\geq 0.0\\\\\n",
       " & μ_{1,4,4} \\geq 0.0\\\\\n",
       " & μ_{2,4,4} \\geq 0.0\\\\\n",
       " & μ_{1,5,4} \\geq 0.0\\\\\n",
       " & μ_{2,5,4} \\geq 0.0\\\\\n",
       " & μ_{1,6,4} \\geq 0.0\\\\\n",
       " & μ_{2,6,4} \\geq 0.0\\\\\n",
       " & μ_{1,7,4} \\geq 0.0\\\\\n",
       " & μ_{2,7,4} \\geq 0.0\\\\\n",
       " & μ_{1,8,4} \\geq 0.0\\\\\n",
       " & μ_{2,8,4} \\geq 0.0\\\\\n",
       "\\end{alignat*}\n",
       " $$"
      ],
      "text/plain": [
       "A JuMP Model\n",
       "Maximization problem with:\n",
       "Variables: 145\n",
       "Objective function type: GenericAffExpr{Float64,VariableRef}\n",
       "`GenericAffExpr{Float64,VariableRef}`-in-`MathOptInterface.EqualTo{Float64}`: 96 constraints\n",
       "`GenericAffExpr{Float64,VariableRef}`-in-`MathOptInterface.LessThan{Float64}`: 134 constraints\n",
       "`VariableRef`-in-`MathOptInterface.GreaterThan{Float64}`: 136 constraints\n",
       "Model mode: AUTOMATIC\n",
       "CachingOptimizer state: ATTACHED_OPTIMIZER\n",
       "Solver name: Gurobi\n",
       "Names registered in the model: y, α, λ, μ, ν"
      ]
     },
     "execution_count": 153,
     "metadata": {},
     "output_type": "execute_result"
    }
   ],
   "source": [
    "model"
   ]
  },
  {
   "cell_type": "code",
   "execution_count": 57,
   "id": "e4fe49b7",
   "metadata": {},
   "outputs": [
    {
     "data": {
      "text/plain": [
       "0.6262886348216052"
      ]
     },
     "execution_count": 57,
     "metadata": {},
     "output_type": "execute_result"
    }
   ],
   "source": [
    "getvalue.(γ)"
   ]
  },
  {
   "cell_type": "code",
   "execution_count": 156,
   "id": "coral-lawrence",
   "metadata": {},
   "outputs": [],
   "source": [
    "optimize!(model)"
   ]
  },
  {
   "cell_type": "code",
   "execution_count": 157,
   "id": "several-pearl",
   "metadata": {},
   "outputs": [
    {
     "data": {
      "text/plain": [
       "2.9217585540309985"
      ]
     },
     "execution_count": 157,
     "metadata": {},
     "output_type": "execute_result"
    }
   ],
   "source": [
    "objective_value(model)"
   ]
  },
  {
   "cell_type": "code",
   "execution_count": 151,
   "id": "26ba4e67",
   "metadata": {},
   "outputs": [
    {
     "name": "stdout",
     "output_type": "stream",
     "text": [
      "Academic license - for non-commercial use only - expires 2022-07-20\n",
      "Gurobi Optimizer version 9.1.1 build v9.1.1rc0 (mac64)\n",
      "Thread count: 6 physical cores, 12 logical processors, using up to 12 threads\n",
      "Optimize a model with 226 rows, 146 columns and 524 nonzeros\n",
      "Model fingerprint: 0x76c0d6a2\n",
      "Coefficient statistics:\n",
      "  Matrix range     [2e-02, 1e+00]\n",
      "  Objective range  [1e-02, 1e+00]\n",
      "  Bounds range     [0e+00, 0e+00]\n",
      "  RHS range        [2e-02, 4e+00]\n",
      "Presolve removed 194 rows and 22 columns\n",
      "Presolve time: 0.00s\n",
      "Presolved: 32 rows, 124 columns, 192 nonzeros\n",
      "\n",
      "Iteration    Objective       Primal Inf.    Dual Inf.      Time\n",
      "       0    1.0784618e+29   8.000000e+30   1.078462e-01      0s\n",
      "      72    2.9217586e+00   0.000000e+00   0.000000e+00      0s\n",
      "\n",
      "Solved in 72 iterations and 0.00 seconds\n",
      "Optimal objective  2.921758554e+00\n",
      "\n",
      "User-callback calls 113, time in user-callback 0.00 sec\n",
      "10000\n",
      "1.2905030686633057\n"
     ]
    },
    {
     "data": {
      "text/plain": [
       "8-element Array{Float64,1}:\n",
       " 0.5370083401843655\n",
       " 1.2222521761339815\n",
       " 1.339211649779766\n",
       " 0.9142199248949394\n",
       " 0.6387110336100499\n",
       " 0.813759189123922\n",
       " 0.0233854259379922\n",
       " 0.08103364164996285"
      ]
     },
     "execution_count": 151,
     "metadata": {},
     "output_type": "execute_result"
    }
   ],
   "source": [
    "n = 8\n",
    "p = 4\n",
    "X = Random.rand(n,p)\n",
    "#X[:,-1] = np.ones(n)\n",
    "y = Random.rand(n)\n",
    "epsilon = 0.05\n",
    "delta = 0.05\n",
    "\n",
    "D_min = Random.rand(n)\n",
    "D_max = D_min .+ 0.5 \n",
    "threshold = 0.5\n",
    "β0 = Random.rand(p)\n",
    "model, y, L_OA, U_OA, α, γ = U(X, D_min, D_max, β0, epsilon, delta, threshold)\n",
    "println(U_OA)\n",
    "println(L_OA)\n",
    "y"
   ]
  },
  {
   "cell_type": "code",
   "execution_count": 437,
   "id": "e8c72b90",
   "metadata": {},
   "outputs": [
    {
     "data": {
      "text/plain": [
       "1.2970139240154244"
      ]
     },
     "execution_count": 437,
     "metadata": {},
     "output_type": "execute_result"
    }
   ],
   "source": [
    "γ"
   ]
  },
  {
   "cell_type": "markdown",
   "id": "f021840c",
   "metadata": {},
   "source": [
    "# Old"
   ]
  },
  {
   "cell_type": "code",
   "execution_count": 306,
   "id": "136bfe65",
   "metadata": {},
   "outputs": [
    {
     "data": {
      "text/plain": [
       "inner_primal_infinity (generic function with 1 method)"
      ]
     },
     "execution_count": 306,
     "metadata": {},
     "output_type": "execute_result"
    }
   ],
   "source": [
    "function inner_primal_infinity(X, y, β0, epsilon, delta)\n",
    "    \n",
    "    #Non-adaptive version, that optimizes wrt CVaR, with OLS, and lasso penalty\n",
    "    #alpha: Risk value\n",
    "    \n",
    "    n, p = size(X)\n",
    "\n",
    "    # Create model\n",
    "    model = Model(with_optimizer(Gurobi.Optimizer))\n",
    "    set_optimizer_attribute(model, \"OutputFlag\", 0)\n",
    "\n",
    "    # Add variables\n",
    "    @variable(model, β[i=1:n,j=1:p]) \n",
    "    @variable(model, b[i=1:n]>=0) \n",
    "\n",
    "    # Add objective\n",
    "    @objective(model, Min, sum(b[i] for i=1:n))\n",
    "    \n",
    "    #@constraint(model,[i=1:n], y .- dot(X,β) .<= b)\n",
    "    #@constraint(model,[i=1:n],-y .+ dot(X,β) .<= b)\n",
    "    @constraint(model, res_plus[i=1:n],  - y[i] + dot(X[i,:],β[i,:]) <= b[i])\n",
    "    @constraint(model, res_minus[i=1:n],  y[i] - dot(X[i,:],β[i,:]) <= b[i])\n",
    "\n",
    "    @constraint(model, diff_plus[i=2:n],   β[i,:] .- β[i-1,:] .<= delta)\n",
    "    @constraint(model, diff_minus[i=2:n], - β[i,:] .+ β[i-1,:] .<= delta)\n",
    "    \n",
    "    @constraint(model, diff_0_plus[i=1:n],   β[i,:] .- β0 .<= epsilon)\n",
    "    @constraint(model, diff_0_minus[i=1:n], - β[i,:] .+ β0 .<= epsilon)\n",
    "    \n",
    "    optimize!(model);\n",
    "    \n",
    "    return model, getvalue.(β)\n",
    "end"
   ]
  },
  {
   "cell_type": "code",
   "execution_count": 277,
   "id": "d99695ea",
   "metadata": {},
   "outputs": [
    {
     "data": {
      "text/plain": [
       "10-element Array{Float64,1}:\n",
       " 0.791563863554702\n",
       " 0.5796189138571763\n",
       " 0.9100579881453945\n",
       " 0.5056536604729605\n",
       " 0.7719481674585646\n",
       " 0.7102191914978586\n",
       " 0.0965590441026678\n",
       " 0.7283500723140499\n",
       " 0.22105848314216003\n",
       " 0.6861513606223042"
      ]
     },
     "execution_count": 277,
     "metadata": {},
     "output_type": "execute_result"
    }
   ],
   "source": [
    "Z = get_Z(X)\n",
    "λ = Random.rand(n)"
   ]
  },
  {
   "cell_type": "code",
   "execution_count": 397,
   "id": "412ab0a9",
   "metadata": {},
   "outputs": [
    {
     "data": {
      "text/plain": [
       "inner_dual_infinity_shuvo (generic function with 1 method)"
      ]
     },
     "execution_count": 397,
     "metadata": {},
     "output_type": "execute_result"
    }
   ],
   "source": [
    "function inner_dual_infinity_shuvo(X, y, β0, epsilon, delta)\n",
    "    \n",
    "    #Non-adaptive version, that optimizes wrt CVaR, with OLS, and lasso penalty\n",
    "    #alpha: Risk value\n",
    "    \n",
    "    T, p = size(X)\n",
    "    Z = get_Z(X)\n",
    "    \n",
    "    # Create model\n",
    "    model = Model(with_optimizer(Gurobi.Optimizer))\n",
    "    #set_optimizer_attribute(model, \"OutputFlag\", 0)\n",
    "    \n",
    "    # Add variables\n",
    "    @variable(model, λ[i=1:2, j=1:T] >= 0) \n",
    "    @variable(model, ν[i=1:2, j=1:T-1, k=1:p]>=0) \n",
    "    @variable(model, μ[i=1:2, j=1:T, k=1:p]>=0)\n",
    "\n",
    "    # Add objective\n",
    "    @objective(model, Max, dot(λ[1,:],y) - dot(λ[2,:],y) \n",
    "                            - delta * sum(sum(ν[1,t,i]+ν[2,t,i] for i=1:p) for t=1:T-1)\n",
    "                            - sum(dot(epsilon .+ β0, μ[1,t,:]) for t = 1:T)\n",
    "                            + sum(dot(epsilon .- β0, μ[2,t,:]) for t = 1:T))\n",
    "    \n",
    "    @constraint(model,[t=1:T], λ[1,:] .+ λ[2,:] .== 1)\n",
    "        \n",
    "        \n",
    "    @constraint(model, transpose(λ[2,:])*Z-transpose(λ[1,:])*Z \n",
    "                        + sum(transpose(ν[1,t,:])*(get_A(X, t+1).-get_A(X, t)) for t=1:T-1)\n",
    "                        + sum(transpose(ν[2,t,:])*(-get_A(X, t+1).+get_A(X, t)) for t=1:T-1)\n",
    "                        + sum(transpose(μ[1,t,:])*get_A(X,t) for t=1:T)\n",
    "                        - sum(transpose(μ[2,t,:])*get_A(X,t) for t=1:T) .== 0)\n",
    "    \n",
    "    \n",
    "    optimize!(model);\n",
    "    \n",
    "    return model\n",
    "end"
   ]
  },
  {
   "cell_type": "code",
   "execution_count": 398,
   "id": "a21ae916",
   "metadata": {},
   "outputs": [
    {
     "name": "stdout",
     "output_type": "stream",
     "text": [
      "Academic license - for non-commercial use only - expires 2022-07-20\n",
      "Gurobi Optimizer version 9.1.1 build v9.1.1rc0 (mac64)\n",
      "Thread count: 6 physical cores, 12 logical processors, using up to 12 threads\n",
      "Optimize a model with 1080 rows, 768 columns and 3216 nonzeros\n",
      "Model fingerprint: 0xb73556e9\n",
      "Coefficient statistics:\n",
      "  Matrix range     [2e-03, 1e+00]\n",
      "  Objective range  [3e-05, 1e+00]\n",
      "  Bounds range     [0e+00, 0e+00]\n",
      "  RHS range        [1e+00, 1e+00]\n",
      "Presolve removed 900 rows and 146 columns\n",
      "Presolve time: 0.00s\n",
      "Presolved: 180 rows, 622 columns, 1004 nonzeros\n",
      "\n",
      "Iteration    Objective       Primal Inf.    Dual Inf.      Time\n",
      "       0    4.3712611e+30   6.000000e+31   3.497009e+01      0s\n",
      "     320    1.6733239e+00   0.000000e+00   0.000000e+00      0s\n",
      "\n",
      "Solved in 320 iterations and 0.00 seconds\n",
      "Optimal objective  1.673323931e+00\n",
      "\n",
      "User-callback calls 356, time in user-callback 0.00 sec\n",
      "Obj value Dual:1.673323930872756Academic license - for non-commercial use only - expires 2022-07-20\n",
      "Obj value Primal:1.673323930872756"
     ]
    }
   ],
   "source": [
    "n = 30\n",
    "p = 6\n",
    "X = Random.rand(n,p)\n",
    "#X[:,-1] = np.ones(n)\n",
    "y = Random.rand(n)\n",
    "beta_0 = Random.rand(p)\n",
    "epsilon = 0.1\n",
    "delta = 0.1\n",
    "#beta = inner_dual_infinity_leo_original_signs(X,y,beta_0,epsilon,delta)\n",
    "#beta = inner_dual_infinity_leo(X,y,beta_0,epsilon,delta)\n",
    "model = inner_dual_infinity_shuvo(X,y,beta_0,epsilon,delta)\n",
    "print(\"Obj value Dual:\", objective_value(model))\n",
    "\n",
    "#model = inner_dual_infinity_leo(X,y,beta_0,epsilon,delta)\n",
    "#print(\"Obj value Dual Leo:\", objective_value(model))\n",
    "\n",
    "m, beta = inner_primal_infinity(X,y,beta_0,epsilon,delta)\n",
    "print(\"Obj value Primal:\", objective_value(model))\n",
    "\n",
    "#print(\"Primal 1\", value(m.obj))"
   ]
  },
  {
   "cell_type": "code",
   "execution_count": 313,
   "id": "03df4f9d",
   "metadata": {},
   "outputs": [
    {
     "data": {
      "text/plain": [
       "inner_dual_infinity_leo (generic function with 1 method)"
      ]
     },
     "execution_count": 313,
     "metadata": {},
     "output_type": "execute_result"
    }
   ],
   "source": [
    "function inner_dual_infinity_leo(X, y, β0, epsilon, delta)\n",
    "    \n",
    "    #Non-adaptive version, that optimizes wrt CVaR, with OLS, and lasso penalty\n",
    "    #alpha: Risk value\n",
    "    \n",
    "    T, p = size(X)\n",
    "\n",
    "    # Create model\n",
    "    model = Model(with_optimizer(Gurobi.Optimizer))\n",
    "    set_optimizer_attribute(model, \"OutputFlag\", 0)\n",
    "    \n",
    "    # Add variables\n",
    "    @variable(model, λ[i=1:2,j=1:T]>=0) \n",
    "    @variable(model, ν[i=1:2, j=1:T,k=1:p]>=0) \n",
    "    @variable(model, μ[i=1:2, j=1:T,k=1:p]>=0)\n",
    "\n",
    "    # Add objective\n",
    "    @objective(model, Max, dot(λ[1,:],y) - dot(λ[2,:],y) \n",
    "                            - delta * sum(sum(ν[1,t,i]+ν[2,t,i] for i=1:p) for t=1:T)\n",
    "                            - sum(dot(epsilon .+ β0, μ[1,t,:]) for t=1:T)\n",
    "                            + sum(dot(epsilon .- β0, μ[2,t,:]) for t=1:T)\n",
    "        )\n",
    "    \n",
    "    @constraint(model,[t=1:T], λ[1,:] .+ λ[2,:] .== 1)\n",
    "    @constraint(model,[t=1:T-1], X[t,:]*(λ[1,t]-λ[2,t]) .+ μ[2,t,:]-μ[1,t,:]\n",
    "                                            .+ ν[2,t,:]-ν[1,t,:]\n",
    "                                            .+ ν[2,t+1,:]-ν[1,t+1,:] .== 0)\n",
    "    @constraint(model, X[T,:]*(λ[1,T]-λ[2,T]) .+ μ[2,T,:]-μ[1,T,:]\n",
    "                                            .+ ν[2,T,:]-ν[1,T,:] .== 0)\n",
    "\n",
    "    @constraint(model, [i=1:p], ν[1,1,i] == 0)\n",
    "    @constraint(model, [i=1:p], ν[2,1,i] == 0)\n",
    "    \n",
    "    optimize!(model);\n",
    "    \n",
    "    return getvalue.(λ)\n",
    "end"
   ]
  },
  {
   "cell_type": "code",
   "execution_count": 199,
   "id": "9589479c",
   "metadata": {},
   "outputs": [
    {
     "data": {
      "text/plain": [
       "inner_dual_infinity_leo_original_signs (generic function with 1 method)"
      ]
     },
     "execution_count": 199,
     "metadata": {},
     "output_type": "execute_result"
    }
   ],
   "source": [
    "function inner_dual_infinity_leo_original_signs(X, y, β0, epsilon, delta)\n",
    "    \n",
    "    #Non-adaptive version, that optimizes wrt CVaR, with OLS, and lasso penalty\n",
    "    #alpha: Risk value\n",
    "    \n",
    "    T, p = size(X)\n",
    "\n",
    "    # Create model\n",
    "    model = Model(with_optimizer(Gurobi.Optimizer))\n",
    "    #set_optimizer_attribute(model, \"OutputFlag\", 0)\n",
    "    \n",
    "    # Add variables\n",
    "    @variable(model, λ[i=1:2,j=1:T]<=0) \n",
    "    @variable(model, ν[i=1:2, j=1:T,k=1:p]<=0) \n",
    "    @variable(model, μ[i=1:2, j=1:T,k=1:p]<=0)\n",
    "\n",
    "    # Add objective\n",
    "    @objective(model, Max, dot(λ[2,:],y) - dot(λ[1,:],y) \n",
    "                            + delta * sum(sum(ν[1,t,i]+ν[2,t,i] for i=1:p) for t=1:T)\n",
    "                            + sum(dot(epsilon .+ β0, μ[1,t,:]) for t=1:T)\n",
    "                            + sum(dot(epsilon .- β0, μ[2,t,:]) for t=1:T)\n",
    "        )\n",
    "    \n",
    "    @constraint(model,[t=1:T], -λ[1,:] .- λ[2,:] .== 1)\n",
    "    @constraint(model,[t=1:T-1], X[t,:]*(λ[2,t]-λ[1,t]) .+ μ[1,t,:]-μ[2,t,:]\n",
    "                                            .+ ν[1,t,:]-ν[2,t,:]\n",
    "                                            .+ ν[1,t+1,:]-ν[2,t+1,:] .== 0)\n",
    "    @constraint(model, X[T,:]*(λ[2,T]-λ[1,T]) .+ μ[1,T,:]-μ[2,T,:]\n",
    "                                            .+ ν[1,T,:]-ν[2,T,:] .== 0)\n",
    "\n",
    "    @constraint(model, [i=1:p], ν[1,1,i] == 0)\n",
    "    @constraint(model, [i=1:p], ν[2,1,i] == 0)\n",
    "    \n",
    "    optimize!(model);\n",
    "    \n",
    "    return getvalue.(λ)\n",
    "end"
   ]
  },
  {
   "cell_type": "code",
   "execution_count": 97,
   "id": "e11e8169",
   "metadata": {},
   "outputs": [
    {
     "name": "stdout",
     "output_type": "stream",
     "text": [
      "Academic license - for non-commercial use only - expires 2022-07-20\n",
      "Gurobi Optimizer version 9.1.1 build v9.1.1rc0 (mac64)\n",
      "Thread count: 6 physical cores, 12 logical processors, using up to 12 threads\n",
      "Optimize a model with 4 rows, 2 columns and 6 nonzeros\n",
      "Model fingerprint: 0xf1865ffb\n",
      "Coefficient statistics:\n",
      "  Matrix range     [6e-02, 1e+00]\n",
      "  Objective range  [1e+00, 1e+00]\n",
      "  Bounds range     [0e+00, 0e+00]\n",
      "  RHS range        [2e-01, 6e-01]\n",
      "Presolve removed 4 rows and 2 columns\n",
      "Presolve time: 0.00s\n",
      "Presolve: All rows and columns removed\n",
      "Iteration    Objective       Primal Inf.    Dual Inf.      Time\n",
      "       0    6.0374523e-01   0.000000e+00   0.000000e+00      0s\n",
      "\n",
      "Solved in 0 iterations and 0.00 seconds\n",
      "Optimal objective  6.037452260e-01\n",
      "\n",
      "User-callback calls 25, time in user-callback 0.00 sec\n"
     ]
    },
    {
     "data": {
      "text/plain": [
       "(A JuMP Model\n",
       "Minimization problem with:\n",
       "Variables: 2\n",
       "Objective function type: VariableRef\n",
       "`GenericAffExpr{Float64,VariableRef}`-in-`MathOptInterface.LessThan{Float64}`: 4 constraints\n",
       "`VariableRef`-in-`MathOptInterface.GreaterThan{Float64}`: 1 constraint\n",
       "Model mode: AUTOMATIC\n",
       "CachingOptimizer state: ATTACHED_OPTIMIZER\n",
       "Solver name: Gurobi\n",
       "Names registered in the model: b, diff_0_minus, diff_0_plus, diff_minus, diff_plus, res_minus, res_plus, β, [0.3519194308823449])"
      ]
     },
     "execution_count": 97,
     "metadata": {},
     "output_type": "execute_result"
    }
   ],
   "source": [
    "n = 1\n",
    "p = 1\n",
    "X = Random.rand(n,p)\n",
    "#X[:,-1] = np.ones(n)\n",
    "y = Random.rand(n)\n",
    "beta_0 = Random.rand(p)\n",
    "epsilon = 0.1\n",
    "delta = 0.01\n",
    "m, beta = inner_primal_infinity(X,y,beta_0,epsilon,delta)\n",
    "#print(\"Primal 1\", value(m.obj))"
   ]
  },
  {
   "cell_type": "code",
   "execution_count": 98,
   "id": "c91ac7ec",
   "metadata": {},
   "outputs": [
    {
     "data": {
      "text/latex": [
       "$$ \\begin{alignat*}{1}\\min\\quad & b_{1}\\\\\n",
       "\\text{Subject to} \\quad & 0.060896553795155794 β_{1,1} - b_{1} \\leq 0.6251759065090305\\\\\n",
       " & -0.060896553795155794 β_{1,1} - b_{1} \\leq -0.6251759065090305\\\\\n",
       " & β_{1,1} \\leq 0.3519194308823449\\\\\n",
       " & -β_{1,1} \\leq -0.1519194308823449\\\\\n",
       " & b_{1} \\geq 0.0\\\\\n",
       "\\end{alignat*}\n",
       " $$"
      ],
      "text/plain": [
       "A JuMP Model\n",
       "Minimization problem with:\n",
       "Variables: 2\n",
       "Objective function type: VariableRef\n",
       "`GenericAffExpr{Float64,VariableRef}`-in-`MathOptInterface.LessThan{Float64}`: 4 constraints\n",
       "`VariableRef`-in-`MathOptInterface.GreaterThan{Float64}`: 1 constraint\n",
       "Model mode: AUTOMATIC\n",
       "CachingOptimizer state: ATTACHED_OPTIMIZER\n",
       "Solver name: Gurobi\n",
       "Names registered in the model: b, diff_0_minus, diff_0_plus, diff_minus, diff_plus, res_minus, res_plus, β"
      ]
     },
     "execution_count": 98,
     "metadata": {},
     "output_type": "execute_result"
    }
   ],
   "source": [
    "m"
   ]
  },
  {
   "cell_type": "code",
   "execution_count": 83,
   "id": "c716530c",
   "metadata": {},
   "outputs": [
    {
     "data": {
      "text/plain": [
       "inner_primal_infinity (generic function with 1 method)"
      ]
     },
     "execution_count": 83,
     "metadata": {},
     "output_type": "execute_result"
    }
   ],
   "source": [
    "function inner_primal_infinity(X, y, β0, epsilon, delta)\n",
    "    \n",
    "    #Non-adaptive version, that optimizes wrt CVaR, with OLS, and lasso penalty\n",
    "    #alpha: Risk value\n",
    "    \n",
    "    n, p = size(X)\n",
    "\n",
    "    # Create model\n",
    "    model = Model(with_optimizer(Gurobi.Optimizer))\n",
    "\n",
    "    # Add variables\n",
    "    @variable(model, a[i=1:n,j=1:p]) \n",
    "    @variable(model, b[i=1:n]>=0) \n",
    "\n",
    "    # Add objective\n",
    "    @objective(model, Min, sum(b[i] for i=1:n))\n",
    "    \n",
    "    #@constraint(model,[i=1:n], y .- dot(X,β) .<= b)\n",
    "    #@constraint(model,[i=1:n],-y .+ dot(X,β) .<= b)\n",
    "    @constraint(model,[i=1:n],- y[i] + dot(X[i,:],a[i,:]) <= b[i])\n",
    "    @constraint(model,[i=1:n],  y[i] - dot(X[i,:],a[i,:]) <= b[i])\n",
    "\n",
    "    @constraint(model,[i=2:n],   a[i,:] .- a[i-1,:] .<= delta)\n",
    "    @constraint(model,[i=2:n], - a[i,:] .+ a[i-1,:] .<= delta)\n",
    "    \n",
    "    @constraint(model,[i=1:n],   a[i,:] .- β0 .<= epsilon)\n",
    "    @constraint(model,[i=1:n], - a[i,:] .+ β0 .<= epsilon)\n",
    "    \n",
    "    optimize!(model);\n",
    "    \n",
    "    return model, getvalue.(a)\n",
    "end"
   ]
  },
  {
   "cell_type": "code",
   "execution_count": 125,
   "id": "5a95f3ba",
   "metadata": {},
   "outputs": [
    {
     "data": {
      "text/plain": [
       "2-element Array{Float64,1}:\n",
       " 13.0\n",
       " 14.0"
      ]
     },
     "execution_count": 125,
     "metadata": {},
     "output_type": "execute_result"
    }
   ],
   "source": [
    "beta_0"
   ]
  },
  {
   "cell_type": "code",
   "execution_count": 133,
   "id": "398358df",
   "metadata": {},
   "outputs": [
    {
     "data": {
      "text/plain": [
       "3×2 Array{Float64,2}:\n",
       " 0.0863508  0.288636\n",
       " 0.766061   0.586348\n",
       " 0.871986   0.936701"
      ]
     },
     "execution_count": 133,
     "metadata": {},
     "output_type": "execute_result"
    }
   ],
   "source": [
    "Random.rand(n,p)"
   ]
  },
  {
   "cell_type": "code",
   "execution_count": 146,
   "id": "d423e76c",
   "metadata": {},
   "outputs": [
    {
     "data": {
      "text/plain": [
       "3×2 Array{Float64,2}:\n",
       " 1.0  4.0\n",
       " 2.0  5.0\n",
       " 3.0  6.0"
      ]
     },
     "execution_count": 146,
     "metadata": {},
     "output_type": "execute_result"
    }
   ],
   "source": [
    "X"
   ]
  },
  {
   "cell_type": "code",
   "execution_count": 145,
   "id": "85754856",
   "metadata": {},
   "outputs": [
    {
     "name": "stdout",
     "output_type": "stream",
     "text": [
      "Academic license - for non-commercial use only - expires 2022-07-20\n",
      "Gurobi Optimizer version 9.1.1 build v9.1.1rc0 (mac64)\n",
      "Thread count: 6 physical cores, 12 logical processors, using up to 12 threads\n",
      "Optimize a model with 26 rows, 9 columns and 46 nonzeros\n",
      "Model fingerprint: 0xac5b704b\n",
      "Coefficient statistics:\n",
      "  Matrix range     [1e+00, 6e+00]\n",
      "  Objective range  [1e+00, 1e+00]\n",
      "  Bounds range     [0e+00, 0e+00]\n",
      "  RHS range        [1e-02, 1e+01]\n",
      "Presolve removed 26 rows and 9 columns\n",
      "Presolve time: 0.00s\n",
      "Presolve: All rows and columns removed\n",
      "Iteration    Objective       Primal Inf.    Dual Inf.      Time\n",
      "       0    2.5290000e+02   0.000000e+00   0.000000e+00      0s\n",
      "\n",
      "Solved in 0 iterations and 0.00 seconds\n",
      "Optimal objective  2.529000000e+02\n",
      "\n",
      "User-callback calls 28, time in user-callback 0.00 sec\n"
     ]
    },
    {
     "data": {
      "text/plain": [
       "(A JuMP Model\n",
       "Minimization problem with:\n",
       "Variables: 9\n",
       "Objective function type: GenericAffExpr{Float64,VariableRef}\n",
       "`GenericAffExpr{Float64,VariableRef}`-in-`MathOptInterface.LessThan{Float64}`: 26 constraints\n",
       "`VariableRef`-in-`MathOptInterface.GreaterThan{Float64}`: 3 constraints\n",
       "Model mode: AUTOMATIC\n",
       "CachingOptimizer state: ATTACHED_OPTIMIZER\n",
       "Solver name: Gurobi\n",
       "Names registered in the model: b, diff_0_minus, diff_0_plus, diff_minus, diff_plus, res_minus, res_plus, β, [12.9 13.9; 12.9 13.9; 12.9 13.9])"
      ]
     },
     "execution_count": 145,
     "metadata": {},
     "output_type": "execute_result"
    }
   ],
   "source": [
    "n = 3\n",
    "p = 2\n",
    "X = Array([[1., 2., 3.] [4., 5., 6.]])#Random.rand(n,p)\n",
    "#X[:,-1] = np.ones(n)\n",
    "y = Array([10.,11.,12.])#Random.rand(n)\n",
    "beta_0 = Array([13.,14.])#Random.rand(p)\n",
    "epsilon = 0.1\n",
    "delta = 0.01\n",
    "m, beta = inner_primal_infinity(X,y,beta_0,epsilon,delta)\n",
    "#print(\"Primal 1\", value(m.obj))"
   ]
  },
  {
   "cell_type": "code",
   "execution_count": 147,
   "id": "1a1af9da",
   "metadata": {},
   "outputs": [
    {
     "data": {
      "text/latex": [
       "$$ \\begin{alignat*}{1}\\max\\quad & 14.1 noname + 11 noname + 14.1 noname + 0.01 noname - 12.9 noname + 0.01 noname + 0.01 noname - 12.9 noname + 0.01 noname - 13.9 noname + 13.1 noname + 13.1 noname + 0.01 noname - 13.9 noname - 12 noname - 13.9 noname - 10 noname + 12 noname - 11 noname + 14.1 noname - 12.9 noname + 0.01 noname + 0.01 noname + 13.1 noname + 0.01 noname + 10 noname\\\\\n",
       "\\text{Subject to} \\quad & noname - noname - noname + noname + noname - noname = 0.0\\\\\n",
       " & 2 noname - 2 noname + noname - noname - noname + noname + noname - noname = 0.0\\\\\n",
       " & 3 noname - 3 noname + noname - noname + noname - noname = 0.0\\\\\n",
       " & 4 noname - 4 noname - noname + noname + noname - noname = 0.0\\\\\n",
       " & 5 noname - 5 noname + noname - noname - noname + noname + noname - noname = 0.0\\\\\n",
       " & 6 noname - 6 noname + noname - noname + noname - noname = 0.0\\\\\n",
       " & -noname - noname + noname = 1.0\\\\\n",
       " & -noname - noname + noname = 1.0\\\\\n",
       " & -noname - noname + noname = 1.0\\\\\n",
       " & noname \\geq 0.0\\\\\n",
       " & noname \\geq 0.0\\\\\n",
       " & noname \\geq 0.0\\\\\n",
       " & noname \\leq 0.0\\\\\n",
       " & noname \\leq 0.0\\\\\n",
       " & noname \\leq 0.0\\\\\n",
       " & noname \\leq 0.0\\\\\n",
       " & noname \\leq 0.0\\\\\n",
       " & noname \\leq 0.0\\\\\n",
       " & noname \\leq 0.0\\\\\n",
       " & noname \\leq 0.0\\\\\n",
       " & noname \\leq 0.0\\\\\n",
       " & noname \\leq 0.0\\\\\n",
       " & noname \\leq 0.0\\\\\n",
       " & noname \\leq 0.0\\\\\n",
       " & noname \\leq 0.0\\\\\n",
       " & noname \\leq 0.0\\\\\n",
       " & noname \\leq 0.0\\\\\n",
       " & noname \\leq 0.0\\\\\n",
       " & noname \\leq 0.0\\\\\n",
       " & noname \\leq 0.0\\\\\n",
       " & noname \\leq 0.0\\\\\n",
       " & noname \\leq 0.0\\\\\n",
       " & noname \\leq 0.0\\\\\n",
       " & noname \\leq 0.0\\\\\n",
       " & noname \\leq 0.0\\\\\n",
       " & noname \\leq 0.0\\\\\n",
       " & noname \\leq 0.0\\\\\n",
       " & noname \\leq 0.0\\\\\n",
       "\\end{alignat*}\n",
       " $$"
      ],
      "text/plain": [
       "A JuMP Model\n",
       "Maximization problem with:\n",
       "Variables: 29\n",
       "Objective function type: GenericAffExpr{Float64,VariableRef}\n",
       "`GenericAffExpr{Float64,VariableRef}`-in-`MathOptInterface.EqualTo{Float64}`: 9 constraints\n",
       "`VariableRef`-in-`MathOptInterface.GreaterThan{Float64}`: 3 constraints\n",
       "`VariableRef`-in-`MathOptInterface.LessThan{Float64}`: 26 constraints\n",
       "Model mode: AUTOMATIC\n",
       "CachingOptimizer state: NO_OPTIMIZER\n",
       "Solver name: No optimizer attached."
      ]
     },
     "execution_count": 147,
     "metadata": {},
     "output_type": "execute_result"
    }
   ],
   "source": [
    "dual_model = dualize(m)"
   ]
  },
  {
   "cell_type": "code",
   "execution_count": 32,
   "id": "c37a14f5",
   "metadata": {},
   "outputs": [
    {
     "name": "stdout",
     "output_type": "stream",
     "text": [
      "Academic license - for non-commercial use only - expires 2022-07-20\n",
      "Gurobi Optimizer version 9.1.1 build v9.1.1rc0 (mac64)\n",
      "Thread count: 6 physical cores, 12 logical processors, using up to 12 threads\n",
      "Optimize a model with 210 rows, 60 columns and 400 nonzeros\n",
      "Model fingerprint: 0xc48ab349\n",
      "Coefficient statistics:\n",
      "  Matrix range     [2e-03, 1e+00]\n",
      "  Objective range  [1e+00, 1e+00]\n",
      "  Bounds range     [0e+00, 0e+00]\n",
      "  RHS range        [1e-02, 8e-01]\n",
      "Presolve removed 210 rows and 60 columns\n",
      "Presolve time: 0.00s\n",
      "Presolve: All rows and columns removed\n",
      "Iteration    Objective       Primal Inf.    Dual Inf.      Time\n",
      "       0    5.2475641e+00   0.000000e+00   0.000000e+00      0s\n",
      "\n",
      "Solved in 0 iterations and 0.00 seconds\n",
      "Optimal objective  5.247564085e+00\n",
      "\n",
      "User-callback calls 31, time in user-callback 0.00 sec\n"
     ]
    },
    {
     "data": {
      "text/plain": [
       "10×5 Array{Float64,2}:\n",
       " 0.0525981  0.584418  0.534952  0.231315  0.466786\n",
       " 0.0525981  0.584418  0.534952  0.231315  0.466786\n",
       " 0.0525981  0.584418  0.534952  0.231315  0.466786\n",
       " 0.0525981  0.584418  0.534952  0.231315  0.466786\n",
       " 0.0525981  0.584418  0.534952  0.231315  0.466786\n",
       " 0.0525981  0.584418  0.534952  0.231315  0.466786\n",
       " 0.0525981  0.584418  0.534952  0.231315  0.466786\n",
       " 0.0525981  0.584418  0.534952  0.231315  0.466786\n",
       " 0.0525981  0.584418  0.534952  0.231315  0.466786\n",
       " 0.0525981  0.584418  0.534952  0.231315  0.466786"
      ]
     },
     "execution_count": 32,
     "metadata": {},
     "output_type": "execute_result"
    }
   ],
   "source": [
    "beta = inner_primal_infinity(X,y,beta_0,epsilon,delta)"
   ]
  },
  {
   "cell_type": "code",
   "execution_count": null,
   "id": "4a67196c",
   "metadata": {},
   "outputs": [],
   "source": [
    "function l1_regression(X, y, rho)\n",
    "    # number of observations\n",
    "    n = nrow(X)\n",
    "    # number of estimators\n",
    "    m = ncol(X)\n",
    "    \n",
    "    # big M constant. Note big M should be small for l0 to work properly\n",
    "    M = 25\n",
    "    \n",
    "    # convert input data frames to matrix/vector\n",
    "    y_vector = convert(Matrix, y[:,:])\n",
    "    X_matrix = convert(Matrix, X[:,:])\n",
    "    \n",
    "    # build model\n",
    "    model = Model(with_optimizer(Gurobi.Optimizer))\n",
    "    ##### Load Packagesset_optimizer_attribute(model, \"OutputFlag\", 0)\n",
    "    # insert variables and constraints\n",
    "    @variable(model,beta[i=1:m])\n",
    "    @variable(model,z[i=1:m]>=0)\n",
    "    @variable(model,u[i=1:n]>=0)\n",
    "    @variable(model, sse>=0)\n",
    "    @constraint(model,[i=1:m], beta[i]<=z[i])\n",
    "    @constraint(model,[i=1:m], beta[i]>=-z[i])\n",
    "    @constraint(model,[i=1:n],y_vector[i]-dot(X_matrix[i,:],beta)<=u[i])\n",
    "    @constraint(model,[i=1:n],-y_vector[i]+dot(X_matrix[i,:],beta)<=u[i])\n",
    "    @constraint(model, sum(u) <= sse)\n",
    "    @objective(model,Min, sse + rho*sum(z[i] for i=1:m))\n",
    "    \n",
    "    # optimize\n",
    "    optimize!(model);\n",
    "    \n",
    "    z_here = getvalue.(z)\n",
    "    b_here = getvalue.(beta)\n",
    "    # return estimated betas\n",
    "    return (getvalue.(beta))\n",
    "end"
   ]
  }
 ],
 "metadata": {
  "kernelspec": {
   "display_name": "Julia 1.5.3",
   "language": "julia",
   "name": "julia-1.5"
  },
  "language_info": {
   "file_extension": ".jl",
   "mimetype": "application/julia",
   "name": "julia",
   "version": "1.5.3"
  }
 },
 "nbformat": 4,
 "nbformat_minor": 5
}
