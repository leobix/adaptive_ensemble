{
 "cells": [
  {
   "cell_type": "code",
   "execution_count": 9,
   "id": "7fa61149",
   "metadata": {},
   "outputs": [],
   "source": [
    "using JuMP, Gurobi, Random"
   ]
  },
  {
   "cell_type": "code",
   "execution_count": 19,
   "id": "d1ed560c",
   "metadata": {},
   "outputs": [],
   "source": [
    "using JuMP, Gurobi, StatsBase, DataFrames, CSV, LinearAlgebra, Distributions, Random"
   ]
  },
  {
   "cell_type": "code",
   "execution_count": 57,
   "id": "f86f3957",
   "metadata": {},
   "outputs": [
    {
     "name": "stderr",
     "output_type": "stream",
     "text": [
      "┌ Info: Precompiling Dualization [191a621a-6537-11e9-281d-650236a99e60]\n",
      "└ @ Base loading.jl:1278\n"
     ]
    }
   ],
   "source": [
    "using Dualization"
   ]
  },
  {
   "cell_type": "code",
   "execution_count": 56,
   "id": "68fff3db",
   "metadata": {},
   "outputs": [
    {
     "name": "stderr",
     "output_type": "stream",
     "text": [
      "\u001b[32m\u001b[1m   Updating\u001b[22m\u001b[39m registry at `~/.julia/registries/General`\n",
      "######################################################################### 100.0%\n",
      "\u001b[32m\u001b[1m  Resolving\u001b[22m\u001b[39m package versions...\n",
      "\u001b[32m\u001b[1m  Installed\u001b[22m\u001b[39m Dualization ─ v0.3.4\n",
      "\u001b[32m\u001b[1mUpdating\u001b[22m\u001b[39m `~/.julia/environments/v1.5/Project.toml`\n",
      " \u001b[90m [191a621a] \u001b[39m\u001b[92m+ Dualization v0.3.4\u001b[39m\n",
      "\u001b[32m\u001b[1mUpdating\u001b[22m\u001b[39m `~/.julia/environments/v1.5/Manifest.toml`\n",
      " \u001b[90m [191a621a] \u001b[39m\u001b[92m+ Dualization v0.3.4\u001b[39m\n"
     ]
    }
   ],
   "source": [
    "import Pkg; Pkg.add(\"Dualization\")"
   ]
  },
  {
   "cell_type": "code",
   "execution_count": 306,
   "id": "03f6de5c",
   "metadata": {},
   "outputs": [
    {
     "data": {
      "text/plain": [
       "inner_primal_infinity (generic function with 1 method)"
      ]
     },
     "execution_count": 306,
     "metadata": {},
     "output_type": "execute_result"
    }
   ],
   "source": [
    "function inner_primal_infinity(X, y, β0, epsilon, delta)\n",
    "    \n",
    "    #Non-adaptive version, that optimizes wrt CVaR, with OLS, and lasso penalty\n",
    "    #alpha: Risk value\n",
    "    \n",
    "    n, p = size(X)\n",
    "\n",
    "    # Create model\n",
    "    model = Model(with_optimizer(Gurobi.Optimizer))\n",
    "    set_optimizer_attribute(model, \"OutputFlag\", 0)\n",
    "\n",
    "    # Add variables\n",
    "    @variable(model, β[i=1:n,j=1:p]) \n",
    "    @variable(model, b[i=1:n]>=0) \n",
    "\n",
    "    # Add objective\n",
    "    @objective(model, Min, sum(b[i] for i=1:n))\n",
    "    \n",
    "    #@constraint(model,[i=1:n], y .- dot(X,β) .<= b)\n",
    "    #@constraint(model,[i=1:n],-y .+ dot(X,β) .<= b)\n",
    "    @constraint(model, res_plus[i=1:n],  - y[i] + dot(X[i,:],β[i,:]) <= b[i])\n",
    "    @constraint(model, res_minus[i=1:n],  y[i] - dot(X[i,:],β[i,:]) <= b[i])\n",
    "\n",
    "    @constraint(model, diff_plus[i=2:n],   β[i,:] .- β[i-1,:] .<= delta)\n",
    "    @constraint(model, diff_minus[i=2:n], - β[i,:] .+ β[i-1,:] .<= delta)\n",
    "    \n",
    "    @constraint(model, diff_0_plus[i=1:n],   β[i,:] .- β0 .<= epsilon)\n",
    "    @constraint(model, diff_0_minus[i=1:n], - β[i,:] .+ β0 .<= epsilon)\n",
    "    \n",
    "    optimize!(model);\n",
    "    \n",
    "    return model, getvalue.(β)\n",
    "end"
   ]
  },
  {
   "cell_type": "code",
   "execution_count": 277,
   "id": "9cc68451",
   "metadata": {},
   "outputs": [
    {
     "data": {
      "text/plain": [
       "10-element Array{Float64,1}:\n",
       " 0.791563863554702\n",
       " 0.5796189138571763\n",
       " 0.9100579881453945\n",
       " 0.5056536604729605\n",
       " 0.7719481674585646\n",
       " 0.7102191914978586\n",
       " 0.0965590441026678\n",
       " 0.7283500723140499\n",
       " 0.22105848314216003\n",
       " 0.6861513606223042"
      ]
     },
     "execution_count": 277,
     "metadata": {},
     "output_type": "execute_result"
    }
   ],
   "source": [
    "Z = get_Z(X)\n",
    "λ = Random.rand(n)"
   ]
  },
  {
   "cell_type": "code",
   "execution_count": 279,
   "id": "fce0533c",
   "metadata": {},
   "outputs": [
    {
     "data": {
      "text/plain": [
       "10×30 Array{Float64,2}:\n",
       " 0.231457  0.99787  0.236804  0.0       …  0.0       0.0       0.0\n",
       " 0.0       0.0      0.0       0.935695     0.0       0.0       0.0\n",
       " 0.0       0.0      0.0       0.0          0.0       0.0       0.0\n",
       " 0.0       0.0      0.0       0.0          0.0       0.0       0.0\n",
       " 0.0       0.0      0.0       0.0          0.0       0.0       0.0\n",
       " 0.0       0.0      0.0       0.0       …  0.0       0.0       0.0\n",
       " 0.0       0.0      0.0       0.0          0.0       0.0       0.0\n",
       " 0.0       0.0      0.0       0.0          0.0       0.0       0.0\n",
       " 0.0       0.0      0.0       0.0          0.0       0.0       0.0\n",
       " 0.0       0.0      0.0       0.0          0.191178  0.136631  0.889505"
      ]
     },
     "execution_count": 279,
     "metadata": {},
     "output_type": "execute_result"
    }
   ],
   "source": [
    "Z"
   ]
  },
  {
   "cell_type": "code",
   "execution_count": 281,
   "id": "27a721bf",
   "metadata": {},
   "outputs": [
    {
     "data": {
      "text/plain": [
       "1×30 Transpose{Float64,Array{Float64,1}}:\n",
       " 0.183213  0.789878  0.187445  0.542346  …  0.131177  0.0937494  0.610335"
      ]
     },
     "execution_count": 281,
     "metadata": {},
     "output_type": "execute_result"
    }
   ],
   "source": [
    "transpose(λ)*Z"
   ]
  },
  {
   "cell_type": "code",
   "execution_count": 343,
   "id": "52a1d24e",
   "metadata": {},
   "outputs": [
    {
     "data": {
      "text/plain": [
       "inner_dual_infinity_shuvo (generic function with 1 method)"
      ]
     },
     "execution_count": 343,
     "metadata": {},
     "output_type": "execute_result"
    }
   ],
   "source": [
    "function inner_dual_infinity_shuvo(X, y, β0, epsilon, delta)\n",
    "    \n",
    "    #Non-adaptive version, that optimizes wrt CVaR, with OLS, and lasso penalty\n",
    "    #alpha: Risk value\n",
    "    \n",
    "    T, p = size(X)\n",
    "    Z = get_Z(X)\n",
    "    \n",
    "    # Create model\n",
    "    model = Model(with_optimizer(Gurobi.Optimizer))\n",
    "    set_optimizer_attribute(model, \"OutputFlag\", 0)\n",
    "    \n",
    "    # Add variables\n",
    "    @variable(model, λ[i=1:2, j=1:T] >= 0) \n",
    "    @variable(model, ν[i=1:2, j=1:T-1, k=1:p]>=0) \n",
    "    @variable(model, μ[i=1:2, j=1:T, k=1:p]>=0)\n",
    "\n",
    "    # Add objective\n",
    "    @objective(model, Max, dot(λ[1,:],y) - dot(λ[2,:],y) \n",
    "                            - delta * sum(sum(ν[1,t,i]+ν[2,t,i] for i=1:p) for t=1:T-1)\n",
    "                            - sum(dot(epsilon .+ β0, μ[1,t,:]) for t = 1:T)\n",
    "                            + sum(dot(epsilon .- β0, μ[2,t,:]) for t = 1:T))\n",
    "    \n",
    "    @constraint(model,[t=1:T], λ[1,:] .+ λ[2,:] .== 1)\n",
    "        \n",
    "        \n",
    "    @constraint(model, transpose(λ[2,:])*Z-transpose(λ[1,:])*Z \n",
    "                        + sum(transpose(ν[1,t,:])*(get_A(X, t+1).-get_A(X, t)) for t=1:T-1)\n",
    "                        + sum(transpose(ν[2,t,:])*(-get_A(X, t+1).+get_A(X, t)) for t=1:T-1)\n",
    "                        + sum(transpose(μ[1,t,:])*get_A(X,t) for t=1:T)\n",
    "                        - sum(transpose(μ[2,t,:])*get_A(X,t) for t=1:T) .== 0)\n",
    "    \n",
    "    \n",
    "    optimize!(model);\n",
    "    \n",
    "    return model\n",
    "end"
   ]
  },
  {
   "cell_type": "code",
   "execution_count": 344,
   "id": "4ddebbd2",
   "metadata": {},
   "outputs": [
    {
     "name": "stdout",
     "output_type": "stream",
     "text": [
      "Academic license - for non-commercial use only - expires 2022-07-20\n",
      "Obj value Dual:0.08329960556174407Academic license - for non-commercial use only - expires 2022-07-20\n",
      "Obj value Primal:0.08329960556174407"
     ]
    }
   ],
   "source": [
    "n = 30\n",
    "p = 6\n",
    "X = Random.rand(n,p)\n",
    "#X[:,-1] = np.ones(n)\n",
    "y = Random.rand(n)\n",
    "beta_0 = Random.rand(p)\n",
    "epsilon = 0.1\n",
    "delta = 0.1\n",
    "#beta = inner_dual_infinity_leo_original_signs(X,y,beta_0,epsilon,delta)\n",
    "#beta = inner_dual_infinity_leo(X,y,beta_0,epsilon,delta)\n",
    "model = inner_dual_infinity_shuvo(X,y,beta_0,epsilon,delta)\n",
    "print(\"Obj value Dual:\", objective_value(model))\n",
    "\n",
    "#model = inner_dual_infinity_leo(X,y,beta_0,epsilon,delta)\n",
    "#print(\"Obj value Dual Leo:\", objective_value(model))\n",
    "\n",
    "m, beta = inner_primal_infinity(X,y,beta_0,epsilon,delta)\n",
    "print(\"Obj value Primal:\", objective_value(model))\n",
    "\n",
    "#print(\"Primal 1\", value(m.obj))"
   ]
  },
  {
   "cell_type": "code",
   "execution_count": 302,
   "id": "17f84f9f",
   "metadata": {},
   "outputs": [
    {
     "data": {
      "text/plain": [
       "0.5917642668061699"
      ]
     },
     "execution_count": 302,
     "metadata": {},
     "output_type": "execute_result"
    }
   ],
   "source": [
    "objective_value(model)"
   ]
  },
  {
   "cell_type": "code",
   "execution_count": 249,
   "id": "2ccb9c4a",
   "metadata": {},
   "outputs": [
    {
     "data": {
      "text/plain": [
       "1×20 Array{Float64,2}:\n",
       " 0.0  0.0  0.0  0.0  0.460026  0.24066  …  0.0  0.0  0.0  0.0  0.0  0.0  0.0"
      ]
     },
     "execution_count": 249,
     "metadata": {},
     "output_type": "execute_result"
    }
   ],
   "source": [
    "e = zeros((1,10*2))\n",
    "e[5:10] = Random.rand((6))\n",
    "e"
   ]
  },
  {
   "cell_type": "code",
   "execution_count": 250,
   "id": "29c8601e",
   "metadata": {},
   "outputs": [
    {
     "data": {
      "text/plain": [
       "get_Y (generic function with 1 method)"
      ]
     },
     "execution_count": 250,
     "metadata": {},
     "output_type": "execute_result"
    }
   ],
   "source": [
    "function get_Y(X, t)\n",
    "    T, p = size(X)\n",
    "    Y = zeros(1,T*p)\n",
    "    Y[(t-1)*p+1:t*p] = X[t,:]\n",
    "    return Y\n",
    "end"
   ]
  },
  {
   "cell_type": "code",
   "execution_count": 255,
   "id": "98bb27fc",
   "metadata": {},
   "outputs": [
    {
     "data": {
      "text/plain": [
       "get_Z (generic function with 1 method)"
      ]
     },
     "execution_count": 255,
     "metadata": {},
     "output_type": "execute_result"
    }
   ],
   "source": [
    "function get_Z(X)\n",
    "    T, p = size(X)\n",
    "    Z = zeros(T, T*p)\n",
    "    for t=1:T\n",
    "        Z[t,:] = get_Y(X,t)\n",
    "    end\n",
    "    return Z\n",
    "end"
   ]
  },
  {
   "cell_type": "code",
   "execution_count": 271,
   "id": "ae8c1bfe",
   "metadata": {},
   "outputs": [
    {
     "data": {
      "text/plain": [
       "3×30 Array{Float64,2}:\n",
       " 1.0  0.0  0.0  -1.0   0.0   0.0  0.0  …  0.0  0.0  0.0  0.0  0.0  0.0  0.0\n",
       " 0.0  1.0  0.0   0.0  -1.0   0.0  0.0     0.0  0.0  0.0  0.0  0.0  0.0  0.0\n",
       " 0.0  0.0  1.0   0.0   0.0  -1.0  0.0     0.0  0.0  0.0  0.0  0.0  0.0  0.0"
      ]
     },
     "execution_count": 271,
     "metadata": {},
     "output_type": "execute_result"
    }
   ],
   "source": [
    "get_A(X,1).-get_A(X,2)"
   ]
  },
  {
   "cell_type": "code",
   "execution_count": 266,
   "id": "72191563",
   "metadata": {},
   "outputs": [
    {
     "data": {
      "text/plain": [
       "3×3 Array{Int64,2}:\n",
       " 1  0  0\n",
       " 0  1  0\n",
       " 0  0  1"
      ]
     },
     "execution_count": 266,
     "metadata": {},
     "output_type": "execute_result"
    }
   ],
   "source": [
    "1 * Matrix(I, p, p)"
   ]
  },
  {
   "cell_type": "code",
   "execution_count": 269,
   "id": "3f27b270",
   "metadata": {},
   "outputs": [
    {
     "data": {
      "text/plain": [
       "get_A (generic function with 1 method)"
      ]
     },
     "execution_count": 269,
     "metadata": {},
     "output_type": "execute_result"
    }
   ],
   "source": [
    "function get_A(X, t)\n",
    "    T, p = size(X)\n",
    "    A = zeros(p,T*p)\n",
    "    A[:,(t-1)*p+1:t*p] = 1 * Matrix(I, p, p)\n",
    "    return A\n",
    "end"
   ]
  },
  {
   "cell_type": "code",
   "execution_count": 268,
   "id": "ec220bc3",
   "metadata": {},
   "outputs": [
    {
     "data": {
      "text/plain": [
       "3×30 Array{Float64,2}:\n",
       " 1.0  0.0  0.0  0.0  0.0  0.0  0.0  0.0  …  0.0  0.0  0.0  0.0  0.0  0.0  0.0\n",
       " 0.0  1.0  0.0  0.0  0.0  0.0  0.0  0.0     0.0  0.0  0.0  0.0  0.0  0.0  0.0\n",
       " 0.0  0.0  1.0  0.0  0.0  0.0  0.0  0.0     0.0  0.0  0.0  0.0  0.0  0.0  0.0"
      ]
     },
     "execution_count": 268,
     "metadata": {},
     "output_type": "execute_result"
    }
   ],
   "source": [
    "get_A(X,1)"
   ]
  },
  {
   "cell_type": "code",
   "execution_count": 313,
   "id": "07c737db",
   "metadata": {},
   "outputs": [
    {
     "data": {
      "text/plain": [
       "inner_dual_infinity_leo (generic function with 1 method)"
      ]
     },
     "execution_count": 313,
     "metadata": {},
     "output_type": "execute_result"
    }
   ],
   "source": [
    "function inner_dual_infinity_leo(X, y, β0, epsilon, delta)\n",
    "    \n",
    "    #Non-adaptive version, that optimizes wrt CVaR, with OLS, and lasso penalty\n",
    "    #alpha: Risk value\n",
    "    \n",
    "    T, p = size(X)\n",
    "\n",
    "    # Create model\n",
    "    model = Model(with_optimizer(Gurobi.Optimizer))\n",
    "    set_optimizer_attribute(model, \"OutputFlag\", 0)\n",
    "    \n",
    "    # Add variables\n",
    "    @variable(model, λ[i=1:2,j=1:T]>=0) \n",
    "    @variable(model, ν[i=1:2, j=1:T,k=1:p]>=0) \n",
    "    @variable(model, μ[i=1:2, j=1:T,k=1:p]>=0)\n",
    "\n",
    "    # Add objective\n",
    "    @objective(model, Max, dot(λ[1,:],y) - dot(λ[2,:],y) \n",
    "                            - delta * sum(sum(ν[1,t,i]+ν[2,t,i] for i=1:p) for t=1:T)\n",
    "                            - sum(dot(epsilon .+ β0, μ[1,t,:]) for t=1:T)\n",
    "                            + sum(dot(epsilon .- β0, μ[2,t,:]) for t=1:T)\n",
    "        )\n",
    "    \n",
    "    @constraint(model,[t=1:T], λ[1,:] .+ λ[2,:] .== 1)\n",
    "    @constraint(model,[t=1:T-1], X[t,:]*(λ[1,t]-λ[2,t]) .+ μ[2,t,:]-μ[1,t,:]\n",
    "                                            .+ ν[2,t,:]-ν[1,t,:]\n",
    "                                            .+ ν[2,t+1,:]-ν[1,t+1,:] .== 0)\n",
    "    @constraint(model, X[T,:]*(λ[1,T]-λ[2,T]) .+ μ[2,T,:]-μ[1,T,:]\n",
    "                                            .+ ν[2,T,:]-ν[1,T,:] .== 0)\n",
    "\n",
    "    @constraint(model, [i=1:p], ν[1,1,i] == 0)\n",
    "    @constraint(model, [i=1:p], ν[2,1,i] == 0)\n",
    "    \n",
    "    optimize!(model);\n",
    "    \n",
    "    return getvalue.(λ)\n",
    "end"
   ]
  },
  {
   "cell_type": "code",
   "execution_count": 199,
   "id": "5f1c4e7c",
   "metadata": {},
   "outputs": [
    {
     "data": {
      "text/plain": [
       "inner_dual_infinity_leo_original_signs (generic function with 1 method)"
      ]
     },
     "execution_count": 199,
     "metadata": {},
     "output_type": "execute_result"
    }
   ],
   "source": [
    "function inner_dual_infinity_leo_original_signs(X, y, β0, epsilon, delta)\n",
    "    \n",
    "    #Non-adaptive version, that optimizes wrt CVaR, with OLS, and lasso penalty\n",
    "    #alpha: Risk value\n",
    "    \n",
    "    T, p = size(X)\n",
    "\n",
    "    # Create model\n",
    "    model = Model(with_optimizer(Gurobi.Optimizer))\n",
    "    #set_optimizer_attribute(model, \"OutputFlag\", 0)\n",
    "    \n",
    "    # Add variables\n",
    "    @variable(model, λ[i=1:2,j=1:T]<=0) \n",
    "    @variable(model, ν[i=1:2, j=1:T,k=1:p]<=0) \n",
    "    @variable(model, μ[i=1:2, j=1:T,k=1:p]<=0)\n",
    "\n",
    "    # Add objective\n",
    "    @objective(model, Max, dot(λ[2,:],y) - dot(λ[1,:],y) \n",
    "                            + delta * sum(sum(ν[1,t,i]+ν[2,t,i] for i=1:p) for t=1:T)\n",
    "                            + sum(dot(epsilon .+ β0, μ[1,t,:]) for t=1:T)\n",
    "                            + sum(dot(epsilon .- β0, μ[2,t,:]) for t=1:T)\n",
    "        )\n",
    "    \n",
    "    @constraint(model,[t=1:T], -λ[1,:] .- λ[2,:] .== 1)\n",
    "    @constraint(model,[t=1:T-1], X[t,:]*(λ[2,t]-λ[1,t]) .+ μ[1,t,:]-μ[2,t,:]\n",
    "                                            .+ ν[1,t,:]-ν[2,t,:]\n",
    "                                            .+ ν[1,t+1,:]-ν[2,t+1,:] .== 0)\n",
    "    @constraint(model, X[T,:]*(λ[2,T]-λ[1,T]) .+ μ[1,T,:]-μ[2,T,:]\n",
    "                                            .+ ν[1,T,:]-ν[2,T,:] .== 0)\n",
    "\n",
    "    @constraint(model, [i=1:p], ν[1,1,i] == 0)\n",
    "    @constraint(model, [i=1:p], ν[2,1,i] == 0)\n",
    "    \n",
    "    optimize!(model);\n",
    "    \n",
    "    return getvalue.(λ)\n",
    "end"
   ]
  },
  {
   "cell_type": "code",
   "execution_count": 97,
   "id": "29d72c7b",
   "metadata": {},
   "outputs": [
    {
     "name": "stdout",
     "output_type": "stream",
     "text": [
      "Academic license - for non-commercial use only - expires 2022-07-20\n",
      "Gurobi Optimizer version 9.1.1 build v9.1.1rc0 (mac64)\n",
      "Thread count: 6 physical cores, 12 logical processors, using up to 12 threads\n",
      "Optimize a model with 4 rows, 2 columns and 6 nonzeros\n",
      "Model fingerprint: 0xf1865ffb\n",
      "Coefficient statistics:\n",
      "  Matrix range     [6e-02, 1e+00]\n",
      "  Objective range  [1e+00, 1e+00]\n",
      "  Bounds range     [0e+00, 0e+00]\n",
      "  RHS range        [2e-01, 6e-01]\n",
      "Presolve removed 4 rows and 2 columns\n",
      "Presolve time: 0.00s\n",
      "Presolve: All rows and columns removed\n",
      "Iteration    Objective       Primal Inf.    Dual Inf.      Time\n",
      "       0    6.0374523e-01   0.000000e+00   0.000000e+00      0s\n",
      "\n",
      "Solved in 0 iterations and 0.00 seconds\n",
      "Optimal objective  6.037452260e-01\n",
      "\n",
      "User-callback calls 25, time in user-callback 0.00 sec\n"
     ]
    },
    {
     "data": {
      "text/plain": [
       "(A JuMP Model\n",
       "Minimization problem with:\n",
       "Variables: 2\n",
       "Objective function type: VariableRef\n",
       "`GenericAffExpr{Float64,VariableRef}`-in-`MathOptInterface.LessThan{Float64}`: 4 constraints\n",
       "`VariableRef`-in-`MathOptInterface.GreaterThan{Float64}`: 1 constraint\n",
       "Model mode: AUTOMATIC\n",
       "CachingOptimizer state: ATTACHED_OPTIMIZER\n",
       "Solver name: Gurobi\n",
       "Names registered in the model: b, diff_0_minus, diff_0_plus, diff_minus, diff_plus, res_minus, res_plus, β, [0.3519194308823449])"
      ]
     },
     "execution_count": 97,
     "metadata": {},
     "output_type": "execute_result"
    }
   ],
   "source": [
    "n = 1\n",
    "p = 1\n",
    "X = Random.rand(n,p)\n",
    "#X[:,-1] = np.ones(n)\n",
    "y = Random.rand(n)\n",
    "beta_0 = Random.rand(p)\n",
    "epsilon = 0.1\n",
    "delta = 0.01\n",
    "m, beta = inner_primal_infinity(X,y,beta_0,epsilon,delta)\n",
    "#print(\"Primal 1\", value(m.obj))"
   ]
  },
  {
   "cell_type": "code",
   "execution_count": 98,
   "id": "f37dbfec",
   "metadata": {},
   "outputs": [
    {
     "data": {
      "text/latex": [
       "$$ \\begin{alignat*}{1}\\min\\quad & b_{1}\\\\\n",
       "\\text{Subject to} \\quad & 0.060896553795155794 β_{1,1} - b_{1} \\leq 0.6251759065090305\\\\\n",
       " & -0.060896553795155794 β_{1,1} - b_{1} \\leq -0.6251759065090305\\\\\n",
       " & β_{1,1} \\leq 0.3519194308823449\\\\\n",
       " & -β_{1,1} \\leq -0.1519194308823449\\\\\n",
       " & b_{1} \\geq 0.0\\\\\n",
       "\\end{alignat*}\n",
       " $$"
      ],
      "text/plain": [
       "A JuMP Model\n",
       "Minimization problem with:\n",
       "Variables: 2\n",
       "Objective function type: VariableRef\n",
       "`GenericAffExpr{Float64,VariableRef}`-in-`MathOptInterface.LessThan{Float64}`: 4 constraints\n",
       "`VariableRef`-in-`MathOptInterface.GreaterThan{Float64}`: 1 constraint\n",
       "Model mode: AUTOMATIC\n",
       "CachingOptimizer state: ATTACHED_OPTIMIZER\n",
       "Solver name: Gurobi\n",
       "Names registered in the model: b, diff_0_minus, diff_0_plus, diff_minus, diff_plus, res_minus, res_plus, β"
      ]
     },
     "execution_count": 98,
     "metadata": {},
     "output_type": "execute_result"
    }
   ],
   "source": [
    "m"
   ]
  },
  {
   "cell_type": "code",
   "execution_count": 83,
   "id": "a703ed75",
   "metadata": {},
   "outputs": [
    {
     "data": {
      "text/plain": [
       "inner_primal_infinity (generic function with 1 method)"
      ]
     },
     "execution_count": 83,
     "metadata": {},
     "output_type": "execute_result"
    }
   ],
   "source": [
    "function inner_primal_infinity(X, y, β0, epsilon, delta)\n",
    "    \n",
    "    #Non-adaptive version, that optimizes wrt CVaR, with OLS, and lasso penalty\n",
    "    #alpha: Risk value\n",
    "    \n",
    "    n, p = size(X)\n",
    "\n",
    "    # Create model\n",
    "    model = Model(with_optimizer(Gurobi.Optimizer))\n",
    "\n",
    "    # Add variables\n",
    "    @variable(model, a[i=1:n,j=1:p]) \n",
    "    @variable(model, b[i=1:n]>=0) \n",
    "\n",
    "    # Add objective\n",
    "    @objective(model, Min, sum(b[i] for i=1:n))\n",
    "    \n",
    "    #@constraint(model,[i=1:n], y .- dot(X,β) .<= b)\n",
    "    #@constraint(model,[i=1:n],-y .+ dot(X,β) .<= b)\n",
    "    @constraint(model,[i=1:n],- y[i] + dot(X[i,:],a[i,:]) <= b[i])\n",
    "    @constraint(model,[i=1:n],  y[i] - dot(X[i,:],a[i,:]) <= b[i])\n",
    "\n",
    "    @constraint(model,[i=2:n],   a[i,:] .- a[i-1,:] .<= delta)\n",
    "    @constraint(model,[i=2:n], - a[i,:] .+ a[i-1,:] .<= delta)\n",
    "    \n",
    "    @constraint(model,[i=1:n],   a[i,:] .- β0 .<= epsilon)\n",
    "    @constraint(model,[i=1:n], - a[i,:] .+ β0 .<= epsilon)\n",
    "    \n",
    "    optimize!(model);\n",
    "    \n",
    "    return model, getvalue.(a)\n",
    "end"
   ]
  },
  {
   "cell_type": "code",
   "execution_count": 125,
   "id": "c0b7eda6",
   "metadata": {},
   "outputs": [
    {
     "data": {
      "text/plain": [
       "2-element Array{Float64,1}:\n",
       " 13.0\n",
       " 14.0"
      ]
     },
     "execution_count": 125,
     "metadata": {},
     "output_type": "execute_result"
    }
   ],
   "source": [
    "beta_0"
   ]
  },
  {
   "cell_type": "code",
   "execution_count": 133,
   "id": "bb0a4c2c",
   "metadata": {},
   "outputs": [
    {
     "data": {
      "text/plain": [
       "3×2 Array{Float64,2}:\n",
       " 0.0863508  0.288636\n",
       " 0.766061   0.586348\n",
       " 0.871986   0.936701"
      ]
     },
     "execution_count": 133,
     "metadata": {},
     "output_type": "execute_result"
    }
   ],
   "source": [
    "Random.rand(n,p)"
   ]
  },
  {
   "cell_type": "code",
   "execution_count": 146,
   "id": "f13ccdbc",
   "metadata": {},
   "outputs": [
    {
     "data": {
      "text/plain": [
       "3×2 Array{Float64,2}:\n",
       " 1.0  4.0\n",
       " 2.0  5.0\n",
       " 3.0  6.0"
      ]
     },
     "execution_count": 146,
     "metadata": {},
     "output_type": "execute_result"
    }
   ],
   "source": [
    "X"
   ]
  },
  {
   "cell_type": "code",
   "execution_count": 145,
   "id": "61a92734",
   "metadata": {},
   "outputs": [
    {
     "name": "stdout",
     "output_type": "stream",
     "text": [
      "Academic license - for non-commercial use only - expires 2022-07-20\n",
      "Gurobi Optimizer version 9.1.1 build v9.1.1rc0 (mac64)\n",
      "Thread count: 6 physical cores, 12 logical processors, using up to 12 threads\n",
      "Optimize a model with 26 rows, 9 columns and 46 nonzeros\n",
      "Model fingerprint: 0xac5b704b\n",
      "Coefficient statistics:\n",
      "  Matrix range     [1e+00, 6e+00]\n",
      "  Objective range  [1e+00, 1e+00]\n",
      "  Bounds range     [0e+00, 0e+00]\n",
      "  RHS range        [1e-02, 1e+01]\n",
      "Presolve removed 26 rows and 9 columns\n",
      "Presolve time: 0.00s\n",
      "Presolve: All rows and columns removed\n",
      "Iteration    Objective       Primal Inf.    Dual Inf.      Time\n",
      "       0    2.5290000e+02   0.000000e+00   0.000000e+00      0s\n",
      "\n",
      "Solved in 0 iterations and 0.00 seconds\n",
      "Optimal objective  2.529000000e+02\n",
      "\n",
      "User-callback calls 28, time in user-callback 0.00 sec\n"
     ]
    },
    {
     "data": {
      "text/plain": [
       "(A JuMP Model\n",
       "Minimization problem with:\n",
       "Variables: 9\n",
       "Objective function type: GenericAffExpr{Float64,VariableRef}\n",
       "`GenericAffExpr{Float64,VariableRef}`-in-`MathOptInterface.LessThan{Float64}`: 26 constraints\n",
       "`VariableRef`-in-`MathOptInterface.GreaterThan{Float64}`: 3 constraints\n",
       "Model mode: AUTOMATIC\n",
       "CachingOptimizer state: ATTACHED_OPTIMIZER\n",
       "Solver name: Gurobi\n",
       "Names registered in the model: b, diff_0_minus, diff_0_plus, diff_minus, diff_plus, res_minus, res_plus, β, [12.9 13.9; 12.9 13.9; 12.9 13.9])"
      ]
     },
     "execution_count": 145,
     "metadata": {},
     "output_type": "execute_result"
    }
   ],
   "source": [
    "n = 3\n",
    "p = 2\n",
    "X = Array([[1., 2., 3.] [4., 5., 6.]])#Random.rand(n,p)\n",
    "#X[:,-1] = np.ones(n)\n",
    "y = Array([10.,11.,12.])#Random.rand(n)\n",
    "beta_0 = Array([13.,14.])#Random.rand(p)\n",
    "epsilon = 0.1\n",
    "delta = 0.01\n",
    "m, beta = inner_primal_infinity(X,y,beta_0,epsilon,delta)\n",
    "#print(\"Primal 1\", value(m.obj))"
   ]
  },
  {
   "cell_type": "code",
   "execution_count": 147,
   "id": "441863f9",
   "metadata": {},
   "outputs": [
    {
     "data": {
      "text/latex": [
       "$$ \\begin{alignat*}{1}\\max\\quad & 14.1 noname + 11 noname + 14.1 noname + 0.01 noname - 12.9 noname + 0.01 noname + 0.01 noname - 12.9 noname + 0.01 noname - 13.9 noname + 13.1 noname + 13.1 noname + 0.01 noname - 13.9 noname - 12 noname - 13.9 noname - 10 noname + 12 noname - 11 noname + 14.1 noname - 12.9 noname + 0.01 noname + 0.01 noname + 13.1 noname + 0.01 noname + 10 noname\\\\\n",
       "\\text{Subject to} \\quad & noname - noname - noname + noname + noname - noname = 0.0\\\\\n",
       " & 2 noname - 2 noname + noname - noname - noname + noname + noname - noname = 0.0\\\\\n",
       " & 3 noname - 3 noname + noname - noname + noname - noname = 0.0\\\\\n",
       " & 4 noname - 4 noname - noname + noname + noname - noname = 0.0\\\\\n",
       " & 5 noname - 5 noname + noname - noname - noname + noname + noname - noname = 0.0\\\\\n",
       " & 6 noname - 6 noname + noname - noname + noname - noname = 0.0\\\\\n",
       " & -noname - noname + noname = 1.0\\\\\n",
       " & -noname - noname + noname = 1.0\\\\\n",
       " & -noname - noname + noname = 1.0\\\\\n",
       " & noname \\geq 0.0\\\\\n",
       " & noname \\geq 0.0\\\\\n",
       " & noname \\geq 0.0\\\\\n",
       " & noname \\leq 0.0\\\\\n",
       " & noname \\leq 0.0\\\\\n",
       " & noname \\leq 0.0\\\\\n",
       " & noname \\leq 0.0\\\\\n",
       " & noname \\leq 0.0\\\\\n",
       " & noname \\leq 0.0\\\\\n",
       " & noname \\leq 0.0\\\\\n",
       " & noname \\leq 0.0\\\\\n",
       " & noname \\leq 0.0\\\\\n",
       " & noname \\leq 0.0\\\\\n",
       " & noname \\leq 0.0\\\\\n",
       " & noname \\leq 0.0\\\\\n",
       " & noname \\leq 0.0\\\\\n",
       " & noname \\leq 0.0\\\\\n",
       " & noname \\leq 0.0\\\\\n",
       " & noname \\leq 0.0\\\\\n",
       " & noname \\leq 0.0\\\\\n",
       " & noname \\leq 0.0\\\\\n",
       " & noname \\leq 0.0\\\\\n",
       " & noname \\leq 0.0\\\\\n",
       " & noname \\leq 0.0\\\\\n",
       " & noname \\leq 0.0\\\\\n",
       " & noname \\leq 0.0\\\\\n",
       " & noname \\leq 0.0\\\\\n",
       " & noname \\leq 0.0\\\\\n",
       " & noname \\leq 0.0\\\\\n",
       "\\end{alignat*}\n",
       " $$"
      ],
      "text/plain": [
       "A JuMP Model\n",
       "Maximization problem with:\n",
       "Variables: 29\n",
       "Objective function type: GenericAffExpr{Float64,VariableRef}\n",
       "`GenericAffExpr{Float64,VariableRef}`-in-`MathOptInterface.EqualTo{Float64}`: 9 constraints\n",
       "`VariableRef`-in-`MathOptInterface.GreaterThan{Float64}`: 3 constraints\n",
       "`VariableRef`-in-`MathOptInterface.LessThan{Float64}`: 26 constraints\n",
       "Model mode: AUTOMATIC\n",
       "CachingOptimizer state: NO_OPTIMIZER\n",
       "Solver name: No optimizer attached."
      ]
     },
     "execution_count": 147,
     "metadata": {},
     "output_type": "execute_result"
    }
   ],
   "source": [
    "dual_model = dualize(m)"
   ]
  },
  {
   "cell_type": "code",
   "execution_count": 32,
   "id": "f584b763",
   "metadata": {},
   "outputs": [
    {
     "name": "stdout",
     "output_type": "stream",
     "text": [
      "Academic license - for non-commercial use only - expires 2022-07-20\n",
      "Gurobi Optimizer version 9.1.1 build v9.1.1rc0 (mac64)\n",
      "Thread count: 6 physical cores, 12 logical processors, using up to 12 threads\n",
      "Optimize a model with 210 rows, 60 columns and 400 nonzeros\n",
      "Model fingerprint: 0xc48ab349\n",
      "Coefficient statistics:\n",
      "  Matrix range     [2e-03, 1e+00]\n",
      "  Objective range  [1e+00, 1e+00]\n",
      "  Bounds range     [0e+00, 0e+00]\n",
      "  RHS range        [1e-02, 8e-01]\n",
      "Presolve removed 210 rows and 60 columns\n",
      "Presolve time: 0.00s\n",
      "Presolve: All rows and columns removed\n",
      "Iteration    Objective       Primal Inf.    Dual Inf.      Time\n",
      "       0    5.2475641e+00   0.000000e+00   0.000000e+00      0s\n",
      "\n",
      "Solved in 0 iterations and 0.00 seconds\n",
      "Optimal objective  5.247564085e+00\n",
      "\n",
      "User-callback calls 31, time in user-callback 0.00 sec\n"
     ]
    },
    {
     "data": {
      "text/plain": [
       "10×5 Array{Float64,2}:\n",
       " 0.0525981  0.584418  0.534952  0.231315  0.466786\n",
       " 0.0525981  0.584418  0.534952  0.231315  0.466786\n",
       " 0.0525981  0.584418  0.534952  0.231315  0.466786\n",
       " 0.0525981  0.584418  0.534952  0.231315  0.466786\n",
       " 0.0525981  0.584418  0.534952  0.231315  0.466786\n",
       " 0.0525981  0.584418  0.534952  0.231315  0.466786\n",
       " 0.0525981  0.584418  0.534952  0.231315  0.466786\n",
       " 0.0525981  0.584418  0.534952  0.231315  0.466786\n",
       " 0.0525981  0.584418  0.534952  0.231315  0.466786\n",
       " 0.0525981  0.584418  0.534952  0.231315  0.466786"
      ]
     },
     "execution_count": 32,
     "metadata": {},
     "output_type": "execute_result"
    }
   ],
   "source": [
    "beta = inner_primal_infinity(X,y,beta_0,epsilon,delta)"
   ]
  },
  {
   "cell_type": "code",
   "execution_count": null,
   "id": "02c52e35",
   "metadata": {},
   "outputs": [],
   "source": [
    "function l1_regression(X, y, rho)\n",
    "    # number of observations\n",
    "    n = nrow(X)\n",
    "    # number of estimators\n",
    "    m = ncol(X)\n",
    "    \n",
    "    # big M constant. Note big M should be small for l0 to work properly\n",
    "    M = 25\n",
    "    \n",
    "    # convert input data frames to matrix/vector\n",
    "    y_vector = convert(Matrix, y[:,:])\n",
    "    X_matrix = convert(Matrix, X[:,:])\n",
    "    \n",
    "    # build model\n",
    "    model = Model(with_optimizer(Gurobi.Optimizer))\n",
    "    ##### Load Packagesset_optimizer_attribute(model, \"OutputFlag\", 0)\n",
    "    # insert variables and constraints\n",
    "    @variable(model,beta[i=1:m])\n",
    "    @variable(model,z[i=1:m]>=0)\n",
    "    @variable(model,u[i=1:n]>=0)\n",
    "    @variable(model, sse>=0)\n",
    "    @constraint(model,[i=1:m], beta[i]<=z[i])\n",
    "    @constraint(model,[i=1:m], beta[i]>=-z[i])\n",
    "    @constraint(model,[i=1:n],y_vector[i]-dot(X_matrix[i,:],beta)<=u[i])\n",
    "    @constraint(model,[i=1:n],-y_vector[i]+dot(X_matrix[i,:],beta)<=u[i])\n",
    "    @constraint(model, sum(u) <= sse)\n",
    "    @objective(model,Min, sse + rho*sum(z[i] for i=1:m))\n",
    "    \n",
    "    # optimize\n",
    "    optimize!(model);\n",
    "    \n",
    "    z_here = getvalue.(z)\n",
    "    b_here = getvalue.(beta)\n",
    "    # return estimated betas\n",
    "    return (getvalue.(beta))\n",
    "end"
   ]
  }
 ],
 "metadata": {
  "kernelspec": {
   "display_name": "Julia 1.5.3",
   "language": "julia",
   "name": "julia-1.5"
  },
  "language_info": {
   "file_extension": ".jl",
   "mimetype": "application/julia",
   "name": "julia",
   "version": "1.5.3"
  }
 },
 "nbformat": 4,
 "nbformat_minor": 5
}
